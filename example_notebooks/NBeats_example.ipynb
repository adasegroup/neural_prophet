{
 "cells": [
  {
   "cell_type": "markdown",
   "id": "19a706fb",
   "metadata": {},
   "source": [
    "[![Open In Colab](https://colab.research.google.com/assets/colab-badge.svg)](https://colab.research.google.com/github/ourownstory/neural_prophet/blob/master/example_notebooks/autoregression_yosemite_temps.ipynb)"
   ]
  },
  {
   "cell_type": "markdown",
   "id": "1c490ae1",
   "metadata": {},
   "source": [
    "# NBeats\n",
    "\n",
    "This is a NBeats model module usage example. We implemented this model under the same API as NeuralProphet, for easy comparison of the results of NeuralProphet and SOTA models\n",
    "\n",
    "We used as the base the implementation of NBeats from Pytorch Forecasting library. The model parameters are inherited automatically from the dataset structure, if from_dataset is set to True\n",
    "For more detail on hyperparameters, please follow https://github.com/jdb78/pytorch-forecasting/blob/master/pytorch_forecasting/models/nbeats/__init__.py"
   ]
  },
  {
   "cell_type": "code",
   "execution_count": null,
   "id": "56fd9266",
   "metadata": {},
   "outputs": [],
   "source": [
    "# install NeuralProphet from our repository\n",
    "!pip install git+https://github.com/adasegroup/neural_prophet.git # may take a while"
   ]
  },
  {
   "cell_type": "code",
   "execution_count": 1,
   "id": "d60894ef",
   "metadata": {},
   "outputs": [],
   "source": [
    "%load_ext autoreload\n",
    "%autoreload 2"
   ]
  },
  {
   "cell_type": "code",
   "execution_count": 2,
   "id": "6a643a45",
   "metadata": {},
   "outputs": [],
   "source": [
    "from neuralprophet import NBeats\n",
    "import pandas as pd"
   ]
  },
  {
   "cell_type": "code",
   "execution_count": 3,
   "id": "6aef14c6",
   "metadata": {},
   "outputs": [],
   "source": [
    "if 'google.colab' in str(get_ipython()):\n",
    "    data_location = \"https://raw.githubusercontent.com/adasegroup/neural_prophet/master/\"\n",
    "else:\n",
    "    data_location = \"../\"\n",
    "\n",
    "df = pd.read_csv(data_location + \"example_data/yosemite_temps.csv\")\n",
    "df.head(3)\n",
    "freq = '5min'\n",
    "\n",
    "df = df.iloc[:1000]"
   ]
  },
  {
   "cell_type": "code",
   "execution_count": 22,
   "id": "4910b4ec",
   "metadata": {},
   "outputs": [],
   "source": [
    "m = NBeats(\n",
    "        context_length = 150,\n",
    "        prediction_length = 1,\n",
    "        batch_size = None,\n",
    "        epochs = 100,\n",
    "        num_gpus = 0,\n",
    "        patience_early_stopping = 10,\n",
    "        early_stop = True,\n",
    "        weight_decay=1e-2,\n",
    "        learning_rate=3e-2,\n",
    "        auto_lr_find=False,\n",
    "        num_workers=3,\n",
    "    )"
   ]
  },
  {
   "cell_type": "code",
   "execution_count": 23,
   "id": "c18a05b0",
   "metadata": {},
   "outputs": [
    {
     "name": "stderr",
     "output_type": "stream",
     "text": [
      "WARNING - (py.warnings._showwarnmsg) - /Users/polina/.conda/envs/neural_prophet/lib/python3.7/site-packages/pandas/core/indexing.py:1676: SettingWithCopyWarning: \n",
      "A value is trying to be set on a copy of a slice from a DataFrame.\n",
      "Try using .loc[row_indexer,col_indexer] = value instead\n",
      "\n",
      "See the caveats in the documentation: https://pandas.pydata.org/pandas-docs/stable/user_guide/indexing.html#returning-a-view-versus-a-copy\n",
      "  self._setitem_single_column(ilocs[0], value, pi)\n",
      "\n",
      "GPU available: False, used: False\n",
      "TPU available: False, using: 0 TPU cores\n",
      "\n",
      "  | Name            | Type       | Params\n",
      "-----------------------------------------------\n",
      "0 | loss            | MASE       | 0     \n",
      "1 | logging_metrics | ModuleList | 0     \n",
      "2 | net_blocks      | ModuleList | 1.8 M \n",
      "-----------------------------------------------\n",
      "1.8 M     Trainable params\n",
      "0         Non-trainable params\n",
      "1.8 M     Total params\n",
      "7.322     Total estimated model params size (MB)\n"
     ]
    },
    {
     "data": {
      "application/vnd.jupyter.widget-view+json": {
       "model_id": "a2bf482ab6f24d2cb88fa2d8744c449d",
       "version_major": 2,
       "version_minor": 0
      },
      "text/plain": [
       "Training: 0it [00:00, ?it/s]"
      ]
     },
     "metadata": {},
     "output_type": "display_data"
    },
    {
     "data": {
      "application/vnd.jupyter.widget-view+json": {
       "model_id": "",
       "version_major": 2,
       "version_minor": 0
      },
      "text/plain": [
       "Validating: 0it [00:00, ?it/s]"
      ]
     },
     "metadata": {},
     "output_type": "display_data"
    },
    {
     "data": {
      "application/vnd.jupyter.widget-view+json": {
       "model_id": "",
       "version_major": 2,
       "version_minor": 0
      },
      "text/plain": [
       "Validating: 0it [00:00, ?it/s]"
      ]
     },
     "metadata": {},
     "output_type": "display_data"
    },
    {
     "data": {
      "application/vnd.jupyter.widget-view+json": {
       "model_id": "",
       "version_major": 2,
       "version_minor": 0
      },
      "text/plain": [
       "Validating: 0it [00:00, ?it/s]"
      ]
     },
     "metadata": {},
     "output_type": "display_data"
    },
    {
     "data": {
      "application/vnd.jupyter.widget-view+json": {
       "model_id": "",
       "version_major": 2,
       "version_minor": 0
      },
      "text/plain": [
       "Validating: 0it [00:00, ?it/s]"
      ]
     },
     "metadata": {},
     "output_type": "display_data"
    },
    {
     "data": {
      "application/vnd.jupyter.widget-view+json": {
       "model_id": "",
       "version_major": 2,
       "version_minor": 0
      },
      "text/plain": [
       "Validating: 0it [00:00, ?it/s]"
      ]
     },
     "metadata": {},
     "output_type": "display_data"
    },
    {
     "data": {
      "application/vnd.jupyter.widget-view+json": {
       "model_id": "",
       "version_major": 2,
       "version_minor": 0
      },
      "text/plain": [
       "Validating: 0it [00:00, ?it/s]"
      ]
     },
     "metadata": {},
     "output_type": "display_data"
    },
    {
     "data": {
      "application/vnd.jupyter.widget-view+json": {
       "model_id": "",
       "version_major": 2,
       "version_minor": 0
      },
      "text/plain": [
       "Validating: 0it [00:00, ?it/s]"
      ]
     },
     "metadata": {},
     "output_type": "display_data"
    },
    {
     "data": {
      "application/vnd.jupyter.widget-view+json": {
       "model_id": "",
       "version_major": 2,
       "version_minor": 0
      },
      "text/plain": [
       "Validating: 0it [00:00, ?it/s]"
      ]
     },
     "metadata": {},
     "output_type": "display_data"
    },
    {
     "data": {
      "application/vnd.jupyter.widget-view+json": {
       "model_id": "",
       "version_major": 2,
       "version_minor": 0
      },
      "text/plain": [
       "Validating: 0it [00:00, ?it/s]"
      ]
     },
     "metadata": {},
     "output_type": "display_data"
    },
    {
     "data": {
      "application/vnd.jupyter.widget-view+json": {
       "model_id": "",
       "version_major": 2,
       "version_minor": 0
      },
      "text/plain": [
       "Validating: 0it [00:00, ?it/s]"
      ]
     },
     "metadata": {},
     "output_type": "display_data"
    },
    {
     "data": {
      "application/vnd.jupyter.widget-view+json": {
       "model_id": "",
       "version_major": 2,
       "version_minor": 0
      },
      "text/plain": [
       "Validating: 0it [00:00, ?it/s]"
      ]
     },
     "metadata": {},
     "output_type": "display_data"
    },
    {
     "data": {
      "application/vnd.jupyter.widget-view+json": {
       "model_id": "",
       "version_major": 2,
       "version_minor": 0
      },
      "text/plain": [
       "Validating: 0it [00:00, ?it/s]"
      ]
     },
     "metadata": {},
     "output_type": "display_data"
    },
    {
     "data": {
      "application/vnd.jupyter.widget-view+json": {
       "model_id": "",
       "version_major": 2,
       "version_minor": 0
      },
      "text/plain": [
       "Validating: 0it [00:00, ?it/s]"
      ]
     },
     "metadata": {},
     "output_type": "display_data"
    },
    {
     "data": {
      "application/vnd.jupyter.widget-view+json": {
       "model_id": "",
       "version_major": 2,
       "version_minor": 0
      },
      "text/plain": [
       "Validating: 0it [00:00, ?it/s]"
      ]
     },
     "metadata": {},
     "output_type": "display_data"
    },
    {
     "data": {
      "application/vnd.jupyter.widget-view+json": {
       "model_id": "",
       "version_major": 2,
       "version_minor": 0
      },
      "text/plain": [
       "Validating: 0it [00:00, ?it/s]"
      ]
     },
     "metadata": {},
     "output_type": "display_data"
    },
    {
     "data": {
      "application/vnd.jupyter.widget-view+json": {
       "model_id": "",
       "version_major": 2,
       "version_minor": 0
      },
      "text/plain": [
       "Validating: 0it [00:00, ?it/s]"
      ]
     },
     "metadata": {},
     "output_type": "display_data"
    },
    {
     "data": {
      "application/vnd.jupyter.widget-view+json": {
       "model_id": "",
       "version_major": 2,
       "version_minor": 0
      },
      "text/plain": [
       "Validating: 0it [00:00, ?it/s]"
      ]
     },
     "metadata": {},
     "output_type": "display_data"
    },
    {
     "data": {
      "application/vnd.jupyter.widget-view+json": {
       "model_id": "",
       "version_major": 2,
       "version_minor": 0
      },
      "text/plain": [
       "Validating: 0it [00:00, ?it/s]"
      ]
     },
     "metadata": {},
     "output_type": "display_data"
    },
    {
     "data": {
      "application/vnd.jupyter.widget-view+json": {
       "model_id": "",
       "version_major": 2,
       "version_minor": 0
      },
      "text/plain": [
       "Validating: 0it [00:00, ?it/s]"
      ]
     },
     "metadata": {},
     "output_type": "display_data"
    },
    {
     "data": {
      "application/vnd.jupyter.widget-view+json": {
       "model_id": "",
       "version_major": 2,
       "version_minor": 0
      },
      "text/plain": [
       "Validating: 0it [00:00, ?it/s]"
      ]
     },
     "metadata": {},
     "output_type": "display_data"
    },
    {
     "data": {
      "application/vnd.jupyter.widget-view+json": {
       "model_id": "",
       "version_major": 2,
       "version_minor": 0
      },
      "text/plain": [
       "Validating: 0it [00:00, ?it/s]"
      ]
     },
     "metadata": {},
     "output_type": "display_data"
    },
    {
     "data": {
      "application/vnd.jupyter.widget-view+json": {
       "model_id": "",
       "version_major": 2,
       "version_minor": 0
      },
      "text/plain": [
       "Validating: 0it [00:00, ?it/s]"
      ]
     },
     "metadata": {},
     "output_type": "display_data"
    },
    {
     "data": {
      "application/vnd.jupyter.widget-view+json": {
       "model_id": "",
       "version_major": 2,
       "version_minor": 0
      },
      "text/plain": [
       "Validating: 0it [00:00, ?it/s]"
      ]
     },
     "metadata": {},
     "output_type": "display_data"
    },
    {
     "data": {
      "application/vnd.jupyter.widget-view+json": {
       "model_id": "",
       "version_major": 2,
       "version_minor": 0
      },
      "text/plain": [
       "Validating: 0it [00:00, ?it/s]"
      ]
     },
     "metadata": {},
     "output_type": "display_data"
    },
    {
     "data": {
      "application/vnd.jupyter.widget-view+json": {
       "model_id": "",
       "version_major": 2,
       "version_minor": 0
      },
      "text/plain": [
       "Validating: 0it [00:00, ?it/s]"
      ]
     },
     "metadata": {},
     "output_type": "display_data"
    },
    {
     "data": {
      "application/vnd.jupyter.widget-view+json": {
       "model_id": "",
       "version_major": 2,
       "version_minor": 0
      },
      "text/plain": [
       "Validating: 0it [00:00, ?it/s]"
      ]
     },
     "metadata": {},
     "output_type": "display_data"
    },
    {
     "data": {
      "application/vnd.jupyter.widget-view+json": {
       "model_id": "",
       "version_major": 2,
       "version_minor": 0
      },
      "text/plain": [
       "Validating: 0it [00:00, ?it/s]"
      ]
     },
     "metadata": {},
     "output_type": "display_data"
    },
    {
     "data": {
      "text/html": [
       "<div>\n",
       "<style scoped>\n",
       "    .dataframe tbody tr th:only-of-type {\n",
       "        vertical-align: middle;\n",
       "    }\n",
       "\n",
       "    .dataframe tbody tr th {\n",
       "        vertical-align: top;\n",
       "    }\n",
       "\n",
       "    .dataframe thead th {\n",
       "        text-align: right;\n",
       "    }\n",
       "</style>\n",
       "<table border=\"1\" class=\"dataframe\">\n",
       "  <thead>\n",
       "    <tr style=\"text-align: right;\">\n",
       "      <th></th>\n",
       "      <th>SmoothL1Loss</th>\n",
       "      <th>MAE</th>\n",
       "      <th>MSE</th>\n",
       "      <th>SmoothL1Loss_val</th>\n",
       "      <th>MAE_val</th>\n",
       "      <th>MSE_val</th>\n",
       "    </tr>\n",
       "  </thead>\n",
       "  <tbody>\n",
       "    <tr>\n",
       "      <th>0</th>\n",
       "      <td>5.928891</td>\n",
       "      <td>6.401394</td>\n",
       "      <td>76.606070</td>\n",
       "      <td>0.377402</td>\n",
       "      <td>0.747381</td>\n",
       "      <td>0.838477</td>\n",
       "    </tr>\n",
       "    <tr>\n",
       "      <th>1</th>\n",
       "      <td>1.325239</td>\n",
       "      <td>1.751352</td>\n",
       "      <td>5.708515</td>\n",
       "      <td>2.982026</td>\n",
       "      <td>3.475647</td>\n",
       "      <td>15.159767</td>\n",
       "    </tr>\n",
       "    <tr>\n",
       "      <th>2</th>\n",
       "      <td>0.844825</td>\n",
       "      <td>1.242072</td>\n",
       "      <td>2.923574</td>\n",
       "      <td>1.472369</td>\n",
       "      <td>1.909160</td>\n",
       "      <td>5.960487</td>\n",
       "    </tr>\n",
       "    <tr>\n",
       "      <th>3</th>\n",
       "      <td>0.734888</td>\n",
       "      <td>1.128482</td>\n",
       "      <td>2.202871</td>\n",
       "      <td>1.137125</td>\n",
       "      <td>1.597976</td>\n",
       "      <td>3.430192</td>\n",
       "    </tr>\n",
       "    <tr>\n",
       "      <th>4</th>\n",
       "      <td>0.512126</td>\n",
       "      <td>0.879700</td>\n",
       "      <td>1.377452</td>\n",
       "      <td>1.248628</td>\n",
       "      <td>1.700619</td>\n",
       "      <td>4.259666</td>\n",
       "    </tr>\n",
       "    <tr>\n",
       "      <th>5</th>\n",
       "      <td>0.429100</td>\n",
       "      <td>0.791817</td>\n",
       "      <td>1.078894</td>\n",
       "      <td>0.352501</td>\n",
       "      <td>0.727514</td>\n",
       "      <td>0.768277</td>\n",
       "    </tr>\n",
       "    <tr>\n",
       "      <th>6</th>\n",
       "      <td>0.348196</td>\n",
       "      <td>0.691017</td>\n",
       "      <td>0.822272</td>\n",
       "      <td>0.148697</td>\n",
       "      <td>0.423123</td>\n",
       "      <td>0.322995</td>\n",
       "    </tr>\n",
       "    <tr>\n",
       "      <th>7</th>\n",
       "      <td>0.393096</td>\n",
       "      <td>0.743984</td>\n",
       "      <td>1.009167</td>\n",
       "      <td>0.458252</td>\n",
       "      <td>0.868838</td>\n",
       "      <td>0.997122</td>\n",
       "    </tr>\n",
       "    <tr>\n",
       "      <th>8</th>\n",
       "      <td>0.361069</td>\n",
       "      <td>0.698517</td>\n",
       "      <td>0.930785</td>\n",
       "      <td>0.234914</td>\n",
       "      <td>0.562123</td>\n",
       "      <td>0.498551</td>\n",
       "    </tr>\n",
       "    <tr>\n",
       "      <th>9</th>\n",
       "      <td>0.341528</td>\n",
       "      <td>0.679383</td>\n",
       "      <td>0.837525</td>\n",
       "      <td>0.110110</td>\n",
       "      <td>0.376683</td>\n",
       "      <td>0.230610</td>\n",
       "    </tr>\n",
       "    <tr>\n",
       "      <th>10</th>\n",
       "      <td>0.319635</td>\n",
       "      <td>0.630494</td>\n",
       "      <td>0.837124</td>\n",
       "      <td>0.473399</td>\n",
       "      <td>0.841078</td>\n",
       "      <td>1.071006</td>\n",
       "    </tr>\n",
       "    <tr>\n",
       "      <th>11</th>\n",
       "      <td>0.356516</td>\n",
       "      <td>0.675336</td>\n",
       "      <td>0.927584</td>\n",
       "      <td>0.187558</td>\n",
       "      <td>0.509984</td>\n",
       "      <td>0.379669</td>\n",
       "    </tr>\n",
       "    <tr>\n",
       "      <th>12</th>\n",
       "      <td>0.265430</td>\n",
       "      <td>0.579611</td>\n",
       "      <td>0.643173</td>\n",
       "      <td>0.212691</td>\n",
       "      <td>0.501729</td>\n",
       "      <td>0.469783</td>\n",
       "    </tr>\n",
       "    <tr>\n",
       "      <th>13</th>\n",
       "      <td>0.240476</td>\n",
       "      <td>0.546524</td>\n",
       "      <td>0.545194</td>\n",
       "      <td>0.267822</td>\n",
       "      <td>0.649282</td>\n",
       "      <td>0.556791</td>\n",
       "    </tr>\n",
       "    <tr>\n",
       "      <th>14</th>\n",
       "      <td>0.258416</td>\n",
       "      <td>0.564463</td>\n",
       "      <td>0.593734</td>\n",
       "      <td>0.231118</td>\n",
       "      <td>0.527162</td>\n",
       "      <td>0.529715</td>\n",
       "    </tr>\n",
       "    <tr>\n",
       "      <th>15</th>\n",
       "      <td>0.501007</td>\n",
       "      <td>0.836674</td>\n",
       "      <td>1.605769</td>\n",
       "      <td>0.312192</td>\n",
       "      <td>0.621771</td>\n",
       "      <td>0.719371</td>\n",
       "    </tr>\n",
       "    <tr>\n",
       "      <th>16</th>\n",
       "      <td>0.359940</td>\n",
       "      <td>0.684285</td>\n",
       "      <td>0.955757</td>\n",
       "      <td>0.103047</td>\n",
       "      <td>0.379115</td>\n",
       "      <td>0.206102</td>\n",
       "    </tr>\n",
       "    <tr>\n",
       "      <th>17</th>\n",
       "      <td>0.393716</td>\n",
       "      <td>0.729091</td>\n",
       "      <td>1.119303</td>\n",
       "      <td>0.213984</td>\n",
       "      <td>0.530525</td>\n",
       "      <td>0.442968</td>\n",
       "    </tr>\n",
       "    <tr>\n",
       "      <th>18</th>\n",
       "      <td>0.293881</td>\n",
       "      <td>0.612060</td>\n",
       "      <td>0.749929</td>\n",
       "      <td>0.270216</td>\n",
       "      <td>0.619778</td>\n",
       "      <td>0.629174</td>\n",
       "    </tr>\n",
       "    <tr>\n",
       "      <th>19</th>\n",
       "      <td>0.369335</td>\n",
       "      <td>0.693089</td>\n",
       "      <td>0.988287</td>\n",
       "      <td>0.218725</td>\n",
       "      <td>0.565719</td>\n",
       "      <td>0.453334</td>\n",
       "    </tr>\n",
       "    <tr>\n",
       "      <th>20</th>\n",
       "      <td>0.425785</td>\n",
       "      <td>0.767890</td>\n",
       "      <td>1.179551</td>\n",
       "      <td>0.164192</td>\n",
       "      <td>0.432099</td>\n",
       "      <td>0.367218</td>\n",
       "    </tr>\n",
       "    <tr>\n",
       "      <th>21</th>\n",
       "      <td>0.288146</td>\n",
       "      <td>0.600150</td>\n",
       "      <td>0.719780</td>\n",
       "      <td>0.276940</td>\n",
       "      <td>0.651875</td>\n",
       "      <td>0.589866</td>\n",
       "    </tr>\n",
       "    <tr>\n",
       "      <th>22</th>\n",
       "      <td>0.254891</td>\n",
       "      <td>0.560268</td>\n",
       "      <td>0.615047</td>\n",
       "      <td>0.308640</td>\n",
       "      <td>0.626941</td>\n",
       "      <td>0.670880</td>\n",
       "    </tr>\n",
       "    <tr>\n",
       "      <th>23</th>\n",
       "      <td>0.202091</td>\n",
       "      <td>0.502994</td>\n",
       "      <td>0.440267</td>\n",
       "      <td>0.141954</td>\n",
       "      <td>0.432166</td>\n",
       "      <td>0.292814</td>\n",
       "    </tr>\n",
       "    <tr>\n",
       "      <th>24</th>\n",
       "      <td>0.315952</td>\n",
       "      <td>0.626851</td>\n",
       "      <td>0.833978</td>\n",
       "      <td>0.563629</td>\n",
       "      <td>1.018113</td>\n",
       "      <td>1.259740</td>\n",
       "    </tr>\n",
       "    <tr>\n",
       "      <th>25</th>\n",
       "      <td>0.343572</td>\n",
       "      <td>0.664061</td>\n",
       "      <td>0.968573</td>\n",
       "      <td>0.369589</td>\n",
       "      <td>0.724919</td>\n",
       "      <td>0.815039</td>\n",
       "    </tr>\n",
       "    <tr>\n",
       "      <th>26</th>\n",
       "      <td>0.293956</td>\n",
       "      <td>0.604176</td>\n",
       "      <td>0.746237</td>\n",
       "      <td>0.201777</td>\n",
       "      <td>0.481401</td>\n",
       "      <td>0.447808</td>\n",
       "    </tr>\n",
       "  </tbody>\n",
       "</table>\n",
       "</div>"
      ],
      "text/plain": [
       "    SmoothL1Loss       MAE        MSE  SmoothL1Loss_val   MAE_val    MSE_val\n",
       "0       5.928891  6.401394  76.606070          0.377402  0.747381   0.838477\n",
       "1       1.325239  1.751352   5.708515          2.982026  3.475647  15.159767\n",
       "2       0.844825  1.242072   2.923574          1.472369  1.909160   5.960487\n",
       "3       0.734888  1.128482   2.202871          1.137125  1.597976   3.430192\n",
       "4       0.512126  0.879700   1.377452          1.248628  1.700619   4.259666\n",
       "5       0.429100  0.791817   1.078894          0.352501  0.727514   0.768277\n",
       "6       0.348196  0.691017   0.822272          0.148697  0.423123   0.322995\n",
       "7       0.393096  0.743984   1.009167          0.458252  0.868838   0.997122\n",
       "8       0.361069  0.698517   0.930785          0.234914  0.562123   0.498551\n",
       "9       0.341528  0.679383   0.837525          0.110110  0.376683   0.230610\n",
       "10      0.319635  0.630494   0.837124          0.473399  0.841078   1.071006\n",
       "11      0.356516  0.675336   0.927584          0.187558  0.509984   0.379669\n",
       "12      0.265430  0.579611   0.643173          0.212691  0.501729   0.469783\n",
       "13      0.240476  0.546524   0.545194          0.267822  0.649282   0.556791\n",
       "14      0.258416  0.564463   0.593734          0.231118  0.527162   0.529715\n",
       "15      0.501007  0.836674   1.605769          0.312192  0.621771   0.719371\n",
       "16      0.359940  0.684285   0.955757          0.103047  0.379115   0.206102\n",
       "17      0.393716  0.729091   1.119303          0.213984  0.530525   0.442968\n",
       "18      0.293881  0.612060   0.749929          0.270216  0.619778   0.629174\n",
       "19      0.369335  0.693089   0.988287          0.218725  0.565719   0.453334\n",
       "20      0.425785  0.767890   1.179551          0.164192  0.432099   0.367218\n",
       "21      0.288146  0.600150   0.719780          0.276940  0.651875   0.589866\n",
       "22      0.254891  0.560268   0.615047          0.308640  0.626941   0.670880\n",
       "23      0.202091  0.502994   0.440267          0.141954  0.432166   0.292814\n",
       "24      0.315952  0.626851   0.833978          0.563629  1.018113   1.259740\n",
       "25      0.343572  0.664061   0.968573          0.369589  0.724919   0.815039\n",
       "26      0.293956  0.604176   0.746237          0.201777  0.481401   0.447808"
      ]
     },
     "execution_count": 23,
     "metadata": {},
     "output_type": "execute_result"
    }
   ],
   "source": [
    "m.fit(df.iloc[:-10], freq = freq)"
   ]
  },
  {
   "cell_type": "code",
   "execution_count": 40,
   "id": "68e5d418",
   "metadata": {},
   "outputs": [
    {
     "name": "stdout",
     "output_type": "stream",
     "text": [
      "                     ds    y  time_idx  series\n",
      "750 2017-05-03 14:30:00  7.1       750       0\n",
      "751 2017-05-03 14:35:00  7.5       751       0\n",
      "752 2017-05-03 14:40:00  7.7       752       0\n",
      "753 2017-05-03 14:45:00  7.8       753       0\n",
      "754 2017-05-03 14:50:00  8.2       754       0\n",
      "..                  ...  ...       ...     ...\n",
      "995 2017-05-04 10:55:00  8.3       995       0\n",
      "996 2017-05-04 11:00:00  8.2       996       0\n",
      "997 2017-05-04 11:05:00  8.2       997       0\n",
      "998 2017-05-04 11:10:00  8.2       998       0\n",
      "999 2017-05-04 11:15:00  8.1       999       0\n",
      "\n",
      "[250 rows x 4 columns] 5\n"
     ]
    }
   ],
   "source": [
    "future = m.make_future_dataframe(df, freq, periods=5, n_historic_predictions=100)"
   ]
  },
  {
   "cell_type": "code",
   "execution_count": null,
   "id": "bb05e75b",
   "metadata": {},
   "outputs": [],
   "source": []
  },
  {
   "cell_type": "code",
   "execution_count": 39,
   "id": "a7a68499",
   "metadata": {},
   "outputs": [
    {
     "data": {
      "text/html": [
       "<div>\n",
       "<style scoped>\n",
       "    .dataframe tbody tr th:only-of-type {\n",
       "        vertical-align: middle;\n",
       "    }\n",
       "\n",
       "    .dataframe tbody tr th {\n",
       "        vertical-align: top;\n",
       "    }\n",
       "\n",
       "    .dataframe thead th {\n",
       "        text-align: right;\n",
       "    }\n",
       "</style>\n",
       "<table border=\"1\" class=\"dataframe\">\n",
       "  <thead>\n",
       "    <tr style=\"text-align: right;\">\n",
       "      <th></th>\n",
       "      <th>ds</th>\n",
       "      <th>y</th>\n",
       "      <th>time_idx</th>\n",
       "      <th>series</th>\n",
       "    </tr>\n",
       "  </thead>\n",
       "  <tbody>\n",
       "    <tr>\n",
       "      <th>0</th>\n",
       "      <td>2017-05-03 14:30:00</td>\n",
       "      <td>7.1</td>\n",
       "      <td>750</td>\n",
       "      <td>0</td>\n",
       "    </tr>\n",
       "    <tr>\n",
       "      <th>1</th>\n",
       "      <td>2017-05-03 14:35:00</td>\n",
       "      <td>7.5</td>\n",
       "      <td>751</td>\n",
       "      <td>0</td>\n",
       "    </tr>\n",
       "    <tr>\n",
       "      <th>2</th>\n",
       "      <td>2017-05-03 14:40:00</td>\n",
       "      <td>7.7</td>\n",
       "      <td>752</td>\n",
       "      <td>0</td>\n",
       "    </tr>\n",
       "    <tr>\n",
       "      <th>3</th>\n",
       "      <td>2017-05-03 14:45:00</td>\n",
       "      <td>7.8</td>\n",
       "      <td>753</td>\n",
       "      <td>0</td>\n",
       "    </tr>\n",
       "    <tr>\n",
       "      <th>4</th>\n",
       "      <td>2017-05-03 14:50:00</td>\n",
       "      <td>8.2</td>\n",
       "      <td>754</td>\n",
       "      <td>0</td>\n",
       "    </tr>\n",
       "    <tr>\n",
       "      <th>...</th>\n",
       "      <td>...</td>\n",
       "      <td>...</td>\n",
       "      <td>...</td>\n",
       "      <td>...</td>\n",
       "    </tr>\n",
       "    <tr>\n",
       "      <th>250</th>\n",
       "      <td>2017-05-04 11:20:00</td>\n",
       "      <td>8.1</td>\n",
       "      <td>1000</td>\n",
       "      <td>0</td>\n",
       "    </tr>\n",
       "    <tr>\n",
       "      <th>251</th>\n",
       "      <td>2017-05-04 11:25:00</td>\n",
       "      <td>8.1</td>\n",
       "      <td>1001</td>\n",
       "      <td>0</td>\n",
       "    </tr>\n",
       "    <tr>\n",
       "      <th>252</th>\n",
       "      <td>2017-05-04 11:30:00</td>\n",
       "      <td>8.1</td>\n",
       "      <td>1002</td>\n",
       "      <td>0</td>\n",
       "    </tr>\n",
       "    <tr>\n",
       "      <th>253</th>\n",
       "      <td>2017-05-04 11:35:00</td>\n",
       "      <td>8.1</td>\n",
       "      <td>1003</td>\n",
       "      <td>0</td>\n",
       "    </tr>\n",
       "    <tr>\n",
       "      <th>254</th>\n",
       "      <td>2017-05-04 11:40:00</td>\n",
       "      <td>8.1</td>\n",
       "      <td>1004</td>\n",
       "      <td>0</td>\n",
       "    </tr>\n",
       "  </tbody>\n",
       "</table>\n",
       "<p>255 rows × 4 columns</p>\n",
       "</div>"
      ],
      "text/plain": [
       "                     ds    y  time_idx  series\n",
       "0   2017-05-03 14:30:00  7.1       750       0\n",
       "1   2017-05-03 14:35:00  7.5       751       0\n",
       "2   2017-05-03 14:40:00  7.7       752       0\n",
       "3   2017-05-03 14:45:00  7.8       753       0\n",
       "4   2017-05-03 14:50:00  8.2       754       0\n",
       "..                  ...  ...       ...     ...\n",
       "250 2017-05-04 11:20:00  8.1      1000       0\n",
       "251 2017-05-04 11:25:00  8.1      1001       0\n",
       "252 2017-05-04 11:30:00  8.1      1002       0\n",
       "253 2017-05-04 11:35:00  8.1      1003       0\n",
       "254 2017-05-04 11:40:00  8.1      1004       0\n",
       "\n",
       "[255 rows x 4 columns]"
      ]
     },
     "execution_count": 39,
     "metadata": {},
     "output_type": "execute_result"
    }
   ],
   "source": [
    "future"
   ]
  },
  {
   "cell_type": "code",
   "execution_count": 37,
   "id": "45d65753",
   "metadata": {
    "scrolled": false
   },
   "outputs": [
    {
     "name": "stdout",
     "output_type": "stream",
     "text": [
      "                     ds   y  yhat1\n",
      "0   2017-05-03 14:30:00 NaN    NaN\n",
      "1   2017-05-03 14:35:00 NaN    NaN\n",
      "2   2017-05-03 14:40:00 NaN    NaN\n",
      "3   2017-05-03 14:45:00 NaN    NaN\n",
      "4   2017-05-03 14:50:00 NaN    NaN\n",
      "..                  ...  ..    ...\n",
      "250 2017-05-04 11:20:00 NaN    NaN\n",
      "251 2017-05-04 11:25:00 NaN    NaN\n",
      "252 2017-05-04 11:30:00 NaN    NaN\n",
      "253 2017-05-04 11:35:00 NaN    NaN\n",
      "254 2017-05-04 11:40:00 NaN    NaN\n",
      "\n",
      "[255 rows x 3 columns] []\n"
     ]
    }
   ],
   "source": [
    "forecast = m.predict(future)"
   ]
  },
  {
   "cell_type": "code",
   "execution_count": null,
   "id": "5607bd6b",
   "metadata": {},
   "outputs": [],
   "source": []
  },
  {
   "cell_type": "code",
   "execution_count": null,
   "id": "34cb5cd6",
   "metadata": {},
   "outputs": [],
   "source": []
  },
  {
   "cell_type": "code",
   "execution_count": null,
   "id": "24b713f3",
   "metadata": {},
   "outputs": [],
   "source": []
  },
  {
   "cell_type": "code",
   "execution_count": null,
   "id": "e1feb1b9",
   "metadata": {},
   "outputs": [],
   "source": []
  },
  {
   "cell_type": "code",
   "execution_count": 34,
   "id": "fd49dfd8",
   "metadata": {},
   "outputs": [
    {
     "data": {
      "text/html": [
       "<div>\n",
       "<style scoped>\n",
       "    .dataframe tbody tr th:only-of-type {\n",
       "        vertical-align: middle;\n",
       "    }\n",
       "\n",
       "    .dataframe tbody tr th {\n",
       "        vertical-align: top;\n",
       "    }\n",
       "\n",
       "    .dataframe thead th {\n",
       "        text-align: right;\n",
       "    }\n",
       "</style>\n",
       "<table border=\"1\" class=\"dataframe\">\n",
       "  <thead>\n",
       "    <tr style=\"text-align: right;\">\n",
       "      <th></th>\n",
       "      <th>ds</th>\n",
       "      <th>y</th>\n",
       "      <th>yhat1</th>\n",
       "      <th>residual1</th>\n",
       "    </tr>\n",
       "  </thead>\n",
       "  <tbody>\n",
       "    <tr>\n",
       "      <th>0</th>\n",
       "      <td>2017-05-03 14:30:00</td>\n",
       "      <td>7.1</td>\n",
       "      <td>None</td>\n",
       "      <td>None</td>\n",
       "    </tr>\n",
       "    <tr>\n",
       "      <th>1</th>\n",
       "      <td>2017-05-03 14:35:00</td>\n",
       "      <td>7.5</td>\n",
       "      <td>None</td>\n",
       "      <td>None</td>\n",
       "    </tr>\n",
       "    <tr>\n",
       "      <th>2</th>\n",
       "      <td>2017-05-03 14:40:00</td>\n",
       "      <td>7.7</td>\n",
       "      <td>None</td>\n",
       "      <td>None</td>\n",
       "    </tr>\n",
       "    <tr>\n",
       "      <th>3</th>\n",
       "      <td>2017-05-03 14:45:00</td>\n",
       "      <td>7.8</td>\n",
       "      <td>None</td>\n",
       "      <td>None</td>\n",
       "    </tr>\n",
       "    <tr>\n",
       "      <th>4</th>\n",
       "      <td>2017-05-03 14:50:00</td>\n",
       "      <td>8.2</td>\n",
       "      <td>None</td>\n",
       "      <td>None</td>\n",
       "    </tr>\n",
       "    <tr>\n",
       "      <th>...</th>\n",
       "      <td>...</td>\n",
       "      <td>...</td>\n",
       "      <td>...</td>\n",
       "      <td>...</td>\n",
       "    </tr>\n",
       "    <tr>\n",
       "      <th>250</th>\n",
       "      <td>2017-05-04 11:20:00</td>\n",
       "      <td>NaN</td>\n",
       "      <td>8.125137</td>\n",
       "      <td>NaN</td>\n",
       "    </tr>\n",
       "    <tr>\n",
       "      <th>251</th>\n",
       "      <td>2017-05-04 11:25:00</td>\n",
       "      <td>NaN</td>\n",
       "      <td>8.072654</td>\n",
       "      <td>NaN</td>\n",
       "    </tr>\n",
       "    <tr>\n",
       "      <th>252</th>\n",
       "      <td>2017-05-04 11:30:00</td>\n",
       "      <td>NaN</td>\n",
       "      <td>8.031872</td>\n",
       "      <td>NaN</td>\n",
       "    </tr>\n",
       "    <tr>\n",
       "      <th>253</th>\n",
       "      <td>2017-05-04 11:35:00</td>\n",
       "      <td>NaN</td>\n",
       "      <td>8.009538</td>\n",
       "      <td>NaN</td>\n",
       "    </tr>\n",
       "    <tr>\n",
       "      <th>254</th>\n",
       "      <td>2017-05-04 11:40:00</td>\n",
       "      <td>NaN</td>\n",
       "      <td>8.011885</td>\n",
       "      <td>NaN</td>\n",
       "    </tr>\n",
       "  </tbody>\n",
       "</table>\n",
       "<p>255 rows × 4 columns</p>\n",
       "</div>"
      ],
      "text/plain": [
       "                     ds    y     yhat1 residual1\n",
       "0   2017-05-03 14:30:00  7.1      None      None\n",
       "1   2017-05-03 14:35:00  7.5      None      None\n",
       "2   2017-05-03 14:40:00  7.7      None      None\n",
       "3   2017-05-03 14:45:00  7.8      None      None\n",
       "4   2017-05-03 14:50:00  8.2      None      None\n",
       "..                  ...  ...       ...       ...\n",
       "250 2017-05-04 11:20:00  NaN  8.125137       NaN\n",
       "251 2017-05-04 11:25:00  NaN  8.072654       NaN\n",
       "252 2017-05-04 11:30:00  NaN  8.031872       NaN\n",
       "253 2017-05-04 11:35:00  NaN  8.009538       NaN\n",
       "254 2017-05-04 11:40:00  NaN  8.011885       NaN\n",
       "\n",
       "[255 rows x 4 columns]"
      ]
     },
     "execution_count": 34,
     "metadata": {},
     "output_type": "execute_result"
    }
   ],
   "source": [
    "forecast"
   ]
  },
  {
   "cell_type": "code",
   "execution_count": null,
   "id": "e6ecc3a6",
   "metadata": {},
   "outputs": [],
   "source": []
  },
  {
   "cell_type": "code",
   "execution_count": null,
   "id": "9603de04",
   "metadata": {},
   "outputs": [],
   "source": [
    "forecast.iloc[-15:]"
   ]
  },
  {
   "cell_type": "code",
   "execution_count": null,
   "id": "8d139d20",
   "metadata": {},
   "outputs": [],
   "source": [
    "f = m.plot(forecast.iloc[-100:])"
   ]
  },
  {
   "cell_type": "code",
   "execution_count": null,
   "id": "86164e94",
   "metadata": {},
   "outputs": [],
   "source": []
  }
 ],
 "metadata": {
  "kernelspec": {
   "display_name": "Python 3",
   "language": "python",
   "name": "python3"
  },
  "language_info": {
   "codemirror_mode": {
    "name": "ipython",
    "version": 3
   },
   "file_extension": ".py",
   "mimetype": "text/x-python",
   "name": "python",
   "nbconvert_exporter": "python",
   "pygments_lexer": "ipython3",
   "version": "3.7.10"
  }
 },
 "nbformat": 4,
 "nbformat_minor": 5
}
