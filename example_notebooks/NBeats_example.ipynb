{
 "cells": [
  {
   "cell_type": "markdown",
   "id": "4a4860cb",
   "metadata": {},
   "source": [
    "[![Open In Colab](https://colab.research.google.com/assets/colab-badge.svg)](https://colab.research.google.com/github/ourownstory/neural_prophet/blob/master/example_notebooks/autoregression_yosemite_temps.ipynb)"
   ]
  },
  {
   "cell_type": "markdown",
   "id": "28bff74d",
   "metadata": {},
   "source": [
    "# NBeats\n",
    "\n",
    "This is a NBeats model module usage example. We implemented this model under the same API as NeuralProphet, for easy comparison of the results of NeuralProphet and SOTA models\n",
    "\n",
    "We used as the base the implementation of NBeats from Pytorch Forecasting library. The model parameters are inherited automatically from the dataset structure, if from_dataset is set to True\n",
    "For more detail on hyperparameters, please follow https://github.com/jdb78/pytorch-forecasting/blob/master/pytorch_forecasting/models/nbeats/__init__.py"
   ]
  },
  {
   "cell_type": "code",
   "execution_count": 3,
   "id": "537adfb4",
   "metadata": {},
   "outputs": [],
   "source": [
    "from neuralprophet.forecaster_additional_models import NBeatsNP\n",
    "import pandas as pd"
   ]
  },
  {
   "cell_type": "code",
   "execution_count": 4,
   "id": "13687213",
   "metadata": {},
   "outputs": [],
   "source": [
    "if 'google.colab' in str(get_ipython()):\n",
    "    !pip install git+https://github.com/ourownstory/neural_prophet.git # may take a while\n",
    "    #!pip install neuralprophet # much faster, but may not have the latest upgrades/bugfixes\n",
    "    data_location = \"https://raw.githubusercontent.com/ourownstory/neural_prophet/master/\"\n",
    "else:\n",
    "    data_location = \"../\"\n",
    "\n",
    "df = pd.read_csv(data_location + \"example_data/yosemite_temps.csv\")\n",
    "df.head(3)\n",
    "freq = '5min'\n",
    "\n",
    "df = df.iloc[:1000]"
   ]
  },
  {
   "cell_type": "code",
   "execution_count": 14,
   "id": "ed08756d",
   "metadata": {},
   "outputs": [],
   "source": [
    "m = NBeatsNP(\n",
    "        max_encoder_length = 150,\n",
    "        batch_size = None,\n",
    "        epochs = 100,\n",
    "        num_gpus = 0,\n",
    "        patience_early_stopping = 10,\n",
    "        early_stop = True,\n",
    "        weight_decay=1e-2,\n",
    "        learning_rate=3e-2,\n",
    "        auto_lr_find=False,\n",
    "        num_workers=3,\n",
    "    )"
   ]
  },
  {
   "cell_type": "code",
   "execution_count": 15,
   "id": "67890a21",
   "metadata": {},
   "outputs": [
    {
     "name": "stderr",
     "output_type": "stream",
     "text": [
      "WARNING - (py.warnings._showwarnmsg) - /Users/polina/.conda/envs/neural_prophet/lib/python3.7/site-packages/pandas/core/indexing.py:1676: SettingWithCopyWarning: \n",
      "A value is trying to be set on a copy of a slice from a DataFrame.\n",
      "Try using .loc[row_indexer,col_indexer] = value instead\n",
      "\n",
      "See the caveats in the documentation: https://pandas.pydata.org/pandas-docs/stable/user_guide/indexing.html#returning-a-view-versus-a-copy\n",
      "  self._setitem_single_column(ilocs[0], value, pi)\n",
      "\n",
      "GPU available: False, used: False\n",
      "TPU available: False, using: 0 TPU cores\n",
      "\n",
      "  | Name            | Type       | Params\n",
      "-----------------------------------------------\n",
      "0 | loss            | MASE       | 0     \n",
      "1 | logging_metrics | ModuleList | 0     \n",
      "2 | net_blocks      | ModuleList | 2.1 M \n",
      "-----------------------------------------------\n",
      "2.1 M     Trainable params\n",
      "0         Non-trainable params\n",
      "2.1 M     Total params\n",
      "8.532     Total estimated model params size (MB)\n"
     ]
    },
    {
     "data": {
      "application/vnd.jupyter.widget-view+json": {
       "model_id": "",
       "version_major": 2,
       "version_minor": 0
      },
      "text/plain": [
       "Validation sanity check: 0it [00:00, ?it/s]"
      ]
     },
     "metadata": {},
     "output_type": "display_data"
    },
    {
     "name": "stderr",
     "output_type": "stream",
     "text": [
      "WARNING - (py.warnings._showwarnmsg) - /Users/polina/.conda/envs/neural_prophet/lib/python3.7/site-packages/torch/nn/modules/loss.py:907: UserWarning: Using a target size (torch.Size([1, 198])) that is different to the input size (torch.Size([198])). This will likely lead to incorrect results due to broadcasting. Please ensure they have the same size.\n",
      "  return F.smooth_l1_loss(input, target, reduction=self.reduction, beta=self.beta)\n",
      "\n"
     ]
    },
    {
     "data": {
      "application/vnd.jupyter.widget-view+json": {
       "model_id": "dac4737a8ff6410dabfb41d1c4e63318",
       "version_major": 2,
       "version_minor": 0
      },
      "text/plain": [
       "Training: 0it [00:00, ?it/s]"
      ]
     },
     "metadata": {},
     "output_type": "display_data"
    },
    {
     "name": "stderr",
     "output_type": "stream",
     "text": [
      "WARNING - (py.warnings._showwarnmsg) - /Users/polina/.conda/envs/neural_prophet/lib/python3.7/site-packages/torch/nn/modules/loss.py:907: UserWarning: Using a target size (torch.Size([16, 198])) that is different to the input size (torch.Size([198])). This will likely lead to incorrect results due to broadcasting. Please ensure they have the same size.\n",
      "  return F.smooth_l1_loss(input, target, reduction=self.reduction, beta=self.beta)\n",
      "\n"
     ]
    },
    {
     "data": {
      "application/vnd.jupyter.widget-view+json": {
       "model_id": "",
       "version_major": 2,
       "version_minor": 0
      },
      "text/plain": [
       "Validating: 0it [00:00, ?it/s]"
      ]
     },
     "metadata": {},
     "output_type": "display_data"
    },
    {
     "data": {
      "application/vnd.jupyter.widget-view+json": {
       "model_id": "",
       "version_major": 2,
       "version_minor": 0
      },
      "text/plain": [
       "Validating: 0it [00:00, ?it/s]"
      ]
     },
     "metadata": {},
     "output_type": "display_data"
    },
    {
     "data": {
      "application/vnd.jupyter.widget-view+json": {
       "model_id": "",
       "version_major": 2,
       "version_minor": 0
      },
      "text/plain": [
       "Validating: 0it [00:00, ?it/s]"
      ]
     },
     "metadata": {},
     "output_type": "display_data"
    },
    {
     "data": {
      "application/vnd.jupyter.widget-view+json": {
       "model_id": "",
       "version_major": 2,
       "version_minor": 0
      },
      "text/plain": [
       "Validating: 0it [00:00, ?it/s]"
      ]
     },
     "metadata": {},
     "output_type": "display_data"
    },
    {
     "data": {
      "application/vnd.jupyter.widget-view+json": {
       "model_id": "",
       "version_major": 2,
       "version_minor": 0
      },
      "text/plain": [
       "Validating: 0it [00:00, ?it/s]"
      ]
     },
     "metadata": {},
     "output_type": "display_data"
    },
    {
     "data": {
      "application/vnd.jupyter.widget-view+json": {
       "model_id": "",
       "version_major": 2,
       "version_minor": 0
      },
      "text/plain": [
       "Validating: 0it [00:00, ?it/s]"
      ]
     },
     "metadata": {},
     "output_type": "display_data"
    },
    {
     "data": {
      "application/vnd.jupyter.widget-view+json": {
       "model_id": "",
       "version_major": 2,
       "version_minor": 0
      },
      "text/plain": [
       "Validating: 0it [00:00, ?it/s]"
      ]
     },
     "metadata": {},
     "output_type": "display_data"
    },
    {
     "data": {
      "application/vnd.jupyter.widget-view+json": {
       "model_id": "",
       "version_major": 2,
       "version_minor": 0
      },
      "text/plain": [
       "Validating: 0it [00:00, ?it/s]"
      ]
     },
     "metadata": {},
     "output_type": "display_data"
    },
    {
     "data": {
      "application/vnd.jupyter.widget-view+json": {
       "model_id": "",
       "version_major": 2,
       "version_minor": 0
      },
      "text/plain": [
       "Validating: 0it [00:00, ?it/s]"
      ]
     },
     "metadata": {},
     "output_type": "display_data"
    },
    {
     "data": {
      "application/vnd.jupyter.widget-view+json": {
       "model_id": "",
       "version_major": 2,
       "version_minor": 0
      },
      "text/plain": [
       "Validating: 0it [00:00, ?it/s]"
      ]
     },
     "metadata": {},
     "output_type": "display_data"
    },
    {
     "data": {
      "application/vnd.jupyter.widget-view+json": {
       "model_id": "",
       "version_major": 2,
       "version_minor": 0
      },
      "text/plain": [
       "Validating: 0it [00:00, ?it/s]"
      ]
     },
     "metadata": {},
     "output_type": "display_data"
    },
    {
     "data": {
      "application/vnd.jupyter.widget-view+json": {
       "model_id": "",
       "version_major": 2,
       "version_minor": 0
      },
      "text/plain": [
       "Validating: 0it [00:00, ?it/s]"
      ]
     },
     "metadata": {},
     "output_type": "display_data"
    },
    {
     "data": {
      "application/vnd.jupyter.widget-view+json": {
       "model_id": "",
       "version_major": 2,
       "version_minor": 0
      },
      "text/plain": [
       "Validating: 0it [00:00, ?it/s]"
      ]
     },
     "metadata": {},
     "output_type": "display_data"
    },
    {
     "data": {
      "application/vnd.jupyter.widget-view+json": {
       "model_id": "",
       "version_major": 2,
       "version_minor": 0
      },
      "text/plain": [
       "Validating: 0it [00:00, ?it/s]"
      ]
     },
     "metadata": {},
     "output_type": "display_data"
    },
    {
     "data": {
      "application/vnd.jupyter.widget-view+json": {
       "model_id": "",
       "version_major": 2,
       "version_minor": 0
      },
      "text/plain": [
       "Validating: 0it [00:00, ?it/s]"
      ]
     },
     "metadata": {},
     "output_type": "display_data"
    },
    {
     "data": {
      "application/vnd.jupyter.widget-view+json": {
       "model_id": "",
       "version_major": 2,
       "version_minor": 0
      },
      "text/plain": [
       "Validating: 0it [00:00, ?it/s]"
      ]
     },
     "metadata": {},
     "output_type": "display_data"
    },
    {
     "data": {
      "application/vnd.jupyter.widget-view+json": {
       "model_id": "",
       "version_major": 2,
       "version_minor": 0
      },
      "text/plain": [
       "Validating: 0it [00:00, ?it/s]"
      ]
     },
     "metadata": {},
     "output_type": "display_data"
    },
    {
     "data": {
      "application/vnd.jupyter.widget-view+json": {
       "model_id": "",
       "version_major": 2,
       "version_minor": 0
      },
      "text/plain": [
       "Validating: 0it [00:00, ?it/s]"
      ]
     },
     "metadata": {},
     "output_type": "display_data"
    },
    {
     "data": {
      "application/vnd.jupyter.widget-view+json": {
       "model_id": "",
       "version_major": 2,
       "version_minor": 0
      },
      "text/plain": [
       "Validating: 0it [00:00, ?it/s]"
      ]
     },
     "metadata": {},
     "output_type": "display_data"
    },
    {
     "data": {
      "application/vnd.jupyter.widget-view+json": {
       "model_id": "",
       "version_major": 2,
       "version_minor": 0
      },
      "text/plain": [
       "Validating: 0it [00:00, ?it/s]"
      ]
     },
     "metadata": {},
     "output_type": "display_data"
    },
    {
     "data": {
      "application/vnd.jupyter.widget-view+json": {
       "model_id": "",
       "version_major": 2,
       "version_minor": 0
      },
      "text/plain": [
       "Validating: 0it [00:00, ?it/s]"
      ]
     },
     "metadata": {},
     "output_type": "display_data"
    },
    {
     "data": {
      "application/vnd.jupyter.widget-view+json": {
       "model_id": "",
       "version_major": 2,
       "version_minor": 0
      },
      "text/plain": [
       "Validating: 0it [00:00, ?it/s]"
      ]
     },
     "metadata": {},
     "output_type": "display_data"
    },
    {
     "data": {
      "application/vnd.jupyter.widget-view+json": {
       "model_id": "",
       "version_major": 2,
       "version_minor": 0
      },
      "text/plain": [
       "Validating: 0it [00:00, ?it/s]"
      ]
     },
     "metadata": {},
     "output_type": "display_data"
    },
    {
     "data": {
      "application/vnd.jupyter.widget-view+json": {
       "model_id": "",
       "version_major": 2,
       "version_minor": 0
      },
      "text/plain": [
       "Validating: 0it [00:00, ?it/s]"
      ]
     },
     "metadata": {},
     "output_type": "display_data"
    },
    {
     "data": {
      "application/vnd.jupyter.widget-view+json": {
       "model_id": "",
       "version_major": 2,
       "version_minor": 0
      },
      "text/plain": [
       "Validating: 0it [00:00, ?it/s]"
      ]
     },
     "metadata": {},
     "output_type": "display_data"
    },
    {
     "data": {
      "application/vnd.jupyter.widget-view+json": {
       "model_id": "",
       "version_major": 2,
       "version_minor": 0
      },
      "text/plain": [
       "Validating: 0it [00:00, ?it/s]"
      ]
     },
     "metadata": {},
     "output_type": "display_data"
    },
    {
     "data": {
      "text/html": [
       "<div>\n",
       "<style scoped>\n",
       "    .dataframe tbody tr th:only-of-type {\n",
       "        vertical-align: middle;\n",
       "    }\n",
       "\n",
       "    .dataframe tbody tr th {\n",
       "        vertical-align: top;\n",
       "    }\n",
       "\n",
       "    .dataframe thead th {\n",
       "        text-align: right;\n",
       "    }\n",
       "</style>\n",
       "<table border=\"1\" class=\"dataframe\">\n",
       "  <thead>\n",
       "    <tr style=\"text-align: right;\">\n",
       "      <th></th>\n",
       "      <th>SmoothL1Loss</th>\n",
       "      <th>MAE</th>\n",
       "      <th>MSE</th>\n",
       "      <th>SmoothL1Loss_val</th>\n",
       "      <th>MAE_val</th>\n",
       "      <th>MSE_val</th>\n",
       "    </tr>\n",
       "  </thead>\n",
       "  <tbody>\n",
       "    <tr>\n",
       "      <th>0</th>\n",
       "      <td>13.225988</td>\n",
       "      <td>13.717812</td>\n",
       "      <td>303.100334</td>\n",
       "      <td>12.114640</td>\n",
       "      <td>12.600085</td>\n",
       "      <td>259.329407</td>\n",
       "    </tr>\n",
       "    <tr>\n",
       "      <th>1</th>\n",
       "      <td>11.785022</td>\n",
       "      <td>12.272839</td>\n",
       "      <td>253.984678</td>\n",
       "      <td>3.116434</td>\n",
       "      <td>3.585911</td>\n",
       "      <td>21.307854</td>\n",
       "    </tr>\n",
       "    <tr>\n",
       "      <th>2</th>\n",
       "      <td>12.162808</td>\n",
       "      <td>12.650054</td>\n",
       "      <td>275.171388</td>\n",
       "      <td>2.851875</td>\n",
       "      <td>3.319066</td>\n",
       "      <td>17.246716</td>\n",
       "    </tr>\n",
       "    <tr>\n",
       "      <th>3</th>\n",
       "      <td>12.458912</td>\n",
       "      <td>12.946536</td>\n",
       "      <td>286.428466</td>\n",
       "      <td>3.486061</td>\n",
       "      <td>3.964255</td>\n",
       "      <td>22.387863</td>\n",
       "    </tr>\n",
       "    <tr>\n",
       "      <th>4</th>\n",
       "      <td>11.454174</td>\n",
       "      <td>11.938164</td>\n",
       "      <td>255.541053</td>\n",
       "      <td>2.007569</td>\n",
       "      <td>2.441389</td>\n",
       "      <td>9.886867</td>\n",
       "    </tr>\n",
       "    <tr>\n",
       "      <th>5</th>\n",
       "      <td>11.654491</td>\n",
       "      <td>12.136408</td>\n",
       "      <td>266.695245</td>\n",
       "      <td>2.068727</td>\n",
       "      <td>2.528947</td>\n",
       "      <td>8.564371</td>\n",
       "    </tr>\n",
       "    <tr>\n",
       "      <th>6</th>\n",
       "      <td>12.168900</td>\n",
       "      <td>12.652675</td>\n",
       "      <td>278.278993</td>\n",
       "      <td>1.960186</td>\n",
       "      <td>2.411523</td>\n",
       "      <td>9.119287</td>\n",
       "    </tr>\n",
       "    <tr>\n",
       "      <th>7</th>\n",
       "      <td>11.776909</td>\n",
       "      <td>12.262314</td>\n",
       "      <td>253.129127</td>\n",
       "      <td>1.886119</td>\n",
       "      <td>2.330575</td>\n",
       "      <td>8.475166</td>\n",
       "    </tr>\n",
       "    <tr>\n",
       "      <th>8</th>\n",
       "      <td>11.041766</td>\n",
       "      <td>11.525149</td>\n",
       "      <td>238.750027</td>\n",
       "      <td>1.298398</td>\n",
       "      <td>1.726407</td>\n",
       "      <td>4.890155</td>\n",
       "    </tr>\n",
       "    <tr>\n",
       "      <th>9</th>\n",
       "      <td>12.795877</td>\n",
       "      <td>13.281244</td>\n",
       "      <td>297.571560</td>\n",
       "      <td>2.314869</td>\n",
       "      <td>2.787423</td>\n",
       "      <td>11.271925</td>\n",
       "    </tr>\n",
       "    <tr>\n",
       "      <th>10</th>\n",
       "      <td>12.347398</td>\n",
       "      <td>12.832930</td>\n",
       "      <td>277.663783</td>\n",
       "      <td>0.987761</td>\n",
       "      <td>1.427378</td>\n",
       "      <td>3.001705</td>\n",
       "    </tr>\n",
       "    <tr>\n",
       "      <th>11</th>\n",
       "      <td>11.466668</td>\n",
       "      <td>11.951408</td>\n",
       "      <td>253.032060</td>\n",
       "      <td>3.616095</td>\n",
       "      <td>4.099517</td>\n",
       "      <td>25.183237</td>\n",
       "    </tr>\n",
       "    <tr>\n",
       "      <th>12</th>\n",
       "      <td>10.989672</td>\n",
       "      <td>11.472899</td>\n",
       "      <td>231.687652</td>\n",
       "      <td>1.152380</td>\n",
       "      <td>1.597058</td>\n",
       "      <td>3.621272</td>\n",
       "    </tr>\n",
       "    <tr>\n",
       "      <th>13</th>\n",
       "      <td>12.600086</td>\n",
       "      <td>13.086765</td>\n",
       "      <td>291.304263</td>\n",
       "      <td>3.810202</td>\n",
       "      <td>4.285772</td>\n",
       "      <td>25.378180</td>\n",
       "    </tr>\n",
       "    <tr>\n",
       "      <th>14</th>\n",
       "      <td>12.076977</td>\n",
       "      <td>12.562063</td>\n",
       "      <td>270.800670</td>\n",
       "      <td>2.182263</td>\n",
       "      <td>2.634139</td>\n",
       "      <td>10.498734</td>\n",
       "    </tr>\n",
       "    <tr>\n",
       "      <th>15</th>\n",
       "      <td>11.932222</td>\n",
       "      <td>12.416730</td>\n",
       "      <td>267.931676</td>\n",
       "      <td>1.274713</td>\n",
       "      <td>1.730302</td>\n",
       "      <td>4.234210</td>\n",
       "    </tr>\n",
       "    <tr>\n",
       "      <th>16</th>\n",
       "      <td>12.254078</td>\n",
       "      <td>12.740434</td>\n",
       "      <td>281.730990</td>\n",
       "      <td>0.690673</td>\n",
       "      <td>1.099200</td>\n",
       "      <td>1.799433</td>\n",
       "    </tr>\n",
       "    <tr>\n",
       "      <th>17</th>\n",
       "      <td>11.824148</td>\n",
       "      <td>12.307633</td>\n",
       "      <td>264.603663</td>\n",
       "      <td>1.306333</td>\n",
       "      <td>1.741038</td>\n",
       "      <td>4.781991</td>\n",
       "    </tr>\n",
       "    <tr>\n",
       "      <th>18</th>\n",
       "      <td>10.984683</td>\n",
       "      <td>11.468744</td>\n",
       "      <td>232.390830</td>\n",
       "      <td>0.911523</td>\n",
       "      <td>1.356371</td>\n",
       "      <td>2.494159</td>\n",
       "    </tr>\n",
       "    <tr>\n",
       "      <th>19</th>\n",
       "      <td>11.570454</td>\n",
       "      <td>12.055095</td>\n",
       "      <td>254.137496</td>\n",
       "      <td>4.078058</td>\n",
       "      <td>4.561363</td>\n",
       "      <td>29.420824</td>\n",
       "    </tr>\n",
       "    <tr>\n",
       "      <th>20</th>\n",
       "      <td>11.020982</td>\n",
       "      <td>11.503053</td>\n",
       "      <td>240.183820</td>\n",
       "      <td>1.203351</td>\n",
       "      <td>1.621752</td>\n",
       "      <td>3.998150</td>\n",
       "    </tr>\n",
       "    <tr>\n",
       "      <th>21</th>\n",
       "      <td>11.663247</td>\n",
       "      <td>12.149244</td>\n",
       "      <td>261.320881</td>\n",
       "      <td>1.159881</td>\n",
       "      <td>1.605625</td>\n",
       "      <td>3.857124</td>\n",
       "    </tr>\n",
       "    <tr>\n",
       "      <th>22</th>\n",
       "      <td>12.043203</td>\n",
       "      <td>12.528340</td>\n",
       "      <td>276.830778</td>\n",
       "      <td>1.581796</td>\n",
       "      <td>2.026016</td>\n",
       "      <td>6.667151</td>\n",
       "    </tr>\n",
       "    <tr>\n",
       "      <th>23</th>\n",
       "      <td>11.598728</td>\n",
       "      <td>12.082791</td>\n",
       "      <td>254.980167</td>\n",
       "      <td>2.650261</td>\n",
       "      <td>3.130248</td>\n",
       "      <td>13.564098</td>\n",
       "    </tr>\n",
       "    <tr>\n",
       "      <th>24</th>\n",
       "      <td>11.489455</td>\n",
       "      <td>11.971304</td>\n",
       "      <td>258.992257</td>\n",
       "      <td>2.852316</td>\n",
       "      <td>3.298018</td>\n",
       "      <td>21.070332</td>\n",
       "    </tr>\n",
       "    <tr>\n",
       "      <th>25</th>\n",
       "      <td>11.593295</td>\n",
       "      <td>12.077522</td>\n",
       "      <td>260.081221</td>\n",
       "      <td>1.725775</td>\n",
       "      <td>2.169011</td>\n",
       "      <td>7.711399</td>\n",
       "    </tr>\n",
       "  </tbody>\n",
       "</table>\n",
       "</div>"
      ],
      "text/plain": [
       "    SmoothL1Loss        MAE         MSE  SmoothL1Loss_val    MAE_val  \\\n",
       "0      13.225988  13.717812  303.100334         12.114640  12.600085   \n",
       "1      11.785022  12.272839  253.984678          3.116434   3.585911   \n",
       "2      12.162808  12.650054  275.171388          2.851875   3.319066   \n",
       "3      12.458912  12.946536  286.428466          3.486061   3.964255   \n",
       "4      11.454174  11.938164  255.541053          2.007569   2.441389   \n",
       "5      11.654491  12.136408  266.695245          2.068727   2.528947   \n",
       "6      12.168900  12.652675  278.278993          1.960186   2.411523   \n",
       "7      11.776909  12.262314  253.129127          1.886119   2.330575   \n",
       "8      11.041766  11.525149  238.750027          1.298398   1.726407   \n",
       "9      12.795877  13.281244  297.571560          2.314869   2.787423   \n",
       "10     12.347398  12.832930  277.663783          0.987761   1.427378   \n",
       "11     11.466668  11.951408  253.032060          3.616095   4.099517   \n",
       "12     10.989672  11.472899  231.687652          1.152380   1.597058   \n",
       "13     12.600086  13.086765  291.304263          3.810202   4.285772   \n",
       "14     12.076977  12.562063  270.800670          2.182263   2.634139   \n",
       "15     11.932222  12.416730  267.931676          1.274713   1.730302   \n",
       "16     12.254078  12.740434  281.730990          0.690673   1.099200   \n",
       "17     11.824148  12.307633  264.603663          1.306333   1.741038   \n",
       "18     10.984683  11.468744  232.390830          0.911523   1.356371   \n",
       "19     11.570454  12.055095  254.137496          4.078058   4.561363   \n",
       "20     11.020982  11.503053  240.183820          1.203351   1.621752   \n",
       "21     11.663247  12.149244  261.320881          1.159881   1.605625   \n",
       "22     12.043203  12.528340  276.830778          1.581796   2.026016   \n",
       "23     11.598728  12.082791  254.980167          2.650261   3.130248   \n",
       "24     11.489455  11.971304  258.992257          2.852316   3.298018   \n",
       "25     11.593295  12.077522  260.081221          1.725775   2.169011   \n",
       "\n",
       "       MSE_val  \n",
       "0   259.329407  \n",
       "1    21.307854  \n",
       "2    17.246716  \n",
       "3    22.387863  \n",
       "4     9.886867  \n",
       "5     8.564371  \n",
       "6     9.119287  \n",
       "7     8.475166  \n",
       "8     4.890155  \n",
       "9    11.271925  \n",
       "10    3.001705  \n",
       "11   25.183237  \n",
       "12    3.621272  \n",
       "13   25.378180  \n",
       "14   10.498734  \n",
       "15    4.234210  \n",
       "16    1.799433  \n",
       "17    4.781991  \n",
       "18    2.494159  \n",
       "19   29.420824  \n",
       "20    3.998150  \n",
       "21    3.857124  \n",
       "22    6.667151  \n",
       "23   13.564098  \n",
       "24   21.070332  \n",
       "25    7.711399  "
      ]
     },
     "execution_count": 15,
     "metadata": {},
     "output_type": "execute_result"
    }
   ],
   "source": [
    "m.fit(df.iloc[:-10], freq = freq)"
   ]
  },
  {
   "cell_type": "code",
   "execution_count": 16,
   "id": "49ca49ba",
   "metadata": {},
   "outputs": [],
   "source": [
    "future = m.make_future_dataframe(df, freq, periods=1, n_historic_predictions=100)"
   ]
  },
  {
   "cell_type": "code",
   "execution_count": 17,
   "id": "b0028577",
   "metadata": {},
   "outputs": [],
   "source": [
    "forecast = m.predict(future)"
   ]
  },
  {
   "cell_type": "code",
   "execution_count": 18,
   "id": "47330cff",
   "metadata": {},
   "outputs": [
    {
     "data": {
      "text/html": [
       "<div>\n",
       "<style scoped>\n",
       "    .dataframe tbody tr th:only-of-type {\n",
       "        vertical-align: middle;\n",
       "    }\n",
       "\n",
       "    .dataframe tbody tr th {\n",
       "        vertical-align: top;\n",
       "    }\n",
       "\n",
       "    .dataframe thead th {\n",
       "        text-align: right;\n",
       "    }\n",
       "</style>\n",
       "<table border=\"1\" class=\"dataframe\">\n",
       "  <thead>\n",
       "    <tr style=\"text-align: right;\">\n",
       "      <th></th>\n",
       "      <th>ds</th>\n",
       "      <th>y</th>\n",
       "      <th>yhat1</th>\n",
       "      <th>residual1</th>\n",
       "    </tr>\n",
       "  </thead>\n",
       "  <tbody>\n",
       "    <tr>\n",
       "      <th>236</th>\n",
       "      <td>2017-05-04 10:10:00</td>\n",
       "      <td>8.7</td>\n",
       "      <td>10.234037</td>\n",
       "      <td>1.534037</td>\n",
       "    </tr>\n",
       "    <tr>\n",
       "      <th>237</th>\n",
       "      <td>2017-05-04 10:15:00</td>\n",
       "      <td>8.6</td>\n",
       "      <td>10.625114</td>\n",
       "      <td>2.025114</td>\n",
       "    </tr>\n",
       "    <tr>\n",
       "      <th>238</th>\n",
       "      <td>2017-05-04 10:20:00</td>\n",
       "      <td>8.5</td>\n",
       "      <td>10.796091</td>\n",
       "      <td>2.296091</td>\n",
       "    </tr>\n",
       "    <tr>\n",
       "      <th>239</th>\n",
       "      <td>2017-05-04 10:25:00</td>\n",
       "      <td>8.3</td>\n",
       "      <td>10.738827</td>\n",
       "      <td>2.438827</td>\n",
       "    </tr>\n",
       "    <tr>\n",
       "      <th>240</th>\n",
       "      <td>2017-05-04 10:30:00</td>\n",
       "      <td>8.4</td>\n",
       "      <td>10.627016</td>\n",
       "      <td>2.227016</td>\n",
       "    </tr>\n",
       "    <tr>\n",
       "      <th>241</th>\n",
       "      <td>2017-05-04 10:35:00</td>\n",
       "      <td>8.3</td>\n",
       "      <td>10.631512</td>\n",
       "      <td>2.331512</td>\n",
       "    </tr>\n",
       "    <tr>\n",
       "      <th>242</th>\n",
       "      <td>2017-05-04 10:40:00</td>\n",
       "      <td>8.4</td>\n",
       "      <td>10.756439</td>\n",
       "      <td>2.356439</td>\n",
       "    </tr>\n",
       "    <tr>\n",
       "      <th>243</th>\n",
       "      <td>2017-05-04 10:45:00</td>\n",
       "      <td>8.3</td>\n",
       "      <td>10.818335</td>\n",
       "      <td>2.518335</td>\n",
       "    </tr>\n",
       "    <tr>\n",
       "      <th>244</th>\n",
       "      <td>2017-05-04 10:50:00</td>\n",
       "      <td>8.4</td>\n",
       "      <td>10.580626</td>\n",
       "      <td>2.180626</td>\n",
       "    </tr>\n",
       "    <tr>\n",
       "      <th>245</th>\n",
       "      <td>2017-05-04 10:55:00</td>\n",
       "      <td>8.3</td>\n",
       "      <td>9.942245</td>\n",
       "      <td>1.642245</td>\n",
       "    </tr>\n",
       "    <tr>\n",
       "      <th>246</th>\n",
       "      <td>2017-05-04 11:00:00</td>\n",
       "      <td>8.2</td>\n",
       "      <td>9.041973</td>\n",
       "      <td>0.841973</td>\n",
       "    </tr>\n",
       "    <tr>\n",
       "      <th>247</th>\n",
       "      <td>2017-05-04 11:05:00</td>\n",
       "      <td>8.2</td>\n",
       "      <td>8.198782</td>\n",
       "      <td>-0.001218</td>\n",
       "    </tr>\n",
       "    <tr>\n",
       "      <th>248</th>\n",
       "      <td>2017-05-04 11:10:00</td>\n",
       "      <td>8.2</td>\n",
       "      <td>7.726229</td>\n",
       "      <td>-0.473771</td>\n",
       "    </tr>\n",
       "    <tr>\n",
       "      <th>249</th>\n",
       "      <td>2017-05-04 11:15:00</td>\n",
       "      <td>8.1</td>\n",
       "      <td>7.74441</td>\n",
       "      <td>-0.35559</td>\n",
       "    </tr>\n",
       "    <tr>\n",
       "      <th>250</th>\n",
       "      <td>2017-05-04 11:20:00</td>\n",
       "      <td>NaN</td>\n",
       "      <td>8.115465</td>\n",
       "      <td>NaN</td>\n",
       "    </tr>\n",
       "  </tbody>\n",
       "</table>\n",
       "</div>"
      ],
      "text/plain": [
       "                     ds    y      yhat1 residual1\n",
       "236 2017-05-04 10:10:00  8.7  10.234037  1.534037\n",
       "237 2017-05-04 10:15:00  8.6  10.625114  2.025114\n",
       "238 2017-05-04 10:20:00  8.5  10.796091  2.296091\n",
       "239 2017-05-04 10:25:00  8.3  10.738827  2.438827\n",
       "240 2017-05-04 10:30:00  8.4  10.627016  2.227016\n",
       "241 2017-05-04 10:35:00  8.3  10.631512  2.331512\n",
       "242 2017-05-04 10:40:00  8.4  10.756439  2.356439\n",
       "243 2017-05-04 10:45:00  8.3  10.818335  2.518335\n",
       "244 2017-05-04 10:50:00  8.4  10.580626  2.180626\n",
       "245 2017-05-04 10:55:00  8.3   9.942245  1.642245\n",
       "246 2017-05-04 11:00:00  8.2   9.041973  0.841973\n",
       "247 2017-05-04 11:05:00  8.2   8.198782 -0.001218\n",
       "248 2017-05-04 11:10:00  8.2   7.726229 -0.473771\n",
       "249 2017-05-04 11:15:00  8.1    7.74441  -0.35559\n",
       "250 2017-05-04 11:20:00  NaN   8.115465       NaN"
      ]
     },
     "execution_count": 18,
     "metadata": {},
     "output_type": "execute_result"
    }
   ],
   "source": [
    "forecast.iloc[-15:]"
   ]
  },
  {
   "cell_type": "code",
   "execution_count": 19,
   "id": "1f1e357b",
   "metadata": {},
   "outputs": [
    {
     "data": {
      "image/png": "[encoded data removed]",
      "text/plain": [
       "<Figure size 720x432 with 1 Axes>"
      ]
     },
     "metadata": {},
     "output_type": "display_data"
    }
   ],
   "source": [
    "f = m.plot(forecast.iloc[-100:])"
   ]
  },
  {
   "cell_type": "code",
   "execution_count": null,
   "id": "b6637ee0",
   "metadata": {},
   "outputs": [],
   "source": []
  },
  {
   "cell_type": "code",
   "execution_count": null,
   "id": "468311f8",
   "metadata": {},
   "outputs": [],
   "source": []
  }
 ],
 "metadata": {
  "kernelspec": {
   "display_name": "Python 3",
   "language": "python",
   "name": "python3"
  },
  "language_info": {
   "codemirror_mode": {
    "name": "ipython",
    "version": 3
   },
   "file_extension": ".py",
   "mimetype": "text/x-python",
   "name": "python",
   "nbconvert_exporter": "python",
   "pygments_lexer": "ipython3",
   "version": "3.7.10"
  }
 },
 "nbformat": 4,
 "nbformat_minor": 5
}
