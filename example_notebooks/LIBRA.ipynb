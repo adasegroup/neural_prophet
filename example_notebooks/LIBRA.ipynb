{
 "cells": [
  {
   "cell_type": "code",
   "execution_count": 1,
   "id": "da9166de",
   "metadata": {},
   "outputs": [],
   "source": [
    "from neuralprophet import NBeats, LSTM, DeepAR, NeuralProphet, TFT\n",
    "from neuralprophet.utils.df_utils import split_df\n",
    "\n",
    "\n",
    "import pandas as pd\n",
    "import numpy as np\n",
    "import os"
   ]
  },
  {
   "cell_type": "code",
   "execution_count": 2,
   "id": "e4b733cd",
   "metadata": {},
   "outputs": [],
   "source": [
    "from neuralprophet.tools.metrics_libra import *"
   ]
  },
  {
   "cell_type": "code",
   "execution_count": 3,
   "id": "77bcd555",
   "metadata": {},
   "outputs": [],
   "source": [
    "data_loc = '../example_data/LIBRA/'\n",
    "datasets = os.listdir(data_loc)\n",
    "\n",
    "\n",
    "datasets_economics = [dataset for dataset in datasets if 'economics' in dataset]\n",
    "datasets_finance = [dataset for dataset in datasets if 'finance' in dataset]\n",
    "datasets_human = [dataset for dataset in datasets if 'human' in dataset]\n",
    "datasets_nature = [dataset for dataset in datasets if 'nature' in dataset]"
   ]
  },
  {
   "cell_type": "code",
   "execution_count": 4,
   "id": "d2ecf9df",
   "metadata": {},
   "outputs": [],
   "source": [
    "usecase = 'nature'\n",
    "\n",
    "datasets = {}\n",
    "\n",
    "if usecase == 'economics':\n",
    "    for dataset in datasets_economics:\n",
    "        datasets.update({dataset:pd.read_csv(data_loc + dataset)})\n",
    "elif usecase == 'finance':\n",
    "    for dataset in datasets_finance:\n",
    "        datasets.update({dataset:pd.read_csv(data_loc + dataset)})\n",
    "elif usecase == 'human':\n",
    "    for dataset in datasets_human:\n",
    "        datasets.update({dataset:pd.read_csv(data_loc + dataset)})\n",
    "elif usecase == 'nature':\n",
    "    for dataset in datasets_nature:\n",
    "        datasets.update({dataset:pd.read_csv(data_loc + dataset)})\n",
    "    \n",
    "    \n",
    "frequencies = pd.read_csv(data_loc + 'freq.csv')\n",
    "mapping_frequencies_economics = {\n",
    "    1 : 'D',\n",
    "    4: 'Q',\n",
    "    12: 'M',\n",
    "    52: 'W',\n",
    "    24: 'H',\n",
    "    7: 'W',\n",
    "    91: 'D',\n",
    "    364: 'D', \n",
    "    360: 'D',\n",
    "    168: 'D',\n",
    "    672: 'D',\n",
    "    96: 'H', \n",
    "    288: 'D',\n",
    "    28: 'D',\n",
    "    6: 'D',\n",
    "    30: 'D',\n",
    "    720: 'D'\n",
    "    \n",
    "}\n",
    "\n",
    "def mapping(x):\n",
    "    try:\n",
    "        return mapping_frequencies_economics[x]\n",
    "    except:\n",
    "        return 'D'\n"
   ]
  },
  {
   "cell_type": "code",
   "execution_count": null,
   "id": "842b899b",
   "metadata": {},
   "outputs": [],
   "source": []
  },
  {
   "cell_type": "markdown",
   "id": "7de7edab",
   "metadata": {},
   "source": [
    "Following the original LIBRA work"
   ]
  },
  {
   "cell_type": "code",
   "execution_count": null,
   "id": "44290aad",
   "metadata": {},
   "outputs": [],
   "source": []
  },
  {
   "cell_type": "code",
   "execution_count": null,
   "id": "5ebf8aef",
   "metadata": {},
   "outputs": [],
   "source": []
  },
  {
   "cell_type": "markdown",
   "id": "82acc0ac",
   "metadata": {},
   "source": [
    "# One step ahead"
   ]
  },
  {
   "cell_type": "code",
   "execution_count": 5,
   "id": "cfbade9d",
   "metadata": {},
   "outputs": [],
   "source": [
    "valid_p = 0.2\n",
    "n_forecasts = 1"
   ]
  },
  {
   "cell_type": "code",
   "execution_count": null,
   "id": "6b7d7484",
   "metadata": {},
   "outputs": [
    {
     "name": "stderr",
     "output_type": "stream",
     "text": [
      "  0%|          | 0/50 [00:43<?, ?it/s]\n",
      "INFO - (NP.config.set_auto_batch_epoch) - Auto-set batch_size to 16\n",
      "  0%|          | 0/50 [00:00<?, ?it/s]GPU available: False, used: False\n",
      "TPU available: False, using: 0 TPU cores\n",
      "WARNING - (py.warnings._showwarnmsg) - /Users/polina/.conda/envs/neural_prophet/lib/python3.7/site-packages/pytorch_lightning/utilities/distributed.py:68: UserWarning: you defined a validation_step but have no val_dataloader. Skipping validation loop\n",
      "  warnings.warn(*args, **kwargs)\n",
      "\n",
      "\n",
      "  | Name      | Type         | Params\n",
      "-------------------------------------------\n",
      "0 | lstm      | LSTM         | 960   \n",
      "1 | linear    | Linear       | 11    \n",
      "2 | loss_func | SmoothL1Loss | 0     \n",
      "-------------------------------------------\n",
      "971       Trainable params\n",
      "0         Non-trainable params\n",
      "971       Total params\n",
      "0.004     Total estimated model params size (MB)\n"
     ]
    },
    {
     "data": {
      "application/vnd.jupyter.widget-view+json": {
       "model_id": "",
       "version_major": 2,
       "version_minor": 0
      },
      "text/plain": [
       "Validation sanity check: 0it [00:00, ?it/s]"
      ]
     },
     "metadata": {},
     "output_type": "display_data"
    },
    {
     "name": "stderr",
     "output_type": "stream",
     "text": [
      "WARNING - (py.warnings._showwarnmsg) - /Users/polina/.conda/envs/neural_prophet/lib/python3.7/site-packages/pytorch_lightning/utilities/distributed.py:68: UserWarning: The dataloader, train dataloader, does not have many workers which may be a bottleneck. Consider increasing the value of the `num_workers` argument` (try 8 which is the number of cpus on this machine) in the `DataLoader` init to improve performance.\n",
      "  warnings.warn(*args, **kwargs)\n",
      "\n"
     ]
    },
    {
     "data": {
      "application/vnd.jupyter.widget-view+json": {
       "model_id": "99e4514217dd498a980ae88fe59e37e3",
       "version_major": 2,
       "version_minor": 0
      },
      "text/plain": [
       "Training: 0it [00:00, ?it/s]"
      ]
     },
     "metadata": {},
     "output_type": "display_data"
    },
    {
     "name": "stderr",
     "output_type": "stream",
     "text": [
      "WARNING - (py.warnings._showwarnmsg) - /Users/polina/fds/neural_prophet/neuralprophet/tools/metrics_libra.py:13: RuntimeWarning: divide by zero encountered in double_scalars\n",
      "  return y_pred_mae / naive_mae\n",
      "\n",
      "INFO - (NP.utils.set_auto_seasonalities) - Disabling weekly seasonality. Run NeuralProphet with weekly_seasonality=True to override this.\n",
      "INFO - (NP.utils.set_auto_seasonalities) - Disabling daily seasonality. Run NeuralProphet with daily_seasonality=True to override this.\n",
      "INFO - (NP.config.set_auto_batch_epoch) - Auto-set batch_size to 16\n",
      "\n",
      "  0%|          | 0/50 [00:00<?, ?it/s]\u001b[AGPU available: False, used: False\n",
      "TPU available: False, using: 0 TPU cores\n",
      "WARNING - (py.warnings._showwarnmsg) - /Users/polina/.conda/envs/neural_prophet/lib/python3.7/site-packages/pytorch_lightning/utilities/distributed.py:68: UserWarning: you defined a validation_step but have no val_dataloader. Skipping validation loop\n",
      "  warnings.warn(*args, **kwargs)\n",
      "\n",
      "\n",
      "  | Name          | Type          | Params\n",
      "------------------------------------------------\n",
      "0 | season_params | ParameterDict | 12    \n",
      "1 | ar_net        | ModuleList    | 12    \n",
      "2 | loss_func     | SmoothL1Loss  | 0     \n",
      "------------------------------------------------\n",
      "37        Trainable params\n",
      "0         Non-trainable params\n",
      "37        Total params\n",
      "0.000     Total estimated model params size (MB)\n"
     ]
    },
    {
     "data": {
      "application/vnd.jupyter.widget-view+json": {
       "model_id": "",
       "version_major": 2,
       "version_minor": 0
      },
      "text/plain": [
       "Validation sanity check: 0it [00:00, ?it/s]"
      ]
     },
     "metadata": {},
     "output_type": "display_data"
    },
    {
     "name": "stderr",
     "output_type": "stream",
     "text": [
      "WARNING - (py.warnings._showwarnmsg) - /Users/polina/.conda/envs/neural_prophet/lib/python3.7/site-packages/pytorch_lightning/utilities/distributed.py:68: UserWarning: The dataloader, train dataloader, does not have many workers which may be a bottleneck. Consider increasing the value of the `num_workers` argument` (try 8 which is the number of cpus on this machine) in the `DataLoader` init to improve performance.\n",
      "  warnings.warn(*args, **kwargs)\n",
      "\n"
     ]
    },
    {
     "data": {
      "application/vnd.jupyter.widget-view+json": {
       "model_id": "e0ba660338fb43558a5866bb622fbf29",
       "version_major": 2,
       "version_minor": 0
      },
      "text/plain": [
       "Training: 0it [00:00, ?it/s]"
      ]
     },
     "metadata": {},
     "output_type": "display_data"
    },
    {
     "name": "stderr",
     "output_type": "stream",
     "text": [
      "WARNING - (py.warnings._showwarnmsg) - /Users/polina/fds/neural_prophet/neuralprophet/tools/metrics_libra.py:13: RuntimeWarning: divide by zero encountered in double_scalars\n",
      "  return y_pred_mae / naive_mae\n",
      "\n",
      "  0%|          | 0/50 [00:04<?, ?it/s]\n",
      "GPU available: False, used: False     \n",
      "TPU available: False, using: 0 TPU cores\n",
      "WARNING - (py.warnings._showwarnmsg) - /Users/polina/.conda/envs/neural_prophet/lib/python3.7/site-packages/pytorch_lightning/utilities/distributed.py:68: UserWarning: you defined a validation_step but have no val_dataloader. Skipping validation loop\n",
      "  warnings.warn(*args, **kwargs)\n",
      "\n",
      "\n",
      "  | Name                   | Type                   | Params\n",
      "------------------------------------------------------------------\n",
      "0 | loss                   | NormalDistributionLoss | 0     \n",
      "1 | logging_metrics        | ModuleList             | 0     \n",
      "2 | embeddings             | MultiEmbedding         | 0     \n",
      "3 | rnn                    | LSTM                   | 12.9 K\n",
      "4 | distribution_projector | Linear                 | 66    \n",
      "------------------------------------------------------------------\n",
      "13.0 K    Trainable params\n",
      "0         Non-trainable params\n",
      "13.0 K    Total params\n",
      "0.052     Total estimated model params size (MB)\n"
     ]
    },
    {
     "data": {
      "application/vnd.jupyter.widget-view+json": {
       "model_id": "6a0535edb4374404bd23c59141ce6c0e",
       "version_major": 2,
       "version_minor": 0
      },
      "text/plain": [
       "Finding best initial lr:   0%|          | 0/100 [00:00<?, ?it/s]"
      ]
     },
     "metadata": {},
     "output_type": "display_data"
    },
    {
     "name": "stderr",
     "output_type": "stream",
     "text": [
      "Restored states from the checkpoint file at /Users/polina/fds/neural_prophet/example_notebooks/lr_find_temp_model.ckpt\n",
      "\n",
      "  | Name                   | Type                   | Params\n",
      "------------------------------------------------------------------\n",
      "0 | loss                   | NormalDistributionLoss | 0     \n",
      "1 | logging_metrics        | ModuleList             | 0     \n",
      "2 | embeddings             | MultiEmbedding         | 0     \n",
      "3 | rnn                    | LSTM                   | 12.9 K\n",
      "4 | distribution_projector | Linear                 | 66    \n",
      "------------------------------------------------------------------\n",
      "13.0 K    Trainable params\n",
      "0         Non-trainable params\n",
      "13.0 K    Total params\n",
      "0.052     Total estimated model params size (MB)\n"
     ]
    },
    {
     "data": {
      "application/vnd.jupyter.widget-view+json": {
       "model_id": "8a68e68e8304421b85f43d325072df75",
       "version_major": 2,
       "version_minor": 0
      },
      "text/plain": [
       "Training: 14it [00:00, ?it/s]"
      ]
     },
     "metadata": {},
     "output_type": "display_data"
    },
    {
     "data": {
      "application/vnd.jupyter.widget-view+json": {
       "model_id": "",
       "version_major": 2,
       "version_minor": 0
      },
      "text/plain": [
       "Validating: 0it [00:00, ?it/s]"
      ]
     },
     "metadata": {},
     "output_type": "display_data"
    },
    {
     "data": {
      "application/vnd.jupyter.widget-view+json": {
       "model_id": "",
       "version_major": 2,
       "version_minor": 0
      },
      "text/plain": [
       "Validating: 0it [00:00, ?it/s]"
      ]
     },
     "metadata": {},
     "output_type": "display_data"
    },
    {
     "data": {
      "application/vnd.jupyter.widget-view+json": {
       "model_id": "",
       "version_major": 2,
       "version_minor": 0
      },
      "text/plain": [
       "Validating: 0it [00:00, ?it/s]"
      ]
     },
     "metadata": {},
     "output_type": "display_data"
    },
    {
     "data": {
      "application/vnd.jupyter.widget-view+json": {
       "model_id": "",
       "version_major": 2,
       "version_minor": 0
      },
      "text/plain": [
       "Validating: 0it [00:00, ?it/s]"
      ]
     },
     "metadata": {},
     "output_type": "display_data"
    },
    {
     "data": {
      "application/vnd.jupyter.widget-view+json": {
       "model_id": "",
       "version_major": 2,
       "version_minor": 0
      },
      "text/plain": [
       "Validating: 0it [00:00, ?it/s]"
      ]
     },
     "metadata": {},
     "output_type": "display_data"
    },
    {
     "data": {
      "application/vnd.jupyter.widget-view+json": {
       "model_id": "",
       "version_major": 2,
       "version_minor": 0
      },
      "text/plain": [
       "Validating: 0it [00:00, ?it/s]"
      ]
     },
     "metadata": {},
     "output_type": "display_data"
    },
    {
     "data": {
      "application/vnd.jupyter.widget-view+json": {
       "model_id": "",
       "version_major": 2,
       "version_minor": 0
      },
      "text/plain": [
       "Validating: 0it [00:00, ?it/s]"
      ]
     },
     "metadata": {},
     "output_type": "display_data"
    },
    {
     "data": {
      "application/vnd.jupyter.widget-view+json": {
       "model_id": "",
       "version_major": 2,
       "version_minor": 0
      },
      "text/plain": [
       "Validating: 0it [00:00, ?it/s]"
      ]
     },
     "metadata": {},
     "output_type": "display_data"
    },
    {
     "data": {
      "application/vnd.jupyter.widget-view+json": {
       "model_id": "",
       "version_major": 2,
       "version_minor": 0
      },
      "text/plain": [
       "Validating: 0it [00:00, ?it/s]"
      ]
     },
     "metadata": {},
     "output_type": "display_data"
    },
    {
     "data": {
      "application/vnd.jupyter.widget-view+json": {
       "model_id": "",
       "version_major": 2,
       "version_minor": 0
      },
      "text/plain": [
       "Validating: 0it [00:00, ?it/s]"
      ]
     },
     "metadata": {},
     "output_type": "display_data"
    },
    {
     "data": {
      "application/vnd.jupyter.widget-view+json": {
       "model_id": "",
       "version_major": 2,
       "version_minor": 0
      },
      "text/plain": [
       "Validating: 0it [00:00, ?it/s]"
      ]
     },
     "metadata": {},
     "output_type": "display_data"
    },
    {
     "data": {
      "application/vnd.jupyter.widget-view+json": {
       "model_id": "",
       "version_major": 2,
       "version_minor": 0
      },
      "text/plain": [
       "Validating: 0it [00:00, ?it/s]"
      ]
     },
     "metadata": {},
     "output_type": "display_data"
    },
    {
     "data": {
      "application/vnd.jupyter.widget-view+json": {
       "model_id": "",
       "version_major": 2,
       "version_minor": 0
      },
      "text/plain": [
       "Validating: 0it [00:00, ?it/s]"
      ]
     },
     "metadata": {},
     "output_type": "display_data"
    },
    {
     "data": {
      "application/vnd.jupyter.widget-view+json": {
       "model_id": "",
       "version_major": 2,
       "version_minor": 0
      },
      "text/plain": [
       "Validating: 0it [00:00, ?it/s]"
      ]
     },
     "metadata": {},
     "output_type": "display_data"
    },
    {
     "data": {
      "application/vnd.jupyter.widget-view+json": {
       "model_id": "",
       "version_major": 2,
       "version_minor": 0
      },
      "text/plain": [
       "Validating: 0it [00:00, ?it/s]"
      ]
     },
     "metadata": {},
     "output_type": "display_data"
    },
    {
     "data": {
      "application/vnd.jupyter.widget-view+json": {
       "model_id": "",
       "version_major": 2,
       "version_minor": 0
      },
      "text/plain": [
       "Validating: 0it [00:00, ?it/s]"
      ]
     },
     "metadata": {},
     "output_type": "display_data"
    },
    {
     "data": {
      "application/vnd.jupyter.widget-view+json": {
       "model_id": "",
       "version_major": 2,
       "version_minor": 0
      },
      "text/plain": [
       "Validating: 0it [00:00, ?it/s]"
      ]
     },
     "metadata": {},
     "output_type": "display_data"
    },
    {
     "data": {
      "application/vnd.jupyter.widget-view+json": {
       "model_id": "",
       "version_major": 2,
       "version_minor": 0
      },
      "text/plain": [
       "Validating: 0it [00:00, ?it/s]"
      ]
     },
     "metadata": {},
     "output_type": "display_data"
    },
    {
     "data": {
      "application/vnd.jupyter.widget-view+json": {
       "model_id": "",
       "version_major": 2,
       "version_minor": 0
      },
      "text/plain": [
       "Validating: 0it [00:00, ?it/s]"
      ]
     },
     "metadata": {},
     "output_type": "display_data"
    },
    {
     "data": {
      "application/vnd.jupyter.widget-view+json": {
       "model_id": "",
       "version_major": 2,
       "version_minor": 0
      },
      "text/plain": [
       "Validating: 0it [00:00, ?it/s]"
      ]
     },
     "metadata": {},
     "output_type": "display_data"
    },
    {
     "data": {
      "application/vnd.jupyter.widget-view+json": {
       "model_id": "",
       "version_major": 2,
       "version_minor": 0
      },
      "text/plain": [
       "Validating: 0it [00:00, ?it/s]"
      ]
     },
     "metadata": {},
     "output_type": "display_data"
    },
    {
     "data": {
      "application/vnd.jupyter.widget-view+json": {
       "model_id": "",
       "version_major": 2,
       "version_minor": 0
      },
      "text/plain": [
       "Validating: 0it [00:00, ?it/s]"
      ]
     },
     "metadata": {},
     "output_type": "display_data"
    },
    {
     "data": {
      "application/vnd.jupyter.widget-view+json": {
       "model_id": "",
       "version_major": 2,
       "version_minor": 0
      },
      "text/plain": [
       "Validating: 0it [00:00, ?it/s]"
      ]
     },
     "metadata": {},
     "output_type": "display_data"
    },
    {
     "data": {
      "application/vnd.jupyter.widget-view+json": {
       "model_id": "",
       "version_major": 2,
       "version_minor": 0
      },
      "text/plain": [
       "Validating: 0it [00:00, ?it/s]"
      ]
     },
     "metadata": {},
     "output_type": "display_data"
    },
    {
     "data": {
      "application/vnd.jupyter.widget-view+json": {
       "model_id": "",
       "version_major": 2,
       "version_minor": 0
      },
      "text/plain": [
       "Validating: 0it [00:00, ?it/s]"
      ]
     },
     "metadata": {},
     "output_type": "display_data"
    },
    {
     "data": {
      "application/vnd.jupyter.widget-view+json": {
       "model_id": "",
       "version_major": 2,
       "version_minor": 0
      },
      "text/plain": [
       "Validating: 0it [00:00, ?it/s]"
      ]
     },
     "metadata": {},
     "output_type": "display_data"
    },
    {
     "data": {
      "application/vnd.jupyter.widget-view+json": {
       "model_id": "",
       "version_major": 2,
       "version_minor": 0
      },
      "text/plain": [
       "Validating: 0it [00:00, ?it/s]"
      ]
     },
     "metadata": {},
     "output_type": "display_data"
    },
    {
     "data": {
      "application/vnd.jupyter.widget-view+json": {
       "model_id": "",
       "version_major": 2,
       "version_minor": 0
      },
      "text/plain": [
       "Validating: 0it [00:00, ?it/s]"
      ]
     },
     "metadata": {},
     "output_type": "display_data"
    },
    {
     "data": {
      "application/vnd.jupyter.widget-view+json": {
       "model_id": "",
       "version_major": 2,
       "version_minor": 0
      },
      "text/plain": [
       "Validating: 0it [00:00, ?it/s]"
      ]
     },
     "metadata": {},
     "output_type": "display_data"
    },
    {
     "data": {
      "application/vnd.jupyter.widget-view+json": {
       "model_id": "",
       "version_major": 2,
       "version_minor": 0
      },
      "text/plain": [
       "Validating: 0it [00:00, ?it/s]"
      ]
     },
     "metadata": {},
     "output_type": "display_data"
    },
    {
     "data": {
      "application/vnd.jupyter.widget-view+json": {
       "model_id": "",
       "version_major": 2,
       "version_minor": 0
      },
      "text/plain": [
       "Validating: 0it [00:00, ?it/s]"
      ]
     },
     "metadata": {},
     "output_type": "display_data"
    },
    {
     "data": {
      "application/vnd.jupyter.widget-view+json": {
       "model_id": "",
       "version_major": 2,
       "version_minor": 0
      },
      "text/plain": [
       "Validating: 0it [00:00, ?it/s]"
      ]
     },
     "metadata": {},
     "output_type": "display_data"
    },
    {
     "data": {
      "application/vnd.jupyter.widget-view+json": {
       "model_id": "",
       "version_major": 2,
       "version_minor": 0
      },
      "text/plain": [
       "Validating: 0it [00:00, ?it/s]"
      ]
     },
     "metadata": {},
     "output_type": "display_data"
    },
    {
     "data": {
      "application/vnd.jupyter.widget-view+json": {
       "model_id": "",
       "version_major": 2,
       "version_minor": 0
      },
      "text/plain": [
       "Validating: 0it [00:00, ?it/s]"
      ]
     },
     "metadata": {},
     "output_type": "display_data"
    },
    {
     "data": {
      "application/vnd.jupyter.widget-view+json": {
       "model_id": "",
       "version_major": 2,
       "version_minor": 0
      },
      "text/plain": [
       "Validating: 0it [00:00, ?it/s]"
      ]
     },
     "metadata": {},
     "output_type": "display_data"
    },
    {
     "data": {
      "application/vnd.jupyter.widget-view+json": {
       "model_id": "",
       "version_major": 2,
       "version_minor": 0
      },
      "text/plain": [
       "Validating: 0it [00:00, ?it/s]"
      ]
     },
     "metadata": {},
     "output_type": "display_data"
    },
    {
     "data": {
      "application/vnd.jupyter.widget-view+json": {
       "model_id": "",
       "version_major": 2,
       "version_minor": 0
      },
      "text/plain": [
       "Validating: 0it [00:00, ?it/s]"
      ]
     },
     "metadata": {},
     "output_type": "display_data"
    },
    {
     "data": {
      "application/vnd.jupyter.widget-view+json": {
       "model_id": "",
       "version_major": 2,
       "version_minor": 0
      },
      "text/plain": [
       "Validating: 0it [00:00, ?it/s]"
      ]
     },
     "metadata": {},
     "output_type": "display_data"
    },
    {
     "data": {
      "application/vnd.jupyter.widget-view+json": {
       "model_id": "",
       "version_major": 2,
       "version_minor": 0
      },
      "text/plain": [
       "Validating: 0it [00:00, ?it/s]"
      ]
     },
     "metadata": {},
     "output_type": "display_data"
    },
    {
     "data": {
      "application/vnd.jupyter.widget-view+json": {
       "model_id": "",
       "version_major": 2,
       "version_minor": 0
      },
      "text/plain": [
       "Validating: 0it [00:00, ?it/s]"
      ]
     },
     "metadata": {},
     "output_type": "display_data"
    },
    {
     "data": {
      "application/vnd.jupyter.widget-view+json": {
       "model_id": "",
       "version_major": 2,
       "version_minor": 0
      },
      "text/plain": [
       "Validating: 0it [00:00, ?it/s]"
      ]
     },
     "metadata": {},
     "output_type": "display_data"
    },
    {
     "data": {
      "application/vnd.jupyter.widget-view+json": {
       "model_id": "",
       "version_major": 2,
       "version_minor": 0
      },
      "text/plain": [
       "Validating: 0it [00:00, ?it/s]"
      ]
     },
     "metadata": {},
     "output_type": "display_data"
    },
    {
     "data": {
      "application/vnd.jupyter.widget-view+json": {
       "model_id": "",
       "version_major": 2,
       "version_minor": 0
      },
      "text/plain": [
       "Validating: 0it [00:00, ?it/s]"
      ]
     },
     "metadata": {},
     "output_type": "display_data"
    },
    {
     "data": {
      "application/vnd.jupyter.widget-view+json": {
       "model_id": "",
       "version_major": 2,
       "version_minor": 0
      },
      "text/plain": [
       "Validating: 0it [00:00, ?it/s]"
      ]
     },
     "metadata": {},
     "output_type": "display_data"
    },
    {
     "data": {
      "application/vnd.jupyter.widget-view+json": {
       "model_id": "",
       "version_major": 2,
       "version_minor": 0
      },
      "text/plain": [
       "Validating: 0it [00:00, ?it/s]"
      ]
     },
     "metadata": {},
     "output_type": "display_data"
    },
    {
     "data": {
      "application/vnd.jupyter.widget-view+json": {
       "model_id": "",
       "version_major": 2,
       "version_minor": 0
      },
      "text/plain": [
       "Validating: 0it [00:00, ?it/s]"
      ]
     },
     "metadata": {},
     "output_type": "display_data"
    },
    {
     "data": {
      "application/vnd.jupyter.widget-view+json": {
       "model_id": "",
       "version_major": 2,
       "version_minor": 0
      },
      "text/plain": [
       "Validating: 0it [00:00, ?it/s]"
      ]
     },
     "metadata": {},
     "output_type": "display_data"
    },
    {
     "data": {
      "application/vnd.jupyter.widget-view+json": {
       "model_id": "",
       "version_major": 2,
       "version_minor": 0
      },
      "text/plain": [
       "Validating: 0it [00:00, ?it/s]"
      ]
     },
     "metadata": {},
     "output_type": "display_data"
    },
    {
     "data": {
      "application/vnd.jupyter.widget-view+json": {
       "model_id": "",
       "version_major": 2,
       "version_minor": 0
      },
      "text/plain": [
       "Validating: 0it [00:00, ?it/s]"
      ]
     },
     "metadata": {},
     "output_type": "display_data"
    },
    {
     "name": "stderr",
     "output_type": "stream",
     "text": [
      "WARNING - (py.warnings._showwarnmsg) - /Users/polina/.conda/envs/neural_prophet/lib/python3.7/site-packages/pandas/core/indexing.py:1738: SettingWithCopyWarning: \n",
      "A value is trying to be set on a copy of a slice from a DataFrame.\n",
      "Try using .loc[row_indexer,col_indexer] = value instead\n",
      "\n",
      "See the caveats in the documentation: https://pandas.pydata.org/pandas-docs/stable/user_guide/indexing.html#returning-a-view-versus-a-copy\n",
      "  self._setitem_single_column(loc, value[:, i].tolist(), pi)\n",
      "\n",
      "WARNING - (py.warnings._showwarnmsg) - /Users/polina/fds/neural_prophet/neuralprophet/tools/metrics_libra.py:13: RuntimeWarning: divide by zero encountered in double_scalars\n",
      "  return y_pred_mae / naive_mae\n",
      "\n",
      "GPU available: False, used: False\n",
      "TPU available: False, using: 0 TPU cores\n",
      "\n",
      "  | Name            | Type       | Params\n",
      "-----------------------------------------------\n",
      "0 | loss            | MASE       | 0     \n",
      "1 | logging_metrics | ModuleList | 0     \n",
      "2 | net_blocks      | ModuleList | 1.6 M \n",
      "-----------------------------------------------\n",
      "1.6 M     Trainable params\n",
      "0         Non-trainable params\n",
      "1.6 M     Total params\n",
      "6.421     Total estimated model params size (MB)\n"
     ]
    },
    {
     "data": {
      "application/vnd.jupyter.widget-view+json": {
       "model_id": "2dc044766ffb4090b1b5fe7fdf1fe9a7",
       "version_major": 2,
       "version_minor": 0
      },
      "text/plain": [
       "Training: 0it [00:00, ?it/s]"
      ]
     },
     "metadata": {},
     "output_type": "display_data"
    },
    {
     "data": {
      "application/vnd.jupyter.widget-view+json": {
       "model_id": "",
       "version_major": 2,
       "version_minor": 0
      },
      "text/plain": [
       "Validating: 0it [00:00, ?it/s]"
      ]
     },
     "metadata": {},
     "output_type": "display_data"
    },
    {
     "data": {
      "application/vnd.jupyter.widget-view+json": {
       "model_id": "",
       "version_major": 2,
       "version_minor": 0
      },
      "text/plain": [
       "Validating: 0it [00:00, ?it/s]"
      ]
     },
     "metadata": {},
     "output_type": "display_data"
    },
    {
     "data": {
      "application/vnd.jupyter.widget-view+json": {
       "model_id": "",
       "version_major": 2,
       "version_minor": 0
      },
      "text/plain": [
       "Validating: 0it [00:00, ?it/s]"
      ]
     },
     "metadata": {},
     "output_type": "display_data"
    },
    {
     "data": {
      "application/vnd.jupyter.widget-view+json": {
       "model_id": "",
       "version_major": 2,
       "version_minor": 0
      },
      "text/plain": [
       "Validating: 0it [00:00, ?it/s]"
      ]
     },
     "metadata": {},
     "output_type": "display_data"
    },
    {
     "data": {
      "application/vnd.jupyter.widget-view+json": {
       "model_id": "",
       "version_major": 2,
       "version_minor": 0
      },
      "text/plain": [
       "Validating: 0it [00:00, ?it/s]"
      ]
     },
     "metadata": {},
     "output_type": "display_data"
    },
    {
     "data": {
      "application/vnd.jupyter.widget-view+json": {
       "model_id": "",
       "version_major": 2,
       "version_minor": 0
      },
      "text/plain": [
       "Validating: 0it [00:00, ?it/s]"
      ]
     },
     "metadata": {},
     "output_type": "display_data"
    },
    {
     "data": {
      "application/vnd.jupyter.widget-view+json": {
       "model_id": "",
       "version_major": 2,
       "version_minor": 0
      },
      "text/plain": [
       "Validating: 0it [00:00, ?it/s]"
      ]
     },
     "metadata": {},
     "output_type": "display_data"
    },
    {
     "data": {
      "application/vnd.jupyter.widget-view+json": {
       "model_id": "",
       "version_major": 2,
       "version_minor": 0
      },
      "text/plain": [
       "Validating: 0it [00:00, ?it/s]"
      ]
     },
     "metadata": {},
     "output_type": "display_data"
    },
    {
     "data": {
      "application/vnd.jupyter.widget-view+json": {
       "model_id": "",
       "version_major": 2,
       "version_minor": 0
      },
      "text/plain": [
       "Validating: 0it [00:00, ?it/s]"
      ]
     },
     "metadata": {},
     "output_type": "display_data"
    },
    {
     "data": {
      "application/vnd.jupyter.widget-view+json": {
       "model_id": "",
       "version_major": 2,
       "version_minor": 0
      },
      "text/plain": [
       "Validating: 0it [00:00, ?it/s]"
      ]
     },
     "metadata": {},
     "output_type": "display_data"
    },
    {
     "data": {
      "application/vnd.jupyter.widget-view+json": {
       "model_id": "",
       "version_major": 2,
       "version_minor": 0
      },
      "text/plain": [
       "Validating: 0it [00:00, ?it/s]"
      ]
     },
     "metadata": {},
     "output_type": "display_data"
    },
    {
     "data": {
      "application/vnd.jupyter.widget-view+json": {
       "model_id": "",
       "version_major": 2,
       "version_minor": 0
      },
      "text/plain": [
       "Validating: 0it [00:00, ?it/s]"
      ]
     },
     "metadata": {},
     "output_type": "display_data"
    },
    {
     "data": {
      "application/vnd.jupyter.widget-view+json": {
       "model_id": "",
       "version_major": 2,
       "version_minor": 0
      },
      "text/plain": [
       "Validating: 0it [00:00, ?it/s]"
      ]
     },
     "metadata": {},
     "output_type": "display_data"
    },
    {
     "data": {
      "application/vnd.jupyter.widget-view+json": {
       "model_id": "",
       "version_major": 2,
       "version_minor": 0
      },
      "text/plain": [
       "Validating: 0it [00:00, ?it/s]"
      ]
     },
     "metadata": {},
     "output_type": "display_data"
    },
    {
     "data": {
      "application/vnd.jupyter.widget-view+json": {
       "model_id": "",
       "version_major": 2,
       "version_minor": 0
      },
      "text/plain": [
       "Validating: 0it [00:00, ?it/s]"
      ]
     },
     "metadata": {},
     "output_type": "display_data"
    },
    {
     "data": {
      "application/vnd.jupyter.widget-view+json": {
       "model_id": "",
       "version_major": 2,
       "version_minor": 0
      },
      "text/plain": [
       "Validating: 0it [00:00, ?it/s]"
      ]
     },
     "metadata": {},
     "output_type": "display_data"
    },
    {
     "data": {
      "application/vnd.jupyter.widget-view+json": {
       "model_id": "",
       "version_major": 2,
       "version_minor": 0
      },
      "text/plain": [
       "Validating: 0it [00:00, ?it/s]"
      ]
     },
     "metadata": {},
     "output_type": "display_data"
    },
    {
     "data": {
      "application/vnd.jupyter.widget-view+json": {
       "model_id": "",
       "version_major": 2,
       "version_minor": 0
      },
      "text/plain": [
       "Validating: 0it [00:00, ?it/s]"
      ]
     },
     "metadata": {},
     "output_type": "display_data"
    },
    {
     "data": {
      "application/vnd.jupyter.widget-view+json": {
       "model_id": "",
       "version_major": 2,
       "version_minor": 0
      },
      "text/plain": [
       "Validating: 0it [00:00, ?it/s]"
      ]
     },
     "metadata": {},
     "output_type": "display_data"
    },
    {
     "data": {
      "application/vnd.jupyter.widget-view+json": {
       "model_id": "",
       "version_major": 2,
       "version_minor": 0
      },
      "text/plain": [
       "Validating: 0it [00:00, ?it/s]"
      ]
     },
     "metadata": {},
     "output_type": "display_data"
    },
    {
     "data": {
      "application/vnd.jupyter.widget-view+json": {
       "model_id": "",
       "version_major": 2,
       "version_minor": 0
      },
      "text/plain": [
       "Validating: 0it [00:00, ?it/s]"
      ]
     },
     "metadata": {},
     "output_type": "display_data"
    },
    {
     "data": {
      "application/vnd.jupyter.widget-view+json": {
       "model_id": "",
       "version_major": 2,
       "version_minor": 0
      },
      "text/plain": [
       "Validating: 0it [00:00, ?it/s]"
      ]
     },
     "metadata": {},
     "output_type": "display_data"
    },
    {
     "data": {
      "application/vnd.jupyter.widget-view+json": {
       "model_id": "",
       "version_major": 2,
       "version_minor": 0
      },
      "text/plain": [
       "Validating: 0it [00:00, ?it/s]"
      ]
     },
     "metadata": {},
     "output_type": "display_data"
    },
    {
     "data": {
      "application/vnd.jupyter.widget-view+json": {
       "model_id": "",
       "version_major": 2,
       "version_minor": 0
      },
      "text/plain": [
       "Validating: 0it [00:00, ?it/s]"
      ]
     },
     "metadata": {},
     "output_type": "display_data"
    },
    {
     "data": {
      "application/vnd.jupyter.widget-view+json": {
       "model_id": "",
       "version_major": 2,
       "version_minor": 0
      },
      "text/plain": [
       "Validating: 0it [00:00, ?it/s]"
      ]
     },
     "metadata": {},
     "output_type": "display_data"
    },
    {
     "data": {
      "application/vnd.jupyter.widget-view+json": {
       "model_id": "",
       "version_major": 2,
       "version_minor": 0
      },
      "text/plain": [
       "Validating: 0it [00:00, ?it/s]"
      ]
     },
     "metadata": {},
     "output_type": "display_data"
    },
    {
     "data": {
      "application/vnd.jupyter.widget-view+json": {
       "model_id": "",
       "version_major": 2,
       "version_minor": 0
      },
      "text/plain": [
       "Validating: 0it [00:00, ?it/s]"
      ]
     },
     "metadata": {},
     "output_type": "display_data"
    },
    {
     "data": {
      "application/vnd.jupyter.widget-view+json": {
       "model_id": "",
       "version_major": 2,
       "version_minor": 0
      },
      "text/plain": [
       "Validating: 0it [00:00, ?it/s]"
      ]
     },
     "metadata": {},
     "output_type": "display_data"
    },
    {
     "name": "stderr",
     "output_type": "stream",
     "text": [
      "WARNING - (py.warnings._showwarnmsg) - /Users/polina/.conda/envs/neural_prophet/lib/python3.7/site-packages/pandas/core/indexing.py:1738: SettingWithCopyWarning: \n",
      "A value is trying to be set on a copy of a slice from a DataFrame.\n",
      "Try using .loc[row_indexer,col_indexer] = value instead\n",
      "\n",
      "See the caveats in the documentation: https://pandas.pydata.org/pandas-docs/stable/user_guide/indexing.html#returning-a-view-versus-a-copy\n",
      "  self._setitem_single_column(loc, value[:, i].tolist(), pi)\n",
      "\n",
      "WARNING - (py.warnings._showwarnmsg) - /Users/polina/fds/neural_prophet/neuralprophet/tools/metrics_libra.py:13: RuntimeWarning: divide by zero encountered in double_scalars\n",
      "  return y_pred_mae / naive_mae\n",
      "\n",
      "GPU available: False, used: False\n",
      "TPU available: False, using: 0 TPU cores\n",
      "\n",
      "   | Name                               | Type                            | Params\n",
      "----------------------------------------------------------------------------------------\n",
      "0  | loss                               | QuantileLoss                    | 0     \n",
      "1  | logging_metrics                    | ModuleList                      | 0     \n",
      "2  | input_embeddings                   | MultiEmbedding                  | 0     \n",
      "3  | prescalers                         | ModuleDict                      | 96    \n",
      "4  | static_variable_selection          | VariableSelectionNetwork        | 2.8 K \n",
      "5  | encoder_variable_selection         | VariableSelectionNetwork        | 2.9 K \n",
      "6  | decoder_variable_selection         | VariableSelectionNetwork        | 1.9 K \n",
      "7  | static_context_variable_selection  | GatedResidualNetwork            | 4.3 K \n",
      "8  | static_context_initial_hidden_lstm | GatedResidualNetwork            | 4.3 K \n",
      "9  | static_context_initial_cell_lstm   | GatedResidualNetwork            | 4.3 K \n",
      "10 | static_context_enrichment          | GatedResidualNetwork            | 4.3 K \n",
      "11 | lstm_encoder                       | LSTM                            | 8.4 K \n",
      "12 | lstm_decoder                       | LSTM                            | 8.4 K \n",
      "13 | post_lstm_gate_encoder             | GatedLinearUnit                 | 2.1 K \n",
      "14 | post_lstm_add_norm_encoder         | AddNorm                         | 64    \n",
      "15 | static_enrichment                  | GatedResidualNetwork            | 5.3 K \n",
      "16 | multihead_attn                     | InterpretableMultiHeadAttention | 4.2 K \n",
      "17 | post_attn_gate_norm                | GateAddNorm                     | 2.2 K \n",
      "18 | pos_wise_ff                        | GatedResidualNetwork            | 4.3 K \n",
      "19 | pre_output_gate_norm               | GateAddNorm                     | 2.2 K \n",
      "20 | output_layer                       | Linear                          | 231   \n",
      "----------------------------------------------------------------------------------------\n",
      "62.2 K    Trainable params\n",
      "0         Non-trainable params\n",
      "62.2 K    Total params\n",
      "0.249     Total estimated model params size (MB)\n"
     ]
    },
    {
     "data": {
      "application/vnd.jupyter.widget-view+json": {
       "model_id": "44a564ff3f504580a0772ecc595bc429",
       "version_major": 2,
       "version_minor": 0
      },
      "text/plain": [
       "Training: 0it [00:00, ?it/s]"
      ]
     },
     "metadata": {},
     "output_type": "display_data"
    },
    {
     "data": {
      "application/vnd.jupyter.widget-view+json": {
       "model_id": "",
       "version_major": 2,
       "version_minor": 0
      },
      "text/plain": [
       "Validating: 0it [00:00, ?it/s]"
      ]
     },
     "metadata": {},
     "output_type": "display_data"
    },
    {
     "data": {
      "application/vnd.jupyter.widget-view+json": {
       "model_id": "",
       "version_major": 2,
       "version_minor": 0
      },
      "text/plain": [
       "Validating: 0it [00:00, ?it/s]"
      ]
     },
     "metadata": {},
     "output_type": "display_data"
    },
    {
     "data": {
      "application/vnd.jupyter.widget-view+json": {
       "model_id": "",
       "version_major": 2,
       "version_minor": 0
      },
      "text/plain": [
       "Validating: 0it [00:00, ?it/s]"
      ]
     },
     "metadata": {},
     "output_type": "display_data"
    },
    {
     "data": {
      "application/vnd.jupyter.widget-view+json": {
       "model_id": "",
       "version_major": 2,
       "version_minor": 0
      },
      "text/plain": [
       "Validating: 0it [00:00, ?it/s]"
      ]
     },
     "metadata": {},
     "output_type": "display_data"
    },
    {
     "data": {
      "application/vnd.jupyter.widget-view+json": {
       "model_id": "",
       "version_major": 2,
       "version_minor": 0
      },
      "text/plain": [
       "Validating: 0it [00:00, ?it/s]"
      ]
     },
     "metadata": {},
     "output_type": "display_data"
    },
    {
     "data": {
      "application/vnd.jupyter.widget-view+json": {
       "model_id": "",
       "version_major": 2,
       "version_minor": 0
      },
      "text/plain": [
       "Validating: 0it [00:00, ?it/s]"
      ]
     },
     "metadata": {},
     "output_type": "display_data"
    },
    {
     "data": {
      "application/vnd.jupyter.widget-view+json": {
       "model_id": "",
       "version_major": 2,
       "version_minor": 0
      },
      "text/plain": [
       "Validating: 0it [00:00, ?it/s]"
      ]
     },
     "metadata": {},
     "output_type": "display_data"
    },
    {
     "data": {
      "application/vnd.jupyter.widget-view+json": {
       "model_id": "",
       "version_major": 2,
       "version_minor": 0
      },
      "text/plain": [
       "Validating: 0it [00:00, ?it/s]"
      ]
     },
     "metadata": {},
     "output_type": "display_data"
    },
    {
     "data": {
      "application/vnd.jupyter.widget-view+json": {
       "model_id": "",
       "version_major": 2,
       "version_minor": 0
      },
      "text/plain": [
       "Validating: 0it [00:00, ?it/s]"
      ]
     },
     "metadata": {},
     "output_type": "display_data"
    },
    {
     "data": {
      "application/vnd.jupyter.widget-view+json": {
       "model_id": "",
       "version_major": 2,
       "version_minor": 0
      },
      "text/plain": [
       "Validating: 0it [00:00, ?it/s]"
      ]
     },
     "metadata": {},
     "output_type": "display_data"
    },
    {
     "data": {
      "application/vnd.jupyter.widget-view+json": {
       "model_id": "",
       "version_major": 2,
       "version_minor": 0
      },
      "text/plain": [
       "Validating: 0it [00:00, ?it/s]"
      ]
     },
     "metadata": {},
     "output_type": "display_data"
    },
    {
     "data": {
      "application/vnd.jupyter.widget-view+json": {
       "model_id": "",
       "version_major": 2,
       "version_minor": 0
      },
      "text/plain": [
       "Validating: 0it [00:00, ?it/s]"
      ]
     },
     "metadata": {},
     "output_type": "display_data"
    },
    {
     "data": {
      "application/vnd.jupyter.widget-view+json": {
       "model_id": "",
       "version_major": 2,
       "version_minor": 0
      },
      "text/plain": [
       "Validating: 0it [00:00, ?it/s]"
      ]
     },
     "metadata": {},
     "output_type": "display_data"
    },
    {
     "data": {
      "application/vnd.jupyter.widget-view+json": {
       "model_id": "",
       "version_major": 2,
       "version_minor": 0
      },
      "text/plain": [
       "Validating: 0it [00:00, ?it/s]"
      ]
     },
     "metadata": {},
     "output_type": "display_data"
    },
    {
     "data": {
      "application/vnd.jupyter.widget-view+json": {
       "model_id": "",
       "version_major": 2,
       "version_minor": 0
      },
      "text/plain": [
       "Validating: 0it [00:00, ?it/s]"
      ]
     },
     "metadata": {},
     "output_type": "display_data"
    },
    {
     "data": {
      "application/vnd.jupyter.widget-view+json": {
       "model_id": "",
       "version_major": 2,
       "version_minor": 0
      },
      "text/plain": [
       "Validating: 0it [00:00, ?it/s]"
      ]
     },
     "metadata": {},
     "output_type": "display_data"
    },
    {
     "data": {
      "application/vnd.jupyter.widget-view+json": {
       "model_id": "",
       "version_major": 2,
       "version_minor": 0
      },
      "text/plain": [
       "Validating: 0it [00:00, ?it/s]"
      ]
     },
     "metadata": {},
     "output_type": "display_data"
    },
    {
     "data": {
      "application/vnd.jupyter.widget-view+json": {
       "model_id": "",
       "version_major": 2,
       "version_minor": 0
      },
      "text/plain": [
       "Validating: 0it [00:00, ?it/s]"
      ]
     },
     "metadata": {},
     "output_type": "display_data"
    },
    {
     "data": {
      "application/vnd.jupyter.widget-view+json": {
       "model_id": "",
       "version_major": 2,
       "version_minor": 0
      },
      "text/plain": [
       "Validating: 0it [00:00, ?it/s]"
      ]
     },
     "metadata": {},
     "output_type": "display_data"
    },
    {
     "data": {
      "application/vnd.jupyter.widget-view+json": {
       "model_id": "",
       "version_major": 2,
       "version_minor": 0
      },
      "text/plain": [
       "Validating: 0it [00:00, ?it/s]"
      ]
     },
     "metadata": {},
     "output_type": "display_data"
    },
    {
     "data": {
      "application/vnd.jupyter.widget-view+json": {
       "model_id": "",
       "version_major": 2,
       "version_minor": 0
      },
      "text/plain": [
       "Validating: 0it [00:00, ?it/s]"
      ]
     },
     "metadata": {},
     "output_type": "display_data"
    },
    {
     "data": {
      "application/vnd.jupyter.widget-view+json": {
       "model_id": "",
       "version_major": 2,
       "version_minor": 0
      },
      "text/plain": [
       "Validating: 0it [00:00, ?it/s]"
      ]
     },
     "metadata": {},
     "output_type": "display_data"
    },
    {
     "data": {
      "application/vnd.jupyter.widget-view+json": {
       "model_id": "",
       "version_major": 2,
       "version_minor": 0
      },
      "text/plain": [
       "Validating: 0it [00:00, ?it/s]"
      ]
     },
     "metadata": {},
     "output_type": "display_data"
    },
    {
     "data": {
      "application/vnd.jupyter.widget-view+json": {
       "model_id": "",
       "version_major": 2,
       "version_minor": 0
      },
      "text/plain": [
       "Validating: 0it [00:00, ?it/s]"
      ]
     },
     "metadata": {},
     "output_type": "display_data"
    },
    {
     "data": {
      "application/vnd.jupyter.widget-view+json": {
       "model_id": "",
       "version_major": 2,
       "version_minor": 0
      },
      "text/plain": [
       "Validating: 0it [00:00, ?it/s]"
      ]
     },
     "metadata": {},
     "output_type": "display_data"
    },
    {
     "data": {
      "application/vnd.jupyter.widget-view+json": {
       "model_id": "",
       "version_major": 2,
       "version_minor": 0
      },
      "text/plain": [
       "Validating: 0it [00:00, ?it/s]"
      ]
     },
     "metadata": {},
     "output_type": "display_data"
    },
    {
     "data": {
      "application/vnd.jupyter.widget-view+json": {
       "model_id": "",
       "version_major": 2,
       "version_minor": 0
      },
      "text/plain": [
       "Validating: 0it [00:00, ?it/s]"
      ]
     },
     "metadata": {},
     "output_type": "display_data"
    },
    {
     "data": {
      "application/vnd.jupyter.widget-view+json": {
       "model_id": "",
       "version_major": 2,
       "version_minor": 0
      },
      "text/plain": [
       "Validating: 0it [00:00, ?it/s]"
      ]
     },
     "metadata": {},
     "output_type": "display_data"
    },
    {
     "data": {
      "application/vnd.jupyter.widget-view+json": {
       "model_id": "",
       "version_major": 2,
       "version_minor": 0
      },
      "text/plain": [
       "Validating: 0it [00:00, ?it/s]"
      ]
     },
     "metadata": {},
     "output_type": "display_data"
    },
    {
     "data": {
      "application/vnd.jupyter.widget-view+json": {
       "model_id": "",
       "version_major": 2,
       "version_minor": 0
      },
      "text/plain": [
       "Validating: 0it [00:00, ?it/s]"
      ]
     },
     "metadata": {},
     "output_type": "display_data"
    },
    {
     "data": {
      "application/vnd.jupyter.widget-view+json": {
       "model_id": "",
       "version_major": 2,
       "version_minor": 0
      },
      "text/plain": [
       "Validating: 0it [00:00, ?it/s]"
      ]
     },
     "metadata": {},
     "output_type": "display_data"
    },
    {
     "data": {
      "application/vnd.jupyter.widget-view+json": {
       "model_id": "",
       "version_major": 2,
       "version_minor": 0
      },
      "text/plain": [
       "Validating: 0it [00:00, ?it/s]"
      ]
     },
     "metadata": {},
     "output_type": "display_data"
    },
    {
     "data": {
      "application/vnd.jupyter.widget-view+json": {
       "model_id": "",
       "version_major": 2,
       "version_minor": 0
      },
      "text/plain": [
       "Validating: 0it [00:00, ?it/s]"
      ]
     },
     "metadata": {},
     "output_type": "display_data"
    },
    {
     "data": {
      "application/vnd.jupyter.widget-view+json": {
       "model_id": "",
       "version_major": 2,
       "version_minor": 0
      },
      "text/plain": [
       "Validating: 0it [00:00, ?it/s]"
      ]
     },
     "metadata": {},
     "output_type": "display_data"
    },
    {
     "data": {
      "application/vnd.jupyter.widget-view+json": {
       "model_id": "",
       "version_major": 2,
       "version_minor": 0
      },
      "text/plain": [
       "Validating: 0it [00:00, ?it/s]"
      ]
     },
     "metadata": {},
     "output_type": "display_data"
    },
    {
     "data": {
      "application/vnd.jupyter.widget-view+json": {
       "model_id": "",
       "version_major": 2,
       "version_minor": 0
      },
      "text/plain": [
       "Validating: 0it [00:00, ?it/s]"
      ]
     },
     "metadata": {},
     "output_type": "display_data"
    },
    {
     "name": "stderr",
     "output_type": "stream",
     "text": [
      "WARNING - (py.warnings._showwarnmsg) - /Users/polina/.conda/envs/neural_prophet/lib/python3.7/site-packages/pandas/core/indexing.py:1738: SettingWithCopyWarning: \n",
      "A value is trying to be set on a copy of a slice from a DataFrame.\n",
      "Try using .loc[row_indexer,col_indexer] = value instead\n",
      "\n",
      "See the caveats in the documentation: https://pandas.pydata.org/pandas-docs/stable/user_guide/indexing.html#returning-a-view-versus-a-copy\n",
      "  self._setitem_single_column(loc, value[:, i].tolist(), pi)\n",
      "\n",
      "WARNING - (py.warnings._showwarnmsg) - /Users/polina/fds/neural_prophet/neuralprophet/tools/metrics_libra.py:13: RuntimeWarning: divide by zero encountered in double_scalars\n",
      "  return y_pred_mae / naive_mae\n",
      "\n",
      "INFO - (NP.config.set_auto_batch_epoch) - Auto-set batch_size to 16\n",
      "\n",
      "  0%|          | 0/50 [00:00<?, ?it/s]\u001b[AGPU available: False, used: False\n",
      "TPU available: False, using: 0 TPU cores\n",
      "WARNING - (py.warnings._showwarnmsg) - /Users/polina/.conda/envs/neural_prophet/lib/python3.7/site-packages/pytorch_lightning/utilities/distributed.py:68: UserWarning: you defined a validation_step but have no val_dataloader. Skipping validation loop\n",
      "  warnings.warn(*args, **kwargs)\n",
      "\n",
      "\n",
      "  | Name      | Type         | Params\n",
      "-------------------------------------------\n",
      "0 | lstm      | LSTM         | 960   \n",
      "1 | linear    | Linear       | 11    \n",
      "2 | loss_func | SmoothL1Loss | 0     \n",
      "-------------------------------------------\n",
      "971       Trainable params\n",
      "0         Non-trainable params\n",
      "971       Total params\n",
      "0.004     Total estimated model params size (MB)\n"
     ]
    },
    {
     "data": {
      "application/vnd.jupyter.widget-view+json": {
       "model_id": "",
       "version_major": 2,
       "version_minor": 0
      },
      "text/plain": [
       "Validation sanity check: 0it [00:00, ?it/s]"
      ]
     },
     "metadata": {},
     "output_type": "display_data"
    },
    {
     "name": "stderr",
     "output_type": "stream",
     "text": [
      "WARNING - (py.warnings._showwarnmsg) - /Users/polina/.conda/envs/neural_prophet/lib/python3.7/site-packages/pytorch_lightning/utilities/distributed.py:68: UserWarning: The dataloader, train dataloader, does not have many workers which may be a bottleneck. Consider increasing the value of the `num_workers` argument` (try 8 which is the number of cpus on this machine) in the `DataLoader` init to improve performance.\n",
      "  warnings.warn(*args, **kwargs)\n",
      "\n"
     ]
    },
    {
     "data": {
      "application/vnd.jupyter.widget-view+json": {
       "model_id": "1a7c1ee85a1a4817b528af719d189388",
       "version_major": 2,
       "version_minor": 0
      },
      "text/plain": [
       "Training: 0it [00:00, ?it/s]"
      ]
     },
     "metadata": {},
     "output_type": "display_data"
    },
    {
     "name": "stderr",
     "output_type": "stream",
     "text": [
      "INFO - (NP.utils.set_auto_seasonalities) - Disabling weekly seasonality. Run NeuralProphet with weekly_seasonality=True to override this.\n",
      "INFO - (NP.utils.set_auto_seasonalities) - Disabling daily seasonality. Run NeuralProphet with daily_seasonality=True to override this.\n",
      "INFO - (NP.config.set_auto_batch_epoch) - Auto-set batch_size to 16\n",
      "\n",
      "\n",
      "  0%|          | 0/50 [00:00<?, ?it/s]\u001b[A\u001b[AGPU available: False, used: False\n",
      "TPU available: False, using: 0 TPU cores\n",
      "WARNING - (py.warnings._showwarnmsg) - /Users/polina/.conda/envs/neural_prophet/lib/python3.7/site-packages/pytorch_lightning/utilities/distributed.py:68: UserWarning: you defined a validation_step but have no val_dataloader. Skipping validation loop\n",
      "  warnings.warn(*args, **kwargs)\n",
      "\n",
      "\n",
      "  | Name          | Type          | Params\n",
      "------------------------------------------------\n",
      "0 | season_params | ParameterDict | 12    \n",
      "1 | ar_net        | ModuleList    | 12    \n",
      "2 | loss_func     | SmoothL1Loss  | 0     \n",
      "------------------------------------------------\n",
      "37        Trainable params\n",
      "0         Non-trainable params\n",
      "37        Total params\n",
      "0.000     Total estimated model params size (MB)\n"
     ]
    },
    {
     "data": {
      "application/vnd.jupyter.widget-view+json": {
       "model_id": "",
       "version_major": 2,
       "version_minor": 0
      },
      "text/plain": [
       "Validation sanity check: 0it [00:00, ?it/s]"
      ]
     },
     "metadata": {},
     "output_type": "display_data"
    },
    {
     "name": "stderr",
     "output_type": "stream",
     "text": [
      "WARNING - (py.warnings._showwarnmsg) - /Users/polina/.conda/envs/neural_prophet/lib/python3.7/site-packages/pytorch_lightning/utilities/distributed.py:68: UserWarning: The dataloader, train dataloader, does not have many workers which may be a bottleneck. Consider increasing the value of the `num_workers` argument` (try 8 which is the number of cpus on this machine) in the `DataLoader` init to improve performance.\n",
      "  warnings.warn(*args, **kwargs)\n",
      "\n"
     ]
    },
    {
     "data": {
      "application/vnd.jupyter.widget-view+json": {
       "model_id": "3a414250c32d4ac1a00c72c8f3cf580d",
       "version_major": 2,
       "version_minor": 0
      },
      "text/plain": [
       "Training: 0it [00:00, ?it/s]"
      ]
     },
     "metadata": {},
     "output_type": "display_data"
    },
    {
     "name": "stderr",
     "output_type": "stream",
     "text": [
      "GPU available: False, used: False\n",
      "TPU available: False, using: 0 TPU cores\n",
      "\n",
      "  0%|          | 0/50 [00:00<?, ?it/s]\u001b[A\n",
      "WARNING - (py.warnings._showwarnmsg) - /Users/polina/.conda/envs/neural_prophet/lib/python3.7/site-packages/pytorch_lightning/utilities/distributed.py:68: UserWarning: you defined a validation_step but have no val_dataloader. Skipping validation loop\n",
      "  warnings.warn(*args, **kwargs)\n",
      "\n",
      "\n",
      "  | Name                   | Type                   | Params\n",
      "------------------------------------------------------------------\n",
      "0 | loss                   | NormalDistributionLoss | 0     \n",
      "1 | logging_metrics        | ModuleList             | 0     \n",
      "2 | embeddings             | MultiEmbedding         | 0     \n",
      "3 | rnn                    | LSTM                   | 12.9 K\n",
      "4 | distribution_projector | Linear                 | 66    \n",
      "------------------------------------------------------------------\n",
      "13.0 K    Trainable params\n",
      "0         Non-trainable params\n",
      "13.0 K    Total params\n",
      "0.052     Total estimated model params size (MB)\n"
     ]
    },
    {
     "data": {
      "application/vnd.jupyter.widget-view+json": {
       "model_id": "8a5fe45c3922436fbc4124cedab59abe",
       "version_major": 2,
       "version_minor": 0
      },
      "text/plain": [
       "Finding best initial lr:   0%|          | 0/100 [00:00<?, ?it/s]"
      ]
     },
     "metadata": {},
     "output_type": "display_data"
    },
    {
     "name": "stderr",
     "output_type": "stream",
     "text": [
      "Restored states from the checkpoint file at /Users/polina/fds/neural_prophet/example_notebooks/lr_find_temp_model.ckpt\n",
      "\n",
      "  | Name                   | Type                   | Params\n",
      "------------------------------------------------------------------\n",
      "0 | loss                   | NormalDistributionLoss | 0     \n",
      "1 | logging_metrics        | ModuleList             | 0     \n",
      "2 | embeddings             | MultiEmbedding         | 0     \n",
      "3 | rnn                    | LSTM                   | 12.9 K\n",
      "4 | distribution_projector | Linear                 | 66    \n",
      "------------------------------------------------------------------\n",
      "13.0 K    Trainable params\n",
      "0         Non-trainable params\n",
      "13.0 K    Total params\n",
      "0.052     Total estimated model params size (MB)\n"
     ]
    },
    {
     "data": {
      "application/vnd.jupyter.widget-view+json": {
       "model_id": "486d08f3b2894eb1820c4e1e0c6acb1e",
       "version_major": 2,
       "version_minor": 0
      },
      "text/plain": [
       "Training: 1it [00:00, ?it/s]"
      ]
     },
     "metadata": {},
     "output_type": "display_data"
    },
    {
     "data": {
      "application/vnd.jupyter.widget-view+json": {
       "model_id": "",
       "version_major": 2,
       "version_minor": 0
      },
      "text/plain": [
       "Validating: 0it [00:00, ?it/s]"
      ]
     },
     "metadata": {},
     "output_type": "display_data"
    },
    {
     "data": {
      "application/vnd.jupyter.widget-view+json": {
       "model_id": "",
       "version_major": 2,
       "version_minor": 0
      },
      "text/plain": [
       "Validating: 0it [00:00, ?it/s]"
      ]
     },
     "metadata": {},
     "output_type": "display_data"
    },
    {
     "data": {
      "application/vnd.jupyter.widget-view+json": {
       "model_id": "",
       "version_major": 2,
       "version_minor": 0
      },
      "text/plain": [
       "Validating: 0it [00:00, ?it/s]"
      ]
     },
     "metadata": {},
     "output_type": "display_data"
    },
    {
     "data": {
      "application/vnd.jupyter.widget-view+json": {
       "model_id": "",
       "version_major": 2,
       "version_minor": 0
      },
      "text/plain": [
       "Validating: 0it [00:00, ?it/s]"
      ]
     },
     "metadata": {},
     "output_type": "display_data"
    },
    {
     "data": {
      "application/vnd.jupyter.widget-view+json": {
       "model_id": "",
       "version_major": 2,
       "version_minor": 0
      },
      "text/plain": [
       "Validating: 0it [00:00, ?it/s]"
      ]
     },
     "metadata": {},
     "output_type": "display_data"
    },
    {
     "data": {
      "application/vnd.jupyter.widget-view+json": {
       "model_id": "",
       "version_major": 2,
       "version_minor": 0
      },
      "text/plain": [
       "Validating: 0it [00:00, ?it/s]"
      ]
     },
     "metadata": {},
     "output_type": "display_data"
    },
    {
     "data": {
      "application/vnd.jupyter.widget-view+json": {
       "model_id": "",
       "version_major": 2,
       "version_minor": 0
      },
      "text/plain": [
       "Validating: 0it [00:00, ?it/s]"
      ]
     },
     "metadata": {},
     "output_type": "display_data"
    },
    {
     "data": {
      "application/vnd.jupyter.widget-view+json": {
       "model_id": "",
       "version_major": 2,
       "version_minor": 0
      },
      "text/plain": [
       "Validating: 0it [00:00, ?it/s]"
      ]
     },
     "metadata": {},
     "output_type": "display_data"
    },
    {
     "data": {
      "application/vnd.jupyter.widget-view+json": {
       "model_id": "",
       "version_major": 2,
       "version_minor": 0
      },
      "text/plain": [
       "Validating: 0it [00:00, ?it/s]"
      ]
     },
     "metadata": {},
     "output_type": "display_data"
    },
    {
     "data": {
      "application/vnd.jupyter.widget-view+json": {
       "model_id": "",
       "version_major": 2,
       "version_minor": 0
      },
      "text/plain": [
       "Validating: 0it [00:00, ?it/s]"
      ]
     },
     "metadata": {},
     "output_type": "display_data"
    },
    {
     "data": {
      "application/vnd.jupyter.widget-view+json": {
       "model_id": "",
       "version_major": 2,
       "version_minor": 0
      },
      "text/plain": [
       "Validating: 0it [00:00, ?it/s]"
      ]
     },
     "metadata": {},
     "output_type": "display_data"
    },
    {
     "data": {
      "application/vnd.jupyter.widget-view+json": {
       "model_id": "",
       "version_major": 2,
       "version_minor": 0
      },
      "text/plain": [
       "Validating: 0it [00:00, ?it/s]"
      ]
     },
     "metadata": {},
     "output_type": "display_data"
    },
    {
     "name": "stderr",
     "output_type": "stream",
     "text": [
      "WARNING - (py.warnings._showwarnmsg) - /Users/polina/.conda/envs/neural_prophet/lib/python3.7/site-packages/pandas/core/indexing.py:1738: SettingWithCopyWarning: \n",
      "A value is trying to be set on a copy of a slice from a DataFrame.\n",
      "Try using .loc[row_indexer,col_indexer] = value instead\n",
      "\n",
      "See the caveats in the documentation: https://pandas.pydata.org/pandas-docs/stable/user_guide/indexing.html#returning-a-view-versus-a-copy\n",
      "  self._setitem_single_column(loc, value[:, i].tolist(), pi)\n",
      "\n",
      "GPU available: False, used: False\n",
      "TPU available: False, using: 0 TPU cores\n",
      "\n",
      "  | Name            | Type       | Params\n",
      "-----------------------------------------------\n",
      "0 | loss            | MASE       | 0     \n",
      "1 | logging_metrics | ModuleList | 0     \n",
      "2 | net_blocks      | ModuleList | 1.6 M \n",
      "-----------------------------------------------\n",
      "1.6 M     Trainable params\n",
      "0         Non-trainable params\n",
      "1.6 M     Total params\n",
      "6.421     Total estimated model params size (MB)\n"
     ]
    },
    {
     "data": {
      "application/vnd.jupyter.widget-view+json": {
       "model_id": "85f24bac15c54a479c21cc84603ec1f7",
       "version_major": 2,
       "version_minor": 0
      },
      "text/plain": [
       "Training: 0it [00:00, ?it/s]"
      ]
     },
     "metadata": {},
     "output_type": "display_data"
    },
    {
     "data": {
      "application/vnd.jupyter.widget-view+json": {
       "model_id": "",
       "version_major": 2,
       "version_minor": 0
      },
      "text/plain": [
       "Validating: 0it [00:00, ?it/s]"
      ]
     },
     "metadata": {},
     "output_type": "display_data"
    },
    {
     "data": {
      "application/vnd.jupyter.widget-view+json": {
       "model_id": "",
       "version_major": 2,
       "version_minor": 0
      },
      "text/plain": [
       "Validating: 0it [00:00, ?it/s]"
      ]
     },
     "metadata": {},
     "output_type": "display_data"
    },
    {
     "data": {
      "application/vnd.jupyter.widget-view+json": {
       "model_id": "",
       "version_major": 2,
       "version_minor": 0
      },
      "text/plain": [
       "Validating: 0it [00:00, ?it/s]"
      ]
     },
     "metadata": {},
     "output_type": "display_data"
    },
    {
     "data": {
      "application/vnd.jupyter.widget-view+json": {
       "model_id": "",
       "version_major": 2,
       "version_minor": 0
      },
      "text/plain": [
       "Validating: 0it [00:00, ?it/s]"
      ]
     },
     "metadata": {},
     "output_type": "display_data"
    },
    {
     "data": {
      "application/vnd.jupyter.widget-view+json": {
       "model_id": "",
       "version_major": 2,
       "version_minor": 0
      },
      "text/plain": [
       "Validating: 0it [00:00, ?it/s]"
      ]
     },
     "metadata": {},
     "output_type": "display_data"
    },
    {
     "data": {
      "application/vnd.jupyter.widget-view+json": {
       "model_id": "",
       "version_major": 2,
       "version_minor": 0
      },
      "text/plain": [
       "Validating: 0it [00:00, ?it/s]"
      ]
     },
     "metadata": {},
     "output_type": "display_data"
    },
    {
     "data": {
      "application/vnd.jupyter.widget-view+json": {
       "model_id": "",
       "version_major": 2,
       "version_minor": 0
      },
      "text/plain": [
       "Validating: 0it [00:00, ?it/s]"
      ]
     },
     "metadata": {},
     "output_type": "display_data"
    },
    {
     "data": {
      "application/vnd.jupyter.widget-view+json": {
       "model_id": "",
       "version_major": 2,
       "version_minor": 0
      },
      "text/plain": [
       "Validating: 0it [00:00, ?it/s]"
      ]
     },
     "metadata": {},
     "output_type": "display_data"
    },
    {
     "data": {
      "application/vnd.jupyter.widget-view+json": {
       "model_id": "",
       "version_major": 2,
       "version_minor": 0
      },
      "text/plain": [
       "Validating: 0it [00:00, ?it/s]"
      ]
     },
     "metadata": {},
     "output_type": "display_data"
    },
    {
     "data": {
      "application/vnd.jupyter.widget-view+json": {
       "model_id": "",
       "version_major": 2,
       "version_minor": 0
      },
      "text/plain": [
       "Validating: 0it [00:00, ?it/s]"
      ]
     },
     "metadata": {},
     "output_type": "display_data"
    },
    {
     "data": {
      "application/vnd.jupyter.widget-view+json": {
       "model_id": "",
       "version_major": 2,
       "version_minor": 0
      },
      "text/plain": [
       "Validating: 0it [00:00, ?it/s]"
      ]
     },
     "metadata": {},
     "output_type": "display_data"
    },
    {
     "data": {
      "application/vnd.jupyter.widget-view+json": {
       "model_id": "",
       "version_major": 2,
       "version_minor": 0
      },
      "text/plain": [
       "Validating: 0it [00:00, ?it/s]"
      ]
     },
     "metadata": {},
     "output_type": "display_data"
    },
    {
     "data": {
      "application/vnd.jupyter.widget-view+json": {
       "model_id": "",
       "version_major": 2,
       "version_minor": 0
      },
      "text/plain": [
       "Validating: 0it [00:00, ?it/s]"
      ]
     },
     "metadata": {},
     "output_type": "display_data"
    },
    {
     "data": {
      "application/vnd.jupyter.widget-view+json": {
       "model_id": "",
       "version_major": 2,
       "version_minor": 0
      },
      "text/plain": [
       "Validating: 0it [00:00, ?it/s]"
      ]
     },
     "metadata": {},
     "output_type": "display_data"
    },
    {
     "data": {
      "application/vnd.jupyter.widget-view+json": {
       "model_id": "",
       "version_major": 2,
       "version_minor": 0
      },
      "text/plain": [
       "Validating: 0it [00:00, ?it/s]"
      ]
     },
     "metadata": {},
     "output_type": "display_data"
    },
    {
     "data": {
      "application/vnd.jupyter.widget-view+json": {
       "model_id": "",
       "version_major": 2,
       "version_minor": 0
      },
      "text/plain": [
       "Validating: 0it [00:00, ?it/s]"
      ]
     },
     "metadata": {},
     "output_type": "display_data"
    },
    {
     "data": {
      "application/vnd.jupyter.widget-view+json": {
       "model_id": "",
       "version_major": 2,
       "version_minor": 0
      },
      "text/plain": [
       "Validating: 0it [00:00, ?it/s]"
      ]
     },
     "metadata": {},
     "output_type": "display_data"
    },
    {
     "data": {
      "application/vnd.jupyter.widget-view+json": {
       "model_id": "",
       "version_major": 2,
       "version_minor": 0
      },
      "text/plain": [
       "Validating: 0it [00:00, ?it/s]"
      ]
     },
     "metadata": {},
     "output_type": "display_data"
    },
    {
     "data": {
      "application/vnd.jupyter.widget-view+json": {
       "model_id": "",
       "version_major": 2,
       "version_minor": 0
      },
      "text/plain": [
       "Validating: 0it [00:00, ?it/s]"
      ]
     },
     "metadata": {},
     "output_type": "display_data"
    },
    {
     "data": {
      "application/vnd.jupyter.widget-view+json": {
       "model_id": "",
       "version_major": 2,
       "version_minor": 0
      },
      "text/plain": [
       "Validating: 0it [00:00, ?it/s]"
      ]
     },
     "metadata": {},
     "output_type": "display_data"
    },
    {
     "data": {
      "application/vnd.jupyter.widget-view+json": {
       "model_id": "",
       "version_major": 2,
       "version_minor": 0
      },
      "text/plain": [
       "Validating: 0it [00:00, ?it/s]"
      ]
     },
     "metadata": {},
     "output_type": "display_data"
    },
    {
     "data": {
      "application/vnd.jupyter.widget-view+json": {
       "model_id": "",
       "version_major": 2,
       "version_minor": 0
      },
      "text/plain": [
       "Validating: 0it [00:00, ?it/s]"
      ]
     },
     "metadata": {},
     "output_type": "display_data"
    },
    {
     "data": {
      "application/vnd.jupyter.widget-view+json": {
       "model_id": "",
       "version_major": 2,
       "version_minor": 0
      },
      "text/plain": [
       "Validating: 0it [00:00, ?it/s]"
      ]
     },
     "metadata": {},
     "output_type": "display_data"
    },
    {
     "data": {
      "application/vnd.jupyter.widget-view+json": {
       "model_id": "",
       "version_major": 2,
       "version_minor": 0
      },
      "text/plain": [
       "Validating: 0it [00:00, ?it/s]"
      ]
     },
     "metadata": {},
     "output_type": "display_data"
    },
    {
     "data": {
      "application/vnd.jupyter.widget-view+json": {
       "model_id": "",
       "version_major": 2,
       "version_minor": 0
      },
      "text/plain": [
       "Validating: 0it [00:00, ?it/s]"
      ]
     },
     "metadata": {},
     "output_type": "display_data"
    },
    {
     "data": {
      "application/vnd.jupyter.widget-view+json": {
       "model_id": "",
       "version_major": 2,
       "version_minor": 0
      },
      "text/plain": [
       "Validating: 0it [00:00, ?it/s]"
      ]
     },
     "metadata": {},
     "output_type": "display_data"
    },
    {
     "data": {
      "application/vnd.jupyter.widget-view+json": {
       "model_id": "",
       "version_major": 2,
       "version_minor": 0
      },
      "text/plain": [
       "Validating: 0it [00:00, ?it/s]"
      ]
     },
     "metadata": {},
     "output_type": "display_data"
    },
    {
     "data": {
      "application/vnd.jupyter.widget-view+json": {
       "model_id": "",
       "version_major": 2,
       "version_minor": 0
      },
      "text/plain": [
       "Validating: 0it [00:00, ?it/s]"
      ]
     },
     "metadata": {},
     "output_type": "display_data"
    },
    {
     "data": {
      "application/vnd.jupyter.widget-view+json": {
       "model_id": "",
       "version_major": 2,
       "version_minor": 0
      },
      "text/plain": [
       "Validating: 0it [00:00, ?it/s]"
      ]
     },
     "metadata": {},
     "output_type": "display_data"
    },
    {
     "data": {
      "application/vnd.jupyter.widget-view+json": {
       "model_id": "",
       "version_major": 2,
       "version_minor": 0
      },
      "text/plain": [
       "Validating: 0it [00:00, ?it/s]"
      ]
     },
     "metadata": {},
     "output_type": "display_data"
    },
    {
     "data": {
      "application/vnd.jupyter.widget-view+json": {
       "model_id": "",
       "version_major": 2,
       "version_minor": 0
      },
      "text/plain": [
       "Validating: 0it [00:00, ?it/s]"
      ]
     },
     "metadata": {},
     "output_type": "display_data"
    },
    {
     "data": {
      "application/vnd.jupyter.widget-view+json": {
       "model_id": "",
       "version_major": 2,
       "version_minor": 0
      },
      "text/plain": [
       "Validating: 0it [00:00, ?it/s]"
      ]
     },
     "metadata": {},
     "output_type": "display_data"
    },
    {
     "data": {
      "application/vnd.jupyter.widget-view+json": {
       "model_id": "",
       "version_major": 2,
       "version_minor": 0
      },
      "text/plain": [
       "Validating: 0it [00:00, ?it/s]"
      ]
     },
     "metadata": {},
     "output_type": "display_data"
    },
    {
     "data": {
      "application/vnd.jupyter.widget-view+json": {
       "model_id": "",
       "version_major": 2,
       "version_minor": 0
      },
      "text/plain": [
       "Validating: 0it [00:00, ?it/s]"
      ]
     },
     "metadata": {},
     "output_type": "display_data"
    },
    {
     "data": {
      "application/vnd.jupyter.widget-view+json": {
       "model_id": "",
       "version_major": 2,
       "version_minor": 0
      },
      "text/plain": [
       "Validating: 0it [00:00, ?it/s]"
      ]
     },
     "metadata": {},
     "output_type": "display_data"
    },
    {
     "data": {
      "application/vnd.jupyter.widget-view+json": {
       "model_id": "",
       "version_major": 2,
       "version_minor": 0
      },
      "text/plain": [
       "Validating: 0it [00:00, ?it/s]"
      ]
     },
     "metadata": {},
     "output_type": "display_data"
    },
    {
     "data": {
      "application/vnd.jupyter.widget-view+json": {
       "model_id": "",
       "version_major": 2,
       "version_minor": 0
      },
      "text/plain": [
       "Validating: 0it [00:00, ?it/s]"
      ]
     },
     "metadata": {},
     "output_type": "display_data"
    },
    {
     "data": {
      "application/vnd.jupyter.widget-view+json": {
       "model_id": "",
       "version_major": 2,
       "version_minor": 0
      },
      "text/plain": [
       "Validating: 0it [00:00, ?it/s]"
      ]
     },
     "metadata": {},
     "output_type": "display_data"
    },
    {
     "data": {
      "application/vnd.jupyter.widget-view+json": {
       "model_id": "",
       "version_major": 2,
       "version_minor": 0
      },
      "text/plain": [
       "Validating: 0it [00:00, ?it/s]"
      ]
     },
     "metadata": {},
     "output_type": "display_data"
    },
    {
     "data": {
      "application/vnd.jupyter.widget-view+json": {
       "model_id": "",
       "version_major": 2,
       "version_minor": 0
      },
      "text/plain": [
       "Validating: 0it [00:00, ?it/s]"
      ]
     },
     "metadata": {},
     "output_type": "display_data"
    },
    {
     "data": {
      "application/vnd.jupyter.widget-view+json": {
       "model_id": "",
       "version_major": 2,
       "version_minor": 0
      },
      "text/plain": [
       "Validating: 0it [00:00, ?it/s]"
      ]
     },
     "metadata": {},
     "output_type": "display_data"
    },
    {
     "data": {
      "application/vnd.jupyter.widget-view+json": {
       "model_id": "",
       "version_major": 2,
       "version_minor": 0
      },
      "text/plain": [
       "Validating: 0it [00:00, ?it/s]"
      ]
     },
     "metadata": {},
     "output_type": "display_data"
    },
    {
     "data": {
      "application/vnd.jupyter.widget-view+json": {
       "model_id": "",
       "version_major": 2,
       "version_minor": 0
      },
      "text/plain": [
       "Validating: 0it [00:00, ?it/s]"
      ]
     },
     "metadata": {},
     "output_type": "display_data"
    },
    {
     "data": {
      "application/vnd.jupyter.widget-view+json": {
       "model_id": "",
       "version_major": 2,
       "version_minor": 0
      },
      "text/plain": [
       "Validating: 0it [00:00, ?it/s]"
      ]
     },
     "metadata": {},
     "output_type": "display_data"
    },
    {
     "data": {
      "application/vnd.jupyter.widget-view+json": {
       "model_id": "",
       "version_major": 2,
       "version_minor": 0
      },
      "text/plain": [
       "Validating: 0it [00:00, ?it/s]"
      ]
     },
     "metadata": {},
     "output_type": "display_data"
    },
    {
     "data": {
      "application/vnd.jupyter.widget-view+json": {
       "model_id": "",
       "version_major": 2,
       "version_minor": 0
      },
      "text/plain": [
       "Validating: 0it [00:00, ?it/s]"
      ]
     },
     "metadata": {},
     "output_type": "display_data"
    },
    {
     "data": {
      "application/vnd.jupyter.widget-view+json": {
       "model_id": "",
       "version_major": 2,
       "version_minor": 0
      },
      "text/plain": [
       "Validating: 0it [00:00, ?it/s]"
      ]
     },
     "metadata": {},
     "output_type": "display_data"
    },
    {
     "data": {
      "application/vnd.jupyter.widget-view+json": {
       "model_id": "",
       "version_major": 2,
       "version_minor": 0
      },
      "text/plain": [
       "Validating: 0it [00:00, ?it/s]"
      ]
     },
     "metadata": {},
     "output_type": "display_data"
    },
    {
     "data": {
      "application/vnd.jupyter.widget-view+json": {
       "model_id": "",
       "version_major": 2,
       "version_minor": 0
      },
      "text/plain": [
       "Validating: 0it [00:00, ?it/s]"
      ]
     },
     "metadata": {},
     "output_type": "display_data"
    },
    {
     "data": {
      "application/vnd.jupyter.widget-view+json": {
       "model_id": "",
       "version_major": 2,
       "version_minor": 0
      },
      "text/plain": [
       "Validating: 0it [00:00, ?it/s]"
      ]
     },
     "metadata": {},
     "output_type": "display_data"
    },
    {
     "name": "stderr",
     "output_type": "stream",
     "text": [
      "WARNING - (py.warnings._showwarnmsg) - /Users/polina/.conda/envs/neural_prophet/lib/python3.7/site-packages/pandas/core/indexing.py:1738: SettingWithCopyWarning: \n",
      "A value is trying to be set on a copy of a slice from a DataFrame.\n",
      "Try using .loc[row_indexer,col_indexer] = value instead\n",
      "\n",
      "See the caveats in the documentation: https://pandas.pydata.org/pandas-docs/stable/user_guide/indexing.html#returning-a-view-versus-a-copy\n",
      "  self._setitem_single_column(loc, value[:, i].tolist(), pi)\n",
      "\n",
      "GPU available: False, used: False\n",
      "TPU available: False, using: 0 TPU cores\n",
      "\n",
      "   | Name                               | Type                            | Params\n",
      "----------------------------------------------------------------------------------------\n",
      "0  | loss                               | QuantileLoss                    | 0     \n",
      "1  | logging_metrics                    | ModuleList                      | 0     \n",
      "2  | input_embeddings                   | MultiEmbedding                  | 0     \n",
      "3  | prescalers                         | ModuleDict                      | 96    \n",
      "4  | static_variable_selection          | VariableSelectionNetwork        | 2.8 K \n",
      "5  | encoder_variable_selection         | VariableSelectionNetwork        | 2.9 K \n",
      "6  | decoder_variable_selection         | VariableSelectionNetwork        | 1.9 K \n",
      "7  | static_context_variable_selection  | GatedResidualNetwork            | 4.3 K \n",
      "8  | static_context_initial_hidden_lstm | GatedResidualNetwork            | 4.3 K \n",
      "9  | static_context_initial_cell_lstm   | GatedResidualNetwork            | 4.3 K \n",
      "10 | static_context_enrichment          | GatedResidualNetwork            | 4.3 K \n",
      "11 | lstm_encoder                       | LSTM                            | 8.4 K \n",
      "12 | lstm_decoder                       | LSTM                            | 8.4 K \n",
      "13 | post_lstm_gate_encoder             | GatedLinearUnit                 | 2.1 K \n",
      "14 | post_lstm_add_norm_encoder         | AddNorm                         | 64    \n",
      "15 | static_enrichment                  | GatedResidualNetwork            | 5.3 K \n",
      "16 | multihead_attn                     | InterpretableMultiHeadAttention | 4.2 K \n",
      "17 | post_attn_gate_norm                | GateAddNorm                     | 2.2 K \n",
      "18 | pos_wise_ff                        | GatedResidualNetwork            | 4.3 K \n",
      "19 | pre_output_gate_norm               | GateAddNorm                     | 2.2 K \n",
      "20 | output_layer                       | Linear                          | 231   \n",
      "----------------------------------------------------------------------------------------\n",
      "62.2 K    Trainable params\n",
      "0         Non-trainable params\n",
      "62.2 K    Total params\n",
      "0.249     Total estimated model params size (MB)\n"
     ]
    },
    {
     "data": {
      "application/vnd.jupyter.widget-view+json": {
       "model_id": "0f02239fbe9348e8b08ab6f8c2dad8c2",
       "version_major": 2,
       "version_minor": 0
      },
      "text/plain": [
       "Training: 0it [00:00, ?it/s]"
      ]
     },
     "metadata": {},
     "output_type": "display_data"
    },
    {
     "data": {
      "application/vnd.jupyter.widget-view+json": {
       "model_id": "",
       "version_major": 2,
       "version_minor": 0
      },
      "text/plain": [
       "Validating: 0it [00:00, ?it/s]"
      ]
     },
     "metadata": {},
     "output_type": "display_data"
    },
    {
     "data": {
      "application/vnd.jupyter.widget-view+json": {
       "model_id": "",
       "version_major": 2,
       "version_minor": 0
      },
      "text/plain": [
       "Validating: 0it [00:00, ?it/s]"
      ]
     },
     "metadata": {},
     "output_type": "display_data"
    },
    {
     "data": {
      "application/vnd.jupyter.widget-view+json": {
       "model_id": "",
       "version_major": 2,
       "version_minor": 0
      },
      "text/plain": [
       "Validating: 0it [00:00, ?it/s]"
      ]
     },
     "metadata": {},
     "output_type": "display_data"
    },
    {
     "data": {
      "application/vnd.jupyter.widget-view+json": {
       "model_id": "",
       "version_major": 2,
       "version_minor": 0
      },
      "text/plain": [
       "Validating: 0it [00:00, ?it/s]"
      ]
     },
     "metadata": {},
     "output_type": "display_data"
    },
    {
     "data": {
      "application/vnd.jupyter.widget-view+json": {
       "model_id": "",
       "version_major": 2,
       "version_minor": 0
      },
      "text/plain": [
       "Validating: 0it [00:00, ?it/s]"
      ]
     },
     "metadata": {},
     "output_type": "display_data"
    },
    {
     "data": {
      "application/vnd.jupyter.widget-view+json": {
       "model_id": "",
       "version_major": 2,
       "version_minor": 0
      },
      "text/plain": [
       "Validating: 0it [00:00, ?it/s]"
      ]
     },
     "metadata": {},
     "output_type": "display_data"
    },
    {
     "data": {
      "application/vnd.jupyter.widget-view+json": {
       "model_id": "",
       "version_major": 2,
       "version_minor": 0
      },
      "text/plain": [
       "Validating: 0it [00:00, ?it/s]"
      ]
     },
     "metadata": {},
     "output_type": "display_data"
    },
    {
     "data": {
      "application/vnd.jupyter.widget-view+json": {
       "model_id": "",
       "version_major": 2,
       "version_minor": 0
      },
      "text/plain": [
       "Validating: 0it [00:00, ?it/s]"
      ]
     },
     "metadata": {},
     "output_type": "display_data"
    },
    {
     "data": {
      "application/vnd.jupyter.widget-view+json": {
       "model_id": "",
       "version_major": 2,
       "version_minor": 0
      },
      "text/plain": [
       "Validating: 0it [00:00, ?it/s]"
      ]
     },
     "metadata": {},
     "output_type": "display_data"
    },
    {
     "data": {
      "application/vnd.jupyter.widget-view+json": {
       "model_id": "",
       "version_major": 2,
       "version_minor": 0
      },
      "text/plain": [
       "Validating: 0it [00:00, ?it/s]"
      ]
     },
     "metadata": {},
     "output_type": "display_data"
    },
    {
     "data": {
      "application/vnd.jupyter.widget-view+json": {
       "model_id": "",
       "version_major": 2,
       "version_minor": 0
      },
      "text/plain": [
       "Validating: 0it [00:00, ?it/s]"
      ]
     },
     "metadata": {},
     "output_type": "display_data"
    },
    {
     "data": {
      "application/vnd.jupyter.widget-view+json": {
       "model_id": "",
       "version_major": 2,
       "version_minor": 0
      },
      "text/plain": [
       "Validating: 0it [00:00, ?it/s]"
      ]
     },
     "metadata": {},
     "output_type": "display_data"
    },
    {
     "data": {
      "application/vnd.jupyter.widget-view+json": {
       "model_id": "",
       "version_major": 2,
       "version_minor": 0
      },
      "text/plain": [
       "Validating: 0it [00:00, ?it/s]"
      ]
     },
     "metadata": {},
     "output_type": "display_data"
    },
    {
     "data": {
      "application/vnd.jupyter.widget-view+json": {
       "model_id": "",
       "version_major": 2,
       "version_minor": 0
      },
      "text/plain": [
       "Validating: 0it [00:00, ?it/s]"
      ]
     },
     "metadata": {},
     "output_type": "display_data"
    },
    {
     "data": {
      "application/vnd.jupyter.widget-view+json": {
       "model_id": "",
       "version_major": 2,
       "version_minor": 0
      },
      "text/plain": [
       "Validating: 0it [00:00, ?it/s]"
      ]
     },
     "metadata": {},
     "output_type": "display_data"
    },
    {
     "data": {
      "application/vnd.jupyter.widget-view+json": {
       "model_id": "",
       "version_major": 2,
       "version_minor": 0
      },
      "text/plain": [
       "Validating: 0it [00:00, ?it/s]"
      ]
     },
     "metadata": {},
     "output_type": "display_data"
    },
    {
     "data": {
      "application/vnd.jupyter.widget-view+json": {
       "model_id": "",
       "version_major": 2,
       "version_minor": 0
      },
      "text/plain": [
       "Validating: 0it [00:00, ?it/s]"
      ]
     },
     "metadata": {},
     "output_type": "display_data"
    },
    {
     "data": {
      "application/vnd.jupyter.widget-view+json": {
       "model_id": "",
       "version_major": 2,
       "version_minor": 0
      },
      "text/plain": [
       "Validating: 0it [00:00, ?it/s]"
      ]
     },
     "metadata": {},
     "output_type": "display_data"
    },
    {
     "data": {
      "application/vnd.jupyter.widget-view+json": {
       "model_id": "",
       "version_major": 2,
       "version_minor": 0
      },
      "text/plain": [
       "Validating: 0it [00:00, ?it/s]"
      ]
     },
     "metadata": {},
     "output_type": "display_data"
    },
    {
     "data": {
      "application/vnd.jupyter.widget-view+json": {
       "model_id": "",
       "version_major": 2,
       "version_minor": 0
      },
      "text/plain": [
       "Validating: 0it [00:00, ?it/s]"
      ]
     },
     "metadata": {},
     "output_type": "display_data"
    },
    {
     "data": {
      "application/vnd.jupyter.widget-view+json": {
       "model_id": "",
       "version_major": 2,
       "version_minor": 0
      },
      "text/plain": [
       "Validating: 0it [00:00, ?it/s]"
      ]
     },
     "metadata": {},
     "output_type": "display_data"
    },
    {
     "data": {
      "application/vnd.jupyter.widget-view+json": {
       "model_id": "",
       "version_major": 2,
       "version_minor": 0
      },
      "text/plain": [
       "Validating: 0it [00:00, ?it/s]"
      ]
     },
     "metadata": {},
     "output_type": "display_data"
    },
    {
     "data": {
      "application/vnd.jupyter.widget-view+json": {
       "model_id": "",
       "version_major": 2,
       "version_minor": 0
      },
      "text/plain": [
       "Validating: 0it [00:00, ?it/s]"
      ]
     },
     "metadata": {},
     "output_type": "display_data"
    },
    {
     "data": {
      "application/vnd.jupyter.widget-view+json": {
       "model_id": "",
       "version_major": 2,
       "version_minor": 0
      },
      "text/plain": [
       "Validating: 0it [00:00, ?it/s]"
      ]
     },
     "metadata": {},
     "output_type": "display_data"
    },
    {
     "data": {
      "application/vnd.jupyter.widget-view+json": {
       "model_id": "",
       "version_major": 2,
       "version_minor": 0
      },
      "text/plain": [
       "Validating: 0it [00:00, ?it/s]"
      ]
     },
     "metadata": {},
     "output_type": "display_data"
    },
    {
     "data": {
      "application/vnd.jupyter.widget-view+json": {
       "model_id": "",
       "version_major": 2,
       "version_minor": 0
      },
      "text/plain": [
       "Validating: 0it [00:00, ?it/s]"
      ]
     },
     "metadata": {},
     "output_type": "display_data"
    },
    {
     "data": {
      "application/vnd.jupyter.widget-view+json": {
       "model_id": "",
       "version_major": 2,
       "version_minor": 0
      },
      "text/plain": [
       "Validating: 0it [00:00, ?it/s]"
      ]
     },
     "metadata": {},
     "output_type": "display_data"
    },
    {
     "data": {
      "application/vnd.jupyter.widget-view+json": {
       "model_id": "",
       "version_major": 2,
       "version_minor": 0
      },
      "text/plain": [
       "Validating: 0it [00:00, ?it/s]"
      ]
     },
     "metadata": {},
     "output_type": "display_data"
    },
    {
     "data": {
      "application/vnd.jupyter.widget-view+json": {
       "model_id": "",
       "version_major": 2,
       "version_minor": 0
      },
      "text/plain": [
       "Validating: 0it [00:00, ?it/s]"
      ]
     },
     "metadata": {},
     "output_type": "display_data"
    },
    {
     "data": {
      "application/vnd.jupyter.widget-view+json": {
       "model_id": "",
       "version_major": 2,
       "version_minor": 0
      },
      "text/plain": [
       "Validating: 0it [00:00, ?it/s]"
      ]
     },
     "metadata": {},
     "output_type": "display_data"
    },
    {
     "data": {
      "application/vnd.jupyter.widget-view+json": {
       "model_id": "",
       "version_major": 2,
       "version_minor": 0
      },
      "text/plain": [
       "Validating: 0it [00:00, ?it/s]"
      ]
     },
     "metadata": {},
     "output_type": "display_data"
    },
    {
     "data": {
      "application/vnd.jupyter.widget-view+json": {
       "model_id": "",
       "version_major": 2,
       "version_minor": 0
      },
      "text/plain": [
       "Validating: 0it [00:00, ?it/s]"
      ]
     },
     "metadata": {},
     "output_type": "display_data"
    },
    {
     "data": {
      "application/vnd.jupyter.widget-view+json": {
       "model_id": "",
       "version_major": 2,
       "version_minor": 0
      },
      "text/plain": [
       "Validating: 0it [00:00, ?it/s]"
      ]
     },
     "metadata": {},
     "output_type": "display_data"
    },
    {
     "data": {
      "application/vnd.jupyter.widget-view+json": {
       "model_id": "",
       "version_major": 2,
       "version_minor": 0
      },
      "text/plain": [
       "Validating: 0it [00:00, ?it/s]"
      ]
     },
     "metadata": {},
     "output_type": "display_data"
    },
    {
     "data": {
      "application/vnd.jupyter.widget-view+json": {
       "model_id": "",
       "version_major": 2,
       "version_minor": 0
      },
      "text/plain": [
       "Validating: 0it [00:00, ?it/s]"
      ]
     },
     "metadata": {},
     "output_type": "display_data"
    },
    {
     "data": {
      "application/vnd.jupyter.widget-view+json": {
       "model_id": "",
       "version_major": 2,
       "version_minor": 0
      },
      "text/plain": [
       "Validating: 0it [00:00, ?it/s]"
      ]
     },
     "metadata": {},
     "output_type": "display_data"
    },
    {
     "data": {
      "application/vnd.jupyter.widget-view+json": {
       "model_id": "",
       "version_major": 2,
       "version_minor": 0
      },
      "text/plain": [
       "Validating: 0it [00:00, ?it/s]"
      ]
     },
     "metadata": {},
     "output_type": "display_data"
    },
    {
     "data": {
      "application/vnd.jupyter.widget-view+json": {
       "model_id": "",
       "version_major": 2,
       "version_minor": 0
      },
      "text/plain": [
       "Validating: 0it [00:00, ?it/s]"
      ]
     },
     "metadata": {},
     "output_type": "display_data"
    },
    {
     "data": {
      "application/vnd.jupyter.widget-view+json": {
       "model_id": "",
       "version_major": 2,
       "version_minor": 0
      },
      "text/plain": [
       "Validating: 0it [00:00, ?it/s]"
      ]
     },
     "metadata": {},
     "output_type": "display_data"
    },
    {
     "data": {
      "application/vnd.jupyter.widget-view+json": {
       "model_id": "",
       "version_major": 2,
       "version_minor": 0
      },
      "text/plain": [
       "Validating: 0it [00:00, ?it/s]"
      ]
     },
     "metadata": {},
     "output_type": "display_data"
    },
    {
     "data": {
      "application/vnd.jupyter.widget-view+json": {
       "model_id": "",
       "version_major": 2,
       "version_minor": 0
      },
      "text/plain": [
       "Validating: 0it [00:00, ?it/s]"
      ]
     },
     "metadata": {},
     "output_type": "display_data"
    },
    {
     "data": {
      "application/vnd.jupyter.widget-view+json": {
       "model_id": "",
       "version_major": 2,
       "version_minor": 0
      },
      "text/plain": [
       "Validating: 0it [00:00, ?it/s]"
      ]
     },
     "metadata": {},
     "output_type": "display_data"
    },
    {
     "data": {
      "application/vnd.jupyter.widget-view+json": {
       "model_id": "",
       "version_major": 2,
       "version_minor": 0
      },
      "text/plain": [
       "Validating: 0it [00:00, ?it/s]"
      ]
     },
     "metadata": {},
     "output_type": "display_data"
    },
    {
     "data": {
      "application/vnd.jupyter.widget-view+json": {
       "model_id": "",
       "version_major": 2,
       "version_minor": 0
      },
      "text/plain": [
       "Validating: 0it [00:00, ?it/s]"
      ]
     },
     "metadata": {},
     "output_type": "display_data"
    },
    {
     "data": {
      "application/vnd.jupyter.widget-view+json": {
       "model_id": "",
       "version_major": 2,
       "version_minor": 0
      },
      "text/plain": [
       "Validating: 0it [00:00, ?it/s]"
      ]
     },
     "metadata": {},
     "output_type": "display_data"
    },
    {
     "data": {
      "application/vnd.jupyter.widget-view+json": {
       "model_id": "",
       "version_major": 2,
       "version_minor": 0
      },
      "text/plain": [
       "Validating: 0it [00:00, ?it/s]"
      ]
     },
     "metadata": {},
     "output_type": "display_data"
    },
    {
     "data": {
      "application/vnd.jupyter.widget-view+json": {
       "model_id": "",
       "version_major": 2,
       "version_minor": 0
      },
      "text/plain": [
       "Validating: 0it [00:00, ?it/s]"
      ]
     },
     "metadata": {},
     "output_type": "display_data"
    },
    {
     "data": {
      "application/vnd.jupyter.widget-view+json": {
       "model_id": "",
       "version_major": 2,
       "version_minor": 0
      },
      "text/plain": [
       "Validating: 0it [00:00, ?it/s]"
      ]
     },
     "metadata": {},
     "output_type": "display_data"
    },
    {
     "data": {
      "application/vnd.jupyter.widget-view+json": {
       "model_id": "",
       "version_major": 2,
       "version_minor": 0
      },
      "text/plain": [
       "Validating: 0it [00:00, ?it/s]"
      ]
     },
     "metadata": {},
     "output_type": "display_data"
    },
    {
     "data": {
      "application/vnd.jupyter.widget-view+json": {
       "model_id": "",
       "version_major": 2,
       "version_minor": 0
      },
      "text/plain": [
       "Validating: 0it [00:00, ?it/s]"
      ]
     },
     "metadata": {},
     "output_type": "display_data"
    },
    {
     "name": "stderr",
     "output_type": "stream",
     "text": [
      "WARNING - (py.warnings._showwarnmsg) - /Users/polina/.conda/envs/neural_prophet/lib/python3.7/site-packages/pandas/core/indexing.py:1738: SettingWithCopyWarning: \n",
      "A value is trying to be set on a copy of a slice from a DataFrame.\n",
      "Try using .loc[row_indexer,col_indexer] = value instead\n",
      "\n",
      "See the caveats in the documentation: https://pandas.pydata.org/pandas-docs/stable/user_guide/indexing.html#returning-a-view-versus-a-copy\n",
      "  self._setitem_single_column(loc, value[:, i].tolist(), pi)\n",
      "\n",
      "INFO - (NP.config.set_auto_batch_epoch) - Auto-set batch_size to 16\n",
      "\n",
      "\n",
      "  0%|          | 0/50 [00:00<?, ?it/s]\u001b[A\u001b[AGPU available: False, used: False\n",
      "TPU available: False, using: 0 TPU cores\n",
      "WARNING - (py.warnings._showwarnmsg) - /Users/polina/.conda/envs/neural_prophet/lib/python3.7/site-packages/pytorch_lightning/utilities/distributed.py:68: UserWarning: you defined a validation_step but have no val_dataloader. Skipping validation loop\n",
      "  warnings.warn(*args, **kwargs)\n",
      "\n",
      "\n",
      "  | Name      | Type         | Params\n",
      "-------------------------------------------\n",
      "0 | lstm      | LSTM         | 960   \n",
      "1 | linear    | Linear       | 11    \n",
      "2 | loss_func | SmoothL1Loss | 0     \n",
      "-------------------------------------------\n",
      "971       Trainable params\n",
      "0         Non-trainable params\n",
      "971       Total params\n",
      "0.004     Total estimated model params size (MB)\n"
     ]
    },
    {
     "data": {
      "application/vnd.jupyter.widget-view+json": {
       "model_id": "",
       "version_major": 2,
       "version_minor": 0
      },
      "text/plain": [
       "Validation sanity check: 0it [00:00, ?it/s]"
      ]
     },
     "metadata": {},
     "output_type": "display_data"
    },
    {
     "name": "stderr",
     "output_type": "stream",
     "text": [
      "WARNING - (py.warnings._showwarnmsg) - /Users/polina/.conda/envs/neural_prophet/lib/python3.7/site-packages/pytorch_lightning/utilities/distributed.py:68: UserWarning: The dataloader, train dataloader, does not have many workers which may be a bottleneck. Consider increasing the value of the `num_workers` argument` (try 8 which is the number of cpus on this machine) in the `DataLoader` init to improve performance.\n",
      "  warnings.warn(*args, **kwargs)\n",
      "\n"
     ]
    },
    {
     "data": {
      "application/vnd.jupyter.widget-view+json": {
       "model_id": "d05775f809774244b51fa14a48311c9d",
       "version_major": 2,
       "version_minor": 0
      },
      "text/plain": [
       "Training: 0it [00:00, ?it/s]"
      ]
     },
     "metadata": {},
     "output_type": "display_data"
    },
    {
     "name": "stderr",
     "output_type": "stream",
     "text": [
      "INFO - (NP.utils.set_auto_seasonalities) - Disabling weekly seasonality. Run NeuralProphet with weekly_seasonality=True to override this.\n",
      "INFO - (NP.utils.set_auto_seasonalities) - Disabling daily seasonality. Run NeuralProphet with daily_seasonality=True to override this.\n",
      "INFO - (NP.config.set_auto_batch_epoch) - Auto-set batch_size to 16\n",
      "\n",
      "\n",
      "\n",
      "  0%|          | 0/50 [00:00<?, ?it/s]\u001b[A\u001b[A\u001b[AGPU available: False, used: False\n",
      "TPU available: False, using: 0 TPU cores\n",
      "WARNING - (py.warnings._showwarnmsg) - /Users/polina/.conda/envs/neural_prophet/lib/python3.7/site-packages/pytorch_lightning/utilities/distributed.py:68: UserWarning: you defined a validation_step but have no val_dataloader. Skipping validation loop\n",
      "  warnings.warn(*args, **kwargs)\n",
      "\n",
      "\n",
      "  | Name          | Type          | Params\n",
      "------------------------------------------------\n",
      "0 | season_params | ParameterDict | 12    \n",
      "1 | ar_net        | ModuleList    | 12    \n",
      "2 | loss_func     | SmoothL1Loss  | 0     \n",
      "------------------------------------------------\n",
      "37        Trainable params\n",
      "0         Non-trainable params\n",
      "37        Total params\n",
      "0.000     Total estimated model params size (MB)\n"
     ]
    },
    {
     "data": {
      "application/vnd.jupyter.widget-view+json": {
       "model_id": "",
       "version_major": 2,
       "version_minor": 0
      },
      "text/plain": [
       "Validation sanity check: 0it [00:00, ?it/s]"
      ]
     },
     "metadata": {},
     "output_type": "display_data"
    },
    {
     "name": "stderr",
     "output_type": "stream",
     "text": [
      "WARNING - (py.warnings._showwarnmsg) - /Users/polina/.conda/envs/neural_prophet/lib/python3.7/site-packages/pytorch_lightning/utilities/distributed.py:68: UserWarning: The dataloader, train dataloader, does not have many workers which may be a bottleneck. Consider increasing the value of the `num_workers` argument` (try 8 which is the number of cpus on this machine) in the `DataLoader` init to improve performance.\n",
      "  warnings.warn(*args, **kwargs)\n",
      "\n"
     ]
    },
    {
     "data": {
      "application/vnd.jupyter.widget-view+json": {
       "model_id": "3224dbeedc8d4729ad4423ce6388d94c",
       "version_major": 2,
       "version_minor": 0
      },
      "text/plain": [
       "Training: 0it [00:00, ?it/s]"
      ]
     },
     "metadata": {},
     "output_type": "display_data"
    },
    {
     "name": "stderr",
     "output_type": "stream",
     "text": [
      "GPU available: False, used: False\n",
      "TPU available: False, using: 0 TPU cores\n",
      "WARNING - (py.warnings._showwarnmsg) - /Users/polina/.conda/envs/neural_prophet/lib/python3.7/site-packages/pytorch_lightning/utilities/distributed.py:68: UserWarning: you defined a validation_step but have no val_dataloader. Skipping validation loop\n",
      "  warnings.warn(*args, **kwargs)\n",
      "\n",
      "\n",
      "  | Name                   | Type                   | Params\n",
      "------------------------------------------------------------------\n",
      "0 | loss                   | NormalDistributionLoss | 0     \n",
      "1 | logging_metrics        | ModuleList             | 0     \n",
      "2 | embeddings             | MultiEmbedding         | 0     \n",
      "3 | rnn                    | LSTM                   | 12.9 K\n",
      "4 | distribution_projector | Linear                 | 66    \n",
      "------------------------------------------------------------------\n",
      "13.0 K    Trainable params\n",
      "0         Non-trainable params\n",
      "13.0 K    Total params\n",
      "0.052     Total estimated model params size (MB)\n"
     ]
    },
    {
     "data": {
      "application/vnd.jupyter.widget-view+json": {
       "model_id": "e671738c7fa14ee6bbb406262fc66df9",
       "version_major": 2,
       "version_minor": 0
      },
      "text/plain": [
       "Finding best initial lr:   0%|          | 0/100 [00:00<?, ?it/s]"
      ]
     },
     "metadata": {},
     "output_type": "display_data"
    },
    {
     "name": "stderr",
     "output_type": "stream",
     "text": [
      "  0%|          | 0/50 [00:03<?, ?it/s]\n",
      "LR finder stopped early due to diverging loss.\n",
      "Restored states from the checkpoint file at /Users/polina/fds/neural_prophet/example_notebooks/lr_find_temp_model.ckpt\n",
      "\n",
      "  | Name                   | Type                   | Params\n",
      "------------------------------------------------------------------\n",
      "0 | loss                   | NormalDistributionLoss | 0     \n",
      "1 | logging_metrics        | ModuleList             | 0     \n",
      "2 | embeddings             | MultiEmbedding         | 0     \n",
      "3 | rnn                    | LSTM                   | 12.9 K\n",
      "4 | distribution_projector | Linear                 | 66    \n",
      "------------------------------------------------------------------\n",
      "13.0 K    Trainable params\n",
      "0         Non-trainable params\n",
      "13.0 K    Total params\n",
      "0.052     Total estimated model params size (MB)\n"
     ]
    },
    {
     "data": {
      "application/vnd.jupyter.widget-view+json": {
       "model_id": "5d0b35e76edf4357ab278698621384d2",
       "version_major": 2,
       "version_minor": 0
      },
      "text/plain": [
       "Training: 5it [00:00, ?it/s]"
      ]
     },
     "metadata": {},
     "output_type": "display_data"
    },
    {
     "data": {
      "application/vnd.jupyter.widget-view+json": {
       "model_id": "",
       "version_major": 2,
       "version_minor": 0
      },
      "text/plain": [
       "Validating: 0it [00:00, ?it/s]"
      ]
     },
     "metadata": {},
     "output_type": "display_data"
    },
    {
     "data": {
      "application/vnd.jupyter.widget-view+json": {
       "model_id": "",
       "version_major": 2,
       "version_minor": 0
      },
      "text/plain": [
       "Validating: 0it [00:00, ?it/s]"
      ]
     },
     "metadata": {},
     "output_type": "display_data"
    },
    {
     "data": {
      "application/vnd.jupyter.widget-view+json": {
       "model_id": "",
       "version_major": 2,
       "version_minor": 0
      },
      "text/plain": [
       "Validating: 0it [00:00, ?it/s]"
      ]
     },
     "metadata": {},
     "output_type": "display_data"
    },
    {
     "data": {
      "application/vnd.jupyter.widget-view+json": {
       "model_id": "",
       "version_major": 2,
       "version_minor": 0
      },
      "text/plain": [
       "Validating: 0it [00:00, ?it/s]"
      ]
     },
     "metadata": {},
     "output_type": "display_data"
    },
    {
     "data": {
      "application/vnd.jupyter.widget-view+json": {
       "model_id": "",
       "version_major": 2,
       "version_minor": 0
      },
      "text/plain": [
       "Validating: 0it [00:00, ?it/s]"
      ]
     },
     "metadata": {},
     "output_type": "display_data"
    },
    {
     "data": {
      "application/vnd.jupyter.widget-view+json": {
       "model_id": "",
       "version_major": 2,
       "version_minor": 0
      },
      "text/plain": [
       "Validating: 0it [00:00, ?it/s]"
      ]
     },
     "metadata": {},
     "output_type": "display_data"
    },
    {
     "data": {
      "application/vnd.jupyter.widget-view+json": {
       "model_id": "",
       "version_major": 2,
       "version_minor": 0
      },
      "text/plain": [
       "Validating: 0it [00:00, ?it/s]"
      ]
     },
     "metadata": {},
     "output_type": "display_data"
    },
    {
     "data": {
      "application/vnd.jupyter.widget-view+json": {
       "model_id": "",
       "version_major": 2,
       "version_minor": 0
      },
      "text/plain": [
       "Validating: 0it [00:00, ?it/s]"
      ]
     },
     "metadata": {},
     "output_type": "display_data"
    },
    {
     "data": {
      "application/vnd.jupyter.widget-view+json": {
       "model_id": "",
       "version_major": 2,
       "version_minor": 0
      },
      "text/plain": [
       "Validating: 0it [00:00, ?it/s]"
      ]
     },
     "metadata": {},
     "output_type": "display_data"
    },
    {
     "data": {
      "application/vnd.jupyter.widget-view+json": {
       "model_id": "",
       "version_major": 2,
       "version_minor": 0
      },
      "text/plain": [
       "Validating: 0it [00:00, ?it/s]"
      ]
     },
     "metadata": {},
     "output_type": "display_data"
    },
    {
     "data": {
      "application/vnd.jupyter.widget-view+json": {
       "model_id": "",
       "version_major": 2,
       "version_minor": 0
      },
      "text/plain": [
       "Validating: 0it [00:00, ?it/s]"
      ]
     },
     "metadata": {},
     "output_type": "display_data"
    },
    {
     "data": {
      "application/vnd.jupyter.widget-view+json": {
       "model_id": "",
       "version_major": 2,
       "version_minor": 0
      },
      "text/plain": [
       "Validating: 0it [00:00, ?it/s]"
      ]
     },
     "metadata": {},
     "output_type": "display_data"
    },
    {
     "data": {
      "application/vnd.jupyter.widget-view+json": {
       "model_id": "",
       "version_major": 2,
       "version_minor": 0
      },
      "text/plain": [
       "Validating: 0it [00:00, ?it/s]"
      ]
     },
     "metadata": {},
     "output_type": "display_data"
    },
    {
     "data": {
      "application/vnd.jupyter.widget-view+json": {
       "model_id": "",
       "version_major": 2,
       "version_minor": 0
      },
      "text/plain": [
       "Validating: 0it [00:00, ?it/s]"
      ]
     },
     "metadata": {},
     "output_type": "display_data"
    },
    {
     "data": {
      "application/vnd.jupyter.widget-view+json": {
       "model_id": "",
       "version_major": 2,
       "version_minor": 0
      },
      "text/plain": [
       "Validating: 0it [00:00, ?it/s]"
      ]
     },
     "metadata": {},
     "output_type": "display_data"
    },
    {
     "data": {
      "application/vnd.jupyter.widget-view+json": {
       "model_id": "",
       "version_major": 2,
       "version_minor": 0
      },
      "text/plain": [
       "Validating: 0it [00:00, ?it/s]"
      ]
     },
     "metadata": {},
     "output_type": "display_data"
    },
    {
     "data": {
      "application/vnd.jupyter.widget-view+json": {
       "model_id": "",
       "version_major": 2,
       "version_minor": 0
      },
      "text/plain": [
       "Validating: 0it [00:00, ?it/s]"
      ]
     },
     "metadata": {},
     "output_type": "display_data"
    },
    {
     "data": {
      "application/vnd.jupyter.widget-view+json": {
       "model_id": "",
       "version_major": 2,
       "version_minor": 0
      },
      "text/plain": [
       "Validating: 0it [00:00, ?it/s]"
      ]
     },
     "metadata": {},
     "output_type": "display_data"
    },
    {
     "data": {
      "application/vnd.jupyter.widget-view+json": {
       "model_id": "",
       "version_major": 2,
       "version_minor": 0
      },
      "text/plain": [
       "Validating: 0it [00:00, ?it/s]"
      ]
     },
     "metadata": {},
     "output_type": "display_data"
    },
    {
     "data": {
      "application/vnd.jupyter.widget-view+json": {
       "model_id": "",
       "version_major": 2,
       "version_minor": 0
      },
      "text/plain": [
       "Validating: 0it [00:00, ?it/s]"
      ]
     },
     "metadata": {},
     "output_type": "display_data"
    },
    {
     "data": {
      "application/vnd.jupyter.widget-view+json": {
       "model_id": "",
       "version_major": 2,
       "version_minor": 0
      },
      "text/plain": [
       "Validating: 0it [00:00, ?it/s]"
      ]
     },
     "metadata": {},
     "output_type": "display_data"
    },
    {
     "data": {
      "application/vnd.jupyter.widget-view+json": {
       "model_id": "",
       "version_major": 2,
       "version_minor": 0
      },
      "text/plain": [
       "Validating: 0it [00:00, ?it/s]"
      ]
     },
     "metadata": {},
     "output_type": "display_data"
    },
    {
     "data": {
      "application/vnd.jupyter.widget-view+json": {
       "model_id": "",
       "version_major": 2,
       "version_minor": 0
      },
      "text/plain": [
       "Validating: 0it [00:00, ?it/s]"
      ]
     },
     "metadata": {},
     "output_type": "display_data"
    },
    {
     "data": {
      "application/vnd.jupyter.widget-view+json": {
       "model_id": "",
       "version_major": 2,
       "version_minor": 0
      },
      "text/plain": [
       "Validating: 0it [00:00, ?it/s]"
      ]
     },
     "metadata": {},
     "output_type": "display_data"
    },
    {
     "data": {
      "application/vnd.jupyter.widget-view+json": {
       "model_id": "",
       "version_major": 2,
       "version_minor": 0
      },
      "text/plain": [
       "Validating: 0it [00:00, ?it/s]"
      ]
     },
     "metadata": {},
     "output_type": "display_data"
    },
    {
     "data": {
      "application/vnd.jupyter.widget-view+json": {
       "model_id": "",
       "version_major": 2,
       "version_minor": 0
      },
      "text/plain": [
       "Validating: 0it [00:00, ?it/s]"
      ]
     },
     "metadata": {},
     "output_type": "display_data"
    },
    {
     "data": {
      "application/vnd.jupyter.widget-view+json": {
       "model_id": "",
       "version_major": 2,
       "version_minor": 0
      },
      "text/plain": [
       "Validating: 0it [00:00, ?it/s]"
      ]
     },
     "metadata": {},
     "output_type": "display_data"
    },
    {
     "data": {
      "application/vnd.jupyter.widget-view+json": {
       "model_id": "",
       "version_major": 2,
       "version_minor": 0
      },
      "text/plain": [
       "Validating: 0it [00:00, ?it/s]"
      ]
     },
     "metadata": {},
     "output_type": "display_data"
    },
    {
     "data": {
      "application/vnd.jupyter.widget-view+json": {
       "model_id": "",
       "version_major": 2,
       "version_minor": 0
      },
      "text/plain": [
       "Validating: 0it [00:00, ?it/s]"
      ]
     },
     "metadata": {},
     "output_type": "display_data"
    },
    {
     "data": {
      "application/vnd.jupyter.widget-view+json": {
       "model_id": "",
       "version_major": 2,
       "version_minor": 0
      },
      "text/plain": [
       "Validating: 0it [00:00, ?it/s]"
      ]
     },
     "metadata": {},
     "output_type": "display_data"
    },
    {
     "data": {
      "application/vnd.jupyter.widget-view+json": {
       "model_id": "",
       "version_major": 2,
       "version_minor": 0
      },
      "text/plain": [
       "Validating: 0it [00:00, ?it/s]"
      ]
     },
     "metadata": {},
     "output_type": "display_data"
    },
    {
     "data": {
      "application/vnd.jupyter.widget-view+json": {
       "model_id": "",
       "version_major": 2,
       "version_minor": 0
      },
      "text/plain": [
       "Validating: 0it [00:00, ?it/s]"
      ]
     },
     "metadata": {},
     "output_type": "display_data"
    },
    {
     "data": {
      "application/vnd.jupyter.widget-view+json": {
       "model_id": "",
       "version_major": 2,
       "version_minor": 0
      },
      "text/plain": [
       "Validating: 0it [00:00, ?it/s]"
      ]
     },
     "metadata": {},
     "output_type": "display_data"
    },
    {
     "data": {
      "application/vnd.jupyter.widget-view+json": {
       "model_id": "",
       "version_major": 2,
       "version_minor": 0
      },
      "text/plain": [
       "Validating: 0it [00:00, ?it/s]"
      ]
     },
     "metadata": {},
     "output_type": "display_data"
    },
    {
     "data": {
      "application/vnd.jupyter.widget-view+json": {
       "model_id": "",
       "version_major": 2,
       "version_minor": 0
      },
      "text/plain": [
       "Validating: 0it [00:00, ?it/s]"
      ]
     },
     "metadata": {},
     "output_type": "display_data"
    },
    {
     "data": {
      "application/vnd.jupyter.widget-view+json": {
       "model_id": "",
       "version_major": 2,
       "version_minor": 0
      },
      "text/plain": [
       "Validating: 0it [00:00, ?it/s]"
      ]
     },
     "metadata": {},
     "output_type": "display_data"
    },
    {
     "data": {
      "application/vnd.jupyter.widget-view+json": {
       "model_id": "",
       "version_major": 2,
       "version_minor": 0
      },
      "text/plain": [
       "Validating: 0it [00:00, ?it/s]"
      ]
     },
     "metadata": {},
     "output_type": "display_data"
    },
    {
     "data": {
      "application/vnd.jupyter.widget-view+json": {
       "model_id": "",
       "version_major": 2,
       "version_minor": 0
      },
      "text/plain": [
       "Validating: 0it [00:00, ?it/s]"
      ]
     },
     "metadata": {},
     "output_type": "display_data"
    },
    {
     "data": {
      "application/vnd.jupyter.widget-view+json": {
       "model_id": "",
       "version_major": 2,
       "version_minor": 0
      },
      "text/plain": [
       "Validating: 0it [00:00, ?it/s]"
      ]
     },
     "metadata": {},
     "output_type": "display_data"
    },
    {
     "data": {
      "application/vnd.jupyter.widget-view+json": {
       "model_id": "",
       "version_major": 2,
       "version_minor": 0
      },
      "text/plain": [
       "Validating: 0it [00:00, ?it/s]"
      ]
     },
     "metadata": {},
     "output_type": "display_data"
    },
    {
     "data": {
      "application/vnd.jupyter.widget-view+json": {
       "model_id": "",
       "version_major": 2,
       "version_minor": 0
      },
      "text/plain": [
       "Validating: 0it [00:00, ?it/s]"
      ]
     },
     "metadata": {},
     "output_type": "display_data"
    },
    {
     "data": {
      "application/vnd.jupyter.widget-view+json": {
       "model_id": "",
       "version_major": 2,
       "version_minor": 0
      },
      "text/plain": [
       "Validating: 0it [00:00, ?it/s]"
      ]
     },
     "metadata": {},
     "output_type": "display_data"
    },
    {
     "data": {
      "application/vnd.jupyter.widget-view+json": {
       "model_id": "",
       "version_major": 2,
       "version_minor": 0
      },
      "text/plain": [
       "Validating: 0it [00:00, ?it/s]"
      ]
     },
     "metadata": {},
     "output_type": "display_data"
    },
    {
     "data": {
      "application/vnd.jupyter.widget-view+json": {
       "model_id": "",
       "version_major": 2,
       "version_minor": 0
      },
      "text/plain": [
       "Validating: 0it [00:00, ?it/s]"
      ]
     },
     "metadata": {},
     "output_type": "display_data"
    },
    {
     "data": {
      "application/vnd.jupyter.widget-view+json": {
       "model_id": "",
       "version_major": 2,
       "version_minor": 0
      },
      "text/plain": [
       "Validating: 0it [00:00, ?it/s]"
      ]
     },
     "metadata": {},
     "output_type": "display_data"
    },
    {
     "data": {
      "application/vnd.jupyter.widget-view+json": {
       "model_id": "",
       "version_major": 2,
       "version_minor": 0
      },
      "text/plain": [
       "Validating: 0it [00:00, ?it/s]"
      ]
     },
     "metadata": {},
     "output_type": "display_data"
    },
    {
     "data": {
      "application/vnd.jupyter.widget-view+json": {
       "model_id": "",
       "version_major": 2,
       "version_minor": 0
      },
      "text/plain": [
       "Validating: 0it [00:00, ?it/s]"
      ]
     },
     "metadata": {},
     "output_type": "display_data"
    },
    {
     "data": {
      "application/vnd.jupyter.widget-view+json": {
       "model_id": "",
       "version_major": 2,
       "version_minor": 0
      },
      "text/plain": [
       "Validating: 0it [00:00, ?it/s]"
      ]
     },
     "metadata": {},
     "output_type": "display_data"
    },
    {
     "data": {
      "application/vnd.jupyter.widget-view+json": {
       "model_id": "",
       "version_major": 2,
       "version_minor": 0
      },
      "text/plain": [
       "Validating: 0it [00:00, ?it/s]"
      ]
     },
     "metadata": {},
     "output_type": "display_data"
    },
    {
     "name": "stderr",
     "output_type": "stream",
     "text": [
      "WARNING - (py.warnings._showwarnmsg) - /Users/polina/.conda/envs/neural_prophet/lib/python3.7/site-packages/pandas/core/indexing.py:1738: SettingWithCopyWarning: \n",
      "A value is trying to be set on a copy of a slice from a DataFrame.\n",
      "Try using .loc[row_indexer,col_indexer] = value instead\n",
      "\n",
      "See the caveats in the documentation: https://pandas.pydata.org/pandas-docs/stable/user_guide/indexing.html#returning-a-view-versus-a-copy\n",
      "  self._setitem_single_column(loc, value[:, i].tolist(), pi)\n",
      "\n",
      "GPU available: False, used: False\n",
      "TPU available: False, using: 0 TPU cores\n",
      "\n",
      "  | Name            | Type       | Params\n",
      "-----------------------------------------------\n",
      "0 | loss            | MASE       | 0     \n",
      "1 | logging_metrics | ModuleList | 0     \n",
      "2 | net_blocks      | ModuleList | 1.6 M \n",
      "-----------------------------------------------\n",
      "1.6 M     Trainable params\n",
      "0         Non-trainable params\n",
      "1.6 M     Total params\n",
      "6.421     Total estimated model params size (MB)\n"
     ]
    },
    {
     "data": {
      "application/vnd.jupyter.widget-view+json": {
       "model_id": "8ca23571b0844101b9989d89d62015cc",
       "version_major": 2,
       "version_minor": 0
      },
      "text/plain": [
       "Training: 0it [00:00, ?it/s]"
      ]
     },
     "metadata": {},
     "output_type": "display_data"
    },
    {
     "data": {
      "application/vnd.jupyter.widget-view+json": {
       "model_id": "",
       "version_major": 2,
       "version_minor": 0
      },
      "text/plain": [
       "Validating: 0it [00:00, ?it/s]"
      ]
     },
     "metadata": {},
     "output_type": "display_data"
    },
    {
     "data": {
      "application/vnd.jupyter.widget-view+json": {
       "model_id": "",
       "version_major": 2,
       "version_minor": 0
      },
      "text/plain": [
       "Validating: 0it [00:00, ?it/s]"
      ]
     },
     "metadata": {},
     "output_type": "display_data"
    },
    {
     "data": {
      "application/vnd.jupyter.widget-view+json": {
       "model_id": "",
       "version_major": 2,
       "version_minor": 0
      },
      "text/plain": [
       "Validating: 0it [00:00, ?it/s]"
      ]
     },
     "metadata": {},
     "output_type": "display_data"
    },
    {
     "data": {
      "application/vnd.jupyter.widget-view+json": {
       "model_id": "",
       "version_major": 2,
       "version_minor": 0
      },
      "text/plain": [
       "Validating: 0it [00:00, ?it/s]"
      ]
     },
     "metadata": {},
     "output_type": "display_data"
    },
    {
     "data": {
      "application/vnd.jupyter.widget-view+json": {
       "model_id": "",
       "version_major": 2,
       "version_minor": 0
      },
      "text/plain": [
       "Validating: 0it [00:00, ?it/s]"
      ]
     },
     "metadata": {},
     "output_type": "display_data"
    },
    {
     "data": {
      "application/vnd.jupyter.widget-view+json": {
       "model_id": "",
       "version_major": 2,
       "version_minor": 0
      },
      "text/plain": [
       "Validating: 0it [00:00, ?it/s]"
      ]
     },
     "metadata": {},
     "output_type": "display_data"
    },
    {
     "data": {
      "application/vnd.jupyter.widget-view+json": {
       "model_id": "",
       "version_major": 2,
       "version_minor": 0
      },
      "text/plain": [
       "Validating: 0it [00:00, ?it/s]"
      ]
     },
     "metadata": {},
     "output_type": "display_data"
    },
    {
     "data": {
      "application/vnd.jupyter.widget-view+json": {
       "model_id": "",
       "version_major": 2,
       "version_minor": 0
      },
      "text/plain": [
       "Validating: 0it [00:00, ?it/s]"
      ]
     },
     "metadata": {},
     "output_type": "display_data"
    },
    {
     "data": {
      "application/vnd.jupyter.widget-view+json": {
       "model_id": "",
       "version_major": 2,
       "version_minor": 0
      },
      "text/plain": [
       "Validating: 0it [00:00, ?it/s]"
      ]
     },
     "metadata": {},
     "output_type": "display_data"
    },
    {
     "data": {
      "application/vnd.jupyter.widget-view+json": {
       "model_id": "",
       "version_major": 2,
       "version_minor": 0
      },
      "text/plain": [
       "Validating: 0it [00:00, ?it/s]"
      ]
     },
     "metadata": {},
     "output_type": "display_data"
    },
    {
     "data": {
      "application/vnd.jupyter.widget-view+json": {
       "model_id": "",
       "version_major": 2,
       "version_minor": 0
      },
      "text/plain": [
       "Validating: 0it [00:00, ?it/s]"
      ]
     },
     "metadata": {},
     "output_type": "display_data"
    },
    {
     "data": {
      "application/vnd.jupyter.widget-view+json": {
       "model_id": "",
       "version_major": 2,
       "version_minor": 0
      },
      "text/plain": [
       "Validating: 0it [00:00, ?it/s]"
      ]
     },
     "metadata": {},
     "output_type": "display_data"
    },
    {
     "data": {
      "application/vnd.jupyter.widget-view+json": {
       "model_id": "",
       "version_major": 2,
       "version_minor": 0
      },
      "text/plain": [
       "Validating: 0it [00:00, ?it/s]"
      ]
     },
     "metadata": {},
     "output_type": "display_data"
    },
    {
     "data": {
      "application/vnd.jupyter.widget-view+json": {
       "model_id": "",
       "version_major": 2,
       "version_minor": 0
      },
      "text/plain": [
       "Validating: 0it [00:00, ?it/s]"
      ]
     },
     "metadata": {},
     "output_type": "display_data"
    },
    {
     "data": {
      "application/vnd.jupyter.widget-view+json": {
       "model_id": "",
       "version_major": 2,
       "version_minor": 0
      },
      "text/plain": [
       "Validating: 0it [00:00, ?it/s]"
      ]
     },
     "metadata": {},
     "output_type": "display_data"
    },
    {
     "data": {
      "application/vnd.jupyter.widget-view+json": {
       "model_id": "",
       "version_major": 2,
       "version_minor": 0
      },
      "text/plain": [
       "Validating: 0it [00:00, ?it/s]"
      ]
     },
     "metadata": {},
     "output_type": "display_data"
    },
    {
     "data": {
      "application/vnd.jupyter.widget-view+json": {
       "model_id": "",
       "version_major": 2,
       "version_minor": 0
      },
      "text/plain": [
       "Validating: 0it [00:00, ?it/s]"
      ]
     },
     "metadata": {},
     "output_type": "display_data"
    },
    {
     "data": {
      "application/vnd.jupyter.widget-view+json": {
       "model_id": "",
       "version_major": 2,
       "version_minor": 0
      },
      "text/plain": [
       "Validating: 0it [00:00, ?it/s]"
      ]
     },
     "metadata": {},
     "output_type": "display_data"
    },
    {
     "data": {
      "application/vnd.jupyter.widget-view+json": {
       "model_id": "",
       "version_major": 2,
       "version_minor": 0
      },
      "text/plain": [
       "Validating: 0it [00:00, ?it/s]"
      ]
     },
     "metadata": {},
     "output_type": "display_data"
    },
    {
     "data": {
      "application/vnd.jupyter.widget-view+json": {
       "model_id": "",
       "version_major": 2,
       "version_minor": 0
      },
      "text/plain": [
       "Validating: 0it [00:00, ?it/s]"
      ]
     },
     "metadata": {},
     "output_type": "display_data"
    },
    {
     "data": {
      "application/vnd.jupyter.widget-view+json": {
       "model_id": "",
       "version_major": 2,
       "version_minor": 0
      },
      "text/plain": [
       "Validating: 0it [00:00, ?it/s]"
      ]
     },
     "metadata": {},
     "output_type": "display_data"
    },
    {
     "data": {
      "application/vnd.jupyter.widget-view+json": {
       "model_id": "",
       "version_major": 2,
       "version_minor": 0
      },
      "text/plain": [
       "Validating: 0it [00:00, ?it/s]"
      ]
     },
     "metadata": {},
     "output_type": "display_data"
    },
    {
     "data": {
      "application/vnd.jupyter.widget-view+json": {
       "model_id": "",
       "version_major": 2,
       "version_minor": 0
      },
      "text/plain": [
       "Validating: 0it [00:00, ?it/s]"
      ]
     },
     "metadata": {},
     "output_type": "display_data"
    },
    {
     "data": {
      "application/vnd.jupyter.widget-view+json": {
       "model_id": "",
       "version_major": 2,
       "version_minor": 0
      },
      "text/plain": [
       "Validating: 0it [00:00, ?it/s]"
      ]
     },
     "metadata": {},
     "output_type": "display_data"
    },
    {
     "data": {
      "application/vnd.jupyter.widget-view+json": {
       "model_id": "",
       "version_major": 2,
       "version_minor": 0
      },
      "text/plain": [
       "Validating: 0it [00:00, ?it/s]"
      ]
     },
     "metadata": {},
     "output_type": "display_data"
    },
    {
     "data": {
      "application/vnd.jupyter.widget-view+json": {
       "model_id": "",
       "version_major": 2,
       "version_minor": 0
      },
      "text/plain": [
       "Validating: 0it [00:00, ?it/s]"
      ]
     },
     "metadata": {},
     "output_type": "display_data"
    },
    {
     "data": {
      "application/vnd.jupyter.widget-view+json": {
       "model_id": "",
       "version_major": 2,
       "version_minor": 0
      },
      "text/plain": [
       "Validating: 0it [00:00, ?it/s]"
      ]
     },
     "metadata": {},
     "output_type": "display_data"
    },
    {
     "data": {
      "application/vnd.jupyter.widget-view+json": {
       "model_id": "",
       "version_major": 2,
       "version_minor": 0
      },
      "text/plain": [
       "Validating: 0it [00:00, ?it/s]"
      ]
     },
     "metadata": {},
     "output_type": "display_data"
    },
    {
     "data": {
      "application/vnd.jupyter.widget-view+json": {
       "model_id": "",
       "version_major": 2,
       "version_minor": 0
      },
      "text/plain": [
       "Validating: 0it [00:00, ?it/s]"
      ]
     },
     "metadata": {},
     "output_type": "display_data"
    },
    {
     "data": {
      "application/vnd.jupyter.widget-view+json": {
       "model_id": "",
       "version_major": 2,
       "version_minor": 0
      },
      "text/plain": [
       "Validating: 0it [00:00, ?it/s]"
      ]
     },
     "metadata": {},
     "output_type": "display_data"
    },
    {
     "data": {
      "application/vnd.jupyter.widget-view+json": {
       "model_id": "",
       "version_major": 2,
       "version_minor": 0
      },
      "text/plain": [
       "Validating: 0it [00:00, ?it/s]"
      ]
     },
     "metadata": {},
     "output_type": "display_data"
    },
    {
     "name": "stderr",
     "output_type": "stream",
     "text": [
      "WARNING - (py.warnings._showwarnmsg) - /Users/polina/.conda/envs/neural_prophet/lib/python3.7/site-packages/pandas/core/indexing.py:1738: SettingWithCopyWarning: \n",
      "A value is trying to be set on a copy of a slice from a DataFrame.\n",
      "Try using .loc[row_indexer,col_indexer] = value instead\n",
      "\n",
      "See the caveats in the documentation: https://pandas.pydata.org/pandas-docs/stable/user_guide/indexing.html#returning-a-view-versus-a-copy\n",
      "  self._setitem_single_column(loc, value[:, i].tolist(), pi)\n",
      "\n",
      "GPU available: False, used: False\n",
      "TPU available: False, using: 0 TPU cores\n",
      "\n",
      "   | Name                               | Type                            | Params\n",
      "----------------------------------------------------------------------------------------\n",
      "0  | loss                               | QuantileLoss                    | 0     \n",
      "1  | logging_metrics                    | ModuleList                      | 0     \n",
      "2  | input_embeddings                   | MultiEmbedding                  | 0     \n",
      "3  | prescalers                         | ModuleDict                      | 96    \n",
      "4  | static_variable_selection          | VariableSelectionNetwork        | 2.8 K \n",
      "5  | encoder_variable_selection         | VariableSelectionNetwork        | 2.9 K \n",
      "6  | decoder_variable_selection         | VariableSelectionNetwork        | 1.9 K \n",
      "7  | static_context_variable_selection  | GatedResidualNetwork            | 4.3 K \n",
      "8  | static_context_initial_hidden_lstm | GatedResidualNetwork            | 4.3 K \n",
      "9  | static_context_initial_cell_lstm   | GatedResidualNetwork            | 4.3 K \n",
      "10 | static_context_enrichment          | GatedResidualNetwork            | 4.3 K \n",
      "11 | lstm_encoder                       | LSTM                            | 8.4 K \n",
      "12 | lstm_decoder                       | LSTM                            | 8.4 K \n",
      "13 | post_lstm_gate_encoder             | GatedLinearUnit                 | 2.1 K \n",
      "14 | post_lstm_add_norm_encoder         | AddNorm                         | 64    \n",
      "15 | static_enrichment                  | GatedResidualNetwork            | 5.3 K \n",
      "16 | multihead_attn                     | InterpretableMultiHeadAttention | 4.2 K \n",
      "17 | post_attn_gate_norm                | GateAddNorm                     | 2.2 K \n",
      "18 | pos_wise_ff                        | GatedResidualNetwork            | 4.3 K \n",
      "19 | pre_output_gate_norm               | GateAddNorm                     | 2.2 K \n",
      "20 | output_layer                       | Linear                          | 231   \n",
      "----------------------------------------------------------------------------------------\n",
      "62.2 K    Trainable params\n",
      "0         Non-trainable params\n",
      "62.2 K    Total params\n",
      "0.249     Total estimated model params size (MB)\n"
     ]
    },
    {
     "data": {
      "application/vnd.jupyter.widget-view+json": {
       "model_id": "b592d6bc33eb4626ae2e9633fdf5e79b",
       "version_major": 2,
       "version_minor": 0
      },
      "text/plain": [
       "Training: 0it [00:00, ?it/s]"
      ]
     },
     "metadata": {},
     "output_type": "display_data"
    },
    {
     "data": {
      "application/vnd.jupyter.widget-view+json": {
       "model_id": "",
       "version_major": 2,
       "version_minor": 0
      },
      "text/plain": [
       "Validating: 0it [00:00, ?it/s]"
      ]
     },
     "metadata": {},
     "output_type": "display_data"
    },
    {
     "data": {
      "application/vnd.jupyter.widget-view+json": {
       "model_id": "",
       "version_major": 2,
       "version_minor": 0
      },
      "text/plain": [
       "Validating: 0it [00:00, ?it/s]"
      ]
     },
     "metadata": {},
     "output_type": "display_data"
    },
    {
     "data": {
      "application/vnd.jupyter.widget-view+json": {
       "model_id": "",
       "version_major": 2,
       "version_minor": 0
      },
      "text/plain": [
       "Validating: 0it [00:00, ?it/s]"
      ]
     },
     "metadata": {},
     "output_type": "display_data"
    },
    {
     "data": {
      "application/vnd.jupyter.widget-view+json": {
       "model_id": "",
       "version_major": 2,
       "version_minor": 0
      },
      "text/plain": [
       "Validating: 0it [00:00, ?it/s]"
      ]
     },
     "metadata": {},
     "output_type": "display_data"
    },
    {
     "data": {
      "application/vnd.jupyter.widget-view+json": {
       "model_id": "",
       "version_major": 2,
       "version_minor": 0
      },
      "text/plain": [
       "Validating: 0it [00:00, ?it/s]"
      ]
     },
     "metadata": {},
     "output_type": "display_data"
    },
    {
     "data": {
      "application/vnd.jupyter.widget-view+json": {
       "model_id": "",
       "version_major": 2,
       "version_minor": 0
      },
      "text/plain": [
       "Validating: 0it [00:00, ?it/s]"
      ]
     },
     "metadata": {},
     "output_type": "display_data"
    },
    {
     "data": {
      "application/vnd.jupyter.widget-view+json": {
       "model_id": "",
       "version_major": 2,
       "version_minor": 0
      },
      "text/plain": [
       "Validating: 0it [00:00, ?it/s]"
      ]
     },
     "metadata": {},
     "output_type": "display_data"
    },
    {
     "data": {
      "application/vnd.jupyter.widget-view+json": {
       "model_id": "",
       "version_major": 2,
       "version_minor": 0
      },
      "text/plain": [
       "Validating: 0it [00:00, ?it/s]"
      ]
     },
     "metadata": {},
     "output_type": "display_data"
    },
    {
     "data": {
      "application/vnd.jupyter.widget-view+json": {
       "model_id": "",
       "version_major": 2,
       "version_minor": 0
      },
      "text/plain": [
       "Validating: 0it [00:00, ?it/s]"
      ]
     },
     "metadata": {},
     "output_type": "display_data"
    },
    {
     "data": {
      "application/vnd.jupyter.widget-view+json": {
       "model_id": "",
       "version_major": 2,
       "version_minor": 0
      },
      "text/plain": [
       "Validating: 0it [00:00, ?it/s]"
      ]
     },
     "metadata": {},
     "output_type": "display_data"
    },
    {
     "data": {
      "application/vnd.jupyter.widget-view+json": {
       "model_id": "",
       "version_major": 2,
       "version_minor": 0
      },
      "text/plain": [
       "Validating: 0it [00:00, ?it/s]"
      ]
     },
     "metadata": {},
     "output_type": "display_data"
    },
    {
     "data": {
      "application/vnd.jupyter.widget-view+json": {
       "model_id": "",
       "version_major": 2,
       "version_minor": 0
      },
      "text/plain": [
       "Validating: 0it [00:00, ?it/s]"
      ]
     },
     "metadata": {},
     "output_type": "display_data"
    },
    {
     "data": {
      "application/vnd.jupyter.widget-view+json": {
       "model_id": "",
       "version_major": 2,
       "version_minor": 0
      },
      "text/plain": [
       "Validating: 0it [00:00, ?it/s]"
      ]
     },
     "metadata": {},
     "output_type": "display_data"
    },
    {
     "data": {
      "application/vnd.jupyter.widget-view+json": {
       "model_id": "",
       "version_major": 2,
       "version_minor": 0
      },
      "text/plain": [
       "Validating: 0it [00:00, ?it/s]"
      ]
     },
     "metadata": {},
     "output_type": "display_data"
    },
    {
     "data": {
      "application/vnd.jupyter.widget-view+json": {
       "model_id": "",
       "version_major": 2,
       "version_minor": 0
      },
      "text/plain": [
       "Validating: 0it [00:00, ?it/s]"
      ]
     },
     "metadata": {},
     "output_type": "display_data"
    },
    {
     "data": {
      "application/vnd.jupyter.widget-view+json": {
       "model_id": "",
       "version_major": 2,
       "version_minor": 0
      },
      "text/plain": [
       "Validating: 0it [00:00, ?it/s]"
      ]
     },
     "metadata": {},
     "output_type": "display_data"
    },
    {
     "data": {
      "application/vnd.jupyter.widget-view+json": {
       "model_id": "",
       "version_major": 2,
       "version_minor": 0
      },
      "text/plain": [
       "Validating: 0it [00:00, ?it/s]"
      ]
     },
     "metadata": {},
     "output_type": "display_data"
    },
    {
     "data": {
      "application/vnd.jupyter.widget-view+json": {
       "model_id": "",
       "version_major": 2,
       "version_minor": 0
      },
      "text/plain": [
       "Validating: 0it [00:00, ?it/s]"
      ]
     },
     "metadata": {},
     "output_type": "display_data"
    },
    {
     "data": {
      "application/vnd.jupyter.widget-view+json": {
       "model_id": "",
       "version_major": 2,
       "version_minor": 0
      },
      "text/plain": [
       "Validating: 0it [00:00, ?it/s]"
      ]
     },
     "metadata": {},
     "output_type": "display_data"
    },
    {
     "data": {
      "application/vnd.jupyter.widget-view+json": {
       "model_id": "",
       "version_major": 2,
       "version_minor": 0
      },
      "text/plain": [
       "Validating: 0it [00:00, ?it/s]"
      ]
     },
     "metadata": {},
     "output_type": "display_data"
    },
    {
     "data": {
      "application/vnd.jupyter.widget-view+json": {
       "model_id": "",
       "version_major": 2,
       "version_minor": 0
      },
      "text/plain": [
       "Validating: 0it [00:00, ?it/s]"
      ]
     },
     "metadata": {},
     "output_type": "display_data"
    },
    {
     "data": {
      "application/vnd.jupyter.widget-view+json": {
       "model_id": "",
       "version_major": 2,
       "version_minor": 0
      },
      "text/plain": [
       "Validating: 0it [00:00, ?it/s]"
      ]
     },
     "metadata": {},
     "output_type": "display_data"
    },
    {
     "data": {
      "application/vnd.jupyter.widget-view+json": {
       "model_id": "",
       "version_major": 2,
       "version_minor": 0
      },
      "text/plain": [
       "Validating: 0it [00:00, ?it/s]"
      ]
     },
     "metadata": {},
     "output_type": "display_data"
    },
    {
     "data": {
      "application/vnd.jupyter.widget-view+json": {
       "model_id": "",
       "version_major": 2,
       "version_minor": 0
      },
      "text/plain": [
       "Validating: 0it [00:00, ?it/s]"
      ]
     },
     "metadata": {},
     "output_type": "display_data"
    },
    {
     "data": {
      "application/vnd.jupyter.widget-view+json": {
       "model_id": "",
       "version_major": 2,
       "version_minor": 0
      },
      "text/plain": [
       "Validating: 0it [00:00, ?it/s]"
      ]
     },
     "metadata": {},
     "output_type": "display_data"
    },
    {
     "data": {
      "application/vnd.jupyter.widget-view+json": {
       "model_id": "",
       "version_major": 2,
       "version_minor": 0
      },
      "text/plain": [
       "Validating: 0it [00:00, ?it/s]"
      ]
     },
     "metadata": {},
     "output_type": "display_data"
    },
    {
     "data": {
      "application/vnd.jupyter.widget-view+json": {
       "model_id": "",
       "version_major": 2,
       "version_minor": 0
      },
      "text/plain": [
       "Validating: 0it [00:00, ?it/s]"
      ]
     },
     "metadata": {},
     "output_type": "display_data"
    },
    {
     "data": {
      "application/vnd.jupyter.widget-view+json": {
       "model_id": "",
       "version_major": 2,
       "version_minor": 0
      },
      "text/plain": [
       "Validating: 0it [00:00, ?it/s]"
      ]
     },
     "metadata": {},
     "output_type": "display_data"
    },
    {
     "data": {
      "application/vnd.jupyter.widget-view+json": {
       "model_id": "",
       "version_major": 2,
       "version_minor": 0
      },
      "text/plain": [
       "Validating: 0it [00:00, ?it/s]"
      ]
     },
     "metadata": {},
     "output_type": "display_data"
    },
    {
     "data": {
      "application/vnd.jupyter.widget-view+json": {
       "model_id": "",
       "version_major": 2,
       "version_minor": 0
      },
      "text/plain": [
       "Validating: 0it [00:00, ?it/s]"
      ]
     },
     "metadata": {},
     "output_type": "display_data"
    },
    {
     "data": {
      "application/vnd.jupyter.widget-view+json": {
       "model_id": "",
       "version_major": 2,
       "version_minor": 0
      },
      "text/plain": [
       "Validating: 0it [00:00, ?it/s]"
      ]
     },
     "metadata": {},
     "output_type": "display_data"
    },
    {
     "data": {
      "application/vnd.jupyter.widget-view+json": {
       "model_id": "",
       "version_major": 2,
       "version_minor": 0
      },
      "text/plain": [
       "Validating: 0it [00:00, ?it/s]"
      ]
     },
     "metadata": {},
     "output_type": "display_data"
    },
    {
     "data": {
      "application/vnd.jupyter.widget-view+json": {
       "model_id": "",
       "version_major": 2,
       "version_minor": 0
      },
      "text/plain": [
       "Validating: 0it [00:00, ?it/s]"
      ]
     },
     "metadata": {},
     "output_type": "display_data"
    },
    {
     "data": {
      "application/vnd.jupyter.widget-view+json": {
       "model_id": "",
       "version_major": 2,
       "version_minor": 0
      },
      "text/plain": [
       "Validating: 0it [00:00, ?it/s]"
      ]
     },
     "metadata": {},
     "output_type": "display_data"
    },
    {
     "data": {
      "application/vnd.jupyter.widget-view+json": {
       "model_id": "",
       "version_major": 2,
       "version_minor": 0
      },
      "text/plain": [
       "Validating: 0it [00:00, ?it/s]"
      ]
     },
     "metadata": {},
     "output_type": "display_data"
    },
    {
     "data": {
      "application/vnd.jupyter.widget-view+json": {
       "model_id": "",
       "version_major": 2,
       "version_minor": 0
      },
      "text/plain": [
       "Validating: 0it [00:00, ?it/s]"
      ]
     },
     "metadata": {},
     "output_type": "display_data"
    },
    {
     "data": {
      "application/vnd.jupyter.widget-view+json": {
       "model_id": "",
       "version_major": 2,
       "version_minor": 0
      },
      "text/plain": [
       "Validating: 0it [00:00, ?it/s]"
      ]
     },
     "metadata": {},
     "output_type": "display_data"
    },
    {
     "data": {
      "application/vnd.jupyter.widget-view+json": {
       "model_id": "",
       "version_major": 2,
       "version_minor": 0
      },
      "text/plain": [
       "Validating: 0it [00:00, ?it/s]"
      ]
     },
     "metadata": {},
     "output_type": "display_data"
    },
    {
     "data": {
      "application/vnd.jupyter.widget-view+json": {
       "model_id": "",
       "version_major": 2,
       "version_minor": 0
      },
      "text/plain": [
       "Validating: 0it [00:00, ?it/s]"
      ]
     },
     "metadata": {},
     "output_type": "display_data"
    },
    {
     "data": {
      "application/vnd.jupyter.widget-view+json": {
       "model_id": "",
       "version_major": 2,
       "version_minor": 0
      },
      "text/plain": [
       "Validating: 0it [00:00, ?it/s]"
      ]
     },
     "metadata": {},
     "output_type": "display_data"
    },
    {
     "data": {
      "application/vnd.jupyter.widget-view+json": {
       "model_id": "",
       "version_major": 2,
       "version_minor": 0
      },
      "text/plain": [
       "Validating: 0it [00:00, ?it/s]"
      ]
     },
     "metadata": {},
     "output_type": "display_data"
    },
    {
     "data": {
      "application/vnd.jupyter.widget-view+json": {
       "model_id": "",
       "version_major": 2,
       "version_minor": 0
      },
      "text/plain": [
       "Validating: 0it [00:00, ?it/s]"
      ]
     },
     "metadata": {},
     "output_type": "display_data"
    },
    {
     "data": {
      "application/vnd.jupyter.widget-view+json": {
       "model_id": "",
       "version_major": 2,
       "version_minor": 0
      },
      "text/plain": [
       "Validating: 0it [00:00, ?it/s]"
      ]
     },
     "metadata": {},
     "output_type": "display_data"
    },
    {
     "data": {
      "application/vnd.jupyter.widget-view+json": {
       "model_id": "",
       "version_major": 2,
       "version_minor": 0
      },
      "text/plain": [
       "Validating: 0it [00:00, ?it/s]"
      ]
     },
     "metadata": {},
     "output_type": "display_data"
    },
    {
     "data": {
      "application/vnd.jupyter.widget-view+json": {
       "model_id": "",
       "version_major": 2,
       "version_minor": 0
      },
      "text/plain": [
       "Validating: 0it [00:00, ?it/s]"
      ]
     },
     "metadata": {},
     "output_type": "display_data"
    },
    {
     "data": {
      "application/vnd.jupyter.widget-view+json": {
       "model_id": "",
       "version_major": 2,
       "version_minor": 0
      },
      "text/plain": [
       "Validating: 0it [00:00, ?it/s]"
      ]
     },
     "metadata": {},
     "output_type": "display_data"
    },
    {
     "data": {
      "application/vnd.jupyter.widget-view+json": {
       "model_id": "",
       "version_major": 2,
       "version_minor": 0
      },
      "text/plain": [
       "Validating: 0it [00:00, ?it/s]"
      ]
     },
     "metadata": {},
     "output_type": "display_data"
    },
    {
     "data": {
      "application/vnd.jupyter.widget-view+json": {
       "model_id": "",
       "version_major": 2,
       "version_minor": 0
      },
      "text/plain": [
       "Validating: 0it [00:00, ?it/s]"
      ]
     },
     "metadata": {},
     "output_type": "display_data"
    },
    {
     "data": {
      "application/vnd.jupyter.widget-view+json": {
       "model_id": "",
       "version_major": 2,
       "version_minor": 0
      },
      "text/plain": [
       "Validating: 0it [00:00, ?it/s]"
      ]
     },
     "metadata": {},
     "output_type": "display_data"
    },
    {
     "data": {
      "application/vnd.jupyter.widget-view+json": {
       "model_id": "",
       "version_major": 2,
       "version_minor": 0
      },
      "text/plain": [
       "Validating: 0it [00:00, ?it/s]"
      ]
     },
     "metadata": {},
     "output_type": "display_data"
    },
    {
     "name": "stderr",
     "output_type": "stream",
     "text": [
      "WARNING - (py.warnings._showwarnmsg) - /Users/polina/.conda/envs/neural_prophet/lib/python3.7/site-packages/pandas/core/indexing.py:1738: SettingWithCopyWarning: \n",
      "A value is trying to be set on a copy of a slice from a DataFrame.\n",
      "Try using .loc[row_indexer,col_indexer] = value instead\n",
      "\n",
      "See the caveats in the documentation: https://pandas.pydata.org/pandas-docs/stable/user_guide/indexing.html#returning-a-view-versus-a-copy\n",
      "  self._setitem_single_column(loc, value[:, i].tolist(), pi)\n",
      "\n",
      "INFO - (NP.config.set_auto_batch_epoch) - Auto-set batch_size to 64\n",
      "\n",
      "\n",
      "\n",
      "  0%|          | 0/50 [00:00<?, ?it/s]\u001b[A\u001b[A\u001b[AGPU available: False, used: False\n",
      "TPU available: False, using: 0 TPU cores\n",
      "WARNING - (py.warnings._showwarnmsg) - /Users/polina/.conda/envs/neural_prophet/lib/python3.7/site-packages/pytorch_lightning/utilities/distributed.py:68: UserWarning: you defined a validation_step but have no val_dataloader. Skipping validation loop\n",
      "  warnings.warn(*args, **kwargs)\n",
      "\n",
      "\n",
      "  | Name      | Type         | Params\n",
      "-------------------------------------------\n",
      "0 | lstm      | LSTM         | 15.1 K\n",
      "1 | linear    | Linear       | 11    \n",
      "2 | loss_func | SmoothL1Loss | 0     \n",
      "-------------------------------------------\n",
      "15.1 K    Trainable params\n",
      "0         Non-trainable params\n",
      "15.1 K    Total params\n",
      "0.060     Total estimated model params size (MB)\n"
     ]
    },
    {
     "data": {
      "application/vnd.jupyter.widget-view+json": {
       "model_id": "",
       "version_major": 2,
       "version_minor": 0
      },
      "text/plain": [
       "Validation sanity check: 0it [00:00, ?it/s]"
      ]
     },
     "metadata": {},
     "output_type": "display_data"
    },
    {
     "name": "stderr",
     "output_type": "stream",
     "text": [
      "WARNING - (py.warnings._showwarnmsg) - /Users/polina/.conda/envs/neural_prophet/lib/python3.7/site-packages/pytorch_lightning/utilities/distributed.py:68: UserWarning: The dataloader, train dataloader, does not have many workers which may be a bottleneck. Consider increasing the value of the `num_workers` argument` (try 8 which is the number of cpus on this machine) in the `DataLoader` init to improve performance.\n",
      "  warnings.warn(*args, **kwargs)\n",
      "\n"
     ]
    },
    {
     "data": {
      "application/vnd.jupyter.widget-view+json": {
       "model_id": "d378ce80d3f646dfbf10b13ac8a3c92b",
       "version_major": 2,
       "version_minor": 0
      },
      "text/plain": [
       "Training: 0it [00:00, ?it/s]"
      ]
     },
     "metadata": {},
     "output_type": "display_data"
    },
    {
     "name": "stderr",
     "output_type": "stream",
     "text": [
      "\n",
      "\n",
      "                                      \u001b[A\u001b[AWARNING - (py.warnings._showwarnmsg) - /Users/polina/fds/neural_prophet/neuralprophet/tools/metrics_libra.py:13: RuntimeWarning: divide by zero encountered in double_scalars\n",
      "  return y_pred_mae / naive_mae\n",
      "\n",
      "WARNING - (py.warnings._showwarnmsg) - /Users/polina/fds/neural_prophet/neuralprophet/tools/metrics_libra.py:13: RuntimeWarning: divide by zero encountered in double_scalars\n",
      "  return y_pred_mae / naive_mae\n",
      "\n",
      "WARNING - (py.warnings._showwarnmsg) - /Users/polina/fds/neural_prophet/neuralprophet/tools/metrics_libra.py:13: RuntimeWarning: divide by zero encountered in double_scalars\n",
      "  return y_pred_mae / naive_mae\n",
      "\n",
      "WARNING - (py.warnings._showwarnmsg) - /Users/polina/fds/neural_prophet/neuralprophet/tools/metrics_libra.py:13: RuntimeWarning: divide by zero encountered in double_scalars\n",
      "  return y_pred_mae / naive_mae\n",
      "\n",
      "WARNING - (py.warnings._showwarnmsg) - /Users/polina/fds/neural_prophet/neuralprophet/tools/metrics_libra.py:13: RuntimeWarning: divide by zero encountered in double_scalars\n",
      "  return y_pred_mae / naive_mae\n",
      "\n",
      "WARNING - (py.warnings._showwarnmsg) - /Users/polina/fds/neural_prophet/neuralprophet/tools/metrics_libra.py:13: RuntimeWarning: divide by zero encountered in double_scalars\n",
      "  return y_pred_mae / naive_mae\n",
      "\n",
      "WARNING - (py.warnings._showwarnmsg) - /Users/polina/fds/neural_prophet/neuralprophet/tools/metrics_libra.py:13: RuntimeWarning: divide by zero encountered in double_scalars\n",
      "  return y_pred_mae / naive_mae\n",
      "\n",
      "WARNING - (py.warnings._showwarnmsg) - /Users/polina/fds/neural_prophet/neuralprophet/tools/metrics_libra.py:13: RuntimeWarning: divide by zero encountered in double_scalars\n",
      "  return y_pred_mae / naive_mae\n",
      "\n",
      "WARNING - (py.warnings._showwarnmsg) - /Users/polina/fds/neural_prophet/neuralprophet/tools/metrics_libra.py:13: RuntimeWarning: divide by zero encountered in double_scalars\n",
      "  return y_pred_mae / naive_mae\n",
      "\n",
      "WARNING - (py.warnings._showwarnmsg) - /Users/polina/fds/neural_prophet/neuralprophet/tools/metrics_libra.py:13: RuntimeWarning: divide by zero encountered in double_scalars\n",
      "  return y_pred_mae / naive_mae\n",
      "\n",
      "WARNING - (py.warnings._showwarnmsg) - /Users/polina/fds/neural_prophet/neuralprophet/tools/metrics_libra.py:13: RuntimeWarning: divide by zero encountered in double_scalars\n",
      "  return y_pred_mae / naive_mae\n",
      "\n",
      "WARNING - (py.warnings._showwarnmsg) - /Users/polina/fds/neural_prophet/neuralprophet/tools/metrics_libra.py:13: RuntimeWarning: divide by zero encountered in double_scalars\n",
      "  return y_pred_mae / naive_mae\n",
      "\n",
      "WARNING - (py.warnings._showwarnmsg) - /Users/polina/fds/neural_prophet/neuralprophet/tools/metrics_libra.py:13: RuntimeWarning: divide by zero encountered in double_scalars\n",
      "  return y_pred_mae / naive_mae\n",
      "\n",
      "WARNING - (py.warnings._showwarnmsg) - /Users/polina/fds/neural_prophet/neuralprophet/tools/metrics_libra.py:13: RuntimeWarning: divide by zero encountered in double_scalars\n",
      "  return y_pred_mae / naive_mae\n",
      "\n",
      "WARNING - (py.warnings._showwarnmsg) - /Users/polina/fds/neural_prophet/neuralprophet/tools/metrics_libra.py:13: RuntimeWarning: divide by zero encountered in double_scalars\n",
      "  return y_pred_mae / naive_mae\n",
      "\n",
      "WARNING - (py.warnings._showwarnmsg) - /Users/polina/fds/neural_prophet/neuralprophet/tools/metrics_libra.py:13: RuntimeWarning: divide by zero encountered in double_scalars\n",
      "  return y_pred_mae / naive_mae\n",
      "\n",
      "WARNING - (py.warnings._showwarnmsg) - /Users/polina/fds/neural_prophet/neuralprophet/tools/metrics_libra.py:13: RuntimeWarning: divide by zero encountered in double_scalars\n",
      "  return y_pred_mae / naive_mae\n",
      "\n",
      "WARNING - (py.warnings._showwarnmsg) - /Users/polina/fds/neural_prophet/neuralprophet/tools/metrics_libra.py:13: RuntimeWarning: divide by zero encountered in double_scalars\n",
      "  return y_pred_mae / naive_mae\n",
      "\n",
      "WARNING - (py.warnings._showwarnmsg) - /Users/polina/fds/neural_prophet/neuralprophet/tools/metrics_libra.py:13: RuntimeWarning: divide by zero encountered in double_scalars\n",
      "  return y_pred_mae / naive_mae\n",
      "\n",
      "WARNING - (py.warnings._showwarnmsg) - /Users/polina/fds/neural_prophet/neuralprophet/tools/metrics_libra.py:13: RuntimeWarning: divide by zero encountered in double_scalars\n",
      "  return y_pred_mae / naive_mae\n",
      "\n",
      "WARNING - (py.warnings._showwarnmsg) - /Users/polina/fds/neural_prophet/neuralprophet/tools/metrics_libra.py:13: RuntimeWarning: divide by zero encountered in double_scalars\n",
      "  return y_pred_mae / naive_mae\n",
      "\n",
      "WARNING - (py.warnings._showwarnmsg) - /Users/polina/fds/neural_prophet/neuralprophet/tools/metrics_libra.py:13: RuntimeWarning: divide by zero encountered in double_scalars\n",
      "  return y_pred_mae / naive_mae\n",
      "\n",
      "WARNING - (py.warnings._showwarnmsg) - /Users/polina/fds/neural_prophet/neuralprophet/tools/metrics_libra.py:13: RuntimeWarning: divide by zero encountered in double_scalars\n",
      "  return y_pred_mae / naive_mae\n",
      "\n",
      "WARNING - (py.warnings._showwarnmsg) - /Users/polina/fds/neural_prophet/neuralprophet/tools/metrics_libra.py:13: RuntimeWarning: divide by zero encountered in double_scalars\n",
      "  return y_pred_mae / naive_mae\n",
      "\n",
      "WARNING - (py.warnings._showwarnmsg) - /Users/polina/fds/neural_prophet/neuralprophet/tools/metrics_libra.py:13: RuntimeWarning: divide by zero encountered in double_scalars\n",
      "  return y_pred_mae / naive_mae\n",
      "\n",
      "WARNING - (py.warnings._showwarnmsg) - /Users/polina/fds/neural_prophet/neuralprophet/tools/metrics_libra.py:13: RuntimeWarning: divide by zero encountered in double_scalars\n",
      "  return y_pred_mae / naive_mae\n",
      "\n",
      "WARNING - (py.warnings._showwarnmsg) - /Users/polina/fds/neural_prophet/neuralprophet/tools/metrics_libra.py:13: RuntimeWarning: divide by zero encountered in double_scalars\n",
      "  return y_pred_mae / naive_mae\n",
      "\n",
      "WARNING - (py.warnings._showwarnmsg) - /Users/polina/fds/neural_prophet/neuralprophet/tools/metrics_libra.py:13: RuntimeWarning: divide by zero encountered in double_scalars\n",
      "  return y_pred_mae / naive_mae\n",
      "\n",
      "WARNING - (py.warnings._showwarnmsg) - /Users/polina/fds/neural_prophet/neuralprophet/tools/metrics_libra.py:13: RuntimeWarning: divide by zero encountered in double_scalars\n",
      "  return y_pred_mae / naive_mae\n",
      "\n",
      "WARNING - (py.warnings._showwarnmsg) - /Users/polina/fds/neural_prophet/neuralprophet/tools/metrics_libra.py:13: RuntimeWarning: divide by zero encountered in double_scalars\n",
      "  return y_pred_mae / naive_mae\n",
      "\n",
      "WARNING - (py.warnings._showwarnmsg) - /Users/polina/fds/neural_prophet/neuralprophet/tools/metrics_libra.py:13: RuntimeWarning: divide by zero encountered in double_scalars\n",
      "  return y_pred_mae / naive_mae\n",
      "\n",
      "WARNING - (py.warnings._showwarnmsg) - /Users/polina/fds/neural_prophet/neuralprophet/tools/metrics_libra.py:13: RuntimeWarning: divide by zero encountered in double_scalars\n",
      "  return y_pred_mae / naive_mae\n",
      "\n",
      "WARNING - (py.warnings._showwarnmsg) - /Users/polina/fds/neural_prophet/neuralprophet/tools/metrics_libra.py:13: RuntimeWarning: divide by zero encountered in double_scalars\n",
      "  return y_pred_mae / naive_mae\n",
      "\n",
      "WARNING - (py.warnings._showwarnmsg) - /Users/polina/fds/neural_prophet/neuralprophet/tools/metrics_libra.py:13: RuntimeWarning: divide by zero encountered in double_scalars\n",
      "  return y_pred_mae / naive_mae\n",
      "\n",
      "WARNING - (py.warnings._showwarnmsg) - /Users/polina/fds/neural_prophet/neuralprophet/tools/metrics_libra.py:13: RuntimeWarning: divide by zero encountered in double_scalars\n",
      "  return y_pred_mae / naive_mae\n",
      "\n",
      "WARNING - (py.warnings._showwarnmsg) - /Users/polina/fds/neural_prophet/neuralprophet/tools/metrics_libra.py:13: RuntimeWarning: divide by zero encountered in double_scalars\n",
      "  return y_pred_mae / naive_mae\n",
      "\n",
      "WARNING - (py.warnings._showwarnmsg) - /Users/polina/fds/neural_prophet/neuralprophet/tools/metrics_libra.py:13: RuntimeWarning: divide by zero encountered in double_scalars\n",
      "  return y_pred_mae / naive_mae\n",
      "\n",
      "WARNING - (py.warnings._showwarnmsg) - /Users/polina/fds/neural_prophet/neuralprophet/tools/metrics_libra.py:13: RuntimeWarning: divide by zero encountered in double_scalars\n",
      "  return y_pred_mae / naive_mae\n",
      "\n",
      "WARNING - (py.warnings._showwarnmsg) - /Users/polina/fds/neural_prophet/neuralprophet/tools/metrics_libra.py:13: RuntimeWarning: divide by zero encountered in double_scalars\n",
      "  return y_pred_mae / naive_mae\n",
      "\n",
      "WARNING - (py.warnings._showwarnmsg) - /Users/polina/fds/neural_prophet/neuralprophet/tools/metrics_libra.py:13: RuntimeWarning: divide by zero encountered in double_scalars\n",
      "  return y_pred_mae / naive_mae\n",
      "\n"
     ]
    },
    {
     "name": "stderr",
     "output_type": "stream",
     "text": [
      "WARNING - (py.warnings._showwarnmsg) - /Users/polina/fds/neural_prophet/neuralprophet/tools/metrics_libra.py:13: RuntimeWarning: divide by zero encountered in double_scalars\n",
      "  return y_pred_mae / naive_mae\n",
      "\n",
      "WARNING - (py.warnings._showwarnmsg) - /Users/polina/fds/neural_prophet/neuralprophet/tools/metrics_libra.py:13: RuntimeWarning: divide by zero encountered in double_scalars\n",
      "  return y_pred_mae / naive_mae\n",
      "\n",
      "WARNING - (py.warnings._showwarnmsg) - /Users/polina/fds/neural_prophet/neuralprophet/tools/metrics_libra.py:13: RuntimeWarning: divide by zero encountered in double_scalars\n",
      "  return y_pred_mae / naive_mae\n",
      "\n",
      "WARNING - (py.warnings._showwarnmsg) - /Users/polina/fds/neural_prophet/neuralprophet/tools/metrics_libra.py:13: RuntimeWarning: divide by zero encountered in double_scalars\n",
      "  return y_pred_mae / naive_mae\n",
      "\n",
      "WARNING - (py.warnings._showwarnmsg) - /Users/polina/fds/neural_prophet/neuralprophet/tools/metrics_libra.py:13: RuntimeWarning: divide by zero encountered in double_scalars\n",
      "  return y_pred_mae / naive_mae\n",
      "\n",
      "WARNING - (py.warnings._showwarnmsg) - /Users/polina/fds/neural_prophet/neuralprophet/tools/metrics_libra.py:13: RuntimeWarning: divide by zero encountered in double_scalars\n",
      "  return y_pred_mae / naive_mae\n",
      "\n",
      "WARNING - (py.warnings._showwarnmsg) - /Users/polina/fds/neural_prophet/neuralprophet/tools/metrics_libra.py:13: RuntimeWarning: divide by zero encountered in double_scalars\n",
      "  return y_pred_mae / naive_mae\n",
      "\n",
      "WARNING - (py.warnings._showwarnmsg) - /Users/polina/fds/neural_prophet/neuralprophet/tools/metrics_libra.py:13: RuntimeWarning: divide by zero encountered in double_scalars\n",
      "  return y_pred_mae / naive_mae\n",
      "\n",
      "WARNING - (py.warnings._showwarnmsg) - /Users/polina/fds/neural_prophet/neuralprophet/tools/metrics_libra.py:13: RuntimeWarning: divide by zero encountered in double_scalars\n",
      "  return y_pred_mae / naive_mae\n",
      "\n",
      "WARNING - (py.warnings._showwarnmsg) - /Users/polina/fds/neural_prophet/neuralprophet/tools/metrics_libra.py:13: RuntimeWarning: divide by zero encountered in double_scalars\n",
      "  return y_pred_mae / naive_mae\n",
      "\n",
      "WARNING - (py.warnings._showwarnmsg) - /Users/polina/fds/neural_prophet/neuralprophet/tools/metrics_libra.py:13: RuntimeWarning: divide by zero encountered in double_scalars\n",
      "  return y_pred_mae / naive_mae\n",
      "\n",
      "WARNING - (py.warnings._showwarnmsg) - /Users/polina/fds/neural_prophet/neuralprophet/tools/metrics_libra.py:13: RuntimeWarning: divide by zero encountered in double_scalars\n",
      "  return y_pred_mae / naive_mae\n",
      "\n",
      "WARNING - (py.warnings._showwarnmsg) - /Users/polina/fds/neural_prophet/neuralprophet/tools/metrics_libra.py:13: RuntimeWarning: divide by zero encountered in double_scalars\n",
      "  return y_pred_mae / naive_mae\n",
      "\n",
      "WARNING - (py.warnings._showwarnmsg) - /Users/polina/fds/neural_prophet/neuralprophet/tools/metrics_libra.py:13: RuntimeWarning: divide by zero encountered in double_scalars\n",
      "  return y_pred_mae / naive_mae\n",
      "\n",
      "WARNING - (py.warnings._showwarnmsg) - /Users/polina/fds/neural_prophet/neuralprophet/tools/metrics_libra.py:13: RuntimeWarning: divide by zero encountered in double_scalars\n",
      "  return y_pred_mae / naive_mae\n",
      "\n",
      "WARNING - (py.warnings._showwarnmsg) - /Users/polina/fds/neural_prophet/neuralprophet/tools/metrics_libra.py:13: RuntimeWarning: divide by zero encountered in double_scalars\n",
      "  return y_pred_mae / naive_mae\n",
      "\n",
      "WARNING - (py.warnings._showwarnmsg) - /Users/polina/fds/neural_prophet/neuralprophet/tools/metrics_libra.py:13: RuntimeWarning: divide by zero encountered in double_scalars\n",
      "  return y_pred_mae / naive_mae\n",
      "\n",
      "WARNING - (py.warnings._showwarnmsg) - /Users/polina/fds/neural_prophet/neuralprophet/tools/metrics_libra.py:13: RuntimeWarning: divide by zero encountered in double_scalars\n",
      "  return y_pred_mae / naive_mae\n",
      "\n",
      "WARNING - (py.warnings._showwarnmsg) - /Users/polina/fds/neural_prophet/neuralprophet/tools/metrics_libra.py:13: RuntimeWarning: divide by zero encountered in double_scalars\n",
      "  return y_pred_mae / naive_mae\n",
      "\n",
      "WARNING - (py.warnings._showwarnmsg) - /Users/polina/fds/neural_prophet/neuralprophet/tools/metrics_libra.py:13: RuntimeWarning: divide by zero encountered in double_scalars\n",
      "  return y_pred_mae / naive_mae\n",
      "\n",
      "WARNING - (py.warnings._showwarnmsg) - /Users/polina/fds/neural_prophet/neuralprophet/tools/metrics_libra.py:13: RuntimeWarning: divide by zero encountered in double_scalars\n",
      "  return y_pred_mae / naive_mae\n",
      "\n",
      "WARNING - (py.warnings._showwarnmsg) - /Users/polina/fds/neural_prophet/neuralprophet/tools/metrics_libra.py:13: RuntimeWarning: divide by zero encountered in double_scalars\n",
      "  return y_pred_mae / naive_mae\n",
      "\n",
      "WARNING - (py.warnings._showwarnmsg) - /Users/polina/fds/neural_prophet/neuralprophet/tools/metrics_libra.py:13: RuntimeWarning: divide by zero encountered in double_scalars\n",
      "  return y_pred_mae / naive_mae\n",
      "\n",
      "WARNING - (py.warnings._showwarnmsg) - /Users/polina/fds/neural_prophet/neuralprophet/tools/metrics_libra.py:13: RuntimeWarning: divide by zero encountered in double_scalars\n",
      "  return y_pred_mae / naive_mae\n",
      "\n",
      "WARNING - (py.warnings._showwarnmsg) - /Users/polina/fds/neural_prophet/neuralprophet/tools/metrics_libra.py:13: RuntimeWarning: divide by zero encountered in double_scalars\n",
      "  return y_pred_mae / naive_mae\n",
      "\n",
      "WARNING - (py.warnings._showwarnmsg) - /Users/polina/fds/neural_prophet/neuralprophet/tools/metrics_libra.py:13: RuntimeWarning: divide by zero encountered in double_scalars\n",
      "  return y_pred_mae / naive_mae\n",
      "\n",
      "WARNING - (py.warnings._showwarnmsg) - /Users/polina/fds/neural_prophet/neuralprophet/tools/metrics_libra.py:13: RuntimeWarning: divide by zero encountered in double_scalars\n",
      "  return y_pred_mae / naive_mae\n",
      "\n",
      "WARNING - (py.warnings._showwarnmsg) - /Users/polina/fds/neural_prophet/neuralprophet/tools/metrics_libra.py:13: RuntimeWarning: divide by zero encountered in double_scalars\n",
      "  return y_pred_mae / naive_mae\n",
      "\n",
      "WARNING - (py.warnings._showwarnmsg) - /Users/polina/fds/neural_prophet/neuralprophet/tools/metrics_libra.py:13: RuntimeWarning: divide by zero encountered in double_scalars\n",
      "  return y_pred_mae / naive_mae\n",
      "\n",
      "WARNING - (py.warnings._showwarnmsg) - /Users/polina/fds/neural_prophet/neuralprophet/tools/metrics_libra.py:13: RuntimeWarning: divide by zero encountered in double_scalars\n",
      "  return y_pred_mae / naive_mae\n",
      "\n",
      "WARNING - (py.warnings._showwarnmsg) - /Users/polina/fds/neural_prophet/neuralprophet/tools/metrics_libra.py:13: RuntimeWarning: divide by zero encountered in double_scalars\n",
      "  return y_pred_mae / naive_mae\n",
      "\n",
      "WARNING - (py.warnings._showwarnmsg) - /Users/polina/fds/neural_prophet/neuralprophet/tools/metrics_libra.py:13: RuntimeWarning: divide by zero encountered in double_scalars\n",
      "  return y_pred_mae / naive_mae\n",
      "\n",
      "WARNING - (py.warnings._showwarnmsg) - /Users/polina/fds/neural_prophet/neuralprophet/tools/metrics_libra.py:13: RuntimeWarning: divide by zero encountered in double_scalars\n",
      "  return y_pred_mae / naive_mae\n",
      "\n",
      "WARNING - (py.warnings._showwarnmsg) - /Users/polina/fds/neural_prophet/neuralprophet/tools/metrics_libra.py:13: RuntimeWarning: divide by zero encountered in double_scalars\n",
      "  return y_pred_mae / naive_mae\n",
      "\n",
      "WARNING - (py.warnings._showwarnmsg) - /Users/polina/fds/neural_prophet/neuralprophet/tools/metrics_libra.py:13: RuntimeWarning: divide by zero encountered in double_scalars\n",
      "  return y_pred_mae / naive_mae\n",
      "\n",
      "WARNING - (py.warnings._showwarnmsg) - /Users/polina/fds/neural_prophet/neuralprophet/tools/metrics_libra.py:13: RuntimeWarning: divide by zero encountered in double_scalars\n",
      "  return y_pred_mae / naive_mae\n",
      "\n",
      "WARNING - (py.warnings._showwarnmsg) - /Users/polina/fds/neural_prophet/neuralprophet/tools/metrics_libra.py:13: RuntimeWarning: divide by zero encountered in double_scalars\n",
      "  return y_pred_mae / naive_mae\n",
      "\n",
      "WARNING - (py.warnings._showwarnmsg) - /Users/polina/fds/neural_prophet/neuralprophet/tools/metrics_libra.py:13: RuntimeWarning: divide by zero encountered in double_scalars\n",
      "  return y_pred_mae / naive_mae\n",
      "\n",
      "WARNING - (py.warnings._showwarnmsg) - /Users/polina/fds/neural_prophet/neuralprophet/tools/metrics_libra.py:13: RuntimeWarning: divide by zero encountered in double_scalars\n",
      "  return y_pred_mae / naive_mae\n",
      "\n",
      "WARNING - (py.warnings._showwarnmsg) - /Users/polina/fds/neural_prophet/neuralprophet/tools/metrics_libra.py:13: RuntimeWarning: divide by zero encountered in double_scalars\n",
      "  return y_pred_mae / naive_mae\n",
      "\n"
     ]
    },
    {
     "name": "stderr",
     "output_type": "stream",
     "text": [
      "WARNING - (py.warnings._showwarnmsg) - /Users/polina/fds/neural_prophet/neuralprophet/tools/metrics_libra.py:13: RuntimeWarning: divide by zero encountered in double_scalars\n",
      "  return y_pred_mae / naive_mae\n",
      "\n",
      "WARNING - (py.warnings._showwarnmsg) - /Users/polina/fds/neural_prophet/neuralprophet/tools/metrics_libra.py:13: RuntimeWarning: divide by zero encountered in double_scalars\n",
      "  return y_pred_mae / naive_mae\n",
      "\n",
      "WARNING - (py.warnings._showwarnmsg) - /Users/polina/fds/neural_prophet/neuralprophet/tools/metrics_libra.py:13: RuntimeWarning: divide by zero encountered in double_scalars\n",
      "  return y_pred_mae / naive_mae\n",
      "\n",
      "WARNING - (py.warnings._showwarnmsg) - /Users/polina/fds/neural_prophet/neuralprophet/tools/metrics_libra.py:13: RuntimeWarning: divide by zero encountered in double_scalars\n",
      "  return y_pred_mae / naive_mae\n",
      "\n",
      "WARNING - (py.warnings._showwarnmsg) - /Users/polina/fds/neural_prophet/neuralprophet/tools/metrics_libra.py:13: RuntimeWarning: divide by zero encountered in double_scalars\n",
      "  return y_pred_mae / naive_mae\n",
      "\n",
      "WARNING - (py.warnings._showwarnmsg) - /Users/polina/fds/neural_prophet/neuralprophet/tools/metrics_libra.py:13: RuntimeWarning: divide by zero encountered in double_scalars\n",
      "  return y_pred_mae / naive_mae\n",
      "\n",
      "WARNING - (py.warnings._showwarnmsg) - /Users/polina/fds/neural_prophet/neuralprophet/tools/metrics_libra.py:13: RuntimeWarning: divide by zero encountered in double_scalars\n",
      "  return y_pred_mae / naive_mae\n",
      "\n",
      "WARNING - (py.warnings._showwarnmsg) - /Users/polina/fds/neural_prophet/neuralprophet/tools/metrics_libra.py:13: RuntimeWarning: divide by zero encountered in double_scalars\n",
      "  return y_pred_mae / naive_mae\n",
      "\n",
      "WARNING - (py.warnings._showwarnmsg) - /Users/polina/fds/neural_prophet/neuralprophet/tools/metrics_libra.py:13: RuntimeWarning: divide by zero encountered in double_scalars\n",
      "  return y_pred_mae / naive_mae\n",
      "\n",
      "WARNING - (py.warnings._showwarnmsg) - /Users/polina/fds/neural_prophet/neuralprophet/tools/metrics_libra.py:13: RuntimeWarning: divide by zero encountered in double_scalars\n",
      "  return y_pred_mae / naive_mae\n",
      "\n",
      "WARNING - (py.warnings._showwarnmsg) - /Users/polina/fds/neural_prophet/neuralprophet/tools/metrics_libra.py:13: RuntimeWarning: divide by zero encountered in double_scalars\n",
      "  return y_pred_mae / naive_mae\n",
      "\n",
      "WARNING - (py.warnings._showwarnmsg) - /Users/polina/fds/neural_prophet/neuralprophet/tools/metrics_libra.py:13: RuntimeWarning: divide by zero encountered in double_scalars\n",
      "  return y_pred_mae / naive_mae\n",
      "\n",
      "WARNING - (py.warnings._showwarnmsg) - /Users/polina/fds/neural_prophet/neuralprophet/tools/metrics_libra.py:13: RuntimeWarning: divide by zero encountered in double_scalars\n",
      "  return y_pred_mae / naive_mae\n",
      "\n",
      "WARNING - (py.warnings._showwarnmsg) - /Users/polina/fds/neural_prophet/neuralprophet/tools/metrics_libra.py:13: RuntimeWarning: divide by zero encountered in double_scalars\n",
      "  return y_pred_mae / naive_mae\n",
      "\n",
      "WARNING - (py.warnings._showwarnmsg) - /Users/polina/fds/neural_prophet/neuralprophet/tools/metrics_libra.py:13: RuntimeWarning: divide by zero encountered in double_scalars\n",
      "  return y_pred_mae / naive_mae\n",
      "\n",
      "WARNING - (py.warnings._showwarnmsg) - /Users/polina/fds/neural_prophet/neuralprophet/tools/metrics_libra.py:13: RuntimeWarning: divide by zero encountered in double_scalars\n",
      "  return y_pred_mae / naive_mae\n",
      "\n",
      "WARNING - (py.warnings._showwarnmsg) - /Users/polina/fds/neural_prophet/neuralprophet/tools/metrics_libra.py:13: RuntimeWarning: divide by zero encountered in double_scalars\n",
      "  return y_pred_mae / naive_mae\n",
      "\n",
      "WARNING - (py.warnings._showwarnmsg) - /Users/polina/fds/neural_prophet/neuralprophet/tools/metrics_libra.py:13: RuntimeWarning: divide by zero encountered in double_scalars\n",
      "  return y_pred_mae / naive_mae\n",
      "\n",
      "WARNING - (py.warnings._showwarnmsg) - /Users/polina/fds/neural_prophet/neuralprophet/tools/metrics_libra.py:13: RuntimeWarning: divide by zero encountered in double_scalars\n",
      "  return y_pred_mae / naive_mae\n",
      "\n",
      "WARNING - (py.warnings._showwarnmsg) - /Users/polina/fds/neural_prophet/neuralprophet/tools/metrics_libra.py:13: RuntimeWarning: divide by zero encountered in double_scalars\n",
      "  return y_pred_mae / naive_mae\n",
      "\n",
      "WARNING - (py.warnings._showwarnmsg) - /Users/polina/fds/neural_prophet/neuralprophet/tools/metrics_libra.py:13: RuntimeWarning: divide by zero encountered in double_scalars\n",
      "  return y_pred_mae / naive_mae\n",
      "\n",
      "WARNING - (py.warnings._showwarnmsg) - /Users/polina/fds/neural_prophet/neuralprophet/tools/metrics_libra.py:13: RuntimeWarning: divide by zero encountered in double_scalars\n",
      "  return y_pred_mae / naive_mae\n",
      "\n",
      "WARNING - (py.warnings._showwarnmsg) - /Users/polina/fds/neural_prophet/neuralprophet/tools/metrics_libra.py:13: RuntimeWarning: divide by zero encountered in double_scalars\n",
      "  return y_pred_mae / naive_mae\n",
      "\n",
      "WARNING - (py.warnings._showwarnmsg) - /Users/polina/fds/neural_prophet/neuralprophet/tools/metrics_libra.py:13: RuntimeWarning: divide by zero encountered in double_scalars\n",
      "  return y_pred_mae / naive_mae\n",
      "\n",
      "WARNING - (py.warnings._showwarnmsg) - /Users/polina/fds/neural_prophet/neuralprophet/tools/metrics_libra.py:13: RuntimeWarning: divide by zero encountered in double_scalars\n",
      "  return y_pred_mae / naive_mae\n",
      "\n",
      "WARNING - (py.warnings._showwarnmsg) - /Users/polina/fds/neural_prophet/neuralprophet/tools/metrics_libra.py:13: RuntimeWarning: divide by zero encountered in double_scalars\n",
      "  return y_pred_mae / naive_mae\n",
      "\n",
      "WARNING - (py.warnings._showwarnmsg) - /Users/polina/fds/neural_prophet/neuralprophet/tools/metrics_libra.py:13: RuntimeWarning: divide by zero encountered in double_scalars\n",
      "  return y_pred_mae / naive_mae\n",
      "\n",
      "WARNING - (py.warnings._showwarnmsg) - /Users/polina/fds/neural_prophet/neuralprophet/tools/metrics_libra.py:13: RuntimeWarning: divide by zero encountered in double_scalars\n",
      "  return y_pred_mae / naive_mae\n",
      "\n",
      "WARNING - (py.warnings._showwarnmsg) - /Users/polina/fds/neural_prophet/neuralprophet/tools/metrics_libra.py:13: RuntimeWarning: divide by zero encountered in double_scalars\n",
      "  return y_pred_mae / naive_mae\n",
      "\n",
      "WARNING - (py.warnings._showwarnmsg) - /Users/polina/fds/neural_prophet/neuralprophet/tools/metrics_libra.py:13: RuntimeWarning: divide by zero encountered in double_scalars\n",
      "  return y_pred_mae / naive_mae\n",
      "\n",
      "WARNING - (py.warnings._showwarnmsg) - /Users/polina/fds/neural_prophet/neuralprophet/tools/metrics_libra.py:13: RuntimeWarning: divide by zero encountered in double_scalars\n",
      "  return y_pred_mae / naive_mae\n",
      "\n",
      "WARNING - (py.warnings._showwarnmsg) - /Users/polina/fds/neural_prophet/neuralprophet/tools/metrics_libra.py:13: RuntimeWarning: divide by zero encountered in double_scalars\n",
      "  return y_pred_mae / naive_mae\n",
      "\n",
      "WARNING - (py.warnings._showwarnmsg) - /Users/polina/fds/neural_prophet/neuralprophet/tools/metrics_libra.py:13: RuntimeWarning: divide by zero encountered in double_scalars\n",
      "  return y_pred_mae / naive_mae\n",
      "\n",
      "WARNING - (py.warnings._showwarnmsg) - /Users/polina/fds/neural_prophet/neuralprophet/tools/metrics_libra.py:13: RuntimeWarning: divide by zero encountered in double_scalars\n",
      "  return y_pred_mae / naive_mae\n",
      "\n",
      "WARNING - (py.warnings._showwarnmsg) - /Users/polina/fds/neural_prophet/neuralprophet/tools/metrics_libra.py:13: RuntimeWarning: divide by zero encountered in double_scalars\n",
      "  return y_pred_mae / naive_mae\n",
      "\n",
      "WARNING - (py.warnings._showwarnmsg) - /Users/polina/fds/neural_prophet/neuralprophet/tools/metrics_libra.py:13: RuntimeWarning: divide by zero encountered in double_scalars\n",
      "  return y_pred_mae / naive_mae\n",
      "\n",
      "WARNING - (py.warnings._showwarnmsg) - /Users/polina/fds/neural_prophet/neuralprophet/tools/metrics_libra.py:13: RuntimeWarning: divide by zero encountered in double_scalars\n",
      "  return y_pred_mae / naive_mae\n",
      "\n",
      "WARNING - (py.warnings._showwarnmsg) - /Users/polina/fds/neural_prophet/neuralprophet/tools/metrics_libra.py:13: RuntimeWarning: divide by zero encountered in double_scalars\n",
      "  return y_pred_mae / naive_mae\n",
      "\n",
      "WARNING - (py.warnings._showwarnmsg) - /Users/polina/fds/neural_prophet/neuralprophet/tools/metrics_libra.py:13: RuntimeWarning: divide by zero encountered in double_scalars\n",
      "  return y_pred_mae / naive_mae\n",
      "\n",
      "WARNING - (py.warnings._showwarnmsg) - /Users/polina/fds/neural_prophet/neuralprophet/tools/metrics_libra.py:13: RuntimeWarning: divide by zero encountered in double_scalars\n",
      "  return y_pred_mae / naive_mae\n",
      "\n"
     ]
    },
    {
     "name": "stderr",
     "output_type": "stream",
     "text": [
      "WARNING - (py.warnings._showwarnmsg) - /Users/polina/fds/neural_prophet/neuralprophet/tools/metrics_libra.py:13: RuntimeWarning: divide by zero encountered in double_scalars\n",
      "  return y_pred_mae / naive_mae\n",
      "\n",
      "WARNING - (py.warnings._showwarnmsg) - /Users/polina/fds/neural_prophet/neuralprophet/tools/metrics_libra.py:13: RuntimeWarning: divide by zero encountered in double_scalars\n",
      "  return y_pred_mae / naive_mae\n",
      "\n",
      "WARNING - (py.warnings._showwarnmsg) - /Users/polina/fds/neural_prophet/neuralprophet/tools/metrics_libra.py:13: RuntimeWarning: divide by zero encountered in double_scalars\n",
      "  return y_pred_mae / naive_mae\n",
      "\n",
      "WARNING - (py.warnings._showwarnmsg) - /Users/polina/fds/neural_prophet/neuralprophet/tools/metrics_libra.py:13: RuntimeWarning: divide by zero encountered in double_scalars\n",
      "  return y_pred_mae / naive_mae\n",
      "\n",
      "WARNING - (py.warnings._showwarnmsg) - /Users/polina/fds/neural_prophet/neuralprophet/tools/metrics_libra.py:13: RuntimeWarning: divide by zero encountered in double_scalars\n",
      "  return y_pred_mae / naive_mae\n",
      "\n",
      "WARNING - (py.warnings._showwarnmsg) - /Users/polina/fds/neural_prophet/neuralprophet/tools/metrics_libra.py:13: RuntimeWarning: divide by zero encountered in double_scalars\n",
      "  return y_pred_mae / naive_mae\n",
      "\n",
      "WARNING - (py.warnings._showwarnmsg) - /Users/polina/fds/neural_prophet/neuralprophet/tools/metrics_libra.py:13: RuntimeWarning: divide by zero encountered in double_scalars\n",
      "  return y_pred_mae / naive_mae\n",
      "\n",
      "WARNING - (py.warnings._showwarnmsg) - /Users/polina/fds/neural_prophet/neuralprophet/tools/metrics_libra.py:13: RuntimeWarning: divide by zero encountered in double_scalars\n",
      "  return y_pred_mae / naive_mae\n",
      "\n",
      "WARNING - (py.warnings._showwarnmsg) - /Users/polina/fds/neural_prophet/neuralprophet/tools/metrics_libra.py:13: RuntimeWarning: divide by zero encountered in double_scalars\n",
      "  return y_pred_mae / naive_mae\n",
      "\n",
      "WARNING - (py.warnings._showwarnmsg) - /Users/polina/fds/neural_prophet/neuralprophet/tools/metrics_libra.py:13: RuntimeWarning: divide by zero encountered in double_scalars\n",
      "  return y_pred_mae / naive_mae\n",
      "\n",
      "WARNING - (py.warnings._showwarnmsg) - /Users/polina/fds/neural_prophet/neuralprophet/tools/metrics_libra.py:13: RuntimeWarning: divide by zero encountered in double_scalars\n",
      "  return y_pred_mae / naive_mae\n",
      "\n",
      "WARNING - (py.warnings._showwarnmsg) - /Users/polina/fds/neural_prophet/neuralprophet/tools/metrics_libra.py:13: RuntimeWarning: divide by zero encountered in double_scalars\n",
      "  return y_pred_mae / naive_mae\n",
      "\n",
      "WARNING - (py.warnings._showwarnmsg) - /Users/polina/fds/neural_prophet/neuralprophet/tools/metrics_libra.py:13: RuntimeWarning: divide by zero encountered in double_scalars\n",
      "  return y_pred_mae / naive_mae\n",
      "\n",
      "WARNING - (py.warnings._showwarnmsg) - /Users/polina/fds/neural_prophet/neuralprophet/tools/metrics_libra.py:13: RuntimeWarning: divide by zero encountered in double_scalars\n",
      "  return y_pred_mae / naive_mae\n",
      "\n",
      "WARNING - (py.warnings._showwarnmsg) - /Users/polina/fds/neural_prophet/neuralprophet/tools/metrics_libra.py:13: RuntimeWarning: divide by zero encountered in double_scalars\n",
      "  return y_pred_mae / naive_mae\n",
      "\n",
      "WARNING - (py.warnings._showwarnmsg) - /Users/polina/fds/neural_prophet/neuralprophet/tools/metrics_libra.py:13: RuntimeWarning: divide by zero encountered in double_scalars\n",
      "  return y_pred_mae / naive_mae\n",
      "\n",
      "WARNING - (py.warnings._showwarnmsg) - /Users/polina/fds/neural_prophet/neuralprophet/tools/metrics_libra.py:13: RuntimeWarning: divide by zero encountered in double_scalars\n",
      "  return y_pred_mae / naive_mae\n",
      "\n",
      "WARNING - (py.warnings._showwarnmsg) - /Users/polina/fds/neural_prophet/neuralprophet/tools/metrics_libra.py:13: RuntimeWarning: divide by zero encountered in double_scalars\n",
      "  return y_pred_mae / naive_mae\n",
      "\n",
      "WARNING - (py.warnings._showwarnmsg) - /Users/polina/fds/neural_prophet/neuralprophet/tools/metrics_libra.py:13: RuntimeWarning: divide by zero encountered in double_scalars\n",
      "  return y_pred_mae / naive_mae\n",
      "\n",
      "WARNING - (py.warnings._showwarnmsg) - /Users/polina/fds/neural_prophet/neuralprophet/tools/metrics_libra.py:13: RuntimeWarning: divide by zero encountered in double_scalars\n",
      "  return y_pred_mae / naive_mae\n",
      "\n",
      "WARNING - (py.warnings._showwarnmsg) - /Users/polina/fds/neural_prophet/neuralprophet/tools/metrics_libra.py:13: RuntimeWarning: divide by zero encountered in double_scalars\n",
      "  return y_pred_mae / naive_mae\n",
      "\n",
      "WARNING - (py.warnings._showwarnmsg) - /Users/polina/fds/neural_prophet/neuralprophet/tools/metrics_libra.py:13: RuntimeWarning: divide by zero encountered in double_scalars\n",
      "  return y_pred_mae / naive_mae\n",
      "\n",
      "WARNING - (py.warnings._showwarnmsg) - /Users/polina/fds/neural_prophet/neuralprophet/tools/metrics_libra.py:13: RuntimeWarning: divide by zero encountered in double_scalars\n",
      "  return y_pred_mae / naive_mae\n",
      "\n",
      "WARNING - (py.warnings._showwarnmsg) - /Users/polina/fds/neural_prophet/neuralprophet/tools/metrics_libra.py:13: RuntimeWarning: divide by zero encountered in double_scalars\n",
      "  return y_pred_mae / naive_mae\n",
      "\n",
      "WARNING - (py.warnings._showwarnmsg) - /Users/polina/fds/neural_prophet/neuralprophet/tools/metrics_libra.py:13: RuntimeWarning: divide by zero encountered in double_scalars\n",
      "  return y_pred_mae / naive_mae\n",
      "\n",
      "WARNING - (py.warnings._showwarnmsg) - /Users/polina/fds/neural_prophet/neuralprophet/tools/metrics_libra.py:13: RuntimeWarning: divide by zero encountered in double_scalars\n",
      "  return y_pred_mae / naive_mae\n",
      "\n",
      "WARNING - (py.warnings._showwarnmsg) - /Users/polina/fds/neural_prophet/neuralprophet/tools/metrics_libra.py:13: RuntimeWarning: divide by zero encountered in double_scalars\n",
      "  return y_pred_mae / naive_mae\n",
      "\n",
      "WARNING - (py.warnings._showwarnmsg) - /Users/polina/fds/neural_prophet/neuralprophet/tools/metrics_libra.py:13: RuntimeWarning: divide by zero encountered in double_scalars\n",
      "  return y_pred_mae / naive_mae\n",
      "\n",
      "WARNING - (py.warnings._showwarnmsg) - /Users/polina/fds/neural_prophet/neuralprophet/tools/metrics_libra.py:13: RuntimeWarning: divide by zero encountered in double_scalars\n",
      "  return y_pred_mae / naive_mae\n",
      "\n",
      "WARNING - (py.warnings._showwarnmsg) - /Users/polina/fds/neural_prophet/neuralprophet/tools/metrics_libra.py:13: RuntimeWarning: divide by zero encountered in double_scalars\n",
      "  return y_pred_mae / naive_mae\n",
      "\n",
      "WARNING - (py.warnings._showwarnmsg) - /Users/polina/fds/neural_prophet/neuralprophet/tools/metrics_libra.py:13: RuntimeWarning: divide by zero encountered in double_scalars\n",
      "  return y_pred_mae / naive_mae\n",
      "\n",
      "WARNING - (py.warnings._showwarnmsg) - /Users/polina/fds/neural_prophet/neuralprophet/tools/metrics_libra.py:13: RuntimeWarning: divide by zero encountered in double_scalars\n",
      "  return y_pred_mae / naive_mae\n",
      "\n",
      "WARNING - (py.warnings._showwarnmsg) - /Users/polina/fds/neural_prophet/neuralprophet/tools/metrics_libra.py:13: RuntimeWarning: divide by zero encountered in double_scalars\n",
      "  return y_pred_mae / naive_mae\n",
      "\n",
      "WARNING - (py.warnings._showwarnmsg) - /Users/polina/fds/neural_prophet/neuralprophet/tools/metrics_libra.py:13: RuntimeWarning: divide by zero encountered in double_scalars\n",
      "  return y_pred_mae / naive_mae\n",
      "\n",
      "WARNING - (py.warnings._showwarnmsg) - /Users/polina/fds/neural_prophet/neuralprophet/tools/metrics_libra.py:13: RuntimeWarning: divide by zero encountered in double_scalars\n",
      "  return y_pred_mae / naive_mae\n",
      "\n",
      "WARNING - (py.warnings._showwarnmsg) - /Users/polina/fds/neural_prophet/neuralprophet/tools/metrics_libra.py:13: RuntimeWarning: divide by zero encountered in double_scalars\n",
      "  return y_pred_mae / naive_mae\n",
      "\n",
      "WARNING - (py.warnings._showwarnmsg) - /Users/polina/fds/neural_prophet/neuralprophet/tools/metrics_libra.py:13: RuntimeWarning: divide by zero encountered in double_scalars\n",
      "  return y_pred_mae / naive_mae\n",
      "\n",
      "WARNING - (py.warnings._showwarnmsg) - /Users/polina/fds/neural_prophet/neuralprophet/tools/metrics_libra.py:13: RuntimeWarning: divide by zero encountered in double_scalars\n",
      "  return y_pred_mae / naive_mae\n",
      "\n",
      "WARNING - (py.warnings._showwarnmsg) - /Users/polina/fds/neural_prophet/neuralprophet/tools/metrics_libra.py:13: RuntimeWarning: divide by zero encountered in double_scalars\n",
      "  return y_pred_mae / naive_mae\n",
      "\n",
      "WARNING - (py.warnings._showwarnmsg) - /Users/polina/fds/neural_prophet/neuralprophet/tools/metrics_libra.py:13: RuntimeWarning: divide by zero encountered in double_scalars\n",
      "  return y_pred_mae / naive_mae\n",
      "\n"
     ]
    },
    {
     "name": "stderr",
     "output_type": "stream",
     "text": [
      "WARNING - (py.warnings._showwarnmsg) - /Users/polina/fds/neural_prophet/neuralprophet/tools/metrics_libra.py:13: RuntimeWarning: divide by zero encountered in double_scalars\n",
      "  return y_pred_mae / naive_mae\n",
      "\n",
      "WARNING - (py.warnings._showwarnmsg) - /Users/polina/fds/neural_prophet/neuralprophet/tools/metrics_libra.py:13: RuntimeWarning: divide by zero encountered in double_scalars\n",
      "  return y_pred_mae / naive_mae\n",
      "\n",
      "WARNING - (py.warnings._showwarnmsg) - /Users/polina/fds/neural_prophet/neuralprophet/tools/metrics_libra.py:13: RuntimeWarning: divide by zero encountered in double_scalars\n",
      "  return y_pred_mae / naive_mae\n",
      "\n",
      "WARNING - (py.warnings._showwarnmsg) - /Users/polina/fds/neural_prophet/neuralprophet/tools/metrics_libra.py:13: RuntimeWarning: divide by zero encountered in double_scalars\n",
      "  return y_pred_mae / naive_mae\n",
      "\n",
      "WARNING - (py.warnings._showwarnmsg) - /Users/polina/fds/neural_prophet/neuralprophet/tools/metrics_libra.py:13: RuntimeWarning: divide by zero encountered in double_scalars\n",
      "  return y_pred_mae / naive_mae\n",
      "\n",
      "WARNING - (py.warnings._showwarnmsg) - /Users/polina/fds/neural_prophet/neuralprophet/tools/metrics_libra.py:13: RuntimeWarning: divide by zero encountered in double_scalars\n",
      "  return y_pred_mae / naive_mae\n",
      "\n",
      "WARNING - (py.warnings._showwarnmsg) - /Users/polina/fds/neural_prophet/neuralprophet/tools/metrics_libra.py:13: RuntimeWarning: divide by zero encountered in double_scalars\n",
      "  return y_pred_mae / naive_mae\n",
      "\n",
      "WARNING - (py.warnings._showwarnmsg) - /Users/polina/fds/neural_prophet/neuralprophet/tools/metrics_libra.py:13: RuntimeWarning: divide by zero encountered in double_scalars\n",
      "  return y_pred_mae / naive_mae\n",
      "\n",
      "WARNING - (py.warnings._showwarnmsg) - /Users/polina/fds/neural_prophet/neuralprophet/tools/metrics_libra.py:13: RuntimeWarning: divide by zero encountered in double_scalars\n",
      "  return y_pred_mae / naive_mae\n",
      "\n",
      "WARNING - (py.warnings._showwarnmsg) - /Users/polina/fds/neural_prophet/neuralprophet/tools/metrics_libra.py:13: RuntimeWarning: divide by zero encountered in double_scalars\n",
      "  return y_pred_mae / naive_mae\n",
      "\n",
      "WARNING - (py.warnings._showwarnmsg) - /Users/polina/fds/neural_prophet/neuralprophet/tools/metrics_libra.py:13: RuntimeWarning: divide by zero encountered in double_scalars\n",
      "  return y_pred_mae / naive_mae\n",
      "\n",
      "WARNING - (py.warnings._showwarnmsg) - /Users/polina/fds/neural_prophet/neuralprophet/tools/metrics_libra.py:13: RuntimeWarning: divide by zero encountered in double_scalars\n",
      "  return y_pred_mae / naive_mae\n",
      "\n",
      "WARNING - (py.warnings._showwarnmsg) - /Users/polina/fds/neural_prophet/neuralprophet/tools/metrics_libra.py:13: RuntimeWarning: divide by zero encountered in double_scalars\n",
      "  return y_pred_mae / naive_mae\n",
      "\n",
      "WARNING - (py.warnings._showwarnmsg) - /Users/polina/fds/neural_prophet/neuralprophet/tools/metrics_libra.py:13: RuntimeWarning: divide by zero encountered in double_scalars\n",
      "  return y_pred_mae / naive_mae\n",
      "\n",
      "WARNING - (py.warnings._showwarnmsg) - /Users/polina/fds/neural_prophet/neuralprophet/tools/metrics_libra.py:13: RuntimeWarning: divide by zero encountered in double_scalars\n",
      "  return y_pred_mae / naive_mae\n",
      "\n",
      "WARNING - (py.warnings._showwarnmsg) - /Users/polina/fds/neural_prophet/neuralprophet/tools/metrics_libra.py:13: RuntimeWarning: divide by zero encountered in double_scalars\n",
      "  return y_pred_mae / naive_mae\n",
      "\n",
      "WARNING - (py.warnings._showwarnmsg) - /Users/polina/fds/neural_prophet/neuralprophet/tools/metrics_libra.py:13: RuntimeWarning: divide by zero encountered in double_scalars\n",
      "  return y_pred_mae / naive_mae\n",
      "\n",
      "WARNING - (py.warnings._showwarnmsg) - /Users/polina/fds/neural_prophet/neuralprophet/tools/metrics_libra.py:13: RuntimeWarning: divide by zero encountered in double_scalars\n",
      "  return y_pred_mae / naive_mae\n",
      "\n",
      "WARNING - (py.warnings._showwarnmsg) - /Users/polina/fds/neural_prophet/neuralprophet/tools/metrics_libra.py:13: RuntimeWarning: divide by zero encountered in double_scalars\n",
      "  return y_pred_mae / naive_mae\n",
      "\n",
      "WARNING - (py.warnings._showwarnmsg) - /Users/polina/fds/neural_prophet/neuralprophet/tools/metrics_libra.py:13: RuntimeWarning: divide by zero encountered in double_scalars\n",
      "  return y_pred_mae / naive_mae\n",
      "\n",
      "WARNING - (py.warnings._showwarnmsg) - /Users/polina/fds/neural_prophet/neuralprophet/tools/metrics_libra.py:13: RuntimeWarning: divide by zero encountered in double_scalars\n",
      "  return y_pred_mae / naive_mae\n",
      "\n",
      "WARNING - (py.warnings._showwarnmsg) - /Users/polina/fds/neural_prophet/neuralprophet/tools/metrics_libra.py:13: RuntimeWarning: divide by zero encountered in double_scalars\n",
      "  return y_pred_mae / naive_mae\n",
      "\n",
      "WARNING - (py.warnings._showwarnmsg) - /Users/polina/fds/neural_prophet/neuralprophet/tools/metrics_libra.py:13: RuntimeWarning: divide by zero encountered in double_scalars\n",
      "  return y_pred_mae / naive_mae\n",
      "\n",
      "WARNING - (py.warnings._showwarnmsg) - /Users/polina/fds/neural_prophet/neuralprophet/tools/metrics_libra.py:13: RuntimeWarning: divide by zero encountered in double_scalars\n",
      "  return y_pred_mae / naive_mae\n",
      "\n",
      "WARNING - (py.warnings._showwarnmsg) - /Users/polina/fds/neural_prophet/neuralprophet/tools/metrics_libra.py:13: RuntimeWarning: divide by zero encountered in double_scalars\n",
      "  return y_pred_mae / naive_mae\n",
      "\n",
      "WARNING - (py.warnings._showwarnmsg) - /Users/polina/fds/neural_prophet/neuralprophet/tools/metrics_libra.py:13: RuntimeWarning: divide by zero encountered in double_scalars\n",
      "  return y_pred_mae / naive_mae\n",
      "\n",
      "WARNING - (py.warnings._showwarnmsg) - /Users/polina/fds/neural_prophet/neuralprophet/tools/metrics_libra.py:13: RuntimeWarning: divide by zero encountered in double_scalars\n",
      "  return y_pred_mae / naive_mae\n",
      "\n",
      "WARNING - (py.warnings._showwarnmsg) - /Users/polina/fds/neural_prophet/neuralprophet/tools/metrics_libra.py:13: RuntimeWarning: divide by zero encountered in double_scalars\n",
      "  return y_pred_mae / naive_mae\n",
      "\n",
      "WARNING - (py.warnings._showwarnmsg) - /Users/polina/fds/neural_prophet/neuralprophet/tools/metrics_libra.py:13: RuntimeWarning: divide by zero encountered in double_scalars\n",
      "  return y_pred_mae / naive_mae\n",
      "\n",
      "WARNING - (py.warnings._showwarnmsg) - /Users/polina/fds/neural_prophet/neuralprophet/tools/metrics_libra.py:13: RuntimeWarning: divide by zero encountered in double_scalars\n",
      "  return y_pred_mae / naive_mae\n",
      "\n",
      "WARNING - (py.warnings._showwarnmsg) - /Users/polina/fds/neural_prophet/neuralprophet/tools/metrics_libra.py:13: RuntimeWarning: divide by zero encountered in double_scalars\n",
      "  return y_pred_mae / naive_mae\n",
      "\n",
      "WARNING - (py.warnings._showwarnmsg) - /Users/polina/fds/neural_prophet/neuralprophet/tools/metrics_libra.py:13: RuntimeWarning: divide by zero encountered in double_scalars\n",
      "  return y_pred_mae / naive_mae\n",
      "\n",
      "WARNING - (py.warnings._showwarnmsg) - /Users/polina/fds/neural_prophet/neuralprophet/tools/metrics_libra.py:13: RuntimeWarning: divide by zero encountered in double_scalars\n",
      "  return y_pred_mae / naive_mae\n",
      "\n",
      "WARNING - (py.warnings._showwarnmsg) - /Users/polina/fds/neural_prophet/neuralprophet/tools/metrics_libra.py:13: RuntimeWarning: divide by zero encountered in double_scalars\n",
      "  return y_pred_mae / naive_mae\n",
      "\n",
      "WARNING - (py.warnings._showwarnmsg) - /Users/polina/fds/neural_prophet/neuralprophet/tools/metrics_libra.py:13: RuntimeWarning: divide by zero encountered in double_scalars\n",
      "  return y_pred_mae / naive_mae\n",
      "\n",
      "WARNING - (py.warnings._showwarnmsg) - /Users/polina/fds/neural_prophet/neuralprophet/tools/metrics_libra.py:13: RuntimeWarning: divide by zero encountered in double_scalars\n",
      "  return y_pred_mae / naive_mae\n",
      "\n",
      "WARNING - (py.warnings._showwarnmsg) - /Users/polina/fds/neural_prophet/neuralprophet/tools/metrics_libra.py:13: RuntimeWarning: divide by zero encountered in double_scalars\n",
      "  return y_pred_mae / naive_mae\n",
      "\n",
      "WARNING - (py.warnings._showwarnmsg) - /Users/polina/fds/neural_prophet/neuralprophet/tools/metrics_libra.py:13: RuntimeWarning: divide by zero encountered in double_scalars\n",
      "  return y_pred_mae / naive_mae\n",
      "\n",
      "WARNING - (py.warnings._showwarnmsg) - /Users/polina/fds/neural_prophet/neuralprophet/tools/metrics_libra.py:13: RuntimeWarning: divide by zero encountered in double_scalars\n",
      "  return y_pred_mae / naive_mae\n",
      "\n",
      "WARNING - (py.warnings._showwarnmsg) - /Users/polina/fds/neural_prophet/neuralprophet/tools/metrics_libra.py:13: RuntimeWarning: divide by zero encountered in double_scalars\n",
      "  return y_pred_mae / naive_mae\n",
      "\n"
     ]
    },
    {
     "name": "stderr",
     "output_type": "stream",
     "text": [
      "WARNING - (py.warnings._showwarnmsg) - /Users/polina/fds/neural_prophet/neuralprophet/tools/metrics_libra.py:13: RuntimeWarning: divide by zero encountered in double_scalars\n",
      "  return y_pred_mae / naive_mae\n",
      "\n",
      "WARNING - (py.warnings._showwarnmsg) - /Users/polina/fds/neural_prophet/neuralprophet/tools/metrics_libra.py:13: RuntimeWarning: divide by zero encountered in double_scalars\n",
      "  return y_pred_mae / naive_mae\n",
      "\n",
      "WARNING - (py.warnings._showwarnmsg) - /Users/polina/fds/neural_prophet/neuralprophet/tools/metrics_libra.py:13: RuntimeWarning: divide by zero encountered in double_scalars\n",
      "  return y_pred_mae / naive_mae\n",
      "\n",
      "WARNING - (py.warnings._showwarnmsg) - /Users/polina/fds/neural_prophet/neuralprophet/tools/metrics_libra.py:13: RuntimeWarning: divide by zero encountered in double_scalars\n",
      "  return y_pred_mae / naive_mae\n",
      "\n",
      "WARNING - (py.warnings._showwarnmsg) - /Users/polina/fds/neural_prophet/neuralprophet/tools/metrics_libra.py:13: RuntimeWarning: divide by zero encountered in double_scalars\n",
      "  return y_pred_mae / naive_mae\n",
      "\n",
      "WARNING - (py.warnings._showwarnmsg) - /Users/polina/fds/neural_prophet/neuralprophet/tools/metrics_libra.py:13: RuntimeWarning: divide by zero encountered in double_scalars\n",
      "  return y_pred_mae / naive_mae\n",
      "\n",
      "WARNING - (py.warnings._showwarnmsg) - /Users/polina/fds/neural_prophet/neuralprophet/tools/metrics_libra.py:13: RuntimeWarning: divide by zero encountered in double_scalars\n",
      "  return y_pred_mae / naive_mae\n",
      "\n",
      "WARNING - (py.warnings._showwarnmsg) - /Users/polina/fds/neural_prophet/neuralprophet/tools/metrics_libra.py:13: RuntimeWarning: divide by zero encountered in double_scalars\n",
      "  return y_pred_mae / naive_mae\n",
      "\n",
      "WARNING - (py.warnings._showwarnmsg) - /Users/polina/fds/neural_prophet/neuralprophet/tools/metrics_libra.py:13: RuntimeWarning: divide by zero encountered in double_scalars\n",
      "  return y_pred_mae / naive_mae\n",
      "\n",
      "WARNING - (py.warnings._showwarnmsg) - /Users/polina/fds/neural_prophet/neuralprophet/tools/metrics_libra.py:13: RuntimeWarning: divide by zero encountered in double_scalars\n",
      "  return y_pred_mae / naive_mae\n",
      "\n",
      "WARNING - (py.warnings._showwarnmsg) - /Users/polina/fds/neural_prophet/neuralprophet/tools/metrics_libra.py:13: RuntimeWarning: divide by zero encountered in double_scalars\n",
      "  return y_pred_mae / naive_mae\n",
      "\n",
      "WARNING - (py.warnings._showwarnmsg) - /Users/polina/fds/neural_prophet/neuralprophet/tools/metrics_libra.py:13: RuntimeWarning: divide by zero encountered in double_scalars\n",
      "  return y_pred_mae / naive_mae\n",
      "\n",
      "WARNING - (py.warnings._showwarnmsg) - /Users/polina/fds/neural_prophet/neuralprophet/tools/metrics_libra.py:13: RuntimeWarning: divide by zero encountered in double_scalars\n",
      "  return y_pred_mae / naive_mae\n",
      "\n",
      "WARNING - (py.warnings._showwarnmsg) - /Users/polina/fds/neural_prophet/neuralprophet/tools/metrics_libra.py:13: RuntimeWarning: divide by zero encountered in double_scalars\n",
      "  return y_pred_mae / naive_mae\n",
      "\n",
      "WARNING - (py.warnings._showwarnmsg) - /Users/polina/fds/neural_prophet/neuralprophet/tools/metrics_libra.py:13: RuntimeWarning: divide by zero encountered in double_scalars\n",
      "  return y_pred_mae / naive_mae\n",
      "\n",
      "WARNING - (py.warnings._showwarnmsg) - /Users/polina/fds/neural_prophet/neuralprophet/tools/metrics_libra.py:13: RuntimeWarning: divide by zero encountered in double_scalars\n",
      "  return y_pred_mae / naive_mae\n",
      "\n",
      "WARNING - (py.warnings._showwarnmsg) - /Users/polina/fds/neural_prophet/neuralprophet/tools/metrics_libra.py:13: RuntimeWarning: divide by zero encountered in double_scalars\n",
      "  return y_pred_mae / naive_mae\n",
      "\n",
      "WARNING - (py.warnings._showwarnmsg) - /Users/polina/fds/neural_prophet/neuralprophet/tools/metrics_libra.py:13: RuntimeWarning: divide by zero encountered in double_scalars\n",
      "  return y_pred_mae / naive_mae\n",
      "\n",
      "WARNING - (py.warnings._showwarnmsg) - /Users/polina/fds/neural_prophet/neuralprophet/tools/metrics_libra.py:13: RuntimeWarning: divide by zero encountered in double_scalars\n",
      "  return y_pred_mae / naive_mae\n",
      "\n",
      "WARNING - (py.warnings._showwarnmsg) - /Users/polina/fds/neural_prophet/neuralprophet/tools/metrics_libra.py:13: RuntimeWarning: divide by zero encountered in double_scalars\n",
      "  return y_pred_mae / naive_mae\n",
      "\n",
      "WARNING - (py.warnings._showwarnmsg) - /Users/polina/fds/neural_prophet/neuralprophet/tools/metrics_libra.py:13: RuntimeWarning: divide by zero encountered in double_scalars\n",
      "  return y_pred_mae / naive_mae\n",
      "\n",
      "WARNING - (py.warnings._showwarnmsg) - /Users/polina/fds/neural_prophet/neuralprophet/tools/metrics_libra.py:13: RuntimeWarning: divide by zero encountered in double_scalars\n",
      "  return y_pred_mae / naive_mae\n",
      "\n",
      "INFO - (NP.utils.set_auto_seasonalities) - Disabling daily seasonality. Run NeuralProphet with daily_seasonality=True to override this.\n",
      "INFO - (NP.config.set_auto_batch_epoch) - Auto-set batch_size to 64\n",
      "\n",
      "\n",
      "  0%|          | 0/50 [00:00<?, ?it/s]\u001b[A\u001b[AGPU available: False, used: False\n",
      "TPU available: False, using: 0 TPU cores\n",
      "WARNING - (py.warnings._showwarnmsg) - /Users/polina/.conda/envs/neural_prophet/lib/python3.7/site-packages/pytorch_lightning/utilities/distributed.py:68: UserWarning: you defined a validation_step but have no val_dataloader. Skipping validation loop\n",
      "  warnings.warn(*args, **kwargs)\n",
      "\n",
      "\n",
      "  | Name          | Type          | Params\n",
      "------------------------------------------------\n",
      "0 | season_params | ParameterDict | 18    \n",
      "1 | ar_net        | ModuleList    | 365   \n",
      "2 | loss_func     | SmoothL1Loss  | 0     \n",
      "------------------------------------------------\n",
      "396       Trainable params\n",
      "0         Non-trainable params\n",
      "396       Total params\n",
      "0.002     Total estimated model params size (MB)\n"
     ]
    },
    {
     "data": {
      "application/vnd.jupyter.widget-view+json": {
       "model_id": "",
       "version_major": 2,
       "version_minor": 0
      },
      "text/plain": [
       "Validation sanity check: 0it [00:00, ?it/s]"
      ]
     },
     "metadata": {},
     "output_type": "display_data"
    },
    {
     "name": "stderr",
     "output_type": "stream",
     "text": [
      "WARNING - (py.warnings._showwarnmsg) - /Users/polina/.conda/envs/neural_prophet/lib/python3.7/site-packages/pytorch_lightning/utilities/distributed.py:68: UserWarning: The dataloader, train dataloader, does not have many workers which may be a bottleneck. Consider increasing the value of the `num_workers` argument` (try 8 which is the number of cpus on this machine) in the `DataLoader` init to improve performance.\n",
      "  warnings.warn(*args, **kwargs)\n",
      "\n"
     ]
    },
    {
     "data": {
      "application/vnd.jupyter.widget-view+json": {
       "model_id": "b1cc97aca73d4ba3bce63de98da460bc",
       "version_major": 2,
       "version_minor": 0
      },
      "text/plain": [
       "Training: 0it [00:00, ?it/s]"
      ]
     },
     "metadata": {},
     "output_type": "display_data"
    },
    {
     "name": "stderr",
     "output_type": "stream",
     "text": [
      "\n",
      "\n",
      "\n",
      "                                      \u001b[A\u001b[A\u001b[AWARNING - (py.warnings._showwarnmsg) - /Users/polina/fds/neural_prophet/neuralprophet/tools/metrics_libra.py:13: RuntimeWarning: divide by zero encountered in double_scalars\n",
      "  return y_pred_mae / naive_mae\n",
      "\n",
      "WARNING - (py.warnings._showwarnmsg) - /Users/polina/fds/neural_prophet/neuralprophet/tools/metrics_libra.py:13: RuntimeWarning: divide by zero encountered in double_scalars\n",
      "  return y_pred_mae / naive_mae\n",
      "\n",
      "WARNING - (py.warnings._showwarnmsg) - /Users/polina/fds/neural_prophet/neuralprophet/tools/metrics_libra.py:13: RuntimeWarning: divide by zero encountered in double_scalars\n",
      "  return y_pred_mae / naive_mae\n",
      "\n",
      "WARNING - (py.warnings._showwarnmsg) - /Users/polina/fds/neural_prophet/neuralprophet/tools/metrics_libra.py:13: RuntimeWarning: divide by zero encountered in double_scalars\n",
      "  return y_pred_mae / naive_mae\n",
      "\n",
      "WARNING - (py.warnings._showwarnmsg) - /Users/polina/fds/neural_prophet/neuralprophet/tools/metrics_libra.py:13: RuntimeWarning: divide by zero encountered in double_scalars\n",
      "  return y_pred_mae / naive_mae\n",
      "\n",
      "WARNING - (py.warnings._showwarnmsg) - /Users/polina/fds/neural_prophet/neuralprophet/tools/metrics_libra.py:13: RuntimeWarning: divide by zero encountered in double_scalars\n",
      "  return y_pred_mae / naive_mae\n",
      "\n",
      "WARNING - (py.warnings._showwarnmsg) - /Users/polina/fds/neural_prophet/neuralprophet/tools/metrics_libra.py:13: RuntimeWarning: divide by zero encountered in double_scalars\n",
      "  return y_pred_mae / naive_mae\n",
      "\n",
      "WARNING - (py.warnings._showwarnmsg) - /Users/polina/fds/neural_prophet/neuralprophet/tools/metrics_libra.py:13: RuntimeWarning: divide by zero encountered in double_scalars\n",
      "  return y_pred_mae / naive_mae\n",
      "\n",
      "WARNING - (py.warnings._showwarnmsg) - /Users/polina/fds/neural_prophet/neuralprophet/tools/metrics_libra.py:13: RuntimeWarning: divide by zero encountered in double_scalars\n",
      "  return y_pred_mae / naive_mae\n",
      "\n",
      "WARNING - (py.warnings._showwarnmsg) - /Users/polina/fds/neural_prophet/neuralprophet/tools/metrics_libra.py:13: RuntimeWarning: divide by zero encountered in double_scalars\n",
      "  return y_pred_mae / naive_mae\n",
      "\n",
      "WARNING - (py.warnings._showwarnmsg) - /Users/polina/fds/neural_prophet/neuralprophet/tools/metrics_libra.py:13: RuntimeWarning: divide by zero encountered in double_scalars\n",
      "  return y_pred_mae / naive_mae\n",
      "\n",
      "WARNING - (py.warnings._showwarnmsg) - /Users/polina/fds/neural_prophet/neuralprophet/tools/metrics_libra.py:13: RuntimeWarning: divide by zero encountered in double_scalars\n",
      "  return y_pred_mae / naive_mae\n",
      "\n",
      "WARNING - (py.warnings._showwarnmsg) - /Users/polina/fds/neural_prophet/neuralprophet/tools/metrics_libra.py:13: RuntimeWarning: divide by zero encountered in double_scalars\n",
      "  return y_pred_mae / naive_mae\n",
      "\n",
      "WARNING - (py.warnings._showwarnmsg) - /Users/polina/fds/neural_prophet/neuralprophet/tools/metrics_libra.py:13: RuntimeWarning: divide by zero encountered in double_scalars\n",
      "  return y_pred_mae / naive_mae\n",
      "\n",
      "WARNING - (py.warnings._showwarnmsg) - /Users/polina/fds/neural_prophet/neuralprophet/tools/metrics_libra.py:13: RuntimeWarning: divide by zero encountered in double_scalars\n",
      "  return y_pred_mae / naive_mae\n",
      "\n",
      "WARNING - (py.warnings._showwarnmsg) - /Users/polina/fds/neural_prophet/neuralprophet/tools/metrics_libra.py:13: RuntimeWarning: divide by zero encountered in double_scalars\n",
      "  return y_pred_mae / naive_mae\n",
      "\n",
      "WARNING - (py.warnings._showwarnmsg) - /Users/polina/fds/neural_prophet/neuralprophet/tools/metrics_libra.py:13: RuntimeWarning: divide by zero encountered in double_scalars\n",
      "  return y_pred_mae / naive_mae\n",
      "\n",
      "WARNING - (py.warnings._showwarnmsg) - /Users/polina/fds/neural_prophet/neuralprophet/tools/metrics_libra.py:13: RuntimeWarning: divide by zero encountered in double_scalars\n",
      "  return y_pred_mae / naive_mae\n",
      "\n",
      "WARNING - (py.warnings._showwarnmsg) - /Users/polina/fds/neural_prophet/neuralprophet/tools/metrics_libra.py:13: RuntimeWarning: divide by zero encountered in double_scalars\n",
      "  return y_pred_mae / naive_mae\n",
      "\n",
      "WARNING - (py.warnings._showwarnmsg) - /Users/polina/fds/neural_prophet/neuralprophet/tools/metrics_libra.py:13: RuntimeWarning: divide by zero encountered in double_scalars\n",
      "  return y_pred_mae / naive_mae\n",
      "\n",
      "WARNING - (py.warnings._showwarnmsg) - /Users/polina/fds/neural_prophet/neuralprophet/tools/metrics_libra.py:13: RuntimeWarning: divide by zero encountered in double_scalars\n",
      "  return y_pred_mae / naive_mae\n",
      "\n",
      "WARNING - (py.warnings._showwarnmsg) - /Users/polina/fds/neural_prophet/neuralprophet/tools/metrics_libra.py:13: RuntimeWarning: divide by zero encountered in double_scalars\n",
      "  return y_pred_mae / naive_mae\n",
      "\n",
      "WARNING - (py.warnings._showwarnmsg) - /Users/polina/fds/neural_prophet/neuralprophet/tools/metrics_libra.py:13: RuntimeWarning: divide by zero encountered in double_scalars\n",
      "  return y_pred_mae / naive_mae\n",
      "\n",
      "WARNING - (py.warnings._showwarnmsg) - /Users/polina/fds/neural_prophet/neuralprophet/tools/metrics_libra.py:13: RuntimeWarning: divide by zero encountered in double_scalars\n",
      "  return y_pred_mae / naive_mae\n",
      "\n",
      "WARNING - (py.warnings._showwarnmsg) - /Users/polina/fds/neural_prophet/neuralprophet/tools/metrics_libra.py:13: RuntimeWarning: divide by zero encountered in double_scalars\n",
      "  return y_pred_mae / naive_mae\n",
      "\n",
      "WARNING - (py.warnings._showwarnmsg) - /Users/polina/fds/neural_prophet/neuralprophet/tools/metrics_libra.py:13: RuntimeWarning: divide by zero encountered in double_scalars\n",
      "  return y_pred_mae / naive_mae\n",
      "\n",
      "WARNING - (py.warnings._showwarnmsg) - /Users/polina/fds/neural_prophet/neuralprophet/tools/metrics_libra.py:13: RuntimeWarning: divide by zero encountered in double_scalars\n",
      "  return y_pred_mae / naive_mae\n",
      "\n",
      "WARNING - (py.warnings._showwarnmsg) - /Users/polina/fds/neural_prophet/neuralprophet/tools/metrics_libra.py:13: RuntimeWarning: divide by zero encountered in double_scalars\n",
      "  return y_pred_mae / naive_mae\n",
      "\n",
      "WARNING - (py.warnings._showwarnmsg) - /Users/polina/fds/neural_prophet/neuralprophet/tools/metrics_libra.py:13: RuntimeWarning: divide by zero encountered in double_scalars\n",
      "  return y_pred_mae / naive_mae\n",
      "\n",
      "WARNING - (py.warnings._showwarnmsg) - /Users/polina/fds/neural_prophet/neuralprophet/tools/metrics_libra.py:13: RuntimeWarning: divide by zero encountered in double_scalars\n",
      "  return y_pred_mae / naive_mae\n",
      "\n",
      "WARNING - (py.warnings._showwarnmsg) - /Users/polina/fds/neural_prophet/neuralprophet/tools/metrics_libra.py:13: RuntimeWarning: divide by zero encountered in double_scalars\n",
      "  return y_pred_mae / naive_mae\n",
      "\n",
      "WARNING - (py.warnings._showwarnmsg) - /Users/polina/fds/neural_prophet/neuralprophet/tools/metrics_libra.py:13: RuntimeWarning: divide by zero encountered in double_scalars\n",
      "  return y_pred_mae / naive_mae\n",
      "\n",
      "WARNING - (py.warnings._showwarnmsg) - /Users/polina/fds/neural_prophet/neuralprophet/tools/metrics_libra.py:13: RuntimeWarning: divide by zero encountered in double_scalars\n",
      "  return y_pred_mae / naive_mae\n",
      "\n",
      "WARNING - (py.warnings._showwarnmsg) - /Users/polina/fds/neural_prophet/neuralprophet/tools/metrics_libra.py:13: RuntimeWarning: divide by zero encountered in double_scalars\n",
      "  return y_pred_mae / naive_mae\n",
      "\n",
      "WARNING - (py.warnings._showwarnmsg) - /Users/polina/fds/neural_prophet/neuralprophet/tools/metrics_libra.py:13: RuntimeWarning: divide by zero encountered in double_scalars\n",
      "  return y_pred_mae / naive_mae\n",
      "\n",
      "WARNING - (py.warnings._showwarnmsg) - /Users/polina/fds/neural_prophet/neuralprophet/tools/metrics_libra.py:13: RuntimeWarning: divide by zero encountered in double_scalars\n",
      "  return y_pred_mae / naive_mae\n",
      "\n",
      "WARNING - (py.warnings._showwarnmsg) - /Users/polina/fds/neural_prophet/neuralprophet/tools/metrics_libra.py:13: RuntimeWarning: divide by zero encountered in double_scalars\n",
      "  return y_pred_mae / naive_mae\n",
      "\n",
      "WARNING - (py.warnings._showwarnmsg) - /Users/polina/fds/neural_prophet/neuralprophet/tools/metrics_libra.py:13: RuntimeWarning: divide by zero encountered in double_scalars\n",
      "  return y_pred_mae / naive_mae\n",
      "\n",
      "WARNING - (py.warnings._showwarnmsg) - /Users/polina/fds/neural_prophet/neuralprophet/tools/metrics_libra.py:13: RuntimeWarning: divide by zero encountered in double_scalars\n",
      "  return y_pred_mae / naive_mae\n",
      "\n",
      "WARNING - (py.warnings._showwarnmsg) - /Users/polina/fds/neural_prophet/neuralprophet/tools/metrics_libra.py:13: RuntimeWarning: divide by zero encountered in double_scalars\n",
      "  return y_pred_mae / naive_mae\n",
      "\n"
     ]
    },
    {
     "name": "stderr",
     "output_type": "stream",
     "text": [
      "WARNING - (py.warnings._showwarnmsg) - /Users/polina/fds/neural_prophet/neuralprophet/tools/metrics_libra.py:13: RuntimeWarning: divide by zero encountered in double_scalars\n",
      "  return y_pred_mae / naive_mae\n",
      "\n",
      "WARNING - (py.warnings._showwarnmsg) - /Users/polina/fds/neural_prophet/neuralprophet/tools/metrics_libra.py:13: RuntimeWarning: divide by zero encountered in double_scalars\n",
      "  return y_pred_mae / naive_mae\n",
      "\n",
      "WARNING - (py.warnings._showwarnmsg) - /Users/polina/fds/neural_prophet/neuralprophet/tools/metrics_libra.py:13: RuntimeWarning: divide by zero encountered in double_scalars\n",
      "  return y_pred_mae / naive_mae\n",
      "\n",
      "WARNING - (py.warnings._showwarnmsg) - /Users/polina/fds/neural_prophet/neuralprophet/tools/metrics_libra.py:13: RuntimeWarning: divide by zero encountered in double_scalars\n",
      "  return y_pred_mae / naive_mae\n",
      "\n",
      "WARNING - (py.warnings._showwarnmsg) - /Users/polina/fds/neural_prophet/neuralprophet/tools/metrics_libra.py:13: RuntimeWarning: divide by zero encountered in double_scalars\n",
      "  return y_pred_mae / naive_mae\n",
      "\n",
      "WARNING - (py.warnings._showwarnmsg) - /Users/polina/fds/neural_prophet/neuralprophet/tools/metrics_libra.py:13: RuntimeWarning: divide by zero encountered in double_scalars\n",
      "  return y_pred_mae / naive_mae\n",
      "\n",
      "WARNING - (py.warnings._showwarnmsg) - /Users/polina/fds/neural_prophet/neuralprophet/tools/metrics_libra.py:13: RuntimeWarning: divide by zero encountered in double_scalars\n",
      "  return y_pred_mae / naive_mae\n",
      "\n",
      "WARNING - (py.warnings._showwarnmsg) - /Users/polina/fds/neural_prophet/neuralprophet/tools/metrics_libra.py:13: RuntimeWarning: divide by zero encountered in double_scalars\n",
      "  return y_pred_mae / naive_mae\n",
      "\n",
      "WARNING - (py.warnings._showwarnmsg) - /Users/polina/fds/neural_prophet/neuralprophet/tools/metrics_libra.py:13: RuntimeWarning: divide by zero encountered in double_scalars\n",
      "  return y_pred_mae / naive_mae\n",
      "\n",
      "WARNING - (py.warnings._showwarnmsg) - /Users/polina/fds/neural_prophet/neuralprophet/tools/metrics_libra.py:13: RuntimeWarning: divide by zero encountered in double_scalars\n",
      "  return y_pred_mae / naive_mae\n",
      "\n",
      "WARNING - (py.warnings._showwarnmsg) - /Users/polina/fds/neural_prophet/neuralprophet/tools/metrics_libra.py:13: RuntimeWarning: divide by zero encountered in double_scalars\n",
      "  return y_pred_mae / naive_mae\n",
      "\n",
      "WARNING - (py.warnings._showwarnmsg) - /Users/polina/fds/neural_prophet/neuralprophet/tools/metrics_libra.py:13: RuntimeWarning: divide by zero encountered in double_scalars\n",
      "  return y_pred_mae / naive_mae\n",
      "\n",
      "WARNING - (py.warnings._showwarnmsg) - /Users/polina/fds/neural_prophet/neuralprophet/tools/metrics_libra.py:13: RuntimeWarning: divide by zero encountered in double_scalars\n",
      "  return y_pred_mae / naive_mae\n",
      "\n",
      "WARNING - (py.warnings._showwarnmsg) - /Users/polina/fds/neural_prophet/neuralprophet/tools/metrics_libra.py:13: RuntimeWarning: divide by zero encountered in double_scalars\n",
      "  return y_pred_mae / naive_mae\n",
      "\n",
      "WARNING - (py.warnings._showwarnmsg) - /Users/polina/fds/neural_prophet/neuralprophet/tools/metrics_libra.py:13: RuntimeWarning: divide by zero encountered in double_scalars\n",
      "  return y_pred_mae / naive_mae\n",
      "\n",
      "WARNING - (py.warnings._showwarnmsg) - /Users/polina/fds/neural_prophet/neuralprophet/tools/metrics_libra.py:13: RuntimeWarning: divide by zero encountered in double_scalars\n",
      "  return y_pred_mae / naive_mae\n",
      "\n",
      "WARNING - (py.warnings._showwarnmsg) - /Users/polina/fds/neural_prophet/neuralprophet/tools/metrics_libra.py:13: RuntimeWarning: divide by zero encountered in double_scalars\n",
      "  return y_pred_mae / naive_mae\n",
      "\n",
      "WARNING - (py.warnings._showwarnmsg) - /Users/polina/fds/neural_prophet/neuralprophet/tools/metrics_libra.py:13: RuntimeWarning: divide by zero encountered in double_scalars\n",
      "  return y_pred_mae / naive_mae\n",
      "\n",
      "WARNING - (py.warnings._showwarnmsg) - /Users/polina/fds/neural_prophet/neuralprophet/tools/metrics_libra.py:13: RuntimeWarning: divide by zero encountered in double_scalars\n",
      "  return y_pred_mae / naive_mae\n",
      "\n",
      "WARNING - (py.warnings._showwarnmsg) - /Users/polina/fds/neural_prophet/neuralprophet/tools/metrics_libra.py:13: RuntimeWarning: divide by zero encountered in double_scalars\n",
      "  return y_pred_mae / naive_mae\n",
      "\n",
      "WARNING - (py.warnings._showwarnmsg) - /Users/polina/fds/neural_prophet/neuralprophet/tools/metrics_libra.py:13: RuntimeWarning: divide by zero encountered in double_scalars\n",
      "  return y_pred_mae / naive_mae\n",
      "\n",
      "WARNING - (py.warnings._showwarnmsg) - /Users/polina/fds/neural_prophet/neuralprophet/tools/metrics_libra.py:13: RuntimeWarning: divide by zero encountered in double_scalars\n",
      "  return y_pred_mae / naive_mae\n",
      "\n",
      "WARNING - (py.warnings._showwarnmsg) - /Users/polina/fds/neural_prophet/neuralprophet/tools/metrics_libra.py:13: RuntimeWarning: divide by zero encountered in double_scalars\n",
      "  return y_pred_mae / naive_mae\n",
      "\n",
      "WARNING - (py.warnings._showwarnmsg) - /Users/polina/fds/neural_prophet/neuralprophet/tools/metrics_libra.py:13: RuntimeWarning: divide by zero encountered in double_scalars\n",
      "  return y_pred_mae / naive_mae\n",
      "\n",
      "WARNING - (py.warnings._showwarnmsg) - /Users/polina/fds/neural_prophet/neuralprophet/tools/metrics_libra.py:13: RuntimeWarning: divide by zero encountered in double_scalars\n",
      "  return y_pred_mae / naive_mae\n",
      "\n",
      "WARNING - (py.warnings._showwarnmsg) - /Users/polina/fds/neural_prophet/neuralprophet/tools/metrics_libra.py:13: RuntimeWarning: divide by zero encountered in double_scalars\n",
      "  return y_pred_mae / naive_mae\n",
      "\n",
      "WARNING - (py.warnings._showwarnmsg) - /Users/polina/fds/neural_prophet/neuralprophet/tools/metrics_libra.py:13: RuntimeWarning: divide by zero encountered in double_scalars\n",
      "  return y_pred_mae / naive_mae\n",
      "\n",
      "WARNING - (py.warnings._showwarnmsg) - /Users/polina/fds/neural_prophet/neuralprophet/tools/metrics_libra.py:13: RuntimeWarning: divide by zero encountered in double_scalars\n",
      "  return y_pred_mae / naive_mae\n",
      "\n",
      "WARNING - (py.warnings._showwarnmsg) - /Users/polina/fds/neural_prophet/neuralprophet/tools/metrics_libra.py:13: RuntimeWarning: divide by zero encountered in double_scalars\n",
      "  return y_pred_mae / naive_mae\n",
      "\n",
      "WARNING - (py.warnings._showwarnmsg) - /Users/polina/fds/neural_prophet/neuralprophet/tools/metrics_libra.py:13: RuntimeWarning: divide by zero encountered in double_scalars\n",
      "  return y_pred_mae / naive_mae\n",
      "\n",
      "WARNING - (py.warnings._showwarnmsg) - /Users/polina/fds/neural_prophet/neuralprophet/tools/metrics_libra.py:13: RuntimeWarning: divide by zero encountered in double_scalars\n",
      "  return y_pred_mae / naive_mae\n",
      "\n",
      "WARNING - (py.warnings._showwarnmsg) - /Users/polina/fds/neural_prophet/neuralprophet/tools/metrics_libra.py:13: RuntimeWarning: divide by zero encountered in double_scalars\n",
      "  return y_pred_mae / naive_mae\n",
      "\n",
      "WARNING - (py.warnings._showwarnmsg) - /Users/polina/fds/neural_prophet/neuralprophet/tools/metrics_libra.py:13: RuntimeWarning: divide by zero encountered in double_scalars\n",
      "  return y_pred_mae / naive_mae\n",
      "\n",
      "WARNING - (py.warnings._showwarnmsg) - /Users/polina/fds/neural_prophet/neuralprophet/tools/metrics_libra.py:13: RuntimeWarning: divide by zero encountered in double_scalars\n",
      "  return y_pred_mae / naive_mae\n",
      "\n",
      "WARNING - (py.warnings._showwarnmsg) - /Users/polina/fds/neural_prophet/neuralprophet/tools/metrics_libra.py:13: RuntimeWarning: divide by zero encountered in double_scalars\n",
      "  return y_pred_mae / naive_mae\n",
      "\n",
      "WARNING - (py.warnings._showwarnmsg) - /Users/polina/fds/neural_prophet/neuralprophet/tools/metrics_libra.py:13: RuntimeWarning: divide by zero encountered in double_scalars\n",
      "  return y_pred_mae / naive_mae\n",
      "\n",
      "WARNING - (py.warnings._showwarnmsg) - /Users/polina/fds/neural_prophet/neuralprophet/tools/metrics_libra.py:13: RuntimeWarning: divide by zero encountered in double_scalars\n",
      "  return y_pred_mae / naive_mae\n",
      "\n",
      "WARNING - (py.warnings._showwarnmsg) - /Users/polina/fds/neural_prophet/neuralprophet/tools/metrics_libra.py:13: RuntimeWarning: divide by zero encountered in double_scalars\n",
      "  return y_pred_mae / naive_mae\n",
      "\n",
      "WARNING - (py.warnings._showwarnmsg) - /Users/polina/fds/neural_prophet/neuralprophet/tools/metrics_libra.py:13: RuntimeWarning: divide by zero encountered in double_scalars\n",
      "  return y_pred_mae / naive_mae\n",
      "\n",
      "WARNING - (py.warnings._showwarnmsg) - /Users/polina/fds/neural_prophet/neuralprophet/tools/metrics_libra.py:13: RuntimeWarning: divide by zero encountered in double_scalars\n",
      "  return y_pred_mae / naive_mae\n",
      "\n"
     ]
    },
    {
     "name": "stderr",
     "output_type": "stream",
     "text": [
      "WARNING - (py.warnings._showwarnmsg) - /Users/polina/fds/neural_prophet/neuralprophet/tools/metrics_libra.py:13: RuntimeWarning: divide by zero encountered in double_scalars\n",
      "  return y_pred_mae / naive_mae\n",
      "\n",
      "WARNING - (py.warnings._showwarnmsg) - /Users/polina/fds/neural_prophet/neuralprophet/tools/metrics_libra.py:13: RuntimeWarning: divide by zero encountered in double_scalars\n",
      "  return y_pred_mae / naive_mae\n",
      "\n",
      "WARNING - (py.warnings._showwarnmsg) - /Users/polina/fds/neural_prophet/neuralprophet/tools/metrics_libra.py:13: RuntimeWarning: divide by zero encountered in double_scalars\n",
      "  return y_pred_mae / naive_mae\n",
      "\n",
      "WARNING - (py.warnings._showwarnmsg) - /Users/polina/fds/neural_prophet/neuralprophet/tools/metrics_libra.py:13: RuntimeWarning: divide by zero encountered in double_scalars\n",
      "  return y_pred_mae / naive_mae\n",
      "\n",
      "WARNING - (py.warnings._showwarnmsg) - /Users/polina/fds/neural_prophet/neuralprophet/tools/metrics_libra.py:13: RuntimeWarning: divide by zero encountered in double_scalars\n",
      "  return y_pred_mae / naive_mae\n",
      "\n",
      "WARNING - (py.warnings._showwarnmsg) - /Users/polina/fds/neural_prophet/neuralprophet/tools/metrics_libra.py:13: RuntimeWarning: divide by zero encountered in double_scalars\n",
      "  return y_pred_mae / naive_mae\n",
      "\n",
      "WARNING - (py.warnings._showwarnmsg) - /Users/polina/fds/neural_prophet/neuralprophet/tools/metrics_libra.py:13: RuntimeWarning: divide by zero encountered in double_scalars\n",
      "  return y_pred_mae / naive_mae\n",
      "\n",
      "WARNING - (py.warnings._showwarnmsg) - /Users/polina/fds/neural_prophet/neuralprophet/tools/metrics_libra.py:13: RuntimeWarning: divide by zero encountered in double_scalars\n",
      "  return y_pred_mae / naive_mae\n",
      "\n",
      "WARNING - (py.warnings._showwarnmsg) - /Users/polina/fds/neural_prophet/neuralprophet/tools/metrics_libra.py:13: RuntimeWarning: divide by zero encountered in double_scalars\n",
      "  return y_pred_mae / naive_mae\n",
      "\n",
      "WARNING - (py.warnings._showwarnmsg) - /Users/polina/fds/neural_prophet/neuralprophet/tools/metrics_libra.py:13: RuntimeWarning: divide by zero encountered in double_scalars\n",
      "  return y_pred_mae / naive_mae\n",
      "\n",
      "WARNING - (py.warnings._showwarnmsg) - /Users/polina/fds/neural_prophet/neuralprophet/tools/metrics_libra.py:13: RuntimeWarning: divide by zero encountered in double_scalars\n",
      "  return y_pred_mae / naive_mae\n",
      "\n",
      "WARNING - (py.warnings._showwarnmsg) - /Users/polina/fds/neural_prophet/neuralprophet/tools/metrics_libra.py:13: RuntimeWarning: divide by zero encountered in double_scalars\n",
      "  return y_pred_mae / naive_mae\n",
      "\n",
      "WARNING - (py.warnings._showwarnmsg) - /Users/polina/fds/neural_prophet/neuralprophet/tools/metrics_libra.py:13: RuntimeWarning: divide by zero encountered in double_scalars\n",
      "  return y_pred_mae / naive_mae\n",
      "\n",
      "WARNING - (py.warnings._showwarnmsg) - /Users/polina/fds/neural_prophet/neuralprophet/tools/metrics_libra.py:13: RuntimeWarning: divide by zero encountered in double_scalars\n",
      "  return y_pred_mae / naive_mae\n",
      "\n",
      "WARNING - (py.warnings._showwarnmsg) - /Users/polina/fds/neural_prophet/neuralprophet/tools/metrics_libra.py:13: RuntimeWarning: divide by zero encountered in double_scalars\n",
      "  return y_pred_mae / naive_mae\n",
      "\n",
      "WARNING - (py.warnings._showwarnmsg) - /Users/polina/fds/neural_prophet/neuralprophet/tools/metrics_libra.py:13: RuntimeWarning: divide by zero encountered in double_scalars\n",
      "  return y_pred_mae / naive_mae\n",
      "\n",
      "WARNING - (py.warnings._showwarnmsg) - /Users/polina/fds/neural_prophet/neuralprophet/tools/metrics_libra.py:13: RuntimeWarning: divide by zero encountered in double_scalars\n",
      "  return y_pred_mae / naive_mae\n",
      "\n",
      "WARNING - (py.warnings._showwarnmsg) - /Users/polina/fds/neural_prophet/neuralprophet/tools/metrics_libra.py:13: RuntimeWarning: divide by zero encountered in double_scalars\n",
      "  return y_pred_mae / naive_mae\n",
      "\n",
      "WARNING - (py.warnings._showwarnmsg) - /Users/polina/fds/neural_prophet/neuralprophet/tools/metrics_libra.py:13: RuntimeWarning: divide by zero encountered in double_scalars\n",
      "  return y_pred_mae / naive_mae\n",
      "\n",
      "WARNING - (py.warnings._showwarnmsg) - /Users/polina/fds/neural_prophet/neuralprophet/tools/metrics_libra.py:13: RuntimeWarning: divide by zero encountered in double_scalars\n",
      "  return y_pred_mae / naive_mae\n",
      "\n",
      "WARNING - (py.warnings._showwarnmsg) - /Users/polina/fds/neural_prophet/neuralprophet/tools/metrics_libra.py:13: RuntimeWarning: divide by zero encountered in double_scalars\n",
      "  return y_pred_mae / naive_mae\n",
      "\n",
      "WARNING - (py.warnings._showwarnmsg) - /Users/polina/fds/neural_prophet/neuralprophet/tools/metrics_libra.py:13: RuntimeWarning: divide by zero encountered in double_scalars\n",
      "  return y_pred_mae / naive_mae\n",
      "\n",
      "WARNING - (py.warnings._showwarnmsg) - /Users/polina/fds/neural_prophet/neuralprophet/tools/metrics_libra.py:13: RuntimeWarning: divide by zero encountered in double_scalars\n",
      "  return y_pred_mae / naive_mae\n",
      "\n",
      "WARNING - (py.warnings._showwarnmsg) - /Users/polina/fds/neural_prophet/neuralprophet/tools/metrics_libra.py:13: RuntimeWarning: divide by zero encountered in double_scalars\n",
      "  return y_pred_mae / naive_mae\n",
      "\n",
      "WARNING - (py.warnings._showwarnmsg) - /Users/polina/fds/neural_prophet/neuralprophet/tools/metrics_libra.py:13: RuntimeWarning: divide by zero encountered in double_scalars\n",
      "  return y_pred_mae / naive_mae\n",
      "\n",
      "WARNING - (py.warnings._showwarnmsg) - /Users/polina/fds/neural_prophet/neuralprophet/tools/metrics_libra.py:13: RuntimeWarning: divide by zero encountered in double_scalars\n",
      "  return y_pred_mae / naive_mae\n",
      "\n",
      "WARNING - (py.warnings._showwarnmsg) - /Users/polina/fds/neural_prophet/neuralprophet/tools/metrics_libra.py:13: RuntimeWarning: divide by zero encountered in double_scalars\n",
      "  return y_pred_mae / naive_mae\n",
      "\n",
      "WARNING - (py.warnings._showwarnmsg) - /Users/polina/fds/neural_prophet/neuralprophet/tools/metrics_libra.py:13: RuntimeWarning: divide by zero encountered in double_scalars\n",
      "  return y_pred_mae / naive_mae\n",
      "\n",
      "WARNING - (py.warnings._showwarnmsg) - /Users/polina/fds/neural_prophet/neuralprophet/tools/metrics_libra.py:13: RuntimeWarning: divide by zero encountered in double_scalars\n",
      "  return y_pred_mae / naive_mae\n",
      "\n",
      "WARNING - (py.warnings._showwarnmsg) - /Users/polina/fds/neural_prophet/neuralprophet/tools/metrics_libra.py:13: RuntimeWarning: divide by zero encountered in double_scalars\n",
      "  return y_pred_mae / naive_mae\n",
      "\n",
      "WARNING - (py.warnings._showwarnmsg) - /Users/polina/fds/neural_prophet/neuralprophet/tools/metrics_libra.py:13: RuntimeWarning: divide by zero encountered in double_scalars\n",
      "  return y_pred_mae / naive_mae\n",
      "\n",
      "WARNING - (py.warnings._showwarnmsg) - /Users/polina/fds/neural_prophet/neuralprophet/tools/metrics_libra.py:13: RuntimeWarning: divide by zero encountered in double_scalars\n",
      "  return y_pred_mae / naive_mae\n",
      "\n",
      "WARNING - (py.warnings._showwarnmsg) - /Users/polina/fds/neural_prophet/neuralprophet/tools/metrics_libra.py:13: RuntimeWarning: divide by zero encountered in double_scalars\n",
      "  return y_pred_mae / naive_mae\n",
      "\n",
      "WARNING - (py.warnings._showwarnmsg) - /Users/polina/fds/neural_prophet/neuralprophet/tools/metrics_libra.py:13: RuntimeWarning: divide by zero encountered in double_scalars\n",
      "  return y_pred_mae / naive_mae\n",
      "\n",
      "WARNING - (py.warnings._showwarnmsg) - /Users/polina/fds/neural_prophet/neuralprophet/tools/metrics_libra.py:13: RuntimeWarning: divide by zero encountered in double_scalars\n",
      "  return y_pred_mae / naive_mae\n",
      "\n",
      "WARNING - (py.warnings._showwarnmsg) - /Users/polina/fds/neural_prophet/neuralprophet/tools/metrics_libra.py:13: RuntimeWarning: divide by zero encountered in double_scalars\n",
      "  return y_pred_mae / naive_mae\n",
      "\n",
      "WARNING - (py.warnings._showwarnmsg) - /Users/polina/fds/neural_prophet/neuralprophet/tools/metrics_libra.py:13: RuntimeWarning: divide by zero encountered in double_scalars\n",
      "  return y_pred_mae / naive_mae\n",
      "\n",
      "WARNING - (py.warnings._showwarnmsg) - /Users/polina/fds/neural_prophet/neuralprophet/tools/metrics_libra.py:13: RuntimeWarning: divide by zero encountered in double_scalars\n",
      "  return y_pred_mae / naive_mae\n",
      "\n",
      "WARNING - (py.warnings._showwarnmsg) - /Users/polina/fds/neural_prophet/neuralprophet/tools/metrics_libra.py:13: RuntimeWarning: divide by zero encountered in double_scalars\n",
      "  return y_pred_mae / naive_mae\n",
      "\n",
      "WARNING - (py.warnings._showwarnmsg) - /Users/polina/fds/neural_prophet/neuralprophet/tools/metrics_libra.py:13: RuntimeWarning: divide by zero encountered in double_scalars\n",
      "  return y_pred_mae / naive_mae\n",
      "\n"
     ]
    },
    {
     "name": "stderr",
     "output_type": "stream",
     "text": [
      "WARNING - (py.warnings._showwarnmsg) - /Users/polina/fds/neural_prophet/neuralprophet/tools/metrics_libra.py:13: RuntimeWarning: divide by zero encountered in double_scalars\n",
      "  return y_pred_mae / naive_mae\n",
      "\n",
      "WARNING - (py.warnings._showwarnmsg) - /Users/polina/fds/neural_prophet/neuralprophet/tools/metrics_libra.py:13: RuntimeWarning: divide by zero encountered in double_scalars\n",
      "  return y_pred_mae / naive_mae\n",
      "\n",
      "WARNING - (py.warnings._showwarnmsg) - /Users/polina/fds/neural_prophet/neuralprophet/tools/metrics_libra.py:13: RuntimeWarning: divide by zero encountered in double_scalars\n",
      "  return y_pred_mae / naive_mae\n",
      "\n",
      "WARNING - (py.warnings._showwarnmsg) - /Users/polina/fds/neural_prophet/neuralprophet/tools/metrics_libra.py:13: RuntimeWarning: divide by zero encountered in double_scalars\n",
      "  return y_pred_mae / naive_mae\n",
      "\n",
      "WARNING - (py.warnings._showwarnmsg) - /Users/polina/fds/neural_prophet/neuralprophet/tools/metrics_libra.py:13: RuntimeWarning: divide by zero encountered in double_scalars\n",
      "  return y_pred_mae / naive_mae\n",
      "\n",
      "WARNING - (py.warnings._showwarnmsg) - /Users/polina/fds/neural_prophet/neuralprophet/tools/metrics_libra.py:13: RuntimeWarning: divide by zero encountered in double_scalars\n",
      "  return y_pred_mae / naive_mae\n",
      "\n",
      "WARNING - (py.warnings._showwarnmsg) - /Users/polina/fds/neural_prophet/neuralprophet/tools/metrics_libra.py:13: RuntimeWarning: divide by zero encountered in double_scalars\n",
      "  return y_pred_mae / naive_mae\n",
      "\n",
      "WARNING - (py.warnings._showwarnmsg) - /Users/polina/fds/neural_prophet/neuralprophet/tools/metrics_libra.py:13: RuntimeWarning: divide by zero encountered in double_scalars\n",
      "  return y_pred_mae / naive_mae\n",
      "\n",
      "WARNING - (py.warnings._showwarnmsg) - /Users/polina/fds/neural_prophet/neuralprophet/tools/metrics_libra.py:13: RuntimeWarning: divide by zero encountered in double_scalars\n",
      "  return y_pred_mae / naive_mae\n",
      "\n",
      "WARNING - (py.warnings._showwarnmsg) - /Users/polina/fds/neural_prophet/neuralprophet/tools/metrics_libra.py:13: RuntimeWarning: divide by zero encountered in double_scalars\n",
      "  return y_pred_mae / naive_mae\n",
      "\n",
      "WARNING - (py.warnings._showwarnmsg) - /Users/polina/fds/neural_prophet/neuralprophet/tools/metrics_libra.py:13: RuntimeWarning: divide by zero encountered in double_scalars\n",
      "  return y_pred_mae / naive_mae\n",
      "\n",
      "WARNING - (py.warnings._showwarnmsg) - /Users/polina/fds/neural_prophet/neuralprophet/tools/metrics_libra.py:13: RuntimeWarning: divide by zero encountered in double_scalars\n",
      "  return y_pred_mae / naive_mae\n",
      "\n",
      "WARNING - (py.warnings._showwarnmsg) - /Users/polina/fds/neural_prophet/neuralprophet/tools/metrics_libra.py:13: RuntimeWarning: divide by zero encountered in double_scalars\n",
      "  return y_pred_mae / naive_mae\n",
      "\n",
      "WARNING - (py.warnings._showwarnmsg) - /Users/polina/fds/neural_prophet/neuralprophet/tools/metrics_libra.py:13: RuntimeWarning: divide by zero encountered in double_scalars\n",
      "  return y_pred_mae / naive_mae\n",
      "\n",
      "WARNING - (py.warnings._showwarnmsg) - /Users/polina/fds/neural_prophet/neuralprophet/tools/metrics_libra.py:13: RuntimeWarning: divide by zero encountered in double_scalars\n",
      "  return y_pred_mae / naive_mae\n",
      "\n",
      "WARNING - (py.warnings._showwarnmsg) - /Users/polina/fds/neural_prophet/neuralprophet/tools/metrics_libra.py:13: RuntimeWarning: divide by zero encountered in double_scalars\n",
      "  return y_pred_mae / naive_mae\n",
      "\n",
      "WARNING - (py.warnings._showwarnmsg) - /Users/polina/fds/neural_prophet/neuralprophet/tools/metrics_libra.py:13: RuntimeWarning: divide by zero encountered in double_scalars\n",
      "  return y_pred_mae / naive_mae\n",
      "\n",
      "WARNING - (py.warnings._showwarnmsg) - /Users/polina/fds/neural_prophet/neuralprophet/tools/metrics_libra.py:13: RuntimeWarning: divide by zero encountered in double_scalars\n",
      "  return y_pred_mae / naive_mae\n",
      "\n",
      "WARNING - (py.warnings._showwarnmsg) - /Users/polina/fds/neural_prophet/neuralprophet/tools/metrics_libra.py:13: RuntimeWarning: divide by zero encountered in double_scalars\n",
      "  return y_pred_mae / naive_mae\n",
      "\n",
      "WARNING - (py.warnings._showwarnmsg) - /Users/polina/fds/neural_prophet/neuralprophet/tools/metrics_libra.py:13: RuntimeWarning: divide by zero encountered in double_scalars\n",
      "  return y_pred_mae / naive_mae\n",
      "\n",
      "WARNING - (py.warnings._showwarnmsg) - /Users/polina/fds/neural_prophet/neuralprophet/tools/metrics_libra.py:13: RuntimeWarning: divide by zero encountered in double_scalars\n",
      "  return y_pred_mae / naive_mae\n",
      "\n",
      "WARNING - (py.warnings._showwarnmsg) - /Users/polina/fds/neural_prophet/neuralprophet/tools/metrics_libra.py:13: RuntimeWarning: divide by zero encountered in double_scalars\n",
      "  return y_pred_mae / naive_mae\n",
      "\n",
      "WARNING - (py.warnings._showwarnmsg) - /Users/polina/fds/neural_prophet/neuralprophet/tools/metrics_libra.py:13: RuntimeWarning: divide by zero encountered in double_scalars\n",
      "  return y_pred_mae / naive_mae\n",
      "\n",
      "WARNING - (py.warnings._showwarnmsg) - /Users/polina/fds/neural_prophet/neuralprophet/tools/metrics_libra.py:13: RuntimeWarning: divide by zero encountered in double_scalars\n",
      "  return y_pred_mae / naive_mae\n",
      "\n",
      "WARNING - (py.warnings._showwarnmsg) - /Users/polina/fds/neural_prophet/neuralprophet/tools/metrics_libra.py:13: RuntimeWarning: divide by zero encountered in double_scalars\n",
      "  return y_pred_mae / naive_mae\n",
      "\n",
      "WARNING - (py.warnings._showwarnmsg) - /Users/polina/fds/neural_prophet/neuralprophet/tools/metrics_libra.py:13: RuntimeWarning: divide by zero encountered in double_scalars\n",
      "  return y_pred_mae / naive_mae\n",
      "\n",
      "WARNING - (py.warnings._showwarnmsg) - /Users/polina/fds/neural_prophet/neuralprophet/tools/metrics_libra.py:13: RuntimeWarning: divide by zero encountered in double_scalars\n",
      "  return y_pred_mae / naive_mae\n",
      "\n",
      "WARNING - (py.warnings._showwarnmsg) - /Users/polina/fds/neural_prophet/neuralprophet/tools/metrics_libra.py:13: RuntimeWarning: divide by zero encountered in double_scalars\n",
      "  return y_pred_mae / naive_mae\n",
      "\n",
      "WARNING - (py.warnings._showwarnmsg) - /Users/polina/fds/neural_prophet/neuralprophet/tools/metrics_libra.py:13: RuntimeWarning: divide by zero encountered in double_scalars\n",
      "  return y_pred_mae / naive_mae\n",
      "\n",
      "WARNING - (py.warnings._showwarnmsg) - /Users/polina/fds/neural_prophet/neuralprophet/tools/metrics_libra.py:13: RuntimeWarning: divide by zero encountered in double_scalars\n",
      "  return y_pred_mae / naive_mae\n",
      "\n",
      "WARNING - (py.warnings._showwarnmsg) - /Users/polina/fds/neural_prophet/neuralprophet/tools/metrics_libra.py:13: RuntimeWarning: divide by zero encountered in double_scalars\n",
      "  return y_pred_mae / naive_mae\n",
      "\n",
      "WARNING - (py.warnings._showwarnmsg) - /Users/polina/fds/neural_prophet/neuralprophet/tools/metrics_libra.py:13: RuntimeWarning: divide by zero encountered in double_scalars\n",
      "  return y_pred_mae / naive_mae\n",
      "\n",
      "WARNING - (py.warnings._showwarnmsg) - /Users/polina/fds/neural_prophet/neuralprophet/tools/metrics_libra.py:13: RuntimeWarning: divide by zero encountered in double_scalars\n",
      "  return y_pred_mae / naive_mae\n",
      "\n",
      "WARNING - (py.warnings._showwarnmsg) - /Users/polina/fds/neural_prophet/neuralprophet/tools/metrics_libra.py:13: RuntimeWarning: divide by zero encountered in double_scalars\n",
      "  return y_pred_mae / naive_mae\n",
      "\n",
      "WARNING - (py.warnings._showwarnmsg) - /Users/polina/fds/neural_prophet/neuralprophet/tools/metrics_libra.py:13: RuntimeWarning: divide by zero encountered in double_scalars\n",
      "  return y_pred_mae / naive_mae\n",
      "\n",
      "WARNING - (py.warnings._showwarnmsg) - /Users/polina/fds/neural_prophet/neuralprophet/tools/metrics_libra.py:13: RuntimeWarning: divide by zero encountered in double_scalars\n",
      "  return y_pred_mae / naive_mae\n",
      "\n",
      "WARNING - (py.warnings._showwarnmsg) - /Users/polina/fds/neural_prophet/neuralprophet/tools/metrics_libra.py:13: RuntimeWarning: divide by zero encountered in double_scalars\n",
      "  return y_pred_mae / naive_mae\n",
      "\n",
      "WARNING - (py.warnings._showwarnmsg) - /Users/polina/fds/neural_prophet/neuralprophet/tools/metrics_libra.py:13: RuntimeWarning: divide by zero encountered in double_scalars\n",
      "  return y_pred_mae / naive_mae\n",
      "\n",
      "WARNING - (py.warnings._showwarnmsg) - /Users/polina/fds/neural_prophet/neuralprophet/tools/metrics_libra.py:13: RuntimeWarning: divide by zero encountered in double_scalars\n",
      "  return y_pred_mae / naive_mae\n",
      "\n",
      "WARNING - (py.warnings._showwarnmsg) - /Users/polina/fds/neural_prophet/neuralprophet/tools/metrics_libra.py:13: RuntimeWarning: divide by zero encountered in double_scalars\n",
      "  return y_pred_mae / naive_mae\n",
      "\n"
     ]
    },
    {
     "name": "stderr",
     "output_type": "stream",
     "text": [
      "WARNING - (py.warnings._showwarnmsg) - /Users/polina/fds/neural_prophet/neuralprophet/tools/metrics_libra.py:13: RuntimeWarning: divide by zero encountered in double_scalars\n",
      "  return y_pred_mae / naive_mae\n",
      "\n",
      "WARNING - (py.warnings._showwarnmsg) - /Users/polina/fds/neural_prophet/neuralprophet/tools/metrics_libra.py:13: RuntimeWarning: divide by zero encountered in double_scalars\n",
      "  return y_pred_mae / naive_mae\n",
      "\n",
      "WARNING - (py.warnings._showwarnmsg) - /Users/polina/fds/neural_prophet/neuralprophet/tools/metrics_libra.py:13: RuntimeWarning: divide by zero encountered in double_scalars\n",
      "  return y_pred_mae / naive_mae\n",
      "\n",
      "WARNING - (py.warnings._showwarnmsg) - /Users/polina/fds/neural_prophet/neuralprophet/tools/metrics_libra.py:13: RuntimeWarning: divide by zero encountered in double_scalars\n",
      "  return y_pred_mae / naive_mae\n",
      "\n",
      "WARNING - (py.warnings._showwarnmsg) - /Users/polina/fds/neural_prophet/neuralprophet/tools/metrics_libra.py:13: RuntimeWarning: divide by zero encountered in double_scalars\n",
      "  return y_pred_mae / naive_mae\n",
      "\n",
      "WARNING - (py.warnings._showwarnmsg) - /Users/polina/fds/neural_prophet/neuralprophet/tools/metrics_libra.py:13: RuntimeWarning: divide by zero encountered in double_scalars\n",
      "  return y_pred_mae / naive_mae\n",
      "\n",
      "WARNING - (py.warnings._showwarnmsg) - /Users/polina/fds/neural_prophet/neuralprophet/tools/metrics_libra.py:13: RuntimeWarning: divide by zero encountered in double_scalars\n",
      "  return y_pred_mae / naive_mae\n",
      "\n",
      "WARNING - (py.warnings._showwarnmsg) - /Users/polina/fds/neural_prophet/neuralprophet/tools/metrics_libra.py:13: RuntimeWarning: divide by zero encountered in double_scalars\n",
      "  return y_pred_mae / naive_mae\n",
      "\n",
      "WARNING - (py.warnings._showwarnmsg) - /Users/polina/fds/neural_prophet/neuralprophet/tools/metrics_libra.py:13: RuntimeWarning: divide by zero encountered in double_scalars\n",
      "  return y_pred_mae / naive_mae\n",
      "\n",
      "WARNING - (py.warnings._showwarnmsg) - /Users/polina/fds/neural_prophet/neuralprophet/tools/metrics_libra.py:13: RuntimeWarning: divide by zero encountered in double_scalars\n",
      "  return y_pred_mae / naive_mae\n",
      "\n",
      "WARNING - (py.warnings._showwarnmsg) - /Users/polina/fds/neural_prophet/neuralprophet/tools/metrics_libra.py:13: RuntimeWarning: divide by zero encountered in double_scalars\n",
      "  return y_pred_mae / naive_mae\n",
      "\n",
      "WARNING - (py.warnings._showwarnmsg) - /Users/polina/fds/neural_prophet/neuralprophet/tools/metrics_libra.py:13: RuntimeWarning: divide by zero encountered in double_scalars\n",
      "  return y_pred_mae / naive_mae\n",
      "\n",
      "WARNING - (py.warnings._showwarnmsg) - /Users/polina/fds/neural_prophet/neuralprophet/tools/metrics_libra.py:13: RuntimeWarning: divide by zero encountered in double_scalars\n",
      "  return y_pred_mae / naive_mae\n",
      "\n",
      "WARNING - (py.warnings._showwarnmsg) - /Users/polina/fds/neural_prophet/neuralprophet/tools/metrics_libra.py:13: RuntimeWarning: divide by zero encountered in double_scalars\n",
      "  return y_pred_mae / naive_mae\n",
      "\n",
      "WARNING - (py.warnings._showwarnmsg) - /Users/polina/fds/neural_prophet/neuralprophet/tools/metrics_libra.py:13: RuntimeWarning: divide by zero encountered in double_scalars\n",
      "  return y_pred_mae / naive_mae\n",
      "\n",
      "WARNING - (py.warnings._showwarnmsg) - /Users/polina/fds/neural_prophet/neuralprophet/tools/metrics_libra.py:13: RuntimeWarning: divide by zero encountered in double_scalars\n",
      "  return y_pred_mae / naive_mae\n",
      "\n",
      "WARNING - (py.warnings._showwarnmsg) - /Users/polina/fds/neural_prophet/neuralprophet/tools/metrics_libra.py:13: RuntimeWarning: divide by zero encountered in double_scalars\n",
      "  return y_pred_mae / naive_mae\n",
      "\n",
      "WARNING - (py.warnings._showwarnmsg) - /Users/polina/fds/neural_prophet/neuralprophet/tools/metrics_libra.py:13: RuntimeWarning: divide by zero encountered in double_scalars\n",
      "  return y_pred_mae / naive_mae\n",
      "\n",
      "WARNING - (py.warnings._showwarnmsg) - /Users/polina/fds/neural_prophet/neuralprophet/tools/metrics_libra.py:13: RuntimeWarning: divide by zero encountered in double_scalars\n",
      "  return y_pred_mae / naive_mae\n",
      "\n",
      "WARNING - (py.warnings._showwarnmsg) - /Users/polina/fds/neural_prophet/neuralprophet/tools/metrics_libra.py:13: RuntimeWarning: divide by zero encountered in double_scalars\n",
      "  return y_pred_mae / naive_mae\n",
      "\n",
      "WARNING - (py.warnings._showwarnmsg) - /Users/polina/fds/neural_prophet/neuralprophet/tools/metrics_libra.py:13: RuntimeWarning: divide by zero encountered in double_scalars\n",
      "  return y_pred_mae / naive_mae\n",
      "\n",
      "WARNING - (py.warnings._showwarnmsg) - /Users/polina/fds/neural_prophet/neuralprophet/tools/metrics_libra.py:13: RuntimeWarning: divide by zero encountered in double_scalars\n",
      "  return y_pred_mae / naive_mae\n",
      "\n",
      "WARNING - (py.warnings._showwarnmsg) - /Users/polina/fds/neural_prophet/neuralprophet/tools/metrics_libra.py:13: RuntimeWarning: divide by zero encountered in double_scalars\n",
      "  return y_pred_mae / naive_mae\n",
      "\n",
      "WARNING - (py.warnings._showwarnmsg) - /Users/polina/fds/neural_prophet/neuralprophet/tools/metrics_libra.py:13: RuntimeWarning: divide by zero encountered in double_scalars\n",
      "  return y_pred_mae / naive_mae\n",
      "\n",
      "WARNING - (py.warnings._showwarnmsg) - /Users/polina/fds/neural_prophet/neuralprophet/tools/metrics_libra.py:13: RuntimeWarning: divide by zero encountered in double_scalars\n",
      "  return y_pred_mae / naive_mae\n",
      "\n",
      "WARNING - (py.warnings._showwarnmsg) - /Users/polina/fds/neural_prophet/neuralprophet/tools/metrics_libra.py:13: RuntimeWarning: divide by zero encountered in double_scalars\n",
      "  return y_pred_mae / naive_mae\n",
      "\n",
      "WARNING - (py.warnings._showwarnmsg) - /Users/polina/fds/neural_prophet/neuralprophet/tools/metrics_libra.py:13: RuntimeWarning: divide by zero encountered in double_scalars\n",
      "  return y_pred_mae / naive_mae\n",
      "\n",
      "WARNING - (py.warnings._showwarnmsg) - /Users/polina/fds/neural_prophet/neuralprophet/tools/metrics_libra.py:13: RuntimeWarning: divide by zero encountered in double_scalars\n",
      "  return y_pred_mae / naive_mae\n",
      "\n",
      "WARNING - (py.warnings._showwarnmsg) - /Users/polina/fds/neural_prophet/neuralprophet/tools/metrics_libra.py:13: RuntimeWarning: divide by zero encountered in double_scalars\n",
      "  return y_pred_mae / naive_mae\n",
      "\n",
      "WARNING - (py.warnings._showwarnmsg) - /Users/polina/fds/neural_prophet/neuralprophet/tools/metrics_libra.py:13: RuntimeWarning: divide by zero encountered in double_scalars\n",
      "  return y_pred_mae / naive_mae\n",
      "\n",
      "WARNING - (py.warnings._showwarnmsg) - /Users/polina/fds/neural_prophet/neuralprophet/tools/metrics_libra.py:13: RuntimeWarning: divide by zero encountered in double_scalars\n",
      "  return y_pred_mae / naive_mae\n",
      "\n",
      "WARNING - (py.warnings._showwarnmsg) - /Users/polina/fds/neural_prophet/neuralprophet/tools/metrics_libra.py:13: RuntimeWarning: divide by zero encountered in double_scalars\n",
      "  return y_pred_mae / naive_mae\n",
      "\n",
      "WARNING - (py.warnings._showwarnmsg) - /Users/polina/fds/neural_prophet/neuralprophet/tools/metrics_libra.py:13: RuntimeWarning: divide by zero encountered in double_scalars\n",
      "  return y_pred_mae / naive_mae\n",
      "\n",
      "WARNING - (py.warnings._showwarnmsg) - /Users/polina/fds/neural_prophet/neuralprophet/tools/metrics_libra.py:13: RuntimeWarning: divide by zero encountered in double_scalars\n",
      "  return y_pred_mae / naive_mae\n",
      "\n",
      "WARNING - (py.warnings._showwarnmsg) - /Users/polina/fds/neural_prophet/neuralprophet/tools/metrics_libra.py:13: RuntimeWarning: divide by zero encountered in double_scalars\n",
      "  return y_pred_mae / naive_mae\n",
      "\n",
      "WARNING - (py.warnings._showwarnmsg) - /Users/polina/fds/neural_prophet/neuralprophet/tools/metrics_libra.py:13: RuntimeWarning: divide by zero encountered in double_scalars\n",
      "  return y_pred_mae / naive_mae\n",
      "\n",
      "WARNING - (py.warnings._showwarnmsg) - /Users/polina/fds/neural_prophet/neuralprophet/tools/metrics_libra.py:13: RuntimeWarning: divide by zero encountered in double_scalars\n",
      "  return y_pred_mae / naive_mae\n",
      "\n",
      "WARNING - (py.warnings._showwarnmsg) - /Users/polina/fds/neural_prophet/neuralprophet/tools/metrics_libra.py:13: RuntimeWarning: divide by zero encountered in double_scalars\n",
      "  return y_pred_mae / naive_mae\n",
      "\n",
      "WARNING - (py.warnings._showwarnmsg) - /Users/polina/fds/neural_prophet/neuralprophet/tools/metrics_libra.py:13: RuntimeWarning: divide by zero encountered in double_scalars\n",
      "  return y_pred_mae / naive_mae\n",
      "\n",
      "WARNING - (py.warnings._showwarnmsg) - /Users/polina/fds/neural_prophet/neuralprophet/tools/metrics_libra.py:13: RuntimeWarning: divide by zero encountered in double_scalars\n",
      "  return y_pred_mae / naive_mae\n",
      "\n"
     ]
    },
    {
     "name": "stderr",
     "output_type": "stream",
     "text": [
      "WARNING - (py.warnings._showwarnmsg) - /Users/polina/fds/neural_prophet/neuralprophet/tools/metrics_libra.py:13: RuntimeWarning: divide by zero encountered in double_scalars\n",
      "  return y_pred_mae / naive_mae\n",
      "\n",
      "WARNING - (py.warnings._showwarnmsg) - /Users/polina/fds/neural_prophet/neuralprophet/tools/metrics_libra.py:13: RuntimeWarning: divide by zero encountered in double_scalars\n",
      "  return y_pred_mae / naive_mae\n",
      "\n",
      "WARNING - (py.warnings._showwarnmsg) - /Users/polina/fds/neural_prophet/neuralprophet/tools/metrics_libra.py:13: RuntimeWarning: divide by zero encountered in double_scalars\n",
      "  return y_pred_mae / naive_mae\n",
      "\n",
      "WARNING - (py.warnings._showwarnmsg) - /Users/polina/fds/neural_prophet/neuralprophet/tools/metrics_libra.py:13: RuntimeWarning: divide by zero encountered in double_scalars\n",
      "  return y_pred_mae / naive_mae\n",
      "\n",
      "WARNING - (py.warnings._showwarnmsg) - /Users/polina/fds/neural_prophet/neuralprophet/tools/metrics_libra.py:13: RuntimeWarning: divide by zero encountered in double_scalars\n",
      "  return y_pred_mae / naive_mae\n",
      "\n",
      "WARNING - (py.warnings._showwarnmsg) - /Users/polina/fds/neural_prophet/neuralprophet/tools/metrics_libra.py:13: RuntimeWarning: divide by zero encountered in double_scalars\n",
      "  return y_pred_mae / naive_mae\n",
      "\n",
      "WARNING - (py.warnings._showwarnmsg) - /Users/polina/fds/neural_prophet/neuralprophet/tools/metrics_libra.py:13: RuntimeWarning: divide by zero encountered in double_scalars\n",
      "  return y_pred_mae / naive_mae\n",
      "\n",
      "WARNING - (py.warnings._showwarnmsg) - /Users/polina/fds/neural_prophet/neuralprophet/tools/metrics_libra.py:13: RuntimeWarning: divide by zero encountered in double_scalars\n",
      "  return y_pred_mae / naive_mae\n",
      "\n",
      "WARNING - (py.warnings._showwarnmsg) - /Users/polina/fds/neural_prophet/neuralprophet/tools/metrics_libra.py:13: RuntimeWarning: divide by zero encountered in double_scalars\n",
      "  return y_pred_mae / naive_mae\n",
      "\n",
      "WARNING - (py.warnings._showwarnmsg) - /Users/polina/fds/neural_prophet/neuralprophet/tools/metrics_libra.py:13: RuntimeWarning: divide by zero encountered in double_scalars\n",
      "  return y_pred_mae / naive_mae\n",
      "\n",
      "WARNING - (py.warnings._showwarnmsg) - /Users/polina/fds/neural_prophet/neuralprophet/tools/metrics_libra.py:13: RuntimeWarning: divide by zero encountered in double_scalars\n",
      "  return y_pred_mae / naive_mae\n",
      "\n",
      "WARNING - (py.warnings._showwarnmsg) - /Users/polina/fds/neural_prophet/neuralprophet/tools/metrics_libra.py:13: RuntimeWarning: divide by zero encountered in double_scalars\n",
      "  return y_pred_mae / naive_mae\n",
      "\n",
      "WARNING - (py.warnings._showwarnmsg) - /Users/polina/fds/neural_prophet/neuralprophet/tools/metrics_libra.py:13: RuntimeWarning: divide by zero encountered in double_scalars\n",
      "  return y_pred_mae / naive_mae\n",
      "\n",
      "WARNING - (py.warnings._showwarnmsg) - /Users/polina/fds/neural_prophet/neuralprophet/tools/metrics_libra.py:13: RuntimeWarning: divide by zero encountered in double_scalars\n",
      "  return y_pred_mae / naive_mae\n",
      "\n",
      "WARNING - (py.warnings._showwarnmsg) - /Users/polina/fds/neural_prophet/neuralprophet/tools/metrics_libra.py:13: RuntimeWarning: divide by zero encountered in double_scalars\n",
      "  return y_pred_mae / naive_mae\n",
      "\n",
      "WARNING - (py.warnings._showwarnmsg) - /Users/polina/fds/neural_prophet/neuralprophet/tools/metrics_libra.py:13: RuntimeWarning: divide by zero encountered in double_scalars\n",
      "  return y_pred_mae / naive_mae\n",
      "\n",
      "WARNING - (py.warnings._showwarnmsg) - /Users/polina/fds/neural_prophet/neuralprophet/tools/metrics_libra.py:13: RuntimeWarning: divide by zero encountered in double_scalars\n",
      "  return y_pred_mae / naive_mae\n",
      "\n",
      "WARNING - (py.warnings._showwarnmsg) - /Users/polina/fds/neural_prophet/neuralprophet/tools/metrics_libra.py:13: RuntimeWarning: divide by zero encountered in double_scalars\n",
      "  return y_pred_mae / naive_mae\n",
      "\n",
      "WARNING - (py.warnings._showwarnmsg) - /Users/polina/fds/neural_prophet/neuralprophet/tools/metrics_libra.py:13: RuntimeWarning: divide by zero encountered in double_scalars\n",
      "  return y_pred_mae / naive_mae\n",
      "\n",
      "WARNING - (py.warnings._showwarnmsg) - /Users/polina/fds/neural_prophet/neuralprophet/tools/metrics_libra.py:13: RuntimeWarning: divide by zero encountered in double_scalars\n",
      "  return y_pred_mae / naive_mae\n",
      "\n",
      "WARNING - (py.warnings._showwarnmsg) - /Users/polina/fds/neural_prophet/neuralprophet/tools/metrics_libra.py:13: RuntimeWarning: divide by zero encountered in double_scalars\n",
      "  return y_pred_mae / naive_mae\n",
      "\n",
      "WARNING - (py.warnings._showwarnmsg) - /Users/polina/fds/neural_prophet/neuralprophet/tools/metrics_libra.py:13: RuntimeWarning: divide by zero encountered in double_scalars\n",
      "  return y_pred_mae / naive_mae\n",
      "\n",
      "GPU available: False, used: False\n",
      "TPU available: False, using: 0 TPU cores\n",
      "WARNING - (py.warnings._showwarnmsg) - /Users/polina/.conda/envs/neural_prophet/lib/python3.7/site-packages/pytorch_lightning/utilities/distributed.py:68: UserWarning: you defined a validation_step but have no val_dataloader. Skipping validation loop\n",
      "  warnings.warn(*args, **kwargs)\n",
      "\n",
      "\n",
      "  | Name                   | Type                   | Params\n",
      "------------------------------------------------------------------\n",
      "0 | loss                   | NormalDistributionLoss | 0     \n",
      "1 | logging_metrics        | ModuleList             | 0     \n",
      "2 | embeddings             | MultiEmbedding         | 0     \n",
      "3 | rnn                    | LSTM                   | 12.9 K\n",
      "4 | distribution_projector | Linear                 | 66    \n",
      "------------------------------------------------------------------\n",
      "13.0 K    Trainable params\n",
      "0         Non-trainable params\n",
      "13.0 K    Total params\n",
      "0.052     Total estimated model params size (MB)\n"
     ]
    },
    {
     "data": {
      "application/vnd.jupyter.widget-view+json": {
       "model_id": "ea4533e68f974cca97661a473aafe87b",
       "version_major": 2,
       "version_minor": 0
      },
      "text/plain": [
       "Finding best initial lr:   0%|          | 0/100 [00:00<?, ?it/s]"
      ]
     },
     "metadata": {},
     "output_type": "display_data"
    },
    {
     "name": "stderr",
     "output_type": "stream",
     "text": [
      "Restored states from the checkpoint file at /Users/polina/fds/neural_prophet/example_notebooks/lr_find_temp_model.ckpt\n",
      "\n",
      "  | Name                   | Type                   | Params\n",
      "------------------------------------------------------------------\n",
      "0 | loss                   | NormalDistributionLoss | 0     \n",
      "1 | logging_metrics        | ModuleList             | 0     \n",
      "2 | embeddings             | MultiEmbedding         | 0     \n",
      "3 | rnn                    | LSTM                   | 12.9 K\n",
      "4 | distribution_projector | Linear                 | 66    \n",
      "------------------------------------------------------------------\n",
      "13.0 K    Trainable params\n",
      "0         Non-trainable params\n",
      "13.0 K    Total params\n",
      "0.052     Total estimated model params size (MB)\n"
     ]
    },
    {
     "data": {
      "application/vnd.jupyter.widget-view+json": {
       "model_id": "718fcdeebcf646edb8fc495c1c540803",
       "version_major": 2,
       "version_minor": 0
      },
      "text/plain": [
       "Training: 99it [00:00, ?it/s]"
      ]
     },
     "metadata": {},
     "output_type": "display_data"
    },
    {
     "name": "stderr",
     "output_type": "stream",
     "text": [
      "  0%|          | 0/50 [08:29<?, ?it/s]\n"
     ]
    },
    {
     "data": {
      "application/vnd.jupyter.widget-view+json": {
       "model_id": "",
       "version_major": 2,
       "version_minor": 0
      },
      "text/plain": [
       "Validating: 0it [00:00, ?it/s]"
      ]
     },
     "metadata": {},
     "output_type": "display_data"
    },
    {
     "data": {
      "application/vnd.jupyter.widget-view+json": {
       "model_id": "",
       "version_major": 2,
       "version_minor": 0
      },
      "text/plain": [
       "Validating: 0it [00:00, ?it/s]"
      ]
     },
     "metadata": {},
     "output_type": "display_data"
    },
    {
     "data": {
      "application/vnd.jupyter.widget-view+json": {
       "model_id": "",
       "version_major": 2,
       "version_minor": 0
      },
      "text/plain": [
       "Validating: 0it [00:00, ?it/s]"
      ]
     },
     "metadata": {},
     "output_type": "display_data"
    }
   ],
   "source": [
    "\n",
    "metrics = {}\n",
    "\n",
    "counter = 0\n",
    "for dataset_name, df in datasets.items():\n",
    "\n",
    "    idx_ts = int(dataset_name.split('.')[0].split('_')[-1])-1\n",
    "    freq_number = frequencies.iloc[\n",
    "        idx_ts][[col for col in frequencies.columns if usecase in col][0]]\n",
    "\n",
    "    freq = mapping(frequencies.iloc[\n",
    "        idx_ts][[col for col in frequencies.columns if usecase in col][0]])\n",
    "    \n",
    "    n_lags = freq_number\n",
    "    \n",
    "    method = 'LSTM_1step'\n",
    "    m = LSTM(n_lags = n_lags,\n",
    "            n_forecasts=n_forecasts,\n",
    "            learning_rate=0.01,\n",
    "            epochs=50)\n",
    "    \n",
    "    tr, vl = split_df(df, n_lags = n_lags, n_forecasts = n_forecasts, valid_p = valid_p)\n",
    "    m.fit(tr, freq = freq)\n",
    "    future = m.make_future_dataframe(vl, periods = 0, n_historic_predictions=True)\n",
    "    forecast = m.predict(future)\n",
    "    fold = forecast.iloc[n_lags:][[f'yhat{i}' for i in range(1, n_forecasts+1)]]\n",
    "\n",
    "    y_predicted = [np.array(fold).diagonal(offset=-i) for i in range(len(fold) - n_forecasts + 1)]\n",
    "    y = np.array(vl[n_lags:][\"y\"])\n",
    "    y_rolled = [y[i : i + n_forecasts] for i in range(len(y) - n_forecasts + 1)]\n",
    "    \n",
    "    y_naive = np.array(vl[n_lags-1:-1][\"y\"])\n",
    "    y_naive_rolled = [y_naive[i : i + n_forecasts] for i in range(len(y_naive) - n_forecasts + 1)]\n",
    "    \n",
    "    smapes = np.mean([smape(y_rolled[i], y_predicted[i]) for i in range(len(y_rolled))])\n",
    "    mases = np.mean([mase(y_rolled[i], y_predicted[i], y_naive_rolled[i]) for i in range(len(y_rolled))])\n",
    "    mueses = np.mean([mues(y_rolled[i], y_predicted[i]) for i in range(len(y_rolled))])\n",
    "    moeses = np.mean([moes(y_rolled[i], y_predicted[i]) for i in range(len(y_rolled))])\n",
    "    muases = np.mean([muas(y_rolled[i], y_predicted[i]) for i in range(len(y_rolled))])\n",
    "    moases = np.mean([moas(y_rolled[i], y_predicted[i]) for i in range(len(y_rolled))])\n",
    "    \n",
    "    metrics.update({dataset_name:{\n",
    "        f'smape_{method}': smapes,\n",
    "        f'mase_{method}': mases,\n",
    "        f'mues_{method}': mueses,\n",
    "        f'moes_{method}': moeses,\n",
    "        f'muas_{method}': muases,\n",
    "        f'moas_{method}': moases\n",
    "        \n",
    "    }})\n",
    "    \n",
    "    \n",
    "    method = 'NP_1step'\n",
    "    m = NeuralProphet(n_lags = n_lags,\n",
    "            n_forecasts=n_forecasts,\n",
    "            learning_rate=0.01,\n",
    "            epochs=50)\n",
    "    \n",
    "    tr, vl = split_df(df, n_lags = n_lags, n_forecasts = n_forecasts, valid_p = valid_p)\n",
    "    m.fit(tr, freq = freq)\n",
    "    future = m.make_future_dataframe(vl, periods = 0, n_historic_predictions=True)\n",
    "    forecast = m.predict(future)\n",
    "    fold = forecast.iloc[n_lags:][[f'yhat{i}' for i in range(1, n_forecasts+1)]]\n",
    "\n",
    "    y_predicted = [np.array(fold).diagonal(offset=-i) for i in range(len(fold) - n_forecasts + 1)]\n",
    "    y = np.array(vl[n_lags:][\"y\"])\n",
    "    y_rolled = [y[i : i + n_forecasts] for i in range(len(y) - n_forecasts + 1)]\n",
    "    \n",
    "    y_naive = np.array(vl[n_lags-1:-1][\"y\"])\n",
    "    y_naive_rolled = [y_naive[i : i + n_forecasts] for i in range(len(y_naive) - n_forecasts + 1)]\n",
    "    \n",
    "    smapes = np.mean([smape(y_rolled[i], y_predicted[i]) for i in range(len(y_rolled))])\n",
    "    mases = np.mean([mase(y_rolled[i], y_predicted[i], y_naive_rolled[i]) for i in range(len(y_rolled))])\n",
    "    mueses = np.mean([mues(y_rolled[i], y_predicted[i]) for i in range(len(y_rolled))])\n",
    "    moeses = np.mean([moes(y_rolled[i], y_predicted[i]) for i in range(len(y_rolled))])\n",
    "    muases = np.mean([muas(y_rolled[i], y_predicted[i]) for i in range(len(y_rolled))])\n",
    "    moases = np.mean([moas(y_rolled[i], y_predicted[i]) for i in range(len(y_rolled))])\n",
    "    \n",
    "    metrics.update({dataset_name:{\n",
    "        f'smape_{method}': smapes,\n",
    "        f'mase_{method}': mases,\n",
    "        f'mues_{method}': mueses,\n",
    "        f'moes_{method}': moeses,\n",
    "        f'muas_{method}': muases,\n",
    "        f'moas_{method}': moases\n",
    "        \n",
    "    }})\n",
    "    \n",
    "    \n",
    "    method = 'DeepAR_1step'\n",
    "    m = DeepAR(n_lags = int(n_lags),\n",
    "            n_forecasts=n_forecasts,\n",
    "            learning_rate=0.01,\n",
    "            epochs=50)\n",
    "    \n",
    "    tr, vl = split_df(df, n_lags = n_lags, n_forecasts = n_forecasts, valid_p = valid_p)\n",
    "    m.fit(tr, freq = freq)\n",
    "    future = m.make_future_dataframe(vl, periods = 0, n_historic_predictions=True)\n",
    "    forecast = m.predict(future)\n",
    "    fold = forecast.iloc[n_lags:][[f'yhat{i}' for i in range(1, n_forecasts+1)]]\n",
    "\n",
    "    y_predicted = [np.array(fold).diagonal(offset=-i) for i in range(len(fold) - n_forecasts + 1)]\n",
    "    y = np.array(vl[n_lags:][\"y\"])\n",
    "    y_rolled = [y[i : i + n_forecasts] for i in range(len(y) - n_forecasts + 1)]\n",
    "    \n",
    "    y_naive = np.array(vl[n_lags-1:-1][\"y\"])\n",
    "    y_naive_rolled = [y_naive[i : i + n_forecasts] for i in range(len(y_naive) - n_forecasts + 1)]\n",
    "    \n",
    "    smapes = np.mean([smape(y_rolled[i], y_predicted[i]) for i in range(len(y_rolled))])\n",
    "    mases = np.mean([mase(y_rolled[i], y_predicted[i], y_naive_rolled[i]) for i in range(len(y_rolled))])\n",
    "    mueses = np.mean([mues(y_rolled[i], y_predicted[i]) for i in range(len(y_rolled))])\n",
    "    moeses = np.mean([moes(y_rolled[i], y_predicted[i]) for i in range(len(y_rolled))])\n",
    "    muases = np.mean([muas(y_rolled[i], y_predicted[i]) for i in range(len(y_rolled))])\n",
    "    moases = np.mean([moas(y_rolled[i], y_predicted[i]) for i in range(len(y_rolled))])\n",
    "    \n",
    "    metrics.update({dataset_name:{\n",
    "        f'smape_{method}': smapes,\n",
    "        f'mase_{method}': mases,\n",
    "        f'mues_{method}': mueses,\n",
    "        f'moes_{method}': moeses,\n",
    "        f'muas_{method}': muases,\n",
    "        f'moas_{method}': moases\n",
    "        \n",
    "    }})\n",
    "    \n",
    "    method = 'NBeats_1step'\n",
    "    m = NBeats(n_lags = int(n_lags),\n",
    "            n_forecasts=n_forecasts,\n",
    "            learning_rate=0.01,\n",
    "            epochs=50)\n",
    "    \n",
    "    tr, vl = split_df(df, n_lags = n_lags, n_forecasts = n_forecasts, valid_p = valid_p)\n",
    "    m.fit(tr, freq = freq)\n",
    "    future = m.make_future_dataframe(vl, periods = 0, n_historic_predictions=True)\n",
    "    forecast = m.predict(future)\n",
    "    fold = forecast.iloc[n_lags:][[f'yhat{i}' for i in range(1, n_forecasts+1)]]\n",
    "\n",
    "    y_predicted = [np.array(fold).diagonal(offset=-i) for i in range(len(fold) - n_forecasts + 1)]\n",
    "    y = np.array(vl[n_lags:][\"y\"])\n",
    "    y_rolled = [y[i : i + n_forecasts] for i in range(len(y) - n_forecasts + 1)]\n",
    "    \n",
    "    y_naive = np.array(vl[n_lags-1:-1][\"y\"])\n",
    "    y_naive_rolled = [y_naive[i : i + n_forecasts] for i in range(len(y_naive) - n_forecasts + 1)]\n",
    "    \n",
    "    smapes = np.mean([smape(y_rolled[i], y_predicted[i]) for i in range(len(y_rolled))])\n",
    "    mases = np.mean([mase(y_rolled[i], y_predicted[i], y_naive_rolled[i]) for i in range(len(y_rolled))])\n",
    "    mueses = np.mean([mues(y_rolled[i], y_predicted[i]) for i in range(len(y_rolled))])\n",
    "    moeses = np.mean([moes(y_rolled[i], y_predicted[i]) for i in range(len(y_rolled))])\n",
    "    muases = np.mean([muas(y_rolled[i], y_predicted[i]) for i in range(len(y_rolled))])\n",
    "    moases = np.mean([moas(y_rolled[i], y_predicted[i]) for i in range(len(y_rolled))])\n",
    "    \n",
    "    metrics.update({dataset_name:{\n",
    "        f'smape_{method}': smapes,\n",
    "        f'mase_{method}': mases,\n",
    "        f'mues_{method}': mueses,\n",
    "        f'moes_{method}': moeses,\n",
    "        f'muas_{method}': muases,\n",
    "        f'moas_{method}': moases\n",
    "        \n",
    "    }})\n",
    "    \n",
    "    method = 'TFT_1step'\n",
    "    m = TFT(n_lags = int(n_lags),\n",
    "            n_forecasts=n_forecasts,\n",
    "            learning_rate=0.01,\n",
    "            epochs=50)\n",
    "    \n",
    "    tr, vl = split_df(df, n_lags = n_lags, n_forecasts = n_forecasts, valid_p = valid_p)\n",
    "    m.fit(tr, freq = freq)\n",
    "    future = m.make_future_dataframe(vl, periods = 0, n_historic_predictions=True)\n",
    "    forecast = m.predict(future)\n",
    "    fold = forecast.iloc[n_lags:][[f'yhat{i}' for i in range(1, n_forecasts+1)]]\n",
    "\n",
    "    y_predicted = [np.array(fold).diagonal(offset=-i) for i in range(len(fold) - n_forecasts + 1)]\n",
    "    y = np.array(vl[n_lags:][\"y\"])\n",
    "    y_rolled = [y[i : i + n_forecasts] for i in range(len(y) - n_forecasts + 1)]\n",
    "    \n",
    "    y_naive = np.array(vl[n_lags-1:-1][\"y\"])\n",
    "    y_naive_rolled = [y_naive[i : i + n_forecasts] for i in range(len(y_naive) - n_forecasts + 1)]\n",
    "    \n",
    "    smapes = np.mean([smape(y_rolled[i], y_predicted[i]) for i in range(len(y_rolled))])\n",
    "    mases = np.mean([mase(y_rolled[i], y_predicted[i], y_naive_rolled[i]) for i in range(len(y_rolled))])\n",
    "    mueses = np.mean([mues(y_rolled[i], y_predicted[i]) for i in range(len(y_rolled))])\n",
    "    moeses = np.mean([moes(y_rolled[i], y_predicted[i]) for i in range(len(y_rolled))])\n",
    "    muases = np.mean([muas(y_rolled[i], y_predicted[i]) for i in range(len(y_rolled))])\n",
    "    moases = np.mean([moas(y_rolled[i], y_predicted[i]) for i in range(len(y_rolled))])\n",
    "    \n",
    "    metrics.update({dataset_name:{\n",
    "        f'smape_{method}': smapes,\n",
    "        f'mase_{method}': mases,\n",
    "        f'mues_{method}': mueses,\n",
    "        f'moes_{method}': moeses,\n",
    "        f'muas_{method}': muases,\n",
    "        f'moas_{method}': moases\n",
    "        \n",
    "    }})\n",
    "    \n",
    "    \n",
    "    \n",
    "    counter += 1"
   ]
  },
  {
   "cell_type": "code",
   "execution_count": 22,
   "id": "8f568c5d",
   "metadata": {},
   "outputs": [
    {
     "data": {
      "text/html": [
       "<div>\n",
       "<style scoped>\n",
       "    .dataframe tbody tr th:only-of-type {\n",
       "        vertical-align: middle;\n",
       "    }\n",
       "\n",
       "    .dataframe tbody tr th {\n",
       "        vertical-align: top;\n",
       "    }\n",
       "\n",
       "    .dataframe thead th {\n",
       "        text-align: right;\n",
       "    }\n",
       "</style>\n",
       "<table border=\"1\" class=\"dataframe\">\n",
       "  <thead>\n",
       "    <tr style=\"text-align: right;\">\n",
       "      <th></th>\n",
       "      <th>nature_83.csv</th>\n",
       "      <th>nature_97.csv</th>\n",
       "      <th>nature_68.csv</th>\n",
       "    </tr>\n",
       "  </thead>\n",
       "  <tbody>\n",
       "    <tr>\n",
       "      <th>smape_LSTM_1step</th>\n",
       "      <td>26.973718</td>\n",
       "      <td>6.442202</td>\n",
       "      <td>0.795686</td>\n",
       "    </tr>\n",
       "    <tr>\n",
       "      <th>mase_LSTM_1step</th>\n",
       "      <td>inf</td>\n",
       "      <td>1.751484</td>\n",
       "      <td>1.279914</td>\n",
       "    </tr>\n",
       "    <tr>\n",
       "      <th>mues_LSTM_1step</th>\n",
       "      <td>0.383721</td>\n",
       "      <td>0.750000</td>\n",
       "      <td>0.393939</td>\n",
       "    </tr>\n",
       "    <tr>\n",
       "      <th>moes_LSTM_1step</th>\n",
       "      <td>0.616279</td>\n",
       "      <td>0.250000</td>\n",
       "      <td>0.606061</td>\n",
       "    </tr>\n",
       "    <tr>\n",
       "      <th>muas_LSTM_1step</th>\n",
       "      <td>0.054801</td>\n",
       "      <td>0.047005</td>\n",
       "      <td>0.003232</td>\n",
       "    </tr>\n",
       "    <tr>\n",
       "      <th>moas_LSTM_1step</th>\n",
       "      <td>0.286641</td>\n",
       "      <td>0.016128</td>\n",
       "      <td>0.004733</td>\n",
       "    </tr>\n",
       "  </tbody>\n",
       "</table>\n",
       "</div>"
      ],
      "text/plain": [
       "                  nature_83.csv  nature_97.csv  nature_68.csv\n",
       "smape_LSTM_1step      26.973718       6.442202       0.795686\n",
       "mase_LSTM_1step             inf       1.751484       1.279914\n",
       "mues_LSTM_1step        0.383721       0.750000       0.393939\n",
       "moes_LSTM_1step        0.616279       0.250000       0.606061\n",
       "muas_LSTM_1step        0.054801       0.047005       0.003232\n",
       "moas_LSTM_1step        0.286641       0.016128       0.004733"
      ]
     },
     "execution_count": 22,
     "metadata": {},
     "output_type": "execute_result"
    }
   ],
   "source": [
    "pd.DataFrame(metrics)"
   ]
  },
  {
   "cell_type": "code",
   "execution_count": null,
   "id": "e22956dc",
   "metadata": {},
   "outputs": [],
   "source": []
  },
  {
   "cell_type": "code",
   "execution_count": null,
   "id": "f9cc6684",
   "metadata": {},
   "outputs": [],
   "source": []
  },
  {
   "cell_type": "code",
   "execution_count": null,
   "id": "eef8477c",
   "metadata": {},
   "outputs": [],
   "source": []
  },
  {
   "cell_type": "markdown",
   "id": "bb018556",
   "metadata": {},
   "source": [
    "# Multi step ahead"
   ]
  },
  {
   "cell_type": "code",
   "execution_count": null,
   "id": "2b5b951a",
   "metadata": {},
   "outputs": [],
   "source": [
    "valid_p = 0.2\n",
    "n_forecasts_p = 0.2"
   ]
  },
  {
   "cell_type": "code",
   "execution_count": null,
   "id": "59aa8cf7",
   "metadata": {},
   "outputs": [],
   "source": [
    "\n",
    "metrics = {}\n",
    "\n",
    "counter = 0\n",
    "for dataset_name, df in datasets.items():\n",
    "\n",
    "    idx_ts = int(dataset_name.split('.')[0].split('_')[-1])-1\n",
    "    freq_number = frequencies.iloc[\n",
    "        idx_ts][[col for col in frequencies.columns if usecase in col][0]]\n",
    "\n",
    "    freq = mapping(frequencies.iloc[\n",
    "        idx_ts][[col for col in frequencies.columns if usecase in col][0]])\n",
    "    \n",
    "    n_lags = freq_number\n",
    "    n_forecasts = int(n_forecasts_p*len(df))\n",
    "    \n",
    "    method = 'LSTM_1step'\n",
    "    m = LSTM(n_lags = n_lags,\n",
    "            n_forecasts=n_forecasts,\n",
    "            learning_rate=0.01,\n",
    "            epochs=50)\n",
    "    \n",
    "    tr, vl = split_df(df, n_lags = n_lags, n_forecasts = n_forecasts, valid_p = valid_p)\n",
    "    m.fit(tr, freq = freq)\n",
    "    future = m.make_future_dataframe(vl, periods = 0, n_historic_predictions=True)\n",
    "    forecast = m.predict(future)\n",
    "    fold = forecast.iloc[n_lags:][[f'yhat{i}' for i in range(1, n_forecasts+1)]]\n",
    "\n",
    "    y_predicted = [np.array(fold).diagonal(offset=-i) for i in range(len(fold) - n_forecasts + 1)]\n",
    "    y = np.array(vl[n_lags:][\"y\"])\n",
    "    y_rolled = [y[i : i + n_forecasts] for i in range(len(y) - n_forecasts + 1)]\n",
    "    \n",
    "    y_naive = np.array(vl[n_lags-1:-1][\"y\"])\n",
    "    y_naive_rolled = [y_naive[i : i + n_forecasts] for i in range(len(y_naive) - n_forecasts + 1)]\n",
    "    \n",
    "    smapes = np.mean([smape(y_rolled[i], y_predicted[i]) for i in range(len(y_rolled))])\n",
    "    mases = np.mean([mase(y_rolled[i], y_predicted[i], y_naive_rolled[i]) for i in range(len(y_rolled))])\n",
    "    mueses = np.mean([mues(y_rolled[i], y_predicted[i]) for i in range(len(y_rolled))])\n",
    "    moeses = np.mean([moes(y_rolled[i], y_predicted[i]) for i in range(len(y_rolled))])\n",
    "    muases = np.mean([muas(y_rolled[i], y_predicted[i]) for i in range(len(y_rolled))])\n",
    "    moases = np.mean([moas(y_rolled[i], y_predicted[i]) for i in range(len(y_rolled))])\n",
    "    \n",
    "    metrics.update({dataset_name:{\n",
    "        f'smape_{method}': smapes,\n",
    "        f'mase_{method}': mases,\n",
    "        f'mues_{method}': mueses,\n",
    "        f'moes_{method}': moeses,\n",
    "        f'muas_{method}': muases,\n",
    "        f'moas_{method}': moases\n",
    "        \n",
    "    }})\n",
    "    \n",
    "    \n",
    "    method = 'NP_1step'\n",
    "    m = NeuralProphet(n_lags = n_lags,\n",
    "            n_forecasts=n_forecasts,\n",
    "            learning_rate=0.01,\n",
    "            epochs=50)\n",
    "    \n",
    "    tr, vl = split_df(df, n_lags = n_lags, n_forecasts = n_forecasts, valid_p = valid_p)\n",
    "    m.fit(tr, freq = freq)\n",
    "    future = m.make_future_dataframe(vl, periods = 0, n_historic_predictions=True)\n",
    "    forecast = m.predict(future)\n",
    "    fold = forecast.iloc[n_lags:][[f'yhat{i}' for i in range(1, n_forecasts+1)]]\n",
    "\n",
    "    y_predicted = [np.array(fold).diagonal(offset=-i) for i in range(len(fold) - n_forecasts + 1)]\n",
    "    y = np.array(vl[n_lags:][\"y\"])\n",
    "    y_rolled = [y[i : i + n_forecasts] for i in range(len(y) - n_forecasts + 1)]\n",
    "    \n",
    "    y_naive = np.array(vl[n_lags-1:-1][\"y\"])\n",
    "    y_naive_rolled = [y_naive[i : i + n_forecasts] for i in range(len(y_naive) - n_forecasts + 1)]\n",
    "    \n",
    "    smapes = np.mean([smape(y_rolled[i], y_predicted[i]) for i in range(len(y_rolled))])\n",
    "    mases = np.mean([mase(y_rolled[i], y_predicted[i], y_naive_rolled[i]) for i in range(len(y_rolled))])\n",
    "    mueses = np.mean([mues(y_rolled[i], y_predicted[i]) for i in range(len(y_rolled))])\n",
    "    moeses = np.mean([moes(y_rolled[i], y_predicted[i]) for i in range(len(y_rolled))])\n",
    "    muases = np.mean([muas(y_rolled[i], y_predicted[i]) for i in range(len(y_rolled))])\n",
    "    moases = np.mean([moas(y_rolled[i], y_predicted[i]) for i in range(len(y_rolled))])\n",
    "    \n",
    "    metrics.update({dataset_name:{\n",
    "        f'smape_{method}': smapes,\n",
    "        f'mase_{method}': mases,\n",
    "        f'mues_{method}': mueses,\n",
    "        f'moes_{method}': moeses,\n",
    "        f'muas_{method}': muases,\n",
    "        f'moas_{method}': moases\n",
    "        \n",
    "    }})\n",
    "    \n",
    "    \n",
    "    method = 'DeepAR_1step'\n",
    "    m = DeepAR(n_lags = int(n_lags),\n",
    "            n_forecasts=n_forecasts,\n",
    "            learning_rate=0.01,\n",
    "            epochs=50)\n",
    "    \n",
    "    tr, vl = split_df(df, n_lags = n_lags, n_forecasts = n_forecasts, valid_p = valid_p)\n",
    "    m.fit(tr, freq = freq)\n",
    "    future = m.make_future_dataframe(vl, periods = 0, n_historic_predictions=True)\n",
    "    forecast = m.predict(future)\n",
    "    fold = forecast.iloc[n_lags:][[f'yhat{i}' for i in range(1, n_forecasts+1)]]\n",
    "\n",
    "    y_predicted = [np.array(fold).diagonal(offset=-i) for i in range(len(fold) - n_forecasts + 1)]\n",
    "    y = np.array(vl[n_lags:][\"y\"])\n",
    "    y_rolled = [y[i : i + n_forecasts] for i in range(len(y) - n_forecasts + 1)]\n",
    "    \n",
    "    y_naive = np.array(vl[n_lags-1:-1][\"y\"])\n",
    "    y_naive_rolled = [y_naive[i : i + n_forecasts] for i in range(len(y_naive) - n_forecasts + 1)]\n",
    "    \n",
    "    smapes = np.mean([smape(y_rolled[i], y_predicted[i]) for i in range(len(y_rolled))])\n",
    "    mases = np.mean([mase(y_rolled[i], y_predicted[i], y_naive_rolled[i]) for i in range(len(y_rolled))])\n",
    "    mueses = np.mean([mues(y_rolled[i], y_predicted[i]) for i in range(len(y_rolled))])\n",
    "    moeses = np.mean([moes(y_rolled[i], y_predicted[i]) for i in range(len(y_rolled))])\n",
    "    muases = np.mean([muas(y_rolled[i], y_predicted[i]) for i in range(len(y_rolled))])\n",
    "    moases = np.mean([moas(y_rolled[i], y_predicted[i]) for i in range(len(y_rolled))])\n",
    "    \n",
    "    metrics.update({dataset_name:{\n",
    "        f'smape_{method}': smapes,\n",
    "        f'mase_{method}': mases,\n",
    "        f'mues_{method}': mueses,\n",
    "        f'moes_{method}': moeses,\n",
    "        f'muas_{method}': muases,\n",
    "        f'moas_{method}': moases\n",
    "        \n",
    "    }})\n",
    "    \n",
    "    method = 'NBeats_1step'\n",
    "    m = NBeats(n_lags = int(n_lags),\n",
    "            n_forecasts=n_forecasts,\n",
    "            learning_rate=0.01,\n",
    "            epochs=50)\n",
    "    \n",
    "    tr, vl = split_df(df, n_lags = n_lags, n_forecasts = n_forecasts, valid_p = valid_p)\n",
    "    m.fit(tr, freq = freq)\n",
    "    future = m.make_future_dataframe(vl, periods = 0, n_historic_predictions=True)\n",
    "    forecast = m.predict(future)\n",
    "    fold = forecast.iloc[n_lags:][[f'yhat{i}' for i in range(1, n_forecasts+1)]]\n",
    "\n",
    "    y_predicted = [np.array(fold).diagonal(offset=-i) for i in range(len(fold) - n_forecasts + 1)]\n",
    "    y = np.array(vl[n_lags:][\"y\"])\n",
    "    y_rolled = [y[i : i + n_forecasts] for i in range(len(y) - n_forecasts + 1)]\n",
    "    \n",
    "    y_naive = np.array(vl[n_lags-1:-1][\"y\"])\n",
    "    y_naive_rolled = [y_naive[i : i + n_forecasts] for i in range(len(y_naive) - n_forecasts + 1)]\n",
    "    \n",
    "    smapes = np.mean([smape(y_rolled[i], y_predicted[i]) for i in range(len(y_rolled))])\n",
    "    mases = np.mean([mase(y_rolled[i], y_predicted[i], y_naive_rolled[i]) for i in range(len(y_rolled))])\n",
    "    mueses = np.mean([mues(y_rolled[i], y_predicted[i]) for i in range(len(y_rolled))])\n",
    "    moeses = np.mean([moes(y_rolled[i], y_predicted[i]) for i in range(len(y_rolled))])\n",
    "    muases = np.mean([muas(y_rolled[i], y_predicted[i]) for i in range(len(y_rolled))])\n",
    "    moases = np.mean([moas(y_rolled[i], y_predicted[i]) for i in range(len(y_rolled))])\n",
    "    \n",
    "    metrics.update({dataset_name:{\n",
    "        f'smape_{method}': smapes,\n",
    "        f'mase_{method}': mases,\n",
    "        f'mues_{method}': mueses,\n",
    "        f'moes_{method}': moeses,\n",
    "        f'muas_{method}': muases,\n",
    "        f'moas_{method}': moases\n",
    "        \n",
    "    }})\n",
    "    \n",
    "    method = 'TFT_1step'\n",
    "    m = TFT(n_lags = int(n_lags),\n",
    "            n_forecasts=n_forecasts,\n",
    "            learning_rate=0.01,\n",
    "            epochs=50)\n",
    "    \n",
    "    tr, vl = split_df(df, n_lags = n_lags, n_forecasts = n_forecasts, valid_p = valid_p)\n",
    "    m.fit(tr, freq = freq)\n",
    "    future = m.make_future_dataframe(vl, periods = 0, n_historic_predictions=True)\n",
    "    forecast = m.predict(future)\n",
    "    fold = forecast.iloc[n_lags:][[f'yhat{i}' for i in range(1, n_forecasts+1)]]\n",
    "\n",
    "    y_predicted = [np.array(fold).diagonal(offset=-i) for i in range(len(fold) - n_forecasts + 1)]\n",
    "    y = np.array(vl[n_lags:][\"y\"])\n",
    "    y_rolled = [y[i : i + n_forecasts] for i in range(len(y) - n_forecasts + 1)]\n",
    "    \n",
    "    y_naive = np.array(vl[n_lags-1:-1][\"y\"])\n",
    "    y_naive_rolled = [y_naive[i : i + n_forecasts] for i in range(len(y_naive) - n_forecasts + 1)]\n",
    "    \n",
    "    smapes = np.mean([smape(y_rolled[i], y_predicted[i]) for i in range(len(y_rolled))])\n",
    "    mases = np.mean([mase(y_rolled[i], y_predicted[i], y_naive_rolled[i]) for i in range(len(y_rolled))])\n",
    "    mueses = np.mean([mues(y_rolled[i], y_predicted[i]) for i in range(len(y_rolled))])\n",
    "    moeses = np.mean([moes(y_rolled[i], y_predicted[i]) for i in range(len(y_rolled))])\n",
    "    muases = np.mean([muas(y_rolled[i], y_predicted[i]) for i in range(len(y_rolled))])\n",
    "    moases = np.mean([moas(y_rolled[i], y_predicted[i]) for i in range(len(y_rolled))])\n",
    "    \n",
    "    metrics.update({dataset_name:{\n",
    "        f'smape_{method}': smapes,\n",
    "        f'mase_{method}': mases,\n",
    "        f'mues_{method}': mueses,\n",
    "        f'moes_{method}': moeses,\n",
    "        f'muas_{method}': muases,\n",
    "        f'moas_{method}': moases\n",
    "        \n",
    "    }})\n",
    "    \n",
    "    \n",
    "    \n",
    "    counter += 1"
   ]
  },
  {
   "cell_type": "code",
   "execution_count": null,
   "id": "755fee23",
   "metadata": {},
   "outputs": [],
   "source": []
  },
  {
   "cell_type": "code",
   "execution_count": null,
   "id": "b5485d25",
   "metadata": {},
   "outputs": [],
   "source": []
  },
  {
   "cell_type": "code",
   "execution_count": null,
   "id": "ce0a18d2",
   "metadata": {},
   "outputs": [],
   "source": []
  },
  {
   "cell_type": "code",
   "execution_count": null,
   "id": "03bed0df",
   "metadata": {},
   "outputs": [],
   "source": []
  },
  {
   "cell_type": "code",
   "execution_count": null,
   "id": "9f0b7887",
   "metadata": {},
   "outputs": [],
   "source": []
  }
 ],
 "metadata": {
  "kernelspec": {
   "display_name": "Python 3",
   "language": "python",
   "name": "python3"
  },
  "language_info": {
   "codemirror_mode": {
    "name": "ipython",
    "version": 3
   },
   "file_extension": ".py",
   "mimetype": "text/x-python",
   "name": "python",
   "nbconvert_exporter": "python",
   "pygments_lexer": "ipython3",
   "version": "3.7.10"
  }
 },
 "nbformat": 4,
 "nbformat_minor": 5
}
