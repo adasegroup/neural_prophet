{
 "cells": [
  {
   "cell_type": "markdown",
   "metadata": {},
   "source": [
    "[![Open In Colab](https://colab.research.google.com/assets/colab-badge.svg)](https://colab.research.google.com/github/ourownstory/neural_prophet/blob/master/example_notebooks/autoregression_yosemite_temps.ipynb)"
   ]
  },
  {
   "cell_type": "markdown",
   "metadata": {},
   "source": [
    "# DeepAR\n",
    "\n",
    "This is a DeepAR model module usage example. We implemented this model under the same API as NeuralProphet, for easy comparison of the results of NeuralProphet and SOTA models.\n",
    "\n",
    "We used as the base the implementation of DeepAR from Pytorch Forecasting library. The model parameters are inherited automatically from the dataset structure, if from_dataset is set to True.\n",
    "\n",
    "For more detail on hyperparameters, please follow https://github.com/jdb78/pytorch-forecasting/blob/master/pytorch_forecasting/models/nbeats/__init__.py"
   ]
  },
  {
   "cell_type": "code",
   "execution_count": null,
   "metadata": {},
   "outputs": [],
   "source": [
    "# install NeuralProphet from our repository\n",
    "!pip install git+https://github.com/adasegroup/neural_prophet.git # may take a while"
   ]
  },
  {
   "cell_type": "code",
   "execution_count": 1,
   "metadata": {},
   "outputs": [],
   "source": [
    "from neuralprophet import DeepAR\n",
    "import pandas as pd"
   ]
  },
  {
   "cell_type": "code",
   "execution_count": 2,
   "metadata": {},
   "outputs": [],
   "source": [
    "if 'google.colab' in str(get_ipython()):\n",
    "    data_location = \"https://raw.githubusercontent.com/adasegroup/neural_prophet/master/\"\n",
    "else:\n",
    "    data_location = \"../\"\n",
    "\n",
    "df = pd.read_csv(data_location + \"example_data/yosemite_temps.csv\")\n",
    "df.head(3)\n",
    "freq = '5min'\n",
    "\n",
    "df = df.iloc[:1000]"
   ]
  },
  {
   "cell_type": "code",
   "execution_count": 3,
   "metadata": {},
   "outputs": [],
   "source": [
    "deepar = DeepAR(\n",
    "        n_lags=10,\n",
    "        n_forecasts=3,\n",
    "        batch_size = 32,\n",
    "        epochs = 12,\n",
    "        num_gpus = 0,\n",
    "        patience_early_stopping = 10,\n",
    "        early_stop = True,\n",
    "        learning_rate=5e-3,\n",
    "        auto_lr_find=False,\n",
    "        num_workers=8,\n",
    "        loss_func = 'normaldistributionloss',\n",
    "        hidden_size=10,\n",
    "        rnn_layers=2,\n",
    "        dropout=0.1,\n",
    ")"
   ]
  },
  {
   "cell_type": "code",
   "execution_count": 4,
   "metadata": {},
   "outputs": [
    {
     "name": "stderr",
     "output_type": "stream",
     "text": [
      "GPU available: False, used: False\n",
      "TPU available: False, using: 0 TPU cores\n",
      "\n",
      "  | Name                   | Type                   | Params\n",
      "------------------------------------------------------------------\n",
      "0 | loss                   | NormalDistributionLoss | 0     \n",
      "1 | logging_metrics        | ModuleList             | 0     \n",
      "2 | embeddings             | MultiEmbedding         | 0     \n",
      "3 | rnn                    | LSTM                   | 1.4 K \n",
      "4 | distribution_projector | Linear                 | 22    \n",
      "------------------------------------------------------------------\n",
      "1.4 K     Trainable params\n",
      "0         Non-trainable params\n",
      "1.4 K     Total params\n",
      "0.006     Total estimated model params size (MB)\n"
     ]
    },
    {
     "data": {
      "application/vnd.jupyter.widget-view+json": {
       "model_id": "81687c5e81ea4b98bae1cc30a453e917",
       "version_major": 2,
       "version_minor": 0
      },
      "text/plain": [
       "Training: 0it [00:00, ?it/s]"
      ]
     },
     "metadata": {},
     "output_type": "display_data"
    },
    {
     "data": {
      "application/vnd.jupyter.widget-view+json": {
       "model_id": "41f37523472147e89376709686f3f87a",
       "version_major": 2,
       "version_minor": 0
      },
      "text/plain": [
       "Validating: 0it [00:00, ?it/s]"
      ]
     },
     "metadata": {},
     "output_type": "display_data"
    },
    {
     "data": {
      "application/vnd.jupyter.widget-view+json": {
       "model_id": "3172eda8996f4f9c8da634a300f746dd",
       "version_major": 2,
       "version_minor": 0
      },
      "text/plain": [
       "Validating: 0it [00:00, ?it/s]"
      ]
     },
     "metadata": {},
     "output_type": "display_data"
    },
    {
     "data": {
      "application/vnd.jupyter.widget-view+json": {
       "model_id": "5e0820bcefb948f59805ac23e8aa24ad",
       "version_major": 2,
       "version_minor": 0
      },
      "text/plain": [
       "Validating: 0it [00:00, ?it/s]"
      ]
     },
     "metadata": {},
     "output_type": "display_data"
    },
    {
     "data": {
      "application/vnd.jupyter.widget-view+json": {
       "model_id": "571956882b6f4eda8a364ebedf346bd2",
       "version_major": 2,
       "version_minor": 0
      },
      "text/plain": [
       "Validating: 0it [00:00, ?it/s]"
      ]
     },
     "metadata": {},
     "output_type": "display_data"
    },
    {
     "data": {
      "application/vnd.jupyter.widget-view+json": {
       "model_id": "02804e2509e54e7e8abed64a12b60086",
       "version_major": 2,
       "version_minor": 0
      },
      "text/plain": [
       "Validating: 0it [00:00, ?it/s]"
      ]
     },
     "metadata": {},
     "output_type": "display_data"
    },
    {
     "data": {
      "application/vnd.jupyter.widget-view+json": {
       "model_id": "ed5105810efd45329f6703d5298fa8ee",
       "version_major": 2,
       "version_minor": 0
      },
      "text/plain": [
       "Validating: 0it [00:00, ?it/s]"
      ]
     },
     "metadata": {},
     "output_type": "display_data"
    },
    {
     "data": {
      "application/vnd.jupyter.widget-view+json": {
       "model_id": "d86b0840165f47be8bc43a40cd114a58",
       "version_major": 2,
       "version_minor": 0
      },
      "text/plain": [
       "Validating: 0it [00:00, ?it/s]"
      ]
     },
     "metadata": {},
     "output_type": "display_data"
    },
    {
     "data": {
      "application/vnd.jupyter.widget-view+json": {
       "model_id": "063d288931bd4a3980349cd4e2e3faff",
       "version_major": 2,
       "version_minor": 0
      },
      "text/plain": [
       "Validating: 0it [00:00, ?it/s]"
      ]
     },
     "metadata": {},
     "output_type": "display_data"
    },
    {
     "data": {
      "application/vnd.jupyter.widget-view+json": {
       "model_id": "c1e19b652f044f5396f5d313370615ee",
       "version_major": 2,
       "version_minor": 0
      },
      "text/plain": [
       "Validating: 0it [00:00, ?it/s]"
      ]
     },
     "metadata": {},
     "output_type": "display_data"
    },
    {
     "data": {
      "application/vnd.jupyter.widget-view+json": {
       "model_id": "dfc3ab0f00a3408484fdc735d18193ac",
       "version_major": 2,
       "version_minor": 0
      },
      "text/plain": [
       "Validating: 0it [00:00, ?it/s]"
      ]
     },
     "metadata": {},
     "output_type": "display_data"
    },
    {
     "data": {
      "application/vnd.jupyter.widget-view+json": {
       "model_id": "75ab1a7b0caf4c07bebc956b9abfdc6f",
       "version_major": 2,
       "version_minor": 0
      },
      "text/plain": [
       "Validating: 0it [00:00, ?it/s]"
      ]
     },
     "metadata": {},
     "output_type": "display_data"
    },
    {
     "data": {
      "application/vnd.jupyter.widget-view+json": {
       "model_id": "0e48bea2d48c41b89302c6d4a821ce7e",
       "version_major": 2,
       "version_minor": 0
      },
      "text/plain": [
       "Validating: 0it [00:00, ?it/s]"
      ]
     },
     "metadata": {},
     "output_type": "display_data"
    },
    {
     "data": {
      "text/html": [
       "<div>\n",
       "<style scoped>\n",
       "    .dataframe tbody tr th:only-of-type {\n",
       "        vertical-align: middle;\n",
       "    }\n",
       "\n",
       "    .dataframe tbody tr th {\n",
       "        vertical-align: top;\n",
       "    }\n",
       "\n",
       "    .dataframe thead th {\n",
       "        text-align: right;\n",
       "    }\n",
       "</style>\n",
       "<table border=\"1\" class=\"dataframe\">\n",
       "  <thead>\n",
       "    <tr style=\"text-align: right;\">\n",
       "      <th></th>\n",
       "      <th>SmoothL1Loss</th>\n",
       "      <th>MAE</th>\n",
       "      <th>MSE</th>\n",
       "      <th>SmoothL1Loss_val</th>\n",
       "      <th>MAE_val</th>\n",
       "      <th>MSE_val</th>\n",
       "    </tr>\n",
       "  </thead>\n",
       "  <tbody>\n",
       "    <tr>\n",
       "      <th>0</th>\n",
       "      <td>9.362685</td>\n",
       "      <td>9.856868</td>\n",
       "      <td>135.653928</td>\n",
       "      <td>10.965867</td>\n",
       "      <td>11.461824</td>\n",
       "      <td>222.398204</td>\n",
       "    </tr>\n",
       "    <tr>\n",
       "      <th>1</th>\n",
       "      <td>9.254737</td>\n",
       "      <td>9.749218</td>\n",
       "      <td>132.663662</td>\n",
       "      <td>10.871087</td>\n",
       "      <td>11.367015</td>\n",
       "      <td>218.930173</td>\n",
       "    </tr>\n",
       "    <tr>\n",
       "      <th>2</th>\n",
       "      <td>9.183176</td>\n",
       "      <td>9.677213</td>\n",
       "      <td>130.860916</td>\n",
       "      <td>10.729929</td>\n",
       "      <td>11.225665</td>\n",
       "      <td>212.244821</td>\n",
       "    </tr>\n",
       "    <tr>\n",
       "      <th>3</th>\n",
       "      <td>9.104661</td>\n",
       "      <td>9.598948</td>\n",
       "      <td>127.088661</td>\n",
       "      <td>10.508311</td>\n",
       "      <td>11.004011</td>\n",
       "      <td>201.971928</td>\n",
       "    </tr>\n",
       "    <tr>\n",
       "      <th>4</th>\n",
       "      <td>8.880343</td>\n",
       "      <td>9.374344</td>\n",
       "      <td>120.343245</td>\n",
       "      <td>10.095024</td>\n",
       "      <td>10.590599</td>\n",
       "      <td>186.675758</td>\n",
       "    </tr>\n",
       "    <tr>\n",
       "      <th>5</th>\n",
       "      <td>8.220644</td>\n",
       "      <td>8.714282</td>\n",
       "      <td>105.091561</td>\n",
       "      <td>9.109066</td>\n",
       "      <td>9.603899</td>\n",
       "      <td>160.458779</td>\n",
       "    </tr>\n",
       "    <tr>\n",
       "      <th>6</th>\n",
       "      <td>6.727956</td>\n",
       "      <td>7.216057</td>\n",
       "      <td>78.264195</td>\n",
       "      <td>7.197940</td>\n",
       "      <td>7.672353</td>\n",
       "      <td>120.131130</td>\n",
       "    </tr>\n",
       "    <tr>\n",
       "      <th>7</th>\n",
       "      <td>4.976528</td>\n",
       "      <td>5.455819</td>\n",
       "      <td>51.220663</td>\n",
       "      <td>5.756946</td>\n",
       "      <td>6.212906</td>\n",
       "      <td>78.402270</td>\n",
       "    </tr>\n",
       "    <tr>\n",
       "      <th>8</th>\n",
       "      <td>3.610390</td>\n",
       "      <td>4.083974</td>\n",
       "      <td>29.804627</td>\n",
       "      <td>5.082823</td>\n",
       "      <td>5.573897</td>\n",
       "      <td>54.107189</td>\n",
       "    </tr>\n",
       "    <tr>\n",
       "      <th>9</th>\n",
       "      <td>2.883110</td>\n",
       "      <td>3.350087</td>\n",
       "      <td>19.928096</td>\n",
       "      <td>4.605392</td>\n",
       "      <td>5.099330</td>\n",
       "      <td>42.666941</td>\n",
       "    </tr>\n",
       "    <tr>\n",
       "      <th>10</th>\n",
       "      <td>2.448308</td>\n",
       "      <td>2.893082</td>\n",
       "      <td>15.961244</td>\n",
       "      <td>4.298809</td>\n",
       "      <td>4.791841</td>\n",
       "      <td>38.512486</td>\n",
       "    </tr>\n",
       "    <tr>\n",
       "      <th>11</th>\n",
       "      <td>2.312445</td>\n",
       "      <td>2.744960</td>\n",
       "      <td>15.366219</td>\n",
       "      <td>4.055496</td>\n",
       "      <td>4.547203</td>\n",
       "      <td>37.008615</td>\n",
       "    </tr>\n",
       "  </tbody>\n",
       "</table>\n",
       "</div>"
      ],
      "text/plain": [
       "    SmoothL1Loss       MAE         MSE  SmoothL1Loss_val    MAE_val  \\\n",
       "0       9.362685  9.856868  135.653928         10.965867  11.461824   \n",
       "1       9.254737  9.749218  132.663662         10.871087  11.367015   \n",
       "2       9.183176  9.677213  130.860916         10.729929  11.225665   \n",
       "3       9.104661  9.598948  127.088661         10.508311  11.004011   \n",
       "4       8.880343  9.374344  120.343245         10.095024  10.590599   \n",
       "5       8.220644  8.714282  105.091561          9.109066   9.603899   \n",
       "6       6.727956  7.216057   78.264195          7.197940   7.672353   \n",
       "7       4.976528  5.455819   51.220663          5.756946   6.212906   \n",
       "8       3.610390  4.083974   29.804627          5.082823   5.573897   \n",
       "9       2.883110  3.350087   19.928096          4.605392   5.099330   \n",
       "10      2.448308  2.893082   15.961244          4.298809   4.791841   \n",
       "11      2.312445  2.744960   15.366219          4.055496   4.547203   \n",
       "\n",
       "       MSE_val  \n",
       "0   222.398204  \n",
       "1   218.930173  \n",
       "2   212.244821  \n",
       "3   201.971928  \n",
       "4   186.675758  \n",
       "5   160.458779  \n",
       "6   120.131130  \n",
       "7    78.402270  \n",
       "8    54.107189  \n",
       "9    42.666941  \n",
       "10   38.512486  \n",
       "11   37.008615  "
      ]
     },
     "execution_count": 4,
     "metadata": {},
     "output_type": "execute_result"
    }
   ],
   "source": [
    "deepar.fit(df, freq = freq)"
   ]
  },
  {
   "cell_type": "code",
   "execution_count": 5,
   "metadata": {},
   "outputs": [],
   "source": [
    "future = deepar.make_future_dataframe(df, periods=3, n_historic_predictions=True)"
   ]
  },
  {
   "cell_type": "code",
   "execution_count": 6,
   "metadata": {},
   "outputs": [
    {
     "name": "stderr",
     "output_type": "stream",
     "text": [
      "WARNING - (py.warnings._showwarnmsg) - D:\\ProgramData\\anaconda3\\envs\\np6\\lib\\site-packages\\pandas\\core\\indexing.py:1738: SettingWithCopyWarning: \n",
      "A value is trying to be set on a copy of a slice from a DataFrame.\n",
      "Try using .loc[row_indexer,col_indexer] = value instead\n",
      "\n",
      "See the caveats in the documentation: https://pandas.pydata.org/pandas-docs/stable/user_guide/indexing.html#returning-a-view-versus-a-copy\n",
      "  self._setitem_single_column(loc, value[:, i].tolist(), pi)\n",
      "\n"
     ]
    },
    {
     "name": "stdout",
     "output_type": "stream",
     "text": [
      "(993, 5)\n",
      "(993, 3)\n"
     ]
    }
   ],
   "source": [
    "forecast = deepar.predict(future)"
   ]
  },
  {
   "cell_type": "code",
   "execution_count": 7,
   "metadata": {},
   "outputs": [
    {
     "data": {
      "image/png": "[encoded data removed]",
      "text/plain": [
       "<Figure size 720x432 with 1 Axes>"
      ]
     },
     "metadata": {},
     "output_type": "display_data"
    }
   ],
   "source": [
    "f = deepar.plot(forecast)"
   ]
  },
  {
   "cell_type": "code",
   "execution_count": null,
   "metadata": {},
   "outputs": [],
   "source": []
  }
 ],
 "metadata": {
  "kernelspec": {
   "display_name": "Python [conda env:np6]",
   "language": "python",
   "name": "conda-env-np6-py"
  },
  "language_info": {
   "codemirror_mode": {
    "name": "ipython",
    "version": 3
   },
   "file_extension": ".py",
   "mimetype": "text/x-python",
   "name": "python",
   "nbconvert_exporter": "python",
   "pygments_lexer": "ipython3",
   "version": "3.8.10"
  }
 },
 "nbformat": 4,
 "nbformat_minor": 5
}
