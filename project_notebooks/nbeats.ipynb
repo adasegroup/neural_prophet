{
 "cells": [
  {
   "cell_type": "code",
   "execution_count": 1,
   "id": "1c11fcea",
   "metadata": {},
   "outputs": [],
   "source": [
    "import sys\n",
    "\n",
    "import pandas as pd\n",
    "import pytorch_lightning as pl\n",
    "from pytorch_lightning.callbacks import EarlyStopping\n",
    "from sklearn.preprocessing import scale\n",
    "import torch \n",
    "\n",
    "\n",
    "from pytorch_forecasting import NBeats, TimeSeriesDataSet\n",
    "from pytorch_forecasting.data import NaNLabelEncoder\n",
    "from pytorch_forecasting.data.examples import generate_ar_data\n",
    "\n",
    "sys.path.append(\"..\")\n",
    "from neuralprophet import df_utils\n",
    "import numpy as np"
   ]
  },
  {
   "cell_type": "code",
   "execution_count": 58,
   "id": "da1714c1",
   "metadata": {},
   "outputs": [],
   "source": [
    "\"\"\"\n",
    "N-Beats model for timeseries forecasting without covariates.\n",
    "\"\"\"\n",
    "from typing import Dict, List\n",
    "\n",
    "import matplotlib.pyplot as plt\n",
    "import torch\n",
    "from torch import nn\n",
    "\n",
    "from pytorch_forecasting.data import TimeSeriesDataSet\n",
    "from pytorch_forecasting.data.encoders import NaNLabelEncoder\n",
    "from pytorch_forecasting.metrics import MAE, MAPE, MASE, RMSE, SMAPE, MultiHorizonMetric\n",
    "from pytorch_forecasting.models.base_model import BaseModel\n",
    "from pytorch_forecasting.models.nbeats.sub_modules import NBEATSGenericBlock, NBEATSSeasonalBlock, NBEATSTrendBlock\n",
    "\n",
    "\n",
    "class NBeats(BaseModel):\n",
    "    def __init__(\n",
    "        self,\n",
    "        stack_types: List[str] = [\"trend\", \"seasonality\"],\n",
    "        num_blocks=[3, 3],\n",
    "        num_block_layers=[3, 3],\n",
    "        widths=[32, 512],\n",
    "        sharing: List[int] = [True, True],\n",
    "        expansion_coefficient_lengths: List[int] = [3, 7],\n",
    "        prediction_length: int = 1,\n",
    "        context_length: int = 1,\n",
    "        dropout: float = 0.1,\n",
    "        learning_rate: float = 1e-2,\n",
    "        log_interval: int = -1,\n",
    "        log_gradient_flow: bool = False,\n",
    "        log_val_interval: int = None,\n",
    "        weight_decay: float = 1e-3,\n",
    "        loss: MultiHorizonMetric = None,\n",
    "        reduce_on_plateau_patience: int = 1000,\n",
    "        backcast_loss_ratio: float = 0.0,\n",
    "        logging_metrics: nn.ModuleList = None,\n",
    "        **kwargs,\n",
    "    ):\n",
    "        \"\"\"\n",
    "        Initialize NBeats Model - use its :py:meth:`~from_dataset` method if possible.\n",
    "        Based on the article\n",
    "        `N-BEATS: Neural basis expansion analysis for interpretable time series\n",
    "        forecasting <http://arxiv.org/abs/1905.10437>`_. The network has (if used as ensemble) outperformed all\n",
    "        other methods\n",
    "        including ensembles of traditional statical methods in the M4 competition. The M4 competition is arguably\n",
    "        the most\n",
    "        important benchmark for univariate time series forecasting.\n",
    "        Args:\n",
    "            stack_types: One of the following values: “generic”, “seasonality\" or “trend\". A list of strings\n",
    "                of length 1 or ‘num_stacks’. Default and recommended value\n",
    "                for generic mode: [“generic”] Recommended value for interpretable mode: [“trend”,”seasonality”]\n",
    "            num_blocks: The number of blocks per stack. A list of ints of length 1 or ‘num_stacks’.\n",
    "                Default and recommended value for generic mode: [1] Recommended value for interpretable mode: [3]\n",
    "            num_block_layers: Number of fully connected layers with ReLu activation per block. A list of ints of length\n",
    "                1 or ‘num_stacks’.\n",
    "                Default and recommended value for generic mode: [4] Recommended value for interpretable mode: [4]\n",
    "            width: Widths of the fully connected layers with ReLu activation in the blocks.\n",
    "                A list of ints of length 1 or ‘num_stacks’. Default and recommended value for generic mode: [512]\n",
    "                Recommended value for interpretable mode: [256, 2048]\n",
    "            sharing: Whether the weights are shared with the other blocks per stack.\n",
    "                A list of ints of length 1 or ‘num_stacks’. Default and recommended value for generic mode: [False]\n",
    "                Recommended value for interpretable mode: [True]\n",
    "            expansion_coefficient_length: If the type is “G” (generic), then the length of the expansion\n",
    "                coefficient.\n",
    "                If type is “T” (trend), then it corresponds to the degree of the polynomial. If the type is “S”\n",
    "                (seasonal) then this is the minimum period allowed, e.g. 2 for changes every timestep.\n",
    "                A list of ints of length 1 or ‘num_stacks’. Default value for generic mode: [32] Recommended value for\n",
    "                interpretable mode: [3]\n",
    "            prediction_length: Length of the prediction. Also known as 'horizon'.\n",
    "            context_length: Number of time units that condition the predictions. Also known as 'lookback period'.\n",
    "                Should be between 1-10 times the prediction length.\n",
    "            backcast_loss_ratio: weight of backcast in comparison to forecast when calculating the loss.\n",
    "                A weight of 1.0 means that forecast and backcast loss is weighted the same (regardless of backcast and\n",
    "                forecast lengths). Defaults to 0.0, i.e. no weight.\n",
    "            loss: loss to optimize. Defaults to MASE().\n",
    "            log_gradient_flow: if to log gradient flow, this takes time and should be only done to diagnose training\n",
    "                failures\n",
    "            reduce_on_plateau_patience (int): patience after which learning rate is reduced by a factor of 10\n",
    "            logging_metrics (nn.ModuleList[MultiHorizonMetric]): list of metrics that are logged during training.\n",
    "                Defaults to nn.ModuleList([SMAPE(), MAE(), RMSE(), MAPE(), MASE()])\n",
    "            **kwargs: additional arguments to :py:class:`~BaseModel`.\n",
    "        \"\"\"\n",
    "        if logging_metrics is None:\n",
    "            logging_metrics = nn.ModuleList([SMAPE(), MAE(), RMSE(), MAPE(), MASE()])\n",
    "        if loss is None:\n",
    "            loss = MASE()\n",
    "        self.save_hyperparameters()\n",
    "        super().__init__(loss=loss, logging_metrics=logging_metrics, **kwargs)\n",
    "\n",
    "        self.forecaster = None\n",
    "        # setup stacks\n",
    "        self.net_blocks = nn.ModuleList()\n",
    "        for stack_id, stack_type in enumerate(stack_types):\n",
    "            for _ in range(num_blocks[stack_id]):\n",
    "                if stack_type == \"generic\":\n",
    "                    net_block = NBEATSGenericBlock(\n",
    "                        units=self.hparams.widths[stack_id],\n",
    "                        thetas_dim=self.hparams.expansion_coefficient_lengths[stack_id],\n",
    "                        num_block_layers=self.hparams.num_block_layers[stack_id],\n",
    "                        backcast_length=context_length,\n",
    "                        forecast_length=prediction_length,\n",
    "                        dropout=self.hparams.dropout,\n",
    "                    )\n",
    "                elif stack_type == \"seasonality\":\n",
    "                    net_block = NBEATSSeasonalBlock(\n",
    "                        units=self.hparams.widths[stack_id],\n",
    "                        num_block_layers=self.hparams.num_block_layers[stack_id],\n",
    "                        backcast_length=context_length,\n",
    "                        forecast_length=prediction_length,\n",
    "                        min_period=self.hparams.expansion_coefficient_lengths[stack_id],\n",
    "                        dropout=self.hparams.dropout,\n",
    "                    )\n",
    "                elif stack_type == \"trend\":\n",
    "                    net_block = NBEATSTrendBlock(\n",
    "                        units=self.hparams.widths[stack_id],\n",
    "                        thetas_dim=self.hparams.expansion_coefficient_lengths[stack_id],\n",
    "                        num_block_layers=self.hparams.num_block_layers[stack_id],\n",
    "                        backcast_length=context_length,\n",
    "                        forecast_length=prediction_length,\n",
    "                        dropout=self.hparams.dropout,\n",
    "                    )\n",
    "                else:\n",
    "                    raise ValueError(f\"Unknown stack type {stack_type}\")\n",
    "\n",
    "                self.net_blocks.append(net_block)\n",
    "\n",
    "    def forward(self, x: Dict[str, torch.Tensor]) -> Dict[str, torch.Tensor]:\n",
    "        \"\"\"\n",
    "        Pass forward of network.\n",
    "        Args:\n",
    "            x (Dict[str, torch.Tensor]): input from dataloader generated from\n",
    "                :py:class:`~pytorch_forecasting.data.timeseries.TimeSeriesDataSet`.\n",
    "        Returns:\n",
    "            Dict[str, torch.Tensor]: output of model\n",
    "        \"\"\"\n",
    "        target = x[\"encoder_cont\"][..., 0]\n",
    "\n",
    "        timesteps = self.hparams.context_length + self.hparams.prediction_length\n",
    "        generic_forecast = [torch.zeros((target.size(0), timesteps), dtype=torch.float32, device=self.device)]\n",
    "        trend_forecast = [torch.zeros((target.size(0), timesteps), dtype=torch.float32, device=self.device)]\n",
    "        seasonal_forecast = [torch.zeros((target.size(0), timesteps), dtype=torch.float32, device=self.device)]\n",
    "        forecast = torch.zeros(\n",
    "            (target.size(0), self.hparams.prediction_length), dtype=torch.float32, device=self.device\n",
    "        )\n",
    "\n",
    "        backcast = target  # initialize backcast\n",
    "        for i, block in enumerate(self.net_blocks):\n",
    "            # evaluate block\n",
    "            backcast_block, forecast_block = block(backcast)\n",
    "\n",
    "            # add for interpretation\n",
    "            full = torch.cat([backcast_block.detach(), forecast_block.detach()], dim=1)\n",
    "            if isinstance(block, NBEATSTrendBlock):\n",
    "                trend_forecast.append(full)\n",
    "            elif isinstance(block, NBEATSSeasonalBlock):\n",
    "                seasonal_forecast.append(full)\n",
    "            else:\n",
    "                generic_forecast.append(full)\n",
    "\n",
    "            # update backcast and forecast\n",
    "            backcast = (\n",
    "                backcast - backcast_block\n",
    "            )  # do not use backcast -= backcast_block as this signifies an inline operation\n",
    "            forecast = forecast + forecast_block\n",
    "\n",
    "        return dict(\n",
    "            prediction=forecast,\n",
    "            target_scale=x[\"target_scale\"],\n",
    "            backcast=target - backcast,\n",
    "            trend=torch.stack(trend_forecast, dim=0).sum(0),\n",
    "            seasonality=torch.stack(seasonal_forecast, dim=0).sum(0),\n",
    "            generic=torch.stack(generic_forecast, dim=0).sum(0),\n",
    "        )\n",
    "\n",
    "    @classmethod\n",
    "    def from_dataset(cls, dataset: TimeSeriesDataSet, **kwargs):\n",
    "        \"\"\"\n",
    "        Convenience function to create network from :py:class`~pytorch_forecasting.data.timeseries.TimeSeriesDataSet`.\n",
    "        Args:\n",
    "            dataset (TimeSeriesDataSet): dataset where sole predictor is the target.\n",
    "            **kwargs: additional arguments to be passed to ``__init__`` method.\n",
    "        Returns:\n",
    "            NBeats\n",
    "        \"\"\"\n",
    "        new_kwargs = {\"prediction_length\": dataset.max_prediction_length, \"context_length\": dataset.max_encoder_length}\n",
    "        new_kwargs.update(kwargs)\n",
    "\n",
    "        # validate arguments\n",
    "        assert isinstance(dataset.target, str), \"only one target is allowed (passed as string to dataset)\"\n",
    "        assert not isinstance(\n",
    "            dataset.target_normalizer, NaNLabelEncoder\n",
    "        ), \"only regression tasks are supported - target must not be categorical\"\n",
    "        assert (\n",
    "            dataset.min_encoder_length == dataset.max_encoder_length\n",
    "        ), \"only fixed encoder length is allowed, but min_encoder_length != max_encoder_length\"\n",
    "\n",
    "        assert (\n",
    "            dataset.max_prediction_length == dataset.min_prediction_length\n",
    "        ), \"only fixed prediction length is allowed, but max_prediction_length != min_prediction_length\"\n",
    "\n",
    "        assert dataset.randomize_length is None, \"length has to be fixed, but randomize_length is not None\"\n",
    "        assert not dataset.add_relative_time_idx, \"add_relative_time_idx has to be False\"\n",
    "\n",
    "        assert (\n",
    "            len(dataset.flat_categoricals) == 0\n",
    "            and len(dataset.reals) == 1\n",
    "            and len(dataset.time_varying_unknown_reals) == 1\n",
    "            and dataset.time_varying_unknown_reals[0] == dataset.target\n",
    "        ), \"The only variable as input should be the target which is part of time_varying_unknown_reals\"\n",
    "\n",
    "        # initialize class\n",
    "        return super().from_dataset(dataset, **new_kwargs)\n",
    "\n",
    "    def step(self, x, y, batch_idx) -> Dict[str, torch.Tensor]:\n",
    "        \"\"\"\n",
    "        Take training / validation step.\n",
    "        \"\"\"\n",
    "        log, out = super().step(x, y, batch_idx=batch_idx)\n",
    "\n",
    "        if self.hparams.backcast_loss_ratio > 0:  # add loss from backcast\n",
    "            backcast = self.transform_output(dict(prediction=out[\"backcast\"], target_scale=out[\"target_scale\"]))\n",
    "            backcast_weight = (\n",
    "                self.hparams.backcast_loss_ratio * self.hparams.prediction_length / self.hparams.context_length\n",
    "            )\n",
    "            backcast_weight = backcast_weight / (backcast_weight + 1)  # normalize\n",
    "            forecast_weight = 1 - backcast_weight\n",
    "            if isinstance(self.loss, MASE):\n",
    "                backcast_loss = self.loss(backcast, x[\"encoder_target\"], x[\"decoder_target\"]) * backcast_weight\n",
    "            else:\n",
    "                backcast_loss = self.loss(backcast, x[\"encoder_target\"]) * backcast_weight\n",
    "            label = [\"val\", \"train\"][self.training]\n",
    "            self.log(f\"{label}_backcast_loss\", backcast_loss, on_epoch=True, on_step=self.training)\n",
    "            self.log(f\"{label}_forecast_loss\", log[\"loss\"], on_epoch=True, on_step=self.training)\n",
    "            log[\"loss\"] = log[\"loss\"] * forecast_weight + backcast_loss\n",
    "\n",
    "        self._log_interpretation(x, out, batch_idx=batch_idx)\n",
    "        return log, out\n",
    "    \n",
    "    def set_forecaster(self, self_forecaster):\n",
    "        self.forecaster = self_forecaster\n",
    "    \n",
    "    def training_step(self, batch, batch_idx):\n",
    "        \"\"\"\n",
    "        Train on batch.\n",
    "        \"\"\"\n",
    "        x, y = batch\n",
    "        log, y_hat = self.step(x, y, batch_idx)\n",
    "        y_hat = y_hat['prediction'][0]\n",
    "        \n",
    "        # log loss\n",
    "        self.log(\"train_loss\", log[\"loss\"], on_step=True, on_epoch=True, prog_bar=True)\n",
    "        if type(self.forecaster) != type(None):\n",
    "            self.forecaster.metrics.update(predicted=y_hat.detach(), target=y.detach(), values={\"Loss\": log[\"loss\"]})\n",
    "        return log\n",
    "\n",
    "    def training_epoch_end(self, outputs):\n",
    "        self.epoch_end(outputs)\n",
    "        if type(self.forecaster) != type(None):\n",
    "            epoch_metrics = self.forecaster.metrics.compute(save=True)\n",
    "            self.forecaster.metrics.reset()\n",
    "\n",
    "    def validation_step(self, batch, batch_idx):\n",
    "        x, y = batch\n",
    "        log, y_hat = self.step(x, y, batch_idx)  # log loss\n",
    "        y_hat = y_hat['prediction'][0]\n",
    "        print(y_hat)\n",
    "        print(y_hat.detach())\n",
    "\n",
    "        self.log(\"val_loss\", log[\"loss\"], on_step=False, on_epoch=True, prog_bar=True)\n",
    "        if type(self.forecaster) != type(None):\n",
    "            self.forecaster.val_metrics.update(predicted=y_hat.detach(), target=y.detach())\n",
    "        return log\n",
    "\n",
    "    def validation_epoch_end(self, outputs):\n",
    "        self.epoch_end(outputs)\n",
    "        if type(self.forecaster) != type(None):\n",
    "            val_epoch_metrics = self.forecaster.val_metrics.compute(save=True)\n",
    "            self.forecaster.val_metrics.reset()\n",
    "\n",
    "    def _log_interpretation(self, x, out, batch_idx):\n",
    "        \"\"\"\n",
    "        Log interpretation of network predictions in tensorboard.\n",
    "        \"\"\"\n",
    "        label = [\"val\", \"train\"][self.training]\n",
    "        if self.log_interval > 0 and batch_idx % self.log_interval == 0:\n",
    "            fig = self.plot_interpretation(x, out, idx=0)\n",
    "            name = f\"{label.capitalize()} interpretation of item 0 in \"\n",
    "            if self.training:\n",
    "                name += f\"step {self.global_step}\"\n",
    "            else:\n",
    "                name += f\"batch {batch_idx}\"\n",
    "            self.logger.experiment.add_figure(name, fig, global_step=self.global_step)\n",
    "\n",
    "    def plot_interpretation(\n",
    "        self,\n",
    "        x: Dict[str, torch.Tensor],\n",
    "        output: Dict[str, torch.Tensor],\n",
    "        idx: int,\n",
    "        ax=None,\n",
    "        plot_seasonality_and_generic_on_secondary_axis: bool = False,\n",
    "    ) -> plt.Figure:\n",
    "        \"\"\"\n",
    "        Plot interpretation.\n",
    "        Plot two pannels: prediction and backcast vs actuals and\n",
    "        decomposition of prediction into trend, seasonality and generic forecast.\n",
    "        Args:\n",
    "            x (Dict[str, torch.Tensor]): network input\n",
    "            output (Dict[str, torch.Tensor]): network output\n",
    "            idx (int): index of sample for which to plot the interpretation.\n",
    "            ax (List[matplotlib axes], optional): list of two matplotlib axes onto which to plot the interpretation.\n",
    "                Defaults to None.\n",
    "            plot_seasonality_and_generic_on_secondary_axis (bool, optional): if to plot seasonality and\n",
    "                generic forecast on secondary axis in second panel. Defaults to False.\n",
    "        Returns:\n",
    "            plt.Figure: matplotlib figure\n",
    "        \"\"\"\n",
    "        if ax is None:\n",
    "            fig, ax = plt.subplots(2, 1, figsize=(6, 8))\n",
    "        else:\n",
    "            fig = ax[0].get_figure()\n",
    "\n",
    "        time = torch.arange(-self.hparams.context_length, self.hparams.prediction_length)\n",
    "\n",
    "        def to_prediction(y):\n",
    "            return self.transform_output(dict(prediction=y[[idx]], target_scale=x[\"target_scale\"][[idx]]))[0]\n",
    "\n",
    "        # plot target vs prediction\n",
    "        ax[0].plot(time, torch.cat([x[\"encoder_target\"][idx], x[\"decoder_target\"][idx]]).detach().cpu(), label=\"target\")\n",
    "        ax[0].plot(\n",
    "            time,\n",
    "            torch.cat(\n",
    "                [\n",
    "                    to_prediction(output[\"backcast\"].detach()),\n",
    "                    output[\"prediction\"][idx].detach(),\n",
    "                ],\n",
    "                dim=0,\n",
    "            ).cpu(),\n",
    "            label=\"prediction\",\n",
    "        )\n",
    "        ax[0].set_xlabel(\"Time\")\n",
    "\n",
    "        # plot blocks\n",
    "        prop_cycle = iter(plt.rcParams[\"axes.prop_cycle\"])\n",
    "        next(prop_cycle)  # prediction\n",
    "        next(prop_cycle)  # observations\n",
    "        if plot_seasonality_and_generic_on_secondary_axis:\n",
    "            ax2 = ax[1].twinx()\n",
    "            ax2.set_ylabel(\"Seasonality / Generic\")\n",
    "        else:\n",
    "            ax2 = ax[1]\n",
    "        for title in [\"trend\", \"seasonality\", \"generic\"]:\n",
    "            if title not in self.hparams.stack_types:\n",
    "                continue\n",
    "            if title == \"trend\":\n",
    "                ax[1].plot(\n",
    "                    time,\n",
    "                    to_prediction(output[title]).detach().cpu(),\n",
    "                    label=title.capitalize(),\n",
    "                    c=next(prop_cycle)[\"color\"],\n",
    "                )\n",
    "            else:\n",
    "                ax2.plot(\n",
    "                    time,\n",
    "                    to_prediction(output[title]).detach().cpu(),\n",
    "                    label=title.capitalize(),\n",
    "                    c=next(prop_cycle)[\"color\"],\n",
    "                )\n",
    "        ax[1].set_xlabel(\"Time\")\n",
    "        ax[1].set_ylabel(\"Decomposition\")\n",
    "\n",
    "        fig.legend()\n",
    "        return fig"
   ]
  },
  {
   "cell_type": "code",
   "execution_count": null,
   "id": "663a1ac9",
   "metadata": {},
   "outputs": [],
   "source": []
  },
  {
   "cell_type": "code",
   "execution_count": null,
   "id": "8a973892",
   "metadata": {},
   "outputs": [],
   "source": []
  },
  {
   "cell_type": "code",
   "execution_count": null,
   "id": "30ffeee0",
   "metadata": {},
   "outputs": [],
   "source": []
  },
  {
   "cell_type": "code",
   "execution_count": null,
   "id": "7364752d",
   "metadata": {},
   "outputs": [],
   "source": []
  },
  {
   "cell_type": "code",
   "execution_count": 673,
   "id": "986d4d77",
   "metadata": {},
   "outputs": [],
   "source": [
    "if 'google.colab' in str(get_ipython()):\n",
    "    !pip install git+https://github.com/ourownstory/neural_prophet.git # may take a while\n",
    "    #!pip install neuralprophet # much faster, but may not have the latest upgrades/bugfixes\n",
    "    data_location = \"https://raw.githubusercontent.com/ourownstory/neural_prophet/master/\"\n",
    "else:\n",
    "    data_location = \"../\"\n",
    "\n",
    "df = pd.read_csv(data_location + \"example_data/yosemite_temps.csv\")\n",
    "df.head(3)\n",
    "freq = '5min'\n",
    "\n",
    "df = df.iloc[:1000]"
   ]
  },
  {
   "cell_type": "code",
   "execution_count": 674,
   "id": "b46ab8c5",
   "metadata": {},
   "outputs": [],
   "source": [
    "df = df_utils.check_dataframe(df)\n",
    "df = _handle_missing_data(df, freq)\n",
    "df = df[['ds', 'y']]\n",
    "df['time_idx'] = range(df.shape[0])\n",
    "df['series'] = 0"
   ]
  },
  {
   "cell_type": "code",
   "execution_count": null,
   "id": "c7864052",
   "metadata": {},
   "outputs": [],
   "source": []
  },
  {
   "cell_type": "code",
   "execution_count": 675,
   "id": "97796524",
   "metadata": {},
   "outputs": [
    {
     "data": {
      "text/plain": [
       "1000"
      ]
     },
     "execution_count": 675,
     "metadata": {},
     "output_type": "execute_result"
    }
   ],
   "source": [
    "df.shape[0]"
   ]
  },
  {
   "cell_type": "code",
   "execution_count": 676,
   "id": "0ed33e34",
   "metadata": {},
   "outputs": [],
   "source": [
    "def set_auto_batch_epoch(\n",
    "    n_data: int,\n",
    "    min_batch: int = 16,\n",
    "    max_batch: int = 256,\n",
    "    min_epoch: int = 40,\n",
    "    max_epoch: int = 400,\n",
    "):\n",
    "    assert n_data >= 1\n",
    "    log_data = np.log10(n_data)\n",
    "    batch_size = 2 ** int(2 + log_data)\n",
    "    batch_size = min(max_batch, max(min_batch, batch_size))\n",
    "    batch_size = min(n_data, batch_size)\n",
    "    return batch_size"
   ]
  },
  {
   "cell_type": "code",
   "execution_count": 677,
   "id": "2adabcc3",
   "metadata": {},
   "outputs": [],
   "source": [
    "batch_size = set_auto_batch_epoch(df.shape[0])"
   ]
  },
  {
   "cell_type": "code",
   "execution_count": 678,
   "id": "3ae2e781",
   "metadata": {},
   "outputs": [
    {
     "data": {
      "text/plain": [
       "32"
      ]
     },
     "execution_count": 678,
     "metadata": {},
     "output_type": "execute_result"
    }
   ],
   "source": [
    "batch_size"
   ]
  },
  {
   "cell_type": "code",
   "execution_count": null,
   "id": "8277c3fd",
   "metadata": {},
   "outputs": [],
   "source": []
  },
  {
   "cell_type": "code",
   "execution_count": null,
   "id": "0875a517",
   "metadata": {},
   "outputs": [],
   "source": []
  },
  {
   "cell_type": "code",
   "execution_count": 679,
   "id": "5099287a",
   "metadata": {},
   "outputs": [],
   "source": [
    "valid_p = 0.2\n",
    "max_encoder_length = 150\n",
    "\n",
    "epochs = 100\n",
    "num_gpus = 0\n",
    "patience_early_stopping = 10\n",
    "early_stop = True\n",
    "weight_decay=1e-2\n",
    "learning_rate=3e-2\n",
    "auto_lr_find=True\n",
    "max_prediction_length = int(valid_p*df.shape[0])\n",
    "training_cutoff = df.shape[0] - int(valid_p*df.shape[0])\n",
    "\n",
    "context_length = max_encoder_length\n",
    "prediction_length = max_prediction_length"
   ]
  },
  {
   "cell_type": "code",
   "execution_count": null,
   "id": "9612a8d4",
   "metadata": {},
   "outputs": [],
   "source": []
  },
  {
   "cell_type": "code",
   "execution_count": 680,
   "id": "6c777c28",
   "metadata": {},
   "outputs": [
    {
     "data": {
      "text/plain": [
       "800"
      ]
     },
     "execution_count": 680,
     "metadata": {},
     "output_type": "execute_result"
    }
   ],
   "source": [
    "\n",
    "training_cutoff"
   ]
  },
  {
   "cell_type": "code",
   "execution_count": null,
   "id": "a6346d39",
   "metadata": {},
   "outputs": [],
   "source": []
  },
  {
   "cell_type": "code",
   "execution_count": 681,
   "id": "59b7f18c",
   "metadata": {},
   "outputs": [
    {
     "data": {
      "text/plain": [
       "200"
      ]
     },
     "execution_count": 681,
     "metadata": {},
     "output_type": "execute_result"
    }
   ],
   "source": [
    "prediction_length"
   ]
  },
  {
   "cell_type": "code",
   "execution_count": 682,
   "id": "2db1f2ed",
   "metadata": {},
   "outputs": [
    {
     "data": {
      "text/html": [
       "<div>\n",
       "<style scoped>\n",
       "    .dataframe tbody tr th:only-of-type {\n",
       "        vertical-align: middle;\n",
       "    }\n",
       "\n",
       "    .dataframe tbody tr th {\n",
       "        vertical-align: top;\n",
       "    }\n",
       "\n",
       "    .dataframe thead th {\n",
       "        text-align: right;\n",
       "    }\n",
       "</style>\n",
       "<table border=\"1\" class=\"dataframe\">\n",
       "  <thead>\n",
       "    <tr style=\"text-align: right;\">\n",
       "      <th></th>\n",
       "      <th>ds</th>\n",
       "      <th>y</th>\n",
       "      <th>time_idx</th>\n",
       "      <th>series</th>\n",
       "    </tr>\n",
       "  </thead>\n",
       "  <tbody>\n",
       "    <tr>\n",
       "      <th>0</th>\n",
       "      <td>2017-05-01 00:00:00</td>\n",
       "      <td>27.8</td>\n",
       "      <td>0</td>\n",
       "      <td>0</td>\n",
       "    </tr>\n",
       "    <tr>\n",
       "      <th>1</th>\n",
       "      <td>2017-05-01 00:05:00</td>\n",
       "      <td>27.0</td>\n",
       "      <td>1</td>\n",
       "      <td>0</td>\n",
       "    </tr>\n",
       "    <tr>\n",
       "      <th>2</th>\n",
       "      <td>2017-05-01 00:10:00</td>\n",
       "      <td>26.8</td>\n",
       "      <td>2</td>\n",
       "      <td>0</td>\n",
       "    </tr>\n",
       "    <tr>\n",
       "      <th>3</th>\n",
       "      <td>2017-05-01 00:15:00</td>\n",
       "      <td>26.5</td>\n",
       "      <td>3</td>\n",
       "      <td>0</td>\n",
       "    </tr>\n",
       "    <tr>\n",
       "      <th>4</th>\n",
       "      <td>2017-05-01 00:20:00</td>\n",
       "      <td>25.6</td>\n",
       "      <td>4</td>\n",
       "      <td>0</td>\n",
       "    </tr>\n",
       "    <tr>\n",
       "      <th>...</th>\n",
       "      <td>...</td>\n",
       "      <td>...</td>\n",
       "      <td>...</td>\n",
       "      <td>...</td>\n",
       "    </tr>\n",
       "    <tr>\n",
       "      <th>795</th>\n",
       "      <td>2017-05-03 18:15:00</td>\n",
       "      <td>33.3</td>\n",
       "      <td>795</td>\n",
       "      <td>0</td>\n",
       "    </tr>\n",
       "    <tr>\n",
       "      <th>796</th>\n",
       "      <td>2017-05-03 18:20:00</td>\n",
       "      <td>33.6</td>\n",
       "      <td>796</td>\n",
       "      <td>0</td>\n",
       "    </tr>\n",
       "    <tr>\n",
       "      <th>797</th>\n",
       "      <td>2017-05-03 18:25:00</td>\n",
       "      <td>34.1</td>\n",
       "      <td>797</td>\n",
       "      <td>0</td>\n",
       "    </tr>\n",
       "    <tr>\n",
       "      <th>798</th>\n",
       "      <td>2017-05-03 18:30:00</td>\n",
       "      <td>35.1</td>\n",
       "      <td>798</td>\n",
       "      <td>0</td>\n",
       "    </tr>\n",
       "    <tr>\n",
       "      <th>799</th>\n",
       "      <td>2017-05-03 18:35:00</td>\n",
       "      <td>35.5</td>\n",
       "      <td>799</td>\n",
       "      <td>0</td>\n",
       "    </tr>\n",
       "  </tbody>\n",
       "</table>\n",
       "<p>800 rows × 4 columns</p>\n",
       "</div>"
      ],
      "text/plain": [
       "                     ds     y  time_idx  series\n",
       "0   2017-05-01 00:00:00  27.8         0       0\n",
       "1   2017-05-01 00:05:00  27.0         1       0\n",
       "2   2017-05-01 00:10:00  26.8         2       0\n",
       "3   2017-05-01 00:15:00  26.5         3       0\n",
       "4   2017-05-01 00:20:00  25.6         4       0\n",
       "..                  ...   ...       ...     ...\n",
       "795 2017-05-03 18:15:00  33.3       795       0\n",
       "796 2017-05-03 18:20:00  33.6       796       0\n",
       "797 2017-05-03 18:25:00  34.1       797       0\n",
       "798 2017-05-03 18:30:00  35.1       798       0\n",
       "799 2017-05-03 18:35:00  35.5       799       0\n",
       "\n",
       "[800 rows x 4 columns]"
      ]
     },
     "execution_count": 682,
     "metadata": {},
     "output_type": "execute_result"
    }
   ],
   "source": [
    " df.iloc[:training_cutoff]"
   ]
  },
  {
   "cell_type": "code",
   "execution_count": null,
   "id": "a94fbe2d",
   "metadata": {},
   "outputs": [],
   "source": []
  },
  {
   "cell_type": "code",
   "execution_count": 683,
   "id": "62368f15",
   "metadata": {},
   "outputs": [],
   "source": [
    "training = TimeSeriesDataSet(\n",
    "    df.iloc[:training_cutoff],\n",
    "    time_idx=\"time_idx\",\n",
    "    target=\"y\",\n",
    "    categorical_encoders={\"series\": NaNLabelEncoder().fit(df.series)},\n",
    "    group_ids=[\"series\"],\n",
    "    min_encoder_length=context_length,\n",
    "    max_encoder_length=context_length,\n",
    "    max_prediction_length=prediction_length,\n",
    "    min_prediction_length=prediction_length,\n",
    "    time_varying_unknown_reals=[\"y\"],\n",
    "    randomize_length=None,\n",
    "    add_relative_time_idx=False,\n",
    "    add_target_scales=False,\n",
    ")\n",
    "\n",
    "validation = TimeSeriesDataSet.from_dataset(training,\n",
    "                                            df,\n",
    "                                            min_prediction_idx=training_cutoff)\n",
    "\n",
    "train_dataloader = training.to_dataloader(train=True, batch_size=batch_size, num_workers=6)\n",
    "val_dataloader = validation.to_dataloader(train=False, batch_size=batch_size, num_workers=6)"
   ]
  },
  {
   "cell_type": "code",
   "execution_count": null,
   "id": "aa6bd797",
   "metadata": {},
   "outputs": [],
   "source": []
  },
  {
   "cell_type": "code",
   "execution_count": 684,
   "id": "08e44ff2",
   "metadata": {},
   "outputs": [
    {
     "data": {
      "text/plain": [
       "14"
      ]
     },
     "execution_count": 684,
     "metadata": {},
     "output_type": "execute_result"
    }
   ],
   "source": [
    "len(train_dataloader)"
   ]
  },
  {
   "cell_type": "code",
   "execution_count": 686,
   "id": "06c05f27",
   "metadata": {},
   "outputs": [
    {
     "data": {
      "text/plain": [
       "1"
      ]
     },
     "execution_count": 686,
     "metadata": {},
     "output_type": "execute_result"
    }
   ],
   "source": [
    "len(val_dataloader)"
   ]
  },
  {
   "cell_type": "code",
   "execution_count": null,
   "id": "0d68afe9",
   "metadata": {},
   "outputs": [],
   "source": []
  },
  {
   "cell_type": "code",
   "execution_count": null,
   "id": "97189f0e",
   "metadata": {},
   "outputs": [],
   "source": []
  },
  {
   "cell_type": "code",
   "execution_count": null,
   "id": "9fc9a8f1",
   "metadata": {},
   "outputs": [],
   "source": []
  },
  {
   "cell_type": "code",
   "execution_count": null,
   "id": "e404ee67",
   "metadata": {},
   "outputs": [],
   "source": []
  },
  {
   "cell_type": "code",
   "execution_count": 687,
   "id": "1433f06e",
   "metadata": {},
   "outputs": [
    {
     "name": "stderr",
     "output_type": "stream",
     "text": [
      "GPU available: False, used: False\n",
      "TPU available: False, using: 0 TPU cores\n"
     ]
    }
   ],
   "source": [
    "if early_stop:\n",
    "    early_stop_callback = EarlyStopping(monitor=\"val_loss\",\n",
    "                                        min_delta=1e-4,\n",
    "                                        patience=patience_early_stopping,\n",
    "                                        verbose=False,\n",
    "                                        mode=\"min\")\n",
    "    callbacks=[early_stop_callback]\n",
    "    \n",
    "trainer = pl.Trainer(\n",
    "    max_epochs=epochs,\n",
    "    gpus=num_gpus,\n",
    "    weights_summary=\"top\",\n",
    "    gradient_clip_val=0.1,\n",
    "    callbacks=callbacks,\n",
    "    checkpoint_callback=False,\n",
    "    logger=False,\n",
    ")"
   ]
  },
  {
   "cell_type": "code",
   "execution_count": 688,
   "id": "2b1dd7f0",
   "metadata": {},
   "outputs": [
    {
     "name": "stdout",
     "output_type": "stream",
     "text": [
      "Number of parameters in network: 2136.2k\n"
     ]
    }
   ],
   "source": [
    "net = NBeats.from_dataset(training,\n",
    "                          learning_rate=learning_rate,\n",
    "                          log_gradient_flow=False,\n",
    "                          weight_decay=weight_decay, \n",
    "#                           prediction_length = 10\n",
    ")\n",
    "print(f\"Number of parameters in network: {net.size()/1e3:.1f}k\")"
   ]
  },
  {
   "cell_type": "code",
   "execution_count": null,
   "id": "b80e65a2",
   "metadata": {},
   "outputs": [],
   "source": []
  },
  {
   "cell_type": "code",
   "execution_count": 689,
   "id": "0cf2f890",
   "metadata": {},
   "outputs": [
    {
     "data": {
      "text/plain": [
       "14"
      ]
     },
     "execution_count": 689,
     "metadata": {},
     "output_type": "execute_result"
    }
   ],
   "source": [
    "len(train_dataloader)"
   ]
  },
  {
   "cell_type": "code",
   "execution_count": 690,
   "id": "cd9a9ad1",
   "metadata": {},
   "outputs": [
    {
     "name": "stderr",
     "output_type": "stream",
     "text": [
      "WARNING - (py.warnings._showwarnmsg) - /Users/polina/.conda/envs/neural_prophet/lib/python3.7/site-packages/pytorch_lightning/utilities/distributed.py:68: UserWarning: you defined a validation_step but have no val_dataloader. Skipping validation loop\n",
      "  warnings.warn(*args, **kwargs)\n",
      "\n",
      "\n",
      "  | Name            | Type       | Params\n",
      "-----------------------------------------------\n",
      "0 | loss            | MASE       | 0     \n",
      "1 | logging_metrics | ModuleList | 0     \n",
      "2 | net_blocks      | ModuleList | 2.1 M \n",
      "-----------------------------------------------\n",
      "2.1 M     Trainable params\n",
      "0         Non-trainable params\n",
      "2.1 M     Total params\n",
      "8.545     Total estimated model params size (MB)\n"
     ]
    },
    {
     "data": {
      "application/vnd.jupyter.widget-view+json": {
       "model_id": "1d4d1f08a2444f028ab81369db533dab",
       "version_major": 2,
       "version_minor": 0
      },
      "text/plain": [
       "Finding best initial lr:   0%|          | 0/100 [00:00<?, ?it/s]"
      ]
     },
     "metadata": {},
     "output_type": "display_data"
    },
    {
     "name": "stderr",
     "output_type": "stream",
     "text": [
      "LR finder stopped early due to diverging loss.\n",
      "Restored states from the checkpoint file at /Users/polina/fds/neural_prophet/project_notebooks/lr_find_temp_model.ckpt\n"
     ]
    }
   ],
   "source": [
    "if auto_lr_find:\n",
    "    res = trainer.tuner.lr_find(net,\n",
    "                                train_dataloader=train_dataloader,\n",
    "#                                 val_dataloaders=val_dataloader,\n",
    "                                min_lr=1e-5,\n",
    "                                max_lr=1e2\n",
    "    )\n",
    "\n",
    "    net.hparams.learning_rate = res.suggestion()\n"
   ]
  },
  {
   "cell_type": "code",
   "execution_count": null,
   "id": "2d8b8e78",
   "metadata": {},
   "outputs": [],
   "source": []
  },
  {
   "cell_type": "code",
   "execution_count": 691,
   "id": "fd683084",
   "metadata": {},
   "outputs": [
    {
     "data": {
      "text/plain": [
       "0.01023292992280754"
      ]
     },
     "execution_count": 691,
     "metadata": {},
     "output_type": "execute_result"
    }
   ],
   "source": [
    "res.suggestion()"
   ]
  },
  {
   "cell_type": "code",
   "execution_count": null,
   "id": "f6585a4e",
   "metadata": {},
   "outputs": [],
   "source": []
  },
  {
   "cell_type": "code",
   "execution_count": null,
   "id": "202faea9",
   "metadata": {},
   "outputs": [],
   "source": []
  },
  {
   "cell_type": "code",
   "execution_count": 650,
   "id": "e0a747e3",
   "metadata": {},
   "outputs": [
    {
     "name": "stderr",
     "output_type": "stream",
     "text": [
      "\n",
      "  | Name            | Type       | Params\n",
      "-----------------------------------------------\n",
      "0 | loss            | MASE       | 0     \n",
      "1 | logging_metrics | ModuleList | 0     \n",
      "2 | net_blocks      | ModuleList | 2.1 M \n",
      "-----------------------------------------------\n",
      "2.1 M     Trainable params\n",
      "0         Non-trainable params\n",
      "2.1 M     Total params\n",
      "8.545     Total estimated model params size (MB)\n"
     ]
    },
    {
     "data": {
      "application/vnd.jupyter.widget-view+json": {
       "model_id": "",
       "version_major": 2,
       "version_minor": 0
      },
      "text/plain": [
       "Validation sanity check: 0it [00:00, ?it/s]"
      ]
     },
     "metadata": {},
     "output_type": "display_data"
    },
    {
     "data": {
      "application/vnd.jupyter.widget-view+json": {
       "model_id": "139301a0cbfc4d648805e8d2a5f6387e",
       "version_major": 2,
       "version_minor": 0
      },
      "text/plain": [
       "Training: 13it [00:00, ?it/s]"
      ]
     },
     "metadata": {},
     "output_type": "display_data"
    },
    {
     "data": {
      "application/vnd.jupyter.widget-view+json": {
       "model_id": "",
       "version_major": 2,
       "version_minor": 0
      },
      "text/plain": [
       "Validating: 0it [00:00, ?it/s]"
      ]
     },
     "metadata": {},
     "output_type": "display_data"
    },
    {
     "data": {
      "application/vnd.jupyter.widget-view+json": {
       "model_id": "",
       "version_major": 2,
       "version_minor": 0
      },
      "text/plain": [
       "Validating: 0it [00:00, ?it/s]"
      ]
     },
     "metadata": {},
     "output_type": "display_data"
    },
    {
     "data": {
      "application/vnd.jupyter.widget-view+json": {
       "model_id": "",
       "version_major": 2,
       "version_minor": 0
      },
      "text/plain": [
       "Validating: 0it [00:00, ?it/s]"
      ]
     },
     "metadata": {},
     "output_type": "display_data"
    },
    {
     "data": {
      "application/vnd.jupyter.widget-view+json": {
       "model_id": "",
       "version_major": 2,
       "version_minor": 0
      },
      "text/plain": [
       "Validating: 0it [00:00, ?it/s]"
      ]
     },
     "metadata": {},
     "output_type": "display_data"
    },
    {
     "data": {
      "application/vnd.jupyter.widget-view+json": {
       "model_id": "",
       "version_major": 2,
       "version_minor": 0
      },
      "text/plain": [
       "Validating: 0it [00:00, ?it/s]"
      ]
     },
     "metadata": {},
     "output_type": "display_data"
    },
    {
     "data": {
      "application/vnd.jupyter.widget-view+json": {
       "model_id": "",
       "version_major": 2,
       "version_minor": 0
      },
      "text/plain": [
       "Validating: 0it [00:00, ?it/s]"
      ]
     },
     "metadata": {},
     "output_type": "display_data"
    },
    {
     "data": {
      "application/vnd.jupyter.widget-view+json": {
       "model_id": "",
       "version_major": 2,
       "version_minor": 0
      },
      "text/plain": [
       "Validating: 0it [00:00, ?it/s]"
      ]
     },
     "metadata": {},
     "output_type": "display_data"
    },
    {
     "data": {
      "application/vnd.jupyter.widget-view+json": {
       "model_id": "",
       "version_major": 2,
       "version_minor": 0
      },
      "text/plain": [
       "Validating: 0it [00:00, ?it/s]"
      ]
     },
     "metadata": {},
     "output_type": "display_data"
    },
    {
     "data": {
      "application/vnd.jupyter.widget-view+json": {
       "model_id": "",
       "version_major": 2,
       "version_minor": 0
      },
      "text/plain": [
       "Validating: 0it [00:00, ?it/s]"
      ]
     },
     "metadata": {},
     "output_type": "display_data"
    },
    {
     "data": {
      "application/vnd.jupyter.widget-view+json": {
       "model_id": "",
       "version_major": 2,
       "version_minor": 0
      },
      "text/plain": [
       "Validating: 0it [00:00, ?it/s]"
      ]
     },
     "metadata": {},
     "output_type": "display_data"
    },
    {
     "data": {
      "application/vnd.jupyter.widget-view+json": {
       "model_id": "",
       "version_major": 2,
       "version_minor": 0
      },
      "text/plain": [
       "Validating: 0it [00:00, ?it/s]"
      ]
     },
     "metadata": {},
     "output_type": "display_data"
    },
    {
     "data": {
      "application/vnd.jupyter.widget-view+json": {
       "model_id": "",
       "version_major": 2,
       "version_minor": 0
      },
      "text/plain": [
       "Validating: 0it [00:00, ?it/s]"
      ]
     },
     "metadata": {},
     "output_type": "display_data"
    },
    {
     "data": {
      "application/vnd.jupyter.widget-view+json": {
       "model_id": "",
       "version_major": 2,
       "version_minor": 0
      },
      "text/plain": [
       "Validating: 0it [00:00, ?it/s]"
      ]
     },
     "metadata": {},
     "output_type": "display_data"
    },
    {
     "data": {
      "application/vnd.jupyter.widget-view+json": {
       "model_id": "",
       "version_major": 2,
       "version_minor": 0
      },
      "text/plain": [
       "Validating: 0it [00:00, ?it/s]"
      ]
     },
     "metadata": {},
     "output_type": "display_data"
    },
    {
     "data": {
      "application/vnd.jupyter.widget-view+json": {
       "model_id": "",
       "version_major": 2,
       "version_minor": 0
      },
      "text/plain": [
       "Validating: 0it [00:00, ?it/s]"
      ]
     },
     "metadata": {},
     "output_type": "display_data"
    },
    {
     "data": {
      "application/vnd.jupyter.widget-view+json": {
       "model_id": "",
       "version_major": 2,
       "version_minor": 0
      },
      "text/plain": [
       "Validating: 0it [00:00, ?it/s]"
      ]
     },
     "metadata": {},
     "output_type": "display_data"
    },
    {
     "data": {
      "text/plain": [
       "1"
      ]
     },
     "execution_count": 650,
     "metadata": {},
     "output_type": "execute_result"
    }
   ],
   "source": [
    "trainer.fit(\n",
    "    net,\n",
    "    train_dataloader=train_dataloader,\n",
    "    val_dataloaders=val_dataloader,\n",
    ")"
   ]
  },
  {
   "cell_type": "code",
   "execution_count": null,
   "id": "d949744c",
   "metadata": {},
   "outputs": [],
   "source": []
  },
  {
   "cell_type": "code",
   "execution_count": null,
   "id": "f72b78c9",
   "metadata": {},
   "outputs": [],
   "source": []
  },
  {
   "cell_type": "code",
   "execution_count": null,
   "id": "0cdf55af",
   "metadata": {},
   "outputs": [],
   "source": []
  },
  {
   "cell_type": "code",
   "execution_count": 651,
   "id": "fc8a704b",
   "metadata": {},
   "outputs": [
    {
     "data": {
      "text/plain": [
       "tensor(0.6554)"
      ]
     },
     "execution_count": 651,
     "metadata": {},
     "output_type": "execute_result"
    }
   ],
   "source": [
    "import torch \n",
    "from pytorch_forecasting import Baseline\n",
    "from pytorch_forecasting.metrics import SMAPE\n",
    "\n",
    "# calculate baseline absolute error\n",
    "actuals = torch.cat([y[0] for x, y in iter(val_dataloader)])\n",
    "baseline_predictions = Baseline().predict(val_dataloader)\n",
    "SMAPE()(baseline_predictions, actuals)"
   ]
  },
  {
   "cell_type": "code",
   "execution_count": null,
   "id": "517c1fdc",
   "metadata": {},
   "outputs": [],
   "source": []
  },
  {
   "cell_type": "code",
   "execution_count": 652,
   "id": "a29246f3",
   "metadata": {},
   "outputs": [
    {
     "data": {
      "text/plain": [
       "tensor(4.8949)"
      ]
     },
     "execution_count": 652,
     "metadata": {},
     "output_type": "execute_result"
    }
   ],
   "source": [
    "actuals = torch.cat([y[0] for x, y in iter(val_dataloader)])\n",
    "predictions = net.predict(val_dataloader)\n",
    "(actuals - predictions).abs().mean()"
   ]
  },
  {
   "cell_type": "code",
   "execution_count": 653,
   "id": "284f00dd",
   "metadata": {},
   "outputs": [
    {
     "data": {
      "text/plain": [
       "tensor([[40.6727, 42.0756, 42.6413, 42.7618, 42.8205, 43.0814, 43.6171, 44.2963,\n",
       "         44.8596, 45.0697, 44.8695, 44.4480, 44.1544, 44.2923, 44.9168, 45.7734,\n",
       "         46.4353, 46.5650, 46.1364, 45.4653, 45.0222, 45.1433, 45.8295, 46.7633,\n",
       "         47.5321, 47.9010, 47.9526, 47.9988, 48.3321, 48.9890, 49.6944, 50.0274,\n",
       "         49.7017, 48.7752, 47.6508, 46.8660, 46.7993, 47.4696, 48.5358, 49.4835,\n",
       "         49.8786, 49.5512, 48.6294, 47.4378, 46.3364, 45.5847, 45.2766, 45.3451,\n",
       "         45.6135, 45.8682, 45.9356, 45.7450, 45.3532, 44.9111, 44.5768, 44.4165,\n",
       "         44.3527, 44.2012, 43.7820, 43.0389, 42.0879, 41.1546, 40.4381, 39.9889,\n",
       "         39.6848, 39.3207, 38.7513, 37.9844, 37.1620, 36.4422, 35.8751, 35.3625,\n",
       "         34.7383, 33.9083, 32.9439, 32.0549, 31.4498, 31.1819, 31.0939, 30.9066,\n",
       "         30.3998, 29.5604, 28.5945, 27.7905, 27.3226, 27.1286, 26.9434, 26.4697,\n",
       "         25.5695, 24.3522, 23.1048, 22.1129, 21.4940, 21.1463, 20.8395, 20.3764,\n",
       "         19.7176, 18.9905, 18.3880, 18.0316, 17.8917, 17.8131, 17.6240, 17.2544,\n",
       "         16.7898, 16.4289, 16.3720, 16.7023, 17.3256, 17.9996, 18.4399, 18.4557,\n",
       "         18.0497, 17.4314, 16.9252, 16.8082, 17.1527, 17.7611, 18.2477, 18.2432,\n",
       "         17.6212, 16.6122, 15.7157, 15.4338, 15.9639, 17.0350, 18.0086, 18.2148,\n",
       "         17.3446, 15.6677, 13.9316, 12.9808, 13.3022, 14.7564, 16.6493, 18.1007,\n",
       "         18.4969, 17.7738, 16.3869, 15.0157, 14.1928, 14.0719, 14.4384, 14.9105,\n",
       "         15.1796, 15.1438, 14.8867, 14.5614, 14.2827, 14.0948, 14.0049, 14.0221,\n",
       "         14.1510, 14.3458, 14.4814, 14.3910, 13.9682, 13.2649, 12.5064, 11.9923,\n",
       "         11.9346, 12.3362, 12.9915, 13.6105, 13.9802, 14.0570, 13.9333, 13.7172,\n",
       "         13.4267, 12.9864, 12.3299, 11.5243, 10.8075, 10.4861, 10.7499, 11.5260,\n",
       "         12.4835, 13.2010, 13.3972, 13.0779, 12.5044, 12.0069, 11.7679, 11.7185,\n",
       "         11.6120, 11.2171, 10.4968,  9.6521,  9.0042,  8.7979,  9.0527,  9.5573,\n",
       "          9.9993, 10.1452,  9.9588,  9.5961,  9.2974,  9.2495,  9.4991,  9.9547]])"
      ]
     },
     "execution_count": 653,
     "metadata": {},
     "output_type": "execute_result"
    }
   ],
   "source": [
    "predictions"
   ]
  },
  {
   "cell_type": "code",
   "execution_count": 654,
   "id": "f3238f42",
   "metadata": {},
   "outputs": [
    {
     "data": {
      "text/plain": [
       "tensor([[35.6000, 36.2000, 36.7000, 37.2000, 37.9000, 37.8000, 38.0000, 38.9000,\n",
       "         38.9000, 39.4000, 39.7000, 39.5000, 39.9000, 40.1000, 40.4000, 40.8000,\n",
       "         40.8000, 40.9000, 40.9000, 40.6000, 41.4000, 41.1000, 41.5000, 41.7000,\n",
       "         40.9000, 41.3000, 41.1000, 41.2000, 41.8000, 42.0000, 41.5000, 41.1000,\n",
       "         41.9000, 41.4000, 40.9000, 40.9000, 41.0000, 41.0000, 40.5000, 40.2000,\n",
       "         40.1000, 40.0000, 40.2000, 39.9000, 39.8000, 39.1000, 39.1000, 39.0000,\n",
       "         38.8000, 38.5000, 38.2000, 37.6000, 37.4000, 37.3000, 37.6000, 36.8000,\n",
       "         36.4000, 36.0000, 35.9000, 35.3000, 35.0000, 34.7000, 34.3000, 33.7000,\n",
       "         33.1000, 32.8000, 32.0000, 32.1000, 31.3000, 30.9000, 30.6000, 29.8000,\n",
       "         29.3000, 28.6000, 28.1000, 27.7000, 26.6000, 25.2000, 24.3000, 23.2000,\n",
       "         22.1000, 21.1000, 20.1000, 19.9000, 19.9000, 19.6000, 19.2000, 18.8000,\n",
       "         18.6000, 18.2000, 17.8000, 17.6000, 17.3000, 16.9000, 16.7000, 16.3000,\n",
       "         16.0000, 15.6000, 15.2000, 14.8000, 14.4000, 14.1000, 13.8000, 13.6000,\n",
       "         13.6000, 13.7000, 13.6000, 13.7000, 13.6000, 13.4000, 13.3000, 13.2000,\n",
       "         13.1000, 13.0000, 12.9000, 12.8000, 12.7000, 12.6000, 12.6000, 12.6000,\n",
       "         12.4000, 12.2000, 12.0000, 11.9000, 11.8000, 11.8000, 11.7000, 11.7000,\n",
       "         11.7000, 11.6000, 11.5000, 11.4000, 11.4000, 11.4000, 11.2000, 11.1000,\n",
       "         11.3000, 11.4000, 11.3000, 11.2000, 11.2000, 11.1000, 11.0000, 10.8000,\n",
       "         10.9000, 10.7000, 10.7000, 10.7000, 10.6000, 10.7000, 10.6000, 10.5000,\n",
       "         10.4000, 10.4000, 10.3000, 10.2000, 10.1000,  9.9000,  9.9000,  9.8000,\n",
       "          9.8000,  9.7000,  9.6000,  9.6000,  9.5000,  9.5000,  9.4000,  9.3000,\n",
       "          9.4000,  9.3000,  9.2000,  9.2000,  9.1000,  9.0000,  9.1000,  9.0000,\n",
       "          8.9000,  8.8000,  8.8000,  8.7000,  8.7000,  8.5000,  8.4000,  8.6000,\n",
       "          8.5000,  8.5000,  8.7000,  8.6000,  8.5000,  8.3000,  8.4000,  8.3000,\n",
       "          8.4000,  8.3000,  8.4000,  8.3000,  8.2000,  8.2000,  8.2000,  8.1000]])"
      ]
     },
     "execution_count": 654,
     "metadata": {},
     "output_type": "execute_result"
    }
   ],
   "source": [
    "actuals"
   ]
  },
  {
   "cell_type": "code",
   "execution_count": 655,
   "id": "68fc3763",
   "metadata": {},
   "outputs": [
    {
     "data": {
      "text/plain": [
       "(1, 200)"
      ]
     },
     "execution_count": 655,
     "metadata": {},
     "output_type": "execute_result"
    }
   ],
   "source": [
    "predictions.detach().numpy().shape"
   ]
  },
  {
   "cell_type": "code",
   "execution_count": 656,
   "id": "6093ccac",
   "metadata": {},
   "outputs": [
    {
     "data": {
      "text/plain": [
       "tensor(0.2297)"
      ]
     },
     "execution_count": 656,
     "metadata": {},
     "output_type": "execute_result"
    }
   ],
   "source": [
    "SMAPE()(predictions, actuals)"
   ]
  },
  {
   "cell_type": "code",
   "execution_count": 657,
   "id": "bc578af2",
   "metadata": {},
   "outputs": [],
   "source": [
    "raw_predictions, x = net.predict(val_dataloader, mode=\"raw\", return_x=True)\n"
   ]
  },
  {
   "cell_type": "code",
   "execution_count": null,
   "id": "836d6b3c",
   "metadata": {},
   "outputs": [],
   "source": []
  },
  {
   "cell_type": "code",
   "execution_count": 658,
   "id": "fca067a8",
   "metadata": {},
   "outputs": [
    {
     "data": {
      "image/png": "[encoded data removed]",
      "text/plain": [
       "<Figure size 432x288 with 1 Axes>"
      ]
     },
     "metadata": {
      "needs_background": "light"
     },
     "output_type": "display_data"
    }
   ],
   "source": [
    "net.plot_prediction(x, raw_predictions, idx=0, add_loss_to_title=True);"
   ]
  },
  {
   "cell_type": "code",
   "execution_count": 659,
   "id": "b3f81566",
   "metadata": {},
   "outputs": [
    {
     "data": {
      "image/png": "[encoded data removed]",
      "text/plain": [
       "<Figure size 432x576 with 2 Axes>"
      ]
     },
     "metadata": {
      "needs_background": "light"
     },
     "output_type": "display_data"
    }
   ],
   "source": [
    "net.plot_interpretation(x, raw_predictions, idx=0);\n"
   ]
  },
  {
   "cell_type": "code",
   "execution_count": null,
   "id": "e8232070",
   "metadata": {},
   "outputs": [],
   "source": []
  },
  {
   "cell_type": "code",
   "execution_count": null,
   "id": "7f9cb30b",
   "metadata": {},
   "outputs": [],
   "source": []
  },
  {
   "cell_type": "code",
   "execution_count": null,
   "id": "75caf90a",
   "metadata": {},
   "outputs": [],
   "source": []
  },
  {
   "cell_type": "code",
   "execution_count": null,
   "id": "fc8af45e",
   "metadata": {},
   "outputs": [],
   "source": []
  },
  {
   "cell_type": "code",
   "execution_count": null,
   "id": "d3e684ae",
   "metadata": {},
   "outputs": [],
   "source": []
  },
  {
   "cell_type": "code",
   "execution_count": null,
   "id": "39dd7a82",
   "metadata": {},
   "outputs": [],
   "source": []
  },
  {
   "cell_type": "code",
   "execution_count": 3,
   "id": "7e921f47",
   "metadata": {},
   "outputs": [],
   "source": [
    "from neuralprophet import metrics\n"
   ]
  },
  {
   "cell_type": "code",
   "execution_count": 59,
   "id": "ee631fd5",
   "metadata": {},
   "outputs": [],
   "source": [
    "class NBeatsNP:\n",
    "    def __init__(\n",
    "        self,\n",
    "        max_encoder_length = 150,\n",
    "        batch_size = None,\n",
    "        epochs = 100,\n",
    "        num_gpus = 0,\n",
    "        patience_early_stopping = 10,\n",
    "        early_stop = True,\n",
    "        weight_decay=1e-2,\n",
    "        learning_rate=3e-2,\n",
    "        auto_lr_find=True,\n",
    "        num_workers=3,\n",
    "        loss_func = 'Huber'\n",
    "    ):\n",
    "        \n",
    "        self.batch_size = batch_size\n",
    "        \n",
    "        self.max_encoder_length = max_encoder_length\n",
    "\n",
    "        self.epochs = epochs\n",
    "        self.num_gpus = num_gpus\n",
    "        self.patience_early_stopping = patience_early_stopping\n",
    "        self.early_stop = early_stop\n",
    "        self.weight_decay = weight_decay\n",
    "        self.learning_rate=learning_rate\n",
    "        self.auto_lr_find=auto_lr_find\n",
    "        self.num_workers = num_workers\n",
    "        \n",
    "        self.loss_func = loss_func\n",
    "        \n",
    "        if type(self.loss_func) == str:\n",
    "            if self.loss_func.lower() in [\"huber\", \"smoothl1\", \"smoothl1loss\"]:\n",
    "                self.loss_func = torch.nn.SmoothL1Loss()\n",
    "            elif self.loss_func.lower() in [\"mae\", \"l1\", \"l1loss\"]:\n",
    "                self.loss_func = torch.nn.L1Loss()\n",
    "            elif self.loss_func.lower() in [\"mse\", \"mseloss\", \"l2\", \"l2loss\"]:\n",
    "                self.loss_func = torch.nn.MSELoss()\n",
    "            else:\n",
    "                raise NotImplementedError(\"Loss function {} name not defined\".format(self.loss_func))\n",
    "        elif callable(self.loss_func):\n",
    "            pass\n",
    "        elif hasattr(torch.nn.modules.loss, self.loss_func.__class__.__name__):\n",
    "            pass\n",
    "        else:\n",
    "            raise NotImplementedError(\"Loss function {} not found\".format(self.loss_func))\n",
    "        \n",
    "        \n",
    "        \n",
    "        \n",
    "        self.metrics = metrics.MetricsCollection(\n",
    "            metrics=[\n",
    "                metrics.LossMetric(self.loss_func),\n",
    "                metrics.MAE(),\n",
    "                metrics.MSE(),\n",
    "            ],\n",
    "            value_metrics=[\n",
    "                # metrics.ValueMetric(\"Loss\"),\n",
    "            ],\n",
    "        )\n",
    "        \n",
    "        self.val_metrics = metrics.MetricsCollection([m.new() for m in self.metrics.batch_metrics])\n",
    "        \n",
    "    \n",
    "    def _init_model(self, training, train_dataloader):\n",
    "        model = NBeats.from_dataset(training,\n",
    "                          learning_rate=self.learning_rate,\n",
    "                          log_gradient_flow=False,\n",
    "                          weight_decay=self.weight_decay,\n",
    "                                    )\n",
    "        if self.auto_lr_find:\n",
    "            res = self.trainer.tuner.lr_find(model,\n",
    "                                        train_dataloader=train_dataloader,\n",
    "                                        min_lr=1e-5,\n",
    "                                        max_lr=1e2)\n",
    "            print(res.suggestion())\n",
    "\n",
    "            model.hparams.learning_rate = res.suggestion()\n",
    "            self.learning_rate = res.suggestion()\n",
    "            \n",
    "\n",
    "        return model\n",
    "        \n",
    "    def set_auto_batch_epoch(self,\n",
    "                                n_data: int,\n",
    "                                min_batch: int = 16,\n",
    "                                max_batch: int = 256,\n",
    "                                min_epoch: int = 40,\n",
    "                                max_epoch: int = 400,\n",
    "                            ):\n",
    "        assert n_data >= 1\n",
    "        log_data = np.log10(n_data)\n",
    "        if self.batch_size is None:\n",
    "            self.batch_size = 2 ** int(2 + log_data)\n",
    "            self.batch_size = min(max_batch, max(min_batch, self.batch_size))\n",
    "            self.batch_size = min(n_data, self.batch_size)\n",
    "\n",
    "    def _handle_missing_data(sefl, df, freq, predicting=False):\n",
    "        \"\"\"Checks, auto-imputes and normalizes new data\n",
    "\n",
    "        Args:\n",
    "            df (pd.DataFrame): raw data with columns 'ds' and 'y'\n",
    "            freq (str): data frequency\n",
    "            predicting (bool): when no lags, allow NA values in 'y' of forecast series or 'y' to miss completely\n",
    "\n",
    "        Returns:\n",
    "            pre-processed df\n",
    "        \"\"\"\n",
    "\n",
    "        impute_limit_linear = 5\n",
    "        impute_rolling = 20\n",
    "\n",
    "\n",
    "        df, missing_dates = df_utils.add_missing_dates_nan(df, freq=freq)\n",
    "\n",
    "        # impute missing values\n",
    "        data_columns = []\n",
    "        data_columns.append(\"y\")\n",
    "\n",
    "        for column in data_columns:\n",
    "            sum_na = sum(df[column].isnull())\n",
    "            if sum_na > 0:\n",
    "                df.loc[:, column], remaining_na = df_utils.fill_linear_then_rolling_avg(\n",
    "                        df[column],\n",
    "                        limit_linear=impute_limit_linear,\n",
    "                        rolling=impute_rolling,\n",
    "                        )\n",
    "                if remaining_na > 0:\n",
    "                    raise ValueError(\n",
    "                        \"More than {} consecutive missing values encountered in column {}. \"\n",
    "                        \"{} NA remain. Please preprocess data manually.\".format(\n",
    "                            2 * impute_limit_linear + impute_rolling, column, remaining_na\n",
    "                        )\n",
    "                    )\n",
    "        return df\n",
    "    \n",
    "    def _create_dataset(self, df, freq, valid_p):\n",
    "        print(df.shape)\n",
    "        df = df_utils.check_dataframe(df)\n",
    "        df = self._handle_missing_data(df, freq)\n",
    "        df = df[['ds', 'y']]\n",
    "        df['time_idx'] = range(df.shape[0])\n",
    "        df['series'] = 0\n",
    "        self.n_data = df.shape[0]\n",
    "        self.set_auto_batch_epoch(self.n_data)\n",
    "        \n",
    "        max_prediction_length = int(valid_p*df.shape[0])\n",
    "        training_cutoff = df.shape[0] - int(valid_p*df.shape[0])\n",
    "\n",
    "        context_length = self.max_encoder_length\n",
    "        prediction_length = max_prediction_length\n",
    "        \n",
    "        training = TimeSeriesDataSet(\n",
    "            df.iloc[:training_cutoff],\n",
    "            time_idx=\"time_idx\",\n",
    "            target=\"y\",\n",
    "            categorical_encoders={\"series\": NaNLabelEncoder().fit(df.series)},\n",
    "            group_ids=[\"series\"],\n",
    "            min_encoder_length=context_length,\n",
    "            max_encoder_length=context_length,\n",
    "            max_prediction_length=prediction_length,\n",
    "            min_prediction_length=prediction_length,\n",
    "            time_varying_unknown_reals=[\"y\"],\n",
    "            randomize_length=None,\n",
    "            add_relative_time_idx=False,\n",
    "            add_target_scales=False,\n",
    "        )\n",
    "\n",
    "        validation = TimeSeriesDataSet.from_dataset(training,\n",
    "                                                    df,\n",
    "                                                    min_prediction_idx=training_cutoff)\n",
    "\n",
    "        train_dataloader = training.to_dataloader(train=True,\n",
    "                                                  batch_size=self.batch_size,\n",
    "                                                  num_workers=self.num_workers)\n",
    "        val_dataloader = validation.to_dataloader(train=False,\n",
    "                                                  batch_size=self.batch_size,\n",
    "                                                  num_workers=self.num_workers)\n",
    "        \n",
    "        return training, train_dataloader, val_dataloader\n",
    "    \n",
    "    def _train(self, training, train_dataloader, val_dataloader):\n",
    "        callbacks = []\n",
    "        if self.early_stop:\n",
    "            early_stop_callback = EarlyStopping(monitor=\"val_loss\",\n",
    "                                                min_delta=1e-4,\n",
    "                                                patience=self.patience_early_stopping,\n",
    "                                                verbose=False,\n",
    "                                                mode=\"min\")\n",
    "            callbacks=[early_stop_callback]\n",
    "\n",
    "        self.trainer = pl.Trainer(\n",
    "            max_epochs=self.epochs,\n",
    "            gpus=self.num_gpus,\n",
    "            weights_summary=\"top\",\n",
    "            gradient_clip_val=0.1,\n",
    "            callbacks=callbacks,\n",
    "            checkpoint_callback=False,\n",
    "            logger=False,\n",
    "        )\n",
    "        \n",
    "        self.model = self._init_model(training, train_dataloader)\n",
    "        self.model.set_forecaster(self)\n",
    "        \n",
    "        self.trainer.fit(self.model,\n",
    "                    train_dataloader=train_dataloader,\n",
    "                    val_dataloaders=val_dataloader,\n",
    "                   )\n",
    "        \n",
    "        \n",
    "    \n",
    "    def fit(self, df, freq, valid_p=0.2):\n",
    "        \n",
    "        training, train_dataloader, val_dataloader = self._create_dataset(df, freq, valid_p)\n",
    "        self._train(training, train_dataloader, val_dataloader)\n",
    "        \n",
    "\n",
    "        \n",
    "    def _hyperparameter_optimization(self, df, freq, valid_p=0.2):\n",
    "        train_dataloader, val_dataloader = _create_dataset(self, df, freq, valid_p)\n",
    "        self.model = _init_model(self, train_loader)\n",
    "        \n",
    "        \n",
    "        \n",
    "        \n",
    "#     def test(self, df):\n",
    "        \n",
    "        \n",
    "#     def make_future_dataframe(self, df, events_df=None, regressors_df=None, periods=None, n_historic_predictions=0):\n",
    "#         df = df.copy(deep=True)\n",
    "#         if events_df is not None:\n",
    "#             events_df = events_df.copy(deep=True).reset_index(drop=True)\n",
    "#         if regressors_df is not None:\n",
    "#             regressors_df = regressors_df.copy(deep=True).reset_index(drop=True)\n",
    "#         n_lags = 0 if self.n_lags is None else self.n_lags\n",
    "#         if periods is None:\n",
    "#             periods = 1 if n_lags == 0 else self.n_forecasts\n",
    "#         else:\n",
    "#             assert periods >= 0\n",
    "\n",
    "#         if isinstance(n_historic_predictions, bool):\n",
    "#             if n_historic_predictions:\n",
    "#                 n_historic_predictions = len(df) - n_lags\n",
    "#             else:\n",
    "#                 n_historic_predictions = 0\n",
    "#         elif not isinstance(n_historic_predictions, int):\n",
    "#             log.error(\"non-integer value for n_historic_predictions set to zero.\")\n",
    "#             n_historic_predictions = 0\n",
    "\n",
    "#         if periods == 0 and n_historic_predictions == 0:\n",
    "#             raise ValueError(\"Set either history or future to contain more than zero values.\")\n",
    "\n",
    "#         # check for external regressors known in future\n",
    "#         if self.regressors_config is not None and periods > 0:\n",
    "#             if regressors_df is None:\n",
    "#                 raise ValueError(\"Future values of all user specified regressors not provided\")\n",
    "#             else:\n",
    "#                 for regressor in self.regressors_config.keys():\n",
    "#                     if regressor not in regressors_df.columns:\n",
    "#                         raise ValueError(\"Future values of user specified regressor {} not provided\".format(regressor))\n",
    "\n",
    "#         last_date = pd.to_datetime(df[\"ds\"].copy(deep=True)).sort_values().max()\n",
    "\n",
    "#         if len(df) < n_lags:\n",
    "#             raise ValueError(\"Insufficient data for a prediction\")\n",
    "#         elif len(df) < n_lags + n_historic_predictions:\n",
    "#             log.warning(\n",
    "#                 \"Insufficient data for {} historic forecasts, reduced to {}.\".format(\n",
    "#                     n_historic_predictions, len(df) - n_lags\n",
    "#                 )\n",
    "#             )\n",
    "#             n_historic_predictions = len(df) - n_lags\n",
    "#         if (n_historic_predictions + n_lags) == 0:\n",
    "#             df = pd.DataFrame(columns=df.columns)\n",
    "#         else:\n",
    "#             df = df[-(n_lags + n_historic_predictions) :]\n",
    "\n",
    "#         if len(df) > 0:\n",
    "#             if len(df.columns) == 1 and \"ds\" in df:\n",
    "#                 assert n_lags == 0\n",
    "#                 df = df_utils.check_dataframe(df, check_y=False)\n",
    "#             else:\n",
    "#                 df = df_utils.check_dataframe(\n",
    "#                     df, check_y=n_lags > 0, covariates=self.config_covar, events=self.events_config\n",
    "#                 )\n",
    "#                 df = self._handle_missing_data(df, freq=self.data_freq, predicting=True)\n",
    "#             df = df_utils.normalize(df, self.data_params)\n",
    "\n",
    "#         # future data\n",
    "#         # check for external events known in future\n",
    "#         if self.events_config is not None and periods > 0 and events_df is None:\n",
    "#             log.warning(\n",
    "#                 \"Future values not supplied for user specified events. \"\n",
    "#                 \"All events being treated as not occurring in future\"\n",
    "#             )\n",
    "\n",
    "#         if n_lags > 0:\n",
    "#             if periods > 0 and periods != self.n_forecasts:\n",
    "#                 periods = self.n_forecasts\n",
    "#                 log.warning(\n",
    "#                     \"Number of forecast steps is defined by n_forecasts. \" \"Adjusted to {}.\".format(self.n_forecasts)\n",
    "#                 )\n",
    "\n",
    "#         if periods > 0:\n",
    "#             future_df = df_utils.make_future_df(\n",
    "#                 df_columns=df.columns,\n",
    "#                 last_date=last_date,\n",
    "#                 periods=periods,\n",
    "#                 freq=self.data_freq,\n",
    "#                 events_config=self.events_config,\n",
    "#                 events_df=events_df,\n",
    "#                 regressor_config=self.regressors_config,\n",
    "#                 regressors_df=regressors_df,\n",
    "#             )\n",
    "#             future_df = df_utils.normalize(future_df, self.data_params)\n",
    "#             if len(df) > 0:\n",
    "#                 df = df.append(future_df)\n",
    "#             else:\n",
    "#                 df = future_df\n",
    "#         df.reset_index(drop=True, inplace=True)\n",
    "#         return df\n",
    "    \n",
    "#     def predict(self, df):\n",
    "#         \"\"\"Runs the model to make predictions.\n",
    "\n",
    "#         and compute stats (MSE, MAE)\n",
    "#         Args:\n",
    "#             df (pandas DataFrame): Dataframe with columns 'ds' datestamps, 'y' time series values and\n",
    "#                 other external variables\n",
    "\n",
    "#         Returns:\n",
    "#             df_forecast (pandas DataFrame): columns 'ds', 'y', 'trend' and ['yhat<i>']\n",
    "#         \"\"\"\n",
    "#         # TODO: Implement data sanity checks?\n",
    "#         if self.fitted is False:\n",
    "#             log.warning(\"Model has not been fitted. Predictions will be random.\")\n",
    "#         dataset = self._create_dataset(df, predict_mode=True)\n",
    "#         loader = DataLoader(dataset, batch_size=min(1024, len(df)), shuffle=False, drop_last=False)\n",
    "\n",
    "#         predicted_vectors = list()\n",
    "#         component_vectors = None\n",
    "#         with torch.no_grad():\n",
    "#             self.model.eval()\n",
    "#             for inputs, _ in loader:\n",
    "#                 predicted = self.model.forward(inputs)\n",
    "#                 predicted_vectors.append(predicted.detach().numpy())\n",
    "#                 components = self.model.compute_components(inputs)\n",
    "#                 if component_vectors is None:\n",
    "#                     component_vectors = {name: [value.detach().numpy()] for name, value in components.items()}\n",
    "#                 else:\n",
    "#                     for name, value in components.items():\n",
    "#                         component_vectors[name].append(value.detach().numpy())\n",
    "#         components = {name: np.concatenate(value) for name, value in component_vectors.items()}\n",
    "#         predicted = np.concatenate(predicted_vectors)\n",
    "\n",
    "#         scale_y, shift_y = self.data_params[\"y\"].scale, self.data_params[\"y\"].shift\n",
    "#         predicted = predicted * scale_y + shift_y\n",
    "#         for name, value in components.items():\n",
    "#             if \"multiplicative\" in name:\n",
    "#                 continue\n",
    "#             elif \"event_\" in name:\n",
    "#                 event_name = name.split(\"_\")[1]\n",
    "#                 if self.events_config is not None and event_name in self.events_config:\n",
    "#                     if self.events_config[event_name].mode == \"multiplicative\":\n",
    "#                         continue\n",
    "#                 elif self.country_holidays_config is not None and event_name in self.country_holidays_config:\n",
    "#                     if self.country_holidays_config[event_name].mode == \"multiplicative\":\n",
    "#                         continue\n",
    "#             elif \"season\" in name and self.season_config.mode == \"multiplicative\":\n",
    "#                 continue\n",
    "#             # scale additive components\n",
    "#             components[name] = value * scale_y\n",
    "#             if \"trend\" in name:\n",
    "#                 components[name] += shift_y\n",
    "\n",
    "#         cols = [\"ds\", \"y\"]  # cols to keep from df\n",
    "#         df_forecast = pd.concat((df[cols],), axis=1)\n",
    "\n",
    "#         # create a line for each forecast_lag\n",
    "#         # 'yhat<i>' is the forecast for 'y' at 'ds' from i steps ago.\n",
    "#         for i in range(self.n_forecasts):\n",
    "#             forecast_lag = i + 1\n",
    "#             forecast = predicted[:, forecast_lag - 1]\n",
    "#             pad_before = self.n_lags + forecast_lag - 1\n",
    "#             pad_after = self.n_forecasts - forecast_lag\n",
    "#             yhat = np.concatenate(([None] * pad_before, forecast, [None] * pad_after))\n",
    "#             df_forecast[\"yhat{}\".format(i + 1)] = yhat\n",
    "#             df_forecast[\"residual{}\".format(i + 1)] = yhat - df_forecast[\"y\"]\n",
    "\n",
    "#         lagged_components = [\n",
    "#             \"ar\",\n",
    "#         ]\n",
    "#         if self.config_covar is not None:\n",
    "#             for name in self.config_covar.keys():\n",
    "#                 lagged_components.append(\"lagged_regressor_{}\".format(name))\n",
    "#         for comp in lagged_components:\n",
    "#             if comp in components:\n",
    "#                 for i in range(self.n_forecasts):\n",
    "#                     forecast_lag = i + 1\n",
    "#                     forecast = components[comp][:, forecast_lag - 1]\n",
    "#                     pad_before = self.n_lags + forecast_lag - 1\n",
    "#                     pad_after = self.n_forecasts - forecast_lag\n",
    "#                     yhat = np.concatenate(([None] * pad_before, forecast, [None] * pad_after))\n",
    "#                     df_forecast[\"{}{}\".format(comp, i + 1)] = yhat\n",
    "\n",
    "#         # only for non-lagged components\n",
    "#         for comp in components:\n",
    "#             if comp not in lagged_components:\n",
    "#                 forecast_0 = components[comp][0, :]\n",
    "#                 forecast_rest = components[comp][1:, self.n_forecasts - 1]\n",
    "#                 yhat = np.concatenate(([None] * self.n_lags, forecast_0, forecast_rest))\n",
    "#                 df_forecast[comp] = yhat\n",
    "#         return df_forecast"
   ]
  },
  {
   "cell_type": "code",
   "execution_count": null,
   "id": "724f4173",
   "metadata": {},
   "outputs": [],
   "source": []
  },
  {
   "cell_type": "code",
   "execution_count": 60,
   "id": "49f6266b",
   "metadata": {},
   "outputs": [],
   "source": [
    "if 'google.colab' in str(get_ipython()):\n",
    "    !pip install git+https://github.com/ourownstory/neural_prophet.git # may take a while\n",
    "    #!pip install neuralprophet # much faster, but may not have the latest upgrades/bugfixes\n",
    "    data_location = \"https://raw.githubusercontent.com/ourownstory/neural_prophet/master/\"\n",
    "else:\n",
    "    data_location = \"../\"\n",
    "\n",
    "df = pd.read_csv(data_location + \"example_data/yosemite_temps.csv\")\n",
    "df.head(3)\n",
    "freq = '5min'\n",
    "\n",
    "df = df.iloc[:1000]"
   ]
  },
  {
   "cell_type": "code",
   "execution_count": null,
   "id": "bf4260aa",
   "metadata": {},
   "outputs": [],
   "source": []
  },
  {
   "cell_type": "code",
   "execution_count": 63,
   "id": "8a3ecf85",
   "metadata": {},
   "outputs": [],
   "source": [
    "m = NBeatsNP(\n",
    "        max_encoder_length = 150,\n",
    "        batch_size = None,\n",
    "        epochs = 100,\n",
    "        num_gpus = 0,\n",
    "        patience_early_stopping = 10,\n",
    "        early_stop = True,\n",
    "        weight_decay=1e-2,\n",
    "        learning_rate=3e-2,\n",
    "        auto_lr_find=False,\n",
    "        num_workers=3,\n",
    "    )"
   ]
  },
  {
   "cell_type": "code",
   "execution_count": 64,
   "id": "fa2d86dd",
   "metadata": {
    "scrolled": false
   },
   "outputs": [
    {
     "name": "stderr",
     "output_type": "stream",
     "text": [
      "GPU available: False, used: False\n",
      "TPU available: False, using: 0 TPU cores\n",
      "\n",
      "  | Name            | Type       | Params\n",
      "-----------------------------------------------\n",
      "0 | loss            | MASE       | 0     \n",
      "1 | logging_metrics | ModuleList | 0     \n",
      "2 | net_blocks      | ModuleList | 2.1 M \n",
      "-----------------------------------------------\n",
      "2.1 M     Trainable params\n",
      "0         Non-trainable params\n",
      "2.1 M     Total params\n",
      "8.545     Total estimated model params size (MB)\n"
     ]
    },
    {
     "name": "stdout",
     "output_type": "stream",
     "text": [
      "(1000, 2)\n"
     ]
    },
    {
     "data": {
      "application/vnd.jupyter.widget-view+json": {
       "model_id": "4f49449c765248dd95e2aa0e243ab134",
       "version_major": 2,
       "version_minor": 0
      },
      "text/plain": [
       "Validation sanity check: 0it [00:00, ?it/s]"
      ]
     },
     "metadata": {},
     "output_type": "display_data"
    },
    {
     "name": "stdout",
     "output_type": "stream",
     "text": [
      "tensor([15.5917, 13.7537, 12.6762, 12.7285, 13.3784, 13.6324, 12.8227, 11.1588,\n",
      "         9.6121,  9.1909, 10.1346, 11.6566, 12.4819, 11.8281, 10.1032,  8.7437,\n",
      "         9.2239, 11.9010, 15.5459, 17.9849, 17.4964, 14.0385,  9.4320,  6.3071,\n",
      "         6.4664,  9.7426, 14.1174, 17.0302, 17.0018, 14.5013, 11.5118, 10.1347,\n",
      "        11.2009, 13.8000, 15.9736, 16.0250, 13.5367,  9.4748,  5.4464,  2.7360,\n",
      "         1.8005,  2.4465,  4.3595,  7.4247, 11.5579, 16.2647, 20.4614, 22.9005,\n",
      "        23.0167, 21.5447, 20.2982, 21.0702, 24.3131, 28.5464, 31.0393, 29.4470,\n",
      "        23.3623, 14.7204,  6.7272,  1.9939,  1.1216,  2.6747,  4.5022,  5.4080,\n",
      "         5.9300,  7.6592, 11.6342, 17.0709, 21.4835, 22.2327, 18.4387, 11.8403,\n",
      "         5.8650,  3.4567,  5.1537,  8.8088, 11.2219, 10.5708,  7.8838,  6.4012,\n",
      "         9.1529, 16.4055, 24.8546, 29.3307, 26.0615, 15.3870,  2.0416,  0.0000,\n",
      "         0.0000,  0.0000, 11.8922, 21.5087, 24.2827, 20.2144, 13.3796,  9.0961,\n",
      "        10.5130, 16.7659, 23.7450, 26.8291, 23.7656, 15.9195,  7.2607,  1.8951,\n",
      "         1.7524,  5.7763, 10.9135, 14.0951, 13.9367, 11.2403,  8.2199,  7.1021,\n",
      "         8.9666, 13.3672, 18.7350, 23.1813, 25.2601, 24.4279, 21.1485, 16.6921,\n",
      "        12.6919, 10.5469, 10.8548, 13.1353, 16.0515, 18.0921, 18.3781, 17.1140,\n",
      "        15.3758, 14.3418, 14.4605, 15.1310, 15.1406, 13.5810, 10.6062,  7.4705,\n",
      "         5.7757,  6.4128,  8.9278, 11.7703, 13.2857, 12.7930, 11.0225,  9.6168,\n",
      "        10.0340, 12.5870, 16.2432, 19.2837, 20.3506, 19.1905, 16.6572, 14.0651,\n",
      "        12.3947, 11.8761, 12.1366, 12.6727, 13.2203, 13.7600, 14.2433, 14.3727,\n",
      "        13.6979, 11.9982,  9.6205,  7.4355,  6.3496,  6.6868,  7.9083,  8.9342,\n",
      "         8.8960,  7.8012,  6.6082,  6.6083,  8.5069, 11.8403, 15.1609, 16.9012,\n",
      "        16.3544, 14.1186, 11.7109, 10.6192, 11.4246, 13.5553, 15.7825, 17.0676,\n",
      "        17.1613, 16.5800, 16.0415, 15.8209, 15.5068, 14.3232, 11.7720,  8.1374,\n",
      "         4.5092,  2.3136,  2.6467,  5.7773, 11.0325, 17.0370, 22.1415, 24.8823])\n",
      "tensor([15.5917, 13.7537, 12.6762, 12.7285, 13.3784, 13.6324, 12.8227, 11.1588,\n",
      "         9.6121,  9.1909, 10.1346, 11.6566, 12.4819, 11.8281, 10.1032,  8.7437,\n",
      "         9.2239, 11.9010, 15.5459, 17.9849, 17.4964, 14.0385,  9.4320,  6.3071,\n",
      "         6.4664,  9.7426, 14.1174, 17.0302, 17.0018, 14.5013, 11.5118, 10.1347,\n",
      "        11.2009, 13.8000, 15.9736, 16.0250, 13.5367,  9.4748,  5.4464,  2.7360,\n",
      "         1.8005,  2.4465,  4.3595,  7.4247, 11.5579, 16.2647, 20.4614, 22.9005,\n",
      "        23.0167, 21.5447, 20.2982, 21.0702, 24.3131, 28.5464, 31.0393, 29.4470,\n",
      "        23.3623, 14.7204,  6.7272,  1.9939,  1.1216,  2.6747,  4.5022,  5.4080,\n",
      "         5.9300,  7.6592, 11.6342, 17.0709, 21.4835, 22.2327, 18.4387, 11.8403,\n",
      "         5.8650,  3.4567,  5.1537,  8.8088, 11.2219, 10.5708,  7.8838,  6.4012,\n",
      "         9.1529, 16.4055, 24.8546, 29.3307, 26.0615, 15.3870,  2.0416,  0.0000,\n",
      "         0.0000,  0.0000, 11.8922, 21.5087, 24.2827, 20.2144, 13.3796,  9.0961,\n",
      "        10.5130, 16.7659, 23.7450, 26.8291, 23.7656, 15.9195,  7.2607,  1.8951,\n",
      "         1.7524,  5.7763, 10.9135, 14.0951, 13.9367, 11.2403,  8.2199,  7.1021,\n",
      "         8.9666, 13.3672, 18.7350, 23.1813, 25.2601, 24.4279, 21.1485, 16.6921,\n",
      "        12.6919, 10.5469, 10.8548, 13.1353, 16.0515, 18.0921, 18.3781, 17.1140,\n",
      "        15.3758, 14.3418, 14.4605, 15.1310, 15.1406, 13.5810, 10.6062,  7.4705,\n",
      "         5.7757,  6.4128,  8.9278, 11.7703, 13.2857, 12.7930, 11.0225,  9.6168,\n",
      "        10.0340, 12.5870, 16.2432, 19.2837, 20.3506, 19.1905, 16.6572, 14.0651,\n",
      "        12.3947, 11.8761, 12.1366, 12.6727, 13.2203, 13.7600, 14.2433, 14.3727,\n",
      "        13.6979, 11.9982,  9.6205,  7.4355,  6.3496,  6.6868,  7.9083,  8.9342,\n",
      "         8.8960,  7.8012,  6.6082,  6.6083,  8.5069, 11.8403, 15.1609, 16.9012,\n",
      "        16.3544, 14.1186, 11.7109, 10.6192, 11.4246, 13.5553, 15.7825, 17.0676,\n",
      "        17.1613, 16.5800, 16.0415, 15.8209, 15.5068, 14.3232, 11.7720,  8.1374,\n",
      "         4.5092,  2.3136,  2.6467,  5.7773, 11.0325, 17.0370, 22.1415, 24.8823])\n"
     ]
    },
    {
     "ename": "AttributeError",
     "evalue": "'tuple' object has no attribute 'detach'",
     "output_type": "error",
     "traceback": [
      "\u001b[0;31m---------------------------------------------------------------------------\u001b[0m",
      "\u001b[0;31mAttributeError\u001b[0m                            Traceback (most recent call last)",
      "\u001b[0;32m<ipython-input-64-d4472c6c3ff3>\u001b[0m in \u001b[0;36m<module>\u001b[0;34m\u001b[0m\n\u001b[0;32m----> 1\u001b[0;31m \u001b[0mm\u001b[0m\u001b[0;34m.\u001b[0m\u001b[0mfit\u001b[0m\u001b[0;34m(\u001b[0m\u001b[0mdf\u001b[0m\u001b[0;34m,\u001b[0m \u001b[0mfreq\u001b[0m \u001b[0;34m=\u001b[0m \u001b[0mfreq\u001b[0m\u001b[0;34m)\u001b[0m\u001b[0;34m\u001b[0m\u001b[0;34m\u001b[0m\u001b[0m\n\u001b[0m",
      "\u001b[0;32m<ipython-input-59-6a90de9db178>\u001b[0m in \u001b[0;36mfit\u001b[0;34m(self, df, freq, valid_p)\u001b[0m\n\u001b[1;32m    213\u001b[0m \u001b[0;34m\u001b[0m\u001b[0m\n\u001b[1;32m    214\u001b[0m         \u001b[0mtraining\u001b[0m\u001b[0;34m,\u001b[0m \u001b[0mtrain_dataloader\u001b[0m\u001b[0;34m,\u001b[0m \u001b[0mval_dataloader\u001b[0m \u001b[0;34m=\u001b[0m \u001b[0mself\u001b[0m\u001b[0;34m.\u001b[0m\u001b[0m_create_dataset\u001b[0m\u001b[0;34m(\u001b[0m\u001b[0mdf\u001b[0m\u001b[0;34m,\u001b[0m \u001b[0mfreq\u001b[0m\u001b[0;34m,\u001b[0m \u001b[0mvalid_p\u001b[0m\u001b[0;34m)\u001b[0m\u001b[0;34m\u001b[0m\u001b[0;34m\u001b[0m\u001b[0m\n\u001b[0;32m--> 215\u001b[0;31m         \u001b[0mself\u001b[0m\u001b[0;34m.\u001b[0m\u001b[0m_train\u001b[0m\u001b[0;34m(\u001b[0m\u001b[0mtraining\u001b[0m\u001b[0;34m,\u001b[0m \u001b[0mtrain_dataloader\u001b[0m\u001b[0;34m,\u001b[0m \u001b[0mval_dataloader\u001b[0m\u001b[0;34m)\u001b[0m\u001b[0;34m\u001b[0m\u001b[0;34m\u001b[0m\u001b[0m\n\u001b[0m\u001b[1;32m    216\u001b[0m \u001b[0;34m\u001b[0m\u001b[0m\n\u001b[1;32m    217\u001b[0m \u001b[0;34m\u001b[0m\u001b[0m\n",
      "\u001b[0;32m<ipython-input-59-6a90de9db178>\u001b[0m in \u001b[0;36m_train\u001b[0;34m(self, training, train_dataloader, val_dataloader)\u001b[0m\n\u001b[1;32m    205\u001b[0m         self.trainer.fit(self.model,\n\u001b[1;32m    206\u001b[0m                     \u001b[0mtrain_dataloader\u001b[0m\u001b[0;34m=\u001b[0m\u001b[0mtrain_dataloader\u001b[0m\u001b[0;34m,\u001b[0m\u001b[0;34m\u001b[0m\u001b[0;34m\u001b[0m\u001b[0m\n\u001b[0;32m--> 207\u001b[0;31m                     \u001b[0mval_dataloaders\u001b[0m\u001b[0;34m=\u001b[0m\u001b[0mval_dataloader\u001b[0m\u001b[0;34m,\u001b[0m\u001b[0;34m\u001b[0m\u001b[0;34m\u001b[0m\u001b[0m\n\u001b[0m\u001b[1;32m    208\u001b[0m                    )\n\u001b[1;32m    209\u001b[0m \u001b[0;34m\u001b[0m\u001b[0m\n",
      "\u001b[0;32m~/.conda/envs/neural_prophet/lib/python3.7/site-packages/pytorch_lightning/trainer/trainer.py\u001b[0m in \u001b[0;36mfit\u001b[0;34m(self, model, train_dataloader, val_dataloaders, datamodule)\u001b[0m\n\u001b[1;32m    497\u001b[0m \u001b[0;34m\u001b[0m\u001b[0m\n\u001b[1;32m    498\u001b[0m         \u001b[0;31m# dispath `start_training` or `start_testing` or `start_predicting`\u001b[0m\u001b[0;34m\u001b[0m\u001b[0;34m\u001b[0m\u001b[0;34m\u001b[0m\u001b[0m\n\u001b[0;32m--> 499\u001b[0;31m         \u001b[0mself\u001b[0m\u001b[0;34m.\u001b[0m\u001b[0mdispatch\u001b[0m\u001b[0;34m(\u001b[0m\u001b[0;34m)\u001b[0m\u001b[0;34m\u001b[0m\u001b[0;34m\u001b[0m\u001b[0m\n\u001b[0m\u001b[1;32m    500\u001b[0m \u001b[0;34m\u001b[0m\u001b[0m\n\u001b[1;32m    501\u001b[0m         \u001b[0;31m# plugin will finalized fitting (e.g. ddp_spawn will load trained model)\u001b[0m\u001b[0;34m\u001b[0m\u001b[0;34m\u001b[0m\u001b[0;34m\u001b[0m\u001b[0m\n",
      "\u001b[0;32m~/.conda/envs/neural_prophet/lib/python3.7/site-packages/pytorch_lightning/trainer/trainer.py\u001b[0m in \u001b[0;36mdispatch\u001b[0;34m(self)\u001b[0m\n\u001b[1;32m    544\u001b[0m \u001b[0;34m\u001b[0m\u001b[0m\n\u001b[1;32m    545\u001b[0m         \u001b[0;32melse\u001b[0m\u001b[0;34m:\u001b[0m\u001b[0;34m\u001b[0m\u001b[0;34m\u001b[0m\u001b[0m\n\u001b[0;32m--> 546\u001b[0;31m             \u001b[0mself\u001b[0m\u001b[0;34m.\u001b[0m\u001b[0maccelerator\u001b[0m\u001b[0;34m.\u001b[0m\u001b[0mstart_training\u001b[0m\u001b[0;34m(\u001b[0m\u001b[0mself\u001b[0m\u001b[0;34m)\u001b[0m\u001b[0;34m\u001b[0m\u001b[0;34m\u001b[0m\u001b[0m\n\u001b[0m\u001b[1;32m    547\u001b[0m \u001b[0;34m\u001b[0m\u001b[0m\n\u001b[1;32m    548\u001b[0m     \u001b[0;32mdef\u001b[0m \u001b[0mtrain_or_test_or_predict\u001b[0m\u001b[0;34m(\u001b[0m\u001b[0mself\u001b[0m\u001b[0;34m)\u001b[0m\u001b[0;34m:\u001b[0m\u001b[0;34m\u001b[0m\u001b[0;34m\u001b[0m\u001b[0m\n",
      "\u001b[0;32m~/.conda/envs/neural_prophet/lib/python3.7/site-packages/pytorch_lightning/accelerators/accelerator.py\u001b[0m in \u001b[0;36mstart_training\u001b[0;34m(self, trainer)\u001b[0m\n\u001b[1;32m     71\u001b[0m \u001b[0;34m\u001b[0m\u001b[0m\n\u001b[1;32m     72\u001b[0m     \u001b[0;32mdef\u001b[0m \u001b[0mstart_training\u001b[0m\u001b[0;34m(\u001b[0m\u001b[0mself\u001b[0m\u001b[0;34m,\u001b[0m \u001b[0mtrainer\u001b[0m\u001b[0;34m)\u001b[0m\u001b[0;34m:\u001b[0m\u001b[0;34m\u001b[0m\u001b[0;34m\u001b[0m\u001b[0m\n\u001b[0;32m---> 73\u001b[0;31m         \u001b[0mself\u001b[0m\u001b[0;34m.\u001b[0m\u001b[0mtraining_type_plugin\u001b[0m\u001b[0;34m.\u001b[0m\u001b[0mstart_training\u001b[0m\u001b[0;34m(\u001b[0m\u001b[0mtrainer\u001b[0m\u001b[0;34m)\u001b[0m\u001b[0;34m\u001b[0m\u001b[0;34m\u001b[0m\u001b[0m\n\u001b[0m\u001b[1;32m     74\u001b[0m \u001b[0;34m\u001b[0m\u001b[0m\n\u001b[1;32m     75\u001b[0m     \u001b[0;32mdef\u001b[0m \u001b[0mstart_testing\u001b[0m\u001b[0;34m(\u001b[0m\u001b[0mself\u001b[0m\u001b[0;34m,\u001b[0m \u001b[0mtrainer\u001b[0m\u001b[0;34m)\u001b[0m\u001b[0;34m:\u001b[0m\u001b[0;34m\u001b[0m\u001b[0;34m\u001b[0m\u001b[0m\n",
      "\u001b[0;32m~/.conda/envs/neural_prophet/lib/python3.7/site-packages/pytorch_lightning/plugins/training_type/training_type_plugin.py\u001b[0m in \u001b[0;36mstart_training\u001b[0;34m(self, trainer)\u001b[0m\n\u001b[1;32m    112\u001b[0m     \u001b[0;32mdef\u001b[0m \u001b[0mstart_training\u001b[0m\u001b[0;34m(\u001b[0m\u001b[0mself\u001b[0m\u001b[0;34m,\u001b[0m \u001b[0mtrainer\u001b[0m\u001b[0;34m:\u001b[0m \u001b[0;34m'Trainer'\u001b[0m\u001b[0;34m)\u001b[0m \u001b[0;34m->\u001b[0m \u001b[0;32mNone\u001b[0m\u001b[0;34m:\u001b[0m\u001b[0;34m\u001b[0m\u001b[0;34m\u001b[0m\u001b[0m\n\u001b[1;32m    113\u001b[0m         \u001b[0;31m# double dispatch to initiate the training loop\u001b[0m\u001b[0;34m\u001b[0m\u001b[0;34m\u001b[0m\u001b[0;34m\u001b[0m\u001b[0m\n\u001b[0;32m--> 114\u001b[0;31m         \u001b[0mself\u001b[0m\u001b[0;34m.\u001b[0m\u001b[0m_results\u001b[0m \u001b[0;34m=\u001b[0m \u001b[0mtrainer\u001b[0m\u001b[0;34m.\u001b[0m\u001b[0mrun_train\u001b[0m\u001b[0;34m(\u001b[0m\u001b[0;34m)\u001b[0m\u001b[0;34m\u001b[0m\u001b[0;34m\u001b[0m\u001b[0m\n\u001b[0m\u001b[1;32m    115\u001b[0m \u001b[0;34m\u001b[0m\u001b[0m\n\u001b[1;32m    116\u001b[0m     \u001b[0;32mdef\u001b[0m \u001b[0mstart_testing\u001b[0m\u001b[0;34m(\u001b[0m\u001b[0mself\u001b[0m\u001b[0;34m,\u001b[0m \u001b[0mtrainer\u001b[0m\u001b[0;34m:\u001b[0m \u001b[0;34m'Trainer'\u001b[0m\u001b[0;34m)\u001b[0m \u001b[0;34m->\u001b[0m \u001b[0;32mNone\u001b[0m\u001b[0;34m:\u001b[0m\u001b[0;34m\u001b[0m\u001b[0;34m\u001b[0m\u001b[0m\n",
      "\u001b[0;32m~/.conda/envs/neural_prophet/lib/python3.7/site-packages/pytorch_lightning/trainer/trainer.py\u001b[0m in \u001b[0;36mrun_train\u001b[0;34m(self)\u001b[0m\n\u001b[1;32m    605\u001b[0m             \u001b[0mself\u001b[0m\u001b[0;34m.\u001b[0m\u001b[0mprogress_bar_callback\u001b[0m\u001b[0;34m.\u001b[0m\u001b[0mdisable\u001b[0m\u001b[0;34m(\u001b[0m\u001b[0;34m)\u001b[0m\u001b[0;34m\u001b[0m\u001b[0;34m\u001b[0m\u001b[0m\n\u001b[1;32m    606\u001b[0m \u001b[0;34m\u001b[0m\u001b[0m\n\u001b[0;32m--> 607\u001b[0;31m         \u001b[0mself\u001b[0m\u001b[0;34m.\u001b[0m\u001b[0mrun_sanity_check\u001b[0m\u001b[0;34m(\u001b[0m\u001b[0mself\u001b[0m\u001b[0;34m.\u001b[0m\u001b[0mlightning_module\u001b[0m\u001b[0;34m)\u001b[0m\u001b[0;34m\u001b[0m\u001b[0;34m\u001b[0m\u001b[0m\n\u001b[0m\u001b[1;32m    608\u001b[0m \u001b[0;34m\u001b[0m\u001b[0m\n\u001b[1;32m    609\u001b[0m         \u001b[0;31m# set stage for logging\u001b[0m\u001b[0;34m\u001b[0m\u001b[0;34m\u001b[0m\u001b[0;34m\u001b[0m\u001b[0m\n",
      "\u001b[0;32m~/.conda/envs/neural_prophet/lib/python3.7/site-packages/pytorch_lightning/trainer/trainer.py\u001b[0m in \u001b[0;36mrun_sanity_check\u001b[0;34m(self, ref_model)\u001b[0m\n\u001b[1;32m    862\u001b[0m \u001b[0;34m\u001b[0m\u001b[0m\n\u001b[1;32m    863\u001b[0m             \u001b[0;31m# run eval step\u001b[0m\u001b[0;34m\u001b[0m\u001b[0;34m\u001b[0m\u001b[0;34m\u001b[0m\u001b[0m\n\u001b[0;32m--> 864\u001b[0;31m             \u001b[0m_\u001b[0m\u001b[0;34m,\u001b[0m \u001b[0meval_results\u001b[0m \u001b[0;34m=\u001b[0m \u001b[0mself\u001b[0m\u001b[0;34m.\u001b[0m\u001b[0mrun_evaluation\u001b[0m\u001b[0;34m(\u001b[0m\u001b[0mmax_batches\u001b[0m\u001b[0;34m=\u001b[0m\u001b[0mself\u001b[0m\u001b[0;34m.\u001b[0m\u001b[0mnum_sanity_val_batches\u001b[0m\u001b[0;34m)\u001b[0m\u001b[0;34m\u001b[0m\u001b[0;34m\u001b[0m\u001b[0m\n\u001b[0m\u001b[1;32m    865\u001b[0m \u001b[0;34m\u001b[0m\u001b[0m\n\u001b[1;32m    866\u001b[0m             \u001b[0mself\u001b[0m\u001b[0;34m.\u001b[0m\u001b[0mon_sanity_check_end\u001b[0m\u001b[0;34m(\u001b[0m\u001b[0;34m)\u001b[0m\u001b[0;34m\u001b[0m\u001b[0;34m\u001b[0m\u001b[0m\n",
      "\u001b[0;32m~/.conda/envs/neural_prophet/lib/python3.7/site-packages/pytorch_lightning/trainer/trainer.py\u001b[0m in \u001b[0;36mrun_evaluation\u001b[0;34m(self, max_batches, on_epoch)\u001b[0m\n\u001b[1;32m    724\u001b[0m                 \u001b[0;31m# lightning module methods\u001b[0m\u001b[0;34m\u001b[0m\u001b[0;34m\u001b[0m\u001b[0;34m\u001b[0m\u001b[0m\n\u001b[1;32m    725\u001b[0m                 \u001b[0;32mwith\u001b[0m \u001b[0mself\u001b[0m\u001b[0;34m.\u001b[0m\u001b[0mprofiler\u001b[0m\u001b[0;34m.\u001b[0m\u001b[0mprofile\u001b[0m\u001b[0;34m(\u001b[0m\u001b[0;34m\"evaluation_step_and_end\"\u001b[0m\u001b[0;34m)\u001b[0m\u001b[0;34m:\u001b[0m\u001b[0;34m\u001b[0m\u001b[0;34m\u001b[0m\u001b[0m\n\u001b[0;32m--> 726\u001b[0;31m                     \u001b[0moutput\u001b[0m \u001b[0;34m=\u001b[0m \u001b[0mself\u001b[0m\u001b[0;34m.\u001b[0m\u001b[0mevaluation_loop\u001b[0m\u001b[0;34m.\u001b[0m\u001b[0mevaluation_step\u001b[0m\u001b[0;34m(\u001b[0m\u001b[0mbatch\u001b[0m\u001b[0;34m,\u001b[0m \u001b[0mbatch_idx\u001b[0m\u001b[0;34m,\u001b[0m \u001b[0mdataloader_idx\u001b[0m\u001b[0;34m)\u001b[0m\u001b[0;34m\u001b[0m\u001b[0;34m\u001b[0m\u001b[0m\n\u001b[0m\u001b[1;32m    727\u001b[0m                     \u001b[0moutput\u001b[0m \u001b[0;34m=\u001b[0m \u001b[0mself\u001b[0m\u001b[0;34m.\u001b[0m\u001b[0mevaluation_loop\u001b[0m\u001b[0;34m.\u001b[0m\u001b[0mevaluation_step_end\u001b[0m\u001b[0;34m(\u001b[0m\u001b[0moutput\u001b[0m\u001b[0;34m)\u001b[0m\u001b[0;34m\u001b[0m\u001b[0;34m\u001b[0m\u001b[0m\n\u001b[1;32m    728\u001b[0m \u001b[0;34m\u001b[0m\u001b[0m\n",
      "\u001b[0;32m~/.conda/envs/neural_prophet/lib/python3.7/site-packages/pytorch_lightning/trainer/evaluation_loop.py\u001b[0m in \u001b[0;36mevaluation_step\u001b[0;34m(self, batch, batch_idx, dataloader_idx)\u001b[0m\n\u001b[1;32m    164\u001b[0m             \u001b[0mmodel_ref\u001b[0m\u001b[0;34m.\u001b[0m\u001b[0m_current_fx_name\u001b[0m \u001b[0;34m=\u001b[0m \u001b[0;34m\"validation_step\"\u001b[0m\u001b[0;34m\u001b[0m\u001b[0;34m\u001b[0m\u001b[0m\n\u001b[1;32m    165\u001b[0m             \u001b[0;32mwith\u001b[0m \u001b[0mself\u001b[0m\u001b[0;34m.\u001b[0m\u001b[0mtrainer\u001b[0m\u001b[0;34m.\u001b[0m\u001b[0mprofiler\u001b[0m\u001b[0;34m.\u001b[0m\u001b[0mprofile\u001b[0m\u001b[0;34m(\u001b[0m\u001b[0;34m\"validation_step\"\u001b[0m\u001b[0;34m)\u001b[0m\u001b[0;34m:\u001b[0m\u001b[0;34m\u001b[0m\u001b[0;34m\u001b[0m\u001b[0m\n\u001b[0;32m--> 166\u001b[0;31m                 \u001b[0moutput\u001b[0m \u001b[0;34m=\u001b[0m \u001b[0mself\u001b[0m\u001b[0;34m.\u001b[0m\u001b[0mtrainer\u001b[0m\u001b[0;34m.\u001b[0m\u001b[0maccelerator\u001b[0m\u001b[0;34m.\u001b[0m\u001b[0mvalidation_step\u001b[0m\u001b[0;34m(\u001b[0m\u001b[0margs\u001b[0m\u001b[0;34m)\u001b[0m\u001b[0;34m\u001b[0m\u001b[0;34m\u001b[0m\u001b[0m\n\u001b[0m\u001b[1;32m    167\u001b[0m \u001b[0;34m\u001b[0m\u001b[0m\n\u001b[1;32m    168\u001b[0m         \u001b[0;31m# capture any logged information\u001b[0m\u001b[0;34m\u001b[0m\u001b[0;34m\u001b[0m\u001b[0;34m\u001b[0m\u001b[0m\n",
      "\u001b[0;32m~/.conda/envs/neural_prophet/lib/python3.7/site-packages/pytorch_lightning/accelerators/accelerator.py\u001b[0m in \u001b[0;36mvalidation_step\u001b[0;34m(self, args)\u001b[0m\n\u001b[1;32m    175\u001b[0m \u001b[0;34m\u001b[0m\u001b[0m\n\u001b[1;32m    176\u001b[0m         \u001b[0;32mwith\u001b[0m \u001b[0mself\u001b[0m\u001b[0;34m.\u001b[0m\u001b[0mprecision_plugin\u001b[0m\u001b[0;34m.\u001b[0m\u001b[0mval_step_context\u001b[0m\u001b[0;34m(\u001b[0m\u001b[0;34m)\u001b[0m\u001b[0;34m,\u001b[0m \u001b[0mself\u001b[0m\u001b[0;34m.\u001b[0m\u001b[0mtraining_type_plugin\u001b[0m\u001b[0;34m.\u001b[0m\u001b[0mval_step_context\u001b[0m\u001b[0;34m(\u001b[0m\u001b[0;34m)\u001b[0m\u001b[0;34m:\u001b[0m\u001b[0;34m\u001b[0m\u001b[0;34m\u001b[0m\u001b[0m\n\u001b[0;32m--> 177\u001b[0;31m             \u001b[0;32mreturn\u001b[0m \u001b[0mself\u001b[0m\u001b[0;34m.\u001b[0m\u001b[0mtraining_type_plugin\u001b[0m\u001b[0;34m.\u001b[0m\u001b[0mvalidation_step\u001b[0m\u001b[0;34m(\u001b[0m\u001b[0;34m*\u001b[0m\u001b[0margs\u001b[0m\u001b[0;34m)\u001b[0m\u001b[0;34m\u001b[0m\u001b[0;34m\u001b[0m\u001b[0m\n\u001b[0m\u001b[1;32m    178\u001b[0m \u001b[0;34m\u001b[0m\u001b[0m\n\u001b[1;32m    179\u001b[0m     \u001b[0;32mdef\u001b[0m \u001b[0mtest_step\u001b[0m\u001b[0;34m(\u001b[0m\u001b[0mself\u001b[0m\u001b[0;34m,\u001b[0m \u001b[0margs\u001b[0m\u001b[0;34m)\u001b[0m\u001b[0;34m:\u001b[0m\u001b[0;34m\u001b[0m\u001b[0;34m\u001b[0m\u001b[0m\n",
      "\u001b[0;32m~/.conda/envs/neural_prophet/lib/python3.7/site-packages/pytorch_lightning/plugins/training_type/training_type_plugin.py\u001b[0m in \u001b[0;36mvalidation_step\u001b[0;34m(self, *args, **kwargs)\u001b[0m\n\u001b[1;32m    129\u001b[0m \u001b[0;34m\u001b[0m\u001b[0m\n\u001b[1;32m    130\u001b[0m     \u001b[0;32mdef\u001b[0m \u001b[0mvalidation_step\u001b[0m\u001b[0;34m(\u001b[0m\u001b[0mself\u001b[0m\u001b[0;34m,\u001b[0m \u001b[0;34m*\u001b[0m\u001b[0margs\u001b[0m\u001b[0;34m,\u001b[0m \u001b[0;34m**\u001b[0m\u001b[0mkwargs\u001b[0m\u001b[0;34m)\u001b[0m\u001b[0;34m:\u001b[0m\u001b[0;34m\u001b[0m\u001b[0;34m\u001b[0m\u001b[0m\n\u001b[0;32m--> 131\u001b[0;31m         \u001b[0;32mreturn\u001b[0m \u001b[0mself\u001b[0m\u001b[0;34m.\u001b[0m\u001b[0mlightning_module\u001b[0m\u001b[0;34m.\u001b[0m\u001b[0mvalidation_step\u001b[0m\u001b[0;34m(\u001b[0m\u001b[0;34m*\u001b[0m\u001b[0margs\u001b[0m\u001b[0;34m,\u001b[0m \u001b[0;34m**\u001b[0m\u001b[0mkwargs\u001b[0m\u001b[0;34m)\u001b[0m\u001b[0;34m\u001b[0m\u001b[0;34m\u001b[0m\u001b[0m\n\u001b[0m\u001b[1;32m    132\u001b[0m \u001b[0;34m\u001b[0m\u001b[0m\n\u001b[1;32m    133\u001b[0m     \u001b[0;32mdef\u001b[0m \u001b[0mtest_step\u001b[0m\u001b[0;34m(\u001b[0m\u001b[0mself\u001b[0m\u001b[0;34m,\u001b[0m \u001b[0;34m*\u001b[0m\u001b[0margs\u001b[0m\u001b[0;34m,\u001b[0m \u001b[0;34m**\u001b[0m\u001b[0mkwargs\u001b[0m\u001b[0;34m)\u001b[0m\u001b[0;34m:\u001b[0m\u001b[0;34m\u001b[0m\u001b[0;34m\u001b[0m\u001b[0m\n",
      "\u001b[0;32m<ipython-input-58-44dd34aacaa0>\u001b[0m in \u001b[0;36mvalidation_step\u001b[0;34m(self, batch, batch_idx)\u001b[0m\n\u001b[1;32m    270\u001b[0m         \u001b[0mself\u001b[0m\u001b[0;34m.\u001b[0m\u001b[0mlog\u001b[0m\u001b[0;34m(\u001b[0m\u001b[0;34m\"val_loss\"\u001b[0m\u001b[0;34m,\u001b[0m \u001b[0mlog\u001b[0m\u001b[0;34m[\u001b[0m\u001b[0;34m\"loss\"\u001b[0m\u001b[0;34m]\u001b[0m\u001b[0;34m,\u001b[0m \u001b[0mon_step\u001b[0m\u001b[0;34m=\u001b[0m\u001b[0;32mFalse\u001b[0m\u001b[0;34m,\u001b[0m \u001b[0mon_epoch\u001b[0m\u001b[0;34m=\u001b[0m\u001b[0;32mTrue\u001b[0m\u001b[0;34m,\u001b[0m \u001b[0mprog_bar\u001b[0m\u001b[0;34m=\u001b[0m\u001b[0;32mTrue\u001b[0m\u001b[0;34m)\u001b[0m\u001b[0;34m\u001b[0m\u001b[0;34m\u001b[0m\u001b[0m\n\u001b[1;32m    271\u001b[0m         \u001b[0;32mif\u001b[0m \u001b[0mtype\u001b[0m\u001b[0;34m(\u001b[0m\u001b[0mself\u001b[0m\u001b[0;34m.\u001b[0m\u001b[0mforecaster\u001b[0m\u001b[0;34m)\u001b[0m \u001b[0;34m!=\u001b[0m \u001b[0mtype\u001b[0m\u001b[0;34m(\u001b[0m\u001b[0;32mNone\u001b[0m\u001b[0;34m)\u001b[0m\u001b[0;34m:\u001b[0m\u001b[0;34m\u001b[0m\u001b[0;34m\u001b[0m\u001b[0m\n\u001b[0;32m--> 272\u001b[0;31m             \u001b[0mself\u001b[0m\u001b[0;34m.\u001b[0m\u001b[0mforecaster\u001b[0m\u001b[0;34m.\u001b[0m\u001b[0mval_metrics\u001b[0m\u001b[0;34m.\u001b[0m\u001b[0mupdate\u001b[0m\u001b[0;34m(\u001b[0m\u001b[0mpredicted\u001b[0m\u001b[0;34m=\u001b[0m\u001b[0my_hat\u001b[0m\u001b[0;34m.\u001b[0m\u001b[0mdetach\u001b[0m\u001b[0;34m(\u001b[0m\u001b[0;34m)\u001b[0m\u001b[0;34m,\u001b[0m \u001b[0mtarget\u001b[0m\u001b[0;34m=\u001b[0m\u001b[0my\u001b[0m\u001b[0;34m.\u001b[0m\u001b[0mdetach\u001b[0m\u001b[0;34m(\u001b[0m\u001b[0;34m)\u001b[0m\u001b[0;34m)\u001b[0m\u001b[0;34m\u001b[0m\u001b[0;34m\u001b[0m\u001b[0m\n\u001b[0m\u001b[1;32m    273\u001b[0m         \u001b[0;32mreturn\u001b[0m \u001b[0mlog\u001b[0m\u001b[0;34m\u001b[0m\u001b[0;34m\u001b[0m\u001b[0m\n\u001b[1;32m    274\u001b[0m \u001b[0;34m\u001b[0m\u001b[0m\n",
      "\u001b[0;31mAttributeError\u001b[0m: 'tuple' object has no attribute 'detach'"
     ]
    }
   ],
   "source": [
    "m.fit(df, freq = freq)"
   ]
  },
  {
   "cell_type": "code",
   "execution_count": null,
   "id": "b3c06836",
   "metadata": {},
   "outputs": [],
   "source": []
  },
  {
   "cell_type": "code",
   "execution_count": null,
   "id": "ce722684",
   "metadata": {},
   "outputs": [],
   "source": []
  },
  {
   "cell_type": "code",
   "execution_count": null,
   "id": "15c4af60",
   "metadata": {},
   "outputs": [],
   "source": []
  },
  {
   "cell_type": "code",
   "execution_count": null,
   "id": "a5904920",
   "metadata": {},
   "outputs": [],
   "source": []
  }
 ],
 "metadata": {
  "kernelspec": {
   "display_name": "Python 3",
   "language": "python",
   "name": "python3"
  },
  "language_info": {
   "codemirror_mode": {
    "name": "ipython",
    "version": 3
   },
   "file_extension": ".py",
   "mimetype": "text/x-python",
   "name": "python",
   "nbconvert_exporter": "python",
   "pygments_lexer": "ipython3",
   "version": "3.7.10"
  }
 },
 "nbformat": 4,
 "nbformat_minor": 5
}
