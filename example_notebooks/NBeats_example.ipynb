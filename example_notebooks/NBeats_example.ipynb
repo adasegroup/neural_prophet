{
 "cells": [
  {
   "cell_type": "markdown",
   "id": "53308dc5",
   "metadata": {},
   "source": [
    "[![Open In Colab](https://colab.research.google.com/assets/colab-badge.svg)](https://colab.research.google.com/github/ourownstory/neural_prophet/blob/master/example_notebooks/autoregression_yosemite_temps.ipynb)"
   ]
  },
  {
   "cell_type": "markdown",
   "id": "5ec6ec9b",
   "metadata": {},
   "source": [
    "# NBeats\n",
    "\n",
    "This is a NBeats model module usage example. We implemented this model under the same API as NeuralProphet, for easy comparison of the results of NeuralProphet and SOTA models\n",
    "\n",
    "We used as the base the implementation of NBeats from Pytorch Forecasting library. The model parameters are inherited automatically from the dataset structure, if from_dataset is set to True\n",
    "For more detail on hyperparameters, please follow https://github.com/jdb78/pytorch-forecasting/blob/master/pytorch_forecasting/models/nbeats/__init__.py"
   ]
  },
  {
   "cell_type": "code",
   "execution_count": null,
   "id": "daac3a06",
   "metadata": {},
   "outputs": [],
   "source": [
    "# install NeuralProphet from our repository\n",
    "!pip install git+https://github.com/adasegroup/neural_prophet.git # may take a while"
   ]
  },
  {
   "cell_type": "code",
   "execution_count": 1,
   "id": "cf88518a",
   "metadata": {},
   "outputs": [],
   "source": [
    "from neuralprophet.forecaster_additional_models import NBeatsNP\n",
    "import pandas as pd"
   ]
  },
  {
   "cell_type": "code",
   "execution_count": 2,
   "id": "49461ef5",
   "metadata": {},
   "outputs": [],
   "source": [
    "if 'google.colab' in str(get_ipython()):\n",
    "    data_location = \"https://raw.githubusercontent.com/adasegroup/neural_prophet/master/\"\n",
    "else:\n",
    "    data_location = \"../\"\n",
    "\n",
    "df = pd.read_csv(data_location + \"example_data/yosemite_temps.csv\")\n",
    "df.head(3)\n",
    "freq = '5min'\n",
    "\n",
    "df = df.iloc[:1000]"
   ]
  },
  {
   "cell_type": "code",
   "execution_count": 3,
   "id": "ccc92cc1",
   "metadata": {},
   "outputs": [],
   "source": [
    "m = NBeatsNP(\n",
    "        max_encoder_length = 150,\n",
    "        batch_size = None,\n",
    "        epochs = 100,\n",
    "        num_gpus = 0,\n",
    "        patience_early_stopping = 10,\n",
    "        early_stop = True,\n",
    "        weight_decay=1e-2,\n",
    "        learning_rate=3e-2,\n",
    "        auto_lr_find=False,\n",
    "        num_workers=3,\n",
    "    )"
   ]
  },
  {
   "cell_type": "code",
   "execution_count": 4,
   "id": "386186cb",
   "metadata": {},
   "outputs": [
    {
     "name": "stderr",
     "output_type": "stream",
     "text": [
      "WARNING - (py.warnings._showwarnmsg) - /Users/polina/.conda/envs/neural_prophet/lib/python3.7/site-packages/pandas/core/indexing.py:1676: SettingWithCopyWarning: \n",
      "A value is trying to be set on a copy of a slice from a DataFrame.\n",
      "Try using .loc[row_indexer,col_indexer] = value instead\n",
      "\n",
      "See the caveats in the documentation: https://pandas.pydata.org/pandas-docs/stable/user_guide/indexing.html#returning-a-view-versus-a-copy\n",
      "  self._setitem_single_column(ilocs[0], value, pi)\n",
      "\n",
      "GPU available: False, used: False\n",
      "TPU available: False, using: 0 TPU cores\n",
      "\n",
      "  | Name            | Type       | Params\n",
      "-----------------------------------------------\n",
      "0 | loss            | MASE       | 0     \n",
      "1 | logging_metrics | ModuleList | 0     \n",
      "2 | net_blocks      | ModuleList | 2.1 M \n",
      "-----------------------------------------------\n",
      "2.1 M     Trainable params\n",
      "0         Non-trainable params\n",
      "2.1 M     Total params\n",
      "8.532     Total estimated model params size (MB)\n"
     ]
    },
    {
     "data": {
      "application/vnd.jupyter.widget-view+json": {
       "model_id": "",
       "version_major": 2,
       "version_minor": 0
      },
      "text/plain": [
       "Validation sanity check: 0it [00:00, ?it/s]"
      ]
     },
     "metadata": {},
     "output_type": "display_data"
    },
    {
     "name": "stderr",
     "output_type": "stream",
     "text": [
      "WARNING - (py.warnings._showwarnmsg) - /Users/polina/.conda/envs/neural_prophet/lib/python3.7/site-packages/torch/nn/modules/loss.py:907: UserWarning: Using a target size (torch.Size([1, 198])) that is different to the input size (torch.Size([198])). This will likely lead to incorrect results due to broadcasting. Please ensure they have the same size.\n",
      "  return F.smooth_l1_loss(input, target, reduction=self.reduction, beta=self.beta)\n",
      "\n"
     ]
    },
    {
     "data": {
      "application/vnd.jupyter.widget-view+json": {
       "model_id": "1bb28e275c7846b3ba66c1f46f3a4b8a",
       "version_major": 2,
       "version_minor": 0
      },
      "text/plain": [
       "Training: 0it [00:00, ?it/s]"
      ]
     },
     "metadata": {},
     "output_type": "display_data"
    },
    {
     "name": "stderr",
     "output_type": "stream",
     "text": [
      "WARNING - (py.warnings._showwarnmsg) - /Users/polina/.conda/envs/neural_prophet/lib/python3.7/site-packages/torch/nn/modules/loss.py:907: UserWarning: Using a target size (torch.Size([16, 198])) that is different to the input size (torch.Size([198])). This will likely lead to incorrect results due to broadcasting. Please ensure they have the same size.\n",
      "  return F.smooth_l1_loss(input, target, reduction=self.reduction, beta=self.beta)\n",
      "\n"
     ]
    },
    {
     "data": {
      "application/vnd.jupyter.widget-view+json": {
       "model_id": "",
       "version_major": 2,
       "version_minor": 0
      },
      "text/plain": [
       "Validating: 0it [00:00, ?it/s]"
      ]
     },
     "metadata": {},
     "output_type": "display_data"
    },
    {
     "data": {
      "application/vnd.jupyter.widget-view+json": {
       "model_id": "",
       "version_major": 2,
       "version_minor": 0
      },
      "text/plain": [
       "Validating: 0it [00:00, ?it/s]"
      ]
     },
     "metadata": {},
     "output_type": "display_data"
    },
    {
     "data": {
      "application/vnd.jupyter.widget-view+json": {
       "model_id": "",
       "version_major": 2,
       "version_minor": 0
      },
      "text/plain": [
       "Validating: 0it [00:00, ?it/s]"
      ]
     },
     "metadata": {},
     "output_type": "display_data"
    },
    {
     "data": {
      "application/vnd.jupyter.widget-view+json": {
       "model_id": "",
       "version_major": 2,
       "version_minor": 0
      },
      "text/plain": [
       "Validating: 0it [00:00, ?it/s]"
      ]
     },
     "metadata": {},
     "output_type": "display_data"
    },
    {
     "data": {
      "application/vnd.jupyter.widget-view+json": {
       "model_id": "",
       "version_major": 2,
       "version_minor": 0
      },
      "text/plain": [
       "Validating: 0it [00:00, ?it/s]"
      ]
     },
     "metadata": {},
     "output_type": "display_data"
    },
    {
     "data": {
      "application/vnd.jupyter.widget-view+json": {
       "model_id": "",
       "version_major": 2,
       "version_minor": 0
      },
      "text/plain": [
       "Validating: 0it [00:00, ?it/s]"
      ]
     },
     "metadata": {},
     "output_type": "display_data"
    },
    {
     "data": {
      "application/vnd.jupyter.widget-view+json": {
       "model_id": "",
       "version_major": 2,
       "version_minor": 0
      },
      "text/plain": [
       "Validating: 0it [00:00, ?it/s]"
      ]
     },
     "metadata": {},
     "output_type": "display_data"
    },
    {
     "data": {
      "application/vnd.jupyter.widget-view+json": {
       "model_id": "",
       "version_major": 2,
       "version_minor": 0
      },
      "text/plain": [
       "Validating: 0it [00:00, ?it/s]"
      ]
     },
     "metadata": {},
     "output_type": "display_data"
    },
    {
     "data": {
      "application/vnd.jupyter.widget-view+json": {
       "model_id": "",
       "version_major": 2,
       "version_minor": 0
      },
      "text/plain": [
       "Validating: 0it [00:00, ?it/s]"
      ]
     },
     "metadata": {},
     "output_type": "display_data"
    },
    {
     "data": {
      "application/vnd.jupyter.widget-view+json": {
       "model_id": "",
       "version_major": 2,
       "version_minor": 0
      },
      "text/plain": [
       "Validating: 0it [00:00, ?it/s]"
      ]
     },
     "metadata": {},
     "output_type": "display_data"
    },
    {
     "data": {
      "application/vnd.jupyter.widget-view+json": {
       "model_id": "",
       "version_major": 2,
       "version_minor": 0
      },
      "text/plain": [
       "Validating: 0it [00:00, ?it/s]"
      ]
     },
     "metadata": {},
     "output_type": "display_data"
    },
    {
     "data": {
      "application/vnd.jupyter.widget-view+json": {
       "model_id": "",
       "version_major": 2,
       "version_minor": 0
      },
      "text/plain": [
       "Validating: 0it [00:00, ?it/s]"
      ]
     },
     "metadata": {},
     "output_type": "display_data"
    },
    {
     "data": {
      "application/vnd.jupyter.widget-view+json": {
       "model_id": "",
       "version_major": 2,
       "version_minor": 0
      },
      "text/plain": [
       "Validating: 0it [00:00, ?it/s]"
      ]
     },
     "metadata": {},
     "output_type": "display_data"
    },
    {
     "data": {
      "application/vnd.jupyter.widget-view+json": {
       "model_id": "",
       "version_major": 2,
       "version_minor": 0
      },
      "text/plain": [
       "Validating: 0it [00:00, ?it/s]"
      ]
     },
     "metadata": {},
     "output_type": "display_data"
    },
    {
     "data": {
      "application/vnd.jupyter.widget-view+json": {
       "model_id": "",
       "version_major": 2,
       "version_minor": 0
      },
      "text/plain": [
       "Validating: 0it [00:00, ?it/s]"
      ]
     },
     "metadata": {},
     "output_type": "display_data"
    },
    {
     "data": {
      "application/vnd.jupyter.widget-view+json": {
       "model_id": "",
       "version_major": 2,
       "version_minor": 0
      },
      "text/plain": [
       "Validating: 0it [00:00, ?it/s]"
      ]
     },
     "metadata": {},
     "output_type": "display_data"
    },
    {
     "data": {
      "application/vnd.jupyter.widget-view+json": {
       "model_id": "",
       "version_major": 2,
       "version_minor": 0
      },
      "text/plain": [
       "Validating: 0it [00:00, ?it/s]"
      ]
     },
     "metadata": {},
     "output_type": "display_data"
    },
    {
     "data": {
      "application/vnd.jupyter.widget-view+json": {
       "model_id": "",
       "version_major": 2,
       "version_minor": 0
      },
      "text/plain": [
       "Validating: 0it [00:00, ?it/s]"
      ]
     },
     "metadata": {},
     "output_type": "display_data"
    },
    {
     "data": {
      "application/vnd.jupyter.widget-view+json": {
       "model_id": "",
       "version_major": 2,
       "version_minor": 0
      },
      "text/plain": [
       "Validating: 0it [00:00, ?it/s]"
      ]
     },
     "metadata": {},
     "output_type": "display_data"
    },
    {
     "data": {
      "application/vnd.jupyter.widget-view+json": {
       "model_id": "",
       "version_major": 2,
       "version_minor": 0
      },
      "text/plain": [
       "Validating: 0it [00:00, ?it/s]"
      ]
     },
     "metadata": {},
     "output_type": "display_data"
    },
    {
     "data": {
      "application/vnd.jupyter.widget-view+json": {
       "model_id": "",
       "version_major": 2,
       "version_minor": 0
      },
      "text/plain": [
       "Validating: 0it [00:00, ?it/s]"
      ]
     },
     "metadata": {},
     "output_type": "display_data"
    },
    {
     "data": {
      "application/vnd.jupyter.widget-view+json": {
       "model_id": "",
       "version_major": 2,
       "version_minor": 0
      },
      "text/plain": [
       "Validating: 0it [00:00, ?it/s]"
      ]
     },
     "metadata": {},
     "output_type": "display_data"
    },
    {
     "data": {
      "application/vnd.jupyter.widget-view+json": {
       "model_id": "",
       "version_major": 2,
       "version_minor": 0
      },
      "text/plain": [
       "Validating: 0it [00:00, ?it/s]"
      ]
     },
     "metadata": {},
     "output_type": "display_data"
    },
    {
     "data": {
      "application/vnd.jupyter.widget-view+json": {
       "model_id": "",
       "version_major": 2,
       "version_minor": 0
      },
      "text/plain": [
       "Validating: 0it [00:00, ?it/s]"
      ]
     },
     "metadata": {},
     "output_type": "display_data"
    },
    {
     "data": {
      "application/vnd.jupyter.widget-view+json": {
       "model_id": "",
       "version_major": 2,
       "version_minor": 0
      },
      "text/plain": [
       "Validating: 0it [00:00, ?it/s]"
      ]
     },
     "metadata": {},
     "output_type": "display_data"
    },
    {
     "data": {
      "application/vnd.jupyter.widget-view+json": {
       "model_id": "",
       "version_major": 2,
       "version_minor": 0
      },
      "text/plain": [
       "Validating: 0it [00:00, ?it/s]"
      ]
     },
     "metadata": {},
     "output_type": "display_data"
    },
    {
     "data": {
      "text/html": [
       "<div>\n",
       "<style scoped>\n",
       "    .dataframe tbody tr th:only-of-type {\n",
       "        vertical-align: middle;\n",
       "    }\n",
       "\n",
       "    .dataframe tbody tr th {\n",
       "        vertical-align: top;\n",
       "    }\n",
       "\n",
       "    .dataframe thead th {\n",
       "        text-align: right;\n",
       "    }\n",
       "</style>\n",
       "<table border=\"1\" class=\"dataframe\">\n",
       "  <thead>\n",
       "    <tr style=\"text-align: right;\">\n",
       "      <th></th>\n",
       "      <th>SmoothL1Loss</th>\n",
       "      <th>MAE</th>\n",
       "      <th>MSE</th>\n",
       "      <th>SmoothL1Loss_val</th>\n",
       "      <th>MAE_val</th>\n",
       "      <th>MSE_val</th>\n",
       "    </tr>\n",
       "  </thead>\n",
       "  <tbody>\n",
       "    <tr>\n",
       "      <th>0</th>\n",
       "      <td>13.607511</td>\n",
       "      <td>14.100123</td>\n",
       "      <td>322.063621</td>\n",
       "      <td>18.492531</td>\n",
       "      <td>18.985413</td>\n",
       "      <td>518.856079</td>\n",
       "    </tr>\n",
       "    <tr>\n",
       "      <th>1</th>\n",
       "      <td>13.269965</td>\n",
       "      <td>13.759687</td>\n",
       "      <td>323.886141</td>\n",
       "      <td>5.852159</td>\n",
       "      <td>6.334658</td>\n",
       "      <td>62.476192</td>\n",
       "    </tr>\n",
       "    <tr>\n",
       "      <th>2</th>\n",
       "      <td>12.391547</td>\n",
       "      <td>12.879448</td>\n",
       "      <td>274.814269</td>\n",
       "      <td>1.482366</td>\n",
       "      <td>1.919298</td>\n",
       "      <td>5.829607</td>\n",
       "    </tr>\n",
       "    <tr>\n",
       "      <th>3</th>\n",
       "      <td>12.912487</td>\n",
       "      <td>13.400418</td>\n",
       "      <td>299.449536</td>\n",
       "      <td>1.537568</td>\n",
       "      <td>1.979108</td>\n",
       "      <td>5.896426</td>\n",
       "    </tr>\n",
       "    <tr>\n",
       "      <th>4</th>\n",
       "      <td>12.505409</td>\n",
       "      <td>12.991626</td>\n",
       "      <td>289.194383</td>\n",
       "      <td>1.712402</td>\n",
       "      <td>2.155361</td>\n",
       "      <td>6.929511</td>\n",
       "    </tr>\n",
       "    <tr>\n",
       "      <th>5</th>\n",
       "      <td>12.260611</td>\n",
       "      <td>12.745823</td>\n",
       "      <td>283.577273</td>\n",
       "      <td>2.397966</td>\n",
       "      <td>2.858948</td>\n",
       "      <td>13.049657</td>\n",
       "    </tr>\n",
       "    <tr>\n",
       "      <th>6</th>\n",
       "      <td>11.417784</td>\n",
       "      <td>11.902787</td>\n",
       "      <td>249.670473</td>\n",
       "      <td>1.171590</td>\n",
       "      <td>1.639542</td>\n",
       "      <td>3.425496</td>\n",
       "    </tr>\n",
       "    <tr>\n",
       "      <th>7</th>\n",
       "      <td>11.805664</td>\n",
       "      <td>12.289645</td>\n",
       "      <td>262.250075</td>\n",
       "      <td>1.366524</td>\n",
       "      <td>1.799810</td>\n",
       "      <td>5.146870</td>\n",
       "    </tr>\n",
       "    <tr>\n",
       "      <th>8</th>\n",
       "      <td>11.856895</td>\n",
       "      <td>12.342316</td>\n",
       "      <td>268.562229</td>\n",
       "      <td>2.338519</td>\n",
       "      <td>2.797439</td>\n",
       "      <td>11.813511</td>\n",
       "    </tr>\n",
       "    <tr>\n",
       "      <th>9</th>\n",
       "      <td>11.903979</td>\n",
       "      <td>12.388988</td>\n",
       "      <td>268.045355</td>\n",
       "      <td>6.896544</td>\n",
       "      <td>7.377918</td>\n",
       "      <td>80.426361</td>\n",
       "    </tr>\n",
       "    <tr>\n",
       "      <th>10</th>\n",
       "      <td>12.015750</td>\n",
       "      <td>12.500236</td>\n",
       "      <td>272.832951</td>\n",
       "      <td>0.701559</td>\n",
       "      <td>1.131606</td>\n",
       "      <td>1.760655</td>\n",
       "    </tr>\n",
       "    <tr>\n",
       "      <th>11</th>\n",
       "      <td>11.499853</td>\n",
       "      <td>11.984046</td>\n",
       "      <td>249.176992</td>\n",
       "      <td>1.703502</td>\n",
       "      <td>2.167683</td>\n",
       "      <td>7.161560</td>\n",
       "    </tr>\n",
       "    <tr>\n",
       "      <th>12</th>\n",
       "      <td>11.274443</td>\n",
       "      <td>11.760263</td>\n",
       "      <td>242.514355</td>\n",
       "      <td>0.986406</td>\n",
       "      <td>1.415916</td>\n",
       "      <td>3.093448</td>\n",
       "    </tr>\n",
       "    <tr>\n",
       "      <th>13</th>\n",
       "      <td>12.129407</td>\n",
       "      <td>12.615827</td>\n",
       "      <td>265.332708</td>\n",
       "      <td>1.427848</td>\n",
       "      <td>1.876858</td>\n",
       "      <td>5.448486</td>\n",
       "    </tr>\n",
       "    <tr>\n",
       "      <th>14</th>\n",
       "      <td>11.167877</td>\n",
       "      <td>11.650471</td>\n",
       "      <td>240.981649</td>\n",
       "      <td>1.851891</td>\n",
       "      <td>2.318043</td>\n",
       "      <td>7.455476</td>\n",
       "    </tr>\n",
       "    <tr>\n",
       "      <th>15</th>\n",
       "      <td>11.950089</td>\n",
       "      <td>12.434840</td>\n",
       "      <td>270.176309</td>\n",
       "      <td>0.863793</td>\n",
       "      <td>1.275875</td>\n",
       "      <td>2.810656</td>\n",
       "    </tr>\n",
       "    <tr>\n",
       "      <th>16</th>\n",
       "      <td>12.017632</td>\n",
       "      <td>12.501061</td>\n",
       "      <td>269.983196</td>\n",
       "      <td>0.638925</td>\n",
       "      <td>1.031876</td>\n",
       "      <td>1.755211</td>\n",
       "    </tr>\n",
       "    <tr>\n",
       "      <th>17</th>\n",
       "      <td>11.756069</td>\n",
       "      <td>12.241612</td>\n",
       "      <td>266.287313</td>\n",
       "      <td>0.918041</td>\n",
       "      <td>1.352126</td>\n",
       "      <td>2.747668</td>\n",
       "    </tr>\n",
       "    <tr>\n",
       "      <th>18</th>\n",
       "      <td>11.748610</td>\n",
       "      <td>12.233778</td>\n",
       "      <td>261.559810</td>\n",
       "      <td>0.927138</td>\n",
       "      <td>1.377739</td>\n",
       "      <td>2.517456</td>\n",
       "    </tr>\n",
       "    <tr>\n",
       "      <th>19</th>\n",
       "      <td>11.089815</td>\n",
       "      <td>11.573543</td>\n",
       "      <td>239.294241</td>\n",
       "      <td>1.241748</td>\n",
       "      <td>1.677118</td>\n",
       "      <td>4.445720</td>\n",
       "    </tr>\n",
       "    <tr>\n",
       "      <th>20</th>\n",
       "      <td>11.662196</td>\n",
       "      <td>12.146740</td>\n",
       "      <td>256.679664</td>\n",
       "      <td>0.720185</td>\n",
       "      <td>1.117594</td>\n",
       "      <td>1.987304</td>\n",
       "    </tr>\n",
       "    <tr>\n",
       "      <th>21</th>\n",
       "      <td>12.712805</td>\n",
       "      <td>13.199069</td>\n",
       "      <td>295.163830</td>\n",
       "      <td>3.531439</td>\n",
       "      <td>4.001216</td>\n",
       "      <td>29.639580</td>\n",
       "    </tr>\n",
       "    <tr>\n",
       "      <th>22</th>\n",
       "      <td>11.654726</td>\n",
       "      <td>12.138946</td>\n",
       "      <td>263.107913</td>\n",
       "      <td>0.934086</td>\n",
       "      <td>1.384857</td>\n",
       "      <td>2.626569</td>\n",
       "    </tr>\n",
       "    <tr>\n",
       "      <th>23</th>\n",
       "      <td>11.279719</td>\n",
       "      <td>11.763749</td>\n",
       "      <td>243.338573</td>\n",
       "      <td>1.258779</td>\n",
       "      <td>1.692458</td>\n",
       "      <td>4.709893</td>\n",
       "    </tr>\n",
       "    <tr>\n",
       "      <th>24</th>\n",
       "      <td>11.562638</td>\n",
       "      <td>12.048119</td>\n",
       "      <td>253.717208</td>\n",
       "      <td>1.035866</td>\n",
       "      <td>1.458628</td>\n",
       "      <td>3.516264</td>\n",
       "    </tr>\n",
       "    <tr>\n",
       "      <th>25</th>\n",
       "      <td>11.655795</td>\n",
       "      <td>12.140391</td>\n",
       "      <td>256.273840</td>\n",
       "      <td>2.297324</td>\n",
       "      <td>2.761870</td>\n",
       "      <td>10.259194</td>\n",
       "    </tr>\n",
       "  </tbody>\n",
       "</table>\n",
       "</div>"
      ],
      "text/plain": [
       "    SmoothL1Loss        MAE         MSE  SmoothL1Loss_val    MAE_val  \\\n",
       "0      13.607511  14.100123  322.063621         18.492531  18.985413   \n",
       "1      13.269965  13.759687  323.886141          5.852159   6.334658   \n",
       "2      12.391547  12.879448  274.814269          1.482366   1.919298   \n",
       "3      12.912487  13.400418  299.449536          1.537568   1.979108   \n",
       "4      12.505409  12.991626  289.194383          1.712402   2.155361   \n",
       "5      12.260611  12.745823  283.577273          2.397966   2.858948   \n",
       "6      11.417784  11.902787  249.670473          1.171590   1.639542   \n",
       "7      11.805664  12.289645  262.250075          1.366524   1.799810   \n",
       "8      11.856895  12.342316  268.562229          2.338519   2.797439   \n",
       "9      11.903979  12.388988  268.045355          6.896544   7.377918   \n",
       "10     12.015750  12.500236  272.832951          0.701559   1.131606   \n",
       "11     11.499853  11.984046  249.176992          1.703502   2.167683   \n",
       "12     11.274443  11.760263  242.514355          0.986406   1.415916   \n",
       "13     12.129407  12.615827  265.332708          1.427848   1.876858   \n",
       "14     11.167877  11.650471  240.981649          1.851891   2.318043   \n",
       "15     11.950089  12.434840  270.176309          0.863793   1.275875   \n",
       "16     12.017632  12.501061  269.983196          0.638925   1.031876   \n",
       "17     11.756069  12.241612  266.287313          0.918041   1.352126   \n",
       "18     11.748610  12.233778  261.559810          0.927138   1.377739   \n",
       "19     11.089815  11.573543  239.294241          1.241748   1.677118   \n",
       "20     11.662196  12.146740  256.679664          0.720185   1.117594   \n",
       "21     12.712805  13.199069  295.163830          3.531439   4.001216   \n",
       "22     11.654726  12.138946  263.107913          0.934086   1.384857   \n",
       "23     11.279719  11.763749  243.338573          1.258779   1.692458   \n",
       "24     11.562638  12.048119  253.717208          1.035866   1.458628   \n",
       "25     11.655795  12.140391  256.273840          2.297324   2.761870   \n",
       "\n",
       "       MSE_val  \n",
       "0   518.856079  \n",
       "1    62.476192  \n",
       "2     5.829607  \n",
       "3     5.896426  \n",
       "4     6.929511  \n",
       "5    13.049657  \n",
       "6     3.425496  \n",
       "7     5.146870  \n",
       "8    11.813511  \n",
       "9    80.426361  \n",
       "10    1.760655  \n",
       "11    7.161560  \n",
       "12    3.093448  \n",
       "13    5.448486  \n",
       "14    7.455476  \n",
       "15    2.810656  \n",
       "16    1.755211  \n",
       "17    2.747668  \n",
       "18    2.517456  \n",
       "19    4.445720  \n",
       "20    1.987304  \n",
       "21   29.639580  \n",
       "22    2.626569  \n",
       "23    4.709893  \n",
       "24    3.516264  \n",
       "25   10.259194  "
      ]
     },
     "execution_count": 4,
     "metadata": {},
     "output_type": "execute_result"
    }
   ],
   "source": [
    "m.fit(df.iloc[:-10], freq = freq)"
   ]
  },
  {
   "cell_type": "code",
   "execution_count": 5,
   "id": "bcfc0745",
   "metadata": {},
   "outputs": [],
   "source": [
    "future = m.make_future_dataframe(df, freq, periods=1, n_historic_predictions=100)"
   ]
  },
  {
   "cell_type": "code",
   "execution_count": 6,
   "id": "d7aa8d23",
   "metadata": {},
   "outputs": [],
   "source": [
    "forecast = m.predict(future)"
   ]
  },
  {
   "cell_type": "code",
   "execution_count": 7,
   "id": "0fea08d2",
   "metadata": {},
   "outputs": [
    {
     "data": {
      "text/html": [
       "<div>\n",
       "<style scoped>\n",
       "    .dataframe tbody tr th:only-of-type {\n",
       "        vertical-align: middle;\n",
       "    }\n",
       "\n",
       "    .dataframe tbody tr th {\n",
       "        vertical-align: top;\n",
       "    }\n",
       "\n",
       "    .dataframe thead th {\n",
       "        text-align: right;\n",
       "    }\n",
       "</style>\n",
       "<table border=\"1\" class=\"dataframe\">\n",
       "  <thead>\n",
       "    <tr style=\"text-align: right;\">\n",
       "      <th></th>\n",
       "      <th>ds</th>\n",
       "      <th>y</th>\n",
       "      <th>yhat1</th>\n",
       "      <th>residual1</th>\n",
       "    </tr>\n",
       "  </thead>\n",
       "  <tbody>\n",
       "    <tr>\n",
       "      <th>236</th>\n",
       "      <td>2017-05-04 10:10:00</td>\n",
       "      <td>8.7</td>\n",
       "      <td>12.585979</td>\n",
       "      <td>3.885979</td>\n",
       "    </tr>\n",
       "    <tr>\n",
       "      <th>237</th>\n",
       "      <td>2017-05-04 10:15:00</td>\n",
       "      <td>8.6</td>\n",
       "      <td>12.69982</td>\n",
       "      <td>4.09982</td>\n",
       "    </tr>\n",
       "    <tr>\n",
       "      <th>238</th>\n",
       "      <td>2017-05-04 10:20:00</td>\n",
       "      <td>8.5</td>\n",
       "      <td>12.27844</td>\n",
       "      <td>3.77844</td>\n",
       "    </tr>\n",
       "    <tr>\n",
       "      <th>239</th>\n",
       "      <td>2017-05-04 10:25:00</td>\n",
       "      <td>8.3</td>\n",
       "      <td>11.525358</td>\n",
       "      <td>3.225358</td>\n",
       "    </tr>\n",
       "    <tr>\n",
       "      <th>240</th>\n",
       "      <td>2017-05-04 10:30:00</td>\n",
       "      <td>8.4</td>\n",
       "      <td>10.864862</td>\n",
       "      <td>2.464862</td>\n",
       "    </tr>\n",
       "    <tr>\n",
       "      <th>241</th>\n",
       "      <td>2017-05-04 10:35:00</td>\n",
       "      <td>8.3</td>\n",
       "      <td>10.69549</td>\n",
       "      <td>2.39549</td>\n",
       "    </tr>\n",
       "    <tr>\n",
       "      <th>242</th>\n",
       "      <td>2017-05-04 10:40:00</td>\n",
       "      <td>8.4</td>\n",
       "      <td>11.137854</td>\n",
       "      <td>2.737854</td>\n",
       "    </tr>\n",
       "    <tr>\n",
       "      <th>243</th>\n",
       "      <td>2017-05-04 10:45:00</td>\n",
       "      <td>8.3</td>\n",
       "      <td>11.941553</td>\n",
       "      <td>3.641553</td>\n",
       "    </tr>\n",
       "    <tr>\n",
       "      <th>244</th>\n",
       "      <td>2017-05-04 10:50:00</td>\n",
       "      <td>8.4</td>\n",
       "      <td>12.619871</td>\n",
       "      <td>4.219871</td>\n",
       "    </tr>\n",
       "    <tr>\n",
       "      <th>245</th>\n",
       "      <td>2017-05-04 10:55:00</td>\n",
       "      <td>8.3</td>\n",
       "      <td>12.735678</td>\n",
       "      <td>4.435678</td>\n",
       "    </tr>\n",
       "    <tr>\n",
       "      <th>246</th>\n",
       "      <td>2017-05-04 11:00:00</td>\n",
       "      <td>8.2</td>\n",
       "      <td>12.1612</td>\n",
       "      <td>3.9612</td>\n",
       "    </tr>\n",
       "    <tr>\n",
       "      <th>247</th>\n",
       "      <td>2017-05-04 11:05:00</td>\n",
       "      <td>8.2</td>\n",
       "      <td>11.147247</td>\n",
       "      <td>2.947247</td>\n",
       "    </tr>\n",
       "    <tr>\n",
       "      <th>248</th>\n",
       "      <td>2017-05-04 11:10:00</td>\n",
       "      <td>8.2</td>\n",
       "      <td>10.162037</td>\n",
       "      <td>1.962037</td>\n",
       "    </tr>\n",
       "    <tr>\n",
       "      <th>249</th>\n",
       "      <td>2017-05-04 11:15:00</td>\n",
       "      <td>8.1</td>\n",
       "      <td>9.610107</td>\n",
       "      <td>1.510107</td>\n",
       "    </tr>\n",
       "    <tr>\n",
       "      <th>250</th>\n",
       "      <td>2017-05-04 11:20:00</td>\n",
       "      <td>NaN</td>\n",
       "      <td>9.615553</td>\n",
       "      <td>NaN</td>\n",
       "    </tr>\n",
       "  </tbody>\n",
       "</table>\n",
       "</div>"
      ],
      "text/plain": [
       "                     ds    y      yhat1 residual1\n",
       "236 2017-05-04 10:10:00  8.7  12.585979  3.885979\n",
       "237 2017-05-04 10:15:00  8.6   12.69982   4.09982\n",
       "238 2017-05-04 10:20:00  8.5   12.27844   3.77844\n",
       "239 2017-05-04 10:25:00  8.3  11.525358  3.225358\n",
       "240 2017-05-04 10:30:00  8.4  10.864862  2.464862\n",
       "241 2017-05-04 10:35:00  8.3   10.69549   2.39549\n",
       "242 2017-05-04 10:40:00  8.4  11.137854  2.737854\n",
       "243 2017-05-04 10:45:00  8.3  11.941553  3.641553\n",
       "244 2017-05-04 10:50:00  8.4  12.619871  4.219871\n",
       "245 2017-05-04 10:55:00  8.3  12.735678  4.435678\n",
       "246 2017-05-04 11:00:00  8.2    12.1612    3.9612\n",
       "247 2017-05-04 11:05:00  8.2  11.147247  2.947247\n",
       "248 2017-05-04 11:10:00  8.2  10.162037  1.962037\n",
       "249 2017-05-04 11:15:00  8.1   9.610107  1.510107\n",
       "250 2017-05-04 11:20:00  NaN   9.615553       NaN"
      ]
     },
     "execution_count": 7,
     "metadata": {},
     "output_type": "execute_result"
    }
   ],
   "source": [
    "forecast.iloc[-15:]"
   ]
  },
  {
   "cell_type": "code",
   "execution_count": 8,
   "id": "8c78f8b6",
   "metadata": {},
   "outputs": [
    {
     "data": {
      "image/png": "[encoded data removed]",
      "text/plain": [
       "<Figure size 720x432 with 1 Axes>"
      ]
     },
     "metadata": {},
     "output_type": "display_data"
    }
   ],
   "source": [
    "f = m.plot(forecast.iloc[-100:])"
   ]
  },
  {
   "cell_type": "code",
   "execution_count": null,
   "id": "f9c5967f",
   "metadata": {},
   "outputs": [],
   "source": []
  },
  {
   "cell_type": "code",
   "execution_count": null,
   "id": "22b07c9f",
   "metadata": {},
   "outputs": [],
   "source": []
  }
 ],
 "metadata": {
  "kernelspec": {
   "display_name": "Python 3",
   "language": "python",
   "name": "python3"
  },
  "language_info": {
   "codemirror_mode": {
    "name": "ipython",
    "version": 3
   },
   "file_extension": ".py",
   "mimetype": "text/x-python",
   "name": "python",
   "nbconvert_exporter": "python",
   "pygments_lexer": "ipython3",
   "version": "3.7.10"
  }
 },
 "nbformat": 4,
 "nbformat_minor": 5
}
