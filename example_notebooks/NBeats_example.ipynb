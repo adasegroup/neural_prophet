{
 "cells": [
  {
   "cell_type": "markdown",
   "id": "a8daf92a",
   "metadata": {},
   "source": [
    "[![Open In Colab](https://colab.research.google.com/assets/colab-badge.svg)](https://colab.research.google.com/github/ourownstory/neural_prophet/blob/master/example_notebooks/autoregression_yosemite_temps.ipynb)"
   ]
  },
  {
   "cell_type": "markdown",
   "id": "fcebeaf7",
   "metadata": {},
   "source": [
    "# NBeats\n",
    "\n",
    "This is a NBeats model module usage example. We implemented this model under the same API as NeuralProphet, for easy comparison of the results of NeuralProphet and SOTA models\n",
    "\n",
    "We used as the base the implementation of NBeats from Pytorch Forecasting library. The model parameters are inherited automatically from the dataset structure, if from_dataset is set to True\n",
    "For more detail on hyperparameters, please follow https://github.com/jdb78/pytorch-forecasting/blob/master/pytorch_forecasting/models/nbeats/__init__.py"
   ]
  },
  {
   "cell_type": "code",
   "execution_count": 6,
   "id": "537adfb4",
   "metadata": {},
   "outputs": [],
   "source": [
    "from neuralprophet.forecaster_additional_models import NBeatsNP\n",
    "import pandas as pd"
   ]
  },
  {
   "cell_type": "code",
   "execution_count": 11,
   "id": "13687213",
   "metadata": {},
   "outputs": [],
   "source": [
    "if 'google.colab' in str(get_ipython()):\n",
    "    !pip install git+https://github.com/ourownstory/neural_prophet.git # may take a while\n",
    "    #!pip install neuralprophet # much faster, but may not have the latest upgrades/bugfixes\n",
    "    data_location = \"https://raw.githubusercontent.com/ourownstory/neural_prophet/master/\"\n",
    "else:\n",
    "    data_location = \"../\"\n",
    "\n",
    "df = pd.read_csv(data_location + \"example_data/yosemite_temps.csv\")\n",
    "df.head(3)\n",
    "freq = '5min'\n",
    "\n",
    "df = df.iloc[:1000]"
   ]
  },
  {
   "cell_type": "code",
   "execution_count": 12,
   "id": "ed08756d",
   "metadata": {},
   "outputs": [],
   "source": [
    "m = NBeatsNP(\n",
    "        max_encoder_length = 150,\n",
    "        batch_size = None,\n",
    "        epochs = 10,\n",
    "        num_gpus = 0,\n",
    "        patience_early_stopping = 10,\n",
    "        early_stop = True,\n",
    "        weight_decay=1e-2,\n",
    "        learning_rate=3e-2,\n",
    "        auto_lr_find=False,\n",
    "        num_workers=3,\n",
    "    )"
   ]
  },
  {
   "cell_type": "code",
   "execution_count": 14,
   "id": "67890a21",
   "metadata": {},
   "outputs": [
    {
     "name": "stderr",
     "output_type": "stream",
     "text": [
      "GPU available: False, used: False\n",
      "TPU available: False, using: 0 TPU cores\n",
      "\n",
      "  | Name            | Type       | Params\n",
      "-----------------------------------------------\n",
      "0 | loss            | MASE       | 0     \n",
      "1 | logging_metrics | ModuleList | 0     \n",
      "2 | net_blocks      | ModuleList | 2.1 M \n",
      "-----------------------------------------------\n",
      "2.1 M     Trainable params\n",
      "0         Non-trainable params\n",
      "2.1 M     Total params\n",
      "8.545     Total estimated model params size (MB)\n"
     ]
    },
    {
     "data": {
      "application/vnd.jupyter.widget-view+json": {
       "model_id": "",
       "version_major": 2,
       "version_minor": 0
      },
      "text/plain": [
       "Validation sanity check: 0it [00:00, ?it/s]"
      ]
     },
     "metadata": {},
     "output_type": "display_data"
    },
    {
     "name": "stderr",
     "output_type": "stream",
     "text": [
      "WARNING - (py.warnings._showwarnmsg) - /Users/polina/.conda/envs/neural_prophet/lib/python3.7/site-packages/torch/nn/modules/loss.py:907: UserWarning: Using a target size (torch.Size([1, 200])) that is different to the input size (torch.Size([200])). This will likely lead to incorrect results due to broadcasting. Please ensure they have the same size.\n",
      "  return F.smooth_l1_loss(input, target, reduction=self.reduction, beta=self.beta)\n",
      "\n"
     ]
    },
    {
     "data": {
      "application/vnd.jupyter.widget-view+json": {
       "model_id": "cec52a6d9a314428944a9eb44dff05f3",
       "version_major": 2,
       "version_minor": 0
      },
      "text/plain": [
       "Training: 0it [00:00, ?it/s]"
      ]
     },
     "metadata": {},
     "output_type": "display_data"
    },
    {
     "name": "stderr",
     "output_type": "stream",
     "text": [
      "WARNING - (py.warnings._showwarnmsg) - /Users/polina/.conda/envs/neural_prophet/lib/python3.7/site-packages/torch/nn/modules/loss.py:907: UserWarning: Using a target size (torch.Size([32, 200])) that is different to the input size (torch.Size([200])). This will likely lead to incorrect results due to broadcasting. Please ensure they have the same size.\n",
      "  return F.smooth_l1_loss(input, target, reduction=self.reduction, beta=self.beta)\n",
      "\n"
     ]
    },
    {
     "data": {
      "application/vnd.jupyter.widget-view+json": {
       "model_id": "",
       "version_major": 2,
       "version_minor": 0
      },
      "text/plain": [
       "Validating: 0it [00:00, ?it/s]"
      ]
     },
     "metadata": {},
     "output_type": "display_data"
    },
    {
     "data": {
      "application/vnd.jupyter.widget-view+json": {
       "model_id": "",
       "version_major": 2,
       "version_minor": 0
      },
      "text/plain": [
       "Validating: 0it [00:00, ?it/s]"
      ]
     },
     "metadata": {},
     "output_type": "display_data"
    },
    {
     "data": {
      "application/vnd.jupyter.widget-view+json": {
       "model_id": "",
       "version_major": 2,
       "version_minor": 0
      },
      "text/plain": [
       "Validating: 0it [00:00, ?it/s]"
      ]
     },
     "metadata": {},
     "output_type": "display_data"
    },
    {
     "data": {
      "application/vnd.jupyter.widget-view+json": {
       "model_id": "",
       "version_major": 2,
       "version_minor": 0
      },
      "text/plain": [
       "Validating: 0it [00:00, ?it/s]"
      ]
     },
     "metadata": {},
     "output_type": "display_data"
    },
    {
     "data": {
      "application/vnd.jupyter.widget-view+json": {
       "model_id": "",
       "version_major": 2,
       "version_minor": 0
      },
      "text/plain": [
       "Validating: 0it [00:00, ?it/s]"
      ]
     },
     "metadata": {},
     "output_type": "display_data"
    },
    {
     "data": {
      "application/vnd.jupyter.widget-view+json": {
       "model_id": "",
       "version_major": 2,
       "version_minor": 0
      },
      "text/plain": [
       "Validating: 0it [00:00, ?it/s]"
      ]
     },
     "metadata": {},
     "output_type": "display_data"
    },
    {
     "data": {
      "application/vnd.jupyter.widget-view+json": {
       "model_id": "",
       "version_major": 2,
       "version_minor": 0
      },
      "text/plain": [
       "Validating: 0it [00:00, ?it/s]"
      ]
     },
     "metadata": {},
     "output_type": "display_data"
    },
    {
     "data": {
      "application/vnd.jupyter.widget-view+json": {
       "model_id": "",
       "version_major": 2,
       "version_minor": 0
      },
      "text/plain": [
       "Validating: 0it [00:00, ?it/s]"
      ]
     },
     "metadata": {},
     "output_type": "display_data"
    },
    {
     "data": {
      "application/vnd.jupyter.widget-view+json": {
       "model_id": "",
       "version_major": 2,
       "version_minor": 0
      },
      "text/plain": [
       "Validating: 0it [00:00, ?it/s]"
      ]
     },
     "metadata": {},
     "output_type": "display_data"
    },
    {
     "data": {
      "application/vnd.jupyter.widget-view+json": {
       "model_id": "",
       "version_major": 2,
       "version_minor": 0
      },
      "text/plain": [
       "Validating: 0it [00:00, ?it/s]"
      ]
     },
     "metadata": {},
     "output_type": "display_data"
    },
    {
     "data": {
      "text/html": [
       "<div>\n",
       "<style scoped>\n",
       "    .dataframe tbody tr th:only-of-type {\n",
       "        vertical-align: middle;\n",
       "    }\n",
       "\n",
       "    .dataframe tbody tr th {\n",
       "        vertical-align: top;\n",
       "    }\n",
       "\n",
       "    .dataframe thead th {\n",
       "        text-align: right;\n",
       "    }\n",
       "</style>\n",
       "<table border=\"1\" class=\"dataframe\">\n",
       "  <thead>\n",
       "    <tr style=\"text-align: right;\">\n",
       "      <th></th>\n",
       "      <th>SmoothL1Loss</th>\n",
       "      <th>MAE</th>\n",
       "      <th>MSE</th>\n",
       "      <th>SmoothL1Loss_val</th>\n",
       "      <th>MAE_val</th>\n",
       "      <th>MSE_val</th>\n",
       "    </tr>\n",
       "  </thead>\n",
       "  <tbody>\n",
       "    <tr>\n",
       "      <th>0</th>\n",
       "      <td>14.229805</td>\n",
       "      <td>14.722071</td>\n",
       "      <td>362.733489</td>\n",
       "      <td>18.906218</td>\n",
       "      <td>19.406139</td>\n",
       "      <td>537.220642</td>\n",
       "    </tr>\n",
       "    <tr>\n",
       "      <th>1</th>\n",
       "      <td>12.757059</td>\n",
       "      <td>13.247428</td>\n",
       "      <td>289.994050</td>\n",
       "      <td>8.601149</td>\n",
       "      <td>9.092503</td>\n",
       "      <td>124.164261</td>\n",
       "    </tr>\n",
       "    <tr>\n",
       "      <th>2</th>\n",
       "      <td>12.596908</td>\n",
       "      <td>13.086294</td>\n",
       "      <td>283.083241</td>\n",
       "      <td>3.641934</td>\n",
       "      <td>4.121273</td>\n",
       "      <td>24.546816</td>\n",
       "    </tr>\n",
       "    <tr>\n",
       "      <th>3</th>\n",
       "      <td>11.622920</td>\n",
       "      <td>12.110525</td>\n",
       "      <td>249.372526</td>\n",
       "      <td>0.766586</td>\n",
       "      <td>1.176477</td>\n",
       "      <td>2.253837</td>\n",
       "    </tr>\n",
       "    <tr>\n",
       "      <th>4</th>\n",
       "      <td>12.141182</td>\n",
       "      <td>12.626459</td>\n",
       "      <td>275.494036</td>\n",
       "      <td>1.842237</td>\n",
       "      <td>2.301214</td>\n",
       "      <td>8.020111</td>\n",
       "    </tr>\n",
       "    <tr>\n",
       "      <th>5</th>\n",
       "      <td>11.719431</td>\n",
       "      <td>12.206883</td>\n",
       "      <td>252.464951</td>\n",
       "      <td>2.628962</td>\n",
       "      <td>3.086637</td>\n",
       "      <td>15.905052</td>\n",
       "    </tr>\n",
       "    <tr>\n",
       "      <th>6</th>\n",
       "      <td>11.525635</td>\n",
       "      <td>12.009123</td>\n",
       "      <td>253.746773</td>\n",
       "      <td>1.296579</td>\n",
       "      <td>1.759589</td>\n",
       "      <td>4.280819</td>\n",
       "    </tr>\n",
       "    <tr>\n",
       "      <th>7</th>\n",
       "      <td>12.404764</td>\n",
       "      <td>12.891778</td>\n",
       "      <td>276.740772</td>\n",
       "      <td>3.466417</td>\n",
       "      <td>3.952707</td>\n",
       "      <td>21.519508</td>\n",
       "    </tr>\n",
       "    <tr>\n",
       "      <th>8</th>\n",
       "      <td>12.168716</td>\n",
       "      <td>12.655272</td>\n",
       "      <td>272.392677</td>\n",
       "      <td>1.560530</td>\n",
       "      <td>2.022994</td>\n",
       "      <td>5.436709</td>\n",
       "    </tr>\n",
       "    <tr>\n",
       "      <th>9</th>\n",
       "      <td>12.689543</td>\n",
       "      <td>13.174820</td>\n",
       "      <td>289.457139</td>\n",
       "      <td>0.672990</td>\n",
       "      <td>1.099927</td>\n",
       "      <td>1.681402</td>\n",
       "    </tr>\n",
       "  </tbody>\n",
       "</table>\n",
       "</div>"
      ],
      "text/plain": [
       "   SmoothL1Loss        MAE         MSE  SmoothL1Loss_val    MAE_val  \\\n",
       "0     14.229805  14.722071  362.733489         18.906218  19.406139   \n",
       "1     12.757059  13.247428  289.994050          8.601149   9.092503   \n",
       "2     12.596908  13.086294  283.083241          3.641934   4.121273   \n",
       "3     11.622920  12.110525  249.372526          0.766586   1.176477   \n",
       "4     12.141182  12.626459  275.494036          1.842237   2.301214   \n",
       "5     11.719431  12.206883  252.464951          2.628962   3.086637   \n",
       "6     11.525635  12.009123  253.746773          1.296579   1.759589   \n",
       "7     12.404764  12.891778  276.740772          3.466417   3.952707   \n",
       "8     12.168716  12.655272  272.392677          1.560530   2.022994   \n",
       "9     12.689543  13.174820  289.457139          0.672990   1.099927   \n",
       "\n",
       "      MSE_val  \n",
       "0  537.220642  \n",
       "1  124.164261  \n",
       "2   24.546816  \n",
       "3    2.253837  \n",
       "4    8.020111  \n",
       "5   15.905052  \n",
       "6    4.280819  \n",
       "7   21.519508  \n",
       "8    5.436709  \n",
       "9    1.681402  "
      ]
     },
     "execution_count": 14,
     "metadata": {},
     "output_type": "execute_result"
    }
   ],
   "source": [
    "m.fit(df, freq = freq)"
   ]
  },
  {
   "cell_type": "code",
   "execution_count": 15,
   "id": "49ca49ba",
   "metadata": {},
   "outputs": [],
   "source": [
    "future = m.make_future_dataframe(df, freq, periods=10, n_historic_predictions=10)"
   ]
  },
  {
   "cell_type": "code",
   "execution_count": 16,
   "id": "b0028577",
   "metadata": {},
   "outputs": [],
   "source": [
    "forecast = m.predict(future)"
   ]
  },
  {
   "cell_type": "code",
   "execution_count": 20,
   "id": "47330cff",
   "metadata": {},
   "outputs": [
    {
     "data": {
      "text/html": [
       "<div>\n",
       "<style scoped>\n",
       "    .dataframe tbody tr th:only-of-type {\n",
       "        vertical-align: middle;\n",
       "    }\n",
       "\n",
       "    .dataframe tbody tr th {\n",
       "        vertical-align: top;\n",
       "    }\n",
       "\n",
       "    .dataframe thead th {\n",
       "        text-align: right;\n",
       "    }\n",
       "</style>\n",
       "<table border=\"1\" class=\"dataframe\">\n",
       "  <thead>\n",
       "    <tr style=\"text-align: right;\">\n",
       "      <th></th>\n",
       "      <th>ds</th>\n",
       "      <th>y</th>\n",
       "      <th>yhat1</th>\n",
       "      <th>residual1</th>\n",
       "    </tr>\n",
       "  </thead>\n",
       "  <tbody>\n",
       "    <tr>\n",
       "      <th>155</th>\n",
       "      <td>2017-05-04 10:55:00</td>\n",
       "      <td>8.3</td>\n",
       "      <td>7.581034</td>\n",
       "      <td>-0.718966</td>\n",
       "    </tr>\n",
       "    <tr>\n",
       "      <th>156</th>\n",
       "      <td>2017-05-04 11:00:00</td>\n",
       "      <td>8.2</td>\n",
       "      <td>7.574735</td>\n",
       "      <td>-0.625265</td>\n",
       "    </tr>\n",
       "    <tr>\n",
       "      <th>157</th>\n",
       "      <td>2017-05-04 11:05:00</td>\n",
       "      <td>8.2</td>\n",
       "      <td>7.505713</td>\n",
       "      <td>-0.694287</td>\n",
       "    </tr>\n",
       "    <tr>\n",
       "      <th>158</th>\n",
       "      <td>2017-05-04 11:10:00</td>\n",
       "      <td>8.2</td>\n",
       "      <td>7.262897</td>\n",
       "      <td>-0.937103</td>\n",
       "    </tr>\n",
       "    <tr>\n",
       "      <th>159</th>\n",
       "      <td>2017-05-04 11:15:00</td>\n",
       "      <td>8.1</td>\n",
       "      <td>6.809942</td>\n",
       "      <td>-1.290058</td>\n",
       "    </tr>\n",
       "    <tr>\n",
       "      <th>160</th>\n",
       "      <td>2017-05-04 11:20:00</td>\n",
       "      <td>NaN</td>\n",
       "      <td>6.229907</td>\n",
       "      <td>NaN</td>\n",
       "    </tr>\n",
       "    <tr>\n",
       "      <th>161</th>\n",
       "      <td>2017-05-04 11:25:00</td>\n",
       "      <td>NaN</td>\n",
       "      <td>5.714649</td>\n",
       "      <td>NaN</td>\n",
       "    </tr>\n",
       "    <tr>\n",
       "      <th>162</th>\n",
       "      <td>2017-05-04 11:30:00</td>\n",
       "      <td>NaN</td>\n",
       "      <td>5.489238</td>\n",
       "      <td>NaN</td>\n",
       "    </tr>\n",
       "    <tr>\n",
       "      <th>163</th>\n",
       "      <td>2017-05-04 11:35:00</td>\n",
       "      <td>NaN</td>\n",
       "      <td>5.700409</td>\n",
       "      <td>NaN</td>\n",
       "    </tr>\n",
       "    <tr>\n",
       "      <th>164</th>\n",
       "      <td>2017-05-04 11:40:00</td>\n",
       "      <td>NaN</td>\n",
       "      <td>6.32621</td>\n",
       "      <td>NaN</td>\n",
       "    </tr>\n",
       "    <tr>\n",
       "      <th>165</th>\n",
       "      <td>2017-05-04 11:45:00</td>\n",
       "      <td>NaN</td>\n",
       "      <td>7.160918</td>\n",
       "      <td>NaN</td>\n",
       "    </tr>\n",
       "    <tr>\n",
       "      <th>166</th>\n",
       "      <td>2017-05-04 11:50:00</td>\n",
       "      <td>NaN</td>\n",
       "      <td>7.894569</td>\n",
       "      <td>NaN</td>\n",
       "    </tr>\n",
       "    <tr>\n",
       "      <th>167</th>\n",
       "      <td>2017-05-04 11:55:00</td>\n",
       "      <td>NaN</td>\n",
       "      <td>8.255017</td>\n",
       "      <td>NaN</td>\n",
       "    </tr>\n",
       "    <tr>\n",
       "      <th>168</th>\n",
       "      <td>2017-05-04 12:00:00</td>\n",
       "      <td>NaN</td>\n",
       "      <td>8.141934</td>\n",
       "      <td>NaN</td>\n",
       "    </tr>\n",
       "    <tr>\n",
       "      <th>169</th>\n",
       "      <td>2017-05-04 12:05:00</td>\n",
       "      <td>NaN</td>\n",
       "      <td>7.679651</td>\n",
       "      <td>NaN</td>\n",
       "    </tr>\n",
       "  </tbody>\n",
       "</table>\n",
       "</div>"
      ],
      "text/plain": [
       "                     ds    y     yhat1 residual1\n",
       "155 2017-05-04 10:55:00  8.3  7.581034 -0.718966\n",
       "156 2017-05-04 11:00:00  8.2  7.574735 -0.625265\n",
       "157 2017-05-04 11:05:00  8.2  7.505713 -0.694287\n",
       "158 2017-05-04 11:10:00  8.2  7.262897 -0.937103\n",
       "159 2017-05-04 11:15:00  8.1  6.809942 -1.290058\n",
       "160 2017-05-04 11:20:00  NaN  6.229907       NaN\n",
       "161 2017-05-04 11:25:00  NaN  5.714649       NaN\n",
       "162 2017-05-04 11:30:00  NaN  5.489238       NaN\n",
       "163 2017-05-04 11:35:00  NaN  5.700409       NaN\n",
       "164 2017-05-04 11:40:00  NaN   6.32621       NaN\n",
       "165 2017-05-04 11:45:00  NaN  7.160918       NaN\n",
       "166 2017-05-04 11:50:00  NaN  7.894569       NaN\n",
       "167 2017-05-04 11:55:00  NaN  8.255017       NaN\n",
       "168 2017-05-04 12:00:00  NaN  8.141934       NaN\n",
       "169 2017-05-04 12:05:00  NaN  7.679651       NaN"
      ]
     },
     "execution_count": 20,
     "metadata": {},
     "output_type": "execute_result"
    }
   ],
   "source": [
    "forecast.iloc[-15:]"
   ]
  },
  {
   "cell_type": "code",
   "execution_count": 17,
   "id": "1f1e357b",
   "metadata": {},
   "outputs": [
    {
     "data": {
      "image/png": "[encoded data removed]",
      "text/plain": [
       "<Figure size 720x432 with 1 Axes>"
      ]
     },
     "metadata": {},
     "output_type": "display_data"
    }
   ],
   "source": [
    "f = m.plot(forecast)"
   ]
  },
  {
   "cell_type": "code",
   "execution_count": null,
   "id": "b6637ee0",
   "metadata": {},
   "outputs": [],
   "source": []
  },
  {
   "cell_type": "code",
   "execution_count": null,
   "id": "468311f8",
   "metadata": {},
   "outputs": [],
   "source": []
  }
 ],
 "metadata": {
  "kernelspec": {
   "display_name": "Python 3",
   "language": "python",
   "name": "python3"
  },
  "language_info": {
   "codemirror_mode": {
    "name": "ipython",
    "version": 3
   },
   "file_extension": ".py",
   "mimetype": "text/x-python",
   "name": "python",
   "nbconvert_exporter": "python",
   "pygments_lexer": "ipython3",
   "version": "3.7.10"
  }
 },
 "nbformat": 4,
 "nbformat_minor": 5
}
