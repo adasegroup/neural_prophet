{
 "cells": [
  {
   "cell_type": "code",
   "execution_count": 1,
   "id": "48053085",
   "metadata": {},
   "outputs": [],
   "source": [
    "from neuralprophet import NBeats, LSTM, DeepAR, NeuralProphet, TFT\n",
    "from neuralprophet.utils.df_utils import split_df\n",
    "\n",
    "\n",
    "import pandas as pd\n",
    "import numpy as np\n",
    "import os"
   ]
  },
  {
   "cell_type": "code",
   "execution_count": 2,
   "id": "fc4c3d53",
   "metadata": {},
   "outputs": [],
   "source": [
    "from neuralprophet.tools.metrics_libra import *"
   ]
  },
  {
   "cell_type": "code",
   "execution_count": 3,
   "id": "760e95f7",
   "metadata": {},
   "outputs": [],
   "source": [
    "data_loc = '../example_data/LIBRA/'\n",
    "datasets = os.listdir(data_loc)\n",
    "\n",
    "\n",
    "datasets_economics = [dataset for dataset in datasets if 'economics' in dataset]\n",
    "datasets_finance = [dataset for dataset in datasets if 'finance' in dataset]\n",
    "datasets_human = [dataset for dataset in datasets if 'human' in dataset]\n",
    "datasets_nature = [dataset for dataset in datasets if 'nature' in dataset]"
   ]
  },
  {
   "cell_type": "code",
   "execution_count": null,
   "id": "2a043726",
   "metadata": {},
   "outputs": [],
   "source": []
  },
  {
   "cell_type": "code",
   "execution_count": 4,
   "id": "b8c3de04",
   "metadata": {},
   "outputs": [],
   "source": [
    "# usecase = 'economics'\n",
    "# mode = 'one_step_ahed' #'multi_step_ahed'\n",
    "# dev_run = False\n",
    "\n",
    "# datasets_usecase = [dataset for dataset in datasets if usecase in dataset]\n",
    "\n",
    "# if dev_run:\n",
    "#     datasets_usecase = datasets_usecase[:5]"
   ]
  },
  {
   "cell_type": "code",
   "execution_count": null,
   "id": "273f9aac",
   "metadata": {},
   "outputs": [],
   "source": []
  },
  {
   "cell_type": "code",
   "execution_count": 5,
   "id": "eb6f6310",
   "metadata": {},
   "outputs": [],
   "source": [
    "usecase = 'nature'\n",
    "\n",
    "datasets = {}\n",
    "\n",
    "if usecase == 'economics':\n",
    "    for dataset in datasets_economics:\n",
    "        datasets.update({dataset:pd.read_csv(data_loc + dataset)})\n",
    "elif usecase == 'finance':\n",
    "    for dataset in datasets_finance:\n",
    "        datasets.update({dataset:pd.read_csv(data_loc + dataset)})\n",
    "elif usecase == 'human':\n",
    "    for dataset in datasets_human:\n",
    "        datasets.update({dataset:pd.read_csv(data_loc + dataset)})\n",
    "elif usecase == 'nature':\n",
    "    for dataset in datasets_nature:\n",
    "        datasets.update({dataset:pd.read_csv(data_loc + dataset)})\n",
    "    \n",
    "    \n",
    "frequencies = pd.read_csv(data_loc + 'freq.csv')\n",
    "mapping_frequencies_economics = {\n",
    "    1 : 'D',\n",
    "    4: 'Q',\n",
    "    12: 'M',\n",
    "    52: 'W',\n",
    "    24: 'H',\n",
    "    7: 'W',\n",
    "    91: 'D',\n",
    "    364: 'D', \n",
    "    360: 'D',\n",
    "    168: 'D',\n",
    "    672: 'D',\n",
    "    96: 'H', \n",
    "    288: 'D',\n",
    "    28: 'D',\n",
    "    6: 'D',\n",
    "    30: 'D',\n",
    "    720: 'D'\n",
    "    \n",
    "}\n",
    "\n",
    "def mapping(x):\n",
    "    try:\n",
    "        return mapping_frequencies_economics[x]\n",
    "    except:\n",
    "        return 'D'\n"
   ]
  },
  {
   "cell_type": "code",
   "execution_count": null,
   "id": "2a93deed",
   "metadata": {},
   "outputs": [],
   "source": []
  },
  {
   "cell_type": "markdown",
   "id": "df8e4f60",
   "metadata": {},
   "source": [
    "Following the original LIBRA work"
   ]
  },
  {
   "cell_type": "code",
   "execution_count": null,
   "id": "174cee50",
   "metadata": {},
   "outputs": [],
   "source": []
  },
  {
   "cell_type": "code",
   "execution_count": null,
   "id": "0766ac70",
   "metadata": {},
   "outputs": [],
   "source": []
  },
  {
   "cell_type": "markdown",
   "id": "da34cf52",
   "metadata": {},
   "source": [
    "# One step ahead"
   ]
  },
  {
   "cell_type": "code",
   "execution_count": 6,
   "id": "04f79cd7",
   "metadata": {},
   "outputs": [],
   "source": [
    "valid_p = 0.2\n",
    "n_forecasts = 1"
   ]
  },
  {
   "cell_type": "code",
   "execution_count": 7,
   "id": "c0fc410e",
   "metadata": {},
   "outputs": [],
   "source": [
    "from tqdm.notebook import tqdm"
   ]
  },
  {
   "cell_type": "code",
   "execution_count": null,
   "id": "55a72be0",
   "metadata": {},
   "outputs": [],
   "source": []
  },
  {
   "cell_type": "code",
   "execution_count": null,
   "id": "36bcdba3",
   "metadata": {
    "scrolled": true
   },
   "outputs": [
    {
     "data": {
      "application/vnd.jupyter.widget-view+json": {
       "model_id": "7120c3194afe4a2f807be998a33038a7",
       "version_major": 2,
       "version_minor": 0
      },
      "text/plain": [
       "  0%|          | 0/100 [00:00<?, ?it/s]"
      ]
     },
     "metadata": {},
     "output_type": "display_data"
    },
    {
     "name": "stderr",
     "output_type": "stream",
     "text": [
      "INFO - (NP.config.set_auto_batch_epoch) - Auto-set batch_size to 16\n",
      "\n",
      "  0%|          | 0/50 [00:00<?, ?it/s]\u001b[AGPU available: False, used: False\n",
      "TPU available: False, using: 0 TPU cores\n",
      "WARNING - (py.warnings._showwarnmsg) - /Users/polina/.conda/envs/neural_prophet/lib/python3.7/site-packages/pytorch_lightning/utilities/distributed.py:68: UserWarning: you defined a validation_step but have no val_dataloader. Skipping validation loop\n",
      "  warnings.warn(*args, **kwargs)\n",
      "\n",
      "\n",
      "  | Name      | Type         | Params\n",
      "-------------------------------------------\n",
      "0 | lstm      | LSTM         | 960   \n",
      "1 | linear    | Linear       | 11    \n",
      "2 | loss_func | SmoothL1Loss | 0     \n",
      "-------------------------------------------\n",
      "971       Trainable params\n",
      "0         Non-trainable params\n",
      "971       Total params\n",
      "0.004     Total estimated model params size (MB)\n"
     ]
    },
    {
     "data": {
      "application/vnd.jupyter.widget-view+json": {
       "model_id": "",
       "version_major": 2,
       "version_minor": 0
      },
      "text/plain": [
       "Validation sanity check: 0it [00:00, ?it/s]"
      ]
     },
     "metadata": {},
     "output_type": "display_data"
    },
    {
     "name": "stderr",
     "output_type": "stream",
     "text": [
      "WARNING - (py.warnings._showwarnmsg) - /Users/polina/.conda/envs/neural_prophet/lib/python3.7/site-packages/pytorch_lightning/utilities/distributed.py:68: UserWarning: The dataloader, train dataloader, does not have many workers which may be a bottleneck. Consider increasing the value of the `num_workers` argument` (try 8 which is the number of cpus on this machine) in the `DataLoader` init to improve performance.\n",
      "  warnings.warn(*args, **kwargs)\n",
      "\n"
     ]
    },
    {
     "data": {
      "application/vnd.jupyter.widget-view+json": {
       "model_id": "cface383abc44acd853769316e7ae2c3",
       "version_major": 2,
       "version_minor": 0
      },
      "text/plain": [
       "Training: 0it [00:00, ?it/s]"
      ]
     },
     "metadata": {},
     "output_type": "display_data"
    },
    {
     "name": "stderr",
     "output_type": "stream",
     "text": [
      "WARNING - (py.warnings._showwarnmsg) - /Users/polina/fds/neural_prophet/neuralprophet/tools/metrics_libra.py:13: RuntimeWarning: divide by zero encountered in double_scalars\n",
      "  return y_pred_mae / naive_mae\n",
      "\n",
      "INFO - (NP.utils.set_auto_seasonalities) - Disabling weekly seasonality. Run NeuralProphet with weekly_seasonality=True to override this.\n",
      "INFO - (NP.utils.set_auto_seasonalities) - Disabling daily seasonality. Run NeuralProphet with daily_seasonality=True to override this.\n",
      "INFO - (NP.config.set_auto_batch_epoch) - Auto-set batch_size to 16\n",
      "\n",
      "\n",
      "  0%|          | 0/50 [00:00<?, ?it/s]\u001b[A\u001b[AGPU available: False, used: False\n",
      "TPU available: False, using: 0 TPU cores\n",
      "WARNING - (py.warnings._showwarnmsg) - /Users/polina/.conda/envs/neural_prophet/lib/python3.7/site-packages/pytorch_lightning/utilities/distributed.py:68: UserWarning: you defined a validation_step but have no val_dataloader. Skipping validation loop\n",
      "  warnings.warn(*args, **kwargs)\n",
      "\n",
      "\n",
      "  | Name          | Type          | Params\n",
      "------------------------------------------------\n",
      "0 | season_params | ParameterDict | 12    \n",
      "1 | ar_net        | ModuleList    | 12    \n",
      "2 | loss_func     | SmoothL1Loss  | 0     \n",
      "------------------------------------------------\n",
      "37        Trainable params\n",
      "0         Non-trainable params\n",
      "37        Total params\n",
      "0.000     Total estimated model params size (MB)\n"
     ]
    },
    {
     "data": {
      "application/vnd.jupyter.widget-view+json": {
       "model_id": "",
       "version_major": 2,
       "version_minor": 0
      },
      "text/plain": [
       "Validation sanity check: 0it [00:00, ?it/s]"
      ]
     },
     "metadata": {},
     "output_type": "display_data"
    },
    {
     "name": "stderr",
     "output_type": "stream",
     "text": [
      "WARNING - (py.warnings._showwarnmsg) - /Users/polina/.conda/envs/neural_prophet/lib/python3.7/site-packages/pytorch_lightning/utilities/distributed.py:68: UserWarning: The dataloader, train dataloader, does not have many workers which may be a bottleneck. Consider increasing the value of the `num_workers` argument` (try 8 which is the number of cpus on this machine) in the `DataLoader` init to improve performance.\n",
      "  warnings.warn(*args, **kwargs)\n",
      "\n"
     ]
    },
    {
     "data": {
      "application/vnd.jupyter.widget-view+json": {
       "model_id": "c97fc9e27e734b0f9b0141f760b9c1ec",
       "version_major": 2,
       "version_minor": 0
      },
      "text/plain": [
       "Training: 0it [00:00, ?it/s]"
      ]
     },
     "metadata": {},
     "output_type": "display_data"
    },
    {
     "name": "stderr",
     "output_type": "stream",
     "text": [
      "WARNING - (py.warnings._showwarnmsg) - /Users/polina/fds/neural_prophet/neuralprophet/tools/metrics_libra.py:13: RuntimeWarning: divide by zero encountered in double_scalars\n",
      "  return y_pred_mae / naive_mae\n",
      "\n",
      "  0%|          | 0/50 [00:05<?, ?it/s]\n",
      "\n",
      "                                      \u001b[AGPU available: False, used: False\n",
      "TPU available: False, using: 0 TPU cores\n",
      "WARNING - (py.warnings._showwarnmsg) - /Users/polina/.conda/envs/neural_prophet/lib/python3.7/site-packages/pytorch_lightning/utilities/distributed.py:68: UserWarning: you defined a validation_step but have no val_dataloader. Skipping validation loop\n",
      "  warnings.warn(*args, **kwargs)\n",
      "\n",
      "\n",
      "  | Name                   | Type                   | Params\n",
      "------------------------------------------------------------------\n",
      "0 | loss                   | NormalDistributionLoss | 0     \n",
      "1 | logging_metrics        | ModuleList             | 0     \n",
      "2 | embeddings             | MultiEmbedding         | 0     \n",
      "3 | rnn                    | LSTM                   | 12.9 K\n",
      "4 | distribution_projector | Linear                 | 66    \n",
      "------------------------------------------------------------------\n",
      "13.0 K    Trainable params\n",
      "0         Non-trainable params\n",
      "13.0 K    Total params\n",
      "0.052     Total estimated model params size (MB)\n"
     ]
    },
    {
     "data": {
      "application/vnd.jupyter.widget-view+json": {
       "model_id": "10cb336312c24b0988d0e2e614cd0259",
       "version_major": 2,
       "version_minor": 0
      },
      "text/plain": [
       "Finding best initial lr:   0%|          | 0/100 [00:00<?, ?it/s]"
      ]
     },
     "metadata": {},
     "output_type": "display_data"
    },
    {
     "name": "stderr",
     "output_type": "stream",
     "text": [
      "Restored states from the checkpoint file at /Users/polina/fds/neural_prophet/example_notebooks/lr_find_temp_model.ckpt\n",
      "\n",
      "  | Name                   | Type                   | Params\n",
      "------------------------------------------------------------------\n",
      "0 | loss                   | NormalDistributionLoss | 0     \n",
      "1 | logging_metrics        | ModuleList             | 0     \n",
      "2 | embeddings             | MultiEmbedding         | 0     \n",
      "3 | rnn                    | LSTM                   | 12.9 K\n",
      "4 | distribution_projector | Linear                 | 66    \n",
      "------------------------------------------------------------------\n",
      "13.0 K    Trainable params\n",
      "0         Non-trainable params\n",
      "13.0 K    Total params\n",
      "0.052     Total estimated model params size (MB)\n"
     ]
    },
    {
     "data": {
      "application/vnd.jupyter.widget-view+json": {
       "model_id": "cce5c8219424478093be34fb9ce8f5eb",
       "version_major": 2,
       "version_minor": 0
      },
      "text/plain": [
       "Training: 14it [00:00, ?it/s]"
      ]
     },
     "metadata": {},
     "output_type": "display_data"
    },
    {
     "data": {
      "application/vnd.jupyter.widget-view+json": {
       "model_id": "",
       "version_major": 2,
       "version_minor": 0
      },
      "text/plain": [
       "Validating: 0it [00:00, ?it/s]"
      ]
     },
     "metadata": {},
     "output_type": "display_data"
    },
    {
     "data": {
      "application/vnd.jupyter.widget-view+json": {
       "model_id": "",
       "version_major": 2,
       "version_minor": 0
      },
      "text/plain": [
       "Validating: 0it [00:00, ?it/s]"
      ]
     },
     "metadata": {},
     "output_type": "display_data"
    },
    {
     "data": {
      "application/vnd.jupyter.widget-view+json": {
       "model_id": "",
       "version_major": 2,
       "version_minor": 0
      },
      "text/plain": [
       "Validating: 0it [00:00, ?it/s]"
      ]
     },
     "metadata": {},
     "output_type": "display_data"
    },
    {
     "data": {
      "application/vnd.jupyter.widget-view+json": {
       "model_id": "",
       "version_major": 2,
       "version_minor": 0
      },
      "text/plain": [
       "Validating: 0it [00:00, ?it/s]"
      ]
     },
     "metadata": {},
     "output_type": "display_data"
    },
    {
     "data": {
      "application/vnd.jupyter.widget-view+json": {
       "model_id": "",
       "version_major": 2,
       "version_minor": 0
      },
      "text/plain": [
       "Validating: 0it [00:00, ?it/s]"
      ]
     },
     "metadata": {},
     "output_type": "display_data"
    },
    {
     "data": {
      "application/vnd.jupyter.widget-view+json": {
       "model_id": "",
       "version_major": 2,
       "version_minor": 0
      },
      "text/plain": [
       "Validating: 0it [00:00, ?it/s]"
      ]
     },
     "metadata": {},
     "output_type": "display_data"
    },
    {
     "data": {
      "application/vnd.jupyter.widget-view+json": {
       "model_id": "",
       "version_major": 2,
       "version_minor": 0
      },
      "text/plain": [
       "Validating: 0it [00:00, ?it/s]"
      ]
     },
     "metadata": {},
     "output_type": "display_data"
    },
    {
     "data": {
      "application/vnd.jupyter.widget-view+json": {
       "model_id": "",
       "version_major": 2,
       "version_minor": 0
      },
      "text/plain": [
       "Validating: 0it [00:00, ?it/s]"
      ]
     },
     "metadata": {},
     "output_type": "display_data"
    },
    {
     "data": {
      "application/vnd.jupyter.widget-view+json": {
       "model_id": "",
       "version_major": 2,
       "version_minor": 0
      },
      "text/plain": [
       "Validating: 0it [00:00, ?it/s]"
      ]
     },
     "metadata": {},
     "output_type": "display_data"
    },
    {
     "data": {
      "application/vnd.jupyter.widget-view+json": {
       "model_id": "",
       "version_major": 2,
       "version_minor": 0
      },
      "text/plain": [
       "Validating: 0it [00:00, ?it/s]"
      ]
     },
     "metadata": {},
     "output_type": "display_data"
    },
    {
     "data": {
      "application/vnd.jupyter.widget-view+json": {
       "model_id": "",
       "version_major": 2,
       "version_minor": 0
      },
      "text/plain": [
       "Validating: 0it [00:00, ?it/s]"
      ]
     },
     "metadata": {},
     "output_type": "display_data"
    },
    {
     "data": {
      "application/vnd.jupyter.widget-view+json": {
       "model_id": "",
       "version_major": 2,
       "version_minor": 0
      },
      "text/plain": [
       "Validating: 0it [00:00, ?it/s]"
      ]
     },
     "metadata": {},
     "output_type": "display_data"
    },
    {
     "data": {
      "application/vnd.jupyter.widget-view+json": {
       "model_id": "",
       "version_major": 2,
       "version_minor": 0
      },
      "text/plain": [
       "Validating: 0it [00:00, ?it/s]"
      ]
     },
     "metadata": {},
     "output_type": "display_data"
    },
    {
     "data": {
      "application/vnd.jupyter.widget-view+json": {
       "model_id": "",
       "version_major": 2,
       "version_minor": 0
      },
      "text/plain": [
       "Validating: 0it [00:00, ?it/s]"
      ]
     },
     "metadata": {},
     "output_type": "display_data"
    },
    {
     "data": {
      "application/vnd.jupyter.widget-view+json": {
       "model_id": "",
       "version_major": 2,
       "version_minor": 0
      },
      "text/plain": [
       "Validating: 0it [00:00, ?it/s]"
      ]
     },
     "metadata": {},
     "output_type": "display_data"
    },
    {
     "name": "stderr",
     "output_type": "stream",
     "text": [
      "WARNING - (py.warnings._showwarnmsg) - /Users/polina/.conda/envs/neural_prophet/lib/python3.7/site-packages/pandas/core/indexing.py:1738: SettingWithCopyWarning: \n",
      "A value is trying to be set on a copy of a slice from a DataFrame.\n",
      "Try using .loc[row_indexer,col_indexer] = value instead\n",
      "\n",
      "See the caveats in the documentation: https://pandas.pydata.org/pandas-docs/stable/user_guide/indexing.html#returning-a-view-versus-a-copy\n",
      "  self._setitem_single_column(loc, value[:, i].tolist(), pi)\n",
      "\n",
      "WARNING - (py.warnings._showwarnmsg) - /Users/polina/fds/neural_prophet/neuralprophet/tools/metrics_libra.py:13: RuntimeWarning: divide by zero encountered in double_scalars\n",
      "  return y_pred_mae / naive_mae\n",
      "\n",
      "GPU available: False, used: False\n",
      "TPU available: False, using: 0 TPU cores\n",
      "\n",
      "  | Name            | Type       | Params\n",
      "-----------------------------------------------\n",
      "0 | loss            | MASE       | 0     \n",
      "1 | logging_metrics | ModuleList | 0     \n",
      "2 | net_blocks      | ModuleList | 1.6 M \n",
      "-----------------------------------------------\n",
      "1.6 M     Trainable params\n",
      "0         Non-trainable params\n",
      "1.6 M     Total params\n",
      "6.421     Total estimated model params size (MB)\n"
     ]
    },
    {
     "data": {
      "application/vnd.jupyter.widget-view+json": {
       "model_id": "0a53eb4d90a24bbc8e44662ddf85d419",
       "version_major": 2,
       "version_minor": 0
      },
      "text/plain": [
       "Training: 0it [00:00, ?it/s]"
      ]
     },
     "metadata": {},
     "output_type": "display_data"
    },
    {
     "data": {
      "application/vnd.jupyter.widget-view+json": {
       "model_id": "",
       "version_major": 2,
       "version_minor": 0
      },
      "text/plain": [
       "Validating: 0it [00:00, ?it/s]"
      ]
     },
     "metadata": {},
     "output_type": "display_data"
    },
    {
     "data": {
      "application/vnd.jupyter.widget-view+json": {
       "model_id": "",
       "version_major": 2,
       "version_minor": 0
      },
      "text/plain": [
       "Validating: 0it [00:00, ?it/s]"
      ]
     },
     "metadata": {},
     "output_type": "display_data"
    },
    {
     "data": {
      "application/vnd.jupyter.widget-view+json": {
       "model_id": "",
       "version_major": 2,
       "version_minor": 0
      },
      "text/plain": [
       "Validating: 0it [00:00, ?it/s]"
      ]
     },
     "metadata": {},
     "output_type": "display_data"
    },
    {
     "data": {
      "application/vnd.jupyter.widget-view+json": {
       "model_id": "",
       "version_major": 2,
       "version_minor": 0
      },
      "text/plain": [
       "Validating: 0it [00:00, ?it/s]"
      ]
     },
     "metadata": {},
     "output_type": "display_data"
    },
    {
     "data": {
      "application/vnd.jupyter.widget-view+json": {
       "model_id": "",
       "version_major": 2,
       "version_minor": 0
      },
      "text/plain": [
       "Validating: 0it [00:00, ?it/s]"
      ]
     },
     "metadata": {},
     "output_type": "display_data"
    },
    {
     "data": {
      "application/vnd.jupyter.widget-view+json": {
       "model_id": "",
       "version_major": 2,
       "version_minor": 0
      },
      "text/plain": [
       "Validating: 0it [00:00, ?it/s]"
      ]
     },
     "metadata": {},
     "output_type": "display_data"
    },
    {
     "data": {
      "application/vnd.jupyter.widget-view+json": {
       "model_id": "",
       "version_major": 2,
       "version_minor": 0
      },
      "text/plain": [
       "Validating: 0it [00:00, ?it/s]"
      ]
     },
     "metadata": {},
     "output_type": "display_data"
    },
    {
     "data": {
      "application/vnd.jupyter.widget-view+json": {
       "model_id": "",
       "version_major": 2,
       "version_minor": 0
      },
      "text/plain": [
       "Validating: 0it [00:00, ?it/s]"
      ]
     },
     "metadata": {},
     "output_type": "display_data"
    },
    {
     "data": {
      "application/vnd.jupyter.widget-view+json": {
       "model_id": "",
       "version_major": 2,
       "version_minor": 0
      },
      "text/plain": [
       "Validating: 0it [00:00, ?it/s]"
      ]
     },
     "metadata": {},
     "output_type": "display_data"
    },
    {
     "data": {
      "application/vnd.jupyter.widget-view+json": {
       "model_id": "",
       "version_major": 2,
       "version_minor": 0
      },
      "text/plain": [
       "Validating: 0it [00:00, ?it/s]"
      ]
     },
     "metadata": {},
     "output_type": "display_data"
    },
    {
     "data": {
      "application/vnd.jupyter.widget-view+json": {
       "model_id": "",
       "version_major": 2,
       "version_minor": 0
      },
      "text/plain": [
       "Validating: 0it [00:00, ?it/s]"
      ]
     },
     "metadata": {},
     "output_type": "display_data"
    },
    {
     "data": {
      "application/vnd.jupyter.widget-view+json": {
       "model_id": "",
       "version_major": 2,
       "version_minor": 0
      },
      "text/plain": [
       "Validating: 0it [00:00, ?it/s]"
      ]
     },
     "metadata": {},
     "output_type": "display_data"
    },
    {
     "data": {
      "application/vnd.jupyter.widget-view+json": {
       "model_id": "",
       "version_major": 2,
       "version_minor": 0
      },
      "text/plain": [
       "Validating: 0it [00:00, ?it/s]"
      ]
     },
     "metadata": {},
     "output_type": "display_data"
    },
    {
     "data": {
      "application/vnd.jupyter.widget-view+json": {
       "model_id": "",
       "version_major": 2,
       "version_minor": 0
      },
      "text/plain": [
       "Validating: 0it [00:00, ?it/s]"
      ]
     },
     "metadata": {},
     "output_type": "display_data"
    },
    {
     "data": {
      "application/vnd.jupyter.widget-view+json": {
       "model_id": "",
       "version_major": 2,
       "version_minor": 0
      },
      "text/plain": [
       "Validating: 0it [00:00, ?it/s]"
      ]
     },
     "metadata": {},
     "output_type": "display_data"
    },
    {
     "data": {
      "application/vnd.jupyter.widget-view+json": {
       "model_id": "",
       "version_major": 2,
       "version_minor": 0
      },
      "text/plain": [
       "Validating: 0it [00:00, ?it/s]"
      ]
     },
     "metadata": {},
     "output_type": "display_data"
    },
    {
     "data": {
      "application/vnd.jupyter.widget-view+json": {
       "model_id": "",
       "version_major": 2,
       "version_minor": 0
      },
      "text/plain": [
       "Validating: 0it [00:00, ?it/s]"
      ]
     },
     "metadata": {},
     "output_type": "display_data"
    },
    {
     "data": {
      "application/vnd.jupyter.widget-view+json": {
       "model_id": "",
       "version_major": 2,
       "version_minor": 0
      },
      "text/plain": [
       "Validating: 0it [00:00, ?it/s]"
      ]
     },
     "metadata": {},
     "output_type": "display_data"
    },
    {
     "data": {
      "application/vnd.jupyter.widget-view+json": {
       "model_id": "",
       "version_major": 2,
       "version_minor": 0
      },
      "text/plain": [
       "Validating: 0it [00:00, ?it/s]"
      ]
     },
     "metadata": {},
     "output_type": "display_data"
    },
    {
     "data": {
      "application/vnd.jupyter.widget-view+json": {
       "model_id": "",
       "version_major": 2,
       "version_minor": 0
      },
      "text/plain": [
       "Validating: 0it [00:00, ?it/s]"
      ]
     },
     "metadata": {},
     "output_type": "display_data"
    },
    {
     "data": {
      "application/vnd.jupyter.widget-view+json": {
       "model_id": "",
       "version_major": 2,
       "version_minor": 0
      },
      "text/plain": [
       "Validating: 0it [00:00, ?it/s]"
      ]
     },
     "metadata": {},
     "output_type": "display_data"
    },
    {
     "data": {
      "application/vnd.jupyter.widget-view+json": {
       "model_id": "",
       "version_major": 2,
       "version_minor": 0
      },
      "text/plain": [
       "Validating: 0it [00:00, ?it/s]"
      ]
     },
     "metadata": {},
     "output_type": "display_data"
    },
    {
     "data": {
      "application/vnd.jupyter.widget-view+json": {
       "model_id": "",
       "version_major": 2,
       "version_minor": 0
      },
      "text/plain": [
       "Validating: 0it [00:00, ?it/s]"
      ]
     },
     "metadata": {},
     "output_type": "display_data"
    },
    {
     "data": {
      "application/vnd.jupyter.widget-view+json": {
       "model_id": "",
       "version_major": 2,
       "version_minor": 0
      },
      "text/plain": [
       "Validating: 0it [00:00, ?it/s]"
      ]
     },
     "metadata": {},
     "output_type": "display_data"
    },
    {
     "data": {
      "application/vnd.jupyter.widget-view+json": {
       "model_id": "",
       "version_major": 2,
       "version_minor": 0
      },
      "text/plain": [
       "Validating: 0it [00:00, ?it/s]"
      ]
     },
     "metadata": {},
     "output_type": "display_data"
    },
    {
     "data": {
      "application/vnd.jupyter.widget-view+json": {
       "model_id": "",
       "version_major": 2,
       "version_minor": 0
      },
      "text/plain": [
       "Validating: 0it [00:00, ?it/s]"
      ]
     },
     "metadata": {},
     "output_type": "display_data"
    },
    {
     "data": {
      "application/vnd.jupyter.widget-view+json": {
       "model_id": "",
       "version_major": 2,
       "version_minor": 0
      },
      "text/plain": [
       "Validating: 0it [00:00, ?it/s]"
      ]
     },
     "metadata": {},
     "output_type": "display_data"
    },
    {
     "data": {
      "application/vnd.jupyter.widget-view+json": {
       "model_id": "",
       "version_major": 2,
       "version_minor": 0
      },
      "text/plain": [
       "Validating: 0it [00:00, ?it/s]"
      ]
     },
     "metadata": {},
     "output_type": "display_data"
    },
    {
     "data": {
      "application/vnd.jupyter.widget-view+json": {
       "model_id": "",
       "version_major": 2,
       "version_minor": 0
      },
      "text/plain": [
       "Validating: 0it [00:00, ?it/s]"
      ]
     },
     "metadata": {},
     "output_type": "display_data"
    },
    {
     "data": {
      "application/vnd.jupyter.widget-view+json": {
       "model_id": "",
       "version_major": 2,
       "version_minor": 0
      },
      "text/plain": [
       "Validating: 0it [00:00, ?it/s]"
      ]
     },
     "metadata": {},
     "output_type": "display_data"
    },
    {
     "data": {
      "application/vnd.jupyter.widget-view+json": {
       "model_id": "",
       "version_major": 2,
       "version_minor": 0
      },
      "text/plain": [
       "Validating: 0it [00:00, ?it/s]"
      ]
     },
     "metadata": {},
     "output_type": "display_data"
    },
    {
     "data": {
      "application/vnd.jupyter.widget-view+json": {
       "model_id": "",
       "version_major": 2,
       "version_minor": 0
      },
      "text/plain": [
       "Validating: 0it [00:00, ?it/s]"
      ]
     },
     "metadata": {},
     "output_type": "display_data"
    },
    {
     "data": {
      "application/vnd.jupyter.widget-view+json": {
       "model_id": "",
       "version_major": 2,
       "version_minor": 0
      },
      "text/plain": [
       "Validating: 0it [00:00, ?it/s]"
      ]
     },
     "metadata": {},
     "output_type": "display_data"
    },
    {
     "data": {
      "application/vnd.jupyter.widget-view+json": {
       "model_id": "",
       "version_major": 2,
       "version_minor": 0
      },
      "text/plain": [
       "Validating: 0it [00:00, ?it/s]"
      ]
     },
     "metadata": {},
     "output_type": "display_data"
    },
    {
     "data": {
      "application/vnd.jupyter.widget-view+json": {
       "model_id": "",
       "version_major": 2,
       "version_minor": 0
      },
      "text/plain": [
       "Validating: 0it [00:00, ?it/s]"
      ]
     },
     "metadata": {},
     "output_type": "display_data"
    },
    {
     "data": {
      "application/vnd.jupyter.widget-view+json": {
       "model_id": "",
       "version_major": 2,
       "version_minor": 0
      },
      "text/plain": [
       "Validating: 0it [00:00, ?it/s]"
      ]
     },
     "metadata": {},
     "output_type": "display_data"
    },
    {
     "data": {
      "application/vnd.jupyter.widget-view+json": {
       "model_id": "",
       "version_major": 2,
       "version_minor": 0
      },
      "text/plain": [
       "Validating: 0it [00:00, ?it/s]"
      ]
     },
     "metadata": {},
     "output_type": "display_data"
    },
    {
     "name": "stderr",
     "output_type": "stream",
     "text": [
      "WARNING - (py.warnings._showwarnmsg) - /Users/polina/.conda/envs/neural_prophet/lib/python3.7/site-packages/pandas/core/indexing.py:1738: SettingWithCopyWarning: \n",
      "A value is trying to be set on a copy of a slice from a DataFrame.\n",
      "Try using .loc[row_indexer,col_indexer] = value instead\n",
      "\n",
      "See the caveats in the documentation: https://pandas.pydata.org/pandas-docs/stable/user_guide/indexing.html#returning-a-view-versus-a-copy\n",
      "  self._setitem_single_column(loc, value[:, i].tolist(), pi)\n",
      "\n",
      "WARNING - (py.warnings._showwarnmsg) - /Users/polina/fds/neural_prophet/neuralprophet/tools/metrics_libra.py:13: RuntimeWarning: divide by zero encountered in double_scalars\n",
      "  return y_pred_mae / naive_mae\n",
      "\n",
      "GPU available: False, used: False\n",
      "TPU available: False, using: 0 TPU cores\n",
      "\n",
      "   | Name                               | Type                            | Params\n",
      "----------------------------------------------------------------------------------------\n",
      "0  | loss                               | QuantileLoss                    | 0     \n",
      "1  | logging_metrics                    | ModuleList                      | 0     \n",
      "2  | input_embeddings                   | MultiEmbedding                  | 0     \n",
      "3  | prescalers                         | ModuleDict                      | 96    \n",
      "4  | static_variable_selection          | VariableSelectionNetwork        | 2.8 K \n",
      "5  | encoder_variable_selection         | VariableSelectionNetwork        | 2.9 K \n",
      "6  | decoder_variable_selection         | VariableSelectionNetwork        | 1.9 K \n",
      "7  | static_context_variable_selection  | GatedResidualNetwork            | 4.3 K \n",
      "8  | static_context_initial_hidden_lstm | GatedResidualNetwork            | 4.3 K \n",
      "9  | static_context_initial_cell_lstm   | GatedResidualNetwork            | 4.3 K \n",
      "10 | static_context_enrichment          | GatedResidualNetwork            | 4.3 K \n",
      "11 | lstm_encoder                       | LSTM                            | 8.4 K \n",
      "12 | lstm_decoder                       | LSTM                            | 8.4 K \n",
      "13 | post_lstm_gate_encoder             | GatedLinearUnit                 | 2.1 K \n",
      "14 | post_lstm_add_norm_encoder         | AddNorm                         | 64    \n",
      "15 | static_enrichment                  | GatedResidualNetwork            | 5.3 K \n",
      "16 | multihead_attn                     | InterpretableMultiHeadAttention | 4.2 K \n",
      "17 | post_attn_gate_norm                | GateAddNorm                     | 2.2 K \n",
      "18 | pos_wise_ff                        | GatedResidualNetwork            | 4.3 K \n",
      "19 | pre_output_gate_norm               | GateAddNorm                     | 2.2 K \n",
      "20 | output_layer                       | Linear                          | 231   \n",
      "----------------------------------------------------------------------------------------\n",
      "62.2 K    Trainable params\n",
      "0         Non-trainable params\n",
      "62.2 K    Total params\n",
      "0.249     Total estimated model params size (MB)\n"
     ]
    },
    {
     "data": {
      "application/vnd.jupyter.widget-view+json": {
       "model_id": "7fdcc6060a0042c790d07984d37fcb3e",
       "version_major": 2,
       "version_minor": 0
      },
      "text/plain": [
       "Training: 0it [00:00, ?it/s]"
      ]
     },
     "metadata": {},
     "output_type": "display_data"
    },
    {
     "data": {
      "application/vnd.jupyter.widget-view+json": {
       "model_id": "",
       "version_major": 2,
       "version_minor": 0
      },
      "text/plain": [
       "Validating: 0it [00:00, ?it/s]"
      ]
     },
     "metadata": {},
     "output_type": "display_data"
    },
    {
     "data": {
      "application/vnd.jupyter.widget-view+json": {
       "model_id": "",
       "version_major": 2,
       "version_minor": 0
      },
      "text/plain": [
       "Validating: 0it [00:00, ?it/s]"
      ]
     },
     "metadata": {},
     "output_type": "display_data"
    },
    {
     "data": {
      "application/vnd.jupyter.widget-view+json": {
       "model_id": "",
       "version_major": 2,
       "version_minor": 0
      },
      "text/plain": [
       "Validating: 0it [00:00, ?it/s]"
      ]
     },
     "metadata": {},
     "output_type": "display_data"
    },
    {
     "data": {
      "application/vnd.jupyter.widget-view+json": {
       "model_id": "",
       "version_major": 2,
       "version_minor": 0
      },
      "text/plain": [
       "Validating: 0it [00:00, ?it/s]"
      ]
     },
     "metadata": {},
     "output_type": "display_data"
    },
    {
     "data": {
      "application/vnd.jupyter.widget-view+json": {
       "model_id": "",
       "version_major": 2,
       "version_minor": 0
      },
      "text/plain": [
       "Validating: 0it [00:00, ?it/s]"
      ]
     },
     "metadata": {},
     "output_type": "display_data"
    },
    {
     "data": {
      "application/vnd.jupyter.widget-view+json": {
       "model_id": "",
       "version_major": 2,
       "version_minor": 0
      },
      "text/plain": [
       "Validating: 0it [00:00, ?it/s]"
      ]
     },
     "metadata": {},
     "output_type": "display_data"
    },
    {
     "data": {
      "application/vnd.jupyter.widget-view+json": {
       "model_id": "",
       "version_major": 2,
       "version_minor": 0
      },
      "text/plain": [
       "Validating: 0it [00:00, ?it/s]"
      ]
     },
     "metadata": {},
     "output_type": "display_data"
    },
    {
     "data": {
      "application/vnd.jupyter.widget-view+json": {
       "model_id": "",
       "version_major": 2,
       "version_minor": 0
      },
      "text/plain": [
       "Validating: 0it [00:00, ?it/s]"
      ]
     },
     "metadata": {},
     "output_type": "display_data"
    },
    {
     "data": {
      "application/vnd.jupyter.widget-view+json": {
       "model_id": "",
       "version_major": 2,
       "version_minor": 0
      },
      "text/plain": [
       "Validating: 0it [00:00, ?it/s]"
      ]
     },
     "metadata": {},
     "output_type": "display_data"
    },
    {
     "data": {
      "application/vnd.jupyter.widget-view+json": {
       "model_id": "",
       "version_major": 2,
       "version_minor": 0
      },
      "text/plain": [
       "Validating: 0it [00:00, ?it/s]"
      ]
     },
     "metadata": {},
     "output_type": "display_data"
    },
    {
     "data": {
      "application/vnd.jupyter.widget-view+json": {
       "model_id": "",
       "version_major": 2,
       "version_minor": 0
      },
      "text/plain": [
       "Validating: 0it [00:00, ?it/s]"
      ]
     },
     "metadata": {},
     "output_type": "display_data"
    },
    {
     "data": {
      "application/vnd.jupyter.widget-view+json": {
       "model_id": "",
       "version_major": 2,
       "version_minor": 0
      },
      "text/plain": [
       "Validating: 0it [00:00, ?it/s]"
      ]
     },
     "metadata": {},
     "output_type": "display_data"
    },
    {
     "data": {
      "application/vnd.jupyter.widget-view+json": {
       "model_id": "",
       "version_major": 2,
       "version_minor": 0
      },
      "text/plain": [
       "Validating: 0it [00:00, ?it/s]"
      ]
     },
     "metadata": {},
     "output_type": "display_data"
    },
    {
     "data": {
      "application/vnd.jupyter.widget-view+json": {
       "model_id": "",
       "version_major": 2,
       "version_minor": 0
      },
      "text/plain": [
       "Validating: 0it [00:00, ?it/s]"
      ]
     },
     "metadata": {},
     "output_type": "display_data"
    },
    {
     "data": {
      "application/vnd.jupyter.widget-view+json": {
       "model_id": "",
       "version_major": 2,
       "version_minor": 0
      },
      "text/plain": [
       "Validating: 0it [00:00, ?it/s]"
      ]
     },
     "metadata": {},
     "output_type": "display_data"
    },
    {
     "data": {
      "application/vnd.jupyter.widget-view+json": {
       "model_id": "",
       "version_major": 2,
       "version_minor": 0
      },
      "text/plain": [
       "Validating: 0it [00:00, ?it/s]"
      ]
     },
     "metadata": {},
     "output_type": "display_data"
    },
    {
     "data": {
      "application/vnd.jupyter.widget-view+json": {
       "model_id": "",
       "version_major": 2,
       "version_minor": 0
      },
      "text/plain": [
       "Validating: 0it [00:00, ?it/s]"
      ]
     },
     "metadata": {},
     "output_type": "display_data"
    },
    {
     "data": {
      "application/vnd.jupyter.widget-view+json": {
       "model_id": "",
       "version_major": 2,
       "version_minor": 0
      },
      "text/plain": [
       "Validating: 0it [00:00, ?it/s]"
      ]
     },
     "metadata": {},
     "output_type": "display_data"
    },
    {
     "data": {
      "application/vnd.jupyter.widget-view+json": {
       "model_id": "",
       "version_major": 2,
       "version_minor": 0
      },
      "text/plain": [
       "Validating: 0it [00:00, ?it/s]"
      ]
     },
     "metadata": {},
     "output_type": "display_data"
    },
    {
     "data": {
      "application/vnd.jupyter.widget-view+json": {
       "model_id": "",
       "version_major": 2,
       "version_minor": 0
      },
      "text/plain": [
       "Validating: 0it [00:00, ?it/s]"
      ]
     },
     "metadata": {},
     "output_type": "display_data"
    },
    {
     "data": {
      "application/vnd.jupyter.widget-view+json": {
       "model_id": "",
       "version_major": 2,
       "version_minor": 0
      },
      "text/plain": [
       "Validating: 0it [00:00, ?it/s]"
      ]
     },
     "metadata": {},
     "output_type": "display_data"
    },
    {
     "data": {
      "application/vnd.jupyter.widget-view+json": {
       "model_id": "",
       "version_major": 2,
       "version_minor": 0
      },
      "text/plain": [
       "Validating: 0it [00:00, ?it/s]"
      ]
     },
     "metadata": {},
     "output_type": "display_data"
    },
    {
     "data": {
      "application/vnd.jupyter.widget-view+json": {
       "model_id": "",
       "version_major": 2,
       "version_minor": 0
      },
      "text/plain": [
       "Validating: 0it [00:00, ?it/s]"
      ]
     },
     "metadata": {},
     "output_type": "display_data"
    },
    {
     "data": {
      "application/vnd.jupyter.widget-view+json": {
       "model_id": "",
       "version_major": 2,
       "version_minor": 0
      },
      "text/plain": [
       "Validating: 0it [00:00, ?it/s]"
      ]
     },
     "metadata": {},
     "output_type": "display_data"
    },
    {
     "data": {
      "application/vnd.jupyter.widget-view+json": {
       "model_id": "",
       "version_major": 2,
       "version_minor": 0
      },
      "text/plain": [
       "Validating: 0it [00:00, ?it/s]"
      ]
     },
     "metadata": {},
     "output_type": "display_data"
    },
    {
     "data": {
      "application/vnd.jupyter.widget-view+json": {
       "model_id": "",
       "version_major": 2,
       "version_minor": 0
      },
      "text/plain": [
       "Validating: 0it [00:00, ?it/s]"
      ]
     },
     "metadata": {},
     "output_type": "display_data"
    },
    {
     "data": {
      "application/vnd.jupyter.widget-view+json": {
       "model_id": "",
       "version_major": 2,
       "version_minor": 0
      },
      "text/plain": [
       "Validating: 0it [00:00, ?it/s]"
      ]
     },
     "metadata": {},
     "output_type": "display_data"
    },
    {
     "name": "stderr",
     "output_type": "stream",
     "text": [
      "WARNING - (py.warnings._showwarnmsg) - /Users/polina/.conda/envs/neural_prophet/lib/python3.7/site-packages/pandas/core/indexing.py:1738: SettingWithCopyWarning: \n",
      "A value is trying to be set on a copy of a slice from a DataFrame.\n",
      "Try using .loc[row_indexer,col_indexer] = value instead\n",
      "\n",
      "See the caveats in the documentation: https://pandas.pydata.org/pandas-docs/stable/user_guide/indexing.html#returning-a-view-versus-a-copy\n",
      "  self._setitem_single_column(loc, value[:, i].tolist(), pi)\n",
      "\n",
      "WARNING - (py.warnings._showwarnmsg) - /Users/polina/fds/neural_prophet/neuralprophet/tools/metrics_libra.py:13: RuntimeWarning: divide by zero encountered in double_scalars\n",
      "  return y_pred_mae / naive_mae\n",
      "\n",
      "INFO - (NP.config.set_auto_batch_epoch) - Auto-set batch_size to 16\n",
      "\n",
      "\n",
      "  0%|          | 0/50 [00:00<?, ?it/s]\u001b[A\u001b[AGPU available: False, used: False\n",
      "TPU available: False, using: 0 TPU cores\n",
      "WARNING - (py.warnings._showwarnmsg) - /Users/polina/.conda/envs/neural_prophet/lib/python3.7/site-packages/pytorch_lightning/utilities/distributed.py:68: UserWarning: you defined a validation_step but have no val_dataloader. Skipping validation loop\n",
      "  warnings.warn(*args, **kwargs)\n",
      "\n",
      "\n",
      "  | Name      | Type         | Params\n",
      "-------------------------------------------\n",
      "0 | lstm      | LSTM         | 960   \n",
      "1 | linear    | Linear       | 11    \n",
      "2 | loss_func | SmoothL1Loss | 0     \n",
      "-------------------------------------------\n",
      "971       Trainable params\n",
      "0         Non-trainable params\n",
      "971       Total params\n",
      "0.004     Total estimated model params size (MB)\n"
     ]
    },
    {
     "data": {
      "application/vnd.jupyter.widget-view+json": {
       "model_id": "",
       "version_major": 2,
       "version_minor": 0
      },
      "text/plain": [
       "Validation sanity check: 0it [00:00, ?it/s]"
      ]
     },
     "metadata": {},
     "output_type": "display_data"
    },
    {
     "name": "stderr",
     "output_type": "stream",
     "text": [
      "WARNING - (py.warnings._showwarnmsg) - /Users/polina/.conda/envs/neural_prophet/lib/python3.7/site-packages/pytorch_lightning/utilities/distributed.py:68: UserWarning: The dataloader, train dataloader, does not have many workers which may be a bottleneck. Consider increasing the value of the `num_workers` argument` (try 8 which is the number of cpus on this machine) in the `DataLoader` init to improve performance.\n",
      "  warnings.warn(*args, **kwargs)\n",
      "\n"
     ]
    },
    {
     "data": {
      "application/vnd.jupyter.widget-view+json": {
       "model_id": "e389417ae37b42d191648adc9fe99661",
       "version_major": 2,
       "version_minor": 0
      },
      "text/plain": [
       "Training: 0it [00:00, ?it/s]"
      ]
     },
     "metadata": {},
     "output_type": "display_data"
    },
    {
     "name": "stderr",
     "output_type": "stream",
     "text": [
      "INFO - (NP.utils.set_auto_seasonalities) - Disabling weekly seasonality. Run NeuralProphet with weekly_seasonality=True to override this.\n",
      "INFO - (NP.utils.set_auto_seasonalities) - Disabling daily seasonality. Run NeuralProphet with daily_seasonality=True to override this.\n",
      "INFO - (NP.config.set_auto_batch_epoch) - Auto-set batch_size to 16\n",
      "\n",
      "\n",
      "\n",
      "  0%|          | 0/50 [00:00<?, ?it/s]\u001b[A\u001b[A\u001b[AGPU available: False, used: False\n",
      "TPU available: False, using: 0 TPU cores\n",
      "WARNING - (py.warnings._showwarnmsg) - /Users/polina/.conda/envs/neural_prophet/lib/python3.7/site-packages/pytorch_lightning/utilities/distributed.py:68: UserWarning: you defined a validation_step but have no val_dataloader. Skipping validation loop\n",
      "  warnings.warn(*args, **kwargs)\n",
      "\n",
      "\n",
      "  | Name          | Type          | Params\n",
      "------------------------------------------------\n",
      "0 | season_params | ParameterDict | 12    \n",
      "1 | ar_net        | ModuleList    | 12    \n",
      "2 | loss_func     | SmoothL1Loss  | 0     \n",
      "------------------------------------------------\n",
      "37        Trainable params\n",
      "0         Non-trainable params\n",
      "37        Total params\n",
      "0.000     Total estimated model params size (MB)\n"
     ]
    },
    {
     "data": {
      "application/vnd.jupyter.widget-view+json": {
       "model_id": "",
       "version_major": 2,
       "version_minor": 0
      },
      "text/plain": [
       "Validation sanity check: 0it [00:00, ?it/s]"
      ]
     },
     "metadata": {},
     "output_type": "display_data"
    },
    {
     "name": "stderr",
     "output_type": "stream",
     "text": [
      "WARNING - (py.warnings._showwarnmsg) - /Users/polina/.conda/envs/neural_prophet/lib/python3.7/site-packages/pytorch_lightning/utilities/distributed.py:68: UserWarning: The dataloader, train dataloader, does not have many workers which may be a bottleneck. Consider increasing the value of the `num_workers` argument` (try 8 which is the number of cpus on this machine) in the `DataLoader` init to improve performance.\n",
      "  warnings.warn(*args, **kwargs)\n",
      "\n"
     ]
    },
    {
     "data": {
      "application/vnd.jupyter.widget-view+json": {
       "model_id": "1f11bfcbda90409fb82cccc42e6a3499",
       "version_major": 2,
       "version_minor": 0
      },
      "text/plain": [
       "Training: 0it [00:00, ?it/s]"
      ]
     },
     "metadata": {},
     "output_type": "display_data"
    },
    {
     "name": "stderr",
     "output_type": "stream",
     "text": [
      "GPU available: False, used: False\n",
      "TPU available: False, using: 0 TPU cores\n",
      "WARNING - (py.warnings._showwarnmsg) - /Users/polina/.conda/envs/neural_prophet/lib/python3.7/site-packages/pytorch_lightning/utilities/distributed.py:68: UserWarning: you defined a validation_step but have no val_dataloader. Skipping validation loop\n",
      "  warnings.warn(*args, **kwargs)\n",
      "\n",
      "\n",
      "  | Name                   | Type                   | Params\n",
      "------------------------------------------------------------------\n",
      "0 | loss                   | NormalDistributionLoss | 0     \n",
      "1 | logging_metrics        | ModuleList             | 0     \n",
      "2 | embeddings             | MultiEmbedding         | 0     \n",
      "3 | rnn                    | LSTM                   | 12.9 K\n",
      "4 | distribution_projector | Linear                 | 66    \n",
      "------------------------------------------------------------------\n",
      "13.0 K    Trainable params\n",
      "0         Non-trainable params\n",
      "13.0 K    Total params\n",
      "0.052     Total estimated model params size (MB)\n"
     ]
    },
    {
     "data": {
      "application/vnd.jupyter.widget-view+json": {
       "model_id": "773885df8a48494c9d32e7e269921c96",
       "version_major": 2,
       "version_minor": 0
      },
      "text/plain": [
       "Finding best initial lr:   0%|          | 0/100 [00:00<?, ?it/s]"
      ]
     },
     "metadata": {},
     "output_type": "display_data"
    },
    {
     "name": "stderr",
     "output_type": "stream",
     "text": [
      "\n",
      "\n",
      "  0%|          | 0/50 [00:01<?, ?it/s]\u001b[A\u001b[A\n",
      "Restored states from the checkpoint file at /Users/polina/fds/neural_prophet/example_notebooks/lr_find_temp_model.ckpt\n",
      "\n",
      "  | Name                   | Type                   | Params\n",
      "------------------------------------------------------------------\n",
      "0 | loss                   | NormalDistributionLoss | 0     \n",
      "1 | logging_metrics        | ModuleList             | 0     \n",
      "2 | embeddings             | MultiEmbedding         | 0     \n",
      "3 | rnn                    | LSTM                   | 12.9 K\n",
      "4 | distribution_projector | Linear                 | 66    \n",
      "------------------------------------------------------------------\n",
      "13.0 K    Trainable params\n",
      "0         Non-trainable params\n",
      "13.0 K    Total params\n",
      "0.052     Total estimated model params size (MB)\n"
     ]
    },
    {
     "data": {
      "application/vnd.jupyter.widget-view+json": {
       "model_id": "f74839e0c9b942ae9dd16604d57e7b9e",
       "version_major": 2,
       "version_minor": 0
      },
      "text/plain": [
       "Training: 1it [00:00, ?it/s]"
      ]
     },
     "metadata": {},
     "output_type": "display_data"
    },
    {
     "data": {
      "application/vnd.jupyter.widget-view+json": {
       "model_id": "",
       "version_major": 2,
       "version_minor": 0
      },
      "text/plain": [
       "Validating: 0it [00:00, ?it/s]"
      ]
     },
     "metadata": {},
     "output_type": "display_data"
    },
    {
     "data": {
      "application/vnd.jupyter.widget-view+json": {
       "model_id": "",
       "version_major": 2,
       "version_minor": 0
      },
      "text/plain": [
       "Validating: 0it [00:00, ?it/s]"
      ]
     },
     "metadata": {},
     "output_type": "display_data"
    },
    {
     "data": {
      "application/vnd.jupyter.widget-view+json": {
       "model_id": "",
       "version_major": 2,
       "version_minor": 0
      },
      "text/plain": [
       "Validating: 0it [00:00, ?it/s]"
      ]
     },
     "metadata": {},
     "output_type": "display_data"
    },
    {
     "data": {
      "application/vnd.jupyter.widget-view+json": {
       "model_id": "",
       "version_major": 2,
       "version_minor": 0
      },
      "text/plain": [
       "Validating: 0it [00:00, ?it/s]"
      ]
     },
     "metadata": {},
     "output_type": "display_data"
    },
    {
     "data": {
      "application/vnd.jupyter.widget-view+json": {
       "model_id": "",
       "version_major": 2,
       "version_minor": 0
      },
      "text/plain": [
       "Validating: 0it [00:00, ?it/s]"
      ]
     },
     "metadata": {},
     "output_type": "display_data"
    },
    {
     "data": {
      "application/vnd.jupyter.widget-view+json": {
       "model_id": "",
       "version_major": 2,
       "version_minor": 0
      },
      "text/plain": [
       "Validating: 0it [00:00, ?it/s]"
      ]
     },
     "metadata": {},
     "output_type": "display_data"
    },
    {
     "data": {
      "application/vnd.jupyter.widget-view+json": {
       "model_id": "",
       "version_major": 2,
       "version_minor": 0
      },
      "text/plain": [
       "Validating: 0it [00:00, ?it/s]"
      ]
     },
     "metadata": {},
     "output_type": "display_data"
    },
    {
     "data": {
      "application/vnd.jupyter.widget-view+json": {
       "model_id": "",
       "version_major": 2,
       "version_minor": 0
      },
      "text/plain": [
       "Validating: 0it [00:00, ?it/s]"
      ]
     },
     "metadata": {},
     "output_type": "display_data"
    },
    {
     "data": {
      "application/vnd.jupyter.widget-view+json": {
       "model_id": "",
       "version_major": 2,
       "version_minor": 0
      },
      "text/plain": [
       "Validating: 0it [00:00, ?it/s]"
      ]
     },
     "metadata": {},
     "output_type": "display_data"
    },
    {
     "data": {
      "application/vnd.jupyter.widget-view+json": {
       "model_id": "",
       "version_major": 2,
       "version_minor": 0
      },
      "text/plain": [
       "Validating: 0it [00:00, ?it/s]"
      ]
     },
     "metadata": {},
     "output_type": "display_data"
    },
    {
     "data": {
      "application/vnd.jupyter.widget-view+json": {
       "model_id": "",
       "version_major": 2,
       "version_minor": 0
      },
      "text/plain": [
       "Validating: 0it [00:00, ?it/s]"
      ]
     },
     "metadata": {},
     "output_type": "display_data"
    },
    {
     "data": {
      "application/vnd.jupyter.widget-view+json": {
       "model_id": "",
       "version_major": 2,
       "version_minor": 0
      },
      "text/plain": [
       "Validating: 0it [00:00, ?it/s]"
      ]
     },
     "metadata": {},
     "output_type": "display_data"
    },
    {
     "data": {
      "application/vnd.jupyter.widget-view+json": {
       "model_id": "",
       "version_major": 2,
       "version_minor": 0
      },
      "text/plain": [
       "Validating: 0it [00:00, ?it/s]"
      ]
     },
     "metadata": {},
     "output_type": "display_data"
    },
    {
     "data": {
      "application/vnd.jupyter.widget-view+json": {
       "model_id": "",
       "version_major": 2,
       "version_minor": 0
      },
      "text/plain": [
       "Validating: 0it [00:00, ?it/s]"
      ]
     },
     "metadata": {},
     "output_type": "display_data"
    },
    {
     "data": {
      "application/vnd.jupyter.widget-view+json": {
       "model_id": "",
       "version_major": 2,
       "version_minor": 0
      },
      "text/plain": [
       "Validating: 0it [00:00, ?it/s]"
      ]
     },
     "metadata": {},
     "output_type": "display_data"
    },
    {
     "data": {
      "application/vnd.jupyter.widget-view+json": {
       "model_id": "",
       "version_major": 2,
       "version_minor": 0
      },
      "text/plain": [
       "Validating: 0it [00:00, ?it/s]"
      ]
     },
     "metadata": {},
     "output_type": "display_data"
    },
    {
     "data": {
      "application/vnd.jupyter.widget-view+json": {
       "model_id": "",
       "version_major": 2,
       "version_minor": 0
      },
      "text/plain": [
       "Validating: 0it [00:00, ?it/s]"
      ]
     },
     "metadata": {},
     "output_type": "display_data"
    },
    {
     "data": {
      "application/vnd.jupyter.widget-view+json": {
       "model_id": "",
       "version_major": 2,
       "version_minor": 0
      },
      "text/plain": [
       "Validating: 0it [00:00, ?it/s]"
      ]
     },
     "metadata": {},
     "output_type": "display_data"
    },
    {
     "data": {
      "application/vnd.jupyter.widget-view+json": {
       "model_id": "",
       "version_major": 2,
       "version_minor": 0
      },
      "text/plain": [
       "Validating: 0it [00:00, ?it/s]"
      ]
     },
     "metadata": {},
     "output_type": "display_data"
    },
    {
     "data": {
      "application/vnd.jupyter.widget-view+json": {
       "model_id": "",
       "version_major": 2,
       "version_minor": 0
      },
      "text/plain": [
       "Validating: 0it [00:00, ?it/s]"
      ]
     },
     "metadata": {},
     "output_type": "display_data"
    },
    {
     "data": {
      "application/vnd.jupyter.widget-view+json": {
       "model_id": "",
       "version_major": 2,
       "version_minor": 0
      },
      "text/plain": [
       "Validating: 0it [00:00, ?it/s]"
      ]
     },
     "metadata": {},
     "output_type": "display_data"
    },
    {
     "data": {
      "application/vnd.jupyter.widget-view+json": {
       "model_id": "",
       "version_major": 2,
       "version_minor": 0
      },
      "text/plain": [
       "Validating: 0it [00:00, ?it/s]"
      ]
     },
     "metadata": {},
     "output_type": "display_data"
    },
    {
     "data": {
      "application/vnd.jupyter.widget-view+json": {
       "model_id": "",
       "version_major": 2,
       "version_minor": 0
      },
      "text/plain": [
       "Validating: 0it [00:00, ?it/s]"
      ]
     },
     "metadata": {},
     "output_type": "display_data"
    },
    {
     "data": {
      "application/vnd.jupyter.widget-view+json": {
       "model_id": "",
       "version_major": 2,
       "version_minor": 0
      },
      "text/plain": [
       "Validating: 0it [00:00, ?it/s]"
      ]
     },
     "metadata": {},
     "output_type": "display_data"
    },
    {
     "data": {
      "application/vnd.jupyter.widget-view+json": {
       "model_id": "",
       "version_major": 2,
       "version_minor": 0
      },
      "text/plain": [
       "Validating: 0it [00:00, ?it/s]"
      ]
     },
     "metadata": {},
     "output_type": "display_data"
    },
    {
     "data": {
      "application/vnd.jupyter.widget-view+json": {
       "model_id": "",
       "version_major": 2,
       "version_minor": 0
      },
      "text/plain": [
       "Validating: 0it [00:00, ?it/s]"
      ]
     },
     "metadata": {},
     "output_type": "display_data"
    },
    {
     "data": {
      "application/vnd.jupyter.widget-view+json": {
       "model_id": "",
       "version_major": 2,
       "version_minor": 0
      },
      "text/plain": [
       "Validating: 0it [00:00, ?it/s]"
      ]
     },
     "metadata": {},
     "output_type": "display_data"
    },
    {
     "data": {
      "application/vnd.jupyter.widget-view+json": {
       "model_id": "",
       "version_major": 2,
       "version_minor": 0
      },
      "text/plain": [
       "Validating: 0it [00:00, ?it/s]"
      ]
     },
     "metadata": {},
     "output_type": "display_data"
    },
    {
     "data": {
      "application/vnd.jupyter.widget-view+json": {
       "model_id": "",
       "version_major": 2,
       "version_minor": 0
      },
      "text/plain": [
       "Validating: 0it [00:00, ?it/s]"
      ]
     },
     "metadata": {},
     "output_type": "display_data"
    },
    {
     "data": {
      "application/vnd.jupyter.widget-view+json": {
       "model_id": "",
       "version_major": 2,
       "version_minor": 0
      },
      "text/plain": [
       "Validating: 0it [00:00, ?it/s]"
      ]
     },
     "metadata": {},
     "output_type": "display_data"
    },
    {
     "data": {
      "application/vnd.jupyter.widget-view+json": {
       "model_id": "",
       "version_major": 2,
       "version_minor": 0
      },
      "text/plain": [
       "Validating: 0it [00:00, ?it/s]"
      ]
     },
     "metadata": {},
     "output_type": "display_data"
    },
    {
     "data": {
      "application/vnd.jupyter.widget-view+json": {
       "model_id": "",
       "version_major": 2,
       "version_minor": 0
      },
      "text/plain": [
       "Validating: 0it [00:00, ?it/s]"
      ]
     },
     "metadata": {},
     "output_type": "display_data"
    },
    {
     "data": {
      "application/vnd.jupyter.widget-view+json": {
       "model_id": "",
       "version_major": 2,
       "version_minor": 0
      },
      "text/plain": [
       "Validating: 0it [00:00, ?it/s]"
      ]
     },
     "metadata": {},
     "output_type": "display_data"
    },
    {
     "data": {
      "application/vnd.jupyter.widget-view+json": {
       "model_id": "",
       "version_major": 2,
       "version_minor": 0
      },
      "text/plain": [
       "Validating: 0it [00:00, ?it/s]"
      ]
     },
     "metadata": {},
     "output_type": "display_data"
    },
    {
     "data": {
      "application/vnd.jupyter.widget-view+json": {
       "model_id": "",
       "version_major": 2,
       "version_minor": 0
      },
      "text/plain": [
       "Validating: 0it [00:00, ?it/s]"
      ]
     },
     "metadata": {},
     "output_type": "display_data"
    },
    {
     "data": {
      "application/vnd.jupyter.widget-view+json": {
       "model_id": "",
       "version_major": 2,
       "version_minor": 0
      },
      "text/plain": [
       "Validating: 0it [00:00, ?it/s]"
      ]
     },
     "metadata": {},
     "output_type": "display_data"
    },
    {
     "data": {
      "application/vnd.jupyter.widget-view+json": {
       "model_id": "",
       "version_major": 2,
       "version_minor": 0
      },
      "text/plain": [
       "Validating: 0it [00:00, ?it/s]"
      ]
     },
     "metadata": {},
     "output_type": "display_data"
    },
    {
     "name": "stderr",
     "output_type": "stream",
     "text": [
      "WARNING - (py.warnings._showwarnmsg) - /Users/polina/.conda/envs/neural_prophet/lib/python3.7/site-packages/pandas/core/indexing.py:1738: SettingWithCopyWarning: \n",
      "A value is trying to be set on a copy of a slice from a DataFrame.\n",
      "Try using .loc[row_indexer,col_indexer] = value instead\n",
      "\n",
      "See the caveats in the documentation: https://pandas.pydata.org/pandas-docs/stable/user_guide/indexing.html#returning-a-view-versus-a-copy\n",
      "  self._setitem_single_column(loc, value[:, i].tolist(), pi)\n",
      "\n",
      "GPU available: False, used: False\n",
      "TPU available: False, using: 0 TPU cores\n",
      "\n",
      "  | Name            | Type       | Params\n",
      "-----------------------------------------------\n",
      "0 | loss            | MASE       | 0     \n",
      "1 | logging_metrics | ModuleList | 0     \n",
      "2 | net_blocks      | ModuleList | 1.6 M \n",
      "-----------------------------------------------\n",
      "1.6 M     Trainable params\n",
      "0         Non-trainable params\n",
      "1.6 M     Total params\n",
      "6.421     Total estimated model params size (MB)\n"
     ]
    },
    {
     "data": {
      "application/vnd.jupyter.widget-view+json": {
       "model_id": "bf1949a39e3a4e84a61b2c3b164c07c1",
       "version_major": 2,
       "version_minor": 0
      },
      "text/plain": [
       "Training: 0it [00:00, ?it/s]"
      ]
     },
     "metadata": {},
     "output_type": "display_data"
    },
    {
     "data": {
      "application/vnd.jupyter.widget-view+json": {
       "model_id": "",
       "version_major": 2,
       "version_minor": 0
      },
      "text/plain": [
       "Validating: 0it [00:00, ?it/s]"
      ]
     },
     "metadata": {},
     "output_type": "display_data"
    },
    {
     "data": {
      "application/vnd.jupyter.widget-view+json": {
       "model_id": "",
       "version_major": 2,
       "version_minor": 0
      },
      "text/plain": [
       "Validating: 0it [00:00, ?it/s]"
      ]
     },
     "metadata": {},
     "output_type": "display_data"
    },
    {
     "data": {
      "application/vnd.jupyter.widget-view+json": {
       "model_id": "",
       "version_major": 2,
       "version_minor": 0
      },
      "text/plain": [
       "Validating: 0it [00:00, ?it/s]"
      ]
     },
     "metadata": {},
     "output_type": "display_data"
    },
    {
     "data": {
      "application/vnd.jupyter.widget-view+json": {
       "model_id": "",
       "version_major": 2,
       "version_minor": 0
      },
      "text/plain": [
       "Validating: 0it [00:00, ?it/s]"
      ]
     },
     "metadata": {},
     "output_type": "display_data"
    },
    {
     "data": {
      "application/vnd.jupyter.widget-view+json": {
       "model_id": "",
       "version_major": 2,
       "version_minor": 0
      },
      "text/plain": [
       "Validating: 0it [00:00, ?it/s]"
      ]
     },
     "metadata": {},
     "output_type": "display_data"
    },
    {
     "data": {
      "application/vnd.jupyter.widget-view+json": {
       "model_id": "",
       "version_major": 2,
       "version_minor": 0
      },
      "text/plain": [
       "Validating: 0it [00:00, ?it/s]"
      ]
     },
     "metadata": {},
     "output_type": "display_data"
    },
    {
     "data": {
      "application/vnd.jupyter.widget-view+json": {
       "model_id": "",
       "version_major": 2,
       "version_minor": 0
      },
      "text/plain": [
       "Validating: 0it [00:00, ?it/s]"
      ]
     },
     "metadata": {},
     "output_type": "display_data"
    },
    {
     "data": {
      "application/vnd.jupyter.widget-view+json": {
       "model_id": "",
       "version_major": 2,
       "version_minor": 0
      },
      "text/plain": [
       "Validating: 0it [00:00, ?it/s]"
      ]
     },
     "metadata": {},
     "output_type": "display_data"
    },
    {
     "data": {
      "application/vnd.jupyter.widget-view+json": {
       "model_id": "",
       "version_major": 2,
       "version_minor": 0
      },
      "text/plain": [
       "Validating: 0it [00:00, ?it/s]"
      ]
     },
     "metadata": {},
     "output_type": "display_data"
    },
    {
     "data": {
      "application/vnd.jupyter.widget-view+json": {
       "model_id": "",
       "version_major": 2,
       "version_minor": 0
      },
      "text/plain": [
       "Validating: 0it [00:00, ?it/s]"
      ]
     },
     "metadata": {},
     "output_type": "display_data"
    },
    {
     "data": {
      "application/vnd.jupyter.widget-view+json": {
       "model_id": "",
       "version_major": 2,
       "version_minor": 0
      },
      "text/plain": [
       "Validating: 0it [00:00, ?it/s]"
      ]
     },
     "metadata": {},
     "output_type": "display_data"
    },
    {
     "data": {
      "application/vnd.jupyter.widget-view+json": {
       "model_id": "",
       "version_major": 2,
       "version_minor": 0
      },
      "text/plain": [
       "Validating: 0it [00:00, ?it/s]"
      ]
     },
     "metadata": {},
     "output_type": "display_data"
    },
    {
     "data": {
      "application/vnd.jupyter.widget-view+json": {
       "model_id": "",
       "version_major": 2,
       "version_minor": 0
      },
      "text/plain": [
       "Validating: 0it [00:00, ?it/s]"
      ]
     },
     "metadata": {},
     "output_type": "display_data"
    },
    {
     "data": {
      "application/vnd.jupyter.widget-view+json": {
       "model_id": "",
       "version_major": 2,
       "version_minor": 0
      },
      "text/plain": [
       "Validating: 0it [00:00, ?it/s]"
      ]
     },
     "metadata": {},
     "output_type": "display_data"
    },
    {
     "data": {
      "application/vnd.jupyter.widget-view+json": {
       "model_id": "",
       "version_major": 2,
       "version_minor": 0
      },
      "text/plain": [
       "Validating: 0it [00:00, ?it/s]"
      ]
     },
     "metadata": {},
     "output_type": "display_data"
    },
    {
     "data": {
      "application/vnd.jupyter.widget-view+json": {
       "model_id": "",
       "version_major": 2,
       "version_minor": 0
      },
      "text/plain": [
       "Validating: 0it [00:00, ?it/s]"
      ]
     },
     "metadata": {},
     "output_type": "display_data"
    },
    {
     "data": {
      "application/vnd.jupyter.widget-view+json": {
       "model_id": "",
       "version_major": 2,
       "version_minor": 0
      },
      "text/plain": [
       "Validating: 0it [00:00, ?it/s]"
      ]
     },
     "metadata": {},
     "output_type": "display_data"
    },
    {
     "data": {
      "application/vnd.jupyter.widget-view+json": {
       "model_id": "",
       "version_major": 2,
       "version_minor": 0
      },
      "text/plain": [
       "Validating: 0it [00:00, ?it/s]"
      ]
     },
     "metadata": {},
     "output_type": "display_data"
    },
    {
     "data": {
      "application/vnd.jupyter.widget-view+json": {
       "model_id": "",
       "version_major": 2,
       "version_minor": 0
      },
      "text/plain": [
       "Validating: 0it [00:00, ?it/s]"
      ]
     },
     "metadata": {},
     "output_type": "display_data"
    },
    {
     "data": {
      "application/vnd.jupyter.widget-view+json": {
       "model_id": "",
       "version_major": 2,
       "version_minor": 0
      },
      "text/plain": [
       "Validating: 0it [00:00, ?it/s]"
      ]
     },
     "metadata": {},
     "output_type": "display_data"
    },
    {
     "data": {
      "application/vnd.jupyter.widget-view+json": {
       "model_id": "",
       "version_major": 2,
       "version_minor": 0
      },
      "text/plain": [
       "Validating: 0it [00:00, ?it/s]"
      ]
     },
     "metadata": {},
     "output_type": "display_data"
    },
    {
     "data": {
      "application/vnd.jupyter.widget-view+json": {
       "model_id": "",
       "version_major": 2,
       "version_minor": 0
      },
      "text/plain": [
       "Validating: 0it [00:00, ?it/s]"
      ]
     },
     "metadata": {},
     "output_type": "display_data"
    },
    {
     "data": {
      "application/vnd.jupyter.widget-view+json": {
       "model_id": "",
       "version_major": 2,
       "version_minor": 0
      },
      "text/plain": [
       "Validating: 0it [00:00, ?it/s]"
      ]
     },
     "metadata": {},
     "output_type": "display_data"
    },
    {
     "data": {
      "application/vnd.jupyter.widget-view+json": {
       "model_id": "",
       "version_major": 2,
       "version_minor": 0
      },
      "text/plain": [
       "Validating: 0it [00:00, ?it/s]"
      ]
     },
     "metadata": {},
     "output_type": "display_data"
    },
    {
     "data": {
      "application/vnd.jupyter.widget-view+json": {
       "model_id": "",
       "version_major": 2,
       "version_minor": 0
      },
      "text/plain": [
       "Validating: 0it [00:00, ?it/s]"
      ]
     },
     "metadata": {},
     "output_type": "display_data"
    },
    {
     "data": {
      "application/vnd.jupyter.widget-view+json": {
       "model_id": "",
       "version_major": 2,
       "version_minor": 0
      },
      "text/plain": [
       "Validating: 0it [00:00, ?it/s]"
      ]
     },
     "metadata": {},
     "output_type": "display_data"
    },
    {
     "data": {
      "application/vnd.jupyter.widget-view+json": {
       "model_id": "",
       "version_major": 2,
       "version_minor": 0
      },
      "text/plain": [
       "Validating: 0it [00:00, ?it/s]"
      ]
     },
     "metadata": {},
     "output_type": "display_data"
    },
    {
     "data": {
      "application/vnd.jupyter.widget-view+json": {
       "model_id": "",
       "version_major": 2,
       "version_minor": 0
      },
      "text/plain": [
       "Validating: 0it [00:00, ?it/s]"
      ]
     },
     "metadata": {},
     "output_type": "display_data"
    },
    {
     "data": {
      "application/vnd.jupyter.widget-view+json": {
       "model_id": "",
       "version_major": 2,
       "version_minor": 0
      },
      "text/plain": [
       "Validating: 0it [00:00, ?it/s]"
      ]
     },
     "metadata": {},
     "output_type": "display_data"
    },
    {
     "data": {
      "application/vnd.jupyter.widget-view+json": {
       "model_id": "",
       "version_major": 2,
       "version_minor": 0
      },
      "text/plain": [
       "Validating: 0it [00:00, ?it/s]"
      ]
     },
     "metadata": {},
     "output_type": "display_data"
    },
    {
     "data": {
      "application/vnd.jupyter.widget-view+json": {
       "model_id": "",
       "version_major": 2,
       "version_minor": 0
      },
      "text/plain": [
       "Validating: 0it [00:00, ?it/s]"
      ]
     },
     "metadata": {},
     "output_type": "display_data"
    },
    {
     "data": {
      "application/vnd.jupyter.widget-view+json": {
       "model_id": "",
       "version_major": 2,
       "version_minor": 0
      },
      "text/plain": [
       "Validating: 0it [00:00, ?it/s]"
      ]
     },
     "metadata": {},
     "output_type": "display_data"
    },
    {
     "data": {
      "application/vnd.jupyter.widget-view+json": {
       "model_id": "",
       "version_major": 2,
       "version_minor": 0
      },
      "text/plain": [
       "Validating: 0it [00:00, ?it/s]"
      ]
     },
     "metadata": {},
     "output_type": "display_data"
    },
    {
     "data": {
      "application/vnd.jupyter.widget-view+json": {
       "model_id": "",
       "version_major": 2,
       "version_minor": 0
      },
      "text/plain": [
       "Validating: 0it [00:00, ?it/s]"
      ]
     },
     "metadata": {},
     "output_type": "display_data"
    },
    {
     "data": {
      "application/vnd.jupyter.widget-view+json": {
       "model_id": "",
       "version_major": 2,
       "version_minor": 0
      },
      "text/plain": [
       "Validating: 0it [00:00, ?it/s]"
      ]
     },
     "metadata": {},
     "output_type": "display_data"
    },
    {
     "data": {
      "application/vnd.jupyter.widget-view+json": {
       "model_id": "",
       "version_major": 2,
       "version_minor": 0
      },
      "text/plain": [
       "Validating: 0it [00:00, ?it/s]"
      ]
     },
     "metadata": {},
     "output_type": "display_data"
    },
    {
     "data": {
      "application/vnd.jupyter.widget-view+json": {
       "model_id": "",
       "version_major": 2,
       "version_minor": 0
      },
      "text/plain": [
       "Validating: 0it [00:00, ?it/s]"
      ]
     },
     "metadata": {},
     "output_type": "display_data"
    },
    {
     "data": {
      "application/vnd.jupyter.widget-view+json": {
       "model_id": "",
       "version_major": 2,
       "version_minor": 0
      },
      "text/plain": [
       "Validating: 0it [00:00, ?it/s]"
      ]
     },
     "metadata": {},
     "output_type": "display_data"
    },
    {
     "data": {
      "application/vnd.jupyter.widget-view+json": {
       "model_id": "",
       "version_major": 2,
       "version_minor": 0
      },
      "text/plain": [
       "Validating: 0it [00:00, ?it/s]"
      ]
     },
     "metadata": {},
     "output_type": "display_data"
    },
    {
     "data": {
      "application/vnd.jupyter.widget-view+json": {
       "model_id": "",
       "version_major": 2,
       "version_minor": 0
      },
      "text/plain": [
       "Validating: 0it [00:00, ?it/s]"
      ]
     },
     "metadata": {},
     "output_type": "display_data"
    },
    {
     "data": {
      "application/vnd.jupyter.widget-view+json": {
       "model_id": "",
       "version_major": 2,
       "version_minor": 0
      },
      "text/plain": [
       "Validating: 0it [00:00, ?it/s]"
      ]
     },
     "metadata": {},
     "output_type": "display_data"
    },
    {
     "data": {
      "application/vnd.jupyter.widget-view+json": {
       "model_id": "",
       "version_major": 2,
       "version_minor": 0
      },
      "text/plain": [
       "Validating: 0it [00:00, ?it/s]"
      ]
     },
     "metadata": {},
     "output_type": "display_data"
    },
    {
     "data": {
      "application/vnd.jupyter.widget-view+json": {
       "model_id": "",
       "version_major": 2,
       "version_minor": 0
      },
      "text/plain": [
       "Validating: 0it [00:00, ?it/s]"
      ]
     },
     "metadata": {},
     "output_type": "display_data"
    },
    {
     "data": {
      "application/vnd.jupyter.widget-view+json": {
       "model_id": "",
       "version_major": 2,
       "version_minor": 0
      },
      "text/plain": [
       "Validating: 0it [00:00, ?it/s]"
      ]
     },
     "metadata": {},
     "output_type": "display_data"
    },
    {
     "data": {
      "application/vnd.jupyter.widget-view+json": {
       "model_id": "",
       "version_major": 2,
       "version_minor": 0
      },
      "text/plain": [
       "Validating: 0it [00:00, ?it/s]"
      ]
     },
     "metadata": {},
     "output_type": "display_data"
    },
    {
     "data": {
      "application/vnd.jupyter.widget-view+json": {
       "model_id": "",
       "version_major": 2,
       "version_minor": 0
      },
      "text/plain": [
       "Validating: 0it [00:00, ?it/s]"
      ]
     },
     "metadata": {},
     "output_type": "display_data"
    },
    {
     "data": {
      "application/vnd.jupyter.widget-view+json": {
       "model_id": "",
       "version_major": 2,
       "version_minor": 0
      },
      "text/plain": [
       "Validating: 0it [00:00, ?it/s]"
      ]
     },
     "metadata": {},
     "output_type": "display_data"
    },
    {
     "data": {
      "application/vnd.jupyter.widget-view+json": {
       "model_id": "",
       "version_major": 2,
       "version_minor": 0
      },
      "text/plain": [
       "Validating: 0it [00:00, ?it/s]"
      ]
     },
     "metadata": {},
     "output_type": "display_data"
    },
    {
     "data": {
      "application/vnd.jupyter.widget-view+json": {
       "model_id": "",
       "version_major": 2,
       "version_minor": 0
      },
      "text/plain": [
       "Validating: 0it [00:00, ?it/s]"
      ]
     },
     "metadata": {},
     "output_type": "display_data"
    },
    {
     "data": {
      "application/vnd.jupyter.widget-view+json": {
       "model_id": "",
       "version_major": 2,
       "version_minor": 0
      },
      "text/plain": [
       "Validating: 0it [00:00, ?it/s]"
      ]
     },
     "metadata": {},
     "output_type": "display_data"
    },
    {
     "name": "stderr",
     "output_type": "stream",
     "text": [
      "WARNING - (py.warnings._showwarnmsg) - /Users/polina/.conda/envs/neural_prophet/lib/python3.7/site-packages/pandas/core/indexing.py:1738: SettingWithCopyWarning: \n",
      "A value is trying to be set on a copy of a slice from a DataFrame.\n",
      "Try using .loc[row_indexer,col_indexer] = value instead\n",
      "\n",
      "See the caveats in the documentation: https://pandas.pydata.org/pandas-docs/stable/user_guide/indexing.html#returning-a-view-versus-a-copy\n",
      "  self._setitem_single_column(loc, value[:, i].tolist(), pi)\n",
      "\n",
      "GPU available: False, used: False\n",
      "TPU available: False, using: 0 TPU cores\n",
      "\n",
      "   | Name                               | Type                            | Params\n",
      "----------------------------------------------------------------------------------------\n",
      "0  | loss                               | QuantileLoss                    | 0     \n",
      "1  | logging_metrics                    | ModuleList                      | 0     \n",
      "2  | input_embeddings                   | MultiEmbedding                  | 0     \n",
      "3  | prescalers                         | ModuleDict                      | 96    \n",
      "4  | static_variable_selection          | VariableSelectionNetwork        | 2.8 K \n",
      "5  | encoder_variable_selection         | VariableSelectionNetwork        | 2.9 K \n",
      "6  | decoder_variable_selection         | VariableSelectionNetwork        | 1.9 K \n",
      "7  | static_context_variable_selection  | GatedResidualNetwork            | 4.3 K \n",
      "8  | static_context_initial_hidden_lstm | GatedResidualNetwork            | 4.3 K \n",
      "9  | static_context_initial_cell_lstm   | GatedResidualNetwork            | 4.3 K \n",
      "10 | static_context_enrichment          | GatedResidualNetwork            | 4.3 K \n",
      "11 | lstm_encoder                       | LSTM                            | 8.4 K \n",
      "12 | lstm_decoder                       | LSTM                            | 8.4 K \n",
      "13 | post_lstm_gate_encoder             | GatedLinearUnit                 | 2.1 K \n",
      "14 | post_lstm_add_norm_encoder         | AddNorm                         | 64    \n",
      "15 | static_enrichment                  | GatedResidualNetwork            | 5.3 K \n",
      "16 | multihead_attn                     | InterpretableMultiHeadAttention | 4.2 K \n",
      "17 | post_attn_gate_norm                | GateAddNorm                     | 2.2 K \n",
      "18 | pos_wise_ff                        | GatedResidualNetwork            | 4.3 K \n",
      "19 | pre_output_gate_norm               | GateAddNorm                     | 2.2 K \n",
      "20 | output_layer                       | Linear                          | 231   \n",
      "----------------------------------------------------------------------------------------\n",
      "62.2 K    Trainable params\n",
      "0         Non-trainable params\n",
      "62.2 K    Total params\n",
      "0.249     Total estimated model params size (MB)\n"
     ]
    },
    {
     "data": {
      "application/vnd.jupyter.widget-view+json": {
       "model_id": "263d3e8f11764e6ab7d113e9a330395f",
       "version_major": 2,
       "version_minor": 0
      },
      "text/plain": [
       "Training: 0it [00:00, ?it/s]"
      ]
     },
     "metadata": {},
     "output_type": "display_data"
    },
    {
     "data": {
      "application/vnd.jupyter.widget-view+json": {
       "model_id": "",
       "version_major": 2,
       "version_minor": 0
      },
      "text/plain": [
       "Validating: 0it [00:00, ?it/s]"
      ]
     },
     "metadata": {},
     "output_type": "display_data"
    },
    {
     "data": {
      "application/vnd.jupyter.widget-view+json": {
       "model_id": "",
       "version_major": 2,
       "version_minor": 0
      },
      "text/plain": [
       "Validating: 0it [00:00, ?it/s]"
      ]
     },
     "metadata": {},
     "output_type": "display_data"
    },
    {
     "data": {
      "application/vnd.jupyter.widget-view+json": {
       "model_id": "",
       "version_major": 2,
       "version_minor": 0
      },
      "text/plain": [
       "Validating: 0it [00:00, ?it/s]"
      ]
     },
     "metadata": {},
     "output_type": "display_data"
    },
    {
     "data": {
      "application/vnd.jupyter.widget-view+json": {
       "model_id": "",
       "version_major": 2,
       "version_minor": 0
      },
      "text/plain": [
       "Validating: 0it [00:00, ?it/s]"
      ]
     },
     "metadata": {},
     "output_type": "display_data"
    },
    {
     "data": {
      "application/vnd.jupyter.widget-view+json": {
       "model_id": "",
       "version_major": 2,
       "version_minor": 0
      },
      "text/plain": [
       "Validating: 0it [00:00, ?it/s]"
      ]
     },
     "metadata": {},
     "output_type": "display_data"
    },
    {
     "data": {
      "application/vnd.jupyter.widget-view+json": {
       "model_id": "",
       "version_major": 2,
       "version_minor": 0
      },
      "text/plain": [
       "Validating: 0it [00:00, ?it/s]"
      ]
     },
     "metadata": {},
     "output_type": "display_data"
    },
    {
     "data": {
      "application/vnd.jupyter.widget-view+json": {
       "model_id": "",
       "version_major": 2,
       "version_minor": 0
      },
      "text/plain": [
       "Validating: 0it [00:00, ?it/s]"
      ]
     },
     "metadata": {},
     "output_type": "display_data"
    },
    {
     "data": {
      "application/vnd.jupyter.widget-view+json": {
       "model_id": "",
       "version_major": 2,
       "version_minor": 0
      },
      "text/plain": [
       "Validating: 0it [00:00, ?it/s]"
      ]
     },
     "metadata": {},
     "output_type": "display_data"
    },
    {
     "data": {
      "application/vnd.jupyter.widget-view+json": {
       "model_id": "",
       "version_major": 2,
       "version_minor": 0
      },
      "text/plain": [
       "Validating: 0it [00:00, ?it/s]"
      ]
     },
     "metadata": {},
     "output_type": "display_data"
    },
    {
     "data": {
      "application/vnd.jupyter.widget-view+json": {
       "model_id": "",
       "version_major": 2,
       "version_minor": 0
      },
      "text/plain": [
       "Validating: 0it [00:00, ?it/s]"
      ]
     },
     "metadata": {},
     "output_type": "display_data"
    },
    {
     "data": {
      "application/vnd.jupyter.widget-view+json": {
       "model_id": "",
       "version_major": 2,
       "version_minor": 0
      },
      "text/plain": [
       "Validating: 0it [00:00, ?it/s]"
      ]
     },
     "metadata": {},
     "output_type": "display_data"
    },
    {
     "data": {
      "application/vnd.jupyter.widget-view+json": {
       "model_id": "",
       "version_major": 2,
       "version_minor": 0
      },
      "text/plain": [
       "Validating: 0it [00:00, ?it/s]"
      ]
     },
     "metadata": {},
     "output_type": "display_data"
    },
    {
     "data": {
      "application/vnd.jupyter.widget-view+json": {
       "model_id": "",
       "version_major": 2,
       "version_minor": 0
      },
      "text/plain": [
       "Validating: 0it [00:00, ?it/s]"
      ]
     },
     "metadata": {},
     "output_type": "display_data"
    },
    {
     "data": {
      "application/vnd.jupyter.widget-view+json": {
       "model_id": "",
       "version_major": 2,
       "version_minor": 0
      },
      "text/plain": [
       "Validating: 0it [00:00, ?it/s]"
      ]
     },
     "metadata": {},
     "output_type": "display_data"
    },
    {
     "data": {
      "application/vnd.jupyter.widget-view+json": {
       "model_id": "",
       "version_major": 2,
       "version_minor": 0
      },
      "text/plain": [
       "Validating: 0it [00:00, ?it/s]"
      ]
     },
     "metadata": {},
     "output_type": "display_data"
    },
    {
     "data": {
      "application/vnd.jupyter.widget-view+json": {
       "model_id": "",
       "version_major": 2,
       "version_minor": 0
      },
      "text/plain": [
       "Validating: 0it [00:00, ?it/s]"
      ]
     },
     "metadata": {},
     "output_type": "display_data"
    },
    {
     "data": {
      "application/vnd.jupyter.widget-view+json": {
       "model_id": "",
       "version_major": 2,
       "version_minor": 0
      },
      "text/plain": [
       "Validating: 0it [00:00, ?it/s]"
      ]
     },
     "metadata": {},
     "output_type": "display_data"
    },
    {
     "data": {
      "application/vnd.jupyter.widget-view+json": {
       "model_id": "",
       "version_major": 2,
       "version_minor": 0
      },
      "text/plain": [
       "Validating: 0it [00:00, ?it/s]"
      ]
     },
     "metadata": {},
     "output_type": "display_data"
    },
    {
     "data": {
      "application/vnd.jupyter.widget-view+json": {
       "model_id": "",
       "version_major": 2,
       "version_minor": 0
      },
      "text/plain": [
       "Validating: 0it [00:00, ?it/s]"
      ]
     },
     "metadata": {},
     "output_type": "display_data"
    },
    {
     "data": {
      "application/vnd.jupyter.widget-view+json": {
       "model_id": "",
       "version_major": 2,
       "version_minor": 0
      },
      "text/plain": [
       "Validating: 0it [00:00, ?it/s]"
      ]
     },
     "metadata": {},
     "output_type": "display_data"
    },
    {
     "data": {
      "application/vnd.jupyter.widget-view+json": {
       "model_id": "",
       "version_major": 2,
       "version_minor": 0
      },
      "text/plain": [
       "Validating: 0it [00:00, ?it/s]"
      ]
     },
     "metadata": {},
     "output_type": "display_data"
    },
    {
     "data": {
      "application/vnd.jupyter.widget-view+json": {
       "model_id": "",
       "version_major": 2,
       "version_minor": 0
      },
      "text/plain": [
       "Validating: 0it [00:00, ?it/s]"
      ]
     },
     "metadata": {},
     "output_type": "display_data"
    },
    {
     "name": "stderr",
     "output_type": "stream",
     "text": [
      "WARNING - (py.warnings._showwarnmsg) - /Users/polina/.conda/envs/neural_prophet/lib/python3.7/site-packages/pandas/core/indexing.py:1738: SettingWithCopyWarning: \n",
      "A value is trying to be set on a copy of a slice from a DataFrame.\n",
      "Try using .loc[row_indexer,col_indexer] = value instead\n",
      "\n",
      "See the caveats in the documentation: https://pandas.pydata.org/pandas-docs/stable/user_guide/indexing.html#returning-a-view-versus-a-copy\n",
      "  self._setitem_single_column(loc, value[:, i].tolist(), pi)\n",
      "\n",
      "INFO - (NP.config.set_auto_batch_epoch) - Auto-set batch_size to 16\n",
      "\n",
      "\n",
      "  0%|          | 0/50 [00:00<?, ?it/s]\u001b[A\u001b[AGPU available: False, used: False\n",
      "TPU available: False, using: 0 TPU cores\n",
      "WARNING - (py.warnings._showwarnmsg) - /Users/polina/.conda/envs/neural_prophet/lib/python3.7/site-packages/pytorch_lightning/utilities/distributed.py:68: UserWarning: you defined a validation_step but have no val_dataloader. Skipping validation loop\n",
      "  warnings.warn(*args, **kwargs)\n",
      "\n",
      "\n",
      "  | Name      | Type         | Params\n",
      "-------------------------------------------\n",
      "0 | lstm      | LSTM         | 960   \n",
      "1 | linear    | Linear       | 11    \n",
      "2 | loss_func | SmoothL1Loss | 0     \n",
      "-------------------------------------------\n",
      "971       Trainable params\n",
      "0         Non-trainable params\n",
      "971       Total params\n",
      "0.004     Total estimated model params size (MB)\n"
     ]
    },
    {
     "data": {
      "application/vnd.jupyter.widget-view+json": {
       "model_id": "",
       "version_major": 2,
       "version_minor": 0
      },
      "text/plain": [
       "Validation sanity check: 0it [00:00, ?it/s]"
      ]
     },
     "metadata": {},
     "output_type": "display_data"
    },
    {
     "name": "stderr",
     "output_type": "stream",
     "text": [
      "WARNING - (py.warnings._showwarnmsg) - /Users/polina/.conda/envs/neural_prophet/lib/python3.7/site-packages/pytorch_lightning/utilities/distributed.py:68: UserWarning: The dataloader, train dataloader, does not have many workers which may be a bottleneck. Consider increasing the value of the `num_workers` argument` (try 8 which is the number of cpus on this machine) in the `DataLoader` init to improve performance.\n",
      "  warnings.warn(*args, **kwargs)\n",
      "\n"
     ]
    },
    {
     "data": {
      "application/vnd.jupyter.widget-view+json": {
       "model_id": "35ac2923aa594f7aa7ce13f0c088c45d",
       "version_major": 2,
       "version_minor": 0
      },
      "text/plain": [
       "Training: 0it [00:00, ?it/s]"
      ]
     },
     "metadata": {},
     "output_type": "display_data"
    },
    {
     "name": "stderr",
     "output_type": "stream",
     "text": [
      "INFO - (NP.utils.set_auto_seasonalities) - Disabling weekly seasonality. Run NeuralProphet with weekly_seasonality=True to override this.\n",
      "INFO - (NP.utils.set_auto_seasonalities) - Disabling daily seasonality. Run NeuralProphet with daily_seasonality=True to override this.\n",
      "INFO - (NP.config.set_auto_batch_epoch) - Auto-set batch_size to 16\n",
      "\n",
      "\n",
      "\n",
      "  0%|          | 0/50 [00:00<?, ?it/s]\u001b[A\u001b[A\u001b[AGPU available: False, used: False\n",
      "TPU available: False, using: 0 TPU cores\n",
      "WARNING - (py.warnings._showwarnmsg) - /Users/polina/.conda/envs/neural_prophet/lib/python3.7/site-packages/pytorch_lightning/utilities/distributed.py:68: UserWarning: you defined a validation_step but have no val_dataloader. Skipping validation loop\n",
      "  warnings.warn(*args, **kwargs)\n",
      "\n",
      "\n",
      "  | Name          | Type          | Params\n",
      "------------------------------------------------\n",
      "0 | season_params | ParameterDict | 12    \n",
      "1 | ar_net        | ModuleList    | 12    \n",
      "2 | loss_func     | SmoothL1Loss  | 0     \n",
      "------------------------------------------------\n",
      "37        Trainable params\n",
      "0         Non-trainable params\n",
      "37        Total params\n",
      "0.000     Total estimated model params size (MB)\n"
     ]
    },
    {
     "data": {
      "application/vnd.jupyter.widget-view+json": {
       "model_id": "",
       "version_major": 2,
       "version_minor": 0
      },
      "text/plain": [
       "Validation sanity check: 0it [00:00, ?it/s]"
      ]
     },
     "metadata": {},
     "output_type": "display_data"
    },
    {
     "name": "stderr",
     "output_type": "stream",
     "text": [
      "WARNING - (py.warnings._showwarnmsg) - /Users/polina/.conda/envs/neural_prophet/lib/python3.7/site-packages/pytorch_lightning/utilities/distributed.py:68: UserWarning: The dataloader, train dataloader, does not have many workers which may be a bottleneck. Consider increasing the value of the `num_workers` argument` (try 8 which is the number of cpus on this machine) in the `DataLoader` init to improve performance.\n",
      "  warnings.warn(*args, **kwargs)\n",
      "\n"
     ]
    },
    {
     "data": {
      "application/vnd.jupyter.widget-view+json": {
       "model_id": "5dd60611f0cb4b91af55b74fdb86ff6a",
       "version_major": 2,
       "version_minor": 0
      },
      "text/plain": [
       "Training: 0it [00:00, ?it/s]"
      ]
     },
     "metadata": {},
     "output_type": "display_data"
    },
    {
     "name": "stderr",
     "output_type": "stream",
     "text": [
      "\n",
      "\n",
      "                                      \u001b[A\u001b[AGPU available: False, used: False\n",
      "TPU available: False, using: 0 TPU cores\n",
      "WARNING - (py.warnings._showwarnmsg) - /Users/polina/.conda/envs/neural_prophet/lib/python3.7/site-packages/pytorch_lightning/utilities/distributed.py:68: UserWarning: you defined a validation_step but have no val_dataloader. Skipping validation loop\n",
      "  warnings.warn(*args, **kwargs)\n",
      "\n",
      "\n",
      "  | Name                   | Type                   | Params\n",
      "------------------------------------------------------------------\n",
      "0 | loss                   | NormalDistributionLoss | 0     \n",
      "1 | logging_metrics        | ModuleList             | 0     \n",
      "2 | embeddings             | MultiEmbedding         | 0     \n",
      "3 | rnn                    | LSTM                   | 12.9 K\n",
      "4 | distribution_projector | Linear                 | 66    \n",
      "------------------------------------------------------------------\n",
      "13.0 K    Trainable params\n",
      "0         Non-trainable params\n",
      "13.0 K    Total params\n",
      "0.052     Total estimated model params size (MB)\n"
     ]
    },
    {
     "data": {
      "application/vnd.jupyter.widget-view+json": {
       "model_id": "62cdc8b28bea46548c730bf2ba26d926",
       "version_major": 2,
       "version_minor": 0
      },
      "text/plain": [
       "Finding best initial lr:   0%|          | 0/100 [00:00<?, ?it/s]"
      ]
     },
     "metadata": {},
     "output_type": "display_data"
    },
    {
     "name": "stderr",
     "output_type": "stream",
     "text": [
      "Restored states from the checkpoint file at /Users/polina/fds/neural_prophet/example_notebooks/lr_find_temp_model.ckpt\n",
      "\n",
      "  | Name                   | Type                   | Params\n",
      "------------------------------------------------------------------\n",
      "0 | loss                   | NormalDistributionLoss | 0     \n",
      "1 | logging_metrics        | ModuleList             | 0     \n",
      "2 | embeddings             | MultiEmbedding         | 0     \n",
      "3 | rnn                    | LSTM                   | 12.9 K\n",
      "4 | distribution_projector | Linear                 | 66    \n",
      "------------------------------------------------------------------\n",
      "13.0 K    Trainable params\n",
      "0         Non-trainable params\n",
      "13.0 K    Total params\n",
      "0.052     Total estimated model params size (MB)\n"
     ]
    },
    {
     "data": {
      "application/vnd.jupyter.widget-view+json": {
       "model_id": "43637f3393be4d7fb4ec66764e72e3df",
       "version_major": 2,
       "version_minor": 0
      },
      "text/plain": [
       "Training: 3it [00:00, ?it/s]"
      ]
     },
     "metadata": {},
     "output_type": "display_data"
    },
    {
     "data": {
      "application/vnd.jupyter.widget-view+json": {
       "model_id": "",
       "version_major": 2,
       "version_minor": 0
      },
      "text/plain": [
       "Validating: 0it [00:00, ?it/s]"
      ]
     },
     "metadata": {},
     "output_type": "display_data"
    },
    {
     "data": {
      "application/vnd.jupyter.widget-view+json": {
       "model_id": "",
       "version_major": 2,
       "version_minor": 0
      },
      "text/plain": [
       "Validating: 0it [00:00, ?it/s]"
      ]
     },
     "metadata": {},
     "output_type": "display_data"
    },
    {
     "data": {
      "application/vnd.jupyter.widget-view+json": {
       "model_id": "",
       "version_major": 2,
       "version_minor": 0
      },
      "text/plain": [
       "Validating: 0it [00:00, ?it/s]"
      ]
     },
     "metadata": {},
     "output_type": "display_data"
    },
    {
     "data": {
      "application/vnd.jupyter.widget-view+json": {
       "model_id": "",
       "version_major": 2,
       "version_minor": 0
      },
      "text/plain": [
       "Validating: 0it [00:00, ?it/s]"
      ]
     },
     "metadata": {},
     "output_type": "display_data"
    },
    {
     "data": {
      "application/vnd.jupyter.widget-view+json": {
       "model_id": "",
       "version_major": 2,
       "version_minor": 0
      },
      "text/plain": [
       "Validating: 0it [00:00, ?it/s]"
      ]
     },
     "metadata": {},
     "output_type": "display_data"
    },
    {
     "data": {
      "application/vnd.jupyter.widget-view+json": {
       "model_id": "",
       "version_major": 2,
       "version_minor": 0
      },
      "text/plain": [
       "Validating: 0it [00:00, ?it/s]"
      ]
     },
     "metadata": {},
     "output_type": "display_data"
    },
    {
     "data": {
      "application/vnd.jupyter.widget-view+json": {
       "model_id": "",
       "version_major": 2,
       "version_minor": 0
      },
      "text/plain": [
       "Validating: 0it [00:00, ?it/s]"
      ]
     },
     "metadata": {},
     "output_type": "display_data"
    },
    {
     "data": {
      "application/vnd.jupyter.widget-view+json": {
       "model_id": "",
       "version_major": 2,
       "version_minor": 0
      },
      "text/plain": [
       "Validating: 0it [00:00, ?it/s]"
      ]
     },
     "metadata": {},
     "output_type": "display_data"
    },
    {
     "data": {
      "application/vnd.jupyter.widget-view+json": {
       "model_id": "",
       "version_major": 2,
       "version_minor": 0
      },
      "text/plain": [
       "Validating: 0it [00:00, ?it/s]"
      ]
     },
     "metadata": {},
     "output_type": "display_data"
    },
    {
     "data": {
      "application/vnd.jupyter.widget-view+json": {
       "model_id": "",
       "version_major": 2,
       "version_minor": 0
      },
      "text/plain": [
       "Validating: 0it [00:00, ?it/s]"
      ]
     },
     "metadata": {},
     "output_type": "display_data"
    },
    {
     "data": {
      "application/vnd.jupyter.widget-view+json": {
       "model_id": "",
       "version_major": 2,
       "version_minor": 0
      },
      "text/plain": [
       "Validating: 0it [00:00, ?it/s]"
      ]
     },
     "metadata": {},
     "output_type": "display_data"
    },
    {
     "data": {
      "application/vnd.jupyter.widget-view+json": {
       "model_id": "",
       "version_major": 2,
       "version_minor": 0
      },
      "text/plain": [
       "Validating: 0it [00:00, ?it/s]"
      ]
     },
     "metadata": {},
     "output_type": "display_data"
    },
    {
     "data": {
      "application/vnd.jupyter.widget-view+json": {
       "model_id": "",
       "version_major": 2,
       "version_minor": 0
      },
      "text/plain": [
       "Validating: 0it [00:00, ?it/s]"
      ]
     },
     "metadata": {},
     "output_type": "display_data"
    },
    {
     "data": {
      "application/vnd.jupyter.widget-view+json": {
       "model_id": "",
       "version_major": 2,
       "version_minor": 0
      },
      "text/plain": [
       "Validating: 0it [00:00, ?it/s]"
      ]
     },
     "metadata": {},
     "output_type": "display_data"
    },
    {
     "data": {
      "application/vnd.jupyter.widget-view+json": {
       "model_id": "",
       "version_major": 2,
       "version_minor": 0
      },
      "text/plain": [
       "Validating: 0it [00:00, ?it/s]"
      ]
     },
     "metadata": {},
     "output_type": "display_data"
    },
    {
     "data": {
      "application/vnd.jupyter.widget-view+json": {
       "model_id": "",
       "version_major": 2,
       "version_minor": 0
      },
      "text/plain": [
       "Validating: 0it [00:00, ?it/s]"
      ]
     },
     "metadata": {},
     "output_type": "display_data"
    },
    {
     "data": {
      "application/vnd.jupyter.widget-view+json": {
       "model_id": "",
       "version_major": 2,
       "version_minor": 0
      },
      "text/plain": [
       "Validating: 0it [00:00, ?it/s]"
      ]
     },
     "metadata": {},
     "output_type": "display_data"
    },
    {
     "data": {
      "application/vnd.jupyter.widget-view+json": {
       "model_id": "",
       "version_major": 2,
       "version_minor": 0
      },
      "text/plain": [
       "Validating: 0it [00:00, ?it/s]"
      ]
     },
     "metadata": {},
     "output_type": "display_data"
    },
    {
     "data": {
      "application/vnd.jupyter.widget-view+json": {
       "model_id": "",
       "version_major": 2,
       "version_minor": 0
      },
      "text/plain": [
       "Validating: 0it [00:00, ?it/s]"
      ]
     },
     "metadata": {},
     "output_type": "display_data"
    },
    {
     "data": {
      "application/vnd.jupyter.widget-view+json": {
       "model_id": "",
       "version_major": 2,
       "version_minor": 0
      },
      "text/plain": [
       "Validating: 0it [00:00, ?it/s]"
      ]
     },
     "metadata": {},
     "output_type": "display_data"
    },
    {
     "data": {
      "application/vnd.jupyter.widget-view+json": {
       "model_id": "",
       "version_major": 2,
       "version_minor": 0
      },
      "text/plain": [
       "Validating: 0it [00:00, ?it/s]"
      ]
     },
     "metadata": {},
     "output_type": "display_data"
    },
    {
     "data": {
      "application/vnd.jupyter.widget-view+json": {
       "model_id": "",
       "version_major": 2,
       "version_minor": 0
      },
      "text/plain": [
       "Validating: 0it [00:00, ?it/s]"
      ]
     },
     "metadata": {},
     "output_type": "display_data"
    },
    {
     "data": {
      "application/vnd.jupyter.widget-view+json": {
       "model_id": "",
       "version_major": 2,
       "version_minor": 0
      },
      "text/plain": [
       "Validating: 0it [00:00, ?it/s]"
      ]
     },
     "metadata": {},
     "output_type": "display_data"
    },
    {
     "data": {
      "application/vnd.jupyter.widget-view+json": {
       "model_id": "",
       "version_major": 2,
       "version_minor": 0
      },
      "text/plain": [
       "Validating: 0it [00:00, ?it/s]"
      ]
     },
     "metadata": {},
     "output_type": "display_data"
    },
    {
     "data": {
      "application/vnd.jupyter.widget-view+json": {
       "model_id": "",
       "version_major": 2,
       "version_minor": 0
      },
      "text/plain": [
       "Validating: 0it [00:00, ?it/s]"
      ]
     },
     "metadata": {},
     "output_type": "display_data"
    },
    {
     "data": {
      "application/vnd.jupyter.widget-view+json": {
       "model_id": "",
       "version_major": 2,
       "version_minor": 0
      },
      "text/plain": [
       "Validating: 0it [00:00, ?it/s]"
      ]
     },
     "metadata": {},
     "output_type": "display_data"
    },
    {
     "data": {
      "application/vnd.jupyter.widget-view+json": {
       "model_id": "",
       "version_major": 2,
       "version_minor": 0
      },
      "text/plain": [
       "Validating: 0it [00:00, ?it/s]"
      ]
     },
     "metadata": {},
     "output_type": "display_data"
    },
    {
     "data": {
      "application/vnd.jupyter.widget-view+json": {
       "model_id": "",
       "version_major": 2,
       "version_minor": 0
      },
      "text/plain": [
       "Validating: 0it [00:00, ?it/s]"
      ]
     },
     "metadata": {},
     "output_type": "display_data"
    },
    {
     "data": {
      "application/vnd.jupyter.widget-view+json": {
       "model_id": "",
       "version_major": 2,
       "version_minor": 0
      },
      "text/plain": [
       "Validating: 0it [00:00, ?it/s]"
      ]
     },
     "metadata": {},
     "output_type": "display_data"
    },
    {
     "data": {
      "application/vnd.jupyter.widget-view+json": {
       "model_id": "",
       "version_major": 2,
       "version_minor": 0
      },
      "text/plain": [
       "Validating: 0it [00:00, ?it/s]"
      ]
     },
     "metadata": {},
     "output_type": "display_data"
    },
    {
     "data": {
      "application/vnd.jupyter.widget-view+json": {
       "model_id": "",
       "version_major": 2,
       "version_minor": 0
      },
      "text/plain": [
       "Validating: 0it [00:00, ?it/s]"
      ]
     },
     "metadata": {},
     "output_type": "display_data"
    },
    {
     "data": {
      "application/vnd.jupyter.widget-view+json": {
       "model_id": "",
       "version_major": 2,
       "version_minor": 0
      },
      "text/plain": [
       "Validating: 0it [00:00, ?it/s]"
      ]
     },
     "metadata": {},
     "output_type": "display_data"
    },
    {
     "data": {
      "application/vnd.jupyter.widget-view+json": {
       "model_id": "",
       "version_major": 2,
       "version_minor": 0
      },
      "text/plain": [
       "Validating: 0it [00:00, ?it/s]"
      ]
     },
     "metadata": {},
     "output_type": "display_data"
    },
    {
     "data": {
      "application/vnd.jupyter.widget-view+json": {
       "model_id": "",
       "version_major": 2,
       "version_minor": 0
      },
      "text/plain": [
       "Validating: 0it [00:00, ?it/s]"
      ]
     },
     "metadata": {},
     "output_type": "display_data"
    },
    {
     "data": {
      "application/vnd.jupyter.widget-view+json": {
       "model_id": "",
       "version_major": 2,
       "version_minor": 0
      },
      "text/plain": [
       "Validating: 0it [00:00, ?it/s]"
      ]
     },
     "metadata": {},
     "output_type": "display_data"
    },
    {
     "data": {
      "application/vnd.jupyter.widget-view+json": {
       "model_id": "",
       "version_major": 2,
       "version_minor": 0
      },
      "text/plain": [
       "Validating: 0it [00:00, ?it/s]"
      ]
     },
     "metadata": {},
     "output_type": "display_data"
    },
    {
     "data": {
      "application/vnd.jupyter.widget-view+json": {
       "model_id": "",
       "version_major": 2,
       "version_minor": 0
      },
      "text/plain": [
       "Validating: 0it [00:00, ?it/s]"
      ]
     },
     "metadata": {},
     "output_type": "display_data"
    },
    {
     "data": {
      "application/vnd.jupyter.widget-view+json": {
       "model_id": "",
       "version_major": 2,
       "version_minor": 0
      },
      "text/plain": [
       "Validating: 0it [00:00, ?it/s]"
      ]
     },
     "metadata": {},
     "output_type": "display_data"
    },
    {
     "data": {
      "application/vnd.jupyter.widget-view+json": {
       "model_id": "",
       "version_major": 2,
       "version_minor": 0
      },
      "text/plain": [
       "Validating: 0it [00:00, ?it/s]"
      ]
     },
     "metadata": {},
     "output_type": "display_data"
    },
    {
     "data": {
      "application/vnd.jupyter.widget-view+json": {
       "model_id": "",
       "version_major": 2,
       "version_minor": 0
      },
      "text/plain": [
       "Validating: 0it [00:00, ?it/s]"
      ]
     },
     "metadata": {},
     "output_type": "display_data"
    },
    {
     "data": {
      "application/vnd.jupyter.widget-view+json": {
       "model_id": "",
       "version_major": 2,
       "version_minor": 0
      },
      "text/plain": [
       "Validating: 0it [00:00, ?it/s]"
      ]
     },
     "metadata": {},
     "output_type": "display_data"
    },
    {
     "data": {
      "application/vnd.jupyter.widget-view+json": {
       "model_id": "",
       "version_major": 2,
       "version_minor": 0
      },
      "text/plain": [
       "Validating: 0it [00:00, ?it/s]"
      ]
     },
     "metadata": {},
     "output_type": "display_data"
    },
    {
     "data": {
      "application/vnd.jupyter.widget-view+json": {
       "model_id": "",
       "version_major": 2,
       "version_minor": 0
      },
      "text/plain": [
       "Validating: 0it [00:00, ?it/s]"
      ]
     },
     "metadata": {},
     "output_type": "display_data"
    },
    {
     "data": {
      "application/vnd.jupyter.widget-view+json": {
       "model_id": "",
       "version_major": 2,
       "version_minor": 0
      },
      "text/plain": [
       "Validating: 0it [00:00, ?it/s]"
      ]
     },
     "metadata": {},
     "output_type": "display_data"
    },
    {
     "data": {
      "application/vnd.jupyter.widget-view+json": {
       "model_id": "",
       "version_major": 2,
       "version_minor": 0
      },
      "text/plain": [
       "Validating: 0it [00:00, ?it/s]"
      ]
     },
     "metadata": {},
     "output_type": "display_data"
    },
    {
     "data": {
      "application/vnd.jupyter.widget-view+json": {
       "model_id": "",
       "version_major": 2,
       "version_minor": 0
      },
      "text/plain": [
       "Validating: 0it [00:00, ?it/s]"
      ]
     },
     "metadata": {},
     "output_type": "display_data"
    },
    {
     "data": {
      "application/vnd.jupyter.widget-view+json": {
       "model_id": "",
       "version_major": 2,
       "version_minor": 0
      },
      "text/plain": [
       "Validating: 0it [00:00, ?it/s]"
      ]
     },
     "metadata": {},
     "output_type": "display_data"
    },
    {
     "data": {
      "application/vnd.jupyter.widget-view+json": {
       "model_id": "",
       "version_major": 2,
       "version_minor": 0
      },
      "text/plain": [
       "Validating: 0it [00:00, ?it/s]"
      ]
     },
     "metadata": {},
     "output_type": "display_data"
    },
    {
     "data": {
      "application/vnd.jupyter.widget-view+json": {
       "model_id": "",
       "version_major": 2,
       "version_minor": 0
      },
      "text/plain": [
       "Validating: 0it [00:00, ?it/s]"
      ]
     },
     "metadata": {},
     "output_type": "display_data"
    },
    {
     "name": "stderr",
     "output_type": "stream",
     "text": [
      "WARNING - (py.warnings._showwarnmsg) - /Users/polina/.conda/envs/neural_prophet/lib/python3.7/site-packages/pandas/core/indexing.py:1738: SettingWithCopyWarning: \n",
      "A value is trying to be set on a copy of a slice from a DataFrame.\n",
      "Try using .loc[row_indexer,col_indexer] = value instead\n",
      "\n",
      "See the caveats in the documentation: https://pandas.pydata.org/pandas-docs/stable/user_guide/indexing.html#returning-a-view-versus-a-copy\n",
      "  self._setitem_single_column(loc, value[:, i].tolist(), pi)\n",
      "\n",
      "GPU available: False, used: False\n",
      "TPU available: False, using: 0 TPU cores\n",
      "\n",
      "  | Name            | Type       | Params\n",
      "-----------------------------------------------\n",
      "0 | loss            | MASE       | 0     \n",
      "1 | logging_metrics | ModuleList | 0     \n",
      "2 | net_blocks      | ModuleList | 1.6 M \n",
      "-----------------------------------------------\n",
      "1.6 M     Trainable params\n",
      "0         Non-trainable params\n",
      "1.6 M     Total params\n",
      "6.421     Total estimated model params size (MB)\n"
     ]
    },
    {
     "data": {
      "application/vnd.jupyter.widget-view+json": {
       "model_id": "1bb89a5b77894526bf6adec6e0466ce1",
       "version_major": 2,
       "version_minor": 0
      },
      "text/plain": [
       "Training: 0it [00:00, ?it/s]"
      ]
     },
     "metadata": {},
     "output_type": "display_data"
    },
    {
     "data": {
      "application/vnd.jupyter.widget-view+json": {
       "model_id": "",
       "version_major": 2,
       "version_minor": 0
      },
      "text/plain": [
       "Validating: 0it [00:00, ?it/s]"
      ]
     },
     "metadata": {},
     "output_type": "display_data"
    },
    {
     "data": {
      "application/vnd.jupyter.widget-view+json": {
       "model_id": "",
       "version_major": 2,
       "version_minor": 0
      },
      "text/plain": [
       "Validating: 0it [00:00, ?it/s]"
      ]
     },
     "metadata": {},
     "output_type": "display_data"
    },
    {
     "data": {
      "application/vnd.jupyter.widget-view+json": {
       "model_id": "",
       "version_major": 2,
       "version_minor": 0
      },
      "text/plain": [
       "Validating: 0it [00:00, ?it/s]"
      ]
     },
     "metadata": {},
     "output_type": "display_data"
    },
    {
     "data": {
      "application/vnd.jupyter.widget-view+json": {
       "model_id": "",
       "version_major": 2,
       "version_minor": 0
      },
      "text/plain": [
       "Validating: 0it [00:00, ?it/s]"
      ]
     },
     "metadata": {},
     "output_type": "display_data"
    },
    {
     "data": {
      "application/vnd.jupyter.widget-view+json": {
       "model_id": "",
       "version_major": 2,
       "version_minor": 0
      },
      "text/plain": [
       "Validating: 0it [00:00, ?it/s]"
      ]
     },
     "metadata": {},
     "output_type": "display_data"
    },
    {
     "data": {
      "application/vnd.jupyter.widget-view+json": {
       "model_id": "",
       "version_major": 2,
       "version_minor": 0
      },
      "text/plain": [
       "Validating: 0it [00:00, ?it/s]"
      ]
     },
     "metadata": {},
     "output_type": "display_data"
    },
    {
     "data": {
      "application/vnd.jupyter.widget-view+json": {
       "model_id": "",
       "version_major": 2,
       "version_minor": 0
      },
      "text/plain": [
       "Validating: 0it [00:00, ?it/s]"
      ]
     },
     "metadata": {},
     "output_type": "display_data"
    },
    {
     "data": {
      "application/vnd.jupyter.widget-view+json": {
       "model_id": "",
       "version_major": 2,
       "version_minor": 0
      },
      "text/plain": [
       "Validating: 0it [00:00, ?it/s]"
      ]
     },
     "metadata": {},
     "output_type": "display_data"
    },
    {
     "data": {
      "application/vnd.jupyter.widget-view+json": {
       "model_id": "",
       "version_major": 2,
       "version_minor": 0
      },
      "text/plain": [
       "Validating: 0it [00:00, ?it/s]"
      ]
     },
     "metadata": {},
     "output_type": "display_data"
    },
    {
     "data": {
      "application/vnd.jupyter.widget-view+json": {
       "model_id": "",
       "version_major": 2,
       "version_minor": 0
      },
      "text/plain": [
       "Validating: 0it [00:00, ?it/s]"
      ]
     },
     "metadata": {},
     "output_type": "display_data"
    },
    {
     "data": {
      "application/vnd.jupyter.widget-view+json": {
       "model_id": "",
       "version_major": 2,
       "version_minor": 0
      },
      "text/plain": [
       "Validating: 0it [00:00, ?it/s]"
      ]
     },
     "metadata": {},
     "output_type": "display_data"
    },
    {
     "data": {
      "application/vnd.jupyter.widget-view+json": {
       "model_id": "",
       "version_major": 2,
       "version_minor": 0
      },
      "text/plain": [
       "Validating: 0it [00:00, ?it/s]"
      ]
     },
     "metadata": {},
     "output_type": "display_data"
    },
    {
     "data": {
      "application/vnd.jupyter.widget-view+json": {
       "model_id": "",
       "version_major": 2,
       "version_minor": 0
      },
      "text/plain": [
       "Validating: 0it [00:00, ?it/s]"
      ]
     },
     "metadata": {},
     "output_type": "display_data"
    },
    {
     "data": {
      "application/vnd.jupyter.widget-view+json": {
       "model_id": "",
       "version_major": 2,
       "version_minor": 0
      },
      "text/plain": [
       "Validating: 0it [00:00, ?it/s]"
      ]
     },
     "metadata": {},
     "output_type": "display_data"
    },
    {
     "data": {
      "application/vnd.jupyter.widget-view+json": {
       "model_id": "",
       "version_major": 2,
       "version_minor": 0
      },
      "text/plain": [
       "Validating: 0it [00:00, ?it/s]"
      ]
     },
     "metadata": {},
     "output_type": "display_data"
    },
    {
     "data": {
      "application/vnd.jupyter.widget-view+json": {
       "model_id": "",
       "version_major": 2,
       "version_minor": 0
      },
      "text/plain": [
       "Validating: 0it [00:00, ?it/s]"
      ]
     },
     "metadata": {},
     "output_type": "display_data"
    },
    {
     "data": {
      "application/vnd.jupyter.widget-view+json": {
       "model_id": "",
       "version_major": 2,
       "version_minor": 0
      },
      "text/plain": [
       "Validating: 0it [00:00, ?it/s]"
      ]
     },
     "metadata": {},
     "output_type": "display_data"
    },
    {
     "data": {
      "application/vnd.jupyter.widget-view+json": {
       "model_id": "",
       "version_major": 2,
       "version_minor": 0
      },
      "text/plain": [
       "Validating: 0it [00:00, ?it/s]"
      ]
     },
     "metadata": {},
     "output_type": "display_data"
    },
    {
     "data": {
      "application/vnd.jupyter.widget-view+json": {
       "model_id": "",
       "version_major": 2,
       "version_minor": 0
      },
      "text/plain": [
       "Validating: 0it [00:00, ?it/s]"
      ]
     },
     "metadata": {},
     "output_type": "display_data"
    },
    {
     "data": {
      "application/vnd.jupyter.widget-view+json": {
       "model_id": "",
       "version_major": 2,
       "version_minor": 0
      },
      "text/plain": [
       "Validating: 0it [00:00, ?it/s]"
      ]
     },
     "metadata": {},
     "output_type": "display_data"
    },
    {
     "name": "stderr",
     "output_type": "stream",
     "text": [
      "  0%|          | 0/50 [00:25<?, ?it/s]\n"
     ]
    },
    {
     "data": {
      "application/vnd.jupyter.widget-view+json": {
       "model_id": "",
       "version_major": 2,
       "version_minor": 0
      },
      "text/plain": [
       "Validating: 0it [00:00, ?it/s]"
      ]
     },
     "metadata": {},
     "output_type": "display_data"
    },
    {
     "data": {
      "application/vnd.jupyter.widget-view+json": {
       "model_id": "",
       "version_major": 2,
       "version_minor": 0
      },
      "text/plain": [
       "Validating: 0it [00:00, ?it/s]"
      ]
     },
     "metadata": {},
     "output_type": "display_data"
    },
    {
     "data": {
      "application/vnd.jupyter.widget-view+json": {
       "model_id": "",
       "version_major": 2,
       "version_minor": 0
      },
      "text/plain": [
       "Validating: 0it [00:00, ?it/s]"
      ]
     },
     "metadata": {},
     "output_type": "display_data"
    },
    {
     "data": {
      "application/vnd.jupyter.widget-view+json": {
       "model_id": "",
       "version_major": 2,
       "version_minor": 0
      },
      "text/plain": [
       "Validating: 0it [00:00, ?it/s]"
      ]
     },
     "metadata": {},
     "output_type": "display_data"
    },
    {
     "data": {
      "application/vnd.jupyter.widget-view+json": {
       "model_id": "",
       "version_major": 2,
       "version_minor": 0
      },
      "text/plain": [
       "Validating: 0it [00:00, ?it/s]"
      ]
     },
     "metadata": {},
     "output_type": "display_data"
    },
    {
     "data": {
      "application/vnd.jupyter.widget-view+json": {
       "model_id": "",
       "version_major": 2,
       "version_minor": 0
      },
      "text/plain": [
       "Validating: 0it [00:00, ?it/s]"
      ]
     },
     "metadata": {},
     "output_type": "display_data"
    },
    {
     "data": {
      "application/vnd.jupyter.widget-view+json": {
       "model_id": "",
       "version_major": 2,
       "version_minor": 0
      },
      "text/plain": [
       "Validating: 0it [00:00, ?it/s]"
      ]
     },
     "metadata": {},
     "output_type": "display_data"
    },
    {
     "data": {
      "application/vnd.jupyter.widget-view+json": {
       "model_id": "",
       "version_major": 2,
       "version_minor": 0
      },
      "text/plain": [
       "Validating: 0it [00:00, ?it/s]"
      ]
     },
     "metadata": {},
     "output_type": "display_data"
    },
    {
     "data": {
      "application/vnd.jupyter.widget-view+json": {
       "model_id": "",
       "version_major": 2,
       "version_minor": 0
      },
      "text/plain": [
       "Validating: 0it [00:00, ?it/s]"
      ]
     },
     "metadata": {},
     "output_type": "display_data"
    },
    {
     "data": {
      "application/vnd.jupyter.widget-view+json": {
       "model_id": "",
       "version_major": 2,
       "version_minor": 0
      },
      "text/plain": [
       "Validating: 0it [00:00, ?it/s]"
      ]
     },
     "metadata": {},
     "output_type": "display_data"
    },
    {
     "data": {
      "application/vnd.jupyter.widget-view+json": {
       "model_id": "",
       "version_major": 2,
       "version_minor": 0
      },
      "text/plain": [
       "Validating: 0it [00:00, ?it/s]"
      ]
     },
     "metadata": {},
     "output_type": "display_data"
    },
    {
     "data": {
      "application/vnd.jupyter.widget-view+json": {
       "model_id": "",
       "version_major": 2,
       "version_minor": 0
      },
      "text/plain": [
       "Validating: 0it [00:00, ?it/s]"
      ]
     },
     "metadata": {},
     "output_type": "display_data"
    },
    {
     "name": "stderr",
     "output_type": "stream",
     "text": [
      "WARNING - (py.warnings._showwarnmsg) - /Users/polina/.conda/envs/neural_prophet/lib/python3.7/site-packages/pandas/core/indexing.py:1738: SettingWithCopyWarning: \n",
      "A value is trying to be set on a copy of a slice from a DataFrame.\n",
      "Try using .loc[row_indexer,col_indexer] = value instead\n",
      "\n",
      "See the caveats in the documentation: https://pandas.pydata.org/pandas-docs/stable/user_guide/indexing.html#returning-a-view-versus-a-copy\n",
      "  self._setitem_single_column(loc, value[:, i].tolist(), pi)\n",
      "\n",
      "GPU available: False, used: False\n",
      "TPU available: False, using: 0 TPU cores\n",
      "\n",
      "   | Name                               | Type                            | Params\n",
      "----------------------------------------------------------------------------------------\n",
      "0  | loss                               | QuantileLoss                    | 0     \n",
      "1  | logging_metrics                    | ModuleList                      | 0     \n",
      "2  | input_embeddings                   | MultiEmbedding                  | 0     \n",
      "3  | prescalers                         | ModuleDict                      | 96    \n",
      "4  | static_variable_selection          | VariableSelectionNetwork        | 2.8 K \n",
      "5  | encoder_variable_selection         | VariableSelectionNetwork        | 2.9 K \n",
      "6  | decoder_variable_selection         | VariableSelectionNetwork        | 1.9 K \n",
      "7  | static_context_variable_selection  | GatedResidualNetwork            | 4.3 K \n",
      "8  | static_context_initial_hidden_lstm | GatedResidualNetwork            | 4.3 K \n",
      "9  | static_context_initial_cell_lstm   | GatedResidualNetwork            | 4.3 K \n",
      "10 | static_context_enrichment          | GatedResidualNetwork            | 4.3 K \n",
      "11 | lstm_encoder                       | LSTM                            | 8.4 K \n",
      "12 | lstm_decoder                       | LSTM                            | 8.4 K \n",
      "13 | post_lstm_gate_encoder             | GatedLinearUnit                 | 2.1 K \n",
      "14 | post_lstm_add_norm_encoder         | AddNorm                         | 64    \n",
      "15 | static_enrichment                  | GatedResidualNetwork            | 5.3 K \n",
      "16 | multihead_attn                     | InterpretableMultiHeadAttention | 4.2 K \n",
      "17 | post_attn_gate_norm                | GateAddNorm                     | 2.2 K \n",
      "18 | pos_wise_ff                        | GatedResidualNetwork            | 4.3 K \n",
      "19 | pre_output_gate_norm               | GateAddNorm                     | 2.2 K \n",
      "20 | output_layer                       | Linear                          | 231   \n",
      "----------------------------------------------------------------------------------------\n",
      "62.2 K    Trainable params\n",
      "0         Non-trainable params\n",
      "62.2 K    Total params\n",
      "0.249     Total estimated model params size (MB)\n"
     ]
    },
    {
     "data": {
      "application/vnd.jupyter.widget-view+json": {
       "model_id": "2fb55ae8cda44484a9a831feaa0c2ec7",
       "version_major": 2,
       "version_minor": 0
      },
      "text/plain": [
       "Training: 0it [00:00, ?it/s]"
      ]
     },
     "metadata": {},
     "output_type": "display_data"
    },
    {
     "data": {
      "application/vnd.jupyter.widget-view+json": {
       "model_id": "",
       "version_major": 2,
       "version_minor": 0
      },
      "text/plain": [
       "Validating: 0it [00:00, ?it/s]"
      ]
     },
     "metadata": {},
     "output_type": "display_data"
    },
    {
     "data": {
      "application/vnd.jupyter.widget-view+json": {
       "model_id": "",
       "version_major": 2,
       "version_minor": 0
      },
      "text/plain": [
       "Validating: 0it [00:00, ?it/s]"
      ]
     },
     "metadata": {},
     "output_type": "display_data"
    },
    {
     "data": {
      "application/vnd.jupyter.widget-view+json": {
       "model_id": "",
       "version_major": 2,
       "version_minor": 0
      },
      "text/plain": [
       "Validating: 0it [00:00, ?it/s]"
      ]
     },
     "metadata": {},
     "output_type": "display_data"
    },
    {
     "data": {
      "application/vnd.jupyter.widget-view+json": {
       "model_id": "",
       "version_major": 2,
       "version_minor": 0
      },
      "text/plain": [
       "Validating: 0it [00:00, ?it/s]"
      ]
     },
     "metadata": {},
     "output_type": "display_data"
    },
    {
     "data": {
      "application/vnd.jupyter.widget-view+json": {
       "model_id": "",
       "version_major": 2,
       "version_minor": 0
      },
      "text/plain": [
       "Validating: 0it [00:00, ?it/s]"
      ]
     },
     "metadata": {},
     "output_type": "display_data"
    },
    {
     "data": {
      "application/vnd.jupyter.widget-view+json": {
       "model_id": "",
       "version_major": 2,
       "version_minor": 0
      },
      "text/plain": [
       "Validating: 0it [00:00, ?it/s]"
      ]
     },
     "metadata": {},
     "output_type": "display_data"
    },
    {
     "data": {
      "application/vnd.jupyter.widget-view+json": {
       "model_id": "",
       "version_major": 2,
       "version_minor": 0
      },
      "text/plain": [
       "Validating: 0it [00:00, ?it/s]"
      ]
     },
     "metadata": {},
     "output_type": "display_data"
    },
    {
     "data": {
      "application/vnd.jupyter.widget-view+json": {
       "model_id": "",
       "version_major": 2,
       "version_minor": 0
      },
      "text/plain": [
       "Validating: 0it [00:00, ?it/s]"
      ]
     },
     "metadata": {},
     "output_type": "display_data"
    },
    {
     "data": {
      "application/vnd.jupyter.widget-view+json": {
       "model_id": "",
       "version_major": 2,
       "version_minor": 0
      },
      "text/plain": [
       "Validating: 0it [00:00, ?it/s]"
      ]
     },
     "metadata": {},
     "output_type": "display_data"
    },
    {
     "data": {
      "application/vnd.jupyter.widget-view+json": {
       "model_id": "",
       "version_major": 2,
       "version_minor": 0
      },
      "text/plain": [
       "Validating: 0it [00:00, ?it/s]"
      ]
     },
     "metadata": {},
     "output_type": "display_data"
    },
    {
     "data": {
      "application/vnd.jupyter.widget-view+json": {
       "model_id": "",
       "version_major": 2,
       "version_minor": 0
      },
      "text/plain": [
       "Validating: 0it [00:00, ?it/s]"
      ]
     },
     "metadata": {},
     "output_type": "display_data"
    },
    {
     "data": {
      "application/vnd.jupyter.widget-view+json": {
       "model_id": "",
       "version_major": 2,
       "version_minor": 0
      },
      "text/plain": [
       "Validating: 0it [00:00, ?it/s]"
      ]
     },
     "metadata": {},
     "output_type": "display_data"
    },
    {
     "data": {
      "application/vnd.jupyter.widget-view+json": {
       "model_id": "",
       "version_major": 2,
       "version_minor": 0
      },
      "text/plain": [
       "Validating: 0it [00:00, ?it/s]"
      ]
     },
     "metadata": {},
     "output_type": "display_data"
    },
    {
     "data": {
      "application/vnd.jupyter.widget-view+json": {
       "model_id": "",
       "version_major": 2,
       "version_minor": 0
      },
      "text/plain": [
       "Validating: 0it [00:00, ?it/s]"
      ]
     },
     "metadata": {},
     "output_type": "display_data"
    },
    {
     "data": {
      "application/vnd.jupyter.widget-view+json": {
       "model_id": "",
       "version_major": 2,
       "version_minor": 0
      },
      "text/plain": [
       "Validating: 0it [00:00, ?it/s]"
      ]
     },
     "metadata": {},
     "output_type": "display_data"
    },
    {
     "data": {
      "application/vnd.jupyter.widget-view+json": {
       "model_id": "",
       "version_major": 2,
       "version_minor": 0
      },
      "text/plain": [
       "Validating: 0it [00:00, ?it/s]"
      ]
     },
     "metadata": {},
     "output_type": "display_data"
    },
    {
     "data": {
      "application/vnd.jupyter.widget-view+json": {
       "model_id": "",
       "version_major": 2,
       "version_minor": 0
      },
      "text/plain": [
       "Validating: 0it [00:00, ?it/s]"
      ]
     },
     "metadata": {},
     "output_type": "display_data"
    },
    {
     "data": {
      "application/vnd.jupyter.widget-view+json": {
       "model_id": "",
       "version_major": 2,
       "version_minor": 0
      },
      "text/plain": [
       "Validating: 0it [00:00, ?it/s]"
      ]
     },
     "metadata": {},
     "output_type": "display_data"
    },
    {
     "data": {
      "application/vnd.jupyter.widget-view+json": {
       "model_id": "",
       "version_major": 2,
       "version_minor": 0
      },
      "text/plain": [
       "Validating: 0it [00:00, ?it/s]"
      ]
     },
     "metadata": {},
     "output_type": "display_data"
    },
    {
     "data": {
      "application/vnd.jupyter.widget-view+json": {
       "model_id": "",
       "version_major": 2,
       "version_minor": 0
      },
      "text/plain": [
       "Validating: 0it [00:00, ?it/s]"
      ]
     },
     "metadata": {},
     "output_type": "display_data"
    },
    {
     "data": {
      "application/vnd.jupyter.widget-view+json": {
       "model_id": "",
       "version_major": 2,
       "version_minor": 0
      },
      "text/plain": [
       "Validating: 0it [00:00, ?it/s]"
      ]
     },
     "metadata": {},
     "output_type": "display_data"
    },
    {
     "data": {
      "application/vnd.jupyter.widget-view+json": {
       "model_id": "",
       "version_major": 2,
       "version_minor": 0
      },
      "text/plain": [
       "Validating: 0it [00:00, ?it/s]"
      ]
     },
     "metadata": {},
     "output_type": "display_data"
    },
    {
     "data": {
      "application/vnd.jupyter.widget-view+json": {
       "model_id": "",
       "version_major": 2,
       "version_minor": 0
      },
      "text/plain": [
       "Validating: 0it [00:00, ?it/s]"
      ]
     },
     "metadata": {},
     "output_type": "display_data"
    },
    {
     "data": {
      "application/vnd.jupyter.widget-view+json": {
       "model_id": "",
       "version_major": 2,
       "version_minor": 0
      },
      "text/plain": [
       "Validating: 0it [00:00, ?it/s]"
      ]
     },
     "metadata": {},
     "output_type": "display_data"
    },
    {
     "data": {
      "application/vnd.jupyter.widget-view+json": {
       "model_id": "",
       "version_major": 2,
       "version_minor": 0
      },
      "text/plain": [
       "Validating: 0it [00:00, ?it/s]"
      ]
     },
     "metadata": {},
     "output_type": "display_data"
    },
    {
     "data": {
      "application/vnd.jupyter.widget-view+json": {
       "model_id": "",
       "version_major": 2,
       "version_minor": 0
      },
      "text/plain": [
       "Validating: 0it [00:00, ?it/s]"
      ]
     },
     "metadata": {},
     "output_type": "display_data"
    },
    {
     "data": {
      "application/vnd.jupyter.widget-view+json": {
       "model_id": "",
       "version_major": 2,
       "version_minor": 0
      },
      "text/plain": [
       "Validating: 0it [00:00, ?it/s]"
      ]
     },
     "metadata": {},
     "output_type": "display_data"
    },
    {
     "data": {
      "application/vnd.jupyter.widget-view+json": {
       "model_id": "",
       "version_major": 2,
       "version_minor": 0
      },
      "text/plain": [
       "Validating: 0it [00:00, ?it/s]"
      ]
     },
     "metadata": {},
     "output_type": "display_data"
    },
    {
     "data": {
      "application/vnd.jupyter.widget-view+json": {
       "model_id": "",
       "version_major": 2,
       "version_minor": 0
      },
      "text/plain": [
       "Validating: 0it [00:00, ?it/s]"
      ]
     },
     "metadata": {},
     "output_type": "display_data"
    },
    {
     "data": {
      "application/vnd.jupyter.widget-view+json": {
       "model_id": "",
       "version_major": 2,
       "version_minor": 0
      },
      "text/plain": [
       "Validating: 0it [00:00, ?it/s]"
      ]
     },
     "metadata": {},
     "output_type": "display_data"
    },
    {
     "data": {
      "application/vnd.jupyter.widget-view+json": {
       "model_id": "",
       "version_major": 2,
       "version_minor": 0
      },
      "text/plain": [
       "Validating: 0it [00:00, ?it/s]"
      ]
     },
     "metadata": {},
     "output_type": "display_data"
    },
    {
     "data": {
      "application/vnd.jupyter.widget-view+json": {
       "model_id": "",
       "version_major": 2,
       "version_minor": 0
      },
      "text/plain": [
       "Validating: 0it [00:00, ?it/s]"
      ]
     },
     "metadata": {},
     "output_type": "display_data"
    },
    {
     "data": {
      "application/vnd.jupyter.widget-view+json": {
       "model_id": "",
       "version_major": 2,
       "version_minor": 0
      },
      "text/plain": [
       "Validating: 0it [00:00, ?it/s]"
      ]
     },
     "metadata": {},
     "output_type": "display_data"
    },
    {
     "data": {
      "application/vnd.jupyter.widget-view+json": {
       "model_id": "",
       "version_major": 2,
       "version_minor": 0
      },
      "text/plain": [
       "Validating: 0it [00:00, ?it/s]"
      ]
     },
     "metadata": {},
     "output_type": "display_data"
    },
    {
     "data": {
      "application/vnd.jupyter.widget-view+json": {
       "model_id": "",
       "version_major": 2,
       "version_minor": 0
      },
      "text/plain": [
       "Validating: 0it [00:00, ?it/s]"
      ]
     },
     "metadata": {},
     "output_type": "display_data"
    },
    {
     "data": {
      "application/vnd.jupyter.widget-view+json": {
       "model_id": "",
       "version_major": 2,
       "version_minor": 0
      },
      "text/plain": [
       "Validating: 0it [00:00, ?it/s]"
      ]
     },
     "metadata": {},
     "output_type": "display_data"
    },
    {
     "data": {
      "application/vnd.jupyter.widget-view+json": {
       "model_id": "",
       "version_major": 2,
       "version_minor": 0
      },
      "text/plain": [
       "Validating: 0it [00:00, ?it/s]"
      ]
     },
     "metadata": {},
     "output_type": "display_data"
    },
    {
     "data": {
      "application/vnd.jupyter.widget-view+json": {
       "model_id": "",
       "version_major": 2,
       "version_minor": 0
      },
      "text/plain": [
       "Validating: 0it [00:00, ?it/s]"
      ]
     },
     "metadata": {},
     "output_type": "display_data"
    },
    {
     "data": {
      "application/vnd.jupyter.widget-view+json": {
       "model_id": "",
       "version_major": 2,
       "version_minor": 0
      },
      "text/plain": [
       "Validating: 0it [00:00, ?it/s]"
      ]
     },
     "metadata": {},
     "output_type": "display_data"
    },
    {
     "data": {
      "application/vnd.jupyter.widget-view+json": {
       "model_id": "",
       "version_major": 2,
       "version_minor": 0
      },
      "text/plain": [
       "Validating: 0it [00:00, ?it/s]"
      ]
     },
     "metadata": {},
     "output_type": "display_data"
    },
    {
     "data": {
      "application/vnd.jupyter.widget-view+json": {
       "model_id": "",
       "version_major": 2,
       "version_minor": 0
      },
      "text/plain": [
       "Validating: 0it [00:00, ?it/s]"
      ]
     },
     "metadata": {},
     "output_type": "display_data"
    },
    {
     "data": {
      "application/vnd.jupyter.widget-view+json": {
       "model_id": "",
       "version_major": 2,
       "version_minor": 0
      },
      "text/plain": [
       "Validating: 0it [00:00, ?it/s]"
      ]
     },
     "metadata": {},
     "output_type": "display_data"
    },
    {
     "data": {
      "application/vnd.jupyter.widget-view+json": {
       "model_id": "",
       "version_major": 2,
       "version_minor": 0
      },
      "text/plain": [
       "Validating: 0it [00:00, ?it/s]"
      ]
     },
     "metadata": {},
     "output_type": "display_data"
    },
    {
     "data": {
      "application/vnd.jupyter.widget-view+json": {
       "model_id": "",
       "version_major": 2,
       "version_minor": 0
      },
      "text/plain": [
       "Validating: 0it [00:00, ?it/s]"
      ]
     },
     "metadata": {},
     "output_type": "display_data"
    },
    {
     "data": {
      "application/vnd.jupyter.widget-view+json": {
       "model_id": "",
       "version_major": 2,
       "version_minor": 0
      },
      "text/plain": [
       "Validating: 0it [00:00, ?it/s]"
      ]
     },
     "metadata": {},
     "output_type": "display_data"
    },
    {
     "data": {
      "application/vnd.jupyter.widget-view+json": {
       "model_id": "",
       "version_major": 2,
       "version_minor": 0
      },
      "text/plain": [
       "Validating: 0it [00:00, ?it/s]"
      ]
     },
     "metadata": {},
     "output_type": "display_data"
    },
    {
     "data": {
      "application/vnd.jupyter.widget-view+json": {
       "model_id": "",
       "version_major": 2,
       "version_minor": 0
      },
      "text/plain": [
       "Validating: 0it [00:00, ?it/s]"
      ]
     },
     "metadata": {},
     "output_type": "display_data"
    },
    {
     "data": {
      "application/vnd.jupyter.widget-view+json": {
       "model_id": "",
       "version_major": 2,
       "version_minor": 0
      },
      "text/plain": [
       "Validating: 0it [00:00, ?it/s]"
      ]
     },
     "metadata": {},
     "output_type": "display_data"
    },
    {
     "data": {
      "application/vnd.jupyter.widget-view+json": {
       "model_id": "",
       "version_major": 2,
       "version_minor": 0
      },
      "text/plain": [
       "Validating: 0it [00:00, ?it/s]"
      ]
     },
     "metadata": {},
     "output_type": "display_data"
    },
    {
     "data": {
      "application/vnd.jupyter.widget-view+json": {
       "model_id": "",
       "version_major": 2,
       "version_minor": 0
      },
      "text/plain": [
       "Validating: 0it [00:00, ?it/s]"
      ]
     },
     "metadata": {},
     "output_type": "display_data"
    },
    {
     "name": "stderr",
     "output_type": "stream",
     "text": [
      "WARNING - (py.warnings._showwarnmsg) - /Users/polina/.conda/envs/neural_prophet/lib/python3.7/site-packages/pandas/core/indexing.py:1738: SettingWithCopyWarning: \n",
      "A value is trying to be set on a copy of a slice from a DataFrame.\n",
      "Try using .loc[row_indexer,col_indexer] = value instead\n",
      "\n",
      "See the caveats in the documentation: https://pandas.pydata.org/pandas-docs/stable/user_guide/indexing.html#returning-a-view-versus-a-copy\n",
      "  self._setitem_single_column(loc, value[:, i].tolist(), pi)\n",
      "\n",
      "INFO - (NP.config.set_auto_batch_epoch) - Auto-set batch_size to 64\n",
      "\n",
      "\n",
      "\n",
      "  0%|          | 0/15 [00:00<?, ?it/s]\u001b[A\u001b[A\u001b[AGPU available: False, used: False\n",
      "TPU available: False, using: 0 TPU cores\n",
      "WARNING - (py.warnings._showwarnmsg) - /Users/polina/.conda/envs/neural_prophet/lib/python3.7/site-packages/pytorch_lightning/utilities/distributed.py:68: UserWarning: you defined a validation_step but have no val_dataloader. Skipping validation loop\n",
      "  warnings.warn(*args, **kwargs)\n",
      "\n",
      "\n",
      "  | Name      | Type         | Params\n",
      "-------------------------------------------\n",
      "0 | lstm      | LSTM         | 15.1 K\n",
      "1 | linear    | Linear       | 11    \n",
      "2 | loss_func | SmoothL1Loss | 0     \n",
      "-------------------------------------------\n",
      "15.1 K    Trainable params\n",
      "0         Non-trainable params\n",
      "15.1 K    Total params\n",
      "0.060     Total estimated model params size (MB)\n"
     ]
    },
    {
     "data": {
      "application/vnd.jupyter.widget-view+json": {
       "model_id": "",
       "version_major": 2,
       "version_minor": 0
      },
      "text/plain": [
       "Validation sanity check: 0it [00:00, ?it/s]"
      ]
     },
     "metadata": {},
     "output_type": "display_data"
    },
    {
     "name": "stderr",
     "output_type": "stream",
     "text": [
      "WARNING - (py.warnings._showwarnmsg) - /Users/polina/.conda/envs/neural_prophet/lib/python3.7/site-packages/pytorch_lightning/utilities/distributed.py:68: UserWarning: The dataloader, train dataloader, does not have many workers which may be a bottleneck. Consider increasing the value of the `num_workers` argument` (try 8 which is the number of cpus on this machine) in the `DataLoader` init to improve performance.\n",
      "  warnings.warn(*args, **kwargs)\n",
      "\n"
     ]
    },
    {
     "data": {
      "application/vnd.jupyter.widget-view+json": {
       "model_id": "08a4dfa38a00495387cf30c1db3dedf5",
       "version_major": 2,
       "version_minor": 0
      },
      "text/plain": [
       "Training: 0it [00:00, ?it/s]"
      ]
     },
     "metadata": {},
     "output_type": "display_data"
    },
    {
     "name": "stderr",
     "output_type": "stream",
     "text": [
      "\n",
      "\n",
      "\n",
      "                                      \u001b[A\u001b[A\u001b[AWARNING - (py.warnings._showwarnmsg) - /Users/polina/fds/neural_prophet/neuralprophet/tools/metrics_libra.py:13: RuntimeWarning: divide by zero encountered in double_scalars\n",
      "  return y_pred_mae / naive_mae\n",
      "\n",
      "WARNING - (py.warnings._showwarnmsg) - /Users/polina/fds/neural_prophet/neuralprophet/tools/metrics_libra.py:13: RuntimeWarning: divide by zero encountered in double_scalars\n",
      "  return y_pred_mae / naive_mae\n",
      "\n",
      "WARNING - (py.warnings._showwarnmsg) - /Users/polina/fds/neural_prophet/neuralprophet/tools/metrics_libra.py:13: RuntimeWarning: divide by zero encountered in double_scalars\n",
      "  return y_pred_mae / naive_mae\n",
      "\n",
      "WARNING - (py.warnings._showwarnmsg) - /Users/polina/fds/neural_prophet/neuralprophet/tools/metrics_libra.py:13: RuntimeWarning: divide by zero encountered in double_scalars\n",
      "  return y_pred_mae / naive_mae\n",
      "\n",
      "WARNING - (py.warnings._showwarnmsg) - /Users/polina/fds/neural_prophet/neuralprophet/tools/metrics_libra.py:13: RuntimeWarning: divide by zero encountered in double_scalars\n",
      "  return y_pred_mae / naive_mae\n",
      "\n",
      "WARNING - (py.warnings._showwarnmsg) - /Users/polina/fds/neural_prophet/neuralprophet/tools/metrics_libra.py:13: RuntimeWarning: divide by zero encountered in double_scalars\n",
      "  return y_pred_mae / naive_mae\n",
      "\n",
      "WARNING - (py.warnings._showwarnmsg) - /Users/polina/fds/neural_prophet/neuralprophet/tools/metrics_libra.py:13: RuntimeWarning: divide by zero encountered in double_scalars\n",
      "  return y_pred_mae / naive_mae\n",
      "\n",
      "WARNING - (py.warnings._showwarnmsg) - /Users/polina/fds/neural_prophet/neuralprophet/tools/metrics_libra.py:13: RuntimeWarning: divide by zero encountered in double_scalars\n",
      "  return y_pred_mae / naive_mae\n",
      "\n",
      "WARNING - (py.warnings._showwarnmsg) - /Users/polina/fds/neural_prophet/neuralprophet/tools/metrics_libra.py:13: RuntimeWarning: divide by zero encountered in double_scalars\n",
      "  return y_pred_mae / naive_mae\n",
      "\n",
      "WARNING - (py.warnings._showwarnmsg) - /Users/polina/fds/neural_prophet/neuralprophet/tools/metrics_libra.py:13: RuntimeWarning: divide by zero encountered in double_scalars\n",
      "  return y_pred_mae / naive_mae\n",
      "\n",
      "WARNING - (py.warnings._showwarnmsg) - /Users/polina/fds/neural_prophet/neuralprophet/tools/metrics_libra.py:13: RuntimeWarning: divide by zero encountered in double_scalars\n",
      "  return y_pred_mae / naive_mae\n",
      "\n",
      "WARNING - (py.warnings._showwarnmsg) - /Users/polina/fds/neural_prophet/neuralprophet/tools/metrics_libra.py:13: RuntimeWarning: divide by zero encountered in double_scalars\n",
      "  return y_pred_mae / naive_mae\n",
      "\n",
      "WARNING - (py.warnings._showwarnmsg) - /Users/polina/fds/neural_prophet/neuralprophet/tools/metrics_libra.py:13: RuntimeWarning: divide by zero encountered in double_scalars\n",
      "  return y_pred_mae / naive_mae\n",
      "\n",
      "WARNING - (py.warnings._showwarnmsg) - /Users/polina/fds/neural_prophet/neuralprophet/tools/metrics_libra.py:13: RuntimeWarning: divide by zero encountered in double_scalars\n",
      "  return y_pred_mae / naive_mae\n",
      "\n",
      "WARNING - (py.warnings._showwarnmsg) - /Users/polina/fds/neural_prophet/neuralprophet/tools/metrics_libra.py:13: RuntimeWarning: divide by zero encountered in double_scalars\n",
      "  return y_pred_mae / naive_mae\n",
      "\n",
      "WARNING - (py.warnings._showwarnmsg) - /Users/polina/fds/neural_prophet/neuralprophet/tools/metrics_libra.py:13: RuntimeWarning: divide by zero encountered in double_scalars\n",
      "  return y_pred_mae / naive_mae\n",
      "\n",
      "WARNING - (py.warnings._showwarnmsg) - /Users/polina/fds/neural_prophet/neuralprophet/tools/metrics_libra.py:13: RuntimeWarning: divide by zero encountered in double_scalars\n",
      "  return y_pred_mae / naive_mae\n",
      "\n",
      "WARNING - (py.warnings._showwarnmsg) - /Users/polina/fds/neural_prophet/neuralprophet/tools/metrics_libra.py:13: RuntimeWarning: divide by zero encountered in double_scalars\n",
      "  return y_pred_mae / naive_mae\n",
      "\n",
      "WARNING - (py.warnings._showwarnmsg) - /Users/polina/fds/neural_prophet/neuralprophet/tools/metrics_libra.py:13: RuntimeWarning: divide by zero encountered in double_scalars\n",
      "  return y_pred_mae / naive_mae\n",
      "\n",
      "WARNING - (py.warnings._showwarnmsg) - /Users/polina/fds/neural_prophet/neuralprophet/tools/metrics_libra.py:13: RuntimeWarning: divide by zero encountered in double_scalars\n",
      "  return y_pred_mae / naive_mae\n",
      "\n",
      "WARNING - (py.warnings._showwarnmsg) - /Users/polina/fds/neural_prophet/neuralprophet/tools/metrics_libra.py:13: RuntimeWarning: divide by zero encountered in double_scalars\n",
      "  return y_pred_mae / naive_mae\n",
      "\n",
      "WARNING - (py.warnings._showwarnmsg) - /Users/polina/fds/neural_prophet/neuralprophet/tools/metrics_libra.py:13: RuntimeWarning: divide by zero encountered in double_scalars\n",
      "  return y_pred_mae / naive_mae\n",
      "\n",
      "WARNING - (py.warnings._showwarnmsg) - /Users/polina/fds/neural_prophet/neuralprophet/tools/metrics_libra.py:13: RuntimeWarning: divide by zero encountered in double_scalars\n",
      "  return y_pred_mae / naive_mae\n",
      "\n",
      "WARNING - (py.warnings._showwarnmsg) - /Users/polina/fds/neural_prophet/neuralprophet/tools/metrics_libra.py:13: RuntimeWarning: divide by zero encountered in double_scalars\n",
      "  return y_pred_mae / naive_mae\n",
      "\n",
      "WARNING - (py.warnings._showwarnmsg) - /Users/polina/fds/neural_prophet/neuralprophet/tools/metrics_libra.py:13: RuntimeWarning: divide by zero encountered in double_scalars\n",
      "  return y_pred_mae / naive_mae\n",
      "\n",
      "WARNING - (py.warnings._showwarnmsg) - /Users/polina/fds/neural_prophet/neuralprophet/tools/metrics_libra.py:13: RuntimeWarning: divide by zero encountered in double_scalars\n",
      "  return y_pred_mae / naive_mae\n",
      "\n",
      "WARNING - (py.warnings._showwarnmsg) - /Users/polina/fds/neural_prophet/neuralprophet/tools/metrics_libra.py:13: RuntimeWarning: divide by zero encountered in double_scalars\n",
      "  return y_pred_mae / naive_mae\n",
      "\n",
      "WARNING - (py.warnings._showwarnmsg) - /Users/polina/fds/neural_prophet/neuralprophet/tools/metrics_libra.py:13: RuntimeWarning: divide by zero encountered in double_scalars\n",
      "  return y_pred_mae / naive_mae\n",
      "\n",
      "WARNING - (py.warnings._showwarnmsg) - /Users/polina/fds/neural_prophet/neuralprophet/tools/metrics_libra.py:13: RuntimeWarning: divide by zero encountered in double_scalars\n",
      "  return y_pred_mae / naive_mae\n",
      "\n",
      "WARNING - (py.warnings._showwarnmsg) - /Users/polina/fds/neural_prophet/neuralprophet/tools/metrics_libra.py:13: RuntimeWarning: divide by zero encountered in double_scalars\n",
      "  return y_pred_mae / naive_mae\n",
      "\n",
      "WARNING - (py.warnings._showwarnmsg) - /Users/polina/fds/neural_prophet/neuralprophet/tools/metrics_libra.py:13: RuntimeWarning: divide by zero encountered in double_scalars\n",
      "  return y_pred_mae / naive_mae\n",
      "\n",
      "WARNING - (py.warnings._showwarnmsg) - /Users/polina/fds/neural_prophet/neuralprophet/tools/metrics_libra.py:13: RuntimeWarning: divide by zero encountered in double_scalars\n",
      "  return y_pred_mae / naive_mae\n",
      "\n",
      "WARNING - (py.warnings._showwarnmsg) - /Users/polina/fds/neural_prophet/neuralprophet/tools/metrics_libra.py:13: RuntimeWarning: divide by zero encountered in double_scalars\n",
      "  return y_pred_mae / naive_mae\n",
      "\n",
      "WARNING - (py.warnings._showwarnmsg) - /Users/polina/fds/neural_prophet/neuralprophet/tools/metrics_libra.py:13: RuntimeWarning: divide by zero encountered in double_scalars\n",
      "  return y_pred_mae / naive_mae\n",
      "\n",
      "WARNING - (py.warnings._showwarnmsg) - /Users/polina/fds/neural_prophet/neuralprophet/tools/metrics_libra.py:13: RuntimeWarning: divide by zero encountered in double_scalars\n",
      "  return y_pred_mae / naive_mae\n",
      "\n",
      "WARNING - (py.warnings._showwarnmsg) - /Users/polina/fds/neural_prophet/neuralprophet/tools/metrics_libra.py:13: RuntimeWarning: divide by zero encountered in double_scalars\n",
      "  return y_pred_mae / naive_mae\n",
      "\n",
      "WARNING - (py.warnings._showwarnmsg) - /Users/polina/fds/neural_prophet/neuralprophet/tools/metrics_libra.py:13: RuntimeWarning: divide by zero encountered in double_scalars\n",
      "  return y_pred_mae / naive_mae\n",
      "\n",
      "WARNING - (py.warnings._showwarnmsg) - /Users/polina/fds/neural_prophet/neuralprophet/tools/metrics_libra.py:13: RuntimeWarning: divide by zero encountered in double_scalars\n",
      "  return y_pred_mae / naive_mae\n",
      "\n",
      "WARNING - (py.warnings._showwarnmsg) - /Users/polina/fds/neural_prophet/neuralprophet/tools/metrics_libra.py:13: RuntimeWarning: divide by zero encountered in double_scalars\n",
      "  return y_pred_mae / naive_mae\n",
      "\n",
      "WARNING - (py.warnings._showwarnmsg) - /Users/polina/fds/neural_prophet/neuralprophet/tools/metrics_libra.py:13: RuntimeWarning: divide by zero encountered in double_scalars\n",
      "  return y_pred_mae / naive_mae\n",
      "\n"
     ]
    },
    {
     "name": "stderr",
     "output_type": "stream",
     "text": [
      "WARNING - (py.warnings._showwarnmsg) - /Users/polina/fds/neural_prophet/neuralprophet/tools/metrics_libra.py:13: RuntimeWarning: divide by zero encountered in double_scalars\n",
      "  return y_pred_mae / naive_mae\n",
      "\n",
      "WARNING - (py.warnings._showwarnmsg) - /Users/polina/fds/neural_prophet/neuralprophet/tools/metrics_libra.py:13: RuntimeWarning: divide by zero encountered in double_scalars\n",
      "  return y_pred_mae / naive_mae\n",
      "\n",
      "WARNING - (py.warnings._showwarnmsg) - /Users/polina/fds/neural_prophet/neuralprophet/tools/metrics_libra.py:13: RuntimeWarning: divide by zero encountered in double_scalars\n",
      "  return y_pred_mae / naive_mae\n",
      "\n",
      "WARNING - (py.warnings._showwarnmsg) - /Users/polina/fds/neural_prophet/neuralprophet/tools/metrics_libra.py:13: RuntimeWarning: divide by zero encountered in double_scalars\n",
      "  return y_pred_mae / naive_mae\n",
      "\n",
      "WARNING - (py.warnings._showwarnmsg) - /Users/polina/fds/neural_prophet/neuralprophet/tools/metrics_libra.py:13: RuntimeWarning: divide by zero encountered in double_scalars\n",
      "  return y_pred_mae / naive_mae\n",
      "\n",
      "WARNING - (py.warnings._showwarnmsg) - /Users/polina/fds/neural_prophet/neuralprophet/tools/metrics_libra.py:13: RuntimeWarning: divide by zero encountered in double_scalars\n",
      "  return y_pred_mae / naive_mae\n",
      "\n",
      "WARNING - (py.warnings._showwarnmsg) - /Users/polina/fds/neural_prophet/neuralprophet/tools/metrics_libra.py:13: RuntimeWarning: divide by zero encountered in double_scalars\n",
      "  return y_pred_mae / naive_mae\n",
      "\n",
      "WARNING - (py.warnings._showwarnmsg) - /Users/polina/fds/neural_prophet/neuralprophet/tools/metrics_libra.py:13: RuntimeWarning: divide by zero encountered in double_scalars\n",
      "  return y_pred_mae / naive_mae\n",
      "\n",
      "WARNING - (py.warnings._showwarnmsg) - /Users/polina/fds/neural_prophet/neuralprophet/tools/metrics_libra.py:13: RuntimeWarning: divide by zero encountered in double_scalars\n",
      "  return y_pred_mae / naive_mae\n",
      "\n",
      "WARNING - (py.warnings._showwarnmsg) - /Users/polina/fds/neural_prophet/neuralprophet/tools/metrics_libra.py:13: RuntimeWarning: divide by zero encountered in double_scalars\n",
      "  return y_pred_mae / naive_mae\n",
      "\n",
      "WARNING - (py.warnings._showwarnmsg) - /Users/polina/fds/neural_prophet/neuralprophet/tools/metrics_libra.py:13: RuntimeWarning: divide by zero encountered in double_scalars\n",
      "  return y_pred_mae / naive_mae\n",
      "\n",
      "WARNING - (py.warnings._showwarnmsg) - /Users/polina/fds/neural_prophet/neuralprophet/tools/metrics_libra.py:13: RuntimeWarning: divide by zero encountered in double_scalars\n",
      "  return y_pred_mae / naive_mae\n",
      "\n",
      "WARNING - (py.warnings._showwarnmsg) - /Users/polina/fds/neural_prophet/neuralprophet/tools/metrics_libra.py:13: RuntimeWarning: divide by zero encountered in double_scalars\n",
      "  return y_pred_mae / naive_mae\n",
      "\n",
      "WARNING - (py.warnings._showwarnmsg) - /Users/polina/fds/neural_prophet/neuralprophet/tools/metrics_libra.py:13: RuntimeWarning: divide by zero encountered in double_scalars\n",
      "  return y_pred_mae / naive_mae\n",
      "\n",
      "WARNING - (py.warnings._showwarnmsg) - /Users/polina/fds/neural_prophet/neuralprophet/tools/metrics_libra.py:13: RuntimeWarning: divide by zero encountered in double_scalars\n",
      "  return y_pred_mae / naive_mae\n",
      "\n",
      "WARNING - (py.warnings._showwarnmsg) - /Users/polina/fds/neural_prophet/neuralprophet/tools/metrics_libra.py:13: RuntimeWarning: divide by zero encountered in double_scalars\n",
      "  return y_pred_mae / naive_mae\n",
      "\n",
      "WARNING - (py.warnings._showwarnmsg) - /Users/polina/fds/neural_prophet/neuralprophet/tools/metrics_libra.py:13: RuntimeWarning: divide by zero encountered in double_scalars\n",
      "  return y_pred_mae / naive_mae\n",
      "\n",
      "WARNING - (py.warnings._showwarnmsg) - /Users/polina/fds/neural_prophet/neuralprophet/tools/metrics_libra.py:13: RuntimeWarning: divide by zero encountered in double_scalars\n",
      "  return y_pred_mae / naive_mae\n",
      "\n",
      "WARNING - (py.warnings._showwarnmsg) - /Users/polina/fds/neural_prophet/neuralprophet/tools/metrics_libra.py:13: RuntimeWarning: divide by zero encountered in double_scalars\n",
      "  return y_pred_mae / naive_mae\n",
      "\n",
      "WARNING - (py.warnings._showwarnmsg) - /Users/polina/fds/neural_prophet/neuralprophet/tools/metrics_libra.py:13: RuntimeWarning: divide by zero encountered in double_scalars\n",
      "  return y_pred_mae / naive_mae\n",
      "\n",
      "WARNING - (py.warnings._showwarnmsg) - /Users/polina/fds/neural_prophet/neuralprophet/tools/metrics_libra.py:13: RuntimeWarning: divide by zero encountered in double_scalars\n",
      "  return y_pred_mae / naive_mae\n",
      "\n",
      "WARNING - (py.warnings._showwarnmsg) - /Users/polina/fds/neural_prophet/neuralprophet/tools/metrics_libra.py:13: RuntimeWarning: divide by zero encountered in double_scalars\n",
      "  return y_pred_mae / naive_mae\n",
      "\n",
      "WARNING - (py.warnings._showwarnmsg) - /Users/polina/fds/neural_prophet/neuralprophet/tools/metrics_libra.py:13: RuntimeWarning: divide by zero encountered in double_scalars\n",
      "  return y_pred_mae / naive_mae\n",
      "\n",
      "WARNING - (py.warnings._showwarnmsg) - /Users/polina/fds/neural_prophet/neuralprophet/tools/metrics_libra.py:13: RuntimeWarning: divide by zero encountered in double_scalars\n",
      "  return y_pred_mae / naive_mae\n",
      "\n",
      "WARNING - (py.warnings._showwarnmsg) - /Users/polina/fds/neural_prophet/neuralprophet/tools/metrics_libra.py:13: RuntimeWarning: divide by zero encountered in double_scalars\n",
      "  return y_pred_mae / naive_mae\n",
      "\n",
      "WARNING - (py.warnings._showwarnmsg) - /Users/polina/fds/neural_prophet/neuralprophet/tools/metrics_libra.py:13: RuntimeWarning: divide by zero encountered in double_scalars\n",
      "  return y_pred_mae / naive_mae\n",
      "\n",
      "WARNING - (py.warnings._showwarnmsg) - /Users/polina/fds/neural_prophet/neuralprophet/tools/metrics_libra.py:13: RuntimeWarning: divide by zero encountered in double_scalars\n",
      "  return y_pred_mae / naive_mae\n",
      "\n",
      "WARNING - (py.warnings._showwarnmsg) - /Users/polina/fds/neural_prophet/neuralprophet/tools/metrics_libra.py:13: RuntimeWarning: divide by zero encountered in double_scalars\n",
      "  return y_pred_mae / naive_mae\n",
      "\n",
      "WARNING - (py.warnings._showwarnmsg) - /Users/polina/fds/neural_prophet/neuralprophet/tools/metrics_libra.py:13: RuntimeWarning: divide by zero encountered in double_scalars\n",
      "  return y_pred_mae / naive_mae\n",
      "\n",
      "WARNING - (py.warnings._showwarnmsg) - /Users/polina/fds/neural_prophet/neuralprophet/tools/metrics_libra.py:13: RuntimeWarning: divide by zero encountered in double_scalars\n",
      "  return y_pred_mae / naive_mae\n",
      "\n",
      "WARNING - (py.warnings._showwarnmsg) - /Users/polina/fds/neural_prophet/neuralprophet/tools/metrics_libra.py:13: RuntimeWarning: divide by zero encountered in double_scalars\n",
      "  return y_pred_mae / naive_mae\n",
      "\n",
      "WARNING - (py.warnings._showwarnmsg) - /Users/polina/fds/neural_prophet/neuralprophet/tools/metrics_libra.py:13: RuntimeWarning: divide by zero encountered in double_scalars\n",
      "  return y_pred_mae / naive_mae\n",
      "\n",
      "WARNING - (py.warnings._showwarnmsg) - /Users/polina/fds/neural_prophet/neuralprophet/tools/metrics_libra.py:13: RuntimeWarning: divide by zero encountered in double_scalars\n",
      "  return y_pred_mae / naive_mae\n",
      "\n",
      "WARNING - (py.warnings._showwarnmsg) - /Users/polina/fds/neural_prophet/neuralprophet/tools/metrics_libra.py:13: RuntimeWarning: divide by zero encountered in double_scalars\n",
      "  return y_pred_mae / naive_mae\n",
      "\n",
      "WARNING - (py.warnings._showwarnmsg) - /Users/polina/fds/neural_prophet/neuralprophet/tools/metrics_libra.py:13: RuntimeWarning: divide by zero encountered in double_scalars\n",
      "  return y_pred_mae / naive_mae\n",
      "\n",
      "WARNING - (py.warnings._showwarnmsg) - /Users/polina/fds/neural_prophet/neuralprophet/tools/metrics_libra.py:13: RuntimeWarning: divide by zero encountered in double_scalars\n",
      "  return y_pred_mae / naive_mae\n",
      "\n",
      "WARNING - (py.warnings._showwarnmsg) - /Users/polina/fds/neural_prophet/neuralprophet/tools/metrics_libra.py:13: RuntimeWarning: divide by zero encountered in double_scalars\n",
      "  return y_pred_mae / naive_mae\n",
      "\n",
      "WARNING - (py.warnings._showwarnmsg) - /Users/polina/fds/neural_prophet/neuralprophet/tools/metrics_libra.py:13: RuntimeWarning: divide by zero encountered in double_scalars\n",
      "  return y_pred_mae / naive_mae\n",
      "\n",
      "WARNING - (py.warnings._showwarnmsg) - /Users/polina/fds/neural_prophet/neuralprophet/tools/metrics_libra.py:13: RuntimeWarning: divide by zero encountered in double_scalars\n",
      "  return y_pred_mae / naive_mae\n",
      "\n",
      "WARNING - (py.warnings._showwarnmsg) - /Users/polina/fds/neural_prophet/neuralprophet/tools/metrics_libra.py:13: RuntimeWarning: divide by zero encountered in double_scalars\n",
      "  return y_pred_mae / naive_mae\n",
      "\n"
     ]
    },
    {
     "name": "stderr",
     "output_type": "stream",
     "text": [
      "WARNING - (py.warnings._showwarnmsg) - /Users/polina/fds/neural_prophet/neuralprophet/tools/metrics_libra.py:13: RuntimeWarning: divide by zero encountered in double_scalars\n",
      "  return y_pred_mae / naive_mae\n",
      "\n",
      "WARNING - (py.warnings._showwarnmsg) - /Users/polina/fds/neural_prophet/neuralprophet/tools/metrics_libra.py:13: RuntimeWarning: divide by zero encountered in double_scalars\n",
      "  return y_pred_mae / naive_mae\n",
      "\n",
      "WARNING - (py.warnings._showwarnmsg) - /Users/polina/fds/neural_prophet/neuralprophet/tools/metrics_libra.py:13: RuntimeWarning: divide by zero encountered in double_scalars\n",
      "  return y_pred_mae / naive_mae\n",
      "\n",
      "WARNING - (py.warnings._showwarnmsg) - /Users/polina/fds/neural_prophet/neuralprophet/tools/metrics_libra.py:13: RuntimeWarning: divide by zero encountered in double_scalars\n",
      "  return y_pred_mae / naive_mae\n",
      "\n",
      "WARNING - (py.warnings._showwarnmsg) - /Users/polina/fds/neural_prophet/neuralprophet/tools/metrics_libra.py:13: RuntimeWarning: divide by zero encountered in double_scalars\n",
      "  return y_pred_mae / naive_mae\n",
      "\n",
      "WARNING - (py.warnings._showwarnmsg) - /Users/polina/fds/neural_prophet/neuralprophet/tools/metrics_libra.py:13: RuntimeWarning: divide by zero encountered in double_scalars\n",
      "  return y_pred_mae / naive_mae\n",
      "\n",
      "WARNING - (py.warnings._showwarnmsg) - /Users/polina/fds/neural_prophet/neuralprophet/tools/metrics_libra.py:13: RuntimeWarning: divide by zero encountered in double_scalars\n",
      "  return y_pred_mae / naive_mae\n",
      "\n",
      "WARNING - (py.warnings._showwarnmsg) - /Users/polina/fds/neural_prophet/neuralprophet/tools/metrics_libra.py:13: RuntimeWarning: divide by zero encountered in double_scalars\n",
      "  return y_pred_mae / naive_mae\n",
      "\n",
      "WARNING - (py.warnings._showwarnmsg) - /Users/polina/fds/neural_prophet/neuralprophet/tools/metrics_libra.py:13: RuntimeWarning: divide by zero encountered in double_scalars\n",
      "  return y_pred_mae / naive_mae\n",
      "\n",
      "WARNING - (py.warnings._showwarnmsg) - /Users/polina/fds/neural_prophet/neuralprophet/tools/metrics_libra.py:13: RuntimeWarning: divide by zero encountered in double_scalars\n",
      "  return y_pred_mae / naive_mae\n",
      "\n",
      "WARNING - (py.warnings._showwarnmsg) - /Users/polina/fds/neural_prophet/neuralprophet/tools/metrics_libra.py:13: RuntimeWarning: divide by zero encountered in double_scalars\n",
      "  return y_pred_mae / naive_mae\n",
      "\n",
      "WARNING - (py.warnings._showwarnmsg) - /Users/polina/fds/neural_prophet/neuralprophet/tools/metrics_libra.py:13: RuntimeWarning: divide by zero encountered in double_scalars\n",
      "  return y_pred_mae / naive_mae\n",
      "\n",
      "WARNING - (py.warnings._showwarnmsg) - /Users/polina/fds/neural_prophet/neuralprophet/tools/metrics_libra.py:13: RuntimeWarning: divide by zero encountered in double_scalars\n",
      "  return y_pred_mae / naive_mae\n",
      "\n",
      "WARNING - (py.warnings._showwarnmsg) - /Users/polina/fds/neural_prophet/neuralprophet/tools/metrics_libra.py:13: RuntimeWarning: divide by zero encountered in double_scalars\n",
      "  return y_pred_mae / naive_mae\n",
      "\n",
      "WARNING - (py.warnings._showwarnmsg) - /Users/polina/fds/neural_prophet/neuralprophet/tools/metrics_libra.py:13: RuntimeWarning: divide by zero encountered in double_scalars\n",
      "  return y_pred_mae / naive_mae\n",
      "\n",
      "WARNING - (py.warnings._showwarnmsg) - /Users/polina/fds/neural_prophet/neuralprophet/tools/metrics_libra.py:13: RuntimeWarning: divide by zero encountered in double_scalars\n",
      "  return y_pred_mae / naive_mae\n",
      "\n",
      "WARNING - (py.warnings._showwarnmsg) - /Users/polina/fds/neural_prophet/neuralprophet/tools/metrics_libra.py:13: RuntimeWarning: divide by zero encountered in double_scalars\n",
      "  return y_pred_mae / naive_mae\n",
      "\n",
      "WARNING - (py.warnings._showwarnmsg) - /Users/polina/fds/neural_prophet/neuralprophet/tools/metrics_libra.py:13: RuntimeWarning: divide by zero encountered in double_scalars\n",
      "  return y_pred_mae / naive_mae\n",
      "\n",
      "WARNING - (py.warnings._showwarnmsg) - /Users/polina/fds/neural_prophet/neuralprophet/tools/metrics_libra.py:13: RuntimeWarning: divide by zero encountered in double_scalars\n",
      "  return y_pred_mae / naive_mae\n",
      "\n",
      "WARNING - (py.warnings._showwarnmsg) - /Users/polina/fds/neural_prophet/neuralprophet/tools/metrics_libra.py:13: RuntimeWarning: divide by zero encountered in double_scalars\n",
      "  return y_pred_mae / naive_mae\n",
      "\n",
      "WARNING - (py.warnings._showwarnmsg) - /Users/polina/fds/neural_prophet/neuralprophet/tools/metrics_libra.py:13: RuntimeWarning: divide by zero encountered in double_scalars\n",
      "  return y_pred_mae / naive_mae\n",
      "\n",
      "WARNING - (py.warnings._showwarnmsg) - /Users/polina/fds/neural_prophet/neuralprophet/tools/metrics_libra.py:13: RuntimeWarning: divide by zero encountered in double_scalars\n",
      "  return y_pred_mae / naive_mae\n",
      "\n",
      "WARNING - (py.warnings._showwarnmsg) - /Users/polina/fds/neural_prophet/neuralprophet/tools/metrics_libra.py:13: RuntimeWarning: divide by zero encountered in double_scalars\n",
      "  return y_pred_mae / naive_mae\n",
      "\n",
      "WARNING - (py.warnings._showwarnmsg) - /Users/polina/fds/neural_prophet/neuralprophet/tools/metrics_libra.py:13: RuntimeWarning: divide by zero encountered in double_scalars\n",
      "  return y_pred_mae / naive_mae\n",
      "\n",
      "WARNING - (py.warnings._showwarnmsg) - /Users/polina/fds/neural_prophet/neuralprophet/tools/metrics_libra.py:13: RuntimeWarning: divide by zero encountered in double_scalars\n",
      "  return y_pred_mae / naive_mae\n",
      "\n",
      "WARNING - (py.warnings._showwarnmsg) - /Users/polina/fds/neural_prophet/neuralprophet/tools/metrics_libra.py:13: RuntimeWarning: divide by zero encountered in double_scalars\n",
      "  return y_pred_mae / naive_mae\n",
      "\n",
      "WARNING - (py.warnings._showwarnmsg) - /Users/polina/fds/neural_prophet/neuralprophet/tools/metrics_libra.py:13: RuntimeWarning: divide by zero encountered in double_scalars\n",
      "  return y_pred_mae / naive_mae\n",
      "\n",
      "WARNING - (py.warnings._showwarnmsg) - /Users/polina/fds/neural_prophet/neuralprophet/tools/metrics_libra.py:13: RuntimeWarning: divide by zero encountered in double_scalars\n",
      "  return y_pred_mae / naive_mae\n",
      "\n",
      "WARNING - (py.warnings._showwarnmsg) - /Users/polina/fds/neural_prophet/neuralprophet/tools/metrics_libra.py:13: RuntimeWarning: divide by zero encountered in double_scalars\n",
      "  return y_pred_mae / naive_mae\n",
      "\n",
      "WARNING - (py.warnings._showwarnmsg) - /Users/polina/fds/neural_prophet/neuralprophet/tools/metrics_libra.py:13: RuntimeWarning: divide by zero encountered in double_scalars\n",
      "  return y_pred_mae / naive_mae\n",
      "\n",
      "WARNING - (py.warnings._showwarnmsg) - /Users/polina/fds/neural_prophet/neuralprophet/tools/metrics_libra.py:13: RuntimeWarning: divide by zero encountered in double_scalars\n",
      "  return y_pred_mae / naive_mae\n",
      "\n",
      "WARNING - (py.warnings._showwarnmsg) - /Users/polina/fds/neural_prophet/neuralprophet/tools/metrics_libra.py:13: RuntimeWarning: divide by zero encountered in double_scalars\n",
      "  return y_pred_mae / naive_mae\n",
      "\n",
      "WARNING - (py.warnings._showwarnmsg) - /Users/polina/fds/neural_prophet/neuralprophet/tools/metrics_libra.py:13: RuntimeWarning: divide by zero encountered in double_scalars\n",
      "  return y_pred_mae / naive_mae\n",
      "\n",
      "WARNING - (py.warnings._showwarnmsg) - /Users/polina/fds/neural_prophet/neuralprophet/tools/metrics_libra.py:13: RuntimeWarning: divide by zero encountered in double_scalars\n",
      "  return y_pred_mae / naive_mae\n",
      "\n",
      "WARNING - (py.warnings._showwarnmsg) - /Users/polina/fds/neural_prophet/neuralprophet/tools/metrics_libra.py:13: RuntimeWarning: divide by zero encountered in double_scalars\n",
      "  return y_pred_mae / naive_mae\n",
      "\n",
      "WARNING - (py.warnings._showwarnmsg) - /Users/polina/fds/neural_prophet/neuralprophet/tools/metrics_libra.py:13: RuntimeWarning: divide by zero encountered in double_scalars\n",
      "  return y_pred_mae / naive_mae\n",
      "\n",
      "WARNING - (py.warnings._showwarnmsg) - /Users/polina/fds/neural_prophet/neuralprophet/tools/metrics_libra.py:13: RuntimeWarning: divide by zero encountered in double_scalars\n",
      "  return y_pred_mae / naive_mae\n",
      "\n",
      "WARNING - (py.warnings._showwarnmsg) - /Users/polina/fds/neural_prophet/neuralprophet/tools/metrics_libra.py:13: RuntimeWarning: divide by zero encountered in double_scalars\n",
      "  return y_pred_mae / naive_mae\n",
      "\n",
      "WARNING - (py.warnings._showwarnmsg) - /Users/polina/fds/neural_prophet/neuralprophet/tools/metrics_libra.py:13: RuntimeWarning: divide by zero encountered in double_scalars\n",
      "  return y_pred_mae / naive_mae\n",
      "\n",
      "WARNING - (py.warnings._showwarnmsg) - /Users/polina/fds/neural_prophet/neuralprophet/tools/metrics_libra.py:13: RuntimeWarning: divide by zero encountered in double_scalars\n",
      "  return y_pred_mae / naive_mae\n",
      "\n"
     ]
    },
    {
     "name": "stderr",
     "output_type": "stream",
     "text": [
      "WARNING - (py.warnings._showwarnmsg) - /Users/polina/fds/neural_prophet/neuralprophet/tools/metrics_libra.py:13: RuntimeWarning: divide by zero encountered in double_scalars\n",
      "  return y_pred_mae / naive_mae\n",
      "\n",
      "WARNING - (py.warnings._showwarnmsg) - /Users/polina/fds/neural_prophet/neuralprophet/tools/metrics_libra.py:13: RuntimeWarning: divide by zero encountered in double_scalars\n",
      "  return y_pred_mae / naive_mae\n",
      "\n",
      "WARNING - (py.warnings._showwarnmsg) - /Users/polina/fds/neural_prophet/neuralprophet/tools/metrics_libra.py:13: RuntimeWarning: divide by zero encountered in double_scalars\n",
      "  return y_pred_mae / naive_mae\n",
      "\n",
      "WARNING - (py.warnings._showwarnmsg) - /Users/polina/fds/neural_prophet/neuralprophet/tools/metrics_libra.py:13: RuntimeWarning: divide by zero encountered in double_scalars\n",
      "  return y_pred_mae / naive_mae\n",
      "\n",
      "WARNING - (py.warnings._showwarnmsg) - /Users/polina/fds/neural_prophet/neuralprophet/tools/metrics_libra.py:13: RuntimeWarning: divide by zero encountered in double_scalars\n",
      "  return y_pred_mae / naive_mae\n",
      "\n",
      "WARNING - (py.warnings._showwarnmsg) - /Users/polina/fds/neural_prophet/neuralprophet/tools/metrics_libra.py:13: RuntimeWarning: divide by zero encountered in double_scalars\n",
      "  return y_pred_mae / naive_mae\n",
      "\n",
      "WARNING - (py.warnings._showwarnmsg) - /Users/polina/fds/neural_prophet/neuralprophet/tools/metrics_libra.py:13: RuntimeWarning: divide by zero encountered in double_scalars\n",
      "  return y_pred_mae / naive_mae\n",
      "\n",
      "WARNING - (py.warnings._showwarnmsg) - /Users/polina/fds/neural_prophet/neuralprophet/tools/metrics_libra.py:13: RuntimeWarning: divide by zero encountered in double_scalars\n",
      "  return y_pred_mae / naive_mae\n",
      "\n",
      "WARNING - (py.warnings._showwarnmsg) - /Users/polina/fds/neural_prophet/neuralprophet/tools/metrics_libra.py:13: RuntimeWarning: divide by zero encountered in double_scalars\n",
      "  return y_pred_mae / naive_mae\n",
      "\n",
      "WARNING - (py.warnings._showwarnmsg) - /Users/polina/fds/neural_prophet/neuralprophet/tools/metrics_libra.py:13: RuntimeWarning: divide by zero encountered in double_scalars\n",
      "  return y_pred_mae / naive_mae\n",
      "\n",
      "WARNING - (py.warnings._showwarnmsg) - /Users/polina/fds/neural_prophet/neuralprophet/tools/metrics_libra.py:13: RuntimeWarning: divide by zero encountered in double_scalars\n",
      "  return y_pred_mae / naive_mae\n",
      "\n",
      "WARNING - (py.warnings._showwarnmsg) - /Users/polina/fds/neural_prophet/neuralprophet/tools/metrics_libra.py:13: RuntimeWarning: divide by zero encountered in double_scalars\n",
      "  return y_pred_mae / naive_mae\n",
      "\n",
      "WARNING - (py.warnings._showwarnmsg) - /Users/polina/fds/neural_prophet/neuralprophet/tools/metrics_libra.py:13: RuntimeWarning: divide by zero encountered in double_scalars\n",
      "  return y_pred_mae / naive_mae\n",
      "\n",
      "WARNING - (py.warnings._showwarnmsg) - /Users/polina/fds/neural_prophet/neuralprophet/tools/metrics_libra.py:13: RuntimeWarning: divide by zero encountered in double_scalars\n",
      "  return y_pred_mae / naive_mae\n",
      "\n",
      "WARNING - (py.warnings._showwarnmsg) - /Users/polina/fds/neural_prophet/neuralprophet/tools/metrics_libra.py:13: RuntimeWarning: divide by zero encountered in double_scalars\n",
      "  return y_pred_mae / naive_mae\n",
      "\n",
      "WARNING - (py.warnings._showwarnmsg) - /Users/polina/fds/neural_prophet/neuralprophet/tools/metrics_libra.py:13: RuntimeWarning: divide by zero encountered in double_scalars\n",
      "  return y_pred_mae / naive_mae\n",
      "\n",
      "WARNING - (py.warnings._showwarnmsg) - /Users/polina/fds/neural_prophet/neuralprophet/tools/metrics_libra.py:13: RuntimeWarning: divide by zero encountered in double_scalars\n",
      "  return y_pred_mae / naive_mae\n",
      "\n",
      "WARNING - (py.warnings._showwarnmsg) - /Users/polina/fds/neural_prophet/neuralprophet/tools/metrics_libra.py:13: RuntimeWarning: divide by zero encountered in double_scalars\n",
      "  return y_pred_mae / naive_mae\n",
      "\n",
      "WARNING - (py.warnings._showwarnmsg) - /Users/polina/fds/neural_prophet/neuralprophet/tools/metrics_libra.py:13: RuntimeWarning: divide by zero encountered in double_scalars\n",
      "  return y_pred_mae / naive_mae\n",
      "\n",
      "WARNING - (py.warnings._showwarnmsg) - /Users/polina/fds/neural_prophet/neuralprophet/tools/metrics_libra.py:13: RuntimeWarning: divide by zero encountered in double_scalars\n",
      "  return y_pred_mae / naive_mae\n",
      "\n",
      "WARNING - (py.warnings._showwarnmsg) - /Users/polina/fds/neural_prophet/neuralprophet/tools/metrics_libra.py:13: RuntimeWarning: divide by zero encountered in double_scalars\n",
      "  return y_pred_mae / naive_mae\n",
      "\n",
      "WARNING - (py.warnings._showwarnmsg) - /Users/polina/fds/neural_prophet/neuralprophet/tools/metrics_libra.py:13: RuntimeWarning: divide by zero encountered in double_scalars\n",
      "  return y_pred_mae / naive_mae\n",
      "\n",
      "WARNING - (py.warnings._showwarnmsg) - /Users/polina/fds/neural_prophet/neuralprophet/tools/metrics_libra.py:13: RuntimeWarning: divide by zero encountered in double_scalars\n",
      "  return y_pred_mae / naive_mae\n",
      "\n",
      "WARNING - (py.warnings._showwarnmsg) - /Users/polina/fds/neural_prophet/neuralprophet/tools/metrics_libra.py:13: RuntimeWarning: divide by zero encountered in double_scalars\n",
      "  return y_pred_mae / naive_mae\n",
      "\n",
      "WARNING - (py.warnings._showwarnmsg) - /Users/polina/fds/neural_prophet/neuralprophet/tools/metrics_libra.py:13: RuntimeWarning: divide by zero encountered in double_scalars\n",
      "  return y_pred_mae / naive_mae\n",
      "\n",
      "WARNING - (py.warnings._showwarnmsg) - /Users/polina/fds/neural_prophet/neuralprophet/tools/metrics_libra.py:13: RuntimeWarning: divide by zero encountered in double_scalars\n",
      "  return y_pred_mae / naive_mae\n",
      "\n",
      "WARNING - (py.warnings._showwarnmsg) - /Users/polina/fds/neural_prophet/neuralprophet/tools/metrics_libra.py:13: RuntimeWarning: divide by zero encountered in double_scalars\n",
      "  return y_pred_mae / naive_mae\n",
      "\n",
      "WARNING - (py.warnings._showwarnmsg) - /Users/polina/fds/neural_prophet/neuralprophet/tools/metrics_libra.py:13: RuntimeWarning: divide by zero encountered in double_scalars\n",
      "  return y_pred_mae / naive_mae\n",
      "\n",
      "WARNING - (py.warnings._showwarnmsg) - /Users/polina/fds/neural_prophet/neuralprophet/tools/metrics_libra.py:13: RuntimeWarning: divide by zero encountered in double_scalars\n",
      "  return y_pred_mae / naive_mae\n",
      "\n",
      "WARNING - (py.warnings._showwarnmsg) - /Users/polina/fds/neural_prophet/neuralprophet/tools/metrics_libra.py:13: RuntimeWarning: divide by zero encountered in double_scalars\n",
      "  return y_pred_mae / naive_mae\n",
      "\n",
      "WARNING - (py.warnings._showwarnmsg) - /Users/polina/fds/neural_prophet/neuralprophet/tools/metrics_libra.py:13: RuntimeWarning: divide by zero encountered in double_scalars\n",
      "  return y_pred_mae / naive_mae\n",
      "\n",
      "WARNING - (py.warnings._showwarnmsg) - /Users/polina/fds/neural_prophet/neuralprophet/tools/metrics_libra.py:13: RuntimeWarning: divide by zero encountered in double_scalars\n",
      "  return y_pred_mae / naive_mae\n",
      "\n",
      "WARNING - (py.warnings._showwarnmsg) - /Users/polina/fds/neural_prophet/neuralprophet/tools/metrics_libra.py:13: RuntimeWarning: divide by zero encountered in double_scalars\n",
      "  return y_pred_mae / naive_mae\n",
      "\n",
      "WARNING - (py.warnings._showwarnmsg) - /Users/polina/fds/neural_prophet/neuralprophet/tools/metrics_libra.py:13: RuntimeWarning: divide by zero encountered in double_scalars\n",
      "  return y_pred_mae / naive_mae\n",
      "\n",
      "WARNING - (py.warnings._showwarnmsg) - /Users/polina/fds/neural_prophet/neuralprophet/tools/metrics_libra.py:13: RuntimeWarning: divide by zero encountered in double_scalars\n",
      "  return y_pred_mae / naive_mae\n",
      "\n",
      "WARNING - (py.warnings._showwarnmsg) - /Users/polina/fds/neural_prophet/neuralprophet/tools/metrics_libra.py:13: RuntimeWarning: divide by zero encountered in double_scalars\n",
      "  return y_pred_mae / naive_mae\n",
      "\n",
      "WARNING - (py.warnings._showwarnmsg) - /Users/polina/fds/neural_prophet/neuralprophet/tools/metrics_libra.py:13: RuntimeWarning: divide by zero encountered in double_scalars\n",
      "  return y_pred_mae / naive_mae\n",
      "\n",
      "WARNING - (py.warnings._showwarnmsg) - /Users/polina/fds/neural_prophet/neuralprophet/tools/metrics_libra.py:13: RuntimeWarning: divide by zero encountered in double_scalars\n",
      "  return y_pred_mae / naive_mae\n",
      "\n",
      "WARNING - (py.warnings._showwarnmsg) - /Users/polina/fds/neural_prophet/neuralprophet/tools/metrics_libra.py:13: RuntimeWarning: divide by zero encountered in double_scalars\n",
      "  return y_pred_mae / naive_mae\n",
      "\n",
      "WARNING - (py.warnings._showwarnmsg) - /Users/polina/fds/neural_prophet/neuralprophet/tools/metrics_libra.py:13: RuntimeWarning: divide by zero encountered in double_scalars\n",
      "  return y_pred_mae / naive_mae\n",
      "\n"
     ]
    },
    {
     "name": "stderr",
     "output_type": "stream",
     "text": [
      "WARNING - (py.warnings._showwarnmsg) - /Users/polina/fds/neural_prophet/neuralprophet/tools/metrics_libra.py:13: RuntimeWarning: divide by zero encountered in double_scalars\n",
      "  return y_pred_mae / naive_mae\n",
      "\n",
      "WARNING - (py.warnings._showwarnmsg) - /Users/polina/fds/neural_prophet/neuralprophet/tools/metrics_libra.py:13: RuntimeWarning: divide by zero encountered in double_scalars\n",
      "  return y_pred_mae / naive_mae\n",
      "\n",
      "WARNING - (py.warnings._showwarnmsg) - /Users/polina/fds/neural_prophet/neuralprophet/tools/metrics_libra.py:13: RuntimeWarning: divide by zero encountered in double_scalars\n",
      "  return y_pred_mae / naive_mae\n",
      "\n",
      "WARNING - (py.warnings._showwarnmsg) - /Users/polina/fds/neural_prophet/neuralprophet/tools/metrics_libra.py:13: RuntimeWarning: divide by zero encountered in double_scalars\n",
      "  return y_pred_mae / naive_mae\n",
      "\n",
      "WARNING - (py.warnings._showwarnmsg) - /Users/polina/fds/neural_prophet/neuralprophet/tools/metrics_libra.py:13: RuntimeWarning: divide by zero encountered in double_scalars\n",
      "  return y_pred_mae / naive_mae\n",
      "\n",
      "WARNING - (py.warnings._showwarnmsg) - /Users/polina/fds/neural_prophet/neuralprophet/tools/metrics_libra.py:13: RuntimeWarning: divide by zero encountered in double_scalars\n",
      "  return y_pred_mae / naive_mae\n",
      "\n",
      "WARNING - (py.warnings._showwarnmsg) - /Users/polina/fds/neural_prophet/neuralprophet/tools/metrics_libra.py:13: RuntimeWarning: divide by zero encountered in double_scalars\n",
      "  return y_pred_mae / naive_mae\n",
      "\n",
      "WARNING - (py.warnings._showwarnmsg) - /Users/polina/fds/neural_prophet/neuralprophet/tools/metrics_libra.py:13: RuntimeWarning: divide by zero encountered in double_scalars\n",
      "  return y_pred_mae / naive_mae\n",
      "\n",
      "WARNING - (py.warnings._showwarnmsg) - /Users/polina/fds/neural_prophet/neuralprophet/tools/metrics_libra.py:13: RuntimeWarning: divide by zero encountered in double_scalars\n",
      "  return y_pred_mae / naive_mae\n",
      "\n",
      "WARNING - (py.warnings._showwarnmsg) - /Users/polina/fds/neural_prophet/neuralprophet/tools/metrics_libra.py:13: RuntimeWarning: divide by zero encountered in double_scalars\n",
      "  return y_pred_mae / naive_mae\n",
      "\n",
      "WARNING - (py.warnings._showwarnmsg) - /Users/polina/fds/neural_prophet/neuralprophet/tools/metrics_libra.py:13: RuntimeWarning: divide by zero encountered in double_scalars\n",
      "  return y_pred_mae / naive_mae\n",
      "\n",
      "WARNING - (py.warnings._showwarnmsg) - /Users/polina/fds/neural_prophet/neuralprophet/tools/metrics_libra.py:13: RuntimeWarning: divide by zero encountered in double_scalars\n",
      "  return y_pred_mae / naive_mae\n",
      "\n",
      "WARNING - (py.warnings._showwarnmsg) - /Users/polina/fds/neural_prophet/neuralprophet/tools/metrics_libra.py:13: RuntimeWarning: divide by zero encountered in double_scalars\n",
      "  return y_pred_mae / naive_mae\n",
      "\n",
      "WARNING - (py.warnings._showwarnmsg) - /Users/polina/fds/neural_prophet/neuralprophet/tools/metrics_libra.py:13: RuntimeWarning: divide by zero encountered in double_scalars\n",
      "  return y_pred_mae / naive_mae\n",
      "\n",
      "WARNING - (py.warnings._showwarnmsg) - /Users/polina/fds/neural_prophet/neuralprophet/tools/metrics_libra.py:13: RuntimeWarning: divide by zero encountered in double_scalars\n",
      "  return y_pred_mae / naive_mae\n",
      "\n",
      "WARNING - (py.warnings._showwarnmsg) - /Users/polina/fds/neural_prophet/neuralprophet/tools/metrics_libra.py:13: RuntimeWarning: divide by zero encountered in double_scalars\n",
      "  return y_pred_mae / naive_mae\n",
      "\n",
      "WARNING - (py.warnings._showwarnmsg) - /Users/polina/fds/neural_prophet/neuralprophet/tools/metrics_libra.py:13: RuntimeWarning: divide by zero encountered in double_scalars\n",
      "  return y_pred_mae / naive_mae\n",
      "\n",
      "WARNING - (py.warnings._showwarnmsg) - /Users/polina/fds/neural_prophet/neuralprophet/tools/metrics_libra.py:13: RuntimeWarning: divide by zero encountered in double_scalars\n",
      "  return y_pred_mae / naive_mae\n",
      "\n",
      "WARNING - (py.warnings._showwarnmsg) - /Users/polina/fds/neural_prophet/neuralprophet/tools/metrics_libra.py:13: RuntimeWarning: divide by zero encountered in double_scalars\n",
      "  return y_pred_mae / naive_mae\n",
      "\n",
      "WARNING - (py.warnings._showwarnmsg) - /Users/polina/fds/neural_prophet/neuralprophet/tools/metrics_libra.py:13: RuntimeWarning: divide by zero encountered in double_scalars\n",
      "  return y_pred_mae / naive_mae\n",
      "\n",
      "WARNING - (py.warnings._showwarnmsg) - /Users/polina/fds/neural_prophet/neuralprophet/tools/metrics_libra.py:13: RuntimeWarning: divide by zero encountered in double_scalars\n",
      "  return y_pred_mae / naive_mae\n",
      "\n",
      "WARNING - (py.warnings._showwarnmsg) - /Users/polina/fds/neural_prophet/neuralprophet/tools/metrics_libra.py:13: RuntimeWarning: divide by zero encountered in double_scalars\n",
      "  return y_pred_mae / naive_mae\n",
      "\n",
      "WARNING - (py.warnings._showwarnmsg) - /Users/polina/fds/neural_prophet/neuralprophet/tools/metrics_libra.py:13: RuntimeWarning: divide by zero encountered in double_scalars\n",
      "  return y_pred_mae / naive_mae\n",
      "\n",
      "WARNING - (py.warnings._showwarnmsg) - /Users/polina/fds/neural_prophet/neuralprophet/tools/metrics_libra.py:13: RuntimeWarning: divide by zero encountered in double_scalars\n",
      "  return y_pred_mae / naive_mae\n",
      "\n",
      "WARNING - (py.warnings._showwarnmsg) - /Users/polina/fds/neural_prophet/neuralprophet/tools/metrics_libra.py:13: RuntimeWarning: divide by zero encountered in double_scalars\n",
      "  return y_pred_mae / naive_mae\n",
      "\n",
      "WARNING - (py.warnings._showwarnmsg) - /Users/polina/fds/neural_prophet/neuralprophet/tools/metrics_libra.py:13: RuntimeWarning: divide by zero encountered in double_scalars\n",
      "  return y_pred_mae / naive_mae\n",
      "\n",
      "WARNING - (py.warnings._showwarnmsg) - /Users/polina/fds/neural_prophet/neuralprophet/tools/metrics_libra.py:13: RuntimeWarning: divide by zero encountered in double_scalars\n",
      "  return y_pred_mae / naive_mae\n",
      "\n",
      "WARNING - (py.warnings._showwarnmsg) - /Users/polina/fds/neural_prophet/neuralprophet/tools/metrics_libra.py:13: RuntimeWarning: divide by zero encountered in double_scalars\n",
      "  return y_pred_mae / naive_mae\n",
      "\n",
      "WARNING - (py.warnings._showwarnmsg) - /Users/polina/fds/neural_prophet/neuralprophet/tools/metrics_libra.py:13: RuntimeWarning: divide by zero encountered in double_scalars\n",
      "  return y_pred_mae / naive_mae\n",
      "\n",
      "WARNING - (py.warnings._showwarnmsg) - /Users/polina/fds/neural_prophet/neuralprophet/tools/metrics_libra.py:13: RuntimeWarning: divide by zero encountered in double_scalars\n",
      "  return y_pred_mae / naive_mae\n",
      "\n",
      "WARNING - (py.warnings._showwarnmsg) - /Users/polina/fds/neural_prophet/neuralprophet/tools/metrics_libra.py:13: RuntimeWarning: divide by zero encountered in double_scalars\n",
      "  return y_pred_mae / naive_mae\n",
      "\n",
      "WARNING - (py.warnings._showwarnmsg) - /Users/polina/fds/neural_prophet/neuralprophet/tools/metrics_libra.py:13: RuntimeWarning: divide by zero encountered in double_scalars\n",
      "  return y_pred_mae / naive_mae\n",
      "\n",
      "WARNING - (py.warnings._showwarnmsg) - /Users/polina/fds/neural_prophet/neuralprophet/tools/metrics_libra.py:13: RuntimeWarning: divide by zero encountered in double_scalars\n",
      "  return y_pred_mae / naive_mae\n",
      "\n",
      "WARNING - (py.warnings._showwarnmsg) - /Users/polina/fds/neural_prophet/neuralprophet/tools/metrics_libra.py:13: RuntimeWarning: divide by zero encountered in double_scalars\n",
      "  return y_pred_mae / naive_mae\n",
      "\n",
      "WARNING - (py.warnings._showwarnmsg) - /Users/polina/fds/neural_prophet/neuralprophet/tools/metrics_libra.py:13: RuntimeWarning: divide by zero encountered in double_scalars\n",
      "  return y_pred_mae / naive_mae\n",
      "\n",
      "WARNING - (py.warnings._showwarnmsg) - /Users/polina/fds/neural_prophet/neuralprophet/tools/metrics_libra.py:13: RuntimeWarning: divide by zero encountered in double_scalars\n",
      "  return y_pred_mae / naive_mae\n",
      "\n",
      "WARNING - (py.warnings._showwarnmsg) - /Users/polina/fds/neural_prophet/neuralprophet/tools/metrics_libra.py:13: RuntimeWarning: divide by zero encountered in double_scalars\n",
      "  return y_pred_mae / naive_mae\n",
      "\n",
      "WARNING - (py.warnings._showwarnmsg) - /Users/polina/fds/neural_prophet/neuralprophet/tools/metrics_libra.py:13: RuntimeWarning: divide by zero encountered in double_scalars\n",
      "  return y_pred_mae / naive_mae\n",
      "\n",
      "WARNING - (py.warnings._showwarnmsg) - /Users/polina/fds/neural_prophet/neuralprophet/tools/metrics_libra.py:13: RuntimeWarning: divide by zero encountered in double_scalars\n",
      "  return y_pred_mae / naive_mae\n",
      "\n",
      "WARNING - (py.warnings._showwarnmsg) - /Users/polina/fds/neural_prophet/neuralprophet/tools/metrics_libra.py:13: RuntimeWarning: divide by zero encountered in double_scalars\n",
      "  return y_pred_mae / naive_mae\n",
      "\n"
     ]
    },
    {
     "name": "stderr",
     "output_type": "stream",
     "text": [
      "WARNING - (py.warnings._showwarnmsg) - /Users/polina/fds/neural_prophet/neuralprophet/tools/metrics_libra.py:13: RuntimeWarning: divide by zero encountered in double_scalars\n",
      "  return y_pred_mae / naive_mae\n",
      "\n",
      "WARNING - (py.warnings._showwarnmsg) - /Users/polina/fds/neural_prophet/neuralprophet/tools/metrics_libra.py:13: RuntimeWarning: divide by zero encountered in double_scalars\n",
      "  return y_pred_mae / naive_mae\n",
      "\n",
      "WARNING - (py.warnings._showwarnmsg) - /Users/polina/fds/neural_prophet/neuralprophet/tools/metrics_libra.py:13: RuntimeWarning: divide by zero encountered in double_scalars\n",
      "  return y_pred_mae / naive_mae\n",
      "\n",
      "WARNING - (py.warnings._showwarnmsg) - /Users/polina/fds/neural_prophet/neuralprophet/tools/metrics_libra.py:13: RuntimeWarning: divide by zero encountered in double_scalars\n",
      "  return y_pred_mae / naive_mae\n",
      "\n",
      "WARNING - (py.warnings._showwarnmsg) - /Users/polina/fds/neural_prophet/neuralprophet/tools/metrics_libra.py:13: RuntimeWarning: divide by zero encountered in double_scalars\n",
      "  return y_pred_mae / naive_mae\n",
      "\n",
      "WARNING - (py.warnings._showwarnmsg) - /Users/polina/fds/neural_prophet/neuralprophet/tools/metrics_libra.py:13: RuntimeWarning: divide by zero encountered in double_scalars\n",
      "  return y_pred_mae / naive_mae\n",
      "\n",
      "WARNING - (py.warnings._showwarnmsg) - /Users/polina/fds/neural_prophet/neuralprophet/tools/metrics_libra.py:13: RuntimeWarning: divide by zero encountered in double_scalars\n",
      "  return y_pred_mae / naive_mae\n",
      "\n",
      "WARNING - (py.warnings._showwarnmsg) - /Users/polina/fds/neural_prophet/neuralprophet/tools/metrics_libra.py:13: RuntimeWarning: divide by zero encountered in double_scalars\n",
      "  return y_pred_mae / naive_mae\n",
      "\n",
      "WARNING - (py.warnings._showwarnmsg) - /Users/polina/fds/neural_prophet/neuralprophet/tools/metrics_libra.py:13: RuntimeWarning: divide by zero encountered in double_scalars\n",
      "  return y_pred_mae / naive_mae\n",
      "\n",
      "WARNING - (py.warnings._showwarnmsg) - /Users/polina/fds/neural_prophet/neuralprophet/tools/metrics_libra.py:13: RuntimeWarning: divide by zero encountered in double_scalars\n",
      "  return y_pred_mae / naive_mae\n",
      "\n",
      "WARNING - (py.warnings._showwarnmsg) - /Users/polina/fds/neural_prophet/neuralprophet/tools/metrics_libra.py:13: RuntimeWarning: divide by zero encountered in double_scalars\n",
      "  return y_pred_mae / naive_mae\n",
      "\n",
      "WARNING - (py.warnings._showwarnmsg) - /Users/polina/fds/neural_prophet/neuralprophet/tools/metrics_libra.py:13: RuntimeWarning: divide by zero encountered in double_scalars\n",
      "  return y_pred_mae / naive_mae\n",
      "\n",
      "WARNING - (py.warnings._showwarnmsg) - /Users/polina/fds/neural_prophet/neuralprophet/tools/metrics_libra.py:13: RuntimeWarning: divide by zero encountered in double_scalars\n",
      "  return y_pred_mae / naive_mae\n",
      "\n",
      "WARNING - (py.warnings._showwarnmsg) - /Users/polina/fds/neural_prophet/neuralprophet/tools/metrics_libra.py:13: RuntimeWarning: divide by zero encountered in double_scalars\n",
      "  return y_pred_mae / naive_mae\n",
      "\n",
      "WARNING - (py.warnings._showwarnmsg) - /Users/polina/fds/neural_prophet/neuralprophet/tools/metrics_libra.py:13: RuntimeWarning: divide by zero encountered in double_scalars\n",
      "  return y_pred_mae / naive_mae\n",
      "\n",
      "WARNING - (py.warnings._showwarnmsg) - /Users/polina/fds/neural_prophet/neuralprophet/tools/metrics_libra.py:13: RuntimeWarning: divide by zero encountered in double_scalars\n",
      "  return y_pred_mae / naive_mae\n",
      "\n",
      "WARNING - (py.warnings._showwarnmsg) - /Users/polina/fds/neural_prophet/neuralprophet/tools/metrics_libra.py:13: RuntimeWarning: divide by zero encountered in double_scalars\n",
      "  return y_pred_mae / naive_mae\n",
      "\n",
      "WARNING - (py.warnings._showwarnmsg) - /Users/polina/fds/neural_prophet/neuralprophet/tools/metrics_libra.py:13: RuntimeWarning: divide by zero encountered in double_scalars\n",
      "  return y_pred_mae / naive_mae\n",
      "\n",
      "WARNING - (py.warnings._showwarnmsg) - /Users/polina/fds/neural_prophet/neuralprophet/tools/metrics_libra.py:13: RuntimeWarning: divide by zero encountered in double_scalars\n",
      "  return y_pred_mae / naive_mae\n",
      "\n",
      "WARNING - (py.warnings._showwarnmsg) - /Users/polina/fds/neural_prophet/neuralprophet/tools/metrics_libra.py:13: RuntimeWarning: divide by zero encountered in double_scalars\n",
      "  return y_pred_mae / naive_mae\n",
      "\n",
      "WARNING - (py.warnings._showwarnmsg) - /Users/polina/fds/neural_prophet/neuralprophet/tools/metrics_libra.py:13: RuntimeWarning: divide by zero encountered in double_scalars\n",
      "  return y_pred_mae / naive_mae\n",
      "\n",
      "WARNING - (py.warnings._showwarnmsg) - /Users/polina/fds/neural_prophet/neuralprophet/tools/metrics_libra.py:13: RuntimeWarning: divide by zero encountered in double_scalars\n",
      "  return y_pred_mae / naive_mae\n",
      "\n",
      "INFO - (NP.utils.set_auto_seasonalities) - Disabling daily seasonality. Run NeuralProphet with daily_seasonality=True to override this.\n",
      "INFO - (NP.config.set_auto_batch_epoch) - Auto-set batch_size to 64\n",
      "\n",
      "\n",
      "\n",
      "  0%|          | 0/15 [00:00<?, ?it/s]\u001b[A\u001b[A\u001b[AGPU available: False, used: False\n",
      "TPU available: False, using: 0 TPU cores\n",
      "WARNING - (py.warnings._showwarnmsg) - /Users/polina/.conda/envs/neural_prophet/lib/python3.7/site-packages/pytorch_lightning/utilities/distributed.py:68: UserWarning: you defined a validation_step but have no val_dataloader. Skipping validation loop\n",
      "  warnings.warn(*args, **kwargs)\n",
      "\n",
      "\n",
      "  | Name          | Type          | Params\n",
      "------------------------------------------------\n",
      "0 | season_params | ParameterDict | 18    \n",
      "1 | ar_net        | ModuleList    | 365   \n",
      "2 | loss_func     | SmoothL1Loss  | 0     \n",
      "------------------------------------------------\n",
      "396       Trainable params\n",
      "0         Non-trainable params\n",
      "396       Total params\n",
      "0.002     Total estimated model params size (MB)\n"
     ]
    },
    {
     "data": {
      "application/vnd.jupyter.widget-view+json": {
       "model_id": "",
       "version_major": 2,
       "version_minor": 0
      },
      "text/plain": [
       "Validation sanity check: 0it [00:00, ?it/s]"
      ]
     },
     "metadata": {},
     "output_type": "display_data"
    },
    {
     "name": "stderr",
     "output_type": "stream",
     "text": [
      "WARNING - (py.warnings._showwarnmsg) - /Users/polina/.conda/envs/neural_prophet/lib/python3.7/site-packages/pytorch_lightning/utilities/distributed.py:68: UserWarning: The dataloader, train dataloader, does not have many workers which may be a bottleneck. Consider increasing the value of the `num_workers` argument` (try 8 which is the number of cpus on this machine) in the `DataLoader` init to improve performance.\n",
      "  warnings.warn(*args, **kwargs)\n",
      "\n"
     ]
    },
    {
     "data": {
      "application/vnd.jupyter.widget-view+json": {
       "model_id": "d9b3ade4d81a4a84b3348ed63dd8d7ef",
       "version_major": 2,
       "version_minor": 0
      },
      "text/plain": [
       "Training: 0it [00:00, ?it/s]"
      ]
     },
     "metadata": {},
     "output_type": "display_data"
    },
    {
     "name": "stderr",
     "output_type": "stream",
     "text": [
      "WARNING - (py.warnings._showwarnmsg) - /Users/polina/fds/neural_prophet/neuralprophet/tools/metrics_libra.py:13: RuntimeWarning: divide by zero encountered in double_scalars\n",
      "  return y_pred_mae / naive_mae\n",
      "\n",
      "WARNING - (py.warnings._showwarnmsg) - /Users/polina/fds/neural_prophet/neuralprophet/tools/metrics_libra.py:13: RuntimeWarning: divide by zero encountered in double_scalars\n",
      "  return y_pred_mae / naive_mae\n",
      "\n",
      "WARNING - (py.warnings._showwarnmsg) - /Users/polina/fds/neural_prophet/neuralprophet/tools/metrics_libra.py:13: RuntimeWarning: divide by zero encountered in double_scalars\n",
      "  return y_pred_mae / naive_mae\n",
      "\n",
      "WARNING - (py.warnings._showwarnmsg) - /Users/polina/fds/neural_prophet/neuralprophet/tools/metrics_libra.py:13: RuntimeWarning: divide by zero encountered in double_scalars\n",
      "  return y_pred_mae / naive_mae\n",
      "\n",
      "WARNING - (py.warnings._showwarnmsg) - /Users/polina/fds/neural_prophet/neuralprophet/tools/metrics_libra.py:13: RuntimeWarning: divide by zero encountered in double_scalars\n",
      "  return y_pred_mae / naive_mae\n",
      "\n",
      "WARNING - (py.warnings._showwarnmsg) - /Users/polina/fds/neural_prophet/neuralprophet/tools/metrics_libra.py:13: RuntimeWarning: divide by zero encountered in double_scalars\n",
      "  return y_pred_mae / naive_mae\n",
      "\n",
      "WARNING - (py.warnings._showwarnmsg) - /Users/polina/fds/neural_prophet/neuralprophet/tools/metrics_libra.py:13: RuntimeWarning: divide by zero encountered in double_scalars\n",
      "  return y_pred_mae / naive_mae\n",
      "\n",
      "WARNING - (py.warnings._showwarnmsg) - /Users/polina/fds/neural_prophet/neuralprophet/tools/metrics_libra.py:13: RuntimeWarning: divide by zero encountered in double_scalars\n",
      "  return y_pred_mae / naive_mae\n",
      "\n",
      "WARNING - (py.warnings._showwarnmsg) - /Users/polina/fds/neural_prophet/neuralprophet/tools/metrics_libra.py:13: RuntimeWarning: divide by zero encountered in double_scalars\n",
      "  return y_pred_mae / naive_mae\n",
      "\n",
      "WARNING - (py.warnings._showwarnmsg) - /Users/polina/fds/neural_prophet/neuralprophet/tools/metrics_libra.py:13: RuntimeWarning: divide by zero encountered in double_scalars\n",
      "  return y_pred_mae / naive_mae\n",
      "\n",
      "WARNING - (py.warnings._showwarnmsg) - /Users/polina/fds/neural_prophet/neuralprophet/tools/metrics_libra.py:13: RuntimeWarning: divide by zero encountered in double_scalars\n",
      "  return y_pred_mae / naive_mae\n",
      "\n",
      "WARNING - (py.warnings._showwarnmsg) - /Users/polina/fds/neural_prophet/neuralprophet/tools/metrics_libra.py:13: RuntimeWarning: divide by zero encountered in double_scalars\n",
      "  return y_pred_mae / naive_mae\n",
      "\n",
      "WARNING - (py.warnings._showwarnmsg) - /Users/polina/fds/neural_prophet/neuralprophet/tools/metrics_libra.py:13: RuntimeWarning: divide by zero encountered in double_scalars\n",
      "  return y_pred_mae / naive_mae\n",
      "\n",
      "WARNING - (py.warnings._showwarnmsg) - /Users/polina/fds/neural_prophet/neuralprophet/tools/metrics_libra.py:13: RuntimeWarning: divide by zero encountered in double_scalars\n",
      "  return y_pred_mae / naive_mae\n",
      "\n",
      "WARNING - (py.warnings._showwarnmsg) - /Users/polina/fds/neural_prophet/neuralprophet/tools/metrics_libra.py:13: RuntimeWarning: divide by zero encountered in double_scalars\n",
      "  return y_pred_mae / naive_mae\n",
      "\n",
      "WARNING - (py.warnings._showwarnmsg) - /Users/polina/fds/neural_prophet/neuralprophet/tools/metrics_libra.py:13: RuntimeWarning: divide by zero encountered in double_scalars\n",
      "  return y_pred_mae / naive_mae\n",
      "\n",
      "WARNING - (py.warnings._showwarnmsg) - /Users/polina/fds/neural_prophet/neuralprophet/tools/metrics_libra.py:13: RuntimeWarning: divide by zero encountered in double_scalars\n",
      "  return y_pred_mae / naive_mae\n",
      "\n",
      "WARNING - (py.warnings._showwarnmsg) - /Users/polina/fds/neural_prophet/neuralprophet/tools/metrics_libra.py:13: RuntimeWarning: divide by zero encountered in double_scalars\n",
      "  return y_pred_mae / naive_mae\n",
      "\n",
      "WARNING - (py.warnings._showwarnmsg) - /Users/polina/fds/neural_prophet/neuralprophet/tools/metrics_libra.py:13: RuntimeWarning: divide by zero encountered in double_scalars\n",
      "  return y_pred_mae / naive_mae\n",
      "\n",
      "WARNING - (py.warnings._showwarnmsg) - /Users/polina/fds/neural_prophet/neuralprophet/tools/metrics_libra.py:13: RuntimeWarning: divide by zero encountered in double_scalars\n",
      "  return y_pred_mae / naive_mae\n",
      "\n",
      "WARNING - (py.warnings._showwarnmsg) - /Users/polina/fds/neural_prophet/neuralprophet/tools/metrics_libra.py:13: RuntimeWarning: divide by zero encountered in double_scalars\n",
      "  return y_pred_mae / naive_mae\n",
      "\n",
      "WARNING - (py.warnings._showwarnmsg) - /Users/polina/fds/neural_prophet/neuralprophet/tools/metrics_libra.py:13: RuntimeWarning: divide by zero encountered in double_scalars\n",
      "  return y_pred_mae / naive_mae\n",
      "\n",
      "WARNING - (py.warnings._showwarnmsg) - /Users/polina/fds/neural_prophet/neuralprophet/tools/metrics_libra.py:13: RuntimeWarning: divide by zero encountered in double_scalars\n",
      "  return y_pred_mae / naive_mae\n",
      "\n",
      "WARNING - (py.warnings._showwarnmsg) - /Users/polina/fds/neural_prophet/neuralprophet/tools/metrics_libra.py:13: RuntimeWarning: divide by zero encountered in double_scalars\n",
      "  return y_pred_mae / naive_mae\n",
      "\n",
      "WARNING - (py.warnings._showwarnmsg) - /Users/polina/fds/neural_prophet/neuralprophet/tools/metrics_libra.py:13: RuntimeWarning: divide by zero encountered in double_scalars\n",
      "  return y_pred_mae / naive_mae\n",
      "\n",
      "WARNING - (py.warnings._showwarnmsg) - /Users/polina/fds/neural_prophet/neuralprophet/tools/metrics_libra.py:13: RuntimeWarning: divide by zero encountered in double_scalars\n",
      "  return y_pred_mae / naive_mae\n",
      "\n",
      "WARNING - (py.warnings._showwarnmsg) - /Users/polina/fds/neural_prophet/neuralprophet/tools/metrics_libra.py:13: RuntimeWarning: divide by zero encountered in double_scalars\n",
      "  return y_pred_mae / naive_mae\n",
      "\n",
      "WARNING - (py.warnings._showwarnmsg) - /Users/polina/fds/neural_prophet/neuralprophet/tools/metrics_libra.py:13: RuntimeWarning: divide by zero encountered in double_scalars\n",
      "  return y_pred_mae / naive_mae\n",
      "\n",
      "WARNING - (py.warnings._showwarnmsg) - /Users/polina/fds/neural_prophet/neuralprophet/tools/metrics_libra.py:13: RuntimeWarning: divide by zero encountered in double_scalars\n",
      "  return y_pred_mae / naive_mae\n",
      "\n",
      "WARNING - (py.warnings._showwarnmsg) - /Users/polina/fds/neural_prophet/neuralprophet/tools/metrics_libra.py:13: RuntimeWarning: divide by zero encountered in double_scalars\n",
      "  return y_pred_mae / naive_mae\n",
      "\n",
      "WARNING - (py.warnings._showwarnmsg) - /Users/polina/fds/neural_prophet/neuralprophet/tools/metrics_libra.py:13: RuntimeWarning: divide by zero encountered in double_scalars\n",
      "  return y_pred_mae / naive_mae\n",
      "\n",
      "WARNING - (py.warnings._showwarnmsg) - /Users/polina/fds/neural_prophet/neuralprophet/tools/metrics_libra.py:13: RuntimeWarning: divide by zero encountered in double_scalars\n",
      "  return y_pred_mae / naive_mae\n",
      "\n",
      "WARNING - (py.warnings._showwarnmsg) - /Users/polina/fds/neural_prophet/neuralprophet/tools/metrics_libra.py:13: RuntimeWarning: divide by zero encountered in double_scalars\n",
      "  return y_pred_mae / naive_mae\n",
      "\n",
      "WARNING - (py.warnings._showwarnmsg) - /Users/polina/fds/neural_prophet/neuralprophet/tools/metrics_libra.py:13: RuntimeWarning: divide by zero encountered in double_scalars\n",
      "  return y_pred_mae / naive_mae\n",
      "\n",
      "WARNING - (py.warnings._showwarnmsg) - /Users/polina/fds/neural_prophet/neuralprophet/tools/metrics_libra.py:13: RuntimeWarning: divide by zero encountered in double_scalars\n",
      "  return y_pred_mae / naive_mae\n",
      "\n",
      "WARNING - (py.warnings._showwarnmsg) - /Users/polina/fds/neural_prophet/neuralprophet/tools/metrics_libra.py:13: RuntimeWarning: divide by zero encountered in double_scalars\n",
      "  return y_pred_mae / naive_mae\n",
      "\n",
      "WARNING - (py.warnings._showwarnmsg) - /Users/polina/fds/neural_prophet/neuralprophet/tools/metrics_libra.py:13: RuntimeWarning: divide by zero encountered in double_scalars\n",
      "  return y_pred_mae / naive_mae\n",
      "\n",
      "WARNING - (py.warnings._showwarnmsg) - /Users/polina/fds/neural_prophet/neuralprophet/tools/metrics_libra.py:13: RuntimeWarning: divide by zero encountered in double_scalars\n",
      "  return y_pred_mae / naive_mae\n",
      "\n",
      "WARNING - (py.warnings._showwarnmsg) - /Users/polina/fds/neural_prophet/neuralprophet/tools/metrics_libra.py:13: RuntimeWarning: divide by zero encountered in double_scalars\n",
      "  return y_pred_mae / naive_mae\n",
      "\n",
      "WARNING - (py.warnings._showwarnmsg) - /Users/polina/fds/neural_prophet/neuralprophet/tools/metrics_libra.py:13: RuntimeWarning: divide by zero encountered in double_scalars\n",
      "  return y_pred_mae / naive_mae\n",
      "\n"
     ]
    },
    {
     "name": "stderr",
     "output_type": "stream",
     "text": [
      "WARNING - (py.warnings._showwarnmsg) - /Users/polina/fds/neural_prophet/neuralprophet/tools/metrics_libra.py:13: RuntimeWarning: divide by zero encountered in double_scalars\n",
      "  return y_pred_mae / naive_mae\n",
      "\n",
      "WARNING - (py.warnings._showwarnmsg) - /Users/polina/fds/neural_prophet/neuralprophet/tools/metrics_libra.py:13: RuntimeWarning: divide by zero encountered in double_scalars\n",
      "  return y_pred_mae / naive_mae\n",
      "\n",
      "WARNING - (py.warnings._showwarnmsg) - /Users/polina/fds/neural_prophet/neuralprophet/tools/metrics_libra.py:13: RuntimeWarning: divide by zero encountered in double_scalars\n",
      "  return y_pred_mae / naive_mae\n",
      "\n",
      "WARNING - (py.warnings._showwarnmsg) - /Users/polina/fds/neural_prophet/neuralprophet/tools/metrics_libra.py:13: RuntimeWarning: divide by zero encountered in double_scalars\n",
      "  return y_pred_mae / naive_mae\n",
      "\n",
      "WARNING - (py.warnings._showwarnmsg) - /Users/polina/fds/neural_prophet/neuralprophet/tools/metrics_libra.py:13: RuntimeWarning: divide by zero encountered in double_scalars\n",
      "  return y_pred_mae / naive_mae\n",
      "\n",
      "WARNING - (py.warnings._showwarnmsg) - /Users/polina/fds/neural_prophet/neuralprophet/tools/metrics_libra.py:13: RuntimeWarning: divide by zero encountered in double_scalars\n",
      "  return y_pred_mae / naive_mae\n",
      "\n",
      "WARNING - (py.warnings._showwarnmsg) - /Users/polina/fds/neural_prophet/neuralprophet/tools/metrics_libra.py:13: RuntimeWarning: divide by zero encountered in double_scalars\n",
      "  return y_pred_mae / naive_mae\n",
      "\n",
      "WARNING - (py.warnings._showwarnmsg) - /Users/polina/fds/neural_prophet/neuralprophet/tools/metrics_libra.py:13: RuntimeWarning: divide by zero encountered in double_scalars\n",
      "  return y_pred_mae / naive_mae\n",
      "\n",
      "WARNING - (py.warnings._showwarnmsg) - /Users/polina/fds/neural_prophet/neuralprophet/tools/metrics_libra.py:13: RuntimeWarning: divide by zero encountered in double_scalars\n",
      "  return y_pred_mae / naive_mae\n",
      "\n",
      "WARNING - (py.warnings._showwarnmsg) - /Users/polina/fds/neural_prophet/neuralprophet/tools/metrics_libra.py:13: RuntimeWarning: divide by zero encountered in double_scalars\n",
      "  return y_pred_mae / naive_mae\n",
      "\n",
      "WARNING - (py.warnings._showwarnmsg) - /Users/polina/fds/neural_prophet/neuralprophet/tools/metrics_libra.py:13: RuntimeWarning: divide by zero encountered in double_scalars\n",
      "  return y_pred_mae / naive_mae\n",
      "\n",
      "WARNING - (py.warnings._showwarnmsg) - /Users/polina/fds/neural_prophet/neuralprophet/tools/metrics_libra.py:13: RuntimeWarning: divide by zero encountered in double_scalars\n",
      "  return y_pred_mae / naive_mae\n",
      "\n",
      "WARNING - (py.warnings._showwarnmsg) - /Users/polina/fds/neural_prophet/neuralprophet/tools/metrics_libra.py:13: RuntimeWarning: divide by zero encountered in double_scalars\n",
      "  return y_pred_mae / naive_mae\n",
      "\n",
      "WARNING - (py.warnings._showwarnmsg) - /Users/polina/fds/neural_prophet/neuralprophet/tools/metrics_libra.py:13: RuntimeWarning: divide by zero encountered in double_scalars\n",
      "  return y_pred_mae / naive_mae\n",
      "\n",
      "WARNING - (py.warnings._showwarnmsg) - /Users/polina/fds/neural_prophet/neuralprophet/tools/metrics_libra.py:13: RuntimeWarning: divide by zero encountered in double_scalars\n",
      "  return y_pred_mae / naive_mae\n",
      "\n",
      "WARNING - (py.warnings._showwarnmsg) - /Users/polina/fds/neural_prophet/neuralprophet/tools/metrics_libra.py:13: RuntimeWarning: divide by zero encountered in double_scalars\n",
      "  return y_pred_mae / naive_mae\n",
      "\n",
      "WARNING - (py.warnings._showwarnmsg) - /Users/polina/fds/neural_prophet/neuralprophet/tools/metrics_libra.py:13: RuntimeWarning: divide by zero encountered in double_scalars\n",
      "  return y_pred_mae / naive_mae\n",
      "\n",
      "WARNING - (py.warnings._showwarnmsg) - /Users/polina/fds/neural_prophet/neuralprophet/tools/metrics_libra.py:13: RuntimeWarning: divide by zero encountered in double_scalars\n",
      "  return y_pred_mae / naive_mae\n",
      "\n",
      "WARNING - (py.warnings._showwarnmsg) - /Users/polina/fds/neural_prophet/neuralprophet/tools/metrics_libra.py:13: RuntimeWarning: divide by zero encountered in double_scalars\n",
      "  return y_pred_mae / naive_mae\n",
      "\n",
      "WARNING - (py.warnings._showwarnmsg) - /Users/polina/fds/neural_prophet/neuralprophet/tools/metrics_libra.py:13: RuntimeWarning: divide by zero encountered in double_scalars\n",
      "  return y_pred_mae / naive_mae\n",
      "\n",
      "WARNING - (py.warnings._showwarnmsg) - /Users/polina/fds/neural_prophet/neuralprophet/tools/metrics_libra.py:13: RuntimeWarning: divide by zero encountered in double_scalars\n",
      "  return y_pred_mae / naive_mae\n",
      "\n",
      "WARNING - (py.warnings._showwarnmsg) - /Users/polina/fds/neural_prophet/neuralprophet/tools/metrics_libra.py:13: RuntimeWarning: divide by zero encountered in double_scalars\n",
      "  return y_pred_mae / naive_mae\n",
      "\n",
      "WARNING - (py.warnings._showwarnmsg) - /Users/polina/fds/neural_prophet/neuralprophet/tools/metrics_libra.py:13: RuntimeWarning: divide by zero encountered in double_scalars\n",
      "  return y_pred_mae / naive_mae\n",
      "\n",
      "WARNING - (py.warnings._showwarnmsg) - /Users/polina/fds/neural_prophet/neuralprophet/tools/metrics_libra.py:13: RuntimeWarning: divide by zero encountered in double_scalars\n",
      "  return y_pred_mae / naive_mae\n",
      "\n",
      "WARNING - (py.warnings._showwarnmsg) - /Users/polina/fds/neural_prophet/neuralprophet/tools/metrics_libra.py:13: RuntimeWarning: divide by zero encountered in double_scalars\n",
      "  return y_pred_mae / naive_mae\n",
      "\n",
      "WARNING - (py.warnings._showwarnmsg) - /Users/polina/fds/neural_prophet/neuralprophet/tools/metrics_libra.py:13: RuntimeWarning: divide by zero encountered in double_scalars\n",
      "  return y_pred_mae / naive_mae\n",
      "\n",
      "WARNING - (py.warnings._showwarnmsg) - /Users/polina/fds/neural_prophet/neuralprophet/tools/metrics_libra.py:13: RuntimeWarning: divide by zero encountered in double_scalars\n",
      "  return y_pred_mae / naive_mae\n",
      "\n",
      "WARNING - (py.warnings._showwarnmsg) - /Users/polina/fds/neural_prophet/neuralprophet/tools/metrics_libra.py:13: RuntimeWarning: divide by zero encountered in double_scalars\n",
      "  return y_pred_mae / naive_mae\n",
      "\n",
      "WARNING - (py.warnings._showwarnmsg) - /Users/polina/fds/neural_prophet/neuralprophet/tools/metrics_libra.py:13: RuntimeWarning: divide by zero encountered in double_scalars\n",
      "  return y_pred_mae / naive_mae\n",
      "\n",
      "WARNING - (py.warnings._showwarnmsg) - /Users/polina/fds/neural_prophet/neuralprophet/tools/metrics_libra.py:13: RuntimeWarning: divide by zero encountered in double_scalars\n",
      "  return y_pred_mae / naive_mae\n",
      "\n",
      "WARNING - (py.warnings._showwarnmsg) - /Users/polina/fds/neural_prophet/neuralprophet/tools/metrics_libra.py:13: RuntimeWarning: divide by zero encountered in double_scalars\n",
      "  return y_pred_mae / naive_mae\n",
      "\n",
      "WARNING - (py.warnings._showwarnmsg) - /Users/polina/fds/neural_prophet/neuralprophet/tools/metrics_libra.py:13: RuntimeWarning: divide by zero encountered in double_scalars\n",
      "  return y_pred_mae / naive_mae\n",
      "\n",
      "WARNING - (py.warnings._showwarnmsg) - /Users/polina/fds/neural_prophet/neuralprophet/tools/metrics_libra.py:13: RuntimeWarning: divide by zero encountered in double_scalars\n",
      "  return y_pred_mae / naive_mae\n",
      "\n",
      "WARNING - (py.warnings._showwarnmsg) - /Users/polina/fds/neural_prophet/neuralprophet/tools/metrics_libra.py:13: RuntimeWarning: divide by zero encountered in double_scalars\n",
      "  return y_pred_mae / naive_mae\n",
      "\n",
      "WARNING - (py.warnings._showwarnmsg) - /Users/polina/fds/neural_prophet/neuralprophet/tools/metrics_libra.py:13: RuntimeWarning: divide by zero encountered in double_scalars\n",
      "  return y_pred_mae / naive_mae\n",
      "\n",
      "WARNING - (py.warnings._showwarnmsg) - /Users/polina/fds/neural_prophet/neuralprophet/tools/metrics_libra.py:13: RuntimeWarning: divide by zero encountered in double_scalars\n",
      "  return y_pred_mae / naive_mae\n",
      "\n",
      "WARNING - (py.warnings._showwarnmsg) - /Users/polina/fds/neural_prophet/neuralprophet/tools/metrics_libra.py:13: RuntimeWarning: divide by zero encountered in double_scalars\n",
      "  return y_pred_mae / naive_mae\n",
      "\n",
      "WARNING - (py.warnings._showwarnmsg) - /Users/polina/fds/neural_prophet/neuralprophet/tools/metrics_libra.py:13: RuntimeWarning: divide by zero encountered in double_scalars\n",
      "  return y_pred_mae / naive_mae\n",
      "\n",
      "WARNING - (py.warnings._showwarnmsg) - /Users/polina/fds/neural_prophet/neuralprophet/tools/metrics_libra.py:13: RuntimeWarning: divide by zero encountered in double_scalars\n",
      "  return y_pred_mae / naive_mae\n",
      "\n",
      "WARNING - (py.warnings._showwarnmsg) - /Users/polina/fds/neural_prophet/neuralprophet/tools/metrics_libra.py:13: RuntimeWarning: divide by zero encountered in double_scalars\n",
      "  return y_pred_mae / naive_mae\n",
      "\n"
     ]
    },
    {
     "name": "stderr",
     "output_type": "stream",
     "text": [
      "WARNING - (py.warnings._showwarnmsg) - /Users/polina/fds/neural_prophet/neuralprophet/tools/metrics_libra.py:13: RuntimeWarning: divide by zero encountered in double_scalars\n",
      "  return y_pred_mae / naive_mae\n",
      "\n",
      "WARNING - (py.warnings._showwarnmsg) - /Users/polina/fds/neural_prophet/neuralprophet/tools/metrics_libra.py:13: RuntimeWarning: divide by zero encountered in double_scalars\n",
      "  return y_pred_mae / naive_mae\n",
      "\n",
      "WARNING - (py.warnings._showwarnmsg) - /Users/polina/fds/neural_prophet/neuralprophet/tools/metrics_libra.py:13: RuntimeWarning: divide by zero encountered in double_scalars\n",
      "  return y_pred_mae / naive_mae\n",
      "\n",
      "WARNING - (py.warnings._showwarnmsg) - /Users/polina/fds/neural_prophet/neuralprophet/tools/metrics_libra.py:13: RuntimeWarning: divide by zero encountered in double_scalars\n",
      "  return y_pred_mae / naive_mae\n",
      "\n",
      "WARNING - (py.warnings._showwarnmsg) - /Users/polina/fds/neural_prophet/neuralprophet/tools/metrics_libra.py:13: RuntimeWarning: divide by zero encountered in double_scalars\n",
      "  return y_pred_mae / naive_mae\n",
      "\n",
      "WARNING - (py.warnings._showwarnmsg) - /Users/polina/fds/neural_prophet/neuralprophet/tools/metrics_libra.py:13: RuntimeWarning: divide by zero encountered in double_scalars\n",
      "  return y_pred_mae / naive_mae\n",
      "\n",
      "WARNING - (py.warnings._showwarnmsg) - /Users/polina/fds/neural_prophet/neuralprophet/tools/metrics_libra.py:13: RuntimeWarning: divide by zero encountered in double_scalars\n",
      "  return y_pred_mae / naive_mae\n",
      "\n",
      "WARNING - (py.warnings._showwarnmsg) - /Users/polina/fds/neural_prophet/neuralprophet/tools/metrics_libra.py:13: RuntimeWarning: divide by zero encountered in double_scalars\n",
      "  return y_pred_mae / naive_mae\n",
      "\n",
      "WARNING - (py.warnings._showwarnmsg) - /Users/polina/fds/neural_prophet/neuralprophet/tools/metrics_libra.py:13: RuntimeWarning: divide by zero encountered in double_scalars\n",
      "  return y_pred_mae / naive_mae\n",
      "\n",
      "WARNING - (py.warnings._showwarnmsg) - /Users/polina/fds/neural_prophet/neuralprophet/tools/metrics_libra.py:13: RuntimeWarning: divide by zero encountered in double_scalars\n",
      "  return y_pred_mae / naive_mae\n",
      "\n",
      "WARNING - (py.warnings._showwarnmsg) - /Users/polina/fds/neural_prophet/neuralprophet/tools/metrics_libra.py:13: RuntimeWarning: divide by zero encountered in double_scalars\n",
      "  return y_pred_mae / naive_mae\n",
      "\n",
      "WARNING - (py.warnings._showwarnmsg) - /Users/polina/fds/neural_prophet/neuralprophet/tools/metrics_libra.py:13: RuntimeWarning: divide by zero encountered in double_scalars\n",
      "  return y_pred_mae / naive_mae\n",
      "\n",
      "WARNING - (py.warnings._showwarnmsg) - /Users/polina/fds/neural_prophet/neuralprophet/tools/metrics_libra.py:13: RuntimeWarning: divide by zero encountered in double_scalars\n",
      "  return y_pred_mae / naive_mae\n",
      "\n",
      "WARNING - (py.warnings._showwarnmsg) - /Users/polina/fds/neural_prophet/neuralprophet/tools/metrics_libra.py:13: RuntimeWarning: divide by zero encountered in double_scalars\n",
      "  return y_pred_mae / naive_mae\n",
      "\n",
      "WARNING - (py.warnings._showwarnmsg) - /Users/polina/fds/neural_prophet/neuralprophet/tools/metrics_libra.py:13: RuntimeWarning: divide by zero encountered in double_scalars\n",
      "  return y_pred_mae / naive_mae\n",
      "\n",
      "WARNING - (py.warnings._showwarnmsg) - /Users/polina/fds/neural_prophet/neuralprophet/tools/metrics_libra.py:13: RuntimeWarning: divide by zero encountered in double_scalars\n",
      "  return y_pred_mae / naive_mae\n",
      "\n",
      "WARNING - (py.warnings._showwarnmsg) - /Users/polina/fds/neural_prophet/neuralprophet/tools/metrics_libra.py:13: RuntimeWarning: divide by zero encountered in double_scalars\n",
      "  return y_pred_mae / naive_mae\n",
      "\n",
      "WARNING - (py.warnings._showwarnmsg) - /Users/polina/fds/neural_prophet/neuralprophet/tools/metrics_libra.py:13: RuntimeWarning: divide by zero encountered in double_scalars\n",
      "  return y_pred_mae / naive_mae\n",
      "\n",
      "WARNING - (py.warnings._showwarnmsg) - /Users/polina/fds/neural_prophet/neuralprophet/tools/metrics_libra.py:13: RuntimeWarning: divide by zero encountered in double_scalars\n",
      "  return y_pred_mae / naive_mae\n",
      "\n",
      "WARNING - (py.warnings._showwarnmsg) - /Users/polina/fds/neural_prophet/neuralprophet/tools/metrics_libra.py:13: RuntimeWarning: divide by zero encountered in double_scalars\n",
      "  return y_pred_mae / naive_mae\n",
      "\n",
      "WARNING - (py.warnings._showwarnmsg) - /Users/polina/fds/neural_prophet/neuralprophet/tools/metrics_libra.py:13: RuntimeWarning: divide by zero encountered in double_scalars\n",
      "  return y_pred_mae / naive_mae\n",
      "\n",
      "WARNING - (py.warnings._showwarnmsg) - /Users/polina/fds/neural_prophet/neuralprophet/tools/metrics_libra.py:13: RuntimeWarning: divide by zero encountered in double_scalars\n",
      "  return y_pred_mae / naive_mae\n",
      "\n",
      "WARNING - (py.warnings._showwarnmsg) - /Users/polina/fds/neural_prophet/neuralprophet/tools/metrics_libra.py:13: RuntimeWarning: divide by zero encountered in double_scalars\n",
      "  return y_pred_mae / naive_mae\n",
      "\n",
      "WARNING - (py.warnings._showwarnmsg) - /Users/polina/fds/neural_prophet/neuralprophet/tools/metrics_libra.py:13: RuntimeWarning: divide by zero encountered in double_scalars\n",
      "  return y_pred_mae / naive_mae\n",
      "\n",
      "WARNING - (py.warnings._showwarnmsg) - /Users/polina/fds/neural_prophet/neuralprophet/tools/metrics_libra.py:13: RuntimeWarning: divide by zero encountered in double_scalars\n",
      "  return y_pred_mae / naive_mae\n",
      "\n",
      "WARNING - (py.warnings._showwarnmsg) - /Users/polina/fds/neural_prophet/neuralprophet/tools/metrics_libra.py:13: RuntimeWarning: divide by zero encountered in double_scalars\n",
      "  return y_pred_mae / naive_mae\n",
      "\n",
      "WARNING - (py.warnings._showwarnmsg) - /Users/polina/fds/neural_prophet/neuralprophet/tools/metrics_libra.py:13: RuntimeWarning: divide by zero encountered in double_scalars\n",
      "  return y_pred_mae / naive_mae\n",
      "\n",
      "WARNING - (py.warnings._showwarnmsg) - /Users/polina/fds/neural_prophet/neuralprophet/tools/metrics_libra.py:13: RuntimeWarning: divide by zero encountered in double_scalars\n",
      "  return y_pred_mae / naive_mae\n",
      "\n",
      "WARNING - (py.warnings._showwarnmsg) - /Users/polina/fds/neural_prophet/neuralprophet/tools/metrics_libra.py:13: RuntimeWarning: divide by zero encountered in double_scalars\n",
      "  return y_pred_mae / naive_mae\n",
      "\n",
      "WARNING - (py.warnings._showwarnmsg) - /Users/polina/fds/neural_prophet/neuralprophet/tools/metrics_libra.py:13: RuntimeWarning: divide by zero encountered in double_scalars\n",
      "  return y_pred_mae / naive_mae\n",
      "\n",
      "WARNING - (py.warnings._showwarnmsg) - /Users/polina/fds/neural_prophet/neuralprophet/tools/metrics_libra.py:13: RuntimeWarning: divide by zero encountered in double_scalars\n",
      "  return y_pred_mae / naive_mae\n",
      "\n",
      "WARNING - (py.warnings._showwarnmsg) - /Users/polina/fds/neural_prophet/neuralprophet/tools/metrics_libra.py:13: RuntimeWarning: divide by zero encountered in double_scalars\n",
      "  return y_pred_mae / naive_mae\n",
      "\n",
      "WARNING - (py.warnings._showwarnmsg) - /Users/polina/fds/neural_prophet/neuralprophet/tools/metrics_libra.py:13: RuntimeWarning: divide by zero encountered in double_scalars\n",
      "  return y_pred_mae / naive_mae\n",
      "\n",
      "WARNING - (py.warnings._showwarnmsg) - /Users/polina/fds/neural_prophet/neuralprophet/tools/metrics_libra.py:13: RuntimeWarning: divide by zero encountered in double_scalars\n",
      "  return y_pred_mae / naive_mae\n",
      "\n",
      "WARNING - (py.warnings._showwarnmsg) - /Users/polina/fds/neural_prophet/neuralprophet/tools/metrics_libra.py:13: RuntimeWarning: divide by zero encountered in double_scalars\n",
      "  return y_pred_mae / naive_mae\n",
      "\n",
      "WARNING - (py.warnings._showwarnmsg) - /Users/polina/fds/neural_prophet/neuralprophet/tools/metrics_libra.py:13: RuntimeWarning: divide by zero encountered in double_scalars\n",
      "  return y_pred_mae / naive_mae\n",
      "\n",
      "WARNING - (py.warnings._showwarnmsg) - /Users/polina/fds/neural_prophet/neuralprophet/tools/metrics_libra.py:13: RuntimeWarning: divide by zero encountered in double_scalars\n",
      "  return y_pred_mae / naive_mae\n",
      "\n",
      "WARNING - (py.warnings._showwarnmsg) - /Users/polina/fds/neural_prophet/neuralprophet/tools/metrics_libra.py:13: RuntimeWarning: divide by zero encountered in double_scalars\n",
      "  return y_pred_mae / naive_mae\n",
      "\n",
      "WARNING - (py.warnings._showwarnmsg) - /Users/polina/fds/neural_prophet/neuralprophet/tools/metrics_libra.py:13: RuntimeWarning: divide by zero encountered in double_scalars\n",
      "  return y_pred_mae / naive_mae\n",
      "\n",
      "WARNING - (py.warnings._showwarnmsg) - /Users/polina/fds/neural_prophet/neuralprophet/tools/metrics_libra.py:13: RuntimeWarning: divide by zero encountered in double_scalars\n",
      "  return y_pred_mae / naive_mae\n",
      "\n"
     ]
    },
    {
     "name": "stderr",
     "output_type": "stream",
     "text": [
      "WARNING - (py.warnings._showwarnmsg) - /Users/polina/fds/neural_prophet/neuralprophet/tools/metrics_libra.py:13: RuntimeWarning: divide by zero encountered in double_scalars\n",
      "  return y_pred_mae / naive_mae\n",
      "\n",
      "WARNING - (py.warnings._showwarnmsg) - /Users/polina/fds/neural_prophet/neuralprophet/tools/metrics_libra.py:13: RuntimeWarning: divide by zero encountered in double_scalars\n",
      "  return y_pred_mae / naive_mae\n",
      "\n",
      "WARNING - (py.warnings._showwarnmsg) - /Users/polina/fds/neural_prophet/neuralprophet/tools/metrics_libra.py:13: RuntimeWarning: divide by zero encountered in double_scalars\n",
      "  return y_pred_mae / naive_mae\n",
      "\n",
      "WARNING - (py.warnings._showwarnmsg) - /Users/polina/fds/neural_prophet/neuralprophet/tools/metrics_libra.py:13: RuntimeWarning: divide by zero encountered in double_scalars\n",
      "  return y_pred_mae / naive_mae\n",
      "\n",
      "WARNING - (py.warnings._showwarnmsg) - /Users/polina/fds/neural_prophet/neuralprophet/tools/metrics_libra.py:13: RuntimeWarning: divide by zero encountered in double_scalars\n",
      "  return y_pred_mae / naive_mae\n",
      "\n",
      "WARNING - (py.warnings._showwarnmsg) - /Users/polina/fds/neural_prophet/neuralprophet/tools/metrics_libra.py:13: RuntimeWarning: divide by zero encountered in double_scalars\n",
      "  return y_pred_mae / naive_mae\n",
      "\n",
      "WARNING - (py.warnings._showwarnmsg) - /Users/polina/fds/neural_prophet/neuralprophet/tools/metrics_libra.py:13: RuntimeWarning: divide by zero encountered in double_scalars\n",
      "  return y_pred_mae / naive_mae\n",
      "\n",
      "WARNING - (py.warnings._showwarnmsg) - /Users/polina/fds/neural_prophet/neuralprophet/tools/metrics_libra.py:13: RuntimeWarning: divide by zero encountered in double_scalars\n",
      "  return y_pred_mae / naive_mae\n",
      "\n",
      "WARNING - (py.warnings._showwarnmsg) - /Users/polina/fds/neural_prophet/neuralprophet/tools/metrics_libra.py:13: RuntimeWarning: divide by zero encountered in double_scalars\n",
      "  return y_pred_mae / naive_mae\n",
      "\n",
      "WARNING - (py.warnings._showwarnmsg) - /Users/polina/fds/neural_prophet/neuralprophet/tools/metrics_libra.py:13: RuntimeWarning: divide by zero encountered in double_scalars\n",
      "  return y_pred_mae / naive_mae\n",
      "\n",
      "WARNING - (py.warnings._showwarnmsg) - /Users/polina/fds/neural_prophet/neuralprophet/tools/metrics_libra.py:13: RuntimeWarning: divide by zero encountered in double_scalars\n",
      "  return y_pred_mae / naive_mae\n",
      "\n",
      "WARNING - (py.warnings._showwarnmsg) - /Users/polina/fds/neural_prophet/neuralprophet/tools/metrics_libra.py:13: RuntimeWarning: divide by zero encountered in double_scalars\n",
      "  return y_pred_mae / naive_mae\n",
      "\n",
      "WARNING - (py.warnings._showwarnmsg) - /Users/polina/fds/neural_prophet/neuralprophet/tools/metrics_libra.py:13: RuntimeWarning: divide by zero encountered in double_scalars\n",
      "  return y_pred_mae / naive_mae\n",
      "\n",
      "WARNING - (py.warnings._showwarnmsg) - /Users/polina/fds/neural_prophet/neuralprophet/tools/metrics_libra.py:13: RuntimeWarning: divide by zero encountered in double_scalars\n",
      "  return y_pred_mae / naive_mae\n",
      "\n",
      "WARNING - (py.warnings._showwarnmsg) - /Users/polina/fds/neural_prophet/neuralprophet/tools/metrics_libra.py:13: RuntimeWarning: divide by zero encountered in double_scalars\n",
      "  return y_pred_mae / naive_mae\n",
      "\n",
      "WARNING - (py.warnings._showwarnmsg) - /Users/polina/fds/neural_prophet/neuralprophet/tools/metrics_libra.py:13: RuntimeWarning: divide by zero encountered in double_scalars\n",
      "  return y_pred_mae / naive_mae\n",
      "\n",
      "WARNING - (py.warnings._showwarnmsg) - /Users/polina/fds/neural_prophet/neuralprophet/tools/metrics_libra.py:13: RuntimeWarning: divide by zero encountered in double_scalars\n",
      "  return y_pred_mae / naive_mae\n",
      "\n",
      "WARNING - (py.warnings._showwarnmsg) - /Users/polina/fds/neural_prophet/neuralprophet/tools/metrics_libra.py:13: RuntimeWarning: divide by zero encountered in double_scalars\n",
      "  return y_pred_mae / naive_mae\n",
      "\n",
      "WARNING - (py.warnings._showwarnmsg) - /Users/polina/fds/neural_prophet/neuralprophet/tools/metrics_libra.py:13: RuntimeWarning: divide by zero encountered in double_scalars\n",
      "  return y_pred_mae / naive_mae\n",
      "\n",
      "WARNING - (py.warnings._showwarnmsg) - /Users/polina/fds/neural_prophet/neuralprophet/tools/metrics_libra.py:13: RuntimeWarning: divide by zero encountered in double_scalars\n",
      "  return y_pred_mae / naive_mae\n",
      "\n",
      "WARNING - (py.warnings._showwarnmsg) - /Users/polina/fds/neural_prophet/neuralprophet/tools/metrics_libra.py:13: RuntimeWarning: divide by zero encountered in double_scalars\n",
      "  return y_pred_mae / naive_mae\n",
      "\n",
      "WARNING - (py.warnings._showwarnmsg) - /Users/polina/fds/neural_prophet/neuralprophet/tools/metrics_libra.py:13: RuntimeWarning: divide by zero encountered in double_scalars\n",
      "  return y_pred_mae / naive_mae\n",
      "\n",
      "WARNING - (py.warnings._showwarnmsg) - /Users/polina/fds/neural_prophet/neuralprophet/tools/metrics_libra.py:13: RuntimeWarning: divide by zero encountered in double_scalars\n",
      "  return y_pred_mae / naive_mae\n",
      "\n",
      "WARNING - (py.warnings._showwarnmsg) - /Users/polina/fds/neural_prophet/neuralprophet/tools/metrics_libra.py:13: RuntimeWarning: divide by zero encountered in double_scalars\n",
      "  return y_pred_mae / naive_mae\n",
      "\n",
      "WARNING - (py.warnings._showwarnmsg) - /Users/polina/fds/neural_prophet/neuralprophet/tools/metrics_libra.py:13: RuntimeWarning: divide by zero encountered in double_scalars\n",
      "  return y_pred_mae / naive_mae\n",
      "\n",
      "WARNING - (py.warnings._showwarnmsg) - /Users/polina/fds/neural_prophet/neuralprophet/tools/metrics_libra.py:13: RuntimeWarning: divide by zero encountered in double_scalars\n",
      "  return y_pred_mae / naive_mae\n",
      "\n",
      "WARNING - (py.warnings._showwarnmsg) - /Users/polina/fds/neural_prophet/neuralprophet/tools/metrics_libra.py:13: RuntimeWarning: divide by zero encountered in double_scalars\n",
      "  return y_pred_mae / naive_mae\n",
      "\n",
      "WARNING - (py.warnings._showwarnmsg) - /Users/polina/fds/neural_prophet/neuralprophet/tools/metrics_libra.py:13: RuntimeWarning: divide by zero encountered in double_scalars\n",
      "  return y_pred_mae / naive_mae\n",
      "\n",
      "WARNING - (py.warnings._showwarnmsg) - /Users/polina/fds/neural_prophet/neuralprophet/tools/metrics_libra.py:13: RuntimeWarning: divide by zero encountered in double_scalars\n",
      "  return y_pred_mae / naive_mae\n",
      "\n",
      "WARNING - (py.warnings._showwarnmsg) - /Users/polina/fds/neural_prophet/neuralprophet/tools/metrics_libra.py:13: RuntimeWarning: divide by zero encountered in double_scalars\n",
      "  return y_pred_mae / naive_mae\n",
      "\n",
      "WARNING - (py.warnings._showwarnmsg) - /Users/polina/fds/neural_prophet/neuralprophet/tools/metrics_libra.py:13: RuntimeWarning: divide by zero encountered in double_scalars\n",
      "  return y_pred_mae / naive_mae\n",
      "\n",
      "WARNING - (py.warnings._showwarnmsg) - /Users/polina/fds/neural_prophet/neuralprophet/tools/metrics_libra.py:13: RuntimeWarning: divide by zero encountered in double_scalars\n",
      "  return y_pred_mae / naive_mae\n",
      "\n",
      "WARNING - (py.warnings._showwarnmsg) - /Users/polina/fds/neural_prophet/neuralprophet/tools/metrics_libra.py:13: RuntimeWarning: divide by zero encountered in double_scalars\n",
      "  return y_pred_mae / naive_mae\n",
      "\n",
      "WARNING - (py.warnings._showwarnmsg) - /Users/polina/fds/neural_prophet/neuralprophet/tools/metrics_libra.py:13: RuntimeWarning: divide by zero encountered in double_scalars\n",
      "  return y_pred_mae / naive_mae\n",
      "\n",
      "WARNING - (py.warnings._showwarnmsg) - /Users/polina/fds/neural_prophet/neuralprophet/tools/metrics_libra.py:13: RuntimeWarning: divide by zero encountered in double_scalars\n",
      "  return y_pred_mae / naive_mae\n",
      "\n",
      "WARNING - (py.warnings._showwarnmsg) - /Users/polina/fds/neural_prophet/neuralprophet/tools/metrics_libra.py:13: RuntimeWarning: divide by zero encountered in double_scalars\n",
      "  return y_pred_mae / naive_mae\n",
      "\n",
      "WARNING - (py.warnings._showwarnmsg) - /Users/polina/fds/neural_prophet/neuralprophet/tools/metrics_libra.py:13: RuntimeWarning: divide by zero encountered in double_scalars\n",
      "  return y_pred_mae / naive_mae\n",
      "\n",
      "WARNING - (py.warnings._showwarnmsg) - /Users/polina/fds/neural_prophet/neuralprophet/tools/metrics_libra.py:13: RuntimeWarning: divide by zero encountered in double_scalars\n",
      "  return y_pred_mae / naive_mae\n",
      "\n",
      "WARNING - (py.warnings._showwarnmsg) - /Users/polina/fds/neural_prophet/neuralprophet/tools/metrics_libra.py:13: RuntimeWarning: divide by zero encountered in double_scalars\n",
      "  return y_pred_mae / naive_mae\n",
      "\n",
      "WARNING - (py.warnings._showwarnmsg) - /Users/polina/fds/neural_prophet/neuralprophet/tools/metrics_libra.py:13: RuntimeWarning: divide by zero encountered in double_scalars\n",
      "  return y_pred_mae / naive_mae\n",
      "\n"
     ]
    },
    {
     "name": "stderr",
     "output_type": "stream",
     "text": [
      "WARNING - (py.warnings._showwarnmsg) - /Users/polina/fds/neural_prophet/neuralprophet/tools/metrics_libra.py:13: RuntimeWarning: divide by zero encountered in double_scalars\n",
      "  return y_pred_mae / naive_mae\n",
      "\n",
      "WARNING - (py.warnings._showwarnmsg) - /Users/polina/fds/neural_prophet/neuralprophet/tools/metrics_libra.py:13: RuntimeWarning: divide by zero encountered in double_scalars\n",
      "  return y_pred_mae / naive_mae\n",
      "\n",
      "WARNING - (py.warnings._showwarnmsg) - /Users/polina/fds/neural_prophet/neuralprophet/tools/metrics_libra.py:13: RuntimeWarning: divide by zero encountered in double_scalars\n",
      "  return y_pred_mae / naive_mae\n",
      "\n",
      "WARNING - (py.warnings._showwarnmsg) - /Users/polina/fds/neural_prophet/neuralprophet/tools/metrics_libra.py:13: RuntimeWarning: divide by zero encountered in double_scalars\n",
      "  return y_pred_mae / naive_mae\n",
      "\n",
      "WARNING - (py.warnings._showwarnmsg) - /Users/polina/fds/neural_prophet/neuralprophet/tools/metrics_libra.py:13: RuntimeWarning: divide by zero encountered in double_scalars\n",
      "  return y_pred_mae / naive_mae\n",
      "\n",
      "WARNING - (py.warnings._showwarnmsg) - /Users/polina/fds/neural_prophet/neuralprophet/tools/metrics_libra.py:13: RuntimeWarning: divide by zero encountered in double_scalars\n",
      "  return y_pred_mae / naive_mae\n",
      "\n",
      "WARNING - (py.warnings._showwarnmsg) - /Users/polina/fds/neural_prophet/neuralprophet/tools/metrics_libra.py:13: RuntimeWarning: divide by zero encountered in double_scalars\n",
      "  return y_pred_mae / naive_mae\n",
      "\n",
      "WARNING - (py.warnings._showwarnmsg) - /Users/polina/fds/neural_prophet/neuralprophet/tools/metrics_libra.py:13: RuntimeWarning: divide by zero encountered in double_scalars\n",
      "  return y_pred_mae / naive_mae\n",
      "\n",
      "WARNING - (py.warnings._showwarnmsg) - /Users/polina/fds/neural_prophet/neuralprophet/tools/metrics_libra.py:13: RuntimeWarning: divide by zero encountered in double_scalars\n",
      "  return y_pred_mae / naive_mae\n",
      "\n",
      "WARNING - (py.warnings._showwarnmsg) - /Users/polina/fds/neural_prophet/neuralprophet/tools/metrics_libra.py:13: RuntimeWarning: divide by zero encountered in double_scalars\n",
      "  return y_pred_mae / naive_mae\n",
      "\n",
      "WARNING - (py.warnings._showwarnmsg) - /Users/polina/fds/neural_prophet/neuralprophet/tools/metrics_libra.py:13: RuntimeWarning: divide by zero encountered in double_scalars\n",
      "  return y_pred_mae / naive_mae\n",
      "\n",
      "WARNING - (py.warnings._showwarnmsg) - /Users/polina/fds/neural_prophet/neuralprophet/tools/metrics_libra.py:13: RuntimeWarning: divide by zero encountered in double_scalars\n",
      "  return y_pred_mae / naive_mae\n",
      "\n",
      "WARNING - (py.warnings._showwarnmsg) - /Users/polina/fds/neural_prophet/neuralprophet/tools/metrics_libra.py:13: RuntimeWarning: divide by zero encountered in double_scalars\n",
      "  return y_pred_mae / naive_mae\n",
      "\n",
      "WARNING - (py.warnings._showwarnmsg) - /Users/polina/fds/neural_prophet/neuralprophet/tools/metrics_libra.py:13: RuntimeWarning: divide by zero encountered in double_scalars\n",
      "  return y_pred_mae / naive_mae\n",
      "\n",
      "WARNING - (py.warnings._showwarnmsg) - /Users/polina/fds/neural_prophet/neuralprophet/tools/metrics_libra.py:13: RuntimeWarning: divide by zero encountered in double_scalars\n",
      "  return y_pred_mae / naive_mae\n",
      "\n",
      "WARNING - (py.warnings._showwarnmsg) - /Users/polina/fds/neural_prophet/neuralprophet/tools/metrics_libra.py:13: RuntimeWarning: divide by zero encountered in double_scalars\n",
      "  return y_pred_mae / naive_mae\n",
      "\n",
      "WARNING - (py.warnings._showwarnmsg) - /Users/polina/fds/neural_prophet/neuralprophet/tools/metrics_libra.py:13: RuntimeWarning: divide by zero encountered in double_scalars\n",
      "  return y_pred_mae / naive_mae\n",
      "\n",
      "WARNING - (py.warnings._showwarnmsg) - /Users/polina/fds/neural_prophet/neuralprophet/tools/metrics_libra.py:13: RuntimeWarning: divide by zero encountered in double_scalars\n",
      "  return y_pred_mae / naive_mae\n",
      "\n",
      "WARNING - (py.warnings._showwarnmsg) - /Users/polina/fds/neural_prophet/neuralprophet/tools/metrics_libra.py:13: RuntimeWarning: divide by zero encountered in double_scalars\n",
      "  return y_pred_mae / naive_mae\n",
      "\n",
      "WARNING - (py.warnings._showwarnmsg) - /Users/polina/fds/neural_prophet/neuralprophet/tools/metrics_libra.py:13: RuntimeWarning: divide by zero encountered in double_scalars\n",
      "  return y_pred_mae / naive_mae\n",
      "\n",
      "WARNING - (py.warnings._showwarnmsg) - /Users/polina/fds/neural_prophet/neuralprophet/tools/metrics_libra.py:13: RuntimeWarning: divide by zero encountered in double_scalars\n",
      "  return y_pred_mae / naive_mae\n",
      "\n",
      "WARNING - (py.warnings._showwarnmsg) - /Users/polina/fds/neural_prophet/neuralprophet/tools/metrics_libra.py:13: RuntimeWarning: divide by zero encountered in double_scalars\n",
      "  return y_pred_mae / naive_mae\n",
      "\n",
      "WARNING - (py.warnings._showwarnmsg) - /Users/polina/fds/neural_prophet/neuralprophet/tools/metrics_libra.py:13: RuntimeWarning: divide by zero encountered in double_scalars\n",
      "  return y_pred_mae / naive_mae\n",
      "\n",
      "WARNING - (py.warnings._showwarnmsg) - /Users/polina/fds/neural_prophet/neuralprophet/tools/metrics_libra.py:13: RuntimeWarning: divide by zero encountered in double_scalars\n",
      "  return y_pred_mae / naive_mae\n",
      "\n",
      "WARNING - (py.warnings._showwarnmsg) - /Users/polina/fds/neural_prophet/neuralprophet/tools/metrics_libra.py:13: RuntimeWarning: divide by zero encountered in double_scalars\n",
      "  return y_pred_mae / naive_mae\n",
      "\n",
      "WARNING - (py.warnings._showwarnmsg) - /Users/polina/fds/neural_prophet/neuralprophet/tools/metrics_libra.py:13: RuntimeWarning: divide by zero encountered in double_scalars\n",
      "  return y_pred_mae / naive_mae\n",
      "\n",
      "WARNING - (py.warnings._showwarnmsg) - /Users/polina/fds/neural_prophet/neuralprophet/tools/metrics_libra.py:13: RuntimeWarning: divide by zero encountered in double_scalars\n",
      "  return y_pred_mae / naive_mae\n",
      "\n",
      "WARNING - (py.warnings._showwarnmsg) - /Users/polina/fds/neural_prophet/neuralprophet/tools/metrics_libra.py:13: RuntimeWarning: divide by zero encountered in double_scalars\n",
      "  return y_pred_mae / naive_mae\n",
      "\n",
      "WARNING - (py.warnings._showwarnmsg) - /Users/polina/fds/neural_prophet/neuralprophet/tools/metrics_libra.py:13: RuntimeWarning: divide by zero encountered in double_scalars\n",
      "  return y_pred_mae / naive_mae\n",
      "\n",
      "WARNING - (py.warnings._showwarnmsg) - /Users/polina/fds/neural_prophet/neuralprophet/tools/metrics_libra.py:13: RuntimeWarning: divide by zero encountered in double_scalars\n",
      "  return y_pred_mae / naive_mae\n",
      "\n",
      "WARNING - (py.warnings._showwarnmsg) - /Users/polina/fds/neural_prophet/neuralprophet/tools/metrics_libra.py:13: RuntimeWarning: divide by zero encountered in double_scalars\n",
      "  return y_pred_mae / naive_mae\n",
      "\n",
      "WARNING - (py.warnings._showwarnmsg) - /Users/polina/fds/neural_prophet/neuralprophet/tools/metrics_libra.py:13: RuntimeWarning: divide by zero encountered in double_scalars\n",
      "  return y_pred_mae / naive_mae\n",
      "\n",
      "WARNING - (py.warnings._showwarnmsg) - /Users/polina/fds/neural_prophet/neuralprophet/tools/metrics_libra.py:13: RuntimeWarning: divide by zero encountered in double_scalars\n",
      "  return y_pred_mae / naive_mae\n",
      "\n",
      "WARNING - (py.warnings._showwarnmsg) - /Users/polina/fds/neural_prophet/neuralprophet/tools/metrics_libra.py:13: RuntimeWarning: divide by zero encountered in double_scalars\n",
      "  return y_pred_mae / naive_mae\n",
      "\n",
      "WARNING - (py.warnings._showwarnmsg) - /Users/polina/fds/neural_prophet/neuralprophet/tools/metrics_libra.py:13: RuntimeWarning: divide by zero encountered in double_scalars\n",
      "  return y_pred_mae / naive_mae\n",
      "\n",
      "WARNING - (py.warnings._showwarnmsg) - /Users/polina/fds/neural_prophet/neuralprophet/tools/metrics_libra.py:13: RuntimeWarning: divide by zero encountered in double_scalars\n",
      "  return y_pred_mae / naive_mae\n",
      "\n",
      "WARNING - (py.warnings._showwarnmsg) - /Users/polina/fds/neural_prophet/neuralprophet/tools/metrics_libra.py:13: RuntimeWarning: divide by zero encountered in double_scalars\n",
      "  return y_pred_mae / naive_mae\n",
      "\n",
      "WARNING - (py.warnings._showwarnmsg) - /Users/polina/fds/neural_prophet/neuralprophet/tools/metrics_libra.py:13: RuntimeWarning: divide by zero encountered in double_scalars\n",
      "  return y_pred_mae / naive_mae\n",
      "\n",
      "WARNING - (py.warnings._showwarnmsg) - /Users/polina/fds/neural_prophet/neuralprophet/tools/metrics_libra.py:13: RuntimeWarning: divide by zero encountered in double_scalars\n",
      "  return y_pred_mae / naive_mae\n",
      "\n",
      "WARNING - (py.warnings._showwarnmsg) - /Users/polina/fds/neural_prophet/neuralprophet/tools/metrics_libra.py:13: RuntimeWarning: divide by zero encountered in double_scalars\n",
      "  return y_pred_mae / naive_mae\n",
      "\n"
     ]
    },
    {
     "name": "stderr",
     "output_type": "stream",
     "text": [
      "WARNING - (py.warnings._showwarnmsg) - /Users/polina/fds/neural_prophet/neuralprophet/tools/metrics_libra.py:13: RuntimeWarning: divide by zero encountered in double_scalars\n",
      "  return y_pred_mae / naive_mae\n",
      "\n",
      "WARNING - (py.warnings._showwarnmsg) - /Users/polina/fds/neural_prophet/neuralprophet/tools/metrics_libra.py:13: RuntimeWarning: divide by zero encountered in double_scalars\n",
      "  return y_pred_mae / naive_mae\n",
      "\n",
      "WARNING - (py.warnings._showwarnmsg) - /Users/polina/fds/neural_prophet/neuralprophet/tools/metrics_libra.py:13: RuntimeWarning: divide by zero encountered in double_scalars\n",
      "  return y_pred_mae / naive_mae\n",
      "\n",
      "WARNING - (py.warnings._showwarnmsg) - /Users/polina/fds/neural_prophet/neuralprophet/tools/metrics_libra.py:13: RuntimeWarning: divide by zero encountered in double_scalars\n",
      "  return y_pred_mae / naive_mae\n",
      "\n",
      "WARNING - (py.warnings._showwarnmsg) - /Users/polina/fds/neural_prophet/neuralprophet/tools/metrics_libra.py:13: RuntimeWarning: divide by zero encountered in double_scalars\n",
      "  return y_pred_mae / naive_mae\n",
      "\n",
      "WARNING - (py.warnings._showwarnmsg) - /Users/polina/fds/neural_prophet/neuralprophet/tools/metrics_libra.py:13: RuntimeWarning: divide by zero encountered in double_scalars\n",
      "  return y_pred_mae / naive_mae\n",
      "\n",
      "WARNING - (py.warnings._showwarnmsg) - /Users/polina/fds/neural_prophet/neuralprophet/tools/metrics_libra.py:13: RuntimeWarning: divide by zero encountered in double_scalars\n",
      "  return y_pred_mae / naive_mae\n",
      "\n",
      "WARNING - (py.warnings._showwarnmsg) - /Users/polina/fds/neural_prophet/neuralprophet/tools/metrics_libra.py:13: RuntimeWarning: divide by zero encountered in double_scalars\n",
      "  return y_pred_mae / naive_mae\n",
      "\n",
      "WARNING - (py.warnings._showwarnmsg) - /Users/polina/fds/neural_prophet/neuralprophet/tools/metrics_libra.py:13: RuntimeWarning: divide by zero encountered in double_scalars\n",
      "  return y_pred_mae / naive_mae\n",
      "\n",
      "WARNING - (py.warnings._showwarnmsg) - /Users/polina/fds/neural_prophet/neuralprophet/tools/metrics_libra.py:13: RuntimeWarning: divide by zero encountered in double_scalars\n",
      "  return y_pred_mae / naive_mae\n",
      "\n",
      "WARNING - (py.warnings._showwarnmsg) - /Users/polina/fds/neural_prophet/neuralprophet/tools/metrics_libra.py:13: RuntimeWarning: divide by zero encountered in double_scalars\n",
      "  return y_pred_mae / naive_mae\n",
      "\n",
      "WARNING - (py.warnings._showwarnmsg) - /Users/polina/fds/neural_prophet/neuralprophet/tools/metrics_libra.py:13: RuntimeWarning: divide by zero encountered in double_scalars\n",
      "  return y_pred_mae / naive_mae\n",
      "\n",
      "WARNING - (py.warnings._showwarnmsg) - /Users/polina/fds/neural_prophet/neuralprophet/tools/metrics_libra.py:13: RuntimeWarning: divide by zero encountered in double_scalars\n",
      "  return y_pred_mae / naive_mae\n",
      "\n",
      "WARNING - (py.warnings._showwarnmsg) - /Users/polina/fds/neural_prophet/neuralprophet/tools/metrics_libra.py:13: RuntimeWarning: divide by zero encountered in double_scalars\n",
      "  return y_pred_mae / naive_mae\n",
      "\n",
      "WARNING - (py.warnings._showwarnmsg) - /Users/polina/fds/neural_prophet/neuralprophet/tools/metrics_libra.py:13: RuntimeWarning: divide by zero encountered in double_scalars\n",
      "  return y_pred_mae / naive_mae\n",
      "\n",
      "WARNING - (py.warnings._showwarnmsg) - /Users/polina/fds/neural_prophet/neuralprophet/tools/metrics_libra.py:13: RuntimeWarning: divide by zero encountered in double_scalars\n",
      "  return y_pred_mae / naive_mae\n",
      "\n",
      "WARNING - (py.warnings._showwarnmsg) - /Users/polina/fds/neural_prophet/neuralprophet/tools/metrics_libra.py:13: RuntimeWarning: divide by zero encountered in double_scalars\n",
      "  return y_pred_mae / naive_mae\n",
      "\n",
      "WARNING - (py.warnings._showwarnmsg) - /Users/polina/fds/neural_prophet/neuralprophet/tools/metrics_libra.py:13: RuntimeWarning: divide by zero encountered in double_scalars\n",
      "  return y_pred_mae / naive_mae\n",
      "\n",
      "WARNING - (py.warnings._showwarnmsg) - /Users/polina/fds/neural_prophet/neuralprophet/tools/metrics_libra.py:13: RuntimeWarning: divide by zero encountered in double_scalars\n",
      "  return y_pred_mae / naive_mae\n",
      "\n",
      "WARNING - (py.warnings._showwarnmsg) - /Users/polina/fds/neural_prophet/neuralprophet/tools/metrics_libra.py:13: RuntimeWarning: divide by zero encountered in double_scalars\n",
      "  return y_pred_mae / naive_mae\n",
      "\n",
      "WARNING - (py.warnings._showwarnmsg) - /Users/polina/fds/neural_prophet/neuralprophet/tools/metrics_libra.py:13: RuntimeWarning: divide by zero encountered in double_scalars\n",
      "  return y_pred_mae / naive_mae\n",
      "\n",
      "WARNING - (py.warnings._showwarnmsg) - /Users/polina/fds/neural_prophet/neuralprophet/tools/metrics_libra.py:13: RuntimeWarning: divide by zero encountered in double_scalars\n",
      "  return y_pred_mae / naive_mae\n",
      "\n",
      "GPU available: False, used: False\n",
      "TPU available: False, using: 0 TPU cores\n",
      "WARNING - (py.warnings._showwarnmsg) - /Users/polina/.conda/envs/neural_prophet/lib/python3.7/site-packages/pytorch_lightning/utilities/distributed.py:68: UserWarning: you defined a validation_step but have no val_dataloader. Skipping validation loop\n",
      "  warnings.warn(*args, **kwargs)\n",
      "\n",
      "\n",
      "  | Name                   | Type                   | Params\n",
      "------------------------------------------------------------------\n",
      "0 | loss                   | NormalDistributionLoss | 0     \n",
      "1 | logging_metrics        | ModuleList             | 0     \n",
      "2 | embeddings             | MultiEmbedding         | 0     \n",
      "3 | rnn                    | LSTM                   | 12.9 K\n",
      "4 | distribution_projector | Linear                 | 66    \n",
      "------------------------------------------------------------------\n",
      "13.0 K    Trainable params\n",
      "0         Non-trainable params\n",
      "13.0 K    Total params\n",
      "0.052     Total estimated model params size (MB)\n"
     ]
    },
    {
     "data": {
      "application/vnd.jupyter.widget-view+json": {
       "model_id": "9dd7f32fe79d45b19ed92a16ee5b4df4",
       "version_major": 2,
       "version_minor": 0
      },
      "text/plain": [
       "Finding best initial lr:   0%|          | 0/100 [00:00<?, ?it/s]"
      ]
     },
     "metadata": {},
     "output_type": "display_data"
    },
    {
     "name": "stderr",
     "output_type": "stream",
     "text": [
      "GPU available: False, used: False\n",
      "TPU available: False, using: 0 TPU cores\n",
      "\n",
      "  | Name            | Type       | Params\n",
      "-----------------------------------------------\n",
      "0 | loss            | MASE       | 0     \n",
      "1 | logging_metrics | ModuleList | 0     \n",
      "2 | net_blocks      | ModuleList | 2.2 M \n",
      "-----------------------------------------------\n",
      "2.2 M     Trainable params\n",
      "0         Non-trainable params\n",
      "2.2 M     Total params\n",
      "8.726     Total estimated model params size (MB)\n"
     ]
    },
    {
     "data": {
      "application/vnd.jupyter.widget-view+json": {
       "model_id": "8c5a40440af54010a4313b7c0437c8e4",
       "version_major": 2,
       "version_minor": 0
      },
      "text/plain": [
       "Training: 0it [00:00, ?it/s]"
      ]
     },
     "metadata": {},
     "output_type": "display_data"
    },
    {
     "data": {
      "application/vnd.jupyter.widget-view+json": {
       "model_id": "",
       "version_major": 2,
       "version_minor": 0
      },
      "text/plain": [
       "Validating: 0it [00:00, ?it/s]"
      ]
     },
     "metadata": {},
     "output_type": "display_data"
    },
    {
     "data": {
      "application/vnd.jupyter.widget-view+json": {
       "model_id": "",
       "version_major": 2,
       "version_minor": 0
      },
      "text/plain": [
       "Validating: 0it [00:00, ?it/s]"
      ]
     },
     "metadata": {},
     "output_type": "display_data"
    },
    {
     "name": "stderr",
     "output_type": "stream",
     "text": [
      "  0%|          | 0/15 [03:50<?, ?it/s]\n"
     ]
    },
    {
     "data": {
      "application/vnd.jupyter.widget-view+json": {
       "model_id": "",
       "version_major": 2,
       "version_minor": 0
      },
      "text/plain": [
       "Validating: 0it [00:00, ?it/s]"
      ]
     },
     "metadata": {},
     "output_type": "display_data"
    },
    {
     "data": {
      "application/vnd.jupyter.widget-view+json": {
       "model_id": "",
       "version_major": 2,
       "version_minor": 0
      },
      "text/plain": [
       "Validating: 0it [00:00, ?it/s]"
      ]
     },
     "metadata": {},
     "output_type": "display_data"
    },
    {
     "data": {
      "application/vnd.jupyter.widget-view+json": {
       "model_id": "",
       "version_major": 2,
       "version_minor": 0
      },
      "text/plain": [
       "Validating: 0it [00:00, ?it/s]"
      ]
     },
     "metadata": {},
     "output_type": "display_data"
    },
    {
     "data": {
      "application/vnd.jupyter.widget-view+json": {
       "model_id": "",
       "version_major": 2,
       "version_minor": 0
      },
      "text/plain": [
       "Validating: 0it [00:00, ?it/s]"
      ]
     },
     "metadata": {},
     "output_type": "display_data"
    },
    {
     "data": {
      "application/vnd.jupyter.widget-view+json": {
       "model_id": "",
       "version_major": 2,
       "version_minor": 0
      },
      "text/plain": [
       "Validating: 0it [00:00, ?it/s]"
      ]
     },
     "metadata": {},
     "output_type": "display_data"
    },
    {
     "data": {
      "application/vnd.jupyter.widget-view+json": {
       "model_id": "",
       "version_major": 2,
       "version_minor": 0
      },
      "text/plain": [
       "Validating: 0it [00:00, ?it/s]"
      ]
     },
     "metadata": {},
     "output_type": "display_data"
    },
    {
     "data": {
      "application/vnd.jupyter.widget-view+json": {
       "model_id": "",
       "version_major": 2,
       "version_minor": 0
      },
      "text/plain": [
       "Validating: 0it [00:00, ?it/s]"
      ]
     },
     "metadata": {},
     "output_type": "display_data"
    },
    {
     "data": {
      "application/vnd.jupyter.widget-view+json": {
       "model_id": "",
       "version_major": 2,
       "version_minor": 0
      },
      "text/plain": [
       "Validating: 0it [00:00, ?it/s]"
      ]
     },
     "metadata": {},
     "output_type": "display_data"
    },
    {
     "data": {
      "application/vnd.jupyter.widget-view+json": {
       "model_id": "",
       "version_major": 2,
       "version_minor": 0
      },
      "text/plain": [
       "Validating: 0it [00:00, ?it/s]"
      ]
     },
     "metadata": {},
     "output_type": "display_data"
    },
    {
     "data": {
      "application/vnd.jupyter.widget-view+json": {
       "model_id": "",
       "version_major": 2,
       "version_minor": 0
      },
      "text/plain": [
       "Validating: 0it [00:00, ?it/s]"
      ]
     },
     "metadata": {},
     "output_type": "display_data"
    },
    {
     "data": {
      "application/vnd.jupyter.widget-view+json": {
       "model_id": "",
       "version_major": 2,
       "version_minor": 0
      },
      "text/plain": [
       "Validating: 0it [00:00, ?it/s]"
      ]
     },
     "metadata": {},
     "output_type": "display_data"
    },
    {
     "data": {
      "application/vnd.jupyter.widget-view+json": {
       "model_id": "",
       "version_major": 2,
       "version_minor": 0
      },
      "text/plain": [
       "Validating: 0it [00:00, ?it/s]"
      ]
     },
     "metadata": {},
     "output_type": "display_data"
    },
    {
     "data": {
      "application/vnd.jupyter.widget-view+json": {
       "model_id": "",
       "version_major": 2,
       "version_minor": 0
      },
      "text/plain": [
       "Validating: 0it [00:00, ?it/s]"
      ]
     },
     "metadata": {},
     "output_type": "display_data"
    },
    {
     "name": "stderr",
     "output_type": "stream",
     "text": [
      "WARNING - (py.warnings._showwarnmsg) - /Users/polina/.conda/envs/neural_prophet/lib/python3.7/site-packages/pandas/core/indexing.py:1738: SettingWithCopyWarning: \n",
      "A value is trying to be set on a copy of a slice from a DataFrame.\n",
      "Try using .loc[row_indexer,col_indexer] = value instead\n",
      "\n",
      "See the caveats in the documentation: https://pandas.pydata.org/pandas-docs/stable/user_guide/indexing.html#returning-a-view-versus-a-copy\n",
      "  self._setitem_single_column(loc, value[:, i].tolist(), pi)\n",
      "\n",
      "WARNING - (py.warnings._showwarnmsg) - /Users/polina/fds/neural_prophet/neuralprophet/tools/metrics_libra.py:13: RuntimeWarning: divide by zero encountered in double_scalars\n",
      "  return y_pred_mae / naive_mae\n",
      "\n",
      "WARNING - (py.warnings._showwarnmsg) - /Users/polina/fds/neural_prophet/neuralprophet/tools/metrics_libra.py:13: RuntimeWarning: divide by zero encountered in double_scalars\n",
      "  return y_pred_mae / naive_mae\n",
      "\n",
      "WARNING - (py.warnings._showwarnmsg) - /Users/polina/fds/neural_prophet/neuralprophet/tools/metrics_libra.py:13: RuntimeWarning: divide by zero encountered in double_scalars\n",
      "  return y_pred_mae / naive_mae\n",
      "\n",
      "WARNING - (py.warnings._showwarnmsg) - /Users/polina/fds/neural_prophet/neuralprophet/tools/metrics_libra.py:13: RuntimeWarning: divide by zero encountered in double_scalars\n",
      "  return y_pred_mae / naive_mae\n",
      "\n",
      "WARNING - (py.warnings._showwarnmsg) - /Users/polina/fds/neural_prophet/neuralprophet/tools/metrics_libra.py:13: RuntimeWarning: divide by zero encountered in double_scalars\n",
      "  return y_pred_mae / naive_mae\n",
      "\n",
      "WARNING - (py.warnings._showwarnmsg) - /Users/polina/fds/neural_prophet/neuralprophet/tools/metrics_libra.py:13: RuntimeWarning: divide by zero encountered in double_scalars\n",
      "  return y_pred_mae / naive_mae\n",
      "\n",
      "WARNING - (py.warnings._showwarnmsg) - /Users/polina/fds/neural_prophet/neuralprophet/tools/metrics_libra.py:13: RuntimeWarning: divide by zero encountered in double_scalars\n",
      "  return y_pred_mae / naive_mae\n",
      "\n",
      "WARNING - (py.warnings._showwarnmsg) - /Users/polina/fds/neural_prophet/neuralprophet/tools/metrics_libra.py:13: RuntimeWarning: divide by zero encountered in double_scalars\n",
      "  return y_pred_mae / naive_mae\n",
      "\n",
      "WARNING - (py.warnings._showwarnmsg) - /Users/polina/fds/neural_prophet/neuralprophet/tools/metrics_libra.py:13: RuntimeWarning: divide by zero encountered in double_scalars\n",
      "  return y_pred_mae / naive_mae\n",
      "\n",
      "WARNING - (py.warnings._showwarnmsg) - /Users/polina/fds/neural_prophet/neuralprophet/tools/metrics_libra.py:13: RuntimeWarning: divide by zero encountered in double_scalars\n",
      "  return y_pred_mae / naive_mae\n",
      "\n",
      "WARNING - (py.warnings._showwarnmsg) - /Users/polina/fds/neural_prophet/neuralprophet/tools/metrics_libra.py:13: RuntimeWarning: divide by zero encountered in double_scalars\n",
      "  return y_pred_mae / naive_mae\n",
      "\n",
      "WARNING - (py.warnings._showwarnmsg) - /Users/polina/fds/neural_prophet/neuralprophet/tools/metrics_libra.py:13: RuntimeWarning: divide by zero encountered in double_scalars\n",
      "  return y_pred_mae / naive_mae\n",
      "\n",
      "WARNING - (py.warnings._showwarnmsg) - /Users/polina/fds/neural_prophet/neuralprophet/tools/metrics_libra.py:13: RuntimeWarning: divide by zero encountered in double_scalars\n",
      "  return y_pred_mae / naive_mae\n",
      "\n",
      "WARNING - (py.warnings._showwarnmsg) - /Users/polina/fds/neural_prophet/neuralprophet/tools/metrics_libra.py:13: RuntimeWarning: divide by zero encountered in double_scalars\n",
      "  return y_pred_mae / naive_mae\n",
      "\n",
      "WARNING - (py.warnings._showwarnmsg) - /Users/polina/fds/neural_prophet/neuralprophet/tools/metrics_libra.py:13: RuntimeWarning: divide by zero encountered in double_scalars\n",
      "  return y_pred_mae / naive_mae\n",
      "\n",
      "WARNING - (py.warnings._showwarnmsg) - /Users/polina/fds/neural_prophet/neuralprophet/tools/metrics_libra.py:13: RuntimeWarning: divide by zero encountered in double_scalars\n",
      "  return y_pred_mae / naive_mae\n",
      "\n",
      "WARNING - (py.warnings._showwarnmsg) - /Users/polina/fds/neural_prophet/neuralprophet/tools/metrics_libra.py:13: RuntimeWarning: divide by zero encountered in double_scalars\n",
      "  return y_pred_mae / naive_mae\n",
      "\n",
      "WARNING - (py.warnings._showwarnmsg) - /Users/polina/fds/neural_prophet/neuralprophet/tools/metrics_libra.py:13: RuntimeWarning: divide by zero encountered in double_scalars\n",
      "  return y_pred_mae / naive_mae\n",
      "\n",
      "WARNING - (py.warnings._showwarnmsg) - /Users/polina/fds/neural_prophet/neuralprophet/tools/metrics_libra.py:13: RuntimeWarning: divide by zero encountered in double_scalars\n",
      "  return y_pred_mae / naive_mae\n",
      "\n",
      "WARNING - (py.warnings._showwarnmsg) - /Users/polina/fds/neural_prophet/neuralprophet/tools/metrics_libra.py:13: RuntimeWarning: divide by zero encountered in double_scalars\n",
      "  return y_pred_mae / naive_mae\n",
      "\n",
      "WARNING - (py.warnings._showwarnmsg) - /Users/polina/fds/neural_prophet/neuralprophet/tools/metrics_libra.py:13: RuntimeWarning: divide by zero encountered in double_scalars\n",
      "  return y_pred_mae / naive_mae\n",
      "\n",
      "WARNING - (py.warnings._showwarnmsg) - /Users/polina/fds/neural_prophet/neuralprophet/tools/metrics_libra.py:13: RuntimeWarning: divide by zero encountered in double_scalars\n",
      "  return y_pred_mae / naive_mae\n",
      "\n",
      "WARNING - (py.warnings._showwarnmsg) - /Users/polina/fds/neural_prophet/neuralprophet/tools/metrics_libra.py:13: RuntimeWarning: divide by zero encountered in double_scalars\n",
      "  return y_pred_mae / naive_mae\n",
      "\n",
      "WARNING - (py.warnings._showwarnmsg) - /Users/polina/fds/neural_prophet/neuralprophet/tools/metrics_libra.py:13: RuntimeWarning: divide by zero encountered in double_scalars\n",
      "  return y_pred_mae / naive_mae\n",
      "\n",
      "WARNING - (py.warnings._showwarnmsg) - /Users/polina/fds/neural_prophet/neuralprophet/tools/metrics_libra.py:13: RuntimeWarning: divide by zero encountered in double_scalars\n",
      "  return y_pred_mae / naive_mae\n",
      "\n",
      "WARNING - (py.warnings._showwarnmsg) - /Users/polina/fds/neural_prophet/neuralprophet/tools/metrics_libra.py:13: RuntimeWarning: divide by zero encountered in double_scalars\n",
      "  return y_pred_mae / naive_mae\n",
      "\n",
      "WARNING - (py.warnings._showwarnmsg) - /Users/polina/fds/neural_prophet/neuralprophet/tools/metrics_libra.py:13: RuntimeWarning: divide by zero encountered in double_scalars\n",
      "  return y_pred_mae / naive_mae\n",
      "\n",
      "WARNING - (py.warnings._showwarnmsg) - /Users/polina/fds/neural_prophet/neuralprophet/tools/metrics_libra.py:13: RuntimeWarning: divide by zero encountered in double_scalars\n",
      "  return y_pred_mae / naive_mae\n",
      "\n",
      "WARNING - (py.warnings._showwarnmsg) - /Users/polina/fds/neural_prophet/neuralprophet/tools/metrics_libra.py:13: RuntimeWarning: divide by zero encountered in double_scalars\n",
      "  return y_pred_mae / naive_mae\n",
      "\n",
      "WARNING - (py.warnings._showwarnmsg) - /Users/polina/fds/neural_prophet/neuralprophet/tools/metrics_libra.py:13: RuntimeWarning: divide by zero encountered in double_scalars\n",
      "  return y_pred_mae / naive_mae\n",
      "\n",
      "WARNING - (py.warnings._showwarnmsg) - /Users/polina/fds/neural_prophet/neuralprophet/tools/metrics_libra.py:13: RuntimeWarning: divide by zero encountered in double_scalars\n",
      "  return y_pred_mae / naive_mae\n",
      "\n",
      "WARNING - (py.warnings._showwarnmsg) - /Users/polina/fds/neural_prophet/neuralprophet/tools/metrics_libra.py:13: RuntimeWarning: divide by zero encountered in double_scalars\n",
      "  return y_pred_mae / naive_mae\n",
      "\n",
      "WARNING - (py.warnings._showwarnmsg) - /Users/polina/fds/neural_prophet/neuralprophet/tools/metrics_libra.py:13: RuntimeWarning: divide by zero encountered in double_scalars\n",
      "  return y_pred_mae / naive_mae\n",
      "\n",
      "WARNING - (py.warnings._showwarnmsg) - /Users/polina/fds/neural_prophet/neuralprophet/tools/metrics_libra.py:13: RuntimeWarning: divide by zero encountered in double_scalars\n",
      "  return y_pred_mae / naive_mae\n",
      "\n",
      "WARNING - (py.warnings._showwarnmsg) - /Users/polina/fds/neural_prophet/neuralprophet/tools/metrics_libra.py:13: RuntimeWarning: divide by zero encountered in double_scalars\n",
      "  return y_pred_mae / naive_mae\n",
      "\n",
      "WARNING - (py.warnings._showwarnmsg) - /Users/polina/fds/neural_prophet/neuralprophet/tools/metrics_libra.py:13: RuntimeWarning: divide by zero encountered in double_scalars\n",
      "  return y_pred_mae / naive_mae\n",
      "\n",
      "WARNING - (py.warnings._showwarnmsg) - /Users/polina/fds/neural_prophet/neuralprophet/tools/metrics_libra.py:13: RuntimeWarning: divide by zero encountered in double_scalars\n",
      "  return y_pred_mae / naive_mae\n",
      "\n",
      "WARNING - (py.warnings._showwarnmsg) - /Users/polina/fds/neural_prophet/neuralprophet/tools/metrics_libra.py:13: RuntimeWarning: divide by zero encountered in double_scalars\n",
      "  return y_pred_mae / naive_mae\n",
      "\n"
     ]
    },
    {
     "name": "stderr",
     "output_type": "stream",
     "text": [
      "WARNING - (py.warnings._showwarnmsg) - /Users/polina/fds/neural_prophet/neuralprophet/tools/metrics_libra.py:13: RuntimeWarning: divide by zero encountered in double_scalars\n",
      "  return y_pred_mae / naive_mae\n",
      "\n",
      "WARNING - (py.warnings._showwarnmsg) - /Users/polina/fds/neural_prophet/neuralprophet/tools/metrics_libra.py:13: RuntimeWarning: divide by zero encountered in double_scalars\n",
      "  return y_pred_mae / naive_mae\n",
      "\n",
      "WARNING - (py.warnings._showwarnmsg) - /Users/polina/fds/neural_prophet/neuralprophet/tools/metrics_libra.py:13: RuntimeWarning: divide by zero encountered in double_scalars\n",
      "  return y_pred_mae / naive_mae\n",
      "\n",
      "WARNING - (py.warnings._showwarnmsg) - /Users/polina/fds/neural_prophet/neuralprophet/tools/metrics_libra.py:13: RuntimeWarning: divide by zero encountered in double_scalars\n",
      "  return y_pred_mae / naive_mae\n",
      "\n",
      "WARNING - (py.warnings._showwarnmsg) - /Users/polina/fds/neural_prophet/neuralprophet/tools/metrics_libra.py:13: RuntimeWarning: divide by zero encountered in double_scalars\n",
      "  return y_pred_mae / naive_mae\n",
      "\n",
      "WARNING - (py.warnings._showwarnmsg) - /Users/polina/fds/neural_prophet/neuralprophet/tools/metrics_libra.py:13: RuntimeWarning: divide by zero encountered in double_scalars\n",
      "  return y_pred_mae / naive_mae\n",
      "\n",
      "WARNING - (py.warnings._showwarnmsg) - /Users/polina/fds/neural_prophet/neuralprophet/tools/metrics_libra.py:13: RuntimeWarning: divide by zero encountered in double_scalars\n",
      "  return y_pred_mae / naive_mae\n",
      "\n",
      "WARNING - (py.warnings._showwarnmsg) - /Users/polina/fds/neural_prophet/neuralprophet/tools/metrics_libra.py:13: RuntimeWarning: divide by zero encountered in double_scalars\n",
      "  return y_pred_mae / naive_mae\n",
      "\n",
      "WARNING - (py.warnings._showwarnmsg) - /Users/polina/fds/neural_prophet/neuralprophet/tools/metrics_libra.py:13: RuntimeWarning: divide by zero encountered in double_scalars\n",
      "  return y_pred_mae / naive_mae\n",
      "\n",
      "WARNING - (py.warnings._showwarnmsg) - /Users/polina/fds/neural_prophet/neuralprophet/tools/metrics_libra.py:13: RuntimeWarning: divide by zero encountered in double_scalars\n",
      "  return y_pred_mae / naive_mae\n",
      "\n",
      "WARNING - (py.warnings._showwarnmsg) - /Users/polina/fds/neural_prophet/neuralprophet/tools/metrics_libra.py:13: RuntimeWarning: divide by zero encountered in double_scalars\n",
      "  return y_pred_mae / naive_mae\n",
      "\n",
      "WARNING - (py.warnings._showwarnmsg) - /Users/polina/fds/neural_prophet/neuralprophet/tools/metrics_libra.py:13: RuntimeWarning: divide by zero encountered in double_scalars\n",
      "  return y_pred_mae / naive_mae\n",
      "\n",
      "WARNING - (py.warnings._showwarnmsg) - /Users/polina/fds/neural_prophet/neuralprophet/tools/metrics_libra.py:13: RuntimeWarning: divide by zero encountered in double_scalars\n",
      "  return y_pred_mae / naive_mae\n",
      "\n",
      "WARNING - (py.warnings._showwarnmsg) - /Users/polina/fds/neural_prophet/neuralprophet/tools/metrics_libra.py:13: RuntimeWarning: divide by zero encountered in double_scalars\n",
      "  return y_pred_mae / naive_mae\n",
      "\n",
      "WARNING - (py.warnings._showwarnmsg) - /Users/polina/fds/neural_prophet/neuralprophet/tools/metrics_libra.py:13: RuntimeWarning: divide by zero encountered in double_scalars\n",
      "  return y_pred_mae / naive_mae\n",
      "\n",
      "WARNING - (py.warnings._showwarnmsg) - /Users/polina/fds/neural_prophet/neuralprophet/tools/metrics_libra.py:13: RuntimeWarning: divide by zero encountered in double_scalars\n",
      "  return y_pred_mae / naive_mae\n",
      "\n",
      "WARNING - (py.warnings._showwarnmsg) - /Users/polina/fds/neural_prophet/neuralprophet/tools/metrics_libra.py:13: RuntimeWarning: divide by zero encountered in double_scalars\n",
      "  return y_pred_mae / naive_mae\n",
      "\n",
      "WARNING - (py.warnings._showwarnmsg) - /Users/polina/fds/neural_prophet/neuralprophet/tools/metrics_libra.py:13: RuntimeWarning: divide by zero encountered in double_scalars\n",
      "  return y_pred_mae / naive_mae\n",
      "\n",
      "WARNING - (py.warnings._showwarnmsg) - /Users/polina/fds/neural_prophet/neuralprophet/tools/metrics_libra.py:13: RuntimeWarning: divide by zero encountered in double_scalars\n",
      "  return y_pred_mae / naive_mae\n",
      "\n",
      "WARNING - (py.warnings._showwarnmsg) - /Users/polina/fds/neural_prophet/neuralprophet/tools/metrics_libra.py:13: RuntimeWarning: divide by zero encountered in double_scalars\n",
      "  return y_pred_mae / naive_mae\n",
      "\n",
      "WARNING - (py.warnings._showwarnmsg) - /Users/polina/fds/neural_prophet/neuralprophet/tools/metrics_libra.py:13: RuntimeWarning: divide by zero encountered in double_scalars\n",
      "  return y_pred_mae / naive_mae\n",
      "\n",
      "WARNING - (py.warnings._showwarnmsg) - /Users/polina/fds/neural_prophet/neuralprophet/tools/metrics_libra.py:13: RuntimeWarning: divide by zero encountered in double_scalars\n",
      "  return y_pred_mae / naive_mae\n",
      "\n",
      "WARNING - (py.warnings._showwarnmsg) - /Users/polina/fds/neural_prophet/neuralprophet/tools/metrics_libra.py:13: RuntimeWarning: divide by zero encountered in double_scalars\n",
      "  return y_pred_mae / naive_mae\n",
      "\n",
      "WARNING - (py.warnings._showwarnmsg) - /Users/polina/fds/neural_prophet/neuralprophet/tools/metrics_libra.py:13: RuntimeWarning: divide by zero encountered in double_scalars\n",
      "  return y_pred_mae / naive_mae\n",
      "\n",
      "WARNING - (py.warnings._showwarnmsg) - /Users/polina/fds/neural_prophet/neuralprophet/tools/metrics_libra.py:13: RuntimeWarning: divide by zero encountered in double_scalars\n",
      "  return y_pred_mae / naive_mae\n",
      "\n",
      "WARNING - (py.warnings._showwarnmsg) - /Users/polina/fds/neural_prophet/neuralprophet/tools/metrics_libra.py:13: RuntimeWarning: divide by zero encountered in double_scalars\n",
      "  return y_pred_mae / naive_mae\n",
      "\n",
      "WARNING - (py.warnings._showwarnmsg) - /Users/polina/fds/neural_prophet/neuralprophet/tools/metrics_libra.py:13: RuntimeWarning: divide by zero encountered in double_scalars\n",
      "  return y_pred_mae / naive_mae\n",
      "\n",
      "WARNING - (py.warnings._showwarnmsg) - /Users/polina/fds/neural_prophet/neuralprophet/tools/metrics_libra.py:13: RuntimeWarning: divide by zero encountered in double_scalars\n",
      "  return y_pred_mae / naive_mae\n",
      "\n",
      "WARNING - (py.warnings._showwarnmsg) - /Users/polina/fds/neural_prophet/neuralprophet/tools/metrics_libra.py:13: RuntimeWarning: divide by zero encountered in double_scalars\n",
      "  return y_pred_mae / naive_mae\n",
      "\n",
      "WARNING - (py.warnings._showwarnmsg) - /Users/polina/fds/neural_prophet/neuralprophet/tools/metrics_libra.py:13: RuntimeWarning: divide by zero encountered in double_scalars\n",
      "  return y_pred_mae / naive_mae\n",
      "\n",
      "WARNING - (py.warnings._showwarnmsg) - /Users/polina/fds/neural_prophet/neuralprophet/tools/metrics_libra.py:13: RuntimeWarning: divide by zero encountered in double_scalars\n",
      "  return y_pred_mae / naive_mae\n",
      "\n",
      "WARNING - (py.warnings._showwarnmsg) - /Users/polina/fds/neural_prophet/neuralprophet/tools/metrics_libra.py:13: RuntimeWarning: divide by zero encountered in double_scalars\n",
      "  return y_pred_mae / naive_mae\n",
      "\n",
      "WARNING - (py.warnings._showwarnmsg) - /Users/polina/fds/neural_prophet/neuralprophet/tools/metrics_libra.py:13: RuntimeWarning: divide by zero encountered in double_scalars\n",
      "  return y_pred_mae / naive_mae\n",
      "\n",
      "WARNING - (py.warnings._showwarnmsg) - /Users/polina/fds/neural_prophet/neuralprophet/tools/metrics_libra.py:13: RuntimeWarning: divide by zero encountered in double_scalars\n",
      "  return y_pred_mae / naive_mae\n",
      "\n",
      "WARNING - (py.warnings._showwarnmsg) - /Users/polina/fds/neural_prophet/neuralprophet/tools/metrics_libra.py:13: RuntimeWarning: divide by zero encountered in double_scalars\n",
      "  return y_pred_mae / naive_mae\n",
      "\n",
      "WARNING - (py.warnings._showwarnmsg) - /Users/polina/fds/neural_prophet/neuralprophet/tools/metrics_libra.py:13: RuntimeWarning: divide by zero encountered in double_scalars\n",
      "  return y_pred_mae / naive_mae\n",
      "\n",
      "WARNING - (py.warnings._showwarnmsg) - /Users/polina/fds/neural_prophet/neuralprophet/tools/metrics_libra.py:13: RuntimeWarning: divide by zero encountered in double_scalars\n",
      "  return y_pred_mae / naive_mae\n",
      "\n",
      "WARNING - (py.warnings._showwarnmsg) - /Users/polina/fds/neural_prophet/neuralprophet/tools/metrics_libra.py:13: RuntimeWarning: divide by zero encountered in double_scalars\n",
      "  return y_pred_mae / naive_mae\n",
      "\n",
      "WARNING - (py.warnings._showwarnmsg) - /Users/polina/fds/neural_prophet/neuralprophet/tools/metrics_libra.py:13: RuntimeWarning: divide by zero encountered in double_scalars\n",
      "  return y_pred_mae / naive_mae\n",
      "\n",
      "WARNING - (py.warnings._showwarnmsg) - /Users/polina/fds/neural_prophet/neuralprophet/tools/metrics_libra.py:13: RuntimeWarning: divide by zero encountered in double_scalars\n",
      "  return y_pred_mae / naive_mae\n",
      "\n"
     ]
    },
    {
     "name": "stderr",
     "output_type": "stream",
     "text": [
      "WARNING - (py.warnings._showwarnmsg) - /Users/polina/fds/neural_prophet/neuralprophet/tools/metrics_libra.py:13: RuntimeWarning: divide by zero encountered in double_scalars\n",
      "  return y_pred_mae / naive_mae\n",
      "\n",
      "WARNING - (py.warnings._showwarnmsg) - /Users/polina/fds/neural_prophet/neuralprophet/tools/metrics_libra.py:13: RuntimeWarning: divide by zero encountered in double_scalars\n",
      "  return y_pred_mae / naive_mae\n",
      "\n",
      "WARNING - (py.warnings._showwarnmsg) - /Users/polina/fds/neural_prophet/neuralprophet/tools/metrics_libra.py:13: RuntimeWarning: divide by zero encountered in double_scalars\n",
      "  return y_pred_mae / naive_mae\n",
      "\n",
      "WARNING - (py.warnings._showwarnmsg) - /Users/polina/fds/neural_prophet/neuralprophet/tools/metrics_libra.py:13: RuntimeWarning: divide by zero encountered in double_scalars\n",
      "  return y_pred_mae / naive_mae\n",
      "\n",
      "WARNING - (py.warnings._showwarnmsg) - /Users/polina/fds/neural_prophet/neuralprophet/tools/metrics_libra.py:13: RuntimeWarning: divide by zero encountered in double_scalars\n",
      "  return y_pred_mae / naive_mae\n",
      "\n",
      "WARNING - (py.warnings._showwarnmsg) - /Users/polina/fds/neural_prophet/neuralprophet/tools/metrics_libra.py:13: RuntimeWarning: divide by zero encountered in double_scalars\n",
      "  return y_pred_mae / naive_mae\n",
      "\n",
      "WARNING - (py.warnings._showwarnmsg) - /Users/polina/fds/neural_prophet/neuralprophet/tools/metrics_libra.py:13: RuntimeWarning: divide by zero encountered in double_scalars\n",
      "  return y_pred_mae / naive_mae\n",
      "\n",
      "WARNING - (py.warnings._showwarnmsg) - /Users/polina/fds/neural_prophet/neuralprophet/tools/metrics_libra.py:13: RuntimeWarning: divide by zero encountered in double_scalars\n",
      "  return y_pred_mae / naive_mae\n",
      "\n",
      "WARNING - (py.warnings._showwarnmsg) - /Users/polina/fds/neural_prophet/neuralprophet/tools/metrics_libra.py:13: RuntimeWarning: divide by zero encountered in double_scalars\n",
      "  return y_pred_mae / naive_mae\n",
      "\n",
      "WARNING - (py.warnings._showwarnmsg) - /Users/polina/fds/neural_prophet/neuralprophet/tools/metrics_libra.py:13: RuntimeWarning: divide by zero encountered in double_scalars\n",
      "  return y_pred_mae / naive_mae\n",
      "\n",
      "WARNING - (py.warnings._showwarnmsg) - /Users/polina/fds/neural_prophet/neuralprophet/tools/metrics_libra.py:13: RuntimeWarning: divide by zero encountered in double_scalars\n",
      "  return y_pred_mae / naive_mae\n",
      "\n",
      "WARNING - (py.warnings._showwarnmsg) - /Users/polina/fds/neural_prophet/neuralprophet/tools/metrics_libra.py:13: RuntimeWarning: divide by zero encountered in double_scalars\n",
      "  return y_pred_mae / naive_mae\n",
      "\n",
      "WARNING - (py.warnings._showwarnmsg) - /Users/polina/fds/neural_prophet/neuralprophet/tools/metrics_libra.py:13: RuntimeWarning: divide by zero encountered in double_scalars\n",
      "  return y_pred_mae / naive_mae\n",
      "\n",
      "WARNING - (py.warnings._showwarnmsg) - /Users/polina/fds/neural_prophet/neuralprophet/tools/metrics_libra.py:13: RuntimeWarning: divide by zero encountered in double_scalars\n",
      "  return y_pred_mae / naive_mae\n",
      "\n",
      "WARNING - (py.warnings._showwarnmsg) - /Users/polina/fds/neural_prophet/neuralprophet/tools/metrics_libra.py:13: RuntimeWarning: divide by zero encountered in double_scalars\n",
      "  return y_pred_mae / naive_mae\n",
      "\n",
      "WARNING - (py.warnings._showwarnmsg) - /Users/polina/fds/neural_prophet/neuralprophet/tools/metrics_libra.py:13: RuntimeWarning: divide by zero encountered in double_scalars\n",
      "  return y_pred_mae / naive_mae\n",
      "\n",
      "WARNING - (py.warnings._showwarnmsg) - /Users/polina/fds/neural_prophet/neuralprophet/tools/metrics_libra.py:13: RuntimeWarning: divide by zero encountered in double_scalars\n",
      "  return y_pred_mae / naive_mae\n",
      "\n",
      "WARNING - (py.warnings._showwarnmsg) - /Users/polina/fds/neural_prophet/neuralprophet/tools/metrics_libra.py:13: RuntimeWarning: divide by zero encountered in double_scalars\n",
      "  return y_pred_mae / naive_mae\n",
      "\n",
      "WARNING - (py.warnings._showwarnmsg) - /Users/polina/fds/neural_prophet/neuralprophet/tools/metrics_libra.py:13: RuntimeWarning: divide by zero encountered in double_scalars\n",
      "  return y_pred_mae / naive_mae\n",
      "\n",
      "WARNING - (py.warnings._showwarnmsg) - /Users/polina/fds/neural_prophet/neuralprophet/tools/metrics_libra.py:13: RuntimeWarning: divide by zero encountered in double_scalars\n",
      "  return y_pred_mae / naive_mae\n",
      "\n",
      "WARNING - (py.warnings._showwarnmsg) - /Users/polina/fds/neural_prophet/neuralprophet/tools/metrics_libra.py:13: RuntimeWarning: divide by zero encountered in double_scalars\n",
      "  return y_pred_mae / naive_mae\n",
      "\n",
      "WARNING - (py.warnings._showwarnmsg) - /Users/polina/fds/neural_prophet/neuralprophet/tools/metrics_libra.py:13: RuntimeWarning: divide by zero encountered in double_scalars\n",
      "  return y_pred_mae / naive_mae\n",
      "\n",
      "WARNING - (py.warnings._showwarnmsg) - /Users/polina/fds/neural_prophet/neuralprophet/tools/metrics_libra.py:13: RuntimeWarning: divide by zero encountered in double_scalars\n",
      "  return y_pred_mae / naive_mae\n",
      "\n",
      "WARNING - (py.warnings._showwarnmsg) - /Users/polina/fds/neural_prophet/neuralprophet/tools/metrics_libra.py:13: RuntimeWarning: divide by zero encountered in double_scalars\n",
      "  return y_pred_mae / naive_mae\n",
      "\n",
      "WARNING - (py.warnings._showwarnmsg) - /Users/polina/fds/neural_prophet/neuralprophet/tools/metrics_libra.py:13: RuntimeWarning: divide by zero encountered in double_scalars\n",
      "  return y_pred_mae / naive_mae\n",
      "\n",
      "WARNING - (py.warnings._showwarnmsg) - /Users/polina/fds/neural_prophet/neuralprophet/tools/metrics_libra.py:13: RuntimeWarning: divide by zero encountered in double_scalars\n",
      "  return y_pred_mae / naive_mae\n",
      "\n",
      "WARNING - (py.warnings._showwarnmsg) - /Users/polina/fds/neural_prophet/neuralprophet/tools/metrics_libra.py:13: RuntimeWarning: divide by zero encountered in double_scalars\n",
      "  return y_pred_mae / naive_mae\n",
      "\n",
      "WARNING - (py.warnings._showwarnmsg) - /Users/polina/fds/neural_prophet/neuralprophet/tools/metrics_libra.py:13: RuntimeWarning: divide by zero encountered in double_scalars\n",
      "  return y_pred_mae / naive_mae\n",
      "\n",
      "WARNING - (py.warnings._showwarnmsg) - /Users/polina/fds/neural_prophet/neuralprophet/tools/metrics_libra.py:13: RuntimeWarning: divide by zero encountered in double_scalars\n",
      "  return y_pred_mae / naive_mae\n",
      "\n",
      "WARNING - (py.warnings._showwarnmsg) - /Users/polina/fds/neural_prophet/neuralprophet/tools/metrics_libra.py:13: RuntimeWarning: divide by zero encountered in double_scalars\n",
      "  return y_pred_mae / naive_mae\n",
      "\n",
      "WARNING - (py.warnings._showwarnmsg) - /Users/polina/fds/neural_prophet/neuralprophet/tools/metrics_libra.py:13: RuntimeWarning: divide by zero encountered in double_scalars\n",
      "  return y_pred_mae / naive_mae\n",
      "\n",
      "WARNING - (py.warnings._showwarnmsg) - /Users/polina/fds/neural_prophet/neuralprophet/tools/metrics_libra.py:13: RuntimeWarning: divide by zero encountered in double_scalars\n",
      "  return y_pred_mae / naive_mae\n",
      "\n",
      "WARNING - (py.warnings._showwarnmsg) - /Users/polina/fds/neural_prophet/neuralprophet/tools/metrics_libra.py:13: RuntimeWarning: divide by zero encountered in double_scalars\n",
      "  return y_pred_mae / naive_mae\n",
      "\n",
      "WARNING - (py.warnings._showwarnmsg) - /Users/polina/fds/neural_prophet/neuralprophet/tools/metrics_libra.py:13: RuntimeWarning: divide by zero encountered in double_scalars\n",
      "  return y_pred_mae / naive_mae\n",
      "\n",
      "WARNING - (py.warnings._showwarnmsg) - /Users/polina/fds/neural_prophet/neuralprophet/tools/metrics_libra.py:13: RuntimeWarning: divide by zero encountered in double_scalars\n",
      "  return y_pred_mae / naive_mae\n",
      "\n",
      "WARNING - (py.warnings._showwarnmsg) - /Users/polina/fds/neural_prophet/neuralprophet/tools/metrics_libra.py:13: RuntimeWarning: divide by zero encountered in double_scalars\n",
      "  return y_pred_mae / naive_mae\n",
      "\n",
      "WARNING - (py.warnings._showwarnmsg) - /Users/polina/fds/neural_prophet/neuralprophet/tools/metrics_libra.py:13: RuntimeWarning: divide by zero encountered in double_scalars\n",
      "  return y_pred_mae / naive_mae\n",
      "\n",
      "WARNING - (py.warnings._showwarnmsg) - /Users/polina/fds/neural_prophet/neuralprophet/tools/metrics_libra.py:13: RuntimeWarning: divide by zero encountered in double_scalars\n",
      "  return y_pred_mae / naive_mae\n",
      "\n",
      "WARNING - (py.warnings._showwarnmsg) - /Users/polina/fds/neural_prophet/neuralprophet/tools/metrics_libra.py:13: RuntimeWarning: divide by zero encountered in double_scalars\n",
      "  return y_pred_mae / naive_mae\n",
      "\n",
      "WARNING - (py.warnings._showwarnmsg) - /Users/polina/fds/neural_prophet/neuralprophet/tools/metrics_libra.py:13: RuntimeWarning: divide by zero encountered in double_scalars\n",
      "  return y_pred_mae / naive_mae\n",
      "\n"
     ]
    },
    {
     "name": "stderr",
     "output_type": "stream",
     "text": [
      "WARNING - (py.warnings._showwarnmsg) - /Users/polina/fds/neural_prophet/neuralprophet/tools/metrics_libra.py:13: RuntimeWarning: divide by zero encountered in double_scalars\n",
      "  return y_pred_mae / naive_mae\n",
      "\n",
      "WARNING - (py.warnings._showwarnmsg) - /Users/polina/fds/neural_prophet/neuralprophet/tools/metrics_libra.py:13: RuntimeWarning: divide by zero encountered in double_scalars\n",
      "  return y_pred_mae / naive_mae\n",
      "\n",
      "WARNING - (py.warnings._showwarnmsg) - /Users/polina/fds/neural_prophet/neuralprophet/tools/metrics_libra.py:13: RuntimeWarning: divide by zero encountered in double_scalars\n",
      "  return y_pred_mae / naive_mae\n",
      "\n",
      "WARNING - (py.warnings._showwarnmsg) - /Users/polina/fds/neural_prophet/neuralprophet/tools/metrics_libra.py:13: RuntimeWarning: divide by zero encountered in double_scalars\n",
      "  return y_pred_mae / naive_mae\n",
      "\n",
      "WARNING - (py.warnings._showwarnmsg) - /Users/polina/fds/neural_prophet/neuralprophet/tools/metrics_libra.py:13: RuntimeWarning: divide by zero encountered in double_scalars\n",
      "  return y_pred_mae / naive_mae\n",
      "\n",
      "WARNING - (py.warnings._showwarnmsg) - /Users/polina/fds/neural_prophet/neuralprophet/tools/metrics_libra.py:13: RuntimeWarning: divide by zero encountered in double_scalars\n",
      "  return y_pred_mae / naive_mae\n",
      "\n",
      "WARNING - (py.warnings._showwarnmsg) - /Users/polina/fds/neural_prophet/neuralprophet/tools/metrics_libra.py:13: RuntimeWarning: divide by zero encountered in double_scalars\n",
      "  return y_pred_mae / naive_mae\n",
      "\n",
      "WARNING - (py.warnings._showwarnmsg) - /Users/polina/fds/neural_prophet/neuralprophet/tools/metrics_libra.py:13: RuntimeWarning: divide by zero encountered in double_scalars\n",
      "  return y_pred_mae / naive_mae\n",
      "\n",
      "WARNING - (py.warnings._showwarnmsg) - /Users/polina/fds/neural_prophet/neuralprophet/tools/metrics_libra.py:13: RuntimeWarning: divide by zero encountered in double_scalars\n",
      "  return y_pred_mae / naive_mae\n",
      "\n",
      "WARNING - (py.warnings._showwarnmsg) - /Users/polina/fds/neural_prophet/neuralprophet/tools/metrics_libra.py:13: RuntimeWarning: divide by zero encountered in double_scalars\n",
      "  return y_pred_mae / naive_mae\n",
      "\n",
      "WARNING - (py.warnings._showwarnmsg) - /Users/polina/fds/neural_prophet/neuralprophet/tools/metrics_libra.py:13: RuntimeWarning: divide by zero encountered in double_scalars\n",
      "  return y_pred_mae / naive_mae\n",
      "\n",
      "WARNING - (py.warnings._showwarnmsg) - /Users/polina/fds/neural_prophet/neuralprophet/tools/metrics_libra.py:13: RuntimeWarning: divide by zero encountered in double_scalars\n",
      "  return y_pred_mae / naive_mae\n",
      "\n",
      "WARNING - (py.warnings._showwarnmsg) - /Users/polina/fds/neural_prophet/neuralprophet/tools/metrics_libra.py:13: RuntimeWarning: divide by zero encountered in double_scalars\n",
      "  return y_pred_mae / naive_mae\n",
      "\n",
      "WARNING - (py.warnings._showwarnmsg) - /Users/polina/fds/neural_prophet/neuralprophet/tools/metrics_libra.py:13: RuntimeWarning: divide by zero encountered in double_scalars\n",
      "  return y_pred_mae / naive_mae\n",
      "\n",
      "WARNING - (py.warnings._showwarnmsg) - /Users/polina/fds/neural_prophet/neuralprophet/tools/metrics_libra.py:13: RuntimeWarning: divide by zero encountered in double_scalars\n",
      "  return y_pred_mae / naive_mae\n",
      "\n",
      "WARNING - (py.warnings._showwarnmsg) - /Users/polina/fds/neural_prophet/neuralprophet/tools/metrics_libra.py:13: RuntimeWarning: divide by zero encountered in double_scalars\n",
      "  return y_pred_mae / naive_mae\n",
      "\n",
      "WARNING - (py.warnings._showwarnmsg) - /Users/polina/fds/neural_prophet/neuralprophet/tools/metrics_libra.py:13: RuntimeWarning: divide by zero encountered in double_scalars\n",
      "  return y_pred_mae / naive_mae\n",
      "\n",
      "WARNING - (py.warnings._showwarnmsg) - /Users/polina/fds/neural_prophet/neuralprophet/tools/metrics_libra.py:13: RuntimeWarning: divide by zero encountered in double_scalars\n",
      "  return y_pred_mae / naive_mae\n",
      "\n",
      "WARNING - (py.warnings._showwarnmsg) - /Users/polina/fds/neural_prophet/neuralprophet/tools/metrics_libra.py:13: RuntimeWarning: divide by zero encountered in double_scalars\n",
      "  return y_pred_mae / naive_mae\n",
      "\n",
      "WARNING - (py.warnings._showwarnmsg) - /Users/polina/fds/neural_prophet/neuralprophet/tools/metrics_libra.py:13: RuntimeWarning: divide by zero encountered in double_scalars\n",
      "  return y_pred_mae / naive_mae\n",
      "\n",
      "WARNING - (py.warnings._showwarnmsg) - /Users/polina/fds/neural_prophet/neuralprophet/tools/metrics_libra.py:13: RuntimeWarning: divide by zero encountered in double_scalars\n",
      "  return y_pred_mae / naive_mae\n",
      "\n",
      "WARNING - (py.warnings._showwarnmsg) - /Users/polina/fds/neural_prophet/neuralprophet/tools/metrics_libra.py:13: RuntimeWarning: divide by zero encountered in double_scalars\n",
      "  return y_pred_mae / naive_mae\n",
      "\n",
      "WARNING - (py.warnings._showwarnmsg) - /Users/polina/fds/neural_prophet/neuralprophet/tools/metrics_libra.py:13: RuntimeWarning: divide by zero encountered in double_scalars\n",
      "  return y_pred_mae / naive_mae\n",
      "\n",
      "WARNING - (py.warnings._showwarnmsg) - /Users/polina/fds/neural_prophet/neuralprophet/tools/metrics_libra.py:13: RuntimeWarning: divide by zero encountered in double_scalars\n",
      "  return y_pred_mae / naive_mae\n",
      "\n",
      "WARNING - (py.warnings._showwarnmsg) - /Users/polina/fds/neural_prophet/neuralprophet/tools/metrics_libra.py:13: RuntimeWarning: divide by zero encountered in double_scalars\n",
      "  return y_pred_mae / naive_mae\n",
      "\n",
      "WARNING - (py.warnings._showwarnmsg) - /Users/polina/fds/neural_prophet/neuralprophet/tools/metrics_libra.py:13: RuntimeWarning: divide by zero encountered in double_scalars\n",
      "  return y_pred_mae / naive_mae\n",
      "\n",
      "WARNING - (py.warnings._showwarnmsg) - /Users/polina/fds/neural_prophet/neuralprophet/tools/metrics_libra.py:13: RuntimeWarning: divide by zero encountered in double_scalars\n",
      "  return y_pred_mae / naive_mae\n",
      "\n",
      "WARNING - (py.warnings._showwarnmsg) - /Users/polina/fds/neural_prophet/neuralprophet/tools/metrics_libra.py:13: RuntimeWarning: divide by zero encountered in double_scalars\n",
      "  return y_pred_mae / naive_mae\n",
      "\n",
      "WARNING - (py.warnings._showwarnmsg) - /Users/polina/fds/neural_prophet/neuralprophet/tools/metrics_libra.py:13: RuntimeWarning: divide by zero encountered in double_scalars\n",
      "  return y_pred_mae / naive_mae\n",
      "\n",
      "WARNING - (py.warnings._showwarnmsg) - /Users/polina/fds/neural_prophet/neuralprophet/tools/metrics_libra.py:13: RuntimeWarning: divide by zero encountered in double_scalars\n",
      "  return y_pred_mae / naive_mae\n",
      "\n",
      "WARNING - (py.warnings._showwarnmsg) - /Users/polina/fds/neural_prophet/neuralprophet/tools/metrics_libra.py:13: RuntimeWarning: divide by zero encountered in double_scalars\n",
      "  return y_pred_mae / naive_mae\n",
      "\n",
      "WARNING - (py.warnings._showwarnmsg) - /Users/polina/fds/neural_prophet/neuralprophet/tools/metrics_libra.py:13: RuntimeWarning: divide by zero encountered in double_scalars\n",
      "  return y_pred_mae / naive_mae\n",
      "\n",
      "WARNING - (py.warnings._showwarnmsg) - /Users/polina/fds/neural_prophet/neuralprophet/tools/metrics_libra.py:13: RuntimeWarning: divide by zero encountered in double_scalars\n",
      "  return y_pred_mae / naive_mae\n",
      "\n",
      "WARNING - (py.warnings._showwarnmsg) - /Users/polina/fds/neural_prophet/neuralprophet/tools/metrics_libra.py:13: RuntimeWarning: divide by zero encountered in double_scalars\n",
      "  return y_pred_mae / naive_mae\n",
      "\n",
      "WARNING - (py.warnings._showwarnmsg) - /Users/polina/fds/neural_prophet/neuralprophet/tools/metrics_libra.py:13: RuntimeWarning: divide by zero encountered in double_scalars\n",
      "  return y_pred_mae / naive_mae\n",
      "\n",
      "WARNING - (py.warnings._showwarnmsg) - /Users/polina/fds/neural_prophet/neuralprophet/tools/metrics_libra.py:13: RuntimeWarning: divide by zero encountered in double_scalars\n",
      "  return y_pred_mae / naive_mae\n",
      "\n",
      "WARNING - (py.warnings._showwarnmsg) - /Users/polina/fds/neural_prophet/neuralprophet/tools/metrics_libra.py:13: RuntimeWarning: divide by zero encountered in double_scalars\n",
      "  return y_pred_mae / naive_mae\n",
      "\n",
      "WARNING - (py.warnings._showwarnmsg) - /Users/polina/fds/neural_prophet/neuralprophet/tools/metrics_libra.py:13: RuntimeWarning: divide by zero encountered in double_scalars\n",
      "  return y_pred_mae / naive_mae\n",
      "\n",
      "WARNING - (py.warnings._showwarnmsg) - /Users/polina/fds/neural_prophet/neuralprophet/tools/metrics_libra.py:13: RuntimeWarning: divide by zero encountered in double_scalars\n",
      "  return y_pred_mae / naive_mae\n",
      "\n",
      "WARNING - (py.warnings._showwarnmsg) - /Users/polina/fds/neural_prophet/neuralprophet/tools/metrics_libra.py:13: RuntimeWarning: divide by zero encountered in double_scalars\n",
      "  return y_pred_mae / naive_mae\n",
      "\n"
     ]
    },
    {
     "name": "stderr",
     "output_type": "stream",
     "text": [
      "WARNING - (py.warnings._showwarnmsg) - /Users/polina/fds/neural_prophet/neuralprophet/tools/metrics_libra.py:13: RuntimeWarning: divide by zero encountered in double_scalars\n",
      "  return y_pred_mae / naive_mae\n",
      "\n",
      "WARNING - (py.warnings._showwarnmsg) - /Users/polina/fds/neural_prophet/neuralprophet/tools/metrics_libra.py:13: RuntimeWarning: divide by zero encountered in double_scalars\n",
      "  return y_pred_mae / naive_mae\n",
      "\n",
      "WARNING - (py.warnings._showwarnmsg) - /Users/polina/fds/neural_prophet/neuralprophet/tools/metrics_libra.py:13: RuntimeWarning: divide by zero encountered in double_scalars\n",
      "  return y_pred_mae / naive_mae\n",
      "\n",
      "WARNING - (py.warnings._showwarnmsg) - /Users/polina/fds/neural_prophet/neuralprophet/tools/metrics_libra.py:13: RuntimeWarning: divide by zero encountered in double_scalars\n",
      "  return y_pred_mae / naive_mae\n",
      "\n",
      "WARNING - (py.warnings._showwarnmsg) - /Users/polina/fds/neural_prophet/neuralprophet/tools/metrics_libra.py:13: RuntimeWarning: divide by zero encountered in double_scalars\n",
      "  return y_pred_mae / naive_mae\n",
      "\n",
      "WARNING - (py.warnings._showwarnmsg) - /Users/polina/fds/neural_prophet/neuralprophet/tools/metrics_libra.py:13: RuntimeWarning: divide by zero encountered in double_scalars\n",
      "  return y_pred_mae / naive_mae\n",
      "\n",
      "WARNING - (py.warnings._showwarnmsg) - /Users/polina/fds/neural_prophet/neuralprophet/tools/metrics_libra.py:13: RuntimeWarning: divide by zero encountered in double_scalars\n",
      "  return y_pred_mae / naive_mae\n",
      "\n",
      "WARNING - (py.warnings._showwarnmsg) - /Users/polina/fds/neural_prophet/neuralprophet/tools/metrics_libra.py:13: RuntimeWarning: divide by zero encountered in double_scalars\n",
      "  return y_pred_mae / naive_mae\n",
      "\n",
      "WARNING - (py.warnings._showwarnmsg) - /Users/polina/fds/neural_prophet/neuralprophet/tools/metrics_libra.py:13: RuntimeWarning: divide by zero encountered in double_scalars\n",
      "  return y_pred_mae / naive_mae\n",
      "\n",
      "WARNING - (py.warnings._showwarnmsg) - /Users/polina/fds/neural_prophet/neuralprophet/tools/metrics_libra.py:13: RuntimeWarning: divide by zero encountered in double_scalars\n",
      "  return y_pred_mae / naive_mae\n",
      "\n",
      "WARNING - (py.warnings._showwarnmsg) - /Users/polina/fds/neural_prophet/neuralprophet/tools/metrics_libra.py:13: RuntimeWarning: divide by zero encountered in double_scalars\n",
      "  return y_pred_mae / naive_mae\n",
      "\n",
      "WARNING - (py.warnings._showwarnmsg) - /Users/polina/fds/neural_prophet/neuralprophet/tools/metrics_libra.py:13: RuntimeWarning: divide by zero encountered in double_scalars\n",
      "  return y_pred_mae / naive_mae\n",
      "\n",
      "WARNING - (py.warnings._showwarnmsg) - /Users/polina/fds/neural_prophet/neuralprophet/tools/metrics_libra.py:13: RuntimeWarning: divide by zero encountered in double_scalars\n",
      "  return y_pred_mae / naive_mae\n",
      "\n",
      "WARNING - (py.warnings._showwarnmsg) - /Users/polina/fds/neural_prophet/neuralprophet/tools/metrics_libra.py:13: RuntimeWarning: divide by zero encountered in double_scalars\n",
      "  return y_pred_mae / naive_mae\n",
      "\n",
      "WARNING - (py.warnings._showwarnmsg) - /Users/polina/fds/neural_prophet/neuralprophet/tools/metrics_libra.py:13: RuntimeWarning: divide by zero encountered in double_scalars\n",
      "  return y_pred_mae / naive_mae\n",
      "\n",
      "WARNING - (py.warnings._showwarnmsg) - /Users/polina/fds/neural_prophet/neuralprophet/tools/metrics_libra.py:13: RuntimeWarning: divide by zero encountered in double_scalars\n",
      "  return y_pred_mae / naive_mae\n",
      "\n",
      "WARNING - (py.warnings._showwarnmsg) - /Users/polina/fds/neural_prophet/neuralprophet/tools/metrics_libra.py:13: RuntimeWarning: divide by zero encountered in double_scalars\n",
      "  return y_pred_mae / naive_mae\n",
      "\n",
      "WARNING - (py.warnings._showwarnmsg) - /Users/polina/fds/neural_prophet/neuralprophet/tools/metrics_libra.py:13: RuntimeWarning: divide by zero encountered in double_scalars\n",
      "  return y_pred_mae / naive_mae\n",
      "\n",
      "WARNING - (py.warnings._showwarnmsg) - /Users/polina/fds/neural_prophet/neuralprophet/tools/metrics_libra.py:13: RuntimeWarning: divide by zero encountered in double_scalars\n",
      "  return y_pred_mae / naive_mae\n",
      "\n",
      "WARNING - (py.warnings._showwarnmsg) - /Users/polina/fds/neural_prophet/neuralprophet/tools/metrics_libra.py:13: RuntimeWarning: divide by zero encountered in double_scalars\n",
      "  return y_pred_mae / naive_mae\n",
      "\n",
      "WARNING - (py.warnings._showwarnmsg) - /Users/polina/fds/neural_prophet/neuralprophet/tools/metrics_libra.py:13: RuntimeWarning: divide by zero encountered in double_scalars\n",
      "  return y_pred_mae / naive_mae\n",
      "\n",
      "WARNING - (py.warnings._showwarnmsg) - /Users/polina/fds/neural_prophet/neuralprophet/tools/metrics_libra.py:13: RuntimeWarning: divide by zero encountered in double_scalars\n",
      "  return y_pred_mae / naive_mae\n",
      "\n",
      "WARNING - (py.warnings._showwarnmsg) - /Users/polina/fds/neural_prophet/neuralprophet/tools/metrics_libra.py:13: RuntimeWarning: divide by zero encountered in double_scalars\n",
      "  return y_pred_mae / naive_mae\n",
      "\n",
      "WARNING - (py.warnings._showwarnmsg) - /Users/polina/fds/neural_prophet/neuralprophet/tools/metrics_libra.py:13: RuntimeWarning: divide by zero encountered in double_scalars\n",
      "  return y_pred_mae / naive_mae\n",
      "\n",
      "WARNING - (py.warnings._showwarnmsg) - /Users/polina/fds/neural_prophet/neuralprophet/tools/metrics_libra.py:13: RuntimeWarning: divide by zero encountered in double_scalars\n",
      "  return y_pred_mae / naive_mae\n",
      "\n",
      "WARNING - (py.warnings._showwarnmsg) - /Users/polina/fds/neural_prophet/neuralprophet/tools/metrics_libra.py:13: RuntimeWarning: divide by zero encountered in double_scalars\n",
      "  return y_pred_mae / naive_mae\n",
      "\n",
      "WARNING - (py.warnings._showwarnmsg) - /Users/polina/fds/neural_prophet/neuralprophet/tools/metrics_libra.py:13: RuntimeWarning: divide by zero encountered in double_scalars\n",
      "  return y_pred_mae / naive_mae\n",
      "\n",
      "WARNING - (py.warnings._showwarnmsg) - /Users/polina/fds/neural_prophet/neuralprophet/tools/metrics_libra.py:13: RuntimeWarning: divide by zero encountered in double_scalars\n",
      "  return y_pred_mae / naive_mae\n",
      "\n",
      "WARNING - (py.warnings._showwarnmsg) - /Users/polina/fds/neural_prophet/neuralprophet/tools/metrics_libra.py:13: RuntimeWarning: divide by zero encountered in double_scalars\n",
      "  return y_pred_mae / naive_mae\n",
      "\n",
      "WARNING - (py.warnings._showwarnmsg) - /Users/polina/fds/neural_prophet/neuralprophet/tools/metrics_libra.py:13: RuntimeWarning: divide by zero encountered in double_scalars\n",
      "  return y_pred_mae / naive_mae\n",
      "\n",
      "WARNING - (py.warnings._showwarnmsg) - /Users/polina/fds/neural_prophet/neuralprophet/tools/metrics_libra.py:13: RuntimeWarning: divide by zero encountered in double_scalars\n",
      "  return y_pred_mae / naive_mae\n",
      "\n",
      "WARNING - (py.warnings._showwarnmsg) - /Users/polina/fds/neural_prophet/neuralprophet/tools/metrics_libra.py:13: RuntimeWarning: divide by zero encountered in double_scalars\n",
      "  return y_pred_mae / naive_mae\n",
      "\n",
      "WARNING - (py.warnings._showwarnmsg) - /Users/polina/fds/neural_prophet/neuralprophet/tools/metrics_libra.py:13: RuntimeWarning: divide by zero encountered in double_scalars\n",
      "  return y_pred_mae / naive_mae\n",
      "\n",
      "WARNING - (py.warnings._showwarnmsg) - /Users/polina/fds/neural_prophet/neuralprophet/tools/metrics_libra.py:13: RuntimeWarning: divide by zero encountered in double_scalars\n",
      "  return y_pred_mae / naive_mae\n",
      "\n",
      "WARNING - (py.warnings._showwarnmsg) - /Users/polina/fds/neural_prophet/neuralprophet/tools/metrics_libra.py:13: RuntimeWarning: divide by zero encountered in double_scalars\n",
      "  return y_pred_mae / naive_mae\n",
      "\n",
      "WARNING - (py.warnings._showwarnmsg) - /Users/polina/fds/neural_prophet/neuralprophet/tools/metrics_libra.py:13: RuntimeWarning: divide by zero encountered in double_scalars\n",
      "  return y_pred_mae / naive_mae\n",
      "\n",
      "WARNING - (py.warnings._showwarnmsg) - /Users/polina/fds/neural_prophet/neuralprophet/tools/metrics_libra.py:13: RuntimeWarning: divide by zero encountered in double_scalars\n",
      "  return y_pred_mae / naive_mae\n",
      "\n",
      "WARNING - (py.warnings._showwarnmsg) - /Users/polina/fds/neural_prophet/neuralprophet/tools/metrics_libra.py:13: RuntimeWarning: divide by zero encountered in double_scalars\n",
      "  return y_pred_mae / naive_mae\n",
      "\n",
      "WARNING - (py.warnings._showwarnmsg) - /Users/polina/fds/neural_prophet/neuralprophet/tools/metrics_libra.py:13: RuntimeWarning: divide by zero encountered in double_scalars\n",
      "  return y_pred_mae / naive_mae\n",
      "\n",
      "WARNING - (py.warnings._showwarnmsg) - /Users/polina/fds/neural_prophet/neuralprophet/tools/metrics_libra.py:13: RuntimeWarning: divide by zero encountered in double_scalars\n",
      "  return y_pred_mae / naive_mae\n",
      "\n"
     ]
    },
    {
     "name": "stderr",
     "output_type": "stream",
     "text": [
      "WARNING - (py.warnings._showwarnmsg) - /Users/polina/fds/neural_prophet/neuralprophet/tools/metrics_libra.py:13: RuntimeWarning: divide by zero encountered in double_scalars\n",
      "  return y_pred_mae / naive_mae\n",
      "\n",
      "WARNING - (py.warnings._showwarnmsg) - /Users/polina/fds/neural_prophet/neuralprophet/tools/metrics_libra.py:13: RuntimeWarning: divide by zero encountered in double_scalars\n",
      "  return y_pred_mae / naive_mae\n",
      "\n",
      "WARNING - (py.warnings._showwarnmsg) - /Users/polina/fds/neural_prophet/neuralprophet/tools/metrics_libra.py:13: RuntimeWarning: divide by zero encountered in double_scalars\n",
      "  return y_pred_mae / naive_mae\n",
      "\n",
      "WARNING - (py.warnings._showwarnmsg) - /Users/polina/fds/neural_prophet/neuralprophet/tools/metrics_libra.py:13: RuntimeWarning: divide by zero encountered in double_scalars\n",
      "  return y_pred_mae / naive_mae\n",
      "\n",
      "WARNING - (py.warnings._showwarnmsg) - /Users/polina/fds/neural_prophet/neuralprophet/tools/metrics_libra.py:13: RuntimeWarning: divide by zero encountered in double_scalars\n",
      "  return y_pred_mae / naive_mae\n",
      "\n",
      "WARNING - (py.warnings._showwarnmsg) - /Users/polina/fds/neural_prophet/neuralprophet/tools/metrics_libra.py:13: RuntimeWarning: divide by zero encountered in double_scalars\n",
      "  return y_pred_mae / naive_mae\n",
      "\n",
      "WARNING - (py.warnings._showwarnmsg) - /Users/polina/fds/neural_prophet/neuralprophet/tools/metrics_libra.py:13: RuntimeWarning: divide by zero encountered in double_scalars\n",
      "  return y_pred_mae / naive_mae\n",
      "\n",
      "WARNING - (py.warnings._showwarnmsg) - /Users/polina/fds/neural_prophet/neuralprophet/tools/metrics_libra.py:13: RuntimeWarning: divide by zero encountered in double_scalars\n",
      "  return y_pred_mae / naive_mae\n",
      "\n",
      "WARNING - (py.warnings._showwarnmsg) - /Users/polina/fds/neural_prophet/neuralprophet/tools/metrics_libra.py:13: RuntimeWarning: divide by zero encountered in double_scalars\n",
      "  return y_pred_mae / naive_mae\n",
      "\n",
      "WARNING - (py.warnings._showwarnmsg) - /Users/polina/fds/neural_prophet/neuralprophet/tools/metrics_libra.py:13: RuntimeWarning: divide by zero encountered in double_scalars\n",
      "  return y_pred_mae / naive_mae\n",
      "\n",
      "WARNING - (py.warnings._showwarnmsg) - /Users/polina/fds/neural_prophet/neuralprophet/tools/metrics_libra.py:13: RuntimeWarning: divide by zero encountered in double_scalars\n",
      "  return y_pred_mae / naive_mae\n",
      "\n",
      "WARNING - (py.warnings._showwarnmsg) - /Users/polina/fds/neural_prophet/neuralprophet/tools/metrics_libra.py:13: RuntimeWarning: divide by zero encountered in double_scalars\n",
      "  return y_pred_mae / naive_mae\n",
      "\n",
      "WARNING - (py.warnings._showwarnmsg) - /Users/polina/fds/neural_prophet/neuralprophet/tools/metrics_libra.py:13: RuntimeWarning: divide by zero encountered in double_scalars\n",
      "  return y_pred_mae / naive_mae\n",
      "\n",
      "WARNING - (py.warnings._showwarnmsg) - /Users/polina/fds/neural_prophet/neuralprophet/tools/metrics_libra.py:13: RuntimeWarning: divide by zero encountered in double_scalars\n",
      "  return y_pred_mae / naive_mae\n",
      "\n",
      "WARNING - (py.warnings._showwarnmsg) - /Users/polina/fds/neural_prophet/neuralprophet/tools/metrics_libra.py:13: RuntimeWarning: divide by zero encountered in double_scalars\n",
      "  return y_pred_mae / naive_mae\n",
      "\n",
      "WARNING - (py.warnings._showwarnmsg) - /Users/polina/fds/neural_prophet/neuralprophet/tools/metrics_libra.py:13: RuntimeWarning: divide by zero encountered in double_scalars\n",
      "  return y_pred_mae / naive_mae\n",
      "\n",
      "WARNING - (py.warnings._showwarnmsg) - /Users/polina/fds/neural_prophet/neuralprophet/tools/metrics_libra.py:13: RuntimeWarning: divide by zero encountered in double_scalars\n",
      "  return y_pred_mae / naive_mae\n",
      "\n",
      "WARNING - (py.warnings._showwarnmsg) - /Users/polina/fds/neural_prophet/neuralprophet/tools/metrics_libra.py:13: RuntimeWarning: divide by zero encountered in double_scalars\n",
      "  return y_pred_mae / naive_mae\n",
      "\n",
      "WARNING - (py.warnings._showwarnmsg) - /Users/polina/fds/neural_prophet/neuralprophet/tools/metrics_libra.py:13: RuntimeWarning: divide by zero encountered in double_scalars\n",
      "  return y_pred_mae / naive_mae\n",
      "\n",
      "WARNING - (py.warnings._showwarnmsg) - /Users/polina/fds/neural_prophet/neuralprophet/tools/metrics_libra.py:13: RuntimeWarning: divide by zero encountered in double_scalars\n",
      "  return y_pred_mae / naive_mae\n",
      "\n",
      "WARNING - (py.warnings._showwarnmsg) - /Users/polina/fds/neural_prophet/neuralprophet/tools/metrics_libra.py:13: RuntimeWarning: divide by zero encountered in double_scalars\n",
      "  return y_pred_mae / naive_mae\n",
      "\n",
      "WARNING - (py.warnings._showwarnmsg) - /Users/polina/fds/neural_prophet/neuralprophet/tools/metrics_libra.py:13: RuntimeWarning: divide by zero encountered in double_scalars\n",
      "  return y_pred_mae / naive_mae\n",
      "\n",
      "WARNING - (py.warnings._showwarnmsg) - /Users/polina/fds/neural_prophet/neuralprophet/tools/metrics_libra.py:13: RuntimeWarning: divide by zero encountered in double_scalars\n",
      "  return y_pred_mae / naive_mae\n",
      "\n",
      "WARNING - (py.warnings._showwarnmsg) - /Users/polina/fds/neural_prophet/neuralprophet/tools/metrics_libra.py:13: RuntimeWarning: divide by zero encountered in double_scalars\n",
      "  return y_pred_mae / naive_mae\n",
      "\n",
      "GPU available: False, used: False\n",
      "TPU available: False, using: 0 TPU cores\n",
      "\n",
      "   | Name                               | Type                            | Params\n",
      "----------------------------------------------------------------------------------------\n",
      "0  | loss                               | QuantileLoss                    | 0     \n",
      "1  | logging_metrics                    | ModuleList                      | 0     \n",
      "2  | input_embeddings                   | MultiEmbedding                  | 0     \n",
      "3  | prescalers                         | ModuleDict                      | 96    \n",
      "4  | static_variable_selection          | VariableSelectionNetwork        | 2.8 K \n",
      "5  | encoder_variable_selection         | VariableSelectionNetwork        | 2.9 K \n",
      "6  | decoder_variable_selection         | VariableSelectionNetwork        | 1.9 K \n",
      "7  | static_context_variable_selection  | GatedResidualNetwork            | 4.3 K \n",
      "8  | static_context_initial_hidden_lstm | GatedResidualNetwork            | 4.3 K \n",
      "9  | static_context_initial_cell_lstm   | GatedResidualNetwork            | 4.3 K \n",
      "10 | static_context_enrichment          | GatedResidualNetwork            | 4.3 K \n",
      "11 | lstm_encoder                       | LSTM                            | 8.4 K \n",
      "12 | lstm_decoder                       | LSTM                            | 8.4 K \n",
      "13 | post_lstm_gate_encoder             | GatedLinearUnit                 | 2.1 K \n",
      "14 | post_lstm_add_norm_encoder         | AddNorm                         | 64    \n",
      "15 | static_enrichment                  | GatedResidualNetwork            | 5.3 K \n",
      "16 | multihead_attn                     | InterpretableMultiHeadAttention | 4.2 K \n",
      "17 | post_attn_gate_norm                | GateAddNorm                     | 2.2 K \n",
      "18 | pos_wise_ff                        | GatedResidualNetwork            | 4.3 K \n",
      "19 | pre_output_gate_norm               | GateAddNorm                     | 2.2 K \n",
      "20 | output_layer                       | Linear                          | 231   \n",
      "----------------------------------------------------------------------------------------\n",
      "62.2 K    Trainable params\n",
      "0         Non-trainable params\n",
      "62.2 K    Total params\n",
      "0.249     Total estimated model params size (MB)\n"
     ]
    },
    {
     "data": {
      "application/vnd.jupyter.widget-view+json": {
       "model_id": "9400a6a8d00b4ee5bb6860eb638e2494",
       "version_major": 2,
       "version_minor": 0
      },
      "text/plain": [
       "Training: 0it [00:00, ?it/s]"
      ]
     },
     "metadata": {},
     "output_type": "display_data"
    }
   ],
   "source": [
    "\n",
    "metrics = {}\n",
    "\n",
    "counter = 0\n",
    "for dataset_name, df in tqdm(datasets.items()):\n",
    "    one_dataset_metrics = {}\n",
    "\n",
    "    idx_ts = int(dataset_name.split('.')[0].split('_')[-1])-1\n",
    "    freq_number = frequencies.iloc[\n",
    "        idx_ts][[col for col in frequencies.columns if usecase in col][0]]\n",
    "\n",
    "    freq = mapping(frequencies.iloc[\n",
    "        idx_ts][[col for col in frequencies.columns if usecase in col][0]])\n",
    "    \n",
    "    \n",
    "    n_epochs = 50\n",
    "    if len(df) == 372864:\n",
    "        freq = 'H'\n",
    "    if len(df) >= 5000:\n",
    "        n_epochs = 15\n",
    "    \n",
    "    n_lags = freq_number\n",
    "    \n",
    "    try:\n",
    "        method = 'LSTM_1step'\n",
    "        m = LSTM(n_lags = n_lags,\n",
    "                n_forecasts=n_forecasts,\n",
    "                learning_rate=0.01,\n",
    "                epochs=n_epochs)\n",
    "\n",
    "        tr, vl = split_df(df, n_lags = n_lags, n_forecasts = n_forecasts, valid_p = valid_p)\n",
    "        m.fit(tr, freq = freq)\n",
    "        future = m.make_future_dataframe(vl, periods = 0, n_historic_predictions=True)\n",
    "        forecast = m.predict(future)\n",
    "        fold = forecast.iloc[n_lags:][[f'yhat{i}' for i in range(1, n_forecasts+1)]]\n",
    "\n",
    "        y_predicted = [np.array(fold).diagonal(offset=-i) for i in range(len(fold) - n_forecasts + 1)]\n",
    "        y = np.array(vl[n_lags:][\"y\"])\n",
    "        y_rolled = [y[i : i + n_forecasts] for i in range(len(y) - n_forecasts + 1)]\n",
    "\n",
    "        y_naive = np.array(vl[n_lags-1:-1][\"y\"])\n",
    "        y_naive_rolled = [y_naive[i : i + n_forecasts] for i in range(len(y_naive) - n_forecasts + 1)]\n",
    "\n",
    "        smapes = np.mean([smape(y_rolled[i], y_predicted[i]) for i in range(len(y_rolled))])\n",
    "        mases = np.mean([mase(y_rolled[i], y_predicted[i], y_naive_rolled[i]) for i in range(len(y_rolled))])\n",
    "        mueses = np.mean([mues(y_rolled[i], y_predicted[i]) for i in range(len(y_rolled))])\n",
    "        moeses = np.mean([moes(y_rolled[i], y_predicted[i]) for i in range(len(y_rolled))])\n",
    "        muases = np.mean([muas(y_rolled[i], y_predicted[i]) for i in range(len(y_rolled))])\n",
    "        moases = np.mean([moas(y_rolled[i], y_predicted[i]) for i in range(len(y_rolled))])\n",
    "\n",
    "        one_dataset_metrics.update({\n",
    "            f'smape_{method}': smapes,\n",
    "            f'mase_{method}': mases,\n",
    "            f'mues_{method}': mueses,\n",
    "            f'moes_{method}': moeses,\n",
    "            f'muas_{method}': muases,\n",
    "            f'moas_{method}': moases\n",
    "\n",
    "        })\n",
    "    except:\n",
    "        one_dataset_metrics.update({\n",
    "            f'smape_{method}': None,\n",
    "            f'mase_{method}': None,\n",
    "            f'mues_{method}': None,\n",
    "            f'moes_{method}': None,\n",
    "            f'muas_{method}': None,\n",
    "            f'moas_{method}': None\n",
    "\n",
    "        })\n",
    "    \n",
    "    try:\n",
    "        method = 'NP_1step'\n",
    "        m = NeuralProphet(n_lags = n_lags,\n",
    "                n_forecasts=n_forecasts,\n",
    "                learning_rate=0.01,\n",
    "                epochs=n_epochs)\n",
    "\n",
    "        tr, vl = split_df(df, n_lags = n_lags, n_forecasts = n_forecasts, valid_p = valid_p)\n",
    "        m.fit(tr, freq = freq)\n",
    "        future = m.make_future_dataframe(vl, periods = 0, n_historic_predictions=True)\n",
    "        forecast = m.predict(future)\n",
    "        fold = forecast.iloc[n_lags:][[f'yhat{i}' for i in range(1, n_forecasts+1)]]\n",
    "\n",
    "        y_predicted = [np.array(fold).diagonal(offset=-i) for i in range(len(fold) - n_forecasts + 1)]\n",
    "        y = np.array(vl[n_lags:][\"y\"])\n",
    "        y_rolled = [y[i : i + n_forecasts] for i in range(len(y) - n_forecasts + 1)]\n",
    "\n",
    "        y_naive = np.array(vl[n_lags-1:-1][\"y\"])\n",
    "        y_naive_rolled = [y_naive[i : i + n_forecasts] for i in range(len(y_naive) - n_forecasts + 1)]\n",
    "\n",
    "        smapes = np.mean([smape(y_rolled[i], y_predicted[i]) for i in range(len(y_rolled))])\n",
    "        mases = np.mean([mase(y_rolled[i], y_predicted[i], y_naive_rolled[i]) for i in range(len(y_rolled))])\n",
    "        mueses = np.mean([mues(y_rolled[i], y_predicted[i]) for i in range(len(y_rolled))])\n",
    "        moeses = np.mean([moes(y_rolled[i], y_predicted[i]) for i in range(len(y_rolled))])\n",
    "        muases = np.mean([muas(y_rolled[i], y_predicted[i]) for i in range(len(y_rolled))])\n",
    "        moases = np.mean([moas(y_rolled[i], y_predicted[i]) for i in range(len(y_rolled))])\n",
    "\n",
    "        one_dataset_metrics.update({\n",
    "            f'smape_{method}': smapes,\n",
    "            f'mase_{method}': mases,\n",
    "            f'mues_{method}': mueses,\n",
    "            f'moes_{method}': moeses,\n",
    "            f'muas_{method}': muases,\n",
    "            f'moas_{method}': moases\n",
    "\n",
    "        })\n",
    "    except:\n",
    "        one_dataset_metrics.update({\n",
    "            f'smape_{method}': None,\n",
    "            f'mase_{method}': None,\n",
    "            f'mues_{method}': None,\n",
    "            f'moes_{method}': None,\n",
    "            f'muas_{method}': None,\n",
    "            f'moas_{method}': None\n",
    "\n",
    "        })\n",
    "    \n",
    "    try:\n",
    "        method = 'DeepAR_1step'\n",
    "        m = DeepAR(n_lags = int(n_lags),\n",
    "                n_forecasts=n_forecasts,\n",
    "                learning_rate=0.01,\n",
    "                epochs=n_epochs)\n",
    "\n",
    "        tr, vl = split_df(df, n_lags = n_lags, n_forecasts = n_forecasts, valid_p = valid_p)\n",
    "        m.fit(tr, freq = freq)\n",
    "        future = m.make_future_dataframe(vl, periods = 0, n_historic_predictions=True)\n",
    "        forecast = m.predict(future)\n",
    "        fold = forecast.iloc[n_lags:][[f'yhat{i}' for i in range(1, n_forecasts+1)]]\n",
    "\n",
    "        y_predicted = [np.array(fold).diagonal(offset=-i) for i in range(len(fold) - n_forecasts + 1)]\n",
    "        y = np.array(vl[n_lags:][\"y\"])\n",
    "        y_rolled = [y[i : i + n_forecasts] for i in range(len(y) - n_forecasts + 1)]\n",
    "\n",
    "        y_naive = np.array(vl[n_lags-1:-1][\"y\"])\n",
    "        y_naive_rolled = [y_naive[i : i + n_forecasts] for i in range(len(y_naive) - n_forecasts + 1)]\n",
    "\n",
    "        smapes = np.mean([smape(y_rolled[i], y_predicted[i]) for i in range(len(y_rolled))])\n",
    "        mases = np.mean([mase(y_rolled[i], y_predicted[i], y_naive_rolled[i]) for i in range(len(y_rolled))])\n",
    "        mueses = np.mean([mues(y_rolled[i], y_predicted[i]) for i in range(len(y_rolled))])\n",
    "        moeses = np.mean([moes(y_rolled[i], y_predicted[i]) for i in range(len(y_rolled))])\n",
    "        muases = np.mean([muas(y_rolled[i], y_predicted[i]) for i in range(len(y_rolled))])\n",
    "        moases = np.mean([moas(y_rolled[i], y_predicted[i]) for i in range(len(y_rolled))])\n",
    "\n",
    "        one_dataset_metrics.update({\n",
    "            f'smape_{method}': smapes,\n",
    "            f'mase_{method}': mases,\n",
    "            f'mues_{method}': mueses,\n",
    "            f'moes_{method}': moeses,\n",
    "            f'muas_{method}': muases,\n",
    "            f'moas_{method}': moases\n",
    "\n",
    "        })\n",
    "    except:\n",
    "        one_dataset_metrics.update({\n",
    "            f'smape_{method}': None,\n",
    "            f'mase_{method}': None,\n",
    "            f'mues_{method}': None,\n",
    "            f'moes_{method}': None,\n",
    "            f'muas_{method}': None,\n",
    "            f'moas_{method}': None\n",
    "\n",
    "        })\n",
    "        \n",
    "    try:\n",
    "\n",
    "        method = 'NBeats_1step'\n",
    "        m = NBeats(n_lags = int(n_lags),\n",
    "                n_forecasts=n_forecasts,\n",
    "                learning_rate=0.01,\n",
    "                epochs=n_epochs)\n",
    "\n",
    "        tr, vl = split_df(df, n_lags = n_lags, n_forecasts = n_forecasts, valid_p = valid_p)\n",
    "        m.fit(tr, freq = freq)\n",
    "        future = m.make_future_dataframe(vl, periods = 0, n_historic_predictions=True)\n",
    "        forecast = m.predict(future)\n",
    "        fold = forecast.iloc[n_lags:][[f'yhat{i}' for i in range(1, n_forecasts+1)]]\n",
    "\n",
    "        y_predicted = [np.array(fold).diagonal(offset=-i) for i in range(len(fold) - n_forecasts + 1)]\n",
    "        y = np.array(vl[n_lags:][\"y\"])\n",
    "        y_rolled = [y[i : i + n_forecasts] for i in range(len(y) - n_forecasts + 1)]\n",
    "\n",
    "        y_naive = np.array(vl[n_lags-1:-1][\"y\"])\n",
    "        y_naive_rolled = [y_naive[i : i + n_forecasts] for i in range(len(y_naive) - n_forecasts + 1)]\n",
    "\n",
    "        smapes = np.mean([smape(y_rolled[i], y_predicted[i]) for i in range(len(y_rolled))])\n",
    "        mases = np.mean([mase(y_rolled[i], y_predicted[i], y_naive_rolled[i]) for i in range(len(y_rolled))])\n",
    "        mueses = np.mean([mues(y_rolled[i], y_predicted[i]) for i in range(len(y_rolled))])\n",
    "        moeses = np.mean([moes(y_rolled[i], y_predicted[i]) for i in range(len(y_rolled))])\n",
    "        muases = np.mean([muas(y_rolled[i], y_predicted[i]) for i in range(len(y_rolled))])\n",
    "        moases = np.mean([moas(y_rolled[i], y_predicted[i]) for i in range(len(y_rolled))])\n",
    "\n",
    "        one_dataset_metrics.update({\n",
    "            f'smape_{method}': smapes,\n",
    "            f'mase_{method}': mases,\n",
    "            f'mues_{method}': mueses,\n",
    "            f'moes_{method}': moeses,\n",
    "            f'muas_{method}': muases,\n",
    "            f'moas_{method}': moases\n",
    "\n",
    "        })\n",
    "    except:\n",
    "        one_dataset_metrics.update({\n",
    "            f'smape_{method}': None,\n",
    "            f'mase_{method}': None,\n",
    "            f'mues_{method}': None,\n",
    "            f'moes_{method}': None,\n",
    "            f'muas_{method}': None,\n",
    "            f'moas_{method}': None\n",
    "\n",
    "        })\n",
    "        \n",
    "    try:\n",
    "    \n",
    "        method = 'TFT_1step'\n",
    "        m = TFT(n_lags = int(n_lags),\n",
    "                n_forecasts=n_forecasts,\n",
    "                learning_rate=0.01,\n",
    "                epochs=n_epochs)\n",
    "\n",
    "        tr, vl = split_df(df, n_lags = n_lags, n_forecasts = n_forecasts, valid_p = valid_p)\n",
    "        m.fit(tr, freq = freq)\n",
    "        future = m.make_future_dataframe(vl, periods = 0, n_historic_predictions=True)\n",
    "        forecast = m.predict(future)\n",
    "        fold = forecast.iloc[n_lags:][[f'yhat{i}' for i in range(1, n_forecasts+1)]]\n",
    "\n",
    "        y_predicted = [np.array(fold).diagonal(offset=-i) for i in range(len(fold) - n_forecasts + 1)]\n",
    "        y = np.array(vl[n_lags:][\"y\"])\n",
    "        y_rolled = [y[i : i + n_forecasts] for i in range(len(y) - n_forecasts + 1)]\n",
    "\n",
    "        y_naive = np.array(vl[n_lags-1:-1][\"y\"])\n",
    "        y_naive_rolled = [y_naive[i : i + n_forecasts] for i in range(len(y_naive) - n_forecasts + 1)]\n",
    "\n",
    "        smapes = np.mean([smape(y_rolled[i], y_predicted[i]) for i in range(len(y_rolled))])\n",
    "        mases = np.mean([mase(y_rolled[i], y_predicted[i], y_naive_rolled[i]) for i in range(len(y_rolled))])\n",
    "        mueses = np.mean([mues(y_rolled[i], y_predicted[i]) for i in range(len(y_rolled))])\n",
    "        moeses = np.mean([moes(y_rolled[i], y_predicted[i]) for i in range(len(y_rolled))])\n",
    "        muases = np.mean([muas(y_rolled[i], y_predicted[i]) for i in range(len(y_rolled))])\n",
    "        moases = np.mean([moas(y_rolled[i], y_predicted[i]) for i in range(len(y_rolled))])\n",
    "\n",
    "        one_dataset_metrics.update({\n",
    "            f'smape_{method}': smapes,\n",
    "            f'mase_{method}': mases,\n",
    "            f'mues_{method}': mueses,\n",
    "            f'moes_{method}': moeses,\n",
    "            f'muas_{method}': muases,\n",
    "            f'moas_{method}': moases\n",
    "\n",
    "        })\n",
    "    except:\n",
    "        one_dataset_metrics.update({\n",
    "            f'smape_{method}': None,\n",
    "            f'mase_{method}': None,\n",
    "            f'mues_{method}': None,\n",
    "            f'moes_{method}': None,\n",
    "            f'muas_{method}': None,\n",
    "            f'moas_{method}': None\n",
    "\n",
    "        })\n",
    "    \n",
    "    metrics.update({dataset_name:one_dataset_metrics})\n",
    "    pd.DataFrame(metrics).to_csv('results_libra_one_step_ahead.csv', index = False)\n",
    "    counter += 1"
   ]
  },
  {
   "cell_type": "code",
   "execution_count": 13,
   "id": "6bbf2a10",
   "metadata": {},
   "outputs": [
    {
     "data": {
      "text/plain": [
       "{'smape_LSTM_1step': 20.418674254310872,\n",
       " 'mase_LSTM_1step': inf,\n",
       " 'mues_LSTM_1step': 0.47508021390374333,\n",
       " 'moes_LSTM_1step': 0.5249197860962567,\n",
       " 'muas_LSTM_1step': 0.09040808336407914,\n",
       " 'moas_LSTM_1step': 0.11101145703132419,\n",
       " 'smape_NP_1step': 22.790359228547715,\n",
       " 'mase_NP_1step': inf,\n",
       " 'mues_NP_1step': 0.586951871657754,\n",
       " 'moes_NP_1step': 0.41304812834224597,\n",
       " 'muas_NP_1step': 0.1306699410925096,\n",
       " 'moas_NP_1step': 0.07383915802907821}"
      ]
     },
     "execution_count": 13,
     "metadata": {},
     "output_type": "execute_result"
    }
   ],
   "source": [
    "one_dataset_metrics"
   ]
  },
  {
   "cell_type": "code",
   "execution_count": null,
   "id": "b364c147",
   "metadata": {},
   "outputs": [],
   "source": []
  },
  {
   "cell_type": "code",
   "execution_count": null,
   "id": "1d4a1138",
   "metadata": {},
   "outputs": [],
   "source": []
  },
  {
   "cell_type": "code",
   "execution_count": 12,
   "id": "e71ad7b1",
   "metadata": {},
   "outputs": [
    {
     "data": {
      "text/html": [
       "<div>\n",
       "<style scoped>\n",
       "    .dataframe tbody tr th:only-of-type {\n",
       "        vertical-align: middle;\n",
       "    }\n",
       "\n",
       "    .dataframe tbody tr th {\n",
       "        vertical-align: top;\n",
       "    }\n",
       "\n",
       "    .dataframe thead th {\n",
       "        text-align: right;\n",
       "    }\n",
       "</style>\n",
       "<table border=\"1\" class=\"dataframe\">\n",
       "  <thead>\n",
       "    <tr style=\"text-align: right;\">\n",
       "      <th></th>\n",
       "      <th>nature_83.csv</th>\n",
       "      <th>nature_97.csv</th>\n",
       "      <th>nature_68.csv</th>\n",
       "    </tr>\n",
       "  </thead>\n",
       "  <tbody>\n",
       "    <tr>\n",
       "      <th>smape_LSTM_1step</th>\n",
       "      <td>27.951449</td>\n",
       "      <td>4.729316</td>\n",
       "      <td>0.648162</td>\n",
       "    </tr>\n",
       "    <tr>\n",
       "      <th>mase_LSTM_1step</th>\n",
       "      <td>inf</td>\n",
       "      <td>1.461250</td>\n",
       "      <td>1.142757</td>\n",
       "    </tr>\n",
       "    <tr>\n",
       "      <th>mues_LSTM_1step</th>\n",
       "      <td>0.313953</td>\n",
       "      <td>0.833333</td>\n",
       "      <td>0.333333</td>\n",
       "    </tr>\n",
       "    <tr>\n",
       "      <th>moes_LSTM_1step</th>\n",
       "      <td>0.686047</td>\n",
       "      <td>0.166667</td>\n",
       "      <td>0.666667</td>\n",
       "    </tr>\n",
       "    <tr>\n",
       "      <th>muas_LSTM_1step</th>\n",
       "      <td>0.041594</td>\n",
       "      <td>0.038117</td>\n",
       "      <td>0.001920</td>\n",
       "    </tr>\n",
       "    <tr>\n",
       "      <th>moas_LSTM_1step</th>\n",
       "      <td>0.323415</td>\n",
       "      <td>0.008177</td>\n",
       "      <td>0.004579</td>\n",
       "    </tr>\n",
       "    <tr>\n",
       "      <th>smape_NP_1step</th>\n",
       "      <td>127.158320</td>\n",
       "      <td>8.079982</td>\n",
       "      <td>1.764798</td>\n",
       "    </tr>\n",
       "    <tr>\n",
       "      <th>mase_NP_1step</th>\n",
       "      <td>inf</td>\n",
       "      <td>2.285864</td>\n",
       "      <td>2.887845</td>\n",
       "    </tr>\n",
       "    <tr>\n",
       "      <th>mues_NP_1step</th>\n",
       "      <td>0.139535</td>\n",
       "      <td>0.000000</td>\n",
       "      <td>0.636364</td>\n",
       "    </tr>\n",
       "    <tr>\n",
       "      <th>moes_NP_1step</th>\n",
       "      <td>0.860465</td>\n",
       "      <td>1.000000</td>\n",
       "      <td>0.363636</td>\n",
       "    </tr>\n",
       "    <tr>\n",
       "      <th>muas_NP_1step</th>\n",
       "      <td>0.124129</td>\n",
       "      <td>0.000000</td>\n",
       "      <td>0.012649</td>\n",
       "    </tr>\n",
       "    <tr>\n",
       "      <th>moas_NP_1step</th>\n",
       "      <td>1.779007</td>\n",
       "      <td>0.084934</td>\n",
       "      <td>0.004858</td>\n",
       "    </tr>\n",
       "    <tr>\n",
       "      <th>smape_DeepAR_1step</th>\n",
       "      <td>36.443706</td>\n",
       "      <td>39.965633</td>\n",
       "      <td>1.598473</td>\n",
       "    </tr>\n",
       "    <tr>\n",
       "      <th>mase_DeepAR_1step</th>\n",
       "      <td>inf</td>\n",
       "      <td>14.816531</td>\n",
       "      <td>2.754480</td>\n",
       "    </tr>\n",
       "    <tr>\n",
       "      <th>mues_DeepAR_1step</th>\n",
       "      <td>0.441860</td>\n",
       "      <td>0.000000</td>\n",
       "      <td>0.484848</td>\n",
       "    </tr>\n",
       "    <tr>\n",
       "      <th>moes_DeepAR_1step</th>\n",
       "      <td>0.558140</td>\n",
       "      <td>1.000000</td>\n",
       "      <td>0.515152</td>\n",
       "    </tr>\n",
       "    <tr>\n",
       "      <th>muas_DeepAR_1step</th>\n",
       "      <td>0.115077</td>\n",
       "      <td>0.000000</td>\n",
       "      <td>0.008254</td>\n",
       "    </tr>\n",
       "    <tr>\n",
       "      <th>moas_DeepAR_1step</th>\n",
       "      <td>0.342790</td>\n",
       "      <td>0.510957</td>\n",
       "      <td>0.007702</td>\n",
       "    </tr>\n",
       "    <tr>\n",
       "      <th>smape_NBeats_1step</th>\n",
       "      <td>24.802322</td>\n",
       "      <td>5.855854</td>\n",
       "      <td>0.644280</td>\n",
       "    </tr>\n",
       "    <tr>\n",
       "      <th>mase_NBeats_1step</th>\n",
       "      <td>inf</td>\n",
       "      <td>1.775452</td>\n",
       "      <td>1.326193</td>\n",
       "    </tr>\n",
       "    <tr>\n",
       "      <th>mues_NBeats_1step</th>\n",
       "      <td>0.523256</td>\n",
       "      <td>0.916667</td>\n",
       "      <td>0.454545</td>\n",
       "    </tr>\n",
       "    <tr>\n",
       "      <th>moes_NBeats_1step</th>\n",
       "      <td>0.476744</td>\n",
       "      <td>0.083333</td>\n",
       "      <td>0.545455</td>\n",
       "    </tr>\n",
       "    <tr>\n",
       "      <th>muas_NBeats_1step</th>\n",
       "      <td>0.092323</td>\n",
       "      <td>0.050524</td>\n",
       "      <td>0.002323</td>\n",
       "    </tr>\n",
       "    <tr>\n",
       "      <th>moas_NBeats_1step</th>\n",
       "      <td>0.181669</td>\n",
       "      <td>0.006346</td>\n",
       "      <td>0.004137</td>\n",
       "    </tr>\n",
       "    <tr>\n",
       "      <th>smape_TFT_1step</th>\n",
       "      <td>24.962965</td>\n",
       "      <td>10.010367</td>\n",
       "      <td>1.557637</td>\n",
       "    </tr>\n",
       "    <tr>\n",
       "      <th>mase_TFT_1step</th>\n",
       "      <td>inf</td>\n",
       "      <td>2.443919</td>\n",
       "      <td>2.493407</td>\n",
       "    </tr>\n",
       "    <tr>\n",
       "      <th>mues_TFT_1step</th>\n",
       "      <td>0.546512</td>\n",
       "      <td>0.666667</td>\n",
       "      <td>0.484848</td>\n",
       "    </tr>\n",
       "    <tr>\n",
       "      <th>moes_TFT_1step</th>\n",
       "      <td>0.453488</td>\n",
       "      <td>0.333333</td>\n",
       "      <td>0.515152</td>\n",
       "    </tr>\n",
       "    <tr>\n",
       "      <th>muas_TFT_1step</th>\n",
       "      <td>0.122794</td>\n",
       "      <td>0.063758</td>\n",
       "      <td>0.009985</td>\n",
       "    </tr>\n",
       "    <tr>\n",
       "      <th>moas_TFT_1step</th>\n",
       "      <td>0.129210</td>\n",
       "      <td>0.034641</td>\n",
       "      <td>0.005493</td>\n",
       "    </tr>\n",
       "  </tbody>\n",
       "</table>\n",
       "</div>"
      ],
      "text/plain": [
       "                    nature_83.csv  nature_97.csv  nature_68.csv\n",
       "smape_LSTM_1step        27.951449       4.729316       0.648162\n",
       "mase_LSTM_1step               inf       1.461250       1.142757\n",
       "mues_LSTM_1step          0.313953       0.833333       0.333333\n",
       "moes_LSTM_1step          0.686047       0.166667       0.666667\n",
       "muas_LSTM_1step          0.041594       0.038117       0.001920\n",
       "moas_LSTM_1step          0.323415       0.008177       0.004579\n",
       "smape_NP_1step         127.158320       8.079982       1.764798\n",
       "mase_NP_1step                 inf       2.285864       2.887845\n",
       "mues_NP_1step            0.139535       0.000000       0.636364\n",
       "moes_NP_1step            0.860465       1.000000       0.363636\n",
       "muas_NP_1step            0.124129       0.000000       0.012649\n",
       "moas_NP_1step            1.779007       0.084934       0.004858\n",
       "smape_DeepAR_1step      36.443706      39.965633       1.598473\n",
       "mase_DeepAR_1step             inf      14.816531       2.754480\n",
       "mues_DeepAR_1step        0.441860       0.000000       0.484848\n",
       "moes_DeepAR_1step        0.558140       1.000000       0.515152\n",
       "muas_DeepAR_1step        0.115077       0.000000       0.008254\n",
       "moas_DeepAR_1step        0.342790       0.510957       0.007702\n",
       "smape_NBeats_1step      24.802322       5.855854       0.644280\n",
       "mase_NBeats_1step             inf       1.775452       1.326193\n",
       "mues_NBeats_1step        0.523256       0.916667       0.454545\n",
       "moes_NBeats_1step        0.476744       0.083333       0.545455\n",
       "muas_NBeats_1step        0.092323       0.050524       0.002323\n",
       "moas_NBeats_1step        0.181669       0.006346       0.004137\n",
       "smape_TFT_1step         24.962965      10.010367       1.557637\n",
       "mase_TFT_1step                inf       2.443919       2.493407\n",
       "mues_TFT_1step           0.546512       0.666667       0.484848\n",
       "moes_TFT_1step           0.453488       0.333333       0.515152\n",
       "muas_TFT_1step           0.122794       0.063758       0.009985\n",
       "moas_TFT_1step           0.129210       0.034641       0.005493"
      ]
     },
     "execution_count": 12,
     "metadata": {},
     "output_type": "execute_result"
    }
   ],
   "source": [
    "pd.DataFrame(metrics)"
   ]
  },
  {
   "cell_type": "code",
   "execution_count": null,
   "id": "bca2786f",
   "metadata": {},
   "outputs": [],
   "source": []
  },
  {
   "cell_type": "code",
   "execution_count": null,
   "id": "28530df5",
   "metadata": {},
   "outputs": [],
   "source": []
  },
  {
   "cell_type": "code",
   "execution_count": null,
   "id": "b61cdd73",
   "metadata": {},
   "outputs": [],
   "source": []
  },
  {
   "cell_type": "code",
   "execution_count": null,
   "id": "3cfd29be",
   "metadata": {},
   "outputs": [],
   "source": []
  },
  {
   "cell_type": "markdown",
   "id": "b7171cfa",
   "metadata": {},
   "source": [
    "# Multi step ahead"
   ]
  },
  {
   "cell_type": "code",
   "execution_count": null,
   "id": "b3e942b1",
   "metadata": {},
   "outputs": [],
   "source": [
    "valid_p = 0.2\n",
    "n_forecasts_p = 0.2"
   ]
  },
  {
   "cell_type": "code",
   "execution_count": null,
   "id": "bcc78e82",
   "metadata": {},
   "outputs": [],
   "source": [
    "\n",
    "metrics = {}\n",
    "\n",
    "counter = 0\n",
    "for dataset_name, df in datasets.items():\n",
    "\n",
    "    idx_ts = int(dataset_name.split('.')[0].split('_')[-1])-1\n",
    "    freq_number = frequencies.iloc[\n",
    "        idx_ts][[col for col in frequencies.columns if usecase in col][0]]\n",
    "\n",
    "    freq = mapping(frequencies.iloc[\n",
    "        idx_ts][[col for col in frequencies.columns if usecase in col][0]])\n",
    "    \n",
    "    n_lags = freq_number\n",
    "    n_forecasts = int(n_forecasts_p*len(df))\n",
    "    \n",
    "    method = 'LSTM_1step'\n",
    "    m = LSTM(n_lags = n_lags,\n",
    "            n_forecasts=n_forecasts,\n",
    "            learning_rate=0.01,\n",
    "            epochs=50)\n",
    "    \n",
    "    tr, vl = split_df(df, n_lags = n_lags, n_forecasts = n_forecasts, valid_p = valid_p)\n",
    "    m.fit(tr, freq = freq)\n",
    "    future = m.make_future_dataframe(vl, periods = 0, n_historic_predictions=True)\n",
    "    forecast = m.predict(future)\n",
    "    fold = forecast.iloc[n_lags:][[f'yhat{i}' for i in range(1, n_forecasts+1)]]\n",
    "\n",
    "    y_predicted = [np.array(fold).diagonal(offset=-i) for i in range(len(fold) - n_forecasts + 1)]\n",
    "    y = np.array(vl[n_lags:][\"y\"])\n",
    "    y_rolled = [y[i : i + n_forecasts] for i in range(len(y) - n_forecasts + 1)]\n",
    "    \n",
    "    y_naive = np.array(vl[n_lags-1:-1][\"y\"])\n",
    "    y_naive_rolled = [y_naive[i : i + n_forecasts] for i in range(len(y_naive) - n_forecasts + 1)]\n",
    "    \n",
    "    smapes = np.mean([smape(y_rolled[i], y_predicted[i]) for i in range(len(y_rolled))])\n",
    "    mases = np.mean([mase(y_rolled[i], y_predicted[i], y_naive_rolled[i]) for i in range(len(y_rolled))])\n",
    "    mueses = np.mean([mues(y_rolled[i], y_predicted[i]) for i in range(len(y_rolled))])\n",
    "    moeses = np.mean([moes(y_rolled[i], y_predicted[i]) for i in range(len(y_rolled))])\n",
    "    muases = np.mean([muas(y_rolled[i], y_predicted[i]) for i in range(len(y_rolled))])\n",
    "    moases = np.mean([moas(y_rolled[i], y_predicted[i]) for i in range(len(y_rolled))])\n",
    "    \n",
    "    metrics.update({dataset_name:{\n",
    "        f'smape_{method}': smapes,\n",
    "        f'mase_{method}': mases,\n",
    "        f'mues_{method}': mueses,\n",
    "        f'moes_{method}': moeses,\n",
    "        f'muas_{method}': muases,\n",
    "        f'moas_{method}': moases\n",
    "        \n",
    "    }})\n",
    "    \n",
    "    \n",
    "    method = 'NP_1step'\n",
    "    m = NeuralProphet(n_lags = n_lags,\n",
    "            n_forecasts=n_forecasts,\n",
    "            learning_rate=0.01,\n",
    "            epochs=50)\n",
    "    \n",
    "    tr, vl = split_df(df, n_lags = n_lags, n_forecasts = n_forecasts, valid_p = valid_p)\n",
    "    m.fit(tr, freq = freq)\n",
    "    future = m.make_future_dataframe(vl, periods = 0, n_historic_predictions=True)\n",
    "    forecast = m.predict(future)\n",
    "    fold = forecast.iloc[n_lags:][[f'yhat{i}' for i in range(1, n_forecasts+1)]]\n",
    "\n",
    "    y_predicted = [np.array(fold).diagonal(offset=-i) for i in range(len(fold) - n_forecasts + 1)]\n",
    "    y = np.array(vl[n_lags:][\"y\"])\n",
    "    y_rolled = [y[i : i + n_forecasts] for i in range(len(y) - n_forecasts + 1)]\n",
    "    \n",
    "    y_naive = np.array(vl[n_lags-1:-1][\"y\"])\n",
    "    y_naive_rolled = [y_naive[i : i + n_forecasts] for i in range(len(y_naive) - n_forecasts + 1)]\n",
    "    \n",
    "    smapes = np.mean([smape(y_rolled[i], y_predicted[i]) for i in range(len(y_rolled))])\n",
    "    mases = np.mean([mase(y_rolled[i], y_predicted[i], y_naive_rolled[i]) for i in range(len(y_rolled))])\n",
    "    mueses = np.mean([mues(y_rolled[i], y_predicted[i]) for i in range(len(y_rolled))])\n",
    "    moeses = np.mean([moes(y_rolled[i], y_predicted[i]) for i in range(len(y_rolled))])\n",
    "    muases = np.mean([muas(y_rolled[i], y_predicted[i]) for i in range(len(y_rolled))])\n",
    "    moases = np.mean([moas(y_rolled[i], y_predicted[i]) for i in range(len(y_rolled))])\n",
    "    \n",
    "    metrics.update({dataset_name:{\n",
    "        f'smape_{method}': smapes,\n",
    "        f'mase_{method}': mases,\n",
    "        f'mues_{method}': mueses,\n",
    "        f'moes_{method}': moeses,\n",
    "        f'muas_{method}': muases,\n",
    "        f'moas_{method}': moases\n",
    "        \n",
    "    }})\n",
    "    \n",
    "    \n",
    "    method = 'DeepAR_1step'\n",
    "    m = DeepAR(n_lags = int(n_lags),\n",
    "            n_forecasts=n_forecasts,\n",
    "            learning_rate=0.01,\n",
    "            epochs=50)\n",
    "    \n",
    "    tr, vl = split_df(df, n_lags = n_lags, n_forecasts = n_forecasts, valid_p = valid_p)\n",
    "    m.fit(tr, freq = freq)\n",
    "    future = m.make_future_dataframe(vl, periods = 0, n_historic_predictions=True)\n",
    "    forecast = m.predict(future)\n",
    "    fold = forecast.iloc[n_lags:][[f'yhat{i}' for i in range(1, n_forecasts+1)]]\n",
    "\n",
    "    y_predicted = [np.array(fold).diagonal(offset=-i) for i in range(len(fold) - n_forecasts + 1)]\n",
    "    y = np.array(vl[n_lags:][\"y\"])\n",
    "    y_rolled = [y[i : i + n_forecasts] for i in range(len(y) - n_forecasts + 1)]\n",
    "    \n",
    "    y_naive = np.array(vl[n_lags-1:-1][\"y\"])\n",
    "    y_naive_rolled = [y_naive[i : i + n_forecasts] for i in range(len(y_naive) - n_forecasts + 1)]\n",
    "    \n",
    "    smapes = np.mean([smape(y_rolled[i], y_predicted[i]) for i in range(len(y_rolled))])\n",
    "    mases = np.mean([mase(y_rolled[i], y_predicted[i], y_naive_rolled[i]) for i in range(len(y_rolled))])\n",
    "    mueses = np.mean([mues(y_rolled[i], y_predicted[i]) for i in range(len(y_rolled))])\n",
    "    moeses = np.mean([moes(y_rolled[i], y_predicted[i]) for i in range(len(y_rolled))])\n",
    "    muases = np.mean([muas(y_rolled[i], y_predicted[i]) for i in range(len(y_rolled))])\n",
    "    moases = np.mean([moas(y_rolled[i], y_predicted[i]) for i in range(len(y_rolled))])\n",
    "    \n",
    "    metrics.update({dataset_name:{\n",
    "        f'smape_{method}': smapes,\n",
    "        f'mase_{method}': mases,\n",
    "        f'mues_{method}': mueses,\n",
    "        f'moes_{method}': moeses,\n",
    "        f'muas_{method}': muases,\n",
    "        f'moas_{method}': moases\n",
    "        \n",
    "    }})\n",
    "    \n",
    "    method = 'NBeats_1step'\n",
    "    m = NBeats(n_lags = int(n_lags),\n",
    "            n_forecasts=n_forecasts,\n",
    "            learning_rate=0.01,\n",
    "            epochs=50)\n",
    "    \n",
    "    tr, vl = split_df(df, n_lags = n_lags, n_forecasts = n_forecasts, valid_p = valid_p)\n",
    "    m.fit(tr, freq = freq)\n",
    "    future = m.make_future_dataframe(vl, periods = 0, n_historic_predictions=True)\n",
    "    forecast = m.predict(future)\n",
    "    fold = forecast.iloc[n_lags:][[f'yhat{i}' for i in range(1, n_forecasts+1)]]\n",
    "\n",
    "    y_predicted = [np.array(fold).diagonal(offset=-i) for i in range(len(fold) - n_forecasts + 1)]\n",
    "    y = np.array(vl[n_lags:][\"y\"])\n",
    "    y_rolled = [y[i : i + n_forecasts] for i in range(len(y) - n_forecasts + 1)]\n",
    "    \n",
    "    y_naive = np.array(vl[n_lags-1:-1][\"y\"])\n",
    "    y_naive_rolled = [y_naive[i : i + n_forecasts] for i in range(len(y_naive) - n_forecasts + 1)]\n",
    "    \n",
    "    smapes = np.mean([smape(y_rolled[i], y_predicted[i]) for i in range(len(y_rolled))])\n",
    "    mases = np.mean([mase(y_rolled[i], y_predicted[i], y_naive_rolled[i]) for i in range(len(y_rolled))])\n",
    "    mueses = np.mean([mues(y_rolled[i], y_predicted[i]) for i in range(len(y_rolled))])\n",
    "    moeses = np.mean([moes(y_rolled[i], y_predicted[i]) for i in range(len(y_rolled))])\n",
    "    muases = np.mean([muas(y_rolled[i], y_predicted[i]) for i in range(len(y_rolled))])\n",
    "    moases = np.mean([moas(y_rolled[i], y_predicted[i]) for i in range(len(y_rolled))])\n",
    "    \n",
    "    metrics.update({dataset_name:{\n",
    "        f'smape_{method}': smapes,\n",
    "        f'mase_{method}': mases,\n",
    "        f'mues_{method}': mueses,\n",
    "        f'moes_{method}': moeses,\n",
    "        f'muas_{method}': muases,\n",
    "        f'moas_{method}': moases\n",
    "        \n",
    "    }})\n",
    "    \n",
    "    method = 'TFT_1step'\n",
    "    m = TFT(n_lags = int(n_lags),\n",
    "            n_forecasts=n_forecasts,\n",
    "            learning_rate=0.01,\n",
    "            epochs=50)\n",
    "    \n",
    "    tr, vl = split_df(df, n_lags = n_lags, n_forecasts = n_forecasts, valid_p = valid_p)\n",
    "    m.fit(tr, freq = freq)\n",
    "    future = m.make_future_dataframe(vl, periods = 0, n_historic_predictions=True)\n",
    "    forecast = m.predict(future)\n",
    "    fold = forecast.iloc[n_lags:][[f'yhat{i}' for i in range(1, n_forecasts+1)]]\n",
    "\n",
    "    y_predicted = [np.array(fold).diagonal(offset=-i) for i in range(len(fold) - n_forecasts + 1)]\n",
    "    y = np.array(vl[n_lags:][\"y\"])\n",
    "    y_rolled = [y[i : i + n_forecasts] for i in range(len(y) - n_forecasts + 1)]\n",
    "    \n",
    "    y_naive = np.array(vl[n_lags-1:-1][\"y\"])\n",
    "    y_naive_rolled = [y_naive[i : i + n_forecasts] for i in range(len(y_naive) - n_forecasts + 1)]\n",
    "    \n",
    "    smapes = np.mean([smape(y_rolled[i], y_predicted[i]) for i in range(len(y_rolled))])\n",
    "    mases = np.mean([mase(y_rolled[i], y_predicted[i], y_naive_rolled[i]) for i in range(len(y_rolled))])\n",
    "    mueses = np.mean([mues(y_rolled[i], y_predicted[i]) for i in range(len(y_rolled))])\n",
    "    moeses = np.mean([moes(y_rolled[i], y_predicted[i]) for i in range(len(y_rolled))])\n",
    "    muases = np.mean([muas(y_rolled[i], y_predicted[i]) for i in range(len(y_rolled))])\n",
    "    moases = np.mean([moas(y_rolled[i], y_predicted[i]) for i in range(len(y_rolled))])\n",
    "    \n",
    "    metrics.update({dataset_name:{\n",
    "        f'smape_{method}': smapes,\n",
    "        f'mase_{method}': mases,\n",
    "        f'mues_{method}': mueses,\n",
    "        f'moes_{method}': moeses,\n",
    "        f'muas_{method}': muases,\n",
    "        f'moas_{method}': moases\n",
    "        \n",
    "    }})\n",
    "    \n",
    "    \n",
    "    \n",
    "    counter += 1"
   ]
  },
  {
   "cell_type": "code",
   "execution_count": null,
   "id": "9cb55ec6",
   "metadata": {},
   "outputs": [],
   "source": [
    "pd.DataFrame(metrics)"
   ]
  },
  {
   "cell_type": "code",
   "execution_count": null,
   "id": "6a80482b",
   "metadata": {},
   "outputs": [],
   "source": []
  },
  {
   "cell_type": "code",
   "execution_count": null,
   "id": "4f35a1e3",
   "metadata": {},
   "outputs": [],
   "source": []
  },
  {
   "cell_type": "code",
   "execution_count": null,
   "id": "9f376165",
   "metadata": {},
   "outputs": [],
   "source": []
  },
  {
   "cell_type": "code",
   "execution_count": null,
   "id": "f8c18a4d",
   "metadata": {},
   "outputs": [],
   "source": []
  }
 ],
 "metadata": {
  "kernelspec": {
   "display_name": "Python 3",
   "language": "python",
   "name": "python3"
  },
  "language_info": {
   "codemirror_mode": {
    "name": "ipython",
    "version": 3
   },
   "file_extension": ".py",
   "mimetype": "text/x-python",
   "name": "python",
   "nbconvert_exporter": "python",
   "pygments_lexer": "ipython3",
   "version": "3.7.10"
  }
 },
 "nbformat": 4,
 "nbformat_minor": 5
}
