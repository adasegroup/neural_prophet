{
 "cells": [
  {
   "cell_type": "markdown",
   "id": "edcd56c5",
   "metadata": {},
   "source": [
    "[![Open In Colab](https://colab.research.google.com/assets/colab-badge.svg)](https://colab.research.google.com/github/ourownstory/neural_prophet/blob/master/example_notebooks/autoregression_yosemite_temps.ipynb)"
   ]
  },
  {
   "cell_type": "markdown",
   "id": "08d8341d",
   "metadata": {},
   "source": [
    "# DeepAR\n",
    "\n",
    "This is a DeepAR model module usage example. We implemented this model under the same API as NeuralProphet, for easy comparison of the results of NeuralProphet and SOTA models.\n",
    "\n",
    "We used as the base the implementation of DeepAR from Pytorch Forecasting library. The model parameters are inherited automatically from the dataset structure, if from_dataset is set to True.\n",
    "\n",
    "For more detail on hyperparameters, please follow https://github.com/jdb78/pytorch-forecasting/blob/master/pytorch_forecasting/models/nbeats/__init__.py"
   ]
  },
  {
   "cell_type": "code",
   "execution_count": 2,
   "id": "cdcc733a",
   "metadata": {},
   "outputs": [],
   "source": [
    "from neuralprophet import DeepAR\n",
    "import pandas as pd"
   ]
  },
  {
   "cell_type": "code",
   "execution_count": 3,
   "id": "04ab7161",
   "metadata": {},
   "outputs": [],
   "source": [
    "if 'google.colab' in str(get_ipython()):\n",
    "    data_location = \"https://raw.githubusercontent.com/adasegroup/neural_prophet/master/\"\n",
    "    # install NeuralProphet from our repository\n",
    "    !pip install git+https://github.com/adasegroup/neural_prophet.git # may take a while\n",
    "else:\n",
    "    data_location = \"../\"\n",
    "\n",
    "df = pd.read_csv(data_location + \"example_data/yosemite_temps.csv\")\n",
    "df.head(3)\n",
    "freq = '5min'\n",
    "\n",
    "df = df.iloc[:1000]"
   ]
  },
  {
   "cell_type": "code",
   "execution_count": 6,
   "id": "c507b4b2",
   "metadata": {},
   "outputs": [],
   "source": [
    "deepar = DeepAR(\n",
    "        n_lags=32,\n",
    "        n_forecasts=10,\n",
    "        batch_size = 32,\n",
    "        epochs = 10,\n",
    "        num_gpus = 0,\n",
    "        patience_early_stopping = 10,\n",
    "        early_stop = True,\n",
    "        learning_rate=5e-4,\n",
    "        auto_lr_find=True,\n",
    "        num_workers=8,\n",
    "        loss_func = 'normaldistributionloss',\n",
    "        hidden_size=10,\n",
    "        rnn_layers=2,\n",
    "        dropout=0.1,\n",
    ")"
   ]
  },
  {
   "cell_type": "code",
   "execution_count": 7,
   "id": "f757859a",
   "metadata": {},
   "outputs": [
    {
     "name": "stderr",
     "output_type": "stream",
     "text": [
      "GPU available: False, used: False\n",
      "TPU available: False, using: 0 TPU cores\n",
      "WARNING - (py.warnings._showwarnmsg) - D:\\ProgramData\\anaconda3\\envs\\np2\\lib\\site-packages\\pytorch_lightning\\utilities\\distributed.py:68: UserWarning: you defined a validation_step but have no val_dataloader. Skipping validation loop\n",
      "  warnings.warn(*args, **kwargs)\n",
      "\n",
      "\n",
      "  | Name                   | Type                   | Params\n",
      "------------------------------------------------------------------\n",
      "0 | loss                   | NormalDistributionLoss | 0     \n",
      "1 | logging_metrics        | ModuleList             | 0     \n",
      "2 | embeddings             | MultiEmbedding         | 0     \n",
      "3 | rnn                    | LSTM                   | 1.4 K \n",
      "4 | distribution_projector | Linear                 | 22    \n",
      "------------------------------------------------------------------\n",
      "1.4 K     Trainable params\n",
      "0         Non-trainable params\n",
      "1.4 K     Total params\n",
      "0.006     Total estimated model params size (MB)\n"
     ]
    },
    {
     "data": {
      "application/vnd.jupyter.widget-view+json": {
       "model_id": "eebd6b790c0349e0a9e0de783a838ff6",
       "version_major": 2,
       "version_minor": 0
      },
      "text/plain": [
       "Finding best initial lr:   0%|          | 0/100 [00:00<?, ?it/s]"
      ]
     },
     "metadata": {},
     "output_type": "display_data"
    },
    {
     "name": "stderr",
     "output_type": "stream",
     "text": [
      "Restored states from the checkpoint file at D:\\Workspace\\NeuralProphet\\v17changed\\neural_prophet\\example_notebooks\\lr_find_temp_model.ckpt\n",
      "\n",
      "  | Name                   | Type                   | Params\n",
      "------------------------------------------------------------------\n",
      "0 | loss                   | NormalDistributionLoss | 0     \n",
      "1 | logging_metrics        | ModuleList             | 0     \n",
      "2 | embeddings             | MultiEmbedding         | 0     \n",
      "3 | rnn                    | LSTM                   | 1.4 K \n",
      "4 | distribution_projector | Linear                 | 22    \n",
      "------------------------------------------------------------------\n",
      "1.4 K     Trainable params\n",
      "0         Non-trainable params\n",
      "1.4 K     Total params\n",
      "0.006     Total estimated model params size (MB)\n"
     ]
    },
    {
     "data": {
      "application/vnd.jupyter.widget-view+json": {
       "model_id": "59fb156aace04ff99c4e45d0d6e1a2ee",
       "version_major": 2,
       "version_minor": 0
      },
      "text/plain": [
       "Training: 7it [00:00, ?it/s]"
      ]
     },
     "metadata": {},
     "output_type": "display_data"
    },
    {
     "data": {
      "application/vnd.jupyter.widget-view+json": {
       "model_id": "aa169fb8ceb745d6af1d732c4a50e688",
       "version_major": 2,
       "version_minor": 0
      },
      "text/plain": [
       "Validating: 0it [00:00, ?it/s]"
      ]
     },
     "metadata": {},
     "output_type": "display_data"
    },
    {
     "data": {
      "application/vnd.jupyter.widget-view+json": {
       "model_id": "51992307e359428eb860cd519ffe6e18",
       "version_major": 2,
       "version_minor": 0
      },
      "text/plain": [
       "Validating: 0it [00:00, ?it/s]"
      ]
     },
     "metadata": {},
     "output_type": "display_data"
    },
    {
     "data": {
      "application/vnd.jupyter.widget-view+json": {
       "model_id": "477077245fa6482cabdb38048c69501a",
       "version_major": 2,
       "version_minor": 0
      },
      "text/plain": [
       "Validating: 0it [00:00, ?it/s]"
      ]
     },
     "metadata": {},
     "output_type": "display_data"
    },
    {
     "data": {
      "application/vnd.jupyter.widget-view+json": {
       "model_id": "cff0c23a424d4e0395bcf966d3ce1cd8",
       "version_major": 2,
       "version_minor": 0
      },
      "text/plain": [
       "Validating: 0it [00:00, ?it/s]"
      ]
     },
     "metadata": {},
     "output_type": "display_data"
    },
    {
     "data": {
      "application/vnd.jupyter.widget-view+json": {
       "model_id": "281f63fd31df489f9b7cd36cbef64d7a",
       "version_major": 2,
       "version_minor": 0
      },
      "text/plain": [
       "Validating: 0it [00:00, ?it/s]"
      ]
     },
     "metadata": {},
     "output_type": "display_data"
    },
    {
     "data": {
      "application/vnd.jupyter.widget-view+json": {
       "model_id": "48b6171ac4ee4601b156183bb13a8567",
       "version_major": 2,
       "version_minor": 0
      },
      "text/plain": [
       "Validating: 0it [00:00, ?it/s]"
      ]
     },
     "metadata": {},
     "output_type": "display_data"
    },
    {
     "data": {
      "application/vnd.jupyter.widget-view+json": {
       "model_id": "ab776b2472c941d89c76715f4313cf3d",
       "version_major": 2,
       "version_minor": 0
      },
      "text/plain": [
       "Validating: 0it [00:00, ?it/s]"
      ]
     },
     "metadata": {},
     "output_type": "display_data"
    },
    {
     "data": {
      "application/vnd.jupyter.widget-view+json": {
       "model_id": "81bd2da01c63445193701f778107e453",
       "version_major": 2,
       "version_minor": 0
      },
      "text/plain": [
       "Validating: 0it [00:00, ?it/s]"
      ]
     },
     "metadata": {},
     "output_type": "display_data"
    },
    {
     "data": {
      "application/vnd.jupyter.widget-view+json": {
       "model_id": "c1295b4af68e4489b89723482c00160b",
       "version_major": 2,
       "version_minor": 0
      },
      "text/plain": [
       "Validating: 0it [00:00, ?it/s]"
      ]
     },
     "metadata": {},
     "output_type": "display_data"
    },
    {
     "name": "stderr",
     "output_type": "stream",
     "text": [
      "\n",
      "  | Name                   | Type                   | Params\n",
      "------------------------------------------------------------------\n",
      "0 | loss                   | NormalDistributionLoss | 0     \n",
      "1 | logging_metrics        | ModuleList             | 0     \n",
      "2 | embeddings             | MultiEmbedding         | 0     \n",
      "3 | rnn                    | LSTM                   | 1.4 K \n",
      "4 | distribution_projector | Linear                 | 22    \n",
      "------------------------------------------------------------------\n",
      "1.4 K     Trainable params\n",
      "0         Non-trainable params\n",
      "1.4 K     Total params\n",
      "0.006     Total estimated model params size (MB)\n"
     ]
    },
    {
     "data": {
      "application/vnd.jupyter.widget-view+json": {
       "model_id": "2ce60b95097c4e9884fd31732340288d",
       "version_major": 2,
       "version_minor": 0
      },
      "text/plain": [
       "Training: 22it [00:00, ?it/s]"
      ]
     },
     "metadata": {},
     "output_type": "display_data"
    },
    {
     "data": {
      "application/vnd.jupyter.widget-view+json": {
       "model_id": "b942f1e2662d43f28886bd21f50c4a86",
       "version_major": 2,
       "version_minor": 0
      },
      "text/plain": [
       "Validating: 0it [00:00, ?it/s]"
      ]
     },
     "metadata": {},
     "output_type": "display_data"
    },
    {
     "data": {
      "text/html": [
       "<div>\n",
       "<style scoped>\n",
       "    .dataframe tbody tr th:only-of-type {\n",
       "        vertical-align: middle;\n",
       "    }\n",
       "\n",
       "    .dataframe tbody tr th {\n",
       "        vertical-align: top;\n",
       "    }\n",
       "\n",
       "    .dataframe thead th {\n",
       "        text-align: right;\n",
       "    }\n",
       "</style>\n",
       "<table border=\"1\" class=\"dataframe\">\n",
       "  <thead>\n",
       "    <tr style=\"text-align: right;\">\n",
       "      <th></th>\n",
       "      <th>SmoothL1Loss</th>\n",
       "      <th>MAE</th>\n",
       "      <th>MSE</th>\n",
       "      <th>SmoothL1Loss_val</th>\n",
       "      <th>MAE_val</th>\n",
       "      <th>MSE_val</th>\n",
       "    </tr>\n",
       "  </thead>\n",
       "  <tbody>\n",
       "    <tr>\n",
       "      <th>0</th>\n",
       "      <td>7.498675</td>\n",
       "      <td>7.987225</td>\n",
       "      <td>98.717603</td>\n",
       "      <td>6.573228</td>\n",
       "      <td>7.067126</td>\n",
       "      <td>57.180254</td>\n",
       "    </tr>\n",
       "    <tr>\n",
       "      <th>1</th>\n",
       "      <td>2.557553</td>\n",
       "      <td>3.012022</td>\n",
       "      <td>18.041849</td>\n",
       "      <td>3.370243</td>\n",
       "      <td>3.828498</td>\n",
       "      <td>30.504530</td>\n",
       "    </tr>\n",
       "    <tr>\n",
       "      <th>2</th>\n",
       "      <td>1.894498</td>\n",
       "      <td>2.321335</td>\n",
       "      <td>12.334455</td>\n",
       "      <td>3.253751</td>\n",
       "      <td>3.640902</td>\n",
       "      <td>31.480476</td>\n",
       "    </tr>\n",
       "    <tr>\n",
       "      <th>3</th>\n",
       "      <td>1.859512</td>\n",
       "      <td>2.294993</td>\n",
       "      <td>10.728162</td>\n",
       "      <td>3.019713</td>\n",
       "      <td>3.503236</td>\n",
       "      <td>22.995336</td>\n",
       "    </tr>\n",
       "    <tr>\n",
       "      <th>4</th>\n",
       "      <td>1.136318</td>\n",
       "      <td>1.545743</td>\n",
       "      <td>5.283977</td>\n",
       "      <td>1.757144</td>\n",
       "      <td>2.097694</td>\n",
       "      <td>10.754375</td>\n",
       "    </tr>\n",
       "    <tr>\n",
       "      <th>5</th>\n",
       "      <td>0.684754</td>\n",
       "      <td>1.078854</td>\n",
       "      <td>2.050363</td>\n",
       "      <td>0.903321</td>\n",
       "      <td>1.207732</td>\n",
       "      <td>3.524321</td>\n",
       "    </tr>\n",
       "    <tr>\n",
       "      <th>6</th>\n",
       "      <td>0.441370</td>\n",
       "      <td>0.784196</td>\n",
       "      <td>1.266443</td>\n",
       "      <td>0.672228</td>\n",
       "      <td>1.116493</td>\n",
       "      <td>1.717211</td>\n",
       "    </tr>\n",
       "    <tr>\n",
       "      <th>7</th>\n",
       "      <td>0.576433</td>\n",
       "      <td>0.977857</td>\n",
       "      <td>1.568840</td>\n",
       "      <td>0.860005</td>\n",
       "      <td>1.323121</td>\n",
       "      <td>2.221086</td>\n",
       "    </tr>\n",
       "    <tr>\n",
       "      <th>8</th>\n",
       "      <td>0.397541</td>\n",
       "      <td>0.768827</td>\n",
       "      <td>0.980759</td>\n",
       "      <td>0.335921</td>\n",
       "      <td>0.663490</td>\n",
       "      <td>0.788932</td>\n",
       "    </tr>\n",
       "    <tr>\n",
       "      <th>9</th>\n",
       "      <td>0.270730</td>\n",
       "      <td>0.584722</td>\n",
       "      <td>0.651224</td>\n",
       "      <td>0.521953</td>\n",
       "      <td>0.903899</td>\n",
       "      <td>1.473908</td>\n",
       "    </tr>\n",
       "  </tbody>\n",
       "</table>\n",
       "</div>"
      ],
      "text/plain": [
       "   SmoothL1Loss       MAE        MSE  SmoothL1Loss_val   MAE_val    MSE_val\n",
       "0      7.498675  7.987225  98.717603          6.573228  7.067126  57.180254\n",
       "1      2.557553  3.012022  18.041849          3.370243  3.828498  30.504530\n",
       "2      1.894498  2.321335  12.334455          3.253751  3.640902  31.480476\n",
       "3      1.859512  2.294993  10.728162          3.019713  3.503236  22.995336\n",
       "4      1.136318  1.545743   5.283977          1.757144  2.097694  10.754375\n",
       "5      0.684754  1.078854   2.050363          0.903321  1.207732   3.524321\n",
       "6      0.441370  0.784196   1.266443          0.672228  1.116493   1.717211\n",
       "7      0.576433  0.977857   1.568840          0.860005  1.323121   2.221086\n",
       "8      0.397541  0.768827   0.980759          0.335921  0.663490   0.788932\n",
       "9      0.270730  0.584722   0.651224          0.521953  0.903899   1.473908"
      ]
     },
     "execution_count": 7,
     "metadata": {},
     "output_type": "execute_result"
    }
   ],
   "source": [
    "deepar.fit(df, freq = freq)"
   ]
  },
  {
   "cell_type": "code",
   "execution_count": 8,
   "id": "cc1a9c0d",
   "metadata": {},
   "outputs": [],
   "source": [
    "future = deepar.make_future_dataframe(df, freq, periods=10, n_historic_predictions=10)"
   ]
  },
  {
   "cell_type": "code",
   "execution_count": null,
   "id": "f29ffb5e",
   "metadata": {},
   "outputs": [],
   "source": [
    "forecast = deepar.predict(future)"
   ]
  },
  {
   "cell_type": "code",
   "execution_count": null,
   "id": "87de9a03",
   "metadata": {},
   "outputs": [],
   "source": [
    "forecast.iloc[-15:]"
   ]
  },
  {
   "cell_type": "code",
   "execution_count": null,
   "id": "308c17d1",
   "metadata": {},
   "outputs": [],
   "source": [
    "f = deepar.plot(forecast)"
   ]
  },
  {
   "cell_type": "code",
   "execution_count": null,
   "id": "ca051df7",
   "metadata": {},
   "outputs": [],
   "source": []
  }
 ],
 "metadata": {
  "kernelspec": {
   "display_name": "Python 3",
   "language": "python",
   "name": "python3"
  },
  "language_info": {
   "codemirror_mode": {
    "name": "ipython",
    "version": 3
   },
   "file_extension": ".py",
   "mimetype": "text/x-python",
   "name": "python",
   "nbconvert_exporter": "python",
   "pygments_lexer": "ipython3",
   "version": "3.7.10"
  }
 },
 "nbformat": 4,
 "nbformat_minor": 5
}
