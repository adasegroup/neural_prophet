{
 "cells": [
  {
   "cell_type": "code",
   "execution_count": null,
   "id": "7455ed99",
   "metadata": {},
   "outputs": [],
   "source": [
    "%load_ext autoreload\n",
    "%autoreload 2"
   ]
  },
  {
   "cell_type": "code",
   "execution_count": null,
   "id": "6ad3b782",
   "metadata": {},
   "outputs": [],
   "source": []
  },
  {
   "cell_type": "code",
   "execution_count": 1,
   "id": "27f83538",
   "metadata": {
    "scrolled": false
   },
   "outputs": [
    {
     "name": "stderr",
     "output_type": "stream",
     "text": [
      "INFO - (NP.config.__post_init__) - Note: Trend changepoint regularization is experimental.\n",
      "INFO - (NP.utils.set_auto_seasonalities) - Disabling yearly seasonality. Run NeuralProphet with yearly_seasonality=True to override this.\n",
      "INFO - (NP.utils.set_auto_seasonalities) - Disabling daily seasonality. Run NeuralProphet with daily_seasonality=True to override this.\n",
      "INFO - (NP.config.set_auto_batch_epoch) - Auto-set batch_size to 16\n"
     ]
    },
    {
     "data": {
      "application/vnd.jupyter.widget-view+json": {
       "model_id": "4a3e509f67cf4472a4f306d1d8bf25e8",
       "version_major": 2,
       "version_minor": 0
      },
      "text/plain": [
       "  0%|          | 0/195 [00:00<?, ?it/s]"
      ]
     },
     "metadata": {},
     "output_type": "display_data"
    },
    {
     "name": "stderr",
     "output_type": "stream",
     "text": [
      "INFO - (NP.utils_torch.lr_range_test) - lr-range-test results: steep: 1.15E-01, min: 5.79E-01\n",
      "INFO - (NP.utils_torch.lr_range_test) - learning rate range test selected lr: 3.38E-01\n",
      "  0%|          | 0/15 [00:00<?, ?it/s]GPU available: False, used: False\n",
      "TPU available: False, using: 0 TPU cores\n",
      "\n",
      "  | Name          | Type          | Params\n",
      "------------------------------------------------\n",
      "0 | season_params | ParameterDict | 6     \n",
      "1 | ar_net        | ModuleList    | 10    \n",
      "2 | loss_func     | SmoothL1Loss  | 0     \n",
      "------------------------------------------------\n",
      "29        Trainable params\n",
      "0         Non-trainable params\n",
      "29        Total params\n",
      "0.000     Total estimated model params size (MB)\n",
      "WARNING - (py.warnings._showwarnmsg) - /Users/polina/.conda/envs/neural_prophet/lib/python3.7/site-packages/pytorch_lightning/utilities/distributed.py:68: UserWarning: The dataloader, val dataloader 0, does not have many workers which may be a bottleneck. Consider increasing the value of the `num_workers` argument` (try 8 which is the number of cpus on this machine) in the `DataLoader` init to improve performance.\n",
      "  warnings.warn(*args, **kwargs)\n",
      "\n"
     ]
    },
    {
     "data": {
      "application/vnd.jupyter.widget-view+json": {
       "model_id": "",
       "version_major": 2,
       "version_minor": 0
      },
      "text/plain": [
       "Validation sanity check: 0it [00:00, ?it/s]"
      ]
     },
     "metadata": {},
     "output_type": "display_data"
    },
    {
     "name": "stderr",
     "output_type": "stream",
     "text": [
      "WARNING - (py.warnings._showwarnmsg) - /Users/polina/.conda/envs/neural_prophet/lib/python3.7/site-packages/pytorch_lightning/utilities/distributed.py:68: UserWarning: The dataloader, train dataloader, does not have many workers which may be a bottleneck. Consider increasing the value of the `num_workers` argument` (try 8 which is the number of cpus on this machine) in the `DataLoader` init to improve performance.\n",
      "  warnings.warn(*args, **kwargs)\n",
      "\n"
     ]
    },
    {
     "data": {
      "application/vnd.jupyter.widget-view+json": {
       "model_id": "d635f1954d4f4204b4c1342afbaa2a91",
       "version_major": 2,
       "version_minor": 0
      },
      "text/plain": [
       "Training: 0it [00:00, ?it/s]"
      ]
     },
     "metadata": {},
     "output_type": "display_data"
    },
    {
     "data": {
      "application/vnd.jupyter.widget-view+json": {
       "model_id": "",
       "version_major": 2,
       "version_minor": 0
      },
      "text/plain": [
       "Validating: 0it [00:00, ?it/s]"
      ]
     },
     "metadata": {},
     "output_type": "display_data"
    },
    {
     "data": {
      "application/vnd.jupyter.widget-view+json": {
       "model_id": "",
       "version_major": 2,
       "version_minor": 0
      },
      "text/plain": [
       "Validating: 0it [00:00, ?it/s]"
      ]
     },
     "metadata": {},
     "output_type": "display_data"
    },
    {
     "data": {
      "application/vnd.jupyter.widget-view+json": {
       "model_id": "",
       "version_major": 2,
       "version_minor": 0
      },
      "text/plain": [
       "Validating: 0it [00:00, ?it/s]"
      ]
     },
     "metadata": {},
     "output_type": "display_data"
    },
    {
     "data": {
      "application/vnd.jupyter.widget-view+json": {
       "model_id": "",
       "version_major": 2,
       "version_minor": 0
      },
      "text/plain": [
       "Validating: 0it [00:00, ?it/s]"
      ]
     },
     "metadata": {},
     "output_type": "display_data"
    },
    {
     "data": {
      "application/vnd.jupyter.widget-view+json": {
       "model_id": "",
       "version_major": 2,
       "version_minor": 0
      },
      "text/plain": [
       "Validating: 0it [00:00, ?it/s]"
      ]
     },
     "metadata": {},
     "output_type": "display_data"
    },
    {
     "data": {
      "application/vnd.jupyter.widget-view+json": {
       "model_id": "",
       "version_major": 2,
       "version_minor": 0
      },
      "text/plain": [
       "Validating: 0it [00:00, ?it/s]"
      ]
     },
     "metadata": {},
     "output_type": "display_data"
    },
    {
     "data": {
      "application/vnd.jupyter.widget-view+json": {
       "model_id": "",
       "version_major": 2,
       "version_minor": 0
      },
      "text/plain": [
       "Validating: 0it [00:00, ?it/s]"
      ]
     },
     "metadata": {},
     "output_type": "display_data"
    },
    {
     "data": {
      "application/vnd.jupyter.widget-view+json": {
       "model_id": "",
       "version_major": 2,
       "version_minor": 0
      },
      "text/plain": [
       "Validating: 0it [00:00, ?it/s]"
      ]
     },
     "metadata": {},
     "output_type": "display_data"
    },
    {
     "data": {
      "application/vnd.jupyter.widget-view+json": {
       "model_id": "",
       "version_major": 2,
       "version_minor": 0
      },
      "text/plain": [
       "Validating: 0it [00:00, ?it/s]"
      ]
     },
     "metadata": {},
     "output_type": "display_data"
    },
    {
     "data": {
      "application/vnd.jupyter.widget-view+json": {
       "model_id": "",
       "version_major": 2,
       "version_minor": 0
      },
      "text/plain": [
       "Validating: 0it [00:00, ?it/s]"
      ]
     },
     "metadata": {},
     "output_type": "display_data"
    },
    {
     "data": {
      "application/vnd.jupyter.widget-view+json": {
       "model_id": "",
       "version_major": 2,
       "version_minor": 0
      },
      "text/plain": [
       "Validating: 0it [00:00, ?it/s]"
      ]
     },
     "metadata": {},
     "output_type": "display_data"
    },
    {
     "data": {
      "application/vnd.jupyter.widget-view+json": {
       "model_id": "",
       "version_major": 2,
       "version_minor": 0
      },
      "text/plain": [
       "Validating: 0it [00:00, ?it/s]"
      ]
     },
     "metadata": {},
     "output_type": "display_data"
    },
    {
     "data": {
      "application/vnd.jupyter.widget-view+json": {
       "model_id": "",
       "version_major": 2,
       "version_minor": 0
      },
      "text/plain": [
       "Validating: 0it [00:00, ?it/s]"
      ]
     },
     "metadata": {},
     "output_type": "display_data"
    },
    {
     "data": {
      "application/vnd.jupyter.widget-view+json": {
       "model_id": "",
       "version_major": 2,
       "version_minor": 0
      },
      "text/plain": [
       "Validating: 0it [00:00, ?it/s]"
      ]
     },
     "metadata": {},
     "output_type": "display_data"
    },
    {
     "data": {
      "application/vnd.jupyter.widget-view+json": {
       "model_id": "",
       "version_major": 2,
       "version_minor": 0
      },
      "text/plain": [
       "Validating: 0it [00:00, ?it/s]"
      ]
     },
     "metadata": {},
     "output_type": "display_data"
    }
   ],
   "source": [
    "from neuralprophet import NeuralProphet\n",
    "import pandas as pd\n",
    "import numpy as np\n",
    "\n",
    "m = NeuralProphet(n_forecasts = 1, n_lags = 10, epochs = 15, ar_sparsity = 0.3, trend_reg = 0.2, )\n",
    "df = pd.DataFrame()\n",
    "df['ds'] = pd.date_range(start = '2020-01-01', periods = 100)\n",
    "df['y'] = np.random.randint(0, 100, size = len(df))\n",
    "a = m.fit(df, freq = 'D', validate_each_epoch = True)"
   ]
  },
  {
   "cell_type": "code",
   "execution_count": 2,
   "id": "0c1f43df",
   "metadata": {},
   "outputs": [
    {
     "data": {
      "text/html": [
       "<div>\n",
       "<style scoped>\n",
       "    .dataframe tbody tr th:only-of-type {\n",
       "        vertical-align: middle;\n",
       "    }\n",
       "\n",
       "    .dataframe tbody tr th {\n",
       "        vertical-align: top;\n",
       "    }\n",
       "\n",
       "    .dataframe thead th {\n",
       "        text-align: right;\n",
       "    }\n",
       "</style>\n",
       "<table border=\"1\" class=\"dataframe\">\n",
       "  <thead>\n",
       "    <tr style=\"text-align: right;\">\n",
       "      <th></th>\n",
       "      <th>SmoothL1Loss</th>\n",
       "      <th>MAE</th>\n",
       "      <th>MSE</th>\n",
       "      <th>RegLoss</th>\n",
       "      <th>SmoothL1Loss_val</th>\n",
       "      <th>MAE_val</th>\n",
       "      <th>MSE_val</th>\n",
       "    </tr>\n",
       "  </thead>\n",
       "  <tbody>\n",
       "    <tr>\n",
       "      <th>0</th>\n",
       "      <td>1.754859</td>\n",
       "      <td>211.920217</td>\n",
       "      <td>52052.189236</td>\n",
       "      <td>0.000000</td>\n",
       "      <td>1.530680</td>\n",
       "      <td>190.883942</td>\n",
       "      <td>42456.628906</td>\n",
       "    </tr>\n",
       "    <tr>\n",
       "      <th>1</th>\n",
       "      <td>1.571984</td>\n",
       "      <td>194.553311</td>\n",
       "      <td>45100.987413</td>\n",
       "      <td>0.000000</td>\n",
       "      <td>1.277347</td>\n",
       "      <td>166.950134</td>\n",
       "      <td>33829.808594</td>\n",
       "    </tr>\n",
       "    <tr>\n",
       "      <th>2</th>\n",
       "      <td>1.288376</td>\n",
       "      <td>167.178950</td>\n",
       "      <td>35134.458333</td>\n",
       "      <td>0.000000</td>\n",
       "      <td>0.936836</td>\n",
       "      <td>133.397949</td>\n",
       "      <td>23782.441406</td>\n",
       "    </tr>\n",
       "    <tr>\n",
       "      <th>3</th>\n",
       "      <td>0.852308</td>\n",
       "      <td>118.631756</td>\n",
       "      <td>22221.335938</td>\n",
       "      <td>0.000000</td>\n",
       "      <td>0.467487</td>\n",
       "      <td>73.877403</td>\n",
       "      <td>11056.916992</td>\n",
       "    </tr>\n",
       "    <tr>\n",
       "      <th>4</th>\n",
       "      <td>0.536871</td>\n",
       "      <td>86.774172</td>\n",
       "      <td>12551.147786</td>\n",
       "      <td>0.000000</td>\n",
       "      <td>0.390306</td>\n",
       "      <td>78.190430</td>\n",
       "      <td>7057.416016</td>\n",
       "    </tr>\n",
       "    <tr>\n",
       "      <th>5</th>\n",
       "      <td>0.590469</td>\n",
       "      <td>94.267660</td>\n",
       "      <td>12374.933594</td>\n",
       "      <td>0.000000</td>\n",
       "      <td>1.397894</td>\n",
       "      <td>175.328690</td>\n",
       "      <td>36006.750000</td>\n",
       "    </tr>\n",
       "    <tr>\n",
       "      <th>6</th>\n",
       "      <td>0.792809</td>\n",
       "      <td>115.033329</td>\n",
       "      <td>18287.297960</td>\n",
       "      <td>0.000000</td>\n",
       "      <td>2.437790</td>\n",
       "      <td>276.152283</td>\n",
       "      <td>80264.835938</td>\n",
       "    </tr>\n",
       "    <tr>\n",
       "      <th>7</th>\n",
       "      <td>0.544224</td>\n",
       "      <td>89.015163</td>\n",
       "      <td>11504.920681</td>\n",
       "      <td>0.000000</td>\n",
       "      <td>2.448248</td>\n",
       "      <td>277.135284</td>\n",
       "      <td>79140.468750</td>\n",
       "    </tr>\n",
       "    <tr>\n",
       "      <th>8</th>\n",
       "      <td>0.206118</td>\n",
       "      <td>49.596741</td>\n",
       "      <td>3696.031196</td>\n",
       "      <td>0.000000</td>\n",
       "      <td>1.010699</td>\n",
       "      <td>141.866837</td>\n",
       "      <td>21307.187500</td>\n",
       "    </tr>\n",
       "    <tr>\n",
       "      <th>9</th>\n",
       "      <td>0.336894</td>\n",
       "      <td>69.943096</td>\n",
       "      <td>6170.049696</td>\n",
       "      <td>0.000000</td>\n",
       "      <td>0.140814</td>\n",
       "      <td>39.028095</td>\n",
       "      <td>2516.095459</td>\n",
       "    </tr>\n",
       "    <tr>\n",
       "      <th>10</th>\n",
       "      <td>0.214154</td>\n",
       "      <td>49.027699</td>\n",
       "      <td>4081.017524</td>\n",
       "      <td>0.000072</td>\n",
       "      <td>0.123227</td>\n",
       "      <td>34.212696</td>\n",
       "      <td>2207.809082</td>\n",
       "    </tr>\n",
       "    <tr>\n",
       "      <th>11</th>\n",
       "      <td>0.209956</td>\n",
       "      <td>48.945786</td>\n",
       "      <td>3929.608073</td>\n",
       "      <td>0.000645</td>\n",
       "      <td>0.581606</td>\n",
       "      <td>96.771309</td>\n",
       "      <td>11775.689453</td>\n",
       "    </tr>\n",
       "    <tr>\n",
       "      <th>12</th>\n",
       "      <td>0.164801</td>\n",
       "      <td>43.912831</td>\n",
       "      <td>2941.011556</td>\n",
       "      <td>0.001571</td>\n",
       "      <td>0.239707</td>\n",
       "      <td>53.798203</td>\n",
       "      <td>4274.513672</td>\n",
       "    </tr>\n",
       "    <tr>\n",
       "      <th>13</th>\n",
       "      <td>0.122876</td>\n",
       "      <td>39.966083</td>\n",
       "      <td>2172.521756</td>\n",
       "      <td>0.002778</td>\n",
       "      <td>0.088780</td>\n",
       "      <td>31.506832</td>\n",
       "      <td>1568.922363</td>\n",
       "    </tr>\n",
       "    <tr>\n",
       "      <th>14</th>\n",
       "      <td>0.114898</td>\n",
       "      <td>37.904477</td>\n",
       "      <td>2033.569092</td>\n",
       "      <td>0.003183</td>\n",
       "      <td>0.117231</td>\n",
       "      <td>35.816135</td>\n",
       "      <td>2071.705078</td>\n",
       "    </tr>\n",
       "  </tbody>\n",
       "</table>\n",
       "</div>"
      ],
      "text/plain": [
       "    SmoothL1Loss         MAE           MSE   RegLoss  SmoothL1Loss_val  \\\n",
       "0       1.754859  211.920217  52052.189236  0.000000          1.530680   \n",
       "1       1.571984  194.553311  45100.987413  0.000000          1.277347   \n",
       "2       1.288376  167.178950  35134.458333  0.000000          0.936836   \n",
       "3       0.852308  118.631756  22221.335938  0.000000          0.467487   \n",
       "4       0.536871   86.774172  12551.147786  0.000000          0.390306   \n",
       "5       0.590469   94.267660  12374.933594  0.000000          1.397894   \n",
       "6       0.792809  115.033329  18287.297960  0.000000          2.437790   \n",
       "7       0.544224   89.015163  11504.920681  0.000000          2.448248   \n",
       "8       0.206118   49.596741   3696.031196  0.000000          1.010699   \n",
       "9       0.336894   69.943096   6170.049696  0.000000          0.140814   \n",
       "10      0.214154   49.027699   4081.017524  0.000072          0.123227   \n",
       "11      0.209956   48.945786   3929.608073  0.000645          0.581606   \n",
       "12      0.164801   43.912831   2941.011556  0.001571          0.239707   \n",
       "13      0.122876   39.966083   2172.521756  0.002778          0.088780   \n",
       "14      0.114898   37.904477   2033.569092  0.003183          0.117231   \n",
       "\n",
       "       MAE_val       MSE_val  \n",
       "0   190.883942  42456.628906  \n",
       "1   166.950134  33829.808594  \n",
       "2   133.397949  23782.441406  \n",
       "3    73.877403  11056.916992  \n",
       "4    78.190430   7057.416016  \n",
       "5   175.328690  36006.750000  \n",
       "6   276.152283  80264.835938  \n",
       "7   277.135284  79140.468750  \n",
       "8   141.866837  21307.187500  \n",
       "9    39.028095   2516.095459  \n",
       "10   34.212696   2207.809082  \n",
       "11   96.771309  11775.689453  \n",
       "12   53.798203   4274.513672  \n",
       "13   31.506832   1568.922363  \n",
       "14   35.816135   2071.705078  "
      ]
     },
     "execution_count": 2,
     "metadata": {},
     "output_type": "execute_result"
    }
   ],
   "source": [
    "a"
   ]
  },
  {
   "cell_type": "code",
   "execution_count": 3,
   "id": "0b59772a",
   "metadata": {},
   "outputs": [
    {
     "name": "stderr",
     "output_type": "stream",
     "text": [
      "WARNING - (py.warnings._showwarnmsg) - /Users/polina/.conda/envs/neural_prophet/lib/python3.7/site-packages/pytorch_lightning/utilities/distributed.py:68: UserWarning: The dataloader, test dataloader 0, does not have many workers which may be a bottleneck. Consider increasing the value of the `num_workers` argument` (try 8 which is the number of cpus on this machine) in the `DataLoader` init to improve performance.\n",
      "  warnings.warn(*args, **kwargs)\n",
      "\n"
     ]
    },
    {
     "data": {
      "application/vnd.jupyter.widget-view+json": {
       "model_id": "84cbf9f3dd1542ff8b2cb1b3cda27b40",
       "version_major": 2,
       "version_minor": 0
      },
      "text/plain": [
       "Testing: 0it [00:00, ?it/s]"
      ]
     },
     "metadata": {},
     "output_type": "display_data"
    },
    {
     "name": "stderr",
     "output_type": "stream",
     "text": [
      "INFO - (NP.forecaster._evaluate) - Validation metrics:    SmoothL1Loss    MAE      MSE\n",
      "1         0.072 29.316 1263.805\n"
     ]
    },
    {
     "data": {
      "text/html": [
       "<div>\n",
       "<style scoped>\n",
       "    .dataframe tbody tr th:only-of-type {\n",
       "        vertical-align: middle;\n",
       "    }\n",
       "\n",
       "    .dataframe tbody tr th {\n",
       "        vertical-align: top;\n",
       "    }\n",
       "\n",
       "    .dataframe thead th {\n",
       "        text-align: right;\n",
       "    }\n",
       "</style>\n",
       "<table border=\"1\" class=\"dataframe\">\n",
       "  <thead>\n",
       "    <tr style=\"text-align: right;\">\n",
       "      <th></th>\n",
       "      <th>SmoothL1Loss</th>\n",
       "      <th>MAE</th>\n",
       "      <th>MSE</th>\n",
       "    </tr>\n",
       "  </thead>\n",
       "  <tbody>\n",
       "    <tr>\n",
       "      <th>0</th>\n",
       "      <td>0.071515</td>\n",
       "      <td>29.315598</td>\n",
       "      <td>1263.804565</td>\n",
       "    </tr>\n",
       "  </tbody>\n",
       "</table>\n",
       "</div>"
      ],
      "text/plain": [
       "   SmoothL1Loss        MAE          MSE\n",
       "0      0.071515  29.315598  1263.804565"
      ]
     },
     "execution_count": 3,
     "metadata": {},
     "output_type": "execute_result"
    }
   ],
   "source": [
    "m.test(df)"
   ]
  },
  {
   "cell_type": "code",
   "execution_count": 4,
   "id": "cd872f31",
   "metadata": {},
   "outputs": [
    {
     "data": {
      "text/html": [
       "<div>\n",
       "<style scoped>\n",
       "    .dataframe tbody tr th:only-of-type {\n",
       "        vertical-align: middle;\n",
       "    }\n",
       "\n",
       "    .dataframe tbody tr th {\n",
       "        vertical-align: top;\n",
       "    }\n",
       "\n",
       "    .dataframe thead th {\n",
       "        text-align: right;\n",
       "    }\n",
       "</style>\n",
       "<table border=\"1\" class=\"dataframe\">\n",
       "  <thead>\n",
       "    <tr style=\"text-align: right;\">\n",
       "      <th></th>\n",
       "      <th>ds</th>\n",
       "      <th>y</th>\n",
       "    </tr>\n",
       "  </thead>\n",
       "  <tbody>\n",
       "    <tr>\n",
       "      <th>0</th>\n",
       "      <td>2020-01-01</td>\n",
       "      <td>56</td>\n",
       "    </tr>\n",
       "    <tr>\n",
       "      <th>1</th>\n",
       "      <td>2020-01-02</td>\n",
       "      <td>17</td>\n",
       "    </tr>\n",
       "    <tr>\n",
       "      <th>2</th>\n",
       "      <td>2020-01-03</td>\n",
       "      <td>55</td>\n",
       "    </tr>\n",
       "    <tr>\n",
       "      <th>3</th>\n",
       "      <td>2020-01-04</td>\n",
       "      <td>35</td>\n",
       "    </tr>\n",
       "    <tr>\n",
       "      <th>4</th>\n",
       "      <td>2020-01-05</td>\n",
       "      <td>3</td>\n",
       "    </tr>\n",
       "    <tr>\n",
       "      <th>...</th>\n",
       "      <td>...</td>\n",
       "      <td>...</td>\n",
       "    </tr>\n",
       "    <tr>\n",
       "      <th>95</th>\n",
       "      <td>2020-04-05</td>\n",
       "      <td>80</td>\n",
       "    </tr>\n",
       "    <tr>\n",
       "      <th>96</th>\n",
       "      <td>2020-04-06</td>\n",
       "      <td>97</td>\n",
       "    </tr>\n",
       "    <tr>\n",
       "      <th>97</th>\n",
       "      <td>2020-04-07</td>\n",
       "      <td>9</td>\n",
       "    </tr>\n",
       "    <tr>\n",
       "      <th>98</th>\n",
       "      <td>2020-04-08</td>\n",
       "      <td>73</td>\n",
       "    </tr>\n",
       "    <tr>\n",
       "      <th>99</th>\n",
       "      <td>2020-04-09</td>\n",
       "      <td>63</td>\n",
       "    </tr>\n",
       "  </tbody>\n",
       "</table>\n",
       "<p>100 rows × 2 columns</p>\n",
       "</div>"
      ],
      "text/plain": [
       "           ds   y\n",
       "0  2020-01-01  56\n",
       "1  2020-01-02  17\n",
       "2  2020-01-03  55\n",
       "3  2020-01-04  35\n",
       "4  2020-01-05   3\n",
       "..        ...  ..\n",
       "95 2020-04-05  80\n",
       "96 2020-04-06  97\n",
       "97 2020-04-07   9\n",
       "98 2020-04-08  73\n",
       "99 2020-04-09  63\n",
       "\n",
       "[100 rows x 2 columns]"
      ]
     },
     "execution_count": 4,
     "metadata": {},
     "output_type": "execute_result"
    }
   ],
   "source": [
    "df"
   ]
  },
  {
   "cell_type": "code",
   "execution_count": null,
   "id": "c3246f9a",
   "metadata": {},
   "outputs": [],
   "source": []
  },
  {
   "cell_type": "code",
   "execution_count": 5,
   "id": "18bb8c5b",
   "metadata": {},
   "outputs": [],
   "source": [
    "x = m.make_future_dataframe(df, periods=1, n_historic_predictions=10)"
   ]
  },
  {
   "cell_type": "code",
   "execution_count": 6,
   "id": "2b743c92",
   "metadata": {
    "scrolled": false
   },
   "outputs": [
    {
     "data": {
      "text/html": [
       "<div>\n",
       "<style scoped>\n",
       "    .dataframe tbody tr th:only-of-type {\n",
       "        vertical-align: middle;\n",
       "    }\n",
       "\n",
       "    .dataframe tbody tr th {\n",
       "        vertical-align: top;\n",
       "    }\n",
       "\n",
       "    .dataframe thead th {\n",
       "        text-align: right;\n",
       "    }\n",
       "</style>\n",
       "<table border=\"1\" class=\"dataframe\">\n",
       "  <thead>\n",
       "    <tr style=\"text-align: right;\">\n",
       "      <th></th>\n",
       "      <th>ds</th>\n",
       "      <th>y</th>\n",
       "      <th>yhat1</th>\n",
       "      <th>residual1</th>\n",
       "      <th>ar1</th>\n",
       "      <th>trend</th>\n",
       "      <th>season_weekly</th>\n",
       "    </tr>\n",
       "  </thead>\n",
       "  <tbody>\n",
       "    <tr>\n",
       "      <th>0</th>\n",
       "      <td>2020-03-21</td>\n",
       "      <td>76</td>\n",
       "      <td>None</td>\n",
       "      <td>NaN</td>\n",
       "      <td>None</td>\n",
       "      <td>None</td>\n",
       "      <td>None</td>\n",
       "    </tr>\n",
       "    <tr>\n",
       "      <th>1</th>\n",
       "      <td>2020-03-22</td>\n",
       "      <td>74</td>\n",
       "      <td>None</td>\n",
       "      <td>NaN</td>\n",
       "      <td>None</td>\n",
       "      <td>None</td>\n",
       "      <td>None</td>\n",
       "    </tr>\n",
       "    <tr>\n",
       "      <th>2</th>\n",
       "      <td>2020-03-23</td>\n",
       "      <td>55</td>\n",
       "      <td>None</td>\n",
       "      <td>NaN</td>\n",
       "      <td>None</td>\n",
       "      <td>None</td>\n",
       "      <td>None</td>\n",
       "    </tr>\n",
       "    <tr>\n",
       "      <th>3</th>\n",
       "      <td>2020-03-24</td>\n",
       "      <td>57</td>\n",
       "      <td>None</td>\n",
       "      <td>NaN</td>\n",
       "      <td>None</td>\n",
       "      <td>None</td>\n",
       "      <td>None</td>\n",
       "    </tr>\n",
       "    <tr>\n",
       "      <th>4</th>\n",
       "      <td>2020-03-25</td>\n",
       "      <td>15</td>\n",
       "      <td>None</td>\n",
       "      <td>NaN</td>\n",
       "      <td>None</td>\n",
       "      <td>None</td>\n",
       "      <td>None</td>\n",
       "    </tr>\n",
       "    <tr>\n",
       "      <th>5</th>\n",
       "      <td>2020-03-26</td>\n",
       "      <td>70</td>\n",
       "      <td>None</td>\n",
       "      <td>NaN</td>\n",
       "      <td>None</td>\n",
       "      <td>None</td>\n",
       "      <td>None</td>\n",
       "    </tr>\n",
       "    <tr>\n",
       "      <th>6</th>\n",
       "      <td>2020-03-27</td>\n",
       "      <td>0</td>\n",
       "      <td>None</td>\n",
       "      <td>NaN</td>\n",
       "      <td>None</td>\n",
       "      <td>None</td>\n",
       "      <td>None</td>\n",
       "    </tr>\n",
       "    <tr>\n",
       "      <th>7</th>\n",
       "      <td>2020-03-28</td>\n",
       "      <td>76</td>\n",
       "      <td>None</td>\n",
       "      <td>NaN</td>\n",
       "      <td>None</td>\n",
       "      <td>None</td>\n",
       "      <td>None</td>\n",
       "    </tr>\n",
       "    <tr>\n",
       "      <th>8</th>\n",
       "      <td>2020-03-29</td>\n",
       "      <td>61</td>\n",
       "      <td>None</td>\n",
       "      <td>NaN</td>\n",
       "      <td>None</td>\n",
       "      <td>None</td>\n",
       "      <td>None</td>\n",
       "    </tr>\n",
       "    <tr>\n",
       "      <th>9</th>\n",
       "      <td>2020-03-30</td>\n",
       "      <td>32</td>\n",
       "      <td>None</td>\n",
       "      <td>NaN</td>\n",
       "      <td>None</td>\n",
       "      <td>None</td>\n",
       "      <td>None</td>\n",
       "    </tr>\n",
       "    <tr>\n",
       "      <th>10</th>\n",
       "      <td>2020-03-31</td>\n",
       "      <td>47</td>\n",
       "      <td>64.26445</td>\n",
       "      <td>17.26445</td>\n",
       "      <td>101.86219</td>\n",
       "      <td>-49.719074</td>\n",
       "      <td>12.121329</td>\n",
       "    </tr>\n",
       "    <tr>\n",
       "      <th>11</th>\n",
       "      <td>2020-04-01</td>\n",
       "      <td>26</td>\n",
       "      <td>54.323753</td>\n",
       "      <td>28.323753</td>\n",
       "      <td>95.281517</td>\n",
       "      <td>-49.970852</td>\n",
       "      <td>9.013087</td>\n",
       "    </tr>\n",
       "    <tr>\n",
       "      <th>12</th>\n",
       "      <td>2020-04-02</td>\n",
       "      <td>2</td>\n",
       "      <td>22.590603</td>\n",
       "      <td>20.590603</td>\n",
       "      <td>88.488953</td>\n",
       "      <td>-50.222633</td>\n",
       "      <td>-15.675717</td>\n",
       "    </tr>\n",
       "    <tr>\n",
       "      <th>13</th>\n",
       "      <td>2020-04-03</td>\n",
       "      <td>38</td>\n",
       "      <td>33.199226</td>\n",
       "      <td>-4.800774</td>\n",
       "      <td>93.944954</td>\n",
       "      <td>-50.474415</td>\n",
       "      <td>-10.271311</td>\n",
       "    </tr>\n",
       "    <tr>\n",
       "      <th>14</th>\n",
       "      <td>2020-04-04</td>\n",
       "      <td>41</td>\n",
       "      <td>0.418952</td>\n",
       "      <td>-40.581048</td>\n",
       "      <td>65.703514</td>\n",
       "      <td>-50.726196</td>\n",
       "      <td>-14.558367</td>\n",
       "    </tr>\n",
       "    <tr>\n",
       "      <th>15</th>\n",
       "      <td>2020-04-05</td>\n",
       "      <td>80</td>\n",
       "      <td>35.076206</td>\n",
       "      <td>-44.923794</td>\n",
       "      <td>74.848747</td>\n",
       "      <td>-50.977974</td>\n",
       "      <td>11.205435</td>\n",
       "    </tr>\n",
       "    <tr>\n",
       "      <th>16</th>\n",
       "      <td>2020-04-06</td>\n",
       "      <td>97</td>\n",
       "      <td>35.847324</td>\n",
       "      <td>-61.152676</td>\n",
       "      <td>78.911537</td>\n",
       "      <td>-51.229759</td>\n",
       "      <td>8.165546</td>\n",
       "    </tr>\n",
       "    <tr>\n",
       "      <th>17</th>\n",
       "      <td>2020-04-07</td>\n",
       "      <td>9</td>\n",
       "      <td>44.401527</td>\n",
       "      <td>35.401527</td>\n",
       "      <td>83.761742</td>\n",
       "      <td>-51.481541</td>\n",
       "      <td>12.121329</td>\n",
       "    </tr>\n",
       "    <tr>\n",
       "      <th>18</th>\n",
       "      <td>2020-04-08</td>\n",
       "      <td>73</td>\n",
       "      <td>54.151596</td>\n",
       "      <td>-18.848404</td>\n",
       "      <td>96.871834</td>\n",
       "      <td>-51.733322</td>\n",
       "      <td>9.013087</td>\n",
       "    </tr>\n",
       "    <tr>\n",
       "      <th>19</th>\n",
       "      <td>2020-04-09</td>\n",
       "      <td>63</td>\n",
       "      <td>25.676153</td>\n",
       "      <td>-37.323847</td>\n",
       "      <td>93.336975</td>\n",
       "      <td>-51.9851</td>\n",
       "      <td>-15.675717</td>\n",
       "    </tr>\n",
       "    <tr>\n",
       "      <th>20</th>\n",
       "      <td>2020-04-10</td>\n",
       "      <td>None</td>\n",
       "      <td>42.462475</td>\n",
       "      <td>NaN</td>\n",
       "      <td>104.970665</td>\n",
       "      <td>-52.236881</td>\n",
       "      <td>-10.271311</td>\n",
       "    </tr>\n",
       "  </tbody>\n",
       "</table>\n",
       "</div>"
      ],
      "text/plain": [
       "           ds     y      yhat1  residual1         ar1      trend season_weekly\n",
       "0  2020-03-21    76       None        NaN        None       None          None\n",
       "1  2020-03-22    74       None        NaN        None       None          None\n",
       "2  2020-03-23    55       None        NaN        None       None          None\n",
       "3  2020-03-24    57       None        NaN        None       None          None\n",
       "4  2020-03-25    15       None        NaN        None       None          None\n",
       "5  2020-03-26    70       None        NaN        None       None          None\n",
       "6  2020-03-27     0       None        NaN        None       None          None\n",
       "7  2020-03-28    76       None        NaN        None       None          None\n",
       "8  2020-03-29    61       None        NaN        None       None          None\n",
       "9  2020-03-30    32       None        NaN        None       None          None\n",
       "10 2020-03-31    47   64.26445   17.26445   101.86219 -49.719074     12.121329\n",
       "11 2020-04-01    26  54.323753  28.323753   95.281517 -49.970852      9.013087\n",
       "12 2020-04-02     2  22.590603  20.590603   88.488953 -50.222633    -15.675717\n",
       "13 2020-04-03    38  33.199226  -4.800774   93.944954 -50.474415    -10.271311\n",
       "14 2020-04-04    41   0.418952 -40.581048   65.703514 -50.726196    -14.558367\n",
       "15 2020-04-05    80  35.076206 -44.923794   74.848747 -50.977974     11.205435\n",
       "16 2020-04-06    97  35.847324 -61.152676   78.911537 -51.229759      8.165546\n",
       "17 2020-04-07     9  44.401527  35.401527   83.761742 -51.481541     12.121329\n",
       "18 2020-04-08    73  54.151596 -18.848404   96.871834 -51.733322      9.013087\n",
       "19 2020-04-09    63  25.676153 -37.323847   93.336975   -51.9851    -15.675717\n",
       "20 2020-04-10  None  42.462475        NaN  104.970665 -52.236881    -10.271311"
      ]
     },
     "execution_count": 6,
     "metadata": {},
     "output_type": "execute_result"
    }
   ],
   "source": [
    "m.predict(x)"
   ]
  },
  {
   "cell_type": "code",
   "execution_count": null,
   "id": "fe45d289",
   "metadata": {},
   "outputs": [],
   "source": []
  },
  {
   "cell_type": "code",
   "execution_count": null,
   "id": "ae0cdece",
   "metadata": {},
   "outputs": [],
   "source": []
  },
  {
   "cell_type": "code",
   "execution_count": 8,
   "id": "1e2cb23b",
   "metadata": {},
   "outputs": [],
   "source": [
    "from ray import tune\n",
    "from ray.tune import CLIReporter\n",
    "from ray.tune.schedulers import ASHAScheduler, PopulationBasedTraining\n",
    "from ray.tune.integration.pytorch_lightning import TuneReportCallback, \\\n",
    "    TuneReportCheckpointCallback"
   ]
  },
  {
   "cell_type": "code",
   "execution_count": null,
   "id": "75de21d0",
   "metadata": {},
   "outputs": [],
   "source": []
  },
  {
   "cell_type": "code",
   "execution_count": null,
   "id": "c2f33c58",
   "metadata": {},
   "outputs": [],
   "source": []
  },
  {
   "cell_type": "code",
   "execution_count": null,
   "id": "5f00d0cb",
   "metadata": {},
   "outputs": [],
   "source": []
  },
  {
   "cell_type": "code",
   "execution_count": null,
   "id": "bb704192",
   "metadata": {},
   "outputs": [],
   "source": []
  },
  {
   "cell_type": "code",
   "execution_count": null,
   "id": "9ca67ab7",
   "metadata": {},
   "outputs": [],
   "source": []
  },
  {
   "cell_type": "code",
   "execution_count": null,
   "id": "430de82d",
   "metadata": {},
   "outputs": [],
   "source": []
  },
  {
   "cell_type": "code",
   "execution_count": null,
   "id": "62e84738",
   "metadata": {},
   "outputs": [],
   "source": []
  },
  {
   "cell_type": "code",
   "execution_count": null,
   "id": "e2f4f74f",
   "metadata": {},
   "outputs": [],
   "source": []
  },
  {
   "cell_type": "code",
   "execution_count": 62,
   "id": "49166145",
   "metadata": {},
   "outputs": [],
   "source": [
    "a"
   ]
  },
  {
   "cell_type": "code",
   "execution_count": 63,
   "id": "bd253d27",
   "metadata": {},
   "outputs": [],
   "source": [
    "from neuralprophet import metrics"
   ]
  },
  {
   "cell_type": "code",
   "execution_count": 65,
   "id": "2436856d",
   "metadata": {},
   "outputs": [],
   "source": [
    "\n",
    "\n",
    "metrics = metrics.MetricsCollection(\n",
    "            metrics=[\n",
    "                metrics.MAE(),\n",
    "                metrics.MSE(),\n",
    "            ],\n",
    "            value_metrics=[\n",
    "                # metrics.ValueMetric(\"Loss\"),\n",
    "                metrics.ValueMetric(\"RegLoss\"),\n",
    "            ],\n",
    "        )"
   ]
  },
  {
   "cell_type": "code",
   "execution_count": 69,
   "id": "92703c84",
   "metadata": {},
   "outputs": [],
   "source": [
    "import torch"
   ]
  },
  {
   "cell_type": "code",
   "execution_count": null,
   "id": "914d0d65",
   "metadata": {},
   "outputs": [],
   "source": []
  },
  {
   "cell_type": "code",
   "execution_count": 71,
   "id": "7214ac95",
   "metadata": {},
   "outputs": [
    {
     "ename": "ValueError",
     "evalue": "only one element tensors can be converted to Python scalars",
     "output_type": "error",
     "traceback": [
      "\u001b[0;31m---------------------------------------------------------------------------\u001b[0m",
      "\u001b[0;31mValueError\u001b[0m                                Traceback (most recent call last)",
      "\u001b[0;32m<ipython-input-71-c937e031579f>\u001b[0m in \u001b[0;36m<module>\u001b[0;34m\u001b[0m\n\u001b[0;32m----> 1\u001b[0;31m metrics.update(predicted = torch.Tensor(np.random.randint(0, 100 , size = 10)),\n\u001b[0m\u001b[1;32m      2\u001b[0m                            \u001b[0mtarget\u001b[0m \u001b[0;34m=\u001b[0m \u001b[0mtorch\u001b[0m\u001b[0;34m.\u001b[0m\u001b[0mTensor\u001b[0m\u001b[0;34m(\u001b[0m\u001b[0mnp\u001b[0m\u001b[0;34m.\u001b[0m\u001b[0mrandom\u001b[0m\u001b[0;34m.\u001b[0m\u001b[0mrandint\u001b[0m\u001b[0;34m(\u001b[0m\u001b[0;36m0\u001b[0m\u001b[0;34m,\u001b[0m \u001b[0;36m100\u001b[0m \u001b[0;34m,\u001b[0m \u001b[0msize\u001b[0m \u001b[0;34m=\u001b[0m \u001b[0;36m10\u001b[0m\u001b[0;34m)\u001b[0m\u001b[0;34m)\u001b[0m\u001b[0;34m,\u001b[0m\u001b[0;34m\u001b[0m\u001b[0;34m\u001b[0m\u001b[0m\n\u001b[1;32m      3\u001b[0m                            values = {\"Loss\": torch.Tensor(100), \"RegLoss\": torch.Tensor(15)})\n",
      "\u001b[0;32m~/fds/neural_prophet/neuralprophet/metrics.py\u001b[0m in \u001b[0;36mupdate\u001b[0;34m(self, predicted, target, values)\u001b[0m\n\u001b[1;32m     71\u001b[0m         \u001b[0mself\u001b[0m\u001b[0;34m.\u001b[0m\u001b[0mupdate_batch\u001b[0m\u001b[0;34m(\u001b[0m\u001b[0mpredicted\u001b[0m\u001b[0;34m=\u001b[0m\u001b[0mpredicted\u001b[0m\u001b[0;34m,\u001b[0m \u001b[0mtarget\u001b[0m\u001b[0;34m=\u001b[0m\u001b[0mtarget\u001b[0m\u001b[0;34m)\u001b[0m\u001b[0;34m\u001b[0m\u001b[0;34m\u001b[0m\u001b[0m\n\u001b[1;32m     72\u001b[0m         \u001b[0;32mif\u001b[0m \u001b[0mvalues\u001b[0m \u001b[0;32mis\u001b[0m \u001b[0;32mnot\u001b[0m \u001b[0;32mNone\u001b[0m\u001b[0;34m:\u001b[0m\u001b[0;34m\u001b[0m\u001b[0;34m\u001b[0m\u001b[0m\n\u001b[0;32m---> 73\u001b[0;31m             \u001b[0mself\u001b[0m\u001b[0;34m.\u001b[0m\u001b[0mupdate_values\u001b[0m\u001b[0;34m(\u001b[0m\u001b[0mvalues\u001b[0m\u001b[0;34m=\u001b[0m\u001b[0mvalues\u001b[0m\u001b[0;34m,\u001b[0m \u001b[0mnum\u001b[0m\u001b[0;34m=\u001b[0m\u001b[0mtarget\u001b[0m\u001b[0;34m.\u001b[0m\u001b[0mshape\u001b[0m\u001b[0;34m[\u001b[0m\u001b[0;36m0\u001b[0m\u001b[0;34m]\u001b[0m\u001b[0;34m)\u001b[0m\u001b[0;34m\u001b[0m\u001b[0;34m\u001b[0m\u001b[0m\n\u001b[0m\u001b[1;32m     74\u001b[0m \u001b[0;34m\u001b[0m\u001b[0m\n\u001b[1;32m     75\u001b[0m     \u001b[0;32mdef\u001b[0m \u001b[0mcompute\u001b[0m\u001b[0;34m(\u001b[0m\u001b[0mself\u001b[0m\u001b[0;34m,\u001b[0m \u001b[0msave\u001b[0m\u001b[0;34m=\u001b[0m\u001b[0;32mFalse\u001b[0m\u001b[0;34m)\u001b[0m\u001b[0;34m:\u001b[0m\u001b[0;34m\u001b[0m\u001b[0;34m\u001b[0m\u001b[0m\n",
      "\u001b[0;32m~/fds/neural_prophet/neuralprophet/metrics.py\u001b[0m in \u001b[0;36mupdate_values\u001b[0;34m(self, values, num)\u001b[0m\n\u001b[1;32m     55\u001b[0m         \u001b[0;32mfor\u001b[0m \u001b[0mname\u001b[0m\u001b[0;34m,\u001b[0m \u001b[0mvalue\u001b[0m \u001b[0;32min\u001b[0m \u001b[0mvalues\u001b[0m\u001b[0;34m.\u001b[0m\u001b[0mitems\u001b[0m\u001b[0;34m(\u001b[0m\u001b[0;34m)\u001b[0m\u001b[0;34m:\u001b[0m\u001b[0;34m\u001b[0m\u001b[0;34m\u001b[0m\u001b[0m\n\u001b[1;32m     56\u001b[0m             \u001b[0;32mif\u001b[0m \u001b[0mname\u001b[0m \u001b[0;32min\u001b[0m \u001b[0mself\u001b[0m\u001b[0;34m.\u001b[0m\u001b[0mvalue_metrics\u001b[0m\u001b[0;34m.\u001b[0m\u001b[0mkeys\u001b[0m\u001b[0;34m(\u001b[0m\u001b[0;34m)\u001b[0m\u001b[0;34m:\u001b[0m\u001b[0;34m\u001b[0m\u001b[0;34m\u001b[0m\u001b[0m\n\u001b[0;32m---> 57\u001b[0;31m                 \u001b[0mself\u001b[0m\u001b[0;34m.\u001b[0m\u001b[0mvalue_metrics\u001b[0m\u001b[0;34m[\u001b[0m\u001b[0mname\u001b[0m\u001b[0;34m]\u001b[0m\u001b[0;34m.\u001b[0m\u001b[0mupdate\u001b[0m\u001b[0;34m(\u001b[0m\u001b[0mavg_value\u001b[0m\u001b[0;34m=\u001b[0m\u001b[0mvalue\u001b[0m\u001b[0;34m,\u001b[0m \u001b[0mnum\u001b[0m\u001b[0;34m=\u001b[0m\u001b[0mnum\u001b[0m\u001b[0;34m)\u001b[0m\u001b[0;34m\u001b[0m\u001b[0;34m\u001b[0m\u001b[0m\n\u001b[0m\u001b[1;32m     58\u001b[0m         \u001b[0mnot_updated\u001b[0m \u001b[0;34m=\u001b[0m \u001b[0mset\u001b[0m\u001b[0;34m(\u001b[0m\u001b[0mself\u001b[0m\u001b[0;34m.\u001b[0m\u001b[0mvalue_metrics\u001b[0m\u001b[0;34m.\u001b[0m\u001b[0mkeys\u001b[0m\u001b[0;34m(\u001b[0m\u001b[0;34m)\u001b[0m\u001b[0;34m)\u001b[0m \u001b[0;34m-\u001b[0m \u001b[0mset\u001b[0m\u001b[0;34m(\u001b[0m\u001b[0mvalues\u001b[0m\u001b[0;34m.\u001b[0m\u001b[0mkeys\u001b[0m\u001b[0;34m(\u001b[0m\u001b[0;34m)\u001b[0m\u001b[0;34m)\u001b[0m\u001b[0;34m\u001b[0m\u001b[0;34m\u001b[0m\u001b[0m\n\u001b[1;32m     59\u001b[0m         \u001b[0;32mif\u001b[0m \u001b[0mlen\u001b[0m\u001b[0;34m(\u001b[0m\u001b[0mnot_updated\u001b[0m\u001b[0;34m)\u001b[0m \u001b[0;34m>\u001b[0m \u001b[0;36m0\u001b[0m\u001b[0;34m:\u001b[0m\u001b[0;34m\u001b[0m\u001b[0;34m\u001b[0m\u001b[0m\n",
      "\u001b[0;32m~/fds/neural_prophet/neuralprophet/metrics.py\u001b[0m in \u001b[0;36mupdate\u001b[0;34m(self, avg_value, num)\u001b[0m\n\u001b[1;32m    402\u001b[0m         \"\"\"\n\u001b[1;32m    403\u001b[0m         \u001b[0mself\u001b[0m\u001b[0;34m.\u001b[0m\u001b[0mtotal_updates\u001b[0m \u001b[0;34m+=\u001b[0m \u001b[0;36m1\u001b[0m\u001b[0;34m\u001b[0m\u001b[0;34m\u001b[0m\u001b[0m\n\u001b[0;32m--> 404\u001b[0;31m         \u001b[0mself\u001b[0m\u001b[0;34m.\u001b[0m\u001b[0m_sum\u001b[0m \u001b[0;34m+=\u001b[0m \u001b[0mavg_value\u001b[0m\u001b[0;34m.\u001b[0m\u001b[0mdata\u001b[0m\u001b[0;34m.\u001b[0m\u001b[0mitem\u001b[0m\u001b[0;34m(\u001b[0m\u001b[0;34m)\u001b[0m \u001b[0;34m*\u001b[0m \u001b[0mnum\u001b[0m\u001b[0;34m\u001b[0m\u001b[0;34m\u001b[0m\u001b[0m\n\u001b[0m\u001b[1;32m    405\u001b[0m         \u001b[0mself\u001b[0m\u001b[0;34m.\u001b[0m\u001b[0m_num_examples\u001b[0m \u001b[0;34m+=\u001b[0m \u001b[0mnum\u001b[0m\u001b[0;34m\u001b[0m\u001b[0;34m\u001b[0m\u001b[0m\n",
      "\u001b[0;31mValueError\u001b[0m: only one element tensors can be converted to Python scalars"
     ]
    }
   ],
   "source": [
    "metrics.update(predicted = torch.Tensor(np.random.randint(0, 100 , size = 10)),\n",
    "                           target = torch.Tensor(np.random.randint(0, 100 , size = 10)),\n",
    "                           values = {\"Loss\": torch.Tensor(100), \"RegLoss\": torch.Tensor(15)})"
   ]
  },
  {
   "cell_type": "code",
   "execution_count": 67,
   "id": "9bff9348",
   "metadata": {},
   "outputs": [
    {
     "data": {
      "text/plain": [
       "array([94,  2, 31, 46, 75, 39, 53, 46, 15, 44])"
      ]
     },
     "execution_count": 67,
     "metadata": {},
     "output_type": "execute_result"
    }
   ],
   "source": [
    "np.random.randint(0, 100 , size = 10)"
   ]
  },
  {
   "cell_type": "code",
   "execution_count": null,
   "id": "ac530ac1",
   "metadata": {},
   "outputs": [],
   "source": []
  },
  {
   "cell_type": "code",
   "execution_count": 33,
   "id": "efb3517c",
   "metadata": {},
   "outputs": [],
   "source": [
    "m.metrics.print()"
   ]
  },
  {
   "cell_type": "code",
   "execution_count": null,
   "id": "8be0144f",
   "metadata": {},
   "outputs": [],
   "source": []
  },
  {
   "cell_type": "code",
   "execution_count": null,
   "id": "6c42293c",
   "metadata": {},
   "outputs": [],
   "source": []
  },
  {
   "cell_type": "code",
   "execution_count": null,
   "id": "b572edb3",
   "metadata": {},
   "outputs": [],
   "source": []
  },
  {
   "cell_type": "code",
   "execution_count": null,
   "id": "b7a714ce",
   "metadata": {},
   "outputs": [],
   "source": []
  },
  {
   "cell_type": "code",
   "execution_count": null,
   "id": "b528a25a",
   "metadata": {},
   "outputs": [],
   "source": [
    "self.metrics.compute(save=True)"
   ]
  }
 ],
 "metadata": {
  "kernelspec": {
   "display_name": "Python 3",
   "language": "python",
   "name": "python3"
  },
  "language_info": {
   "codemirror_mode": {
    "name": "ipython",
    "version": 3
   },
   "file_extension": ".py",
   "mimetype": "text/x-python",
   "name": "python",
   "nbconvert_exporter": "python",
   "pygments_lexer": "ipython3",
   "version": "3.7.10"
  }
 },
 "nbformat": 4,
 "nbformat_minor": 5
}
