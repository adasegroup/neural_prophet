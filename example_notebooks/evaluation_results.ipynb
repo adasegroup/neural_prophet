{
 "cells": [
  {
   "cell_type": "code",
   "execution_count": 122,
   "id": "831fa132",
   "metadata": {},
   "outputs": [],
   "source": [
    "import pandas as pd\n",
    "import numpy as np\n",
    "from functools import reduce\n",
    "import os"
   ]
  },
  {
   "cell_type": "markdown",
   "id": "5b5c16eb",
   "metadata": {},
   "source": [
    "# Evaluation\n",
    "\n",
    "The main aim of this notebook is to allow users create summary tables from LIBRA benchmarking. An example can be found below."
   ]
  },
  {
   "cell_type": "code",
   "execution_count": 131,
   "id": "b6f5aa37",
   "metadata": {},
   "outputs": [],
   "source": [
    "data_loc = '../results_benchmarking/'\n",
    "\n",
    "usecases = ['economics', 'nature', 'finance', 'human']\n",
    "methods = ['multistep', 'onestep']\n",
    "\n",
    "\n",
    "results = []\n",
    "for usecase in usecases:\n",
    "    current_usecase = []\n",
    "    for method in methods:\n",
    "        res = pd.read_csv(data_loc + f'results_libra_{method}_{usecase}.csv')\n",
    "        res.columns = ['method_metrics'] + list(res.columns[1:])\n",
    "        res['metrics'] = res['method_metrics'].apply(lambda x: x.split('_')[0])\n",
    "        res['model'] = res['method_metrics'].apply(lambda x: x.split('_')[1])\n",
    "        res['method'] = res['method_metrics'].apply(lambda x: x.split('_')[2])\n",
    "        res = res.groupby(['method', 'model', 'metrics']).mean().mean(axis = 1).reset_index()\n",
    "        res.columns = list(res.columns[:-1]) + [f'average_on_{usecase}']\n",
    "        parts = []\n",
    "        for model in res.model.unique():\n",
    "            part = res[res.model == model]\n",
    "            part = part[['metrics', f'average_on_{usecase}']]\n",
    "            part.columns = ['metrics', f'{usecase}_{model}']\n",
    "            part['method'] = method\n",
    "            parts.append(part)\n",
    "        parts = reduce(lambda  left,right: pd.merge(left,\n",
    "                                                        right, on = ['metrics', 'method']), parts)\n",
    "        current_usecase.append(parts)\n",
    "    current_usecase = pd.concat(current_usecase)\n",
    "    results.append(current_usecase)\n",
    "    \n",
    "results = reduce(lambda  left,right: pd.merge(left,\n",
    "                                                        right, on = ['metrics', 'method']), results)\n",
    "results = results[['metrics', 'method'] + [col for col in results.columns if '_' in col]]\n",
    "# results = results"
   ]
  },
  {
   "cell_type": "code",
   "execution_count": null,
   "id": "a693e647",
   "metadata": {},
   "outputs": [],
   "source": []
  },
  {
   "cell_type": "code",
   "execution_count": null,
   "id": "a1ff81c4",
   "metadata": {},
   "outputs": [],
   "source": []
  },
  {
   "cell_type": "code",
   "execution_count": null,
   "id": "c988e259",
   "metadata": {},
   "outputs": [],
   "source": []
  },
  {
   "cell_type": "code",
   "execution_count": 132,
   "id": "fdadf36f",
   "metadata": {},
   "outputs": [
    {
     "name": "stdout",
     "output_type": "stream",
     "text": [
      "\\begin{tabular}{llrrrrr}\n",
      "\\toprule\n",
      "metrics &           method &  economics\\_DeepAR &  economics\\_LSTM &  economics\\_NBeats &  economics\\_NP &  economics\\_TFT \\\\\n",
      "\\midrule\n",
      "   mase & multi\\_step\\_ahead &              1.95 &           26.89 &              2.73 &         66.78 &          55.42 \\\\\n",
      "   moas & multi\\_step\\_ahead &              0.07 &            0.06 &              0.05 &          0.64 &           0.02 \\\\\n",
      "   moes & multi\\_step\\_ahead &              0.39 &            0.19 &              0.32 &          0.41 &           0.09 \\\\\n",
      "   muas & multi\\_step\\_ahead &              0.05 &            0.30 &              0.06 &          1.29 &           0.71 \\\\\n",
      "   mues & multi\\_step\\_ahead &              0.61 &            0.81 &              0.68 &          0.59 &           0.91 \\\\\n",
      "  smape & multi\\_step\\_ahead &             10.54 &           46.34 &             10.44 &       2281.54 &         131.75 \\\\\n",
      "   mase &   one\\_step\\_ahead &              2.97 &           29.45 &              2.23 &         61.12 &          11.72 \\\\\n",
      "   moas &   one\\_step\\_ahead &              0.06 &            0.03 &              0.06 &          0.76 &           0.07 \\\\\n",
      "   moes &   one\\_step\\_ahead &              0.35 &            0.14 &              0.33 &          0.53 &           0.29 \\\\\n",
      "   muas &   one\\_step\\_ahead &              0.06 &            0.37 &              0.06 &          0.54 &           0.46 \\\\\n",
      "   mues &   one\\_step\\_ahead &              0.65 &            0.86 &              0.67 &          0.47 &           0.71 \\\\\n",
      "  smape &   one\\_step\\_ahead &             11.33 &           57.07 &             10.71 &        316.01 &          91.61 \\\\\n",
      "\\bottomrule\n",
      "\\end{tabular}\n",
      "\n",
      "\\begin{tabular}{lllllll}\n",
      "\\toprule\n",
      "metrics &           method & nature\\_DeepAR & nature\\_LSTM & nature\\_NBeats & nature\\_NP & nature\\_TFT \\\\\n",
      "\\midrule\n",
      "   mase & multi\\_step\\_ahead &          1.05 &        1.67 &           0.5 &      5.21 &       2.81 \\\\\n",
      "   moas & multi\\_step\\_ahead &          0.27 &        0.24 &          0.07 &      0.84 &       0.08 \\\\\n",
      "   moes & multi\\_step\\_ahead &          0.46 &        0.33 &          0.56 &      0.54 &       0.34 \\\\\n",
      "   muas & multi\\_step\\_ahead &           0.1 &        0.17 &          0.05 &      0.61 &       0.39 \\\\\n",
      "   mues & multi\\_step\\_ahead &          0.54 &        0.67 &          0.44 &      0.46 &       0.66 \\\\\n",
      "  smape & multi\\_step\\_ahead &         15.11 &       22.16 &          6.12 &    113.25 &      74.52 \\\\\n",
      "   mase &   one\\_step\\_ahead &             - &           - &             - &         - &          - \\\\\n",
      "   moas &   one\\_step\\_ahead &          0.04 &        0.08 &          0.03 &      0.07 &       0.02 \\\\\n",
      "   moes &   one\\_step\\_ahead &          0.43 &        0.39 &          0.48 &      0.21 &       0.27 \\\\\n",
      "   muas &   one\\_step\\_ahead &          0.04 &        0.08 &          0.03 &      0.58 &       0.37 \\\\\n",
      "   mues &   one\\_step\\_ahead &          0.57 &        0.61 &          0.52 &      0.79 &       0.73 \\\\\n",
      "  smape &   one\\_step\\_ahead &          7.93 &       14.94 &          5.74 &    180.59 &      72.83 \\\\\n",
      "\\bottomrule\n",
      "\\end{tabular}\n",
      "\n",
      "\\begin{tabular}{lllllll}\n",
      "\\toprule\n",
      "metrics &           method & finance\\_DeepAR & finance\\_LSTM & finance\\_NBeats & finance\\_NP & finance\\_TFT \\\\\n",
      "\\midrule\n",
      "   mase & multi\\_step\\_ahead &           3.22 &         7.05 &           2.85 &       30.9 &       11.44 \\\\\n",
      "   moas & multi\\_step\\_ahead &           0.38 &         0.27 &           0.35 &       0.75 &        0.07 \\\\\n",
      "   moes & multi\\_step\\_ahead &           0.53 &         0.34 &           0.52 &       0.38 &        0.17 \\\\\n",
      "   muas & multi\\_step\\_ahead &           0.12 &         0.27 &           0.09 &       1.72 &        0.56 \\\\\n",
      "   mues & multi\\_step\\_ahead &           0.47 &         0.66 &           0.48 &       0.62 &        0.83 \\\\\n",
      "  smape & multi\\_step\\_ahead &          26.43 &         44.7 &          24.92 &     591.34 &      105.08 \\\\\n",
      "   mase &   one\\_step\\_ahead &              - &            - &              - &          - &           - \\\\\n",
      "   moas &   one\\_step\\_ahead &           0.43 &         0.33 &           0.38 &       0.82 &        0.32 \\\\\n",
      "   moes &   one\\_step\\_ahead &           0.53 &         0.36 &           0.53 &       0.52 &        0.13 \\\\\n",
      "   muas &   one\\_step\\_ahead &           0.06 &         0.18 &           0.07 &       0.39 &        0.45 \\\\\n",
      "   mues &   one\\_step\\_ahead &           0.47 &         0.64 &           0.47 &       0.48 &        0.87 \\\\\n",
      "  smape &   one\\_step\\_ahead &          24.66 &        37.48 &          24.04 &     539.62 &       94.61 \\\\\n",
      "\\bottomrule\n",
      "\\end{tabular}\n",
      "\n",
      "\\begin{tabular}{lllllll}\n",
      "\\toprule\n",
      "metrics &           method & human\\_DeepAR & human\\_LSTM & human\\_NBeats & human\\_NP & human\\_TFT \\\\\n",
      "\\midrule\n",
      "   mase & multi\\_step\\_ahead &            - &          - &            - &        - &         - \\\\\n",
      "   moas & multi\\_step\\_ahead &         0.73 &       0.73 &         0.28 &     4.26 &       0.2 \\\\\n",
      "   moes & multi\\_step\\_ahead &         0.57 &       0.57 &         0.44 &     0.57 &      0.49 \\\\\n",
      "   muas & multi\\_step\\_ahead &         0.16 &       0.23 &         0.24 &      1.9 &      0.22 \\\\\n",
      "   mues & multi\\_step\\_ahead &         0.43 &       0.43 &         0.56 &     0.43 &      0.51 \\\\\n",
      "  smape & multi\\_step\\_ahead &        58.49 &      59.61 &        51.59 &  1206.33 &     34.42 \\\\\n",
      "   mase &   one\\_step\\_ahead &            - &          - &            - &        - &         - \\\\\n",
      "   moas &   one\\_step\\_ahead &         0.13 &       0.32 &          0.1 &     0.53 &       0.1 \\\\\n",
      "   moes &   one\\_step\\_ahead &         0.55 &       0.56 &         0.44 &     0.43 &      0.41 \\\\\n",
      "   muas &   one\\_step\\_ahead &         0.06 &       0.19 &         0.03 &     1.06 &       0.2 \\\\\n",
      "   mues &   one\\_step\\_ahead &         0.45 &       0.44 &         0.56 &     0.57 &      0.59 \\\\\n",
      "  smape &   one\\_step\\_ahead &        33.72 &      34.95 &        17.82 &   492.24 &      52.7 \\\\\n",
      "\\bottomrule\n",
      "\\end{tabular}\n",
      "\n"
     ]
    }
   ],
   "source": [
    "for usecase in usecases:\n",
    "    print(results[['metrics', 'method']+[col for col in results.columns if usecase in col]].round(2).replace(np.inf, '-').to_latex(\n",
    "        index = False, bold_rows=True))"
   ]
  },
  {
   "cell_type": "code",
   "execution_count": null,
   "id": "4b0460ad",
   "metadata": {},
   "outputs": [],
   "source": []
  },
  {
   "cell_type": "code",
   "execution_count": null,
   "id": "9c64163c",
   "metadata": {},
   "outputs": [],
   "source": []
  },
  {
   "cell_type": "code",
   "execution_count": null,
   "id": "fd9fa6f6",
   "metadata": {},
   "outputs": [],
   "source": []
  },
  {
   "cell_type": "code",
   "execution_count": null,
   "id": "26c7d558",
   "metadata": {},
   "outputs": [],
   "source": []
  },
  {
   "cell_type": "code",
   "execution_count": null,
   "id": "bb57045c",
   "metadata": {},
   "outputs": [],
   "source": []
  },
  {
   "cell_type": "code",
   "execution_count": null,
   "id": "5ab31ef5",
   "metadata": {},
   "outputs": [],
   "source": []
  },
  {
   "cell_type": "code",
   "execution_count": null,
   "id": "eb39afef",
   "metadata": {},
   "outputs": [],
   "source": []
  },
  {
   "cell_type": "code",
   "execution_count": null,
   "id": "83af80ba",
   "metadata": {},
   "outputs": [],
   "source": []
  }
 ],
 "metadata": {
  "kernelspec": {
   "display_name": "Python 3",
   "language": "python",
   "name": "python3"
  },
  "language_info": {
   "codemirror_mode": {
    "name": "ipython",
    "version": 3
   },
   "file_extension": ".py",
   "mimetype": "text/x-python",
   "name": "python",
   "nbconvert_exporter": "python",
   "pygments_lexer": "ipython3",
   "version": "3.7.10"
  }
 },
 "nbformat": 4,
 "nbformat_minor": 5
}
