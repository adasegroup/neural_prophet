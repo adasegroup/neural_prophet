{
 "cells": [
  {
   "cell_type": "code",
   "execution_count": 122,
   "id": "76d8eb6e",
   "metadata": {},
   "outputs": [],
   "source": [
    "import pandas as pd\n",
    "import numpy as np\n",
    "from functools import reduce\n",
    "import os"
   ]
  },
  {
   "cell_type": "markdown",
   "id": "eb99c500",
   "metadata": {},
   "source": [
    "# Evaluation\n",
    "\n",
    "The main aim of this notebook is to allow users create summary tables from LIBRA benchmarking. An example can be found below."
   ]
  },
  {
   "cell_type": "code",
   "execution_count": 135,
   "id": "4eb28913",
   "metadata": {},
   "outputs": [],
   "source": [
    "data_loc = '../results_benchmarking/example/'\n",
    "\n",
    "usecases = ['economics', 'nature', 'finance', 'human']\n",
    "methods = ['multistep', 'onestep']\n",
    "\n",
    "\n",
    "results = []\n",
    "for usecase in usecases:\n",
    "    current_usecase = []\n",
    "    for method in methods:\n",
    "        res = pd.read_csv(data_loc + f'results_libra_{method}_{usecase}.csv')\n",
    "        res.columns = ['method_metrics'] + list(res.columns[1:])\n",
    "        res['metrics'] = res['method_metrics'].apply(lambda x: x.split('_')[0])\n",
    "        res['model'] = res['method_metrics'].apply(lambda x: x.split('_')[1])\n",
    "        res['method'] = res['method_metrics'].apply(lambda x: x.split('_')[2])\n",
    "        res = res.groupby(['method', 'model', 'metrics']).mean().mean(axis = 1).reset_index()\n",
    "        res.columns = list(res.columns[:-1]) + [f'average_on_{usecase}']\n",
    "        parts = []\n",
    "        for model in res.model.unique():\n",
    "            part = res[res.model == model]\n",
    "            part = part[['metrics', f'average_on_{usecase}']]\n",
    "            part.columns = ['metrics', f'{usecase}_{model}']\n",
    "            part['method'] = method\n",
    "            parts.append(part)\n",
    "        parts = reduce(lambda  left,right: pd.merge(left,\n",
    "                                                        right, on = ['metrics', 'method']), parts)\n",
    "        current_usecase.append(parts)\n",
    "    current_usecase = pd.concat(current_usecase)\n",
    "    results.append(current_usecase)\n",
    "    \n",
    "results = reduce(lambda  left,right: pd.merge(left,\n",
    "                                                        right, on = ['metrics', 'method']), results)\n",
    "results = results[['metrics', 'method'] + [col for col in results.columns if '_' in col]]\n",
    "# results = results"
   ]
  },
  {
   "cell_type": "code",
   "execution_count": null,
   "id": "c0df0c4d",
   "metadata": {},
   "outputs": [],
   "source": []
  },
  {
   "cell_type": "code",
   "execution_count": null,
   "id": "176a7921",
   "metadata": {},
   "outputs": [],
   "source": []
  },
  {
   "cell_type": "code",
   "execution_count": null,
   "id": "777a04c2",
   "metadata": {},
   "outputs": [],
   "source": []
  },
  {
   "cell_type": "code",
   "execution_count": 134,
   "id": "4651d6ce",
   "metadata": {},
   "outputs": [
    {
     "name": "stdout",
     "output_type": "stream",
     "text": [
      "\\begin{tabular}{llrrrrr}\n",
      "\\toprule\n",
      "metrics &    method &  economics\\_DeepAR &  economics\\_LSTM &  economics\\_NBeats &  economics\\_NP &  economics\\_TFT \\\\\n",
      "\\midrule\n",
      "   mase & multistep &              1.95 &           26.89 &              2.73 &         66.78 &          55.42 \\\\\n",
      "   moas & multistep &              0.07 &            0.06 &              0.05 &          0.64 &           0.02 \\\\\n",
      "   moes & multistep &              0.39 &            0.19 &              0.32 &          0.41 &           0.09 \\\\\n",
      "   muas & multistep &              0.05 &            0.30 &              0.06 &          1.29 &           0.71 \\\\\n",
      "   mues & multistep &              0.61 &            0.81 &              0.68 &          0.59 &           0.91 \\\\\n",
      "  smape & multistep &             10.54 &           46.34 &             10.44 &       2281.54 &         131.75 \\\\\n",
      "   mase &   onestep &              2.97 &           29.45 &              2.23 &         61.12 &          11.72 \\\\\n",
      "   moas &   onestep &              0.06 &            0.03 &              0.06 &          0.76 &           0.07 \\\\\n",
      "   moes &   onestep &              0.35 &            0.14 &              0.33 &          0.53 &           0.29 \\\\\n",
      "   muas &   onestep &              0.06 &            0.37 &              0.06 &          0.54 &           0.46 \\\\\n",
      "   mues &   onestep &              0.65 &            0.86 &              0.67 &          0.47 &           0.71 \\\\\n",
      "  smape &   onestep &             11.33 &           57.07 &             10.71 &        316.01 &          91.61 \\\\\n",
      "\\bottomrule\n",
      "\\end{tabular}\n",
      "\n",
      "\\begin{tabular}{lllllll}\n",
      "\\toprule\n",
      "metrics &    method & nature\\_DeepAR & nature\\_LSTM & nature\\_NBeats & nature\\_NP & nature\\_TFT \\\\\n",
      "\\midrule\n",
      "   mase & multistep &          1.05 &        1.67 &           0.5 &      5.21 &       2.81 \\\\\n",
      "   moas & multistep &          0.27 &        0.24 &          0.07 &      0.84 &       0.08 \\\\\n",
      "   moes & multistep &          0.46 &        0.33 &          0.56 &      0.54 &       0.34 \\\\\n",
      "   muas & multistep &           0.1 &        0.17 &          0.05 &      0.61 &       0.39 \\\\\n",
      "   mues & multistep &          0.54 &        0.67 &          0.44 &      0.46 &       0.66 \\\\\n",
      "  smape & multistep &         15.11 &       22.16 &          6.12 &    113.25 &      74.52 \\\\\n",
      "   mase &   onestep &             - &           - &             - &         - &          - \\\\\n",
      "   moas &   onestep &          0.04 &        0.08 &          0.03 &      0.07 &       0.02 \\\\\n",
      "   moes &   onestep &          0.43 &        0.39 &          0.48 &      0.21 &       0.27 \\\\\n",
      "   muas &   onestep &          0.04 &        0.08 &          0.03 &      0.58 &       0.37 \\\\\n",
      "   mues &   onestep &          0.57 &        0.61 &          0.52 &      0.79 &       0.73 \\\\\n",
      "  smape &   onestep &          7.93 &       14.94 &          5.74 &    180.59 &      72.83 \\\\\n",
      "\\bottomrule\n",
      "\\end{tabular}\n",
      "\n",
      "\\begin{tabular}{lllllll}\n",
      "\\toprule\n",
      "metrics &    method & finance\\_DeepAR & finance\\_LSTM & finance\\_NBeats & finance\\_NP & finance\\_TFT \\\\\n",
      "\\midrule\n",
      "   mase & multistep &           3.22 &         7.05 &           2.85 &       30.9 &       11.44 \\\\\n",
      "   moas & multistep &           0.38 &         0.27 &           0.35 &       0.75 &        0.07 \\\\\n",
      "   moes & multistep &           0.53 &         0.34 &           0.52 &       0.38 &        0.17 \\\\\n",
      "   muas & multistep &           0.12 &         0.27 &           0.09 &       1.72 &        0.56 \\\\\n",
      "   mues & multistep &           0.47 &         0.66 &           0.48 &       0.62 &        0.83 \\\\\n",
      "  smape & multistep &          26.43 &         44.7 &          24.92 &     591.34 &      105.08 \\\\\n",
      "   mase &   onestep &              - &            - &              - &          - &           - \\\\\n",
      "   moas &   onestep &           0.43 &         0.33 &           0.38 &       0.82 &        0.32 \\\\\n",
      "   moes &   onestep &           0.53 &         0.36 &           0.53 &       0.52 &        0.13 \\\\\n",
      "   muas &   onestep &           0.06 &         0.18 &           0.07 &       0.39 &        0.45 \\\\\n",
      "   mues &   onestep &           0.47 &         0.64 &           0.47 &       0.48 &        0.87 \\\\\n",
      "  smape &   onestep &          24.66 &        37.48 &          24.04 &     539.62 &       94.61 \\\\\n",
      "\\bottomrule\n",
      "\\end{tabular}\n",
      "\n",
      "\\begin{tabular}{lllllll}\n",
      "\\toprule\n",
      "metrics &    method & human\\_DeepAR & human\\_LSTM & human\\_NBeats & human\\_NP & human\\_TFT \\\\\n",
      "\\midrule\n",
      "   mase & multistep &            - &          - &            - &        - &         - \\\\\n",
      "   moas & multistep &         0.73 &       0.73 &         0.28 &     4.26 &       0.2 \\\\\n",
      "   moes & multistep &         0.57 &       0.57 &         0.44 &     0.57 &      0.49 \\\\\n",
      "   muas & multistep &         0.16 &       0.23 &         0.24 &      1.9 &      0.22 \\\\\n",
      "   mues & multistep &         0.43 &       0.43 &         0.56 &     0.43 &      0.51 \\\\\n",
      "  smape & multistep &        58.49 &      59.61 &        51.59 &  1206.33 &     34.42 \\\\\n",
      "   mase &   onestep &            - &          - &            - &        - &         - \\\\\n",
      "   moas &   onestep &         0.13 &       0.32 &          0.1 &     0.53 &       0.1 \\\\\n",
      "   moes &   onestep &         0.55 &       0.56 &         0.44 &     0.43 &      0.41 \\\\\n",
      "   muas &   onestep &         0.06 &       0.19 &         0.03 &     1.06 &       0.2 \\\\\n",
      "   mues &   onestep &         0.45 &       0.44 &         0.56 &     0.57 &      0.59 \\\\\n",
      "  smape &   onestep &        33.72 &      34.95 &        17.82 &   492.24 &      52.7 \\\\\n",
      "\\bottomrule\n",
      "\\end{tabular}\n",
      "\n"
     ]
    }
   ],
   "source": [
    "for usecase in usecases:\n",
    "    print(results[['metrics', 'method']+[col for col in results.columns if usecase in col]].round(2).replace(np.inf, '-').to_latex(\n",
    "        index = False, bold_rows=True))"
   ]
  },
  {
   "cell_type": "code",
   "execution_count": null,
   "id": "fa2d462d",
   "metadata": {},
   "outputs": [],
   "source": []
  },
  {
   "cell_type": "code",
   "execution_count": null,
   "id": "2da9fda6",
   "metadata": {},
   "outputs": [],
   "source": []
  },
  {
   "cell_type": "code",
   "execution_count": null,
   "id": "8cb1b7a0",
   "metadata": {},
   "outputs": [],
   "source": []
  },
  {
   "cell_type": "code",
   "execution_count": null,
   "id": "1ff6a81a",
   "metadata": {},
   "outputs": [],
   "source": []
  },
  {
   "cell_type": "code",
   "execution_count": null,
   "id": "1f4e9123",
   "metadata": {},
   "outputs": [],
   "source": []
  },
  {
   "cell_type": "code",
   "execution_count": null,
   "id": "d6d405a8",
   "metadata": {},
   "outputs": [],
   "source": []
  },
  {
   "cell_type": "code",
   "execution_count": null,
   "id": "f2b2455c",
   "metadata": {},
   "outputs": [],
   "source": []
  },
  {
   "cell_type": "code",
   "execution_count": null,
   "id": "0a5082b2",
   "metadata": {},
   "outputs": [],
   "source": []
  }
 ],
 "metadata": {
  "kernelspec": {
   "display_name": "Python 3",
   "language": "python",
   "name": "python3"
  },
  "language_info": {
   "codemirror_mode": {
    "name": "ipython",
    "version": 3
   },
   "file_extension": ".py",
   "mimetype": "text/x-python",
   "name": "python",
   "nbconvert_exporter": "python",
   "pygments_lexer": "ipython3",
   "version": "3.7.10"
  }
 },
 "nbformat": 4,
 "nbformat_minor": 5
}
