{
 "cells": [
  {
   "cell_type": "markdown",
   "metadata": {},
   "source": [
    "[![Open In Colab](https://colab.research.google.com/assets/colab-badge.svg)](https://colab.research.google.com/github/ourownstory/neural_prophet/blob/master/example_notebooks/sub_daily_data_yosemite_temps.ipynb)"
   ]
  },
  {
   "cell_type": "markdown",
   "metadata": {},
   "source": [
    "# Sub-daily data\n",
    "NeuralProphet can make forecasts for time series with sub-daily observations by passing in a dataframe with timestamps in the ds column. The format of the timestamps should be `YYYY-MM-DD HH:MM:SS` - see the example csv [here](https://github.com/ourownstory/neural_prophet/blob/master/example_data/yosemite_temps.csv). When sub-daily data are used, daily seasonality will automatically be fit. \n",
    "\n",
    "Here we fit NeuralProphet to data with 5-minute resolution (daily temperatures at Yosemite). "
   ]
  },
  {
   "cell_type": "code",
   "execution_count": 1,
   "metadata": {},
   "outputs": [],
   "source": [
    "if 'google.colab' in str(get_ipython()):\n",
    "    !pip install git+https://github.com/ourownstory/neural_prophet.git # may take a while\n",
    "    #!pip install neuralprophet # much faster, but may not have the latest upgrades/bugfixes\n",
    "    data_location = \"https://raw.githubusercontent.com/ourownstory/neural_prophet/master/\"\n",
    "else:\n",
    "    data_location = \"../\""
   ]
  },
  {
   "cell_type": "code",
   "execution_count": 2,
   "metadata": {},
   "outputs": [],
   "source": [
    "import pandas as pd\n",
    "from neuralprophet import NeuralProphet, set_log_level\n",
    "# set_log_level(\"ERROR\")\n",
    "df = pd.read_csv(data_location + \"example_data/yosemite_temps.csv\")"
   ]
  },
  {
   "cell_type": "markdown",
   "metadata": {},
   "source": [
    "Now we will attempt to forecast the next 7 days. The `5min` data resulution means that we have `60/5*24=288` daily values. Thus, we want to forecast `7*288` periods ahead.\n",
    "\n",
    "Using some common sense, we set:\n",
    "* First, we disable weekly seasonality, as nature does not follow the human week's calendar.\n",
    "* Second, we disable changepoints, as the dataset only contains two months of data"
   ]
  },
  {
   "cell_type": "code",
   "execution_count": null,
   "metadata": {},
   "outputs": [
    {
     "name": "stderr",
     "output_type": "stream",
     "text": [
      "INFO - (NP.forecaster._handle_missing_data) - dropped 12 NAN row in 'y'\n",
      "INFO - (NP.utils.set_auto_seasonalities) - Disabling yearly seasonality. Run NeuralProphet with yearly_seasonality=True to override this.\n",
      "INFO - (NP.config.set_auto_batch_epoch) - Auto-set batch_size to 64\n",
      "INFO - (NP.config.set_auto_batch_epoch) - Auto-set epochs to 64\n"
     ]
    },
    {
     "data": {
      "application/vnd.jupyter.widget-view+json": {
       "model_id": "edc173ce4c7044f6b14fe680e28e6934",
       "version_major": 2,
       "version_minor": 0
      },
      "text/plain": [
       "  0%|          | 0/313 [00:00<?, ?it/s]"
      ]
     },
     "metadata": {},
     "output_type": "display_data"
    },
    {
     "name": "stderr",
     "output_type": "stream",
     "text": [
      "INFO - (NP.utils_torch.lr_range_test) - lr-range-test results: steep: 3.26E-02, min: 4.64E-01\n",
      "INFO - (NP.utils_torch.lr_range_test) - learning rate range test selected lr: 1.91E-01\n",
      "  0%|                                                                                           | 0/64 [00:00<?, ?it/s]GPU available: False, used: False\n",
      "TPU available: False, using: 0 TPU cores\n",
      "WARNING - (py.warnings._showwarnmsg) - D:\\ProgramData\\anaconda3\\envs\\np3\\lib\\site-packages\\pytorch_lightning\\utilities\\distributed.py:68: UserWarning: you defined a validation_step but have no val_dataloader. Skipping validation loop\n",
      "  warnings.warn(*args, **kwargs)\n",
      "\n",
      "\n",
      "  | Name          | Type          | Params\n",
      "------------------------------------------------\n",
      "0 | season_params | ParameterDict | 12    \n",
      "1 | loss_func     | SmoothL1Loss  | 0     \n",
      "------------------------------------------------\n",
      "14        Trainable params\n",
      "0         Non-trainable params\n",
      "14        Total params\n",
      "0.000     Total estimated model params size (MB)\n"
     ]
    },
    {
     "data": {
      "application/vnd.jupyter.widget-view+json": {
       "model_id": "52ab55fbd8e94c6a94de1ddba0151bfa",
       "version_major": 2,
       "version_minor": 0
      },
      "text/plain": [
       "Validation sanity check: 0it [00:00, ?it/s]"
      ]
     },
     "metadata": {},
     "output_type": "display_data"
    },
    {
     "data": {
      "application/vnd.jupyter.widget-view+json": {
       "model_id": "1438907f3bb340eeba09a15c9b99b1a6",
       "version_major": 2,
       "version_minor": 0
      },
      "text/plain": [
       "Training: 0it [00:00, ?it/s]"
      ]
     },
     "metadata": {},
     "output_type": "display_data"
    }
   ],
   "source": [
    "m = NeuralProphet(\n",
    "    n_changepoints=0,\n",
    "    weekly_seasonality=False,\n",
    ")\n",
    "metrics = m.fit(df, freq='5min')\n",
    "future = m.make_future_dataframe(df, periods=7*288, n_historic_predictions=len(df))\n",
    "forecast = m.predict(future)\n",
    "fig = m.plot(forecast)\n",
    "# fig_comp = m.plot_components(forecast)\n",
    "fig_param = m.plot_parameters()"
   ]
  },
  {
   "cell_type": "markdown",
   "metadata": {},
   "source": [
    "The daily seasonality seems to make sense, when we account for the time being recorded in GMT, while Yosemite local time is GMT-8.\n",
    "\n",
    "## Improving trend and seasonality \n",
    "As we have `288` daily values recorded, we can increase the flexibility of `daily_seasonality`, without danger of overfitting. \n",
    "\n",
    "Further, we may want to re-visit our decision to disable changepoints, as the data clearly shows changes in trend, as is typical with the weather. We make the following changes:\n",
    "* increase the `changepoints_range`, as the we are doing a short-term prediction\n",
    "* inrease the `n_changepoints` to allow to fit to the sudden changes in trend\n",
    "* carefully regularize the trend changepoints by setting `trend_reg` in order to avoid overfitting"
   ]
  },
  {
   "cell_type": "code",
   "execution_count": null,
   "metadata": {},
   "outputs": [],
   "source": [
    "m = NeuralProphet(\n",
    "    changepoints_range=0.95,\n",
    "    n_changepoints=50,\n",
    "    trend_reg=1.5,\n",
    "    weekly_seasonality=False,\n",
    "    daily_seasonality=10,\n",
    ")\n",
    "metrics = m.fit(df, freq='5min')\n",
    "future = m.make_future_dataframe(df, periods=60//5*24*7, n_historic_predictions=len(df))\n",
    "forecast = m.predict(future)\n",
    "fig = m.plot(forecast)\n",
    "# fig_comp = m.plot_components(forecast)\n",
    "fig_param = m.plot_parameters()"
   ]
  },
  {
   "cell_type": "code",
   "execution_count": null,
   "metadata": {},
   "outputs": [],
   "source": []
  },
  {
   "cell_type": "code",
   "execution_count": null,
   "metadata": {},
   "outputs": [],
   "source": []
  },
  {
   "cell_type": "code",
   "execution_count": null,
   "metadata": {},
   "outputs": [],
   "source": []
  }
 ],
 "metadata": {
  "kernelspec": {
   "display_name": "Python [conda env:np3]",
   "language": "python",
   "name": "conda-env-np3-py"
  },
  "language_info": {
   "codemirror_mode": {
    "name": "ipython",
    "version": 3
   },
   "file_extension": ".py",
   "mimetype": "text/x-python",
   "name": "python",
   "nbconvert_exporter": "python",
   "pygments_lexer": "ipython3",
   "version": "3.8.10"
  }
 },
 "nbformat": 4,
 "nbformat_minor": 4
}
